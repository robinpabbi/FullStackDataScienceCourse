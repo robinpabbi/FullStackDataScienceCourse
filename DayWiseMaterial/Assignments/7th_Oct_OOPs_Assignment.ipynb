{
 "cells": [
  {
   "cell_type": "markdown",
   "metadata": {},
   "source": [
    "## OOPS Assignment"
   ]
  },
  {
   "cell_type": "markdown",
   "metadata": {},
   "source": [
    "### Problem 1: Bank Account Create a class representing a bank account with attributes like account number, account holder name, and balance. Implement methods to deposit and withdraw money from the account."
   ]
  },
  {
   "cell_type": "code",
   "execution_count": 6,
   "metadata": {},
   "outputs": [
    {
     "name": "stdout",
     "output_type": "stream",
     "text": [
      "Deposit of $100 is successful. New balance in your account is $10100\n",
      "Deposit of $50 is successful. New balance in your account is $10150\n",
      "\n",
      "Deposit of $1000 is successful. New balance in your account is $1000\n",
      "Deposit of $200 is successful. New balance in your account is $1200\n",
      "Insufficient balance in your account. Can not withdraw 1300.\n"
     ]
    }
   ],
   "source": [
    "class BankAccount:\n",
    "    # Dunder method for class object creation with optional parameter (defaul value of balance = 0, opening balance = 0 by default)\n",
    "    def __init__(self, account_number, account_holder_name, balance=0):\n",
    "        # Attribute account_number\n",
    "        self.account_number = account_number\n",
    "        # Attribute account_holder_name\n",
    "        self.account_holder_name = account_holder_name\n",
    "        # Attribute balance (default value is 0)\n",
    "        self.balance = balance\n",
    "\n",
    "    def deposit(self, amount):\n",
    "        self.balance += amount\n",
    "        return f\"Deposit of ${amount} is successful. New balance in your account is ${self.balance}\"\n",
    "\n",
    "    def withdraw(self, amount):\n",
    "        if self.balance >= amount:\n",
    "            self.balance -= amount\n",
    "            return f\"Withdrawal of ${amount} is successful. New balance in your account is ${self.balance}\"\n",
    "        else:\n",
    "            return f\"Insufficient balance in your account. Can not withdraw {amount}.\"\n",
    "        \n",
    "\n",
    "# Create 2 accounts\n",
    "account1 = BankAccount(\"HDFC123456789\", \"Robin Pabbi\", 10000)\n",
    "account2 = BankAccount(\"HDFC123434348\", \"Myraa\")\n",
    "\n",
    "# Deposit money and withdraw from account 1\n",
    "print(account1.deposit(100))\n",
    "print(account1.deposit(50))\n",
    "\n",
    "print()\n",
    "\n",
    "# Deposit money and withdraw from account 2\n",
    "print(account2.deposit(1000))\n",
    "print(account2.deposit(200))\n",
    "\n",
    "# Try withdraw more than balance\n",
    "print(account2.withdraw(1300))"
   ]
  },
  {
   "cell_type": "markdown",
   "metadata": {},
   "source": [
    "### Problem 2: Employee Management Create a class representing an employee with attributes like employee ID, name, and salary. Implement methods to calculate the yearly bonus and display employee details."
   ]
  },
  {
   "cell_type": "code",
   "execution_count": 10,
   "metadata": {},
   "outputs": [
    {
     "name": "stdout",
     "output_type": "stream",
     "text": [
      "Employee 1:\n",
      "Employee ID: 1\n",
      "Name: Robin Pabbi\n",
      "Salary: $250000\n",
      "\n",
      "Employee 2:\n",
      "Employee ID: 2\n",
      "Name: XYZ\n",
      "Salary: $60000\n",
      "\n",
      "Employee 3:\n",
      "Employee ID: 3\n",
      "Name: \n",
      "Salary: $150000\n",
      "\n",
      "Bonus of Employee 1 is 50000.0\n",
      "Bonus of Employee 2 is 9000.0\n",
      "Bonus of Employee 3 is 15000.0\n"
     ]
    }
   ],
   "source": [
    "class Employee:\n",
    "    def __init__(self, employee_id, name, salary):\n",
    "        # Attribute employee_id\n",
    "        self.employee_id = employee_id\n",
    "        # Attribute name\n",
    "        self.name = name\n",
    "        # Attribute salary\n",
    "        self.salary = salary\n",
    "\n",
    "    def calculate_annual_bonus(self, bonus_percentage):\n",
    "        bonus = (bonus_percentage / 100) * self.salary\n",
    "        return bonus\n",
    "\n",
    "    def display_details(self):\n",
    "        print(f\"Employee ID: {self.employee_id}\\nName: {self.name}\\nSalary: ${self.salary}\")\n",
    "\n",
    "\n",
    "# Create employee\n",
    "employee1 = Employee(1, 'Robin Pabbi', 250000)\n",
    "employee2 = Employee(2, 'XYZ', 60000)\n",
    "employee3 = Employee(3, '', 150000)\n",
    "\n",
    "# Print details of the employees\n",
    "print('Employee 1:')\n",
    "employee1.display_details()\n",
    "print()\n",
    "\n",
    "print('Employee 2:')\n",
    "employee2.display_details()\n",
    "print()\n",
    "\n",
    "print('Employee 3:')\n",
    "employee3.display_details()\n",
    "print()\n",
    "\n",
    "# Compute Bonus details for these employees\n",
    "bonus_emp1 = employee1.calculate_annual_bonus(20)\n",
    "bonus_emp2 = employee2.calculate_annual_bonus(15)\n",
    "bonus_emp3 = employee3.calculate_annual_bonus(10)\n",
    "\n",
    "# Print bonuses\n",
    "print(f'Bonus of Employee 1 is {bonus_emp1}')\n",
    "print(f'Bonus of Employee 2 is {bonus_emp2}')\n",
    "print(f'Bonus of Employee 3 is {bonus_emp3}')"
   ]
  },
  {
   "cell_type": "markdown",
   "metadata": {},
   "source": [
    "### Problem 3: Vehicle Rental Create a class representing a vehicle rental system. Implement methods to rent a vehicle, return a vehicle, and display available vehicles."
   ]
  },
  {
   "cell_type": "code",
   "execution_count": 14,
   "metadata": {},
   "outputs": [
    {
     "name": "stdout",
     "output_type": "stream",
     "text": [
      "You successfully rented a HatchBack.\n",
      "You successfully rented a HatchBack.\n",
      "You successfully rented a SUV.\n",
      "You successfully rented a HatchBack.\n",
      "You successfully rented a SUV.\n",
      "You successfully rented a SUV.\n",
      "You successfully rented a Luxury Car.\n",
      "We do not provide rental of Sports Car.\n",
      "Available vehicles: {'Sedan': 10, 'SUV': 12, 'HatchBack': 17, 'Luxury Car': 9}\n",
      "You successfully returned the HatchBack.\n",
      "You successfully returned the SUV.\n",
      "You successfully returned the SUV.\n",
      "You successfully returned the Luxury Car.\n",
      "We do not provide rental of Sedan.\n",
      "We do not provide rental of Sports Car.\n",
      "Available vehicles: {'Sedan': 10, 'SUV': 14, 'HatchBack': 18, 'Luxury Car': 10}\n"
     ]
    }
   ],
   "source": [
    "class VehicleRentalSystem:\n",
    "    # Initialize the object of the rental system default available types in dictionary with count\n",
    "    def __init__(self):\n",
    "        self.available_vehicles = {'Sedan': 10, 'SUV': 15, 'HatchBack': 20, 'Luxury Car': 10}\n",
    "        self.rented_vehicles = {'Sedan': 0, 'SUV': 0, 'Scooter': 0, 'Luxury Car': 10, 'HatchBack': 20,}\n",
    "\n",
    "    def rent_vehicle(self, vehicle_type):\n",
    "        if self.available_vehicles.get(vehicle_type):\n",
    "            if self.available_vehicles[vehicle_type] > 0:\n",
    "                self.available_vehicles[vehicle_type] -= 1\n",
    "                self.rented_vehicles[vehicle_type] += 1\n",
    "                return f\"You successfully rented a {vehicle_type}.\"\n",
    "            else:\n",
    "                return f\"No {vehicle_type}s available for rent.\"\n",
    "        else:\n",
    "            return f\"We do not provide rental of {vehicle_type}.\"\n",
    "\n",
    "    def return_vehicle(self, vehicle_type):\n",
    "        if self.rented_vehicles.get(vehicle_type):\n",
    "            if self.rented_vehicles[vehicle_type] > 0:\n",
    "                self.available_vehicles[vehicle_type] += 1\n",
    "                self.rented_vehicles[vehicle_type] -= 1\n",
    "                return f\"You successfully returned the {vehicle_type}.\"\n",
    "            else:\n",
    "                return f\"You do not have any {vehicle_type}s rented.\"\n",
    "        else:\n",
    "            return f\"We do not provide rental of {vehicle_type}.\"\n",
    "\n",
    "    def display_available_vehicles(self):\n",
    "        print(f\"Available vehicles: {self.available_vehicles}\")\n",
    "\n",
    "\n",
    "# Initialize Vehicle rental system object\n",
    "car_rental_system = VehicleRentalSystem()\n",
    "\n",
    "# Operations and output as below\n",
    "print(car_rental_system.rent_vehicle('HatchBack'))\n",
    "print(car_rental_system.rent_vehicle('HatchBack'))\n",
    "print(car_rental_system.rent_vehicle('SUV'))\n",
    "print(car_rental_system.rent_vehicle('HatchBack'))\n",
    "print(car_rental_system.rent_vehicle('SUV'))\n",
    "print(car_rental_system.rent_vehicle('SUV'))\n",
    "print(car_rental_system.rent_vehicle('Luxury Car'))\n",
    "print(car_rental_system.rent_vehicle('Sports Car'))\n",
    "\n",
    "car_rental_system.display_available_vehicles()\n",
    "\n",
    "print(car_rental_system.return_vehicle('HatchBack'))\n",
    "print(car_rental_system.return_vehicle('SUV'))\n",
    "print(car_rental_system.return_vehicle('SUV'))\n",
    "print(car_rental_system.return_vehicle('Luxury Car'))\n",
    "print(car_rental_system.return_vehicle('Sedan'))\n",
    "print(car_rental_system.return_vehicle('Sports Car'))\n",
    "\n",
    "car_rental_system.display_available_vehicles()\n"
   ]
  },
  {
   "cell_type": "markdown",
   "metadata": {},
   "source": [
    "### Problem 4: Library Catalog Create classes representing a library and a book. Implement methods to add books to the library, borrow books, and display available books."
   ]
  },
  {
   "cell_type": "code",
   "execution_count": 17,
   "metadata": {},
   "outputs": [],
   "source": [
    "# Class book to represent a book in library\n",
    "class Book:\n",
    "    # Init duunder with default value of is_borrowed = False\n",
    "    def __init__(self, title, author, ISBN, is_borrowed = False):\n",
    "        self.title = title\n",
    "        self.author = author\n",
    "        self.ISBN = ISBN\n",
    "        self.is_borrowed = is_borrowed\n",
    "\n",
    "    def borrow(self):\n",
    "        if not self.is_borrowed:\n",
    "            self.is_borrowed = True\n",
    "            return f\"You have successfully borrowed '{self.title}' by {self.author}.\"\n",
    "        else:\n",
    "            return f\"'{self.title}' is already borrowed.\"\n",
    "\n",
    "    def return_book(self):\n",
    "        if self.is_borrowed:\n",
    "            self.is_borrowed = False\n",
    "            return f\"You have successfully returned '{self.title}' by {self.author}.\"\n",
    "        else:\n",
    "            return f\"'{self.title}' is not currently borrowed.\"\n",
    "\n",
    "    # dunder method for str of book\n",
    "    def __str__(self):\n",
    "        return f\"Title: {self.title}, Author: {self.author}, ISBN: {self.ISBN}\"\n",
    "\n",
    "\n",
    "# Class to represent a Book library\n",
    "class BookLibrary:\n",
    "    # Initialize the Book Library with empty list\n",
    "    def __init__(self):\n",
    "        self.books = []\n",
    "\n",
    "    def add_book(self, book):\n",
    "        self.books.append(book)\n",
    "\n",
    "    def borrow_book(self, ISBN):\n",
    "        for book in self.books:\n",
    "            if book.ISBN == ISBN:\n",
    "                return book.borrow()\n",
    "        return \"Book with specified ISBN not found.\"\n",
    "\n",
    "    def return_book(self, ISBN):\n",
    "        for book in self.books:\n",
    "            if book.ISBN == ISBN:\n",
    "                return book.return_book()\n",
    "        return \"Book with specified ISBN not found.\"\n",
    "\n",
    "    def available_books(self):\n",
    "        available_books = [book for book in self.books if not book.is_borrowed]\n",
    "        if available_books:\n",
    "            return \"\\n\".join(str(book) for book in available_books)\n",
    "        else:\n",
    "            return \"No available books in the library.\""
   ]
  },
  {
   "cell_type": "code",
   "execution_count": 21,
   "metadata": {},
   "outputs": [
    {
     "name": "stdout",
     "output_type": "stream",
     "text": [
      "Available books are as below:\n",
      "Title: Written in the Bones, Author: John, ISBN: 12333345878\n",
      "Title: Code, Author: Charles Petzold, ISBN: 12333345874\n",
      "Title: Clean Code, Author: Robert C. Martin, ISBN: 12333345854\n",
      "You have successfully borrowed 'Written in the Bones' by John.\n",
      "You have successfully borrowed 'Code' by Charles Petzold.\n",
      "Available books are as below:\n",
      "Title: Clean Code, Author: Robert C. Martin, ISBN: 12333345854\n",
      "You have successfully returned 'Written in the Bones' by John.\n",
      "'Code' is already borrowed.\n",
      "Available books are as below:\n",
      "Title: Written in the Bones, Author: John, ISBN: 12333345878\n",
      "Title: Clean Code, Author: Robert C. Martin, ISBN: 12333345854\n"
     ]
    }
   ],
   "source": [
    "# Create a object of library\n",
    "library = BookLibrary()\n",
    "\n",
    "# Create books objects\n",
    "book1 = Book(\"Written in the Bones\", \"John\", \"12333345878\")\n",
    "book2 = Book(\"Code\", \"Charles Petzold\", \"12333345874\")\n",
    "book3 = Book(\"Clean Code\", \"Robert C. Martin\", \"12333345854\")\n",
    "\n",
    "# Add books to library\n",
    "library.add_book(book1)\n",
    "library.add_book(book2)\n",
    "library.add_book(book3)\n",
    "\n",
    "# Print Lib\n",
    "print('Available books are as below:')\n",
    "print(library.available_books())\n",
    "\n",
    "# OPerations on library\n",
    "\n",
    "print(library.borrow_book(\"12333345878\"))\n",
    "print(library.borrow_book(\"12333345874\"))\n",
    "\n",
    "print('Available books are as below:')\n",
    "print(library.available_books())\n",
    "\n",
    "print(library.return_book(\"12333345878\"))\n",
    "print(library.borrow_book(\"12333345874\"))\n",
    "\n",
    "print('Available books are as below:')\n",
    "print(library.available_books())"
   ]
  },
  {
   "cell_type": "markdown",
   "metadata": {},
   "source": [
    "### Problem 5: Product Inventory Create classes representing a product and an inventory system. Implement methods to add products to the inventory, update product quantity, and display available products."
   ]
  },
  {
   "cell_type": "code",
   "execution_count": 26,
   "metadata": {},
   "outputs": [],
   "source": [
    "# Class to represent Product in the Inventory System\n",
    "class Product:\n",
    "    def __init__(self, product_id, name, price, quantity=0):\n",
    "        self.product_id = product_id\n",
    "        self.name = name\n",
    "        self.price = price\n",
    "        self.quantity = quantity\n",
    "\n",
    "    def update_quantity(self, new_quantity):\n",
    "        self.quantity = new_quantity\n",
    "    \n",
    "    # Dunder method for str of product - used for printing product details\n",
    "    def __str__(self):\n",
    "        return f\"Product ID: {self.product_id}, Name: {self.name}, Price: ${self.price}, Quantity: {self.quantity}\"\n",
    "\n",
    "# Class to represent Inventory System\n",
    "class InventorySystem:\n",
    "    def __init__(self):\n",
    "        self.products = []\n",
    "\n",
    "    def add_product(self, product):\n",
    "        self.products.append(product)\n",
    "\n",
    "    def update_quantity(self, product_id, new_quantity):\n",
    "        for product in self.products:\n",
    "            if product.product_id == product_id:\n",
    "                product.update_quantity(new_quantity)\n",
    "                return f\"Quantity updated for Product ID {product_id}.\"\n",
    "        return f\"Product ID {product_id} not found.\"\n",
    "\n",
    "    def display_available_products(self):\n",
    "        print('Inventory is as below: ')\n",
    "        if self.products:\n",
    "            print(\"\\n\".join(str(product) for product in self.products))\n",
    "        else:\n",
    "            print(\"No products available in the inventory.\")\n",
    "        print()"
   ]
  },
  {
   "cell_type": "code",
   "execution_count": 27,
   "metadata": {},
   "outputs": [
    {
     "name": "stdout",
     "output_type": "stream",
     "text": [
      "Inventory is as below: \n",
      "Product ID: 1, Name: MacBook, Price: $999.99, Quantity: 10\n",
      "Product ID: 2, Name: iPhone, Price: $699.99, Quantity: 20\n",
      "Product ID: 3, Name: AirPod, Price: $399.99, Quantity: 20\n",
      "Product ID: 4, Name: Mobile Charger, Price: $199.99, Quantity: 0\n",
      "\n",
      "Quantity updated for Product ID 1.\n",
      "Quantity updated for Product ID 3.\n",
      "Quantity updated for Product ID 4.\n",
      "Inventory is as below: \n",
      "Product ID: 1, Name: MacBook, Price: $999.99, Quantity: 8\n",
      "Product ID: 2, Name: iPhone, Price: $699.99, Quantity: 20\n",
      "Product ID: 3, Name: AirPod, Price: $399.99, Quantity: 15\n",
      "Product ID: 4, Name: Mobile Charger, Price: $199.99, Quantity: 15\n",
      "\n"
     ]
    }
   ],
   "source": [
    "# Create object of inventory system\n",
    "inventory_system = InventorySystem()\n",
    "\n",
    "# Create Products\n",
    "product1 = Product(1, \"MacBook\", 999.99, 10)\n",
    "product2 = Product(2, \"iPhone\", 699.99, 20)\n",
    "product3 = Product(3, \"AirPod\", 399.99, 20)\n",
    "product4 = Product(4, \"Mobile Charger\", 199.99)\n",
    "\n",
    "# Add products to the inventory\n",
    "inventory_system.add_product(product1)\n",
    "inventory_system.add_product(product2)\n",
    "inventory_system.add_product(product3)\n",
    "inventory_system.add_product(product4)\n",
    "\n",
    "inventory_system.display_available_products()\n",
    "\n",
    "print(inventory_system.update_quantity(1, 8))\n",
    "print(inventory_system.update_quantity(3, 15))\n",
    "print(inventory_system.update_quantity(4, 15))\n",
    "\n",
    "inventory_system.display_available_products()"
   ]
  },
  {
   "cell_type": "markdown",
   "metadata": {},
   "source": [
    "### Problem 6: Shape Calculation Create a class representing a shape with attributes like length, width, and height. Implement methods to calculate the area and perimeter of the shape."
   ]
  },
  {
   "cell_type": "code",
   "execution_count": 29,
   "metadata": {},
   "outputs": [],
   "source": [
    "# Class representing a Shape\n",
    "class Shape:\n",
    "    # Initialize dunder method\n",
    "    # Width and height have default value as None\n",
    "    # Assumption - if only length is given then it is square with all same same dimensions\n",
    "    # if only length and width is given then it is rectangle\n",
    "    # If three are given then it is cuboid\n",
    "    def __init__(self, length, width=None, height=None):\n",
    "        self.length = length\n",
    "        self.width = width\n",
    "        self.height = height\n",
    "\n",
    "    def calculate_area(self):\n",
    "        if self.width is None and self.height is None:\n",
    "            return f\"The area of the square is: {self.length ** 2}\"\n",
    "        elif self.height is None:\n",
    "            return f\"The area of the rectangle is: {self.length * self.width}\"\n",
    "        else:\n",
    "            return f\"The surface area of the cuboid is: {2 * (self.length * self.width + self.length * self.height + self.width * self.height)}\"\n",
    "\n",
    "    def calculate_perimeter(self):\n",
    "        if self.width is None and self.height is None:\n",
    "            return f\"The perimeter of the square is: {4 * self.length}\"\n",
    "        elif self.height is None:\n",
    "            return f\"The perimeter of the rectangle is: {2 * (self.length + self.width)}\"\n",
    "        else:\n",
    "            return f\"The perimeter of the cuboid is not applicable.\""
   ]
  },
  {
   "cell_type": "code",
   "execution_count": 30,
   "metadata": {},
   "outputs": [
    {
     "name": "stdout",
     "output_type": "stream",
     "text": [
      "The area of the square is: 36\n",
      "The perimeter of the square is: 24\n",
      "The area of the rectangle is: 72\n",
      "The perimeter of the rectangle is: 34\n",
      "The surface area of the cuboid is: 310\n",
      "The perimeter of the cuboid is not applicable.\n"
     ]
    }
   ],
   "source": [
    "\n",
    "# Create three shapes Square, Rectangle and Cuboid respectively\n",
    "square = Shape(6)\n",
    "rectangle = Shape(9, 8)\n",
    "cuboid = Shape(5, 7, 10)\n",
    "\n",
    "print(square.calculate_area())\n",
    "print(square.calculate_perimeter())\n",
    "\n",
    "print(rectangle.calculate_area())  #\n",
    "print(rectangle.calculate_perimeter())\n",
    "\n",
    "print(cuboid.calculate_area())\n",
    "print(cuboid.calculate_perimeter()) "
   ]
  },
  {
   "cell_type": "markdown",
   "metadata": {},
   "source": [
    "### Problem 7: Student Management Create a class representing a student with attributes like student ID, name, and grades. Implement methods to calculate the average grade and display student details."
   ]
  },
  {
   "cell_type": "code",
   "execution_count": 4,
   "metadata": {},
   "outputs": [],
   "source": [
    "# Class representing Student \n",
    "class Student:\n",
    "    def __init__(self, student_id, name, grades):\n",
    "        # Attribute Student ID\n",
    "        self.student_id = student_id\n",
    "        # Attribute Name\n",
    "        self.name = name\n",
    "        # Attribute grades\n",
    "        self.grades = grades\n",
    "\n",
    "    def calculate_average_grade(self):\n",
    "        if self.grades:\n",
    "            return sum(self.grades) / len(self.grades)\n",
    "        else:\n",
    "            return 0\n",
    "\n",
    "    def display_details(self):\n",
    "        print('Student Details as below:')\n",
    "        print(f\"Student ID: {self.student_id}\")\n",
    "        print(f\"Name: {self.name}\")\n",
    "        print(f\"Grades: {', '.join(map(str, self.grades))}\")\n",
    "        print()\n"
   ]
  },
  {
   "cell_type": "code",
   "execution_count": 7,
   "metadata": {},
   "outputs": [
    {
     "name": "stdout",
     "output_type": "stream",
     "text": [
      "Student Details as below:\n",
      "Student ID: 1\n",
      "Name: Robin Pabbi\n",
      "Grades: 95, 90, 88, 96, 89\n",
      "\n",
      "Student Details as below:\n",
      "Student ID: 2\n",
      "Name: Student 2\n",
      "Grades: 45, 62, 57, 98, 95\n",
      "\n",
      "Average Marks for Robin Pabbi: 91.6\n",
      "Average Marks for Student 2: 71.4\n"
     ]
    }
   ],
   "source": [
    "# Create Student objects\n",
    "student1 = Student(1, \"Robin Pabbi\", [95, 90, 88, 96, 89])\n",
    "student2 = Student(2, \"Student 2\", [45, 62, 57, 98, 95])\n",
    "\n",
    "# Print Details of Students\n",
    "student1.display_details()\n",
    "student2.display_details()\n",
    "\n",
    "# Compute Average marks of students\n",
    "average_grade_student1 = student1.calculate_average_grade()\n",
    "average_grade_student2 = student2.calculate_average_grade()\n",
    "\n",
    "# Print Average marksprint(f\"Average Marks for {student1.name}: {average_grade_student1}\")\n",
    "print(f\"Average Marks for {student1.name}: {average_grade_student1}\")\n",
    "print(f\"Average Marks for {student2.name}: {average_grade_student2}\")"
   ]
  },
  {
   "cell_type": "markdown",
   "metadata": {},
   "source": [
    "### Problem 8: Email Management Create a class representing an email with attributes like sender, recipient, and subject. Implement methods to send an email and display email details."
   ]
  },
  {
   "cell_type": "code",
   "execution_count": 11,
   "metadata": {},
   "outputs": [],
   "source": [
    "# Class representing Email\n",
    "class Email:\n",
    "    def __init__(self, sender, recipient, subject, message):\n",
    "        self.sender = sender\n",
    "        self.recipient = recipient\n",
    "        self.subject = subject\n",
    "        self.message = message\n",
    "        self.is_sent = False\n",
    "\n",
    "    def send_email(self):\n",
    "        if not self.is_sent:\n",
    "            self.is_sent = True\n",
    "            return f\"Email sent from {self.sender} to {self.recipient}.\"\n",
    "        else:\n",
    "            return \"This email has already been sent.\"\n",
    "\n",
    "    def display_details(self):\n",
    "        print(f\"From: {self.sender}\")\n",
    "        print(f\"To: {self.recipient}\")\n",
    "        print(f\"Subject: {self.subject}\")\n",
    "        print(f\"Message: {self.message}\")\n",
    "        print(f\"Sent: {self.is_sent}\")\n"
   ]
  },
  {
   "cell_type": "code",
   "execution_count": 13,
   "metadata": {},
   "outputs": [
    {
     "name": "stdout",
     "output_type": "stream",
     "text": [
      "Email sent from sender@test.com to recipient@test.com.\n",
      "\n",
      "From: sender@test.com\n",
      "To: recipient@test.com\n",
      "Subject: Test Email\n",
      "Message: This is test email 1.\n",
      "Sent: True\n"
     ]
    }
   ],
   "source": [
    "# Create an Email\n",
    "email1 = Email(\"sender@test.com\", \"recipient@test.com\", \"Test Email\", \"This is test email 1.\")\n",
    "\n",
    "print(email1.send_email())\n",
    "print()\n",
    "email1.display_details()"
   ]
  },
  {
   "cell_type": "markdown",
   "metadata": {},
   "source": [
    "### Problem 9: Social Media Profile Create a class representing a social media profile with attributes like username and posts. Implement methods to add posts, display posts, and search for posts by keyword."
   ]
  },
  {
   "cell_type": "code",
   "execution_count": 15,
   "metadata": {},
   "outputs": [],
   "source": [
    "# Class representing Social Media Profile\n",
    "class SocialMediaProfile:\n",
    "    def __init__(self, username, f_name, l_name):\n",
    "        # Attribute Username\n",
    "        self.username = username\n",
    "        # Attribute Posts (list of posts done by user)\n",
    "        self.posts = []\n",
    "        self.first_name = f_name\n",
    "        self.last_name = l_name\n",
    "\n",
    "    def add_post(self, content):\n",
    "        self.posts.append(content)\n",
    "        print(f\"Post added successfully by {self.first_name} {self.last_name}.\")\n",
    "\n",
    "    def display_posts(self):\n",
    "        if self.posts:\n",
    "            print(f\"Post by {self.username} are as below:\")\n",
    "            print(\"\\n\".join(self.posts))\n",
    "        else:\n",
    "            print(f\"{self.username} has no posts yet.\")\n",
    "\n",
    "    def search_posts_by_keyword(self, keyword):\n",
    "        matching_posts = [post for post in self.posts if keyword.lower() in post.lower()]\n",
    "        if matching_posts:\n",
    "            return \"\\n\".join(matching_posts)\n",
    "        else:\n",
    "            return f\"No posts found containing the keyword '{keyword}'.\""
   ]
  },
  {
   "cell_type": "code",
   "execution_count": 20,
   "metadata": {},
   "outputs": [
    {
     "name": "stdout",
     "output_type": "stream",
     "text": [
      "Post added successfully by Robin Pabbi.\n",
      "Post added successfully by Robin Pabbi.\n",
      "Post added successfully by Robin Pabbi.\n",
      "Post by rpabbi are as below:\n",
      "Watchin India vs Australia. #WorldCup2023\n",
      "Lazy Sundays! #Lazy #Weekend\n",
      "Learning ML, AI, DL, NLP, CV Stats @PWSkills. #Upgrading #Learning #ML #AI\n",
      "Matching posts with keyword AI are as below:\n",
      "Learning ML, AI, DL, NLP, CV Stats @PWSkills. #Upgrading #Learning #ML #AI\n"
     ]
    }
   ],
   "source": [
    "# Create a Social Media Profile for a user\n",
    "profile = SocialMediaProfile(\"rpabbi\", \"Robin\", \"Pabbi\")\n",
    "\n",
    "# Adding posts to profile\n",
    "profile.add_post(\"Watchin India vs Australia. #WorldCup2023\")\n",
    "profile.add_post(\"Lazy Sundays! #Lazy #Weekend\")\n",
    "profile.add_post(\"Learning ML, AI, DL, NLP, CV Stats @PWSkills. #Upgrading #Learning #ML #AI\")\n",
    "\n",
    "# Display all the posts\n",
    "profile.display_posts()\n",
    "\n",
    "# Search posts and print result\n",
    "keyword_to_search = \"AI\"\n",
    "search_result = profile.search_posts_by_keyword(keyword_to_search)\n",
    "print(f\"Matching posts with keyword {keyword_to_search} are as below:\")\n",
    "print(search_result)\n"
   ]
  },
  {
   "cell_type": "markdown",
   "metadata": {},
   "source": [
    "### Problem 10: ToDo List Create a class representing a ToDo list with attributes like tasks and due dates. Implement methods to add tasks, mark tasks as completed, and display pending tasks."
   ]
  },
  {
   "cell_type": "code",
   "execution_count": 36,
   "metadata": {},
   "outputs": [],
   "source": [
    "# Class representing Task\n",
    "class Task:\n",
    "    def __init__(self, id, task_details, due_date):\n",
    "        self.id = id\n",
    "        self.tast_details = task_details\n",
    "        self.due_date = due_date\n",
    "        self.is_completed = False\n",
    "\n",
    "    def __str__(self):\n",
    "        return f\"Task ID: {self.id}, Details: {self.tast_details}, Due Date: {self.due_date}, Completed?: {self.is_completed}\"\n",
    "    \n",
    "    def mark_as_completed(self):\n",
    "        self.is_completed = True\n",
    "        print(f'Task with ID {self.id} is Marked as Completed!')\n",
    "\n",
    "# Class representing TO DO List\n",
    "class ToDoList:\n",
    "    def __init__(self):\n",
    "        # Initialize to empty list by default\n",
    "        self.tasks = []\n",
    "\n",
    "    def add_task(self, task: Task):\n",
    "        self.tasks.append(task)\n",
    "        print(f\"Task added to the ToDo list.\")\n",
    "\n",
    "    def mark_task_completed(self, task_id):\n",
    "        for t in self.tasks:\n",
    "            if t.id == task_id:\n",
    "                t.mark_as_completed()\n",
    "                return\n",
    "        print(f\"Task with ID '{task_id}' not found in the ToDo list.\")\n",
    "\n",
    "    def display_pending_tasks(self):\n",
    "        pending_tasks = [t for t in self.tasks if t.is_completed == False]\n",
    "        if pending_tasks:\n",
    "            print(\"Pending Tasks are as below:\")\n",
    "            print(\"\\n\".join(map(str, pending_tasks)))\n",
    "        else:\n",
    "            print(\"No pending tasks in the ToDo list.\")"
   ]
  },
  {
   "cell_type": "code",
   "execution_count": 39,
   "metadata": {},
   "outputs": [
    {
     "name": "stdout",
     "output_type": "stream",
     "text": [
      "Task added to the ToDo list.\n",
      "Task added to the ToDo list.\n",
      "Task added to the ToDo list.\n",
      "Task added to the ToDo list.\n",
      "\n",
      "Pending Tasks are as below:\n",
      "Task ID: 1, Details: Learn Python programming language., Due Date: 10/10/2023, Completed?: False\n",
      "Task ID: 2, Details: Learn Stats., Due Date: 20/10/2023, Completed?: False\n",
      "Task ID: 3, Details: Learn ML., Due Date: 15/11/2023, Completed?: False\n",
      "Task ID: 4, Details: Learn DL., Due Date: 10/12/2023, Completed?: False\n",
      "\n",
      "Task with ID 1 is Marked as Completed!\n",
      "\n",
      "Pending Tasks are as below:\n",
      "Task ID: 2, Details: Learn Stats., Due Date: 20/10/2023, Completed?: False\n",
      "Task ID: 3, Details: Learn ML., Due Date: 15/11/2023, Completed?: False\n",
      "Task ID: 4, Details: Learn DL., Due Date: 10/12/2023, Completed?: False\n"
     ]
    }
   ],
   "source": [
    "# Create a ToDo list\n",
    "toDoList = ToDoList()\n",
    "\n",
    "# Create Tasks\n",
    "task1 = Task(1, 'Learn Python programming language.', '10/10/2023')\n",
    "task2 = Task(2, 'Learn Stats.', '20/10/2023')\n",
    "task3 = Task(3, 'Learn ML.', '15/11/2023')\n",
    "task4 = Task(4, 'Learn DL.', '10/12/2023')\n",
    "\n",
    "# Add Tasks to ToDoList\n",
    "toDoList.add_task(task1)\n",
    "toDoList.add_task(task2)\n",
    "toDoList.add_task(task3)\n",
    "toDoList.add_task(task4)\n",
    "\n",
    "print()\n",
    "\n",
    "# Display pending tasks\n",
    "toDoList.display_pending_tasks()\n",
    "\n",
    "print()\n",
    "\n",
    "# Mark task as completed\n",
    "toDoList.mark_task_completed(1)\n",
    "print()\n",
    "\n",
    "# Display pending tasks\n",
    "toDoList.display_pending_tasks()"
   ]
  },
  {
   "cell_type": "code",
   "execution_count": null,
   "metadata": {},
   "outputs": [],
   "source": []
  }
 ],
 "metadata": {
  "kernelspec": {
   "display_name": "base",
   "language": "python",
   "name": "python3"
  },
  "language_info": {
   "codemirror_mode": {
    "name": "ipython",
    "version": 3
   },
   "file_extension": ".py",
   "mimetype": "text/x-python",
   "name": "python",
   "nbconvert_exporter": "python",
   "pygments_lexer": "ipython3",
   "version": "3.11.4"
  }
 },
 "nbformat": 4,
 "nbformat_minor": 2
}
