{
 "cells": [
  {
   "cell_type": "markdown",
   "metadata": {},
   "source": [
    "## Constructor"
   ]
  },
  {
   "cell_type": "markdown",
   "metadata": {},
   "source": [
    "### 1. What is a constructor in Python? Explain its purpose and usage."
   ]
  },
  {
   "cell_type": "markdown",
   "metadata": {},
   "source": [
    "Ans.\n",
    "\n",
    "> A constructor is a special method within a class that is automatically called when a new instance (object) of the class is created. It is defined with the name `__init__`. The purpose of a constructor is to initialize the attributes of the object with initial values.\n",
    "\n",
    "#### Purpose of Constructor:\n",
    "1. **Initialization** - The main purpose of a constructor is to initialize the attributes of an object with specific values.\n",
    "2. **Setting Default Values** - It allows you to set default values for object attributes.\n",
    "\n",
    "#### Usage of Constructor:\n",
    "1. **Syntax** - The constructor is defined with the name `__init__` within a class.\n",
    "2. **Parameters** - It takes self as the first parameter (which refers to the instance being created) and other parameters to initialize the attributes.\n",
    "3. **Attribute Assignment** - Inside the constructor, you can assign initial values to the attributes using `self.attribute_name = initial_value`."
   ]
  },
  {
   "cell_type": "code",
   "execution_count": 6,
   "metadata": {},
   "outputs": [],
   "source": [
    "## Example of constructor\n",
    "class Person:\n",
    "    # Parameter Less contructor\n",
    "    def __init__(self):\n",
    "        self.name = \"Robin\"\n",
    "        self.age = 34\n",
    "\n",
    "p1 = Person()"
   ]
  },
  {
   "cell_type": "markdown",
   "metadata": {},
   "source": [
    "### 2. Differentiate between a parameterless constructor and a parameterized constructor in Python."
   ]
  },
  {
   "cell_type": "markdown",
   "metadata": {},
   "source": [
    "Ans.\n",
    "\n",
    "**Parameterless Constructor** - *(Also known as a default constructor)*\n",
    "\n",
    "* Takes no parameters other than the mandatory `self` parameter, which refers to the instance of the class.\n",
    "* Used when you want to initialize attributes with default values.\n",
    "\n",
    "Example: Person class with paramerless constructor as shown below:"
   ]
  },
  {
   "cell_type": "code",
   "execution_count": 7,
   "metadata": {},
   "outputs": [],
   "source": [
    "## Example of Parameterless constructor\n",
    "class Person:\n",
    "    # Parameter Less contructor\n",
    "    def __init__(self):\n",
    "        self.name = \"Robin\"\n",
    "        self.age = 34\n",
    "\n",
    "p1 = Person()"
   ]
  },
  {
   "cell_type": "markdown",
   "metadata": {},
   "source": [
    "**Parameterized Constructor** - *(Also known as a custom or explicit constructor)*\n",
    "\n",
    "* Takes parameters other than `self` to initialize the attributes of the class.\n",
    "* Used when you want to initialize attributes with specific values provided during object creation.\n",
    "\n",
    "Example: Person class with parameterized constructor as shown below:"
   ]
  },
  {
   "cell_type": "code",
   "execution_count": 8,
   "metadata": {},
   "outputs": [],
   "source": [
    "class Person:\n",
    "    # Parameterized Constructor\n",
    "    def __init__(self, name, age):\n",
    "        self.name = name\n",
    "        self.age = age\n",
    "\n",
    "p2 = Person('Robin', 34)"
   ]
  },
  {
   "cell_type": "markdown",
   "metadata": {},
   "source": [
    "### 3. How do you define a constructor in a Python class? Provide an example."
   ]
  },
  {
   "cell_type": "markdown",
   "metadata": {},
   "source": [
    "Ans.\n",
    "\n",
    "> A constructor is defined using a special method named `__init__`. It is called automatically when you create an instance of a class.\n",
    "\n",
    "Example: Student class with default constructor:"
   ]
  },
  {
   "cell_type": "code",
   "execution_count": 9,
   "metadata": {},
   "outputs": [],
   "source": [
    "class Student:\n",
    "    def __init__(self):\n",
    "        self.name = 'Robin'\n",
    "        self.age = 34\n",
    "        self.roll_no = 51"
   ]
  },
  {
   "cell_type": "markdown",
   "metadata": {},
   "source": [
    "### 4. Explain the `__init__` method in Python and its role in constructors."
   ]
  },
  {
   "cell_type": "markdown",
   "metadata": {},
   "source": [
    "Ans.\n",
    "\n",
    "> The `__init__` method in Python is a special method (dunder or magic method) used to initialize attributes of an object when it is created. It is commonly referred to as the *constructor* because it gets called automatically when you create an instance of a class."
   ]
  },
  {
   "cell_type": "markdown",
   "metadata": {},
   "source": [
    "### 5. In a class named `Person`, create a constructor that initializes the `name` and `age` attributes. Provide an example of creating an object of this class."
   ]
  },
  {
   "cell_type": "code",
   "execution_count": 12,
   "metadata": {},
   "outputs": [
    {
     "name": "stdout",
     "output_type": "stream",
     "text": [
      "Name: Robin, Age: 34 Yrs\n"
     ]
    }
   ],
   "source": [
    "# Class named Person with constructor that initializes the `name` and `age`\n",
    "class Person:\n",
    "    # constructor that initializes the `name` and `age`\n",
    "    def __init__(self, name, age):\n",
    "        self.name = name\n",
    "        self.age = age\n",
    "    \n",
    "    def __str__(self):\n",
    "        return f'Name: {self.name}, Age: {self.age} Yrs'\n",
    "\n",
    "# example of creating an object of this class\n",
    "p1 = Person('Robin', 34)\n",
    "\n",
    "print(p1)"
   ]
  },
  {
   "cell_type": "markdown",
   "metadata": {},
   "source": [
    "### 6. How can you call a constructor explicitly in Python? Give an example."
   ]
  },
  {
   "cell_type": "markdown",
   "metadata": {},
   "source": [
    "We typically don't call a constructor explicitly as it is automatically called when an instance of a class is created. However, if we need to call the constructor explicitly for any reason, we can do so. \n",
    "\n",
    "1. First of all we create an instance of a class using the dunder method `__new__` this will create an instance but not call the constructor implicitly.\n",
    "\n",
    "2. Then we explicitly call the `__init__` dunder method using the instance created above in the step 1.\n",
    "\n",
    "Example:\n"
   ]
  },
  {
   "cell_type": "code",
   "execution_count": 16,
   "metadata": {},
   "outputs": [
    {
     "name": "stdout",
     "output_type": "stream",
     "text": [
      "Student Name: Robin, Roll No: 786\n"
     ]
    }
   ],
   "source": [
    "class Student:\n",
    "    def __init__(self, name, roll_no):\n",
    "        self.name = name\n",
    "        self.roll_no = roll_no\n",
    "\n",
    "    def __str__(self):\n",
    "        return f'Student Name: {self.name}, Roll No: {self.roll_no}'\n",
    "\n",
    "# Creating instance without calling constructor\n",
    "student1 = Student.__new__(Student)\n",
    "\n",
    "# Explicitly calling __init__ (constructor)\n",
    "Student.__init__(student1, 'Robin', 786)\n",
    "\n",
    "# Print\n",
    "print(student1)"
   ]
  },
  {
   "cell_type": "markdown",
   "metadata": {},
   "source": [
    "### 7. What is the significance of the `self` parameter in Python constructors? Explain with an example."
   ]
  },
  {
   "cell_type": "markdown",
   "metadata": {},
   "source": [
    "Ans.\n",
    "\n",
    "> The `self` parameter in constructors and methods (*functions*) serves as a reference to the instance of the class itself. It allows you to access and modify attributes or even call/access methods of the object within the class.\n",
    "\n",
    "Example:"
   ]
  },
  {
   "cell_type": "code",
   "execution_count": 17,
   "metadata": {},
   "outputs": [
    {
     "name": "stdout",
     "output_type": "stream",
     "text": [
      "Hi, My name is Robin and I am 34 years old.\n"
     ]
    }
   ],
   "source": [
    "class Person:\n",
    "    # self in constructor used to modify/set value of attributes\n",
    "    def __init__(self, name, age):\n",
    "        self.name = name\n",
    "        self.age = age\n",
    "\n",
    "    # Self in method is used to access attibutes i.e. name and age\n",
    "    def get_details(self):\n",
    "        return f\"Hi, My name is {self.name} and I am {self.age} years old.\"\n",
    "    \n",
    "# Create person\n",
    "p1 = Person('Robin', 34)\n",
    "\n",
    "# Print\n",
    "print(p1.get_details())"
   ]
  },
  {
   "cell_type": "markdown",
   "metadata": {},
   "source": [
    "### 8. Discuss the concept of default constructors in Python. When are they used?"
   ]
  },
  {
   "cell_type": "markdown",
   "metadata": {},
   "source": [
    "Ans.\n",
    "\n",
    "> In Python, there are no explicit \"default constructors\" as such. Instead, Python provides a default constructor implicitly, which is the `__init__` method, and this gets called automatically when you create an instance of a class.\n",
    "\n",
    "The `__init__` method can be thought of as the default constructor because it serves the purpose of initializing the attributes of an object. If you don't define a custom `__init__` method in your class, Python provides a default one for you.\n",
    "\n",
    "*Example of class with out explicit `__init__` method*:"
   ]
  },
  {
   "cell_type": "code",
   "execution_count": 18,
   "metadata": {},
   "outputs": [
    {
     "data": {
      "text/plain": [
       "5"
      ]
     },
     "execution_count": 18,
     "metadata": {},
     "output_type": "execute_result"
    }
   ],
   "source": [
    "class Calculator:\n",
    "\n",
    "    def add(self, a, b):\n",
    "        return a + b\n",
    "\n",
    "    def sub(self, a, b):\n",
    "        return a + b\n",
    "\n",
    "    def mul(self, a, b):\n",
    "        return a + b\n",
    "\n",
    "# Creating an object/instance using default constructor (implicit __init__ from python)\n",
    "calc = Calculator()\n",
    "\n",
    "calc.add(2,3)"
   ]
  },
  {
   "cell_type": "markdown",
   "metadata": {},
   "source": [
    "*Example of class with explicit `__init__` method but default constructor (no params)*:"
   ]
  },
  {
   "cell_type": "code",
   "execution_count": 20,
   "metadata": {},
   "outputs": [
    {
     "name": "stdout",
     "output_type": "stream",
     "text": [
      "Name: John Doe, Age: 30 Yrs\n"
     ]
    }
   ],
   "source": [
    "class Person:\n",
    "    def __init__(self):\n",
    "        self.name = \"John Doe\"\n",
    "        self.age = 30\n",
    "\n",
    "    def __str__(self):\n",
    "        return f'Name: {self.name}, Age: {self.age} Yrs'\n",
    "\n",
    "# Creating instance using default constructor explicitly provided\"\n",
    "person = Person()\n",
    "\n",
    "print(person)"
   ]
  },
  {
   "cell_type": "markdown",
   "metadata": {},
   "source": [
    "### 9. Create a Python class called `Rectangle` with a constructor that initializes the `width` and `height` attributes. Provide a method to calculate the area of the rectangle."
   ]
  },
  {
   "cell_type": "code",
   "execution_count": 21,
   "metadata": {},
   "outputs": [
    {
     "name": "stdout",
     "output_type": "stream",
     "text": [
      "Area of rectangle is: 36\n"
     ]
    }
   ],
   "source": [
    "# Python class called `Rectangle` with a constructor that initializes the `width` and `height` attributes\n",
    "class Rectangle:\n",
    "    def __init__(self, width, height):\n",
    "        self.width = width\n",
    "        self.height = height\n",
    "\n",
    "    # method to calculate the area of the rectangle\n",
    "    def calculate_area(self):\n",
    "        return self.width * self.height\n",
    "    \n",
    "# Create instance\n",
    "rect = Rectangle(4, 9)\n",
    "\n",
    "# Compute area and print\n",
    "area_of_rect = rect.calculate_area()\n",
    "print(f'Area of rectangle is: {area_of_rect}')"
   ]
  },
  {
   "cell_type": "markdown",
   "metadata": {},
   "source": [
    "### 10. How can you have multiple constructors in a Python class? Explain with an example."
   ]
  },
  {
   "cell_type": "markdown",
   "metadata": {},
   "source": [
    "Ans.\n",
    "\n",
    "> In Python, you can't have multiple constructors as in some other programming languages. However, you can achieve similar functionality by using default parameter values and optional arguments.\n",
    "\n",
    "Example of Rectangle class from question 9 as below:"
   ]
  },
  {
   "cell_type": "code",
   "execution_count": 22,
   "metadata": {},
   "outputs": [
    {
     "name": "stdout",
     "output_type": "stream",
     "text": [
      "Area of rectangle1: 21\n",
      "Area of rectangle2: 49\n",
      "Area of rectangle3: 0\n"
     ]
    }
   ],
   "source": [
    "class Rectangle:\n",
    "    def __init__(self, width=None, height=None):\n",
    "        if width is not None and height is not None:\n",
    "            self.width = width\n",
    "            self.height = height\n",
    "        elif width is not None:\n",
    "            self.width = width\n",
    "            self.height = width\n",
    "        elif height is not None:\n",
    "            self.width = height\n",
    "            self.height = height\n",
    "        else:\n",
    "            self.width = 0\n",
    "            self.height = 0\n",
    "\n",
    "    def calculate_area(self):\n",
    "        return self.width * self.height\n",
    "\n",
    "# Creating instances of the Rectangle class\n",
    "rectangle1 = Rectangle(3, 7)\n",
    "# Square of 7x7\n",
    "rectangle2 = Rectangle(7)\n",
    "rectangle3 = Rectangle()\n",
    "\n",
    "# Calculating the areas\n",
    "area1 = rectangle1.calculate_area()\n",
    "area2 = rectangle2.calculate_area()\n",
    "area3 = rectangle3.calculate_area()\n",
    "\n",
    "print(f\"Area of rectangle1: {area1}\")\n",
    "print(f\"Area of rectangle2: {area2}\")\n",
    "print(f\"Area of rectangle3: {area3}\")"
   ]
  },
  {
   "cell_type": "markdown",
   "metadata": {},
   "source": [
    "### 11. What is method overloading, and how is it related to constructors in Python?"
   ]
  },
  {
   "cell_type": "markdown",
   "metadata": {},
   "source": [
    "Ans.\n",
    "\n",
    " Method overloading is a feature that allows a class to have multiple methods with the same name but different parameter lists. This means you can define multiple versions of a method, each accepting different arguments. In **Python** however, if you define multiple methods with the same name in a class, the last one defined will override the previous ones.\n",
    "\n",
    "However, you can achieve similar functionality through default parameter values and optional arguments. This way, a single method can handle different argument combinations.\n",
    "\n",
    "In case of **constructors** in Python, you can use default parameter values to simulate constructor overloading. By providing default values for constructor parameters, you can create instances of a class with different initial states based on the arguments provided during object creation (*as shown in the previous question's answer i.e. class Rectangle*).\n",
    "\n",
    "Example as below:"
   ]
  },
  {
   "cell_type": "code",
   "execution_count": 1,
   "metadata": {},
   "outputs": [
    {
     "name": "stdout",
     "output_type": "stream",
     "text": [
      "Area of rectangle1: 21\n",
      "Area of rectangle2: 49\n",
      "Area of rectangle3: 0\n"
     ]
    }
   ],
   "source": [
    "class Rectangle:\n",
    "    def __init__(self, width=None, height=None):\n",
    "        if width is not None and height is not None:\n",
    "            self.width = width\n",
    "            self.height = height\n",
    "        elif width is not None:\n",
    "            self.width = width\n",
    "            self.height = width\n",
    "        elif height is not None:\n",
    "            self.width = height\n",
    "            self.height = height\n",
    "        else:\n",
    "            self.width = 0\n",
    "            self.height = 0\n",
    "\n",
    "    def calculate_area(self):\n",
    "        return self.width * self.height\n",
    "\n",
    "# Creating instances of the Rectangle class\n",
    "rectangle1 = Rectangle(3, 7)\n",
    "# Square of 7x7\n",
    "rectangle2 = Rectangle(7)\n",
    "rectangle3 = Rectangle()\n",
    "\n",
    "# Calculating the areas\n",
    "area1 = rectangle1.calculate_area()\n",
    "area2 = rectangle2.calculate_area()\n",
    "area3 = rectangle3.calculate_area()\n",
    "\n",
    "print(f\"Area of rectangle1: {area1}\")\n",
    "print(f\"Area of rectangle2: {area2}\")\n",
    "print(f\"Area of rectangle3: {area3}\")"
   ]
  },
  {
   "cell_type": "markdown",
   "metadata": {},
   "source": [
    "### 12. Explain the use of the `super()` function in Python constructors. Provide an example."
   ]
  },
  {
   "cell_type": "markdown",
   "metadata": {},
   "source": [
    "Ans.\n",
    "\n",
    "The `super()` function in Python is a way to access methods and attributes from a parent class (superclass) within a child class (subclass). It is typically used to invoke the behavior of the parent class, especially in the context of constructors of the child class.\n",
    "\n",
    "In the case of constructors, `super()` is commonly used to ensure that attributes inherited from the parent class are properly initialized before adding new attributes specific to the child class.\n",
    "\n",
    "Example as below:"
   ]
  },
  {
   "cell_type": "code",
   "execution_count": 3,
   "metadata": {},
   "outputs": [
    {
     "name": "stdout",
     "output_type": "stream",
     "text": [
      "Sammy\n",
      "Labrador\n"
     ]
    }
   ],
   "source": [
    "class Animal:\n",
    "    def __init__(self, name):\n",
    "        self.name = name\n",
    "\n",
    "class Dog(Animal):\n",
    "    def __init__(self, name, breed):\n",
    "          # This line below invokes the parent class's constructor\n",
    "        super().__init__(name)\n",
    "        self.breed = breed\n",
    "\n",
    "# Creating a Dog instance\n",
    "dog = Dog(\"Sammy\", \"Labrador\")\n",
    "\n",
    "# Printing name and breed\n",
    "print(dog.name)\n",
    "print(dog.breed)"
   ]
  },
  {
   "cell_type": "markdown",
   "metadata": {},
   "source": [
    "### 13. Create a class called `Book` with a constructor that initializes the `title`, `author`, and `published_year` attributes. Provide a method to display book details."
   ]
  },
  {
   "cell_type": "code",
   "execution_count": 4,
   "metadata": {},
   "outputs": [
    {
     "name": "stdout",
     "output_type": "stream",
     "text": [
      "Title: Written in the bones\n",
      "Author: John\n",
      "Published Year: 1971\n"
     ]
    }
   ],
   "source": [
    "# Create a class called `Book`\n",
    "class Book:\n",
    "    # constructor that initializes the `title`, `author`, and `published_year`\n",
    "    def __init__(self, title, author, published_year):\n",
    "        self.title = title\n",
    "        self.author = author\n",
    "        self.published_year = published_year\n",
    "\n",
    "    # method to display book details\n",
    "    def display_details(self):\n",
    "        print(f\"Title: {self.title}\")\n",
    "        print(f\"Author: {self.author}\")\n",
    "        print(f\"Published Year: {self.published_year}\")\n",
    "\n",
    "# Creating an instance of the Book class\n",
    "book1 = Book(\"Written in the bones\", \"John\", 1971)\n",
    "\n",
    "# Displaying book details\n",
    "book1.display_details()"
   ]
  },
  {
   "cell_type": "markdown",
   "metadata": {},
   "source": [
    "### 14. Discuss the differences between constructors and regular methods in Python classes."
   ]
  },
  {
   "cell_type": "markdown",
   "metadata": {},
   "source": [
    "Ans:\n",
    "\n",
    "> Constructors and regular methods are both functions defined within a class in Python, but they serve different purposes and have distinct characteristics as below:\n",
    "\n",
    "|         | Constructor | Regular Method |\n",
    "| ------- | ----------- | -------------- |\n",
    "| **Purpose** | Purpose of a constructor is to initialize the attributes of an object when it is created.  It is automatically called when you create an instance of a class. | Regular methods perform operations or provide functionality related to the class. You need to explicitly call  regular methods after the object has been created to perform specific actions.  |\n",
    "| **Naming** | The constructor has a special predefined name `__init__ ` | Regular methods can have any valid method name. |\n",
    "| **Return Value** |  Constructors do not have a return statement.  | Regular methods can have a return statement to return a value. |\n",
    "| **Multiple Definitions** | There can be only one constructor (`__init__`) in a class. | You can define multiple regular methods in a class. |\n",
    "\n",
    "\n"
   ]
  },
  {
   "cell_type": "markdown",
   "metadata": {},
   "source": [
    "### 15. Explain the role of the `self` parameter in instance variable initialization within a constructor."
   ]
  },
  {
   "cell_type": "markdown",
   "metadata": {},
   "source": [
    "Ans:\n",
    "\n",
    "The `self` parameter in Python is a convention used to represent the instance of a class within its methods, including the constructor (`__init__`). It allows you to access and manipulate the attributes and methods of the object within the class.\n",
    "\n",
    "Within a constructor, `self` is used to differentiate between the attributes of the instance being created and any other variables with the same name. It helps bind attributes to the specific instance of the class.\n",
    "\n",
    "* **Creating Attributes**: Inside the `__init__` method, you define the attributes (instance variables) that you want each object of the class to have.\n",
    "\n",
    "* **Accessing Attributes**: To set the values of these attributes, you use `self.attribute_name = value`. \n",
    "\n",
    "* **Avoiding Name Conflicts**: The use of `self` ensures that you are working with the attributes of the instance being created, even if there are other variables in the class or method with the same name like arguments name (parameters name).\n",
    "\n",
    "* **Binding Attributes to the Instance**: When you create an instance of the class, `self` is automatically assigned to refer to that instance. This ensures that any attribute assigned using `self` is specific to that particular instance.\n"
   ]
  },
  {
   "cell_type": "code",
   "execution_count": 6,
   "metadata": {},
   "outputs": [
    {
     "name": "stdout",
     "output_type": "stream",
     "text": [
      "Name: Robin, Age: 34 Yrs\n"
     ]
    }
   ],
   "source": [
    "# Class named Person with constructor that initializes the `name` and `age` using self\n",
    "class Person:\n",
    "    # constructor that initializes the `name` and `age` using self\n",
    "    def __init__(self, name, age):\n",
    "        self.name = name\n",
    "        self.age = age\n",
    "    \n",
    "    def __str__(self):\n",
    "        return f'Name: {self.name}, Age: {self.age} Yrs'\n",
    "\n",
    "# example of creating an object of this class\n",
    "p1 = Person('Robin', 34)\n",
    "\n",
    "print(p1)"
   ]
  },
  {
   "cell_type": "markdown",
   "metadata": {},
   "source": [
    "### 16. How do you prevent a class from having multiple instances by using constructors in Python? Provide an example."
   ]
  },
  {
   "cell_type": "markdown",
   "metadata": {},
   "source": [
    "Ans:\n",
    "\n",
    "> In Python 3, you can implement the Singleton pattern using a metaclass. A metaclass is a class for classes, allowing you to customize class creation. \n",
    "\n",
    "Example of how you can implement the Singleton pattern in Python 3:"
   ]
  },
  {
   "cell_type": "code",
   "execution_count": 20,
   "metadata": {},
   "outputs": [
    {
     "name": "stdout",
     "output_type": "stream",
     "text": [
      "Instance 1\n",
      "Instance 1\n"
     ]
    }
   ],
   "source": [
    "# Meta class for the Singelton class\n",
    "class SingletonMeta(type):\n",
    "    _instances = {}\n",
    "\n",
    "    def __call__(cls, *args, **kwargs):\n",
    "        if cls not in cls._instances:\n",
    "            cls._instances[cls] = super().__call__(*args, **kwargs)\n",
    "        return cls._instances[cls]\n",
    "\n",
    "# Actual singleton class\n",
    "class Singleton(metaclass=SingletonMeta):\n",
    "    def __init__(self, data):\n",
    "        self.data = data\n",
    "\n",
    "\n",
    "# Creating instances of SingletonClass\n",
    "singleton1 = Singleton(\"Instance 1\")\n",
    "singleton2 = Singleton(\"Instance 2\")\n",
    "\n",
    "print(singleton1.data)\n",
    "print(singleton2.data)\n"
   ]
  },
  {
   "cell_type": "markdown",
   "metadata": {},
   "source": [
    "We can also use the decorator similar to Meta class used above. Example below:"
   ]
  },
  {
   "cell_type": "code",
   "execution_count": 22,
   "metadata": {},
   "outputs": [
    {
     "name": "stdout",
     "output_type": "stream",
     "text": [
      "Instance 1\n",
      "Instance 1\n"
     ]
    }
   ],
   "source": [
    "def singleton(class_):\n",
    "    instances = {}\n",
    "\n",
    "    def ensure_singleton_instance(*args, **kwargs):\n",
    "        if class_ not in instances:\n",
    "            instances[class_] = class_(*args, **kwargs)\n",
    "        return instances[class_]\n",
    "\n",
    "    return ensure_singleton_instance\n",
    "\n",
    "# using decorator below\n",
    "@singleton\n",
    "class Singleton:\n",
    "    def __init__(self, data):\n",
    "        self.data = data\n",
    "\n",
    "# Creating instances of Singleton\n",
    "singleton1 = Singleton(\"Instance 1\")\n",
    "singleton2 = Singleton(\"Instance 2\")\n",
    "\n",
    "print(singleton1.data)\n",
    "print(singleton2.data)"
   ]
  },
  {
   "cell_type": "markdown",
   "metadata": {},
   "source": [
    "### 17. Create a Python class called `Student` with a constructor that takes a list of subjects as a parameter and initializes the `subjects` attribute."
   ]
  },
  {
   "cell_type": "code",
   "execution_count": 23,
   "metadata": {},
   "outputs": [
    {
     "name": "stdout",
     "output_type": "stream",
     "text": [
      "Subjects:\n",
      "ML\n",
      "DataSciene\n",
      "Deep Learning\n",
      "NLP\n"
     ]
    }
   ],
   "source": [
    "class Student:\n",
    "    def __init__(self, subjects):\n",
    "        self.subjects = subjects\n",
    "\n",
    "    def display_subjects(self):\n",
    "        print(\"Subjects:\")\n",
    "        for subject in self.subjects:\n",
    "            print(subject)\n",
    "\n",
    "# Creating an instance of Student\n",
    "student1 = Student([\"ML\", \"DataSciene\", \"Deep Learning\", \"NLP\"])\n",
    "\n",
    "# Displaying the subjects\n",
    "student1.display_subjects()"
   ]
  },
  {
   "cell_type": "markdown",
   "metadata": {},
   "source": [
    "### 18. What is the purpose of the `__del__` method in Python classes, and how does it relate to constructors?"
   ]
  },
  {
   "cell_type": "markdown",
   "metadata": {},
   "source": [
    "Ans.\n",
    "\n",
    "> The `__del__` method (destructor) in Python is used to define the destruction logic for objects of a class. It's called automatically when an object is about to be destroyed, which typically occurs when there are no more references to the object. The purpose of the `__del__` method is to perform any necessary cleanup or finalization before the object is removed from memory.\n",
    "\n",
    "While constructors (`__init__` method) are used for initializing object attributes and setting up the initial state of an object, the `__del__` method is used for performing cleanup tasks or releasing resources associated with the object.\n",
    "\n",
    "Example showing Constructor and Destructor functionality below:"
   ]
  },
  {
   "cell_type": "code",
   "execution_count": 25,
   "metadata": {},
   "outputs": [
    {
     "name": "stdout",
     "output_type": "stream",
     "text": [
      "Object Student 1 created\n",
      "Object Student 2 created\n",
      "Object Student 1 is being destroyed\n",
      "Object Student 2 is being destroyed\n"
     ]
    }
   ],
   "source": [
    "class Student:\n",
    "    def __init__(self, name):\n",
    "        self.name = name\n",
    "        print(f\"Object {self.name} created\")\n",
    "\n",
    "    def __del__(self):\n",
    "        print(f\"Object {self.name} is being destroyed\")\n",
    "\n",
    "# Creating instances of Example class\n",
    "obj1 = Student(\"Student 1\")\n",
    "obj2 = Student(\"Student 2\")\n",
    "\n",
    "# Deleting references to objects\n",
    "del obj1\n",
    "del obj2"
   ]
  },
  {
   "cell_type": "markdown",
   "metadata": {},
   "source": [
    "### 19. Explain the use of constructor chaining in Python. Provide a practical example."
   ]
  },
  {
   "cell_type": "markdown",
   "metadata": {},
   "source": [
    "Ans:\n",
    "\n",
    "> Constructor chaining in Python refers to the ability of a subclass to call the constructor of its parent class. This allows you to reuse the initialization logic defined in the parent class's constructor (`__init__` using `super()`) when creating instances of the subclass.\n",
    "\n",
    "Example demostrating the constructor chaining:"
   ]
  },
  {
   "cell_type": "code",
   "execution_count": null,
   "metadata": {},
   "outputs": [],
   "source": [
    "class Animal:\n",
    "    def __init__(self, name):\n",
    "        self.name = name\n",
    "\n",
    "class Dog(Animal):\n",
    "    def __init__(self, name, breed):\n",
    "          # This line below invokes the parent class's constructor (Constructor chaining)\n",
    "        super().__init__(name)\n",
    "        self.breed = breed\n",
    "\n",
    "# Creating a Dog instance\n",
    "dog = Dog(\"Sammy\", \"Labrador\")\n",
    "\n",
    "# Printing name and breed\n",
    "print(dog.name)\n",
    "print(dog.breed)"
   ]
  },
  {
   "cell_type": "markdown",
   "metadata": {},
   "source": [
    "### 20. Create a Python class called `Car` with a default constructor that initializes the `make` and `model` attributes. Provide a method to display car information."
   ]
  },
  {
   "cell_type": "code",
   "execution_count": 26,
   "metadata": {},
   "outputs": [
    {
     "name": "stdout",
     "output_type": "stream",
     "text": [
      "Car make: Hyundai, Model: Ioniq 5\n"
     ]
    }
   ],
   "source": [
    "class Car:\n",
    "\n",
    "    # Default constructor (parameter less) initializing value of make and model\n",
    "    def __init__(self):\n",
    "        self.make = \"Hyundai\"\n",
    "        self.model = \"Ioniq 5\"\n",
    "\n",
    "    def display_details(self):\n",
    "        print(f'Car make: {self.make}, Model: {self.model}')\n",
    "\n",
    "# Create an instance\n",
    "car1 = Car()\n",
    "\n",
    "car1.display_details()"
   ]
  },
  {
   "cell_type": "code",
   "execution_count": 27,
   "metadata": {},
   "outputs": [
    {
     "name": "stdout",
     "output_type": "stream",
     "text": [
      "Car make: Hyundai, Model: Ioniq 5\n"
     ]
    }
   ],
   "source": [
    "class Car:\n",
    "\n",
    "    # Default constructor (parameterized) initializing value of make and model\n",
    "    def __init__(self, make, model):\n",
    "        self.make = make\n",
    "        self.model = model\n",
    "\n",
    "    def display_details(self):\n",
    "        print(f'Car make: {self.make}, Model: {self.model}')\n",
    "\n",
    "# Create an instance\n",
    "car1 = Car(\"Hyundai\", \"Ioniq 5\")\n",
    "\n",
    "car1.display_details()"
   ]
  },
  {
   "cell_type": "markdown",
   "metadata": {},
   "source": [
    "## Inheritance "
   ]
  },
  {
   "cell_type": "markdown",
   "metadata": {},
   "source": [
    "### 1. What is inheritance in Python? Explain its significance in object-oriented programming."
   ]
  },
  {
   "cell_type": "markdown",
   "metadata": {},
   "source": [
    "**Inheritance**: Inheritance is a fundamental concept in object-oriented programming (OOP) that allows one class (the subclass or derived class) to inherit the properties and behaviors of another class (the superclass or base class). Inheritance is a mechanism that models the \"is-a\" relationship, where a subclass is a specialized version of its superclass.\n",
    "\n",
    "**Inheritance in Python**: In Python, you define inheritance by creating a new class and specifying the base class it inherits from inside parentheses. The subclass then inherits attributes and methods from the superclass.\n",
    "\n",
    "**Significance of Inheritance**:\n",
    "\n",
    "* **Code Reusability**: Inheritance promotes code reusability by allowing you to reuse existing code from a superclass in a new class.\n",
    "\n",
    "* **Extensibility**: You can create more specialized classes (subclasses) by inheriting from a more general class (superclass). This enables you to extend or override the behaviors of the superclass to fit the specific needs of the subclass.\n",
    "\n",
    "* **Hierarchy and Organization**: Inheritance allows you to create hierarchical structures of classes, making the code more organized and easy to understand. It models the real-world relationships between objects.\n",
    "\n",
    "Real world example of Dog class and Cat class inheriting from animal class:"
   ]
  },
  {
   "cell_type": "code",
   "execution_count": 28,
   "metadata": {},
   "outputs": [
    {
     "name": "stdout",
     "output_type": "stream",
     "text": [
      "Dog says: Woof!\n",
      "Cat says: Meow!\n"
     ]
    }
   ],
   "source": [
    "class Animal:\n",
    "    def __init__(self, species):\n",
    "        self.species = species\n",
    "\n",
    "    def speak(self):\n",
    "        pass\n",
    "\n",
    "class Dog(Animal):\n",
    "    def speak(self):\n",
    "        return \"Woof!\"\n",
    "\n",
    "class Cat(Animal):\n",
    "    def speak(self):\n",
    "        return \"Meow!\"\n",
    "\n",
    "# Creating instances of subclasses\n",
    "dog = Dog(\"Dog\")\n",
    "cat = Cat(\"Cat\")\n",
    "\n",
    "# Calling the speak method on instances\n",
    "print(f\"{dog.species} says: {dog.speak()}\")\n",
    "print(f\"{cat.species} says: {cat.speak()}\")\n"
   ]
  },
  {
   "cell_type": "markdown",
   "metadata": {},
   "source": [
    "### 2. Differentiate between single inheritance and multiple inheritance in Python. Provide examples for each."
   ]
  },
  {
   "cell_type": "markdown",
   "metadata": {},
   "source": [
    "In Python, inheritance can be categorized into two main types: single inheritance and multiple inheritance. Let's differentiate between these two types and provide examples for each:\n",
    "\n",
    "**Single Inheritance**:\n",
    "\n",
    "Single inheritance is a type of inheritance where a subclass (derived class) inherits from a single superclass (base class). It forms a linear hierarchy of classes.\n",
    "\n",
    "Example:"
   ]
  },
  {
   "cell_type": "code",
   "execution_count": null,
   "metadata": {},
   "outputs": [],
   "source": [
    "class Animal:\n",
    "    def __init__(self, species):\n",
    "        self.species = species\n",
    "\n",
    "    def speak(self):\n",
    "        pass\n",
    "\n",
    "class Dog(Animal):\n",
    "    def speak(self):\n",
    "        return \"Woof!\"\n",
    "\n",
    "# Creating instance of subclass\n",
    "dog = Dog(\"Dog\")\n",
    "\n",
    "# Calling the speak method on instance\n",
    "print(f\"{dog.species} says: {dog.speak()}\")"
   ]
  },
  {
   "cell_type": "markdown",
   "metadata": {},
   "source": [
    "**Multiple Inheritance**:\n",
    "\n",
    "Multiple inheritance is a type of inheritance where a subclass (derived class) can inherit from more than one superclass (base class). This allows a class to inherit attributes and methods from multiple sources."
   ]
  },
  {
   "cell_type": "code",
   "execution_count": 29,
   "metadata": {},
   "outputs": [
    {
     "name": "stdout",
     "output_type": "stream",
     "text": [
      "Method from Parent1\n",
      "Method from Parent2\n",
      "Method from Child\n"
     ]
    }
   ],
   "source": [
    "class Parent1:\n",
    "    def method1(self):\n",
    "        return \"Method from Parent1\"\n",
    "\n",
    "class Parent2:\n",
    "    def method2(self):\n",
    "        return \"Method from Parent2\"\n",
    "\n",
    "class Child(Parent1, Parent2):\n",
    "    def method3(self):\n",
    "        return \"Method from Child\"\n",
    "\n",
    "# Creating an instance of Child\n",
    "child = Child()\n",
    "\n",
    "# Calling methods from different base classes and the child class\n",
    "print(child.method1())\n",
    "print(child.method2())\n",
    "print(child.method3())\n"
   ]
  },
  {
   "cell_type": "markdown",
   "metadata": {},
   "source": [
    "### 3. Create a Python class called `Vehicle` with attributes `color` and `speed`. Then, create a child class called `Car` that inherits from `Vehicle` and adds a `brand` attribute. Provide an example of creating a `Car` object."
   ]
  },
  {
   "cell_type": "code",
   "execution_count": 30,
   "metadata": {},
   "outputs": [
    {
     "name": "stdout",
     "output_type": "stream",
     "text": [
      "Color: Red\n",
      "Speed: 120\n",
      "Brand: Toyota\n"
     ]
    }
   ],
   "source": [
    "class Vehicle:\n",
    "    def __init__(self, color, speed):\n",
    "        self.color = color\n",
    "        self.speed = speed\n",
    "\n",
    "class Car(Vehicle):\n",
    "    def __init__(self, color, speed, brand):\n",
    "        super().__init__(color, speed)\n",
    "        self.brand = brand\n",
    "\n",
    "# Creating an instance of Car\n",
    "my_car = Car(\"Red\", 120, \"Toyota\")\n",
    "\n",
    "# Accessing attributes of Car\n",
    "print(f\"Color: {my_car.color}\")\n",
    "print(f\"Speed: {my_car.speed}\")\n",
    "print(f\"Brand: {my_car.brand}\")"
   ]
  },
  {
   "cell_type": "markdown",
   "metadata": {},
   "source": [
    "### 4. Explain the concept of method overriding in inheritance. Provide a practical example."
   ]
  },
  {
   "cell_type": "markdown",
   "metadata": {},
   "source": [
    "**Method overriding** is a concept in inheritance where a subclass provides its own implementation of a method that is already defined in its superclass. This allows the subclass to customize or extend the behavior of the inherited method while retaining the method's name and signature.\n",
    "\n",
    "Key points about method overriding:\n",
    "\n",
    "* The overridden method in the subclass must have the same name, parameters, and return type as the method in the superclass.\n",
    "\n",
    "* The super() function can be used to call the overridden method in the superclass within the subclass's overridden method.\n",
    "\n",
    "* Method overriding is a form of runtime polymorphism, where the same method name can behave differently based on the object's actual class.\n",
    "\n",
    "Example of Overiding"
   ]
  },
  {
   "cell_type": "code",
   "execution_count": 31,
   "metadata": {},
   "outputs": [
    {
     "name": "stdout",
     "output_type": "stream",
     "text": [
      "Circle Area: 78.53975\n",
      "Square Area: 16\n"
     ]
    }
   ],
   "source": [
    "class Shape:\n",
    "    def area(self):\n",
    "        pass\n",
    "\n",
    "class Circle(Shape):\n",
    "    def __init__(self, radius):\n",
    "        self.radius = radius\n",
    "\n",
    "    def area(self):\n",
    "        return 3.14159 * self.radius * self.radius\n",
    "\n",
    "class Square(Shape):\n",
    "    def __init__(self, side_length):\n",
    "        self.side_length = side_length\n",
    "\n",
    "    def area(self):\n",
    "        return self.side_length * self.side_length\n",
    "\n",
    "# Creating instances of Circle and Square\n",
    "circle = Circle(5)\n",
    "square = Square(4)\n",
    "\n",
    "# Calling the overridden area method\n",
    "print(f\"Circle Area: {circle.area()}\")\n",
    "print(f\"Square Area: {square.area()}\")\n"
   ]
  },
  {
   "cell_type": "markdown",
   "metadata": {},
   "source": [
    "### 5. How can you access the methods and attributes of a parent class from a child class in Python? Give an example."
   ]
  },
  {
   "cell_type": "markdown",
   "metadata": {},
   "source": [
    "Ans:\n",
    "\n",
    "> In Python, you can access the methods and attributes of a parent (superclass or base class) from a child (subclass or derived class) using the super() function. The super() function provides a way to call methods and access attributes of the parent class within the child class.\n",
    "\n",
    "Example:"
   ]
  },
  {
   "cell_type": "code",
   "execution_count": 33,
   "metadata": {},
   "outputs": [
    {
     "name": "stdout",
     "output_type": "stream",
     "text": [
      " Make: Hyundai\n",
      " Model: Ioniq 5\n",
      " Color: White\n",
      " category: SUV\n"
     ]
    }
   ],
   "source": [
    "class Vehicle:\n",
    "\n",
    "    def __init__(self, make, model, color):\n",
    "        self.make = make\n",
    "        self.model = model\n",
    "        self.color = color\n",
    "\n",
    "    def get_details(self):\n",
    "        return f' Make: {self.make}\\n Model: {self.model}\\n Color: {self.color}'\n",
    "    \n",
    "class Car(Vehicle):\n",
    "\n",
    "    def __init__(self, make, model, color, category):\n",
    "        # Using super to call construtor from parent class\n",
    "        super().__init__(make, model, color)\n",
    "        self.category = category\n",
    "\n",
    "    def get_details(self):\n",
    "        # Using super to call get_details from parent class\n",
    "        vehicle_details = super().get_details()\n",
    "        return f'{vehicle_details}\\n category: {self.category}' \n",
    "\n",
    "# Create instance\n",
    "car = Car(\"Hyundai\", \"Ioniq 5\", \"White\", \"SUV\")\n",
    "\n",
    "# Print details\n",
    "car_details = car.get_details()\n",
    "\n",
    "print(car_details)"
   ]
  },
  {
   "cell_type": "markdown",
   "metadata": {},
   "source": [
    "\n",
    "### 6. Discuss the use of the `super()` function in Python inheritance. When and why is it used? Provide an example."
   ]
  },
  {
   "cell_type": "markdown",
   "metadata": {},
   "source": [
    "The `super()` function in Python is used in the context of inheritance to call methods or access attributes from the parent class (superclass) within the child class (subclass). It is commonly used for the following purposes:\n",
    "\n",
    "* **Calling Superclass Constructors**: To invoke the constructor of the parent class, allowing the subclass to initialize its own attributes while retaining the attributes and behavior of the parent class.\n",
    "\n",
    "* **Method Overriding**: To call overridden methods from the parent class to include the behavior of the parent class before or after custom behavior defined in the child class.\n",
    "\n",
    "* **Cooperative Multiple Inheritance**: In cases of multiple inheritance, where a class inherits from more than one superclass, `super()` helps resolve method order conflicts and ensures proper method execution based on method resolution order.\n",
    "\n",
    "Example of usage of `super()`:"
   ]
  },
  {
   "cell_type": "code",
   "execution_count": 34,
   "metadata": {},
   "outputs": [
    {
     "name": "stdout",
     "output_type": "stream",
     "text": [
      " Make: Hyundai\n",
      " Model: Ioniq 5\n",
      " Color: White\n",
      " category: SUV\n"
     ]
    }
   ],
   "source": [
    "class Vehicle:\n",
    "\n",
    "    def __init__(self, make, model, color):\n",
    "        self.make = make\n",
    "        self.model = model\n",
    "        self.color = color\n",
    "\n",
    "    def get_details(self):\n",
    "        return f' Make: {self.make}\\n Model: {self.model}\\n Color: {self.color}'\n",
    "    \n",
    "class Car(Vehicle):\n",
    "\n",
    "    def __init__(self, make, model, color, category):\n",
    "        # Using super to call construtor from parent class\n",
    "        super().__init__(make, model, color)\n",
    "        self.category = category\n",
    "\n",
    "    def get_details(self):\n",
    "        # Using super to call get_details from parent class\n",
    "        vehicle_details = super().get_details()\n",
    "        return f'{vehicle_details}\\n category: {self.category}' \n",
    "\n",
    "# Create instance\n",
    "car = Car(\"Hyundai\", \"Ioniq 5\", \"White\", \"SUV\")\n",
    "\n",
    "# Print details\n",
    "car_details = car.get_details()\n",
    "\n",
    "print(car_details)"
   ]
  },
  {
   "cell_type": "markdown",
   "metadata": {},
   "source": [
    "### 7. Create a Python class called `Animal` with a method `speak()`. Then, create child classes `Dog` and `Cat` that inherit from `Animal` and override the `speak()` method. Provide an example of using these classes."
   ]
  },
  {
   "cell_type": "code",
   "execution_count": 35,
   "metadata": {},
   "outputs": [
    {
     "name": "stdout",
     "output_type": "stream",
     "text": [
      "Dog says: Woof!\n",
      "Cat says: Meow!\n"
     ]
    }
   ],
   "source": [
    "class Animal:\n",
    "    def __init__(self, species):\n",
    "        self.species = species\n",
    "\n",
    "    def speak(self):\n",
    "        pass\n",
    "\n",
    "class Dog(Animal):\n",
    "    def speak(self):\n",
    "        return \"Woof!\"\n",
    "\n",
    "class Cat(Animal):\n",
    "    def speak(self):\n",
    "        return \"Meow!\"\n",
    "\n",
    "# Creating instances of subclasses\n",
    "dog = Dog(\"Dog\")\n",
    "cat = Cat(\"Cat\")\n",
    "\n",
    "# Calling the speak method on instances\n",
    "print(f\"{dog.species} says: {dog.speak()}\")\n",
    "print(f\"{cat.species} says: {cat.speak()}\")\n"
   ]
  },
  {
   "cell_type": "markdown",
   "metadata": {},
   "source": [
    "### 8. Explain the role of the `isinstance()` function in Python and how it relates to inheritance."
   ]
  },
  {
   "cell_type": "markdown",
   "metadata": {},
   "source": [
    "The `isinstance()` function in Python is used to determine if an object belongs to a particular class or a subclass. It checks the type of an object and returns `True` if the object is an instance of the specified class or a subclass of that class.\n",
    "\n",
    "The `isinstance()` function plays a key role in inheritance by allowing you to test whether an object is an instance of a specific class or one of its subclasses. It is often used for the following purposes:\n",
    "\n",
    "**Type Checking**: To ensure that an object is of the expected type before performing operations on it. This helps prevent errors and unexpected behavior.\n",
    "\n",
    "**Polymorphism**: To enable the use of objects of different classes in a generic way, as long as they share a common superclass. This is a fundamental concept in object-oriented programming and is closely related to inheritance.\n",
    "\n",
    "Example:"
   ]
  },
  {
   "cell_type": "code",
   "execution_count": 38,
   "metadata": {},
   "outputs": [
    {
     "name": "stdout",
     "output_type": "stream",
     "text": [
      "True\n",
      "True\n",
      "False\n",
      "True\n"
     ]
    }
   ],
   "source": [
    "class Animal:\n",
    "    def speak(self):\n",
    "        pass\n",
    "\n",
    "class Dog(Animal):\n",
    "    def speak(self):\n",
    "        print(\"Woof!\")\n",
    "\n",
    "class Cat(Animal):\n",
    "    def speak(self):\n",
    "        print(\"Meow!\")\n",
    "\n",
    "# Creating instances of Dog and Cat\n",
    "dog = Dog()\n",
    "cat = Cat()\n",
    "\n",
    "# Checking the type using isinstance\n",
    "print(isinstance(dog, Animal))\n",
    "print(isinstance(cat, Animal)) \n",
    "print(isinstance(cat, Dog))  # False\n",
    "print(isinstance(dog, Dog))  # True"
   ]
  },
  {
   "cell_type": "markdown",
   "metadata": {},
   "source": [
    "### 9. What is the purpose of the `issubclass()` function in Python? Provide an example."
   ]
  },
  {
   "cell_type": "markdown",
   "metadata": {},
   "source": [
    "Ans:\n",
    "> The issubclass() function in Python is used to check if a given class is a subclass of a specified class or a subclass of any class in a tuple of classes. It returns True if the first class is a subclass of the second class or any class in the tuple, and False otherwise.\n",
    "\n",
    "Example:"
   ]
  },
  {
   "cell_type": "code",
   "execution_count": 40,
   "metadata": {},
   "outputs": [
    {
     "name": "stdout",
     "output_type": "stream",
     "text": [
      "True\n",
      "False\n",
      "True\n"
     ]
    }
   ],
   "source": [
    "class Animal:\n",
    "    pass\n",
    "\n",
    "class Dog(Animal):\n",
    "    pass\n",
    "\n",
    "# Checking if Dog is a subclass of Animal\n",
    "print(issubclass(Dog, Animal))  # True\n",
    "\n",
    "# Checking if Animal is a subclass of Dog (which is not the case)\n",
    "print(issubclass(Animal, Dog))  # False\n",
    "\n",
    "# Checking if Dog is a subclass of object (the base class of all classes in Python)\n",
    "print(issubclass(Dog, object))  # True"
   ]
  },
  {
   "cell_type": "markdown",
   "metadata": {},
   "source": [
    "### 10. Discuss the concept of constructor inheritance in Python. How are constructors inherited in child classes?"
   ]
  },
  {
   "cell_type": "markdown",
   "metadata": {},
   "source": [
    "In Python, **constructors** are inherited by default in child classes. This means that if a child class does not have its own `__init__` method, it will automatically inherit the `__init__` method of its parent class (superclass). If the child class does have its own `__init__` method, it will override the constructor of the parent class."
   ]
  },
  {
   "cell_type": "code",
   "execution_count": 41,
   "metadata": {},
   "outputs": [
    {
     "name": "stdout",
     "output_type": "stream",
     "text": [
      "Species: Canine\n",
      "Breed: Golden Retriever\n",
      "Cat species: Cat\n"
     ]
    }
   ],
   "source": [
    "class Animal:\n",
    "    def __init__(self, species):\n",
    "        self.species = species\n",
    "\n",
    "    def speak(self):\n",
    "        pass\n",
    "\n",
    "class Dog(Animal):\n",
    "    # Override the constructor of super class\n",
    "    def __init__(self, species, breed):\n",
    "        super().__init__(species)\n",
    "        self.breed = breed\n",
    "\n",
    "    def speak(self):\n",
    "        print(\"Wuff!\")\n",
    "\n",
    "class Cat(Animal):\n",
    "    # Here constructor from super class will be used\n",
    "\n",
    "    def speak(self):\n",
    "        print(\"Meow!\")\n",
    "\n",
    "# Create Instances\n",
    "dog = Dog(\"Canine\", \"Golden Retriever\")\n",
    "cat = Cat(\"Cat\")\n",
    "\n",
    "print(f\"Species: {dog.species}\")\n",
    "print(f\"Breed: {dog.breed}\")\n",
    "\n",
    "print(f\"Cat species: {cat.species}\")"
   ]
  },
  {
   "cell_type": "markdown",
   "metadata": {},
   "source": [
    "\n",
    "### 11. Create a Python class called `Shape` with a method `area()` that calculates the area of a shape. Then, create child classes `Circle` and `Rectangle` that inherit from `Shape` and implement the `area()` method accordingly. Provide an example."
   ]
  },
  {
   "cell_type": "code",
   "execution_count": 42,
   "metadata": {},
   "outputs": [
    {
     "name": "stdout",
     "output_type": "stream",
     "text": [
      "Area of the circle: 153.86\n",
      "Area of the rectangle: 108\n"
     ]
    }
   ],
   "source": [
    "class Shape:\n",
    "    def area(self):\n",
    "        pass\n",
    "\n",
    "class Circle(Shape):\n",
    "    def __init__(self, radius):\n",
    "        self.radius = radius\n",
    "\n",
    "    def area(self):\n",
    "        return 3.14 * (self.radius ** 2)\n",
    "\n",
    "class Rectangle(Shape):\n",
    "    def __init__(self, length, width):\n",
    "        self.length = length\n",
    "        self.width = width\n",
    "\n",
    "    def area(self):\n",
    "        return self.length * self.width\n",
    "\n",
    "# Create Instances\n",
    "circle = Circle(7)\n",
    "rectangle = Rectangle(9, 12)\n",
    "\n",
    "print(f\"Area of the circle: {circle.area()}\") \n",
    "print(f\"Area of the rectangle: {rectangle.area()}\")\n"
   ]
  },
  {
   "cell_type": "markdown",
   "metadata": {},
   "source": [
    "### 12. Explain the use of abstract base classes (ABCs) in Python and how they relate to inheritance. Provide an example using the `abc` module."
   ]
  },
  {
   "cell_type": "markdown",
   "metadata": {},
   "source": [
    "\n",
    "Ans.\n",
    "\n",
    "**Abstract Base Classes** (ABCs) in Python provide a way to define a common interface for a group of related classes. They allow you to specify a set of methods that must be implemented by subclasses. In essence, ABCs define a contract that subclasses must adhere to.\n",
    "\n",
    "The abc module in Python's standard library is used to work with abstract base classes. It provides the ABC class and the abstractmethod decorator, which are key components for creating and using abstract base classes.\n",
    "\n",
    "Example as below:"
   ]
  },
  {
   "cell_type": "code",
   "execution_count": 43,
   "metadata": {},
   "outputs": [
    {
     "name": "stdout",
     "output_type": "stream",
     "text": [
      "Can't instantiate abstract class Shape with abstract method area\n",
      "Area of the circle: 153.86\n",
      "Area of the rectangle: 96\n"
     ]
    }
   ],
   "source": [
    "from abc import ABC, abstractmethod\n",
    "\n",
    "class Shape(ABC):\n",
    "    @abstractmethod\n",
    "    def area(self):\n",
    "        pass\n",
    "\n",
    "class Circle(Shape):\n",
    "    def __init__(self, radius):\n",
    "        self.radius = radius\n",
    "\n",
    "    def area(self):\n",
    "        return 3.14 * (self.radius ** 2)\n",
    "\n",
    "class Rectangle(Shape):\n",
    "    def __init__(self, length, width):\n",
    "        self.length = length\n",
    "        self.width = width\n",
    "\n",
    "    def area(self):\n",
    "        return self.length * self.width\n",
    "\n",
    "# Attempting to create an instance of Shape (which is not allowed)\n",
    "try:\n",
    "    shape = Shape()\n",
    "except TypeError as e:\n",
    "    print(e)  # Output: Can't instantiate abstract class Shape with abstract method area\n",
    "\n",
    "circle = Circle(7)\n",
    "rectangle = Rectangle(8, 12)\n",
    "\n",
    "print(f\"Area of the circle: {circle.area()}\")       # Output: Area of the circle: 78.5\n",
    "print(f\"Area of the rectangle: {rectangle.area()}\") # Output: Area of the rectangle: 24\n"
   ]
  },
  {
   "cell_type": "markdown",
   "metadata": {},
   "source": [
    "### 13. How can you prevent a child class from modifying certain attributes or methods inherited from a parent class in Python?"
   ]
  },
  {
   "cell_type": "markdown",
   "metadata": {},
   "source": [
    "Ans:\n",
    "\n",
    "> You can prevent attributes to be modified or methods to be inherited by derived class by making them private by using name mangling.\n",
    "\n",
    "Example:"
   ]
  },
  {
   "cell_type": "code",
   "execution_count": 46,
   "metadata": {},
   "outputs": [
    {
     "name": "stdout",
     "output_type": "stream",
     "text": [
      "I am private attribute\n"
     ]
    }
   ],
   "source": [
    "class Parent:\n",
    "    def __init__(self):\n",
    "        self.__private_attribute = \"I am private attribute\"\n",
    "    \n",
    "    def print_details(self):\n",
    "        print(self.__private_attribute)\n",
    "\n",
    "class Child(Parent):\n",
    "    def __init__(self):\n",
    "        super().__init__()\n",
    "        # this wont change the __private_attribute in class parent\n",
    "        self.__private_attribute = \"This won't affect the parent\"\n",
    "\n",
    "\n",
    "child = Child()\n",
    "\n",
    "child.print_details()"
   ]
  },
  {
   "cell_type": "markdown",
   "metadata": {},
   "source": [
    "### 14. Create a Python class called `Employee` with attributes `name` and `salary`. Then, create a child class `Manager` that inherits from `Employee` and adds an attribute `department`. Provide an example."
   ]
  },
  {
   "cell_type": "code",
   "execution_count": 47,
   "metadata": {},
   "outputs": [
    {
     "name": "stdout",
     "output_type": "stream",
     "text": [
      "Employee: Mahesh, Salary: 50000\n",
      "Manager: Robin, Salary: 90000, Department: IT\n"
     ]
    }
   ],
   "source": [
    "class Employee:\n",
    "    def __init__(self, name, salary):\n",
    "        self.name = name\n",
    "        self.salary = salary\n",
    "\n",
    "class Manager(Employee):\n",
    "    def __init__(self, name, salary, department):\n",
    "        super().__init__(name, salary)\n",
    "        self.department = department\n",
    "\n",
    "# Example Usage:\n",
    "\n",
    "employee1 = Employee(\"Mahesh\", 50000)\n",
    "manager1 = Manager(\"Robin\", 90000, \"IT\")\n",
    "\n",
    "print(f\"Employee: {employee1.name}, Salary: {employee1.salary}\")\n",
    "print(f\"Manager: {manager1.name}, Salary: {manager1.salary}, Department: {manager1.department}\")\n"
   ]
  },
  {
   "cell_type": "markdown",
   "metadata": {},
   "source": [
    "### 15. Discuss the concept of method overloading in Python inheritance. How does it differ from method overriding?"
   ]
  },
  {
   "cell_type": "markdown",
   "metadata": {},
   "source": [
    "Ans:\n",
    "\n",
    "> The concept of method overloading in Python differs slightly from languages like Java or C++. In Python, you can't have multiple methods with the same name but different parameter lists in the same class.\n",
    "\n",
    "However, you can achieve similar functionality by using default arguments or variable-length argument lists.\n",
    "\n",
    "Example:"
   ]
  },
  {
   "cell_type": "code",
   "execution_count": 49,
   "metadata": {},
   "outputs": [
    {
     "name": "stdout",
     "output_type": "stream",
     "text": [
      "40\n",
      "125\n"
     ]
    }
   ],
   "source": [
    "class Calculator:\n",
    "    def add(self, a, b, c=None):\n",
    "        if c is not None:\n",
    "            return a + b + c\n",
    "        else:\n",
    "            return a + b\n",
    "\n",
    "calculator = Calculator()\n",
    "result1 = calculator.add(13, 27)\n",
    "result2 = calculator.add(4, 54, 67)\n",
    "\n",
    "print(result1)\n",
    "print(result2)"
   ]
  },
  {
   "cell_type": "markdown",
   "metadata": {},
   "source": [
    "\n",
    "### 16. Explain the purpose of the `__init__()` method in Python inheritance and how it is utilized in child classes."
   ]
  },
  {
   "cell_type": "markdown",
   "metadata": {},
   "source": [
    "Ans:\n",
    "\n",
    "The `__init__()` method, also known as a constructor, in Python is a special method that is automatically called when a new object is created from a class. It is used to initialize the object's attributes or perform any necessary setup for the object.\n",
    "\n",
    "In the context of inheritance, when a subclass is created, it can have its own `__init__()` method. If the subclass defines an `__init__()` method, it will override the `__init__()` method of the parent class. However, it's often desirable to also initialize the attributes inherited from the parent class.\n",
    "\n",
    "`super()` allows you to call a method or access an attribute of the parent class. Specifically, `super().__init__()` is used in the child class's `__init__()` method to call the constructor of the parent class, ensuring that any necessary setup defined in the parent class's `__init__()` method is executed."
   ]
  },
  {
   "cell_type": "code",
   "execution_count": 1,
   "metadata": {},
   "outputs": [
    {
     "name": "stdout",
     "output_type": "stream",
     "text": [
      "Name: Robin, Age: 34\n"
     ]
    }
   ],
   "source": [
    "class Parent:\n",
    "    def __init__(self, name):\n",
    "        self.name = name\n",
    "\n",
    "class Child(Parent):\n",
    "    def __init__(self, name, age):\n",
    "        # Call the parent class's __init__ method\n",
    "        super().__init__(name)  \n",
    "        self.age = age\n",
    "\n",
    "# Create Instance\n",
    "child = Child(\"Robin\", 34)\n",
    "\n",
    "print(f\"Name: {child.name}, Age: {child.age}\")\n"
   ]
  },
  {
   "cell_type": "markdown",
   "metadata": {},
   "source": [
    "### 17. Create a Python class called `Bird` with a method `fly()`. Then, create child classes `Eagle` and `Sparrow` that inherit from `Bird` and implement the `fly()` method differently. Provide an example of using these classes."
   ]
  },
  {
   "cell_type": "code",
   "execution_count": 2,
   "metadata": {},
   "outputs": [
    {
     "name": "stdout",
     "output_type": "stream",
     "text": [
      "The bird is flying.\n",
      "The eagle soars high in the sky.\n",
      "The sparrow flits from branch to branch.\n"
     ]
    }
   ],
   "source": [
    "class Bird:\n",
    "    def fly(self):\n",
    "        print(\"The bird is flying.\")\n",
    "\n",
    "class Eagle(Bird):\n",
    "    def fly(self):\n",
    "        print(\"The eagle soars high in the sky.\")\n",
    "\n",
    "class Sparrow(Bird):\n",
    "    def fly(self):\n",
    "        print(\"The sparrow flits from branch to branch.\")\n",
    "\n",
    "\n",
    "# Create instances for each class\n",
    "bird = Bird()\n",
    "eagle = Eagle()\n",
    "sparrow = Sparrow()\n",
    "\n",
    "bird.fly()    # Output: The bird is flying.\n",
    "eagle.fly()   # Output: The eagle soars high in the sky.\n",
    "sparrow.fly() # Output: The sparrow flits from branch to branch."
   ]
  },
  {
   "cell_type": "markdown",
   "metadata": {},
   "source": [
    "### 18. What is the \"diamond problem\" in multiple inheritance, and how does Python address it?"
   ]
  },
  {
   "cell_type": "markdown",
   "metadata": {},
   "source": [
    "The \"diamond problem\" is a challenge that arises in programming languages that support multiple inheritance. It occurs when a particular class inherits from two or more classes that have a common ancestor. This creates ambiguity for the compiler or interpreter in determining which version of a method or attribute to use.\n",
    "\n",
    "Example: Consider scenario A --> B --> D and A --> C --> D\n",
    "Here, classes B and C both inherit from class A, and class D inherits from both B and C. If both B and C define a method or attribute with the same name, there's ambiguity in D about which version of the method or attribute to use.\n",
    "\n",
    "*Example of Diamond problem:*"
   ]
  },
  {
   "cell_type": "code",
   "execution_count": 5,
   "metadata": {},
   "outputs": [
    {
     "name": "stdout",
     "output_type": "stream",
     "text": [
      "Father called\n"
     ]
    }
   ],
   "source": [
    "class Person:\n",
    "\tdef display(self):\n",
    "\t\tprint(\"Person called\")\n",
    "\t\n",
    "class Father(Person):\n",
    "\tdef display(self):\n",
    "\t\tprint(\"Father called\")\n",
    "\t\n",
    "class Mother(Person):\n",
    "\tdef display(self):\n",
    "\t\tprint(\"Mother called\")\n",
    "\t\n",
    "class Child(Father, Mother):\n",
    "\tpass\n",
    "\t\n",
    "child_obj = Child()\n",
    "child_obj.display()\n"
   ]
  },
  {
   "cell_type": "markdown",
   "metadata": {},
   "source": [
    "**Python's Solution to Diamond Problem:**\n",
    "\n",
    "The ambiguity that we noticed in the diamond problem, is something that becomes irrelevant once we talk about the **Method Resolution Order** in Python. This method resolution order is essentially an order in which a particular method is searched for in the hierarchy of classes in the case of inheritance. Python uses a specific order to search for methods or attributes in a multiple inheritance scenario. This order ensures that there is no ambiguity in determining which method or attribute to use.\n",
    "\n",
    "Python's MRO algorithm ensures that methods are inherited in a consistent and predictable manner, and it prevents the diamond problem from occurring. It uses a depth-first, left-to-right approach to determine the method resolution order."
   ]
  },
  {
   "cell_type": "code",
   "execution_count": 8,
   "metadata": {},
   "outputs": [
    {
     "data": {
      "text/plain": [
       "(__main__.Child, __main__.Father, __main__.Mother, __main__.Person, object)"
      ]
     },
     "execution_count": 8,
     "metadata": {},
     "output_type": "execute_result"
    }
   ],
   "source": [
    "Child.__mro__"
   ]
  },
  {
   "cell_type": "markdown",
   "metadata": {},
   "source": [
    "Now here, in this order, we can observe that the class 'father' comes before the class 'mother'. This means that if we call the display() method on the class child, the python interpreter will invoke the display method of class 'father'."
   ]
  },
  {
   "cell_type": "markdown",
   "metadata": {},
   "source": [
    "### 19. Discuss the concept of \"is-a\" and \"has-a\" relationships in inheritance, and provide examples of each."
   ]
  },
  {
   "cell_type": "markdown",
   "metadata": {},
   "source": [
    "Ans.\n",
    "\n",
    "In object-oriented programming, \"is-a\" and \"has-a\" relationships are two fundamental concepts that describe the relationships between classes.\n",
    "\n",
    "1. **\"Is-a\" Relationship (Inheritance)**: An \"is-a\" relationship is established through inheritance. It signifies that a subclass is a specialized version of its superclass, inheriting its attributes and behaviors. It implies that an object of the subclass can be used wherever an object of the superclass is expected.\n",
    "\n",
    "For example, if you have a class Animal and a subclass Dog, you can say that \"a dog is an animal.\""
   ]
  },
  {
   "cell_type": "code",
   "execution_count": 9,
   "metadata": {},
   "outputs": [
    {
     "name": "stdout",
     "output_type": "stream",
     "text": [
      "Breathing\n",
      "Barking\n"
     ]
    }
   ],
   "source": [
    "class Animal:\n",
    "    def breathe(self):\n",
    "        print(\"Breathing\")\n",
    "\n",
    "# Dog is Animal (is a relationship)\n",
    "class Dog(Animal):\n",
    "    def bark(self):\n",
    "        print(\"Barking\")\n",
    "\n",
    "dog = Dog()\n",
    "dog.breathe()\n",
    "dog.bark()"
   ]
  },
  {
   "cell_type": "markdown",
   "metadata": {},
   "source": [
    "2. **\"Has-a\" Relationship (Composition)**: A \"has-a\" relationship is established through composition, where one class contains an instance of another class as a member or attribute. It signifies that one class \"has\" another class as a part of its implementation.\n",
    "\n",
    "For example, a Car \"has\" an engine."
   ]
  },
  {
   "cell_type": "code",
   "execution_count": 10,
   "metadata": {},
   "outputs": [
    {
     "name": "stdout",
     "output_type": "stream",
     "text": [
      "Engine starting\n",
      "Car driving\n"
     ]
    }
   ],
   "source": [
    "class Engine:\n",
    "    def start(self):\n",
    "        print(\"Engine starting\")\n",
    "\n",
    "class Car:\n",
    "    def __init__(self):\n",
    "        # Car has a Engine\n",
    "        self.engine = Engine()\n",
    "\n",
    "    def drive(self):\n",
    "        self.engine.start()\n",
    "        print(\"Car driving\")\n",
    "\n",
    "car = Car()\n",
    "car.drive()\n"
   ]
  },
  {
   "cell_type": "markdown",
   "metadata": {},
   "source": [
    "### 20. Create a Python class hierarchy for a university system. Start with a base class `Person` and create child classes `Student` and `Professor`, each with their own attributes and methods. Provide an example of using these classes in a university context."
   ]
  },
  {
   "cell_type": "code",
   "execution_count": 13,
   "metadata": {},
   "outputs": [
    {
     "name": "stdout",
     "output_type": "stream",
     "text": [
      "Hi, I'm Robin and I'm 32 years old.\n",
      "Robin is studying Machine Learning.\n",
      "Hi, I'm Sudhanshu and I'm 36 years old.\n",
      "Professor Sudhanshu is teaching Python in the Artificial Intelligence department.\n"
     ]
    }
   ],
   "source": [
    "# base class `Person`\n",
    "class Person:\n",
    "    def __init__(self, name, age):\n",
    "        self.name = name\n",
    "        self.age = age\n",
    "\n",
    "    def introduce(self):\n",
    "        print(f\"Hi, I'm {self.name} and I'm {self.age} years old.\")\n",
    "\n",
    "# create child class `Student`\n",
    "class Student(Person):\n",
    "    def __init__(self, name, age, student_id):\n",
    "        super().__init__(name, age)\n",
    "        self.student_id = student_id\n",
    "\n",
    "    def study(self, subject):\n",
    "        print(f\"{self.name} is studying {subject}.\")\n",
    "\n",
    "# create child class `Professor`\n",
    "class Professor(Person):\n",
    "    def __init__(self, name, age, employee_id, department):\n",
    "        super().__init__(name, age)\n",
    "        self.employee_id = employee_id\n",
    "        self.department = department\n",
    "\n",
    "    def teach(self, subject):\n",
    "        print(f\"Professor {self.name} is teaching {subject} in the {self.department} department.\")\n",
    "\n",
    "\n",
    "# Create Instance of Student and Professor\n",
    "student1 = Student(\"Robin\", 32, \"51786\")\n",
    "professor1 = Professor(\"Sudhanshu\", 36, \"P567\", \"Artificial Intelligence\")\n",
    "\n",
    "# Operations like introduce, study and teach\n",
    "student1.introduce()\n",
    "student1.study(\"Machine Learning\") \n",
    "professor1.introduce()\n",
    "professor1.teach(\"Python\")"
   ]
  },
  {
   "cell_type": "markdown",
   "metadata": {},
   "source": [
    "## Encapsulation"
   ]
  },
  {
   "cell_type": "markdown",
   "metadata": {},
   "source": [
    "### 1. Explain the concept of encapsulation in Python. What is its role in object-oriented programming?"
   ]
  },
  {
   "cell_type": "markdown",
   "metadata": {},
   "source": [
    "Ans:\n",
    "\n",
    "**Encapsulation** refers to the bundling of data (attributes) and the methods (functions) that operate on that data within a single unit, often referred to as a \"class.\" The role of encapsulation in object-oriented programming (OOP) is to bundle data (attributes) and the methods (functions) that operate on that data within a single unit.\n",
    "\n",
    "The key points of encapsulation are:\n",
    "\n",
    "* **Data Hiding**: Encapsulation allows the internal state of an object to be hidden from the outside world. This means that the data inside an object can only be accessed and modified through methods defined in the class.\n",
    "\n",
    "* **Access Control**: Encapsulation provides control over who can access or modify the data. By defining specific methods (getters and setters), a class can restrict direct access to its attributes, enforcing controlled interactions.\n",
    "\n",
    "* **Modularity and Maintainability**: Encapsulation promotes modularity by grouping related data and behavior together. This makes it easier to understand, maintain, and modify the code, as changes are localized within the class.\n",
    "\n",
    "* **Prevents Unintended Modifications**: Encapsulation helps prevent unintended modifications to an object's state by providing a controlled interface for interacting with the object. This reduces the risk of errors caused by unexpected changes in the data.\n",
    "\n",
    "In Python, encapsulation is achieved by using access modifiers such as underscores (`_` and `__`) to control the visibility of attributes and methods. These are conventions, as Python does not have strict access control like some other languages.\n",
    "\n",
    "Single underscore _attribute: Indicates a *\"protected\"* attribute. It's meant to be used as a non-public part of the API, but it can still be accessed outside the class.\n",
    "\n",
    "Double underscore __attribute: Indicates a *\"private\"* attribute. It's name-mangled to make it harder to create subclasses that accidentally override private methods and attributes."
   ]
  },
  {
   "cell_type": "markdown",
   "metadata": {},
   "source": [
    "### 2. Describe the key principles of encapsulation, including access control and data hiding."
   ]
  },
  {
   "cell_type": "markdown",
   "metadata": {},
   "source": [
    "**Encapsulation** refers to the bundling of data (attributes) and the methods (functions) that operate on that data within a single unit, often referred to as a \"class.\"\n",
    "\n",
    "The key principles of encapsulation are:\n",
    "\n",
    "* **Data Hiding**: Encapsulation allows the internal state of an object to be hidden from the outside world. This means that the data inside an object can only be accessed and modified through methods defined in the class.\n",
    "\n",
    "* **Access Control**: Encapsulation provides control over who can access or modify the data. By defining specific methods (getters and setters), a class can restrict direct access to its attributes, enforcing controlled interactions.\n",
    "\n",
    "* **Modularity and Maintainability**: Encapsulation promotes modularity by grouping related data and behavior together. This makes it easier to understand, maintain, and modify the code, as changes are localized within the class.\n",
    "\n",
    "* **Prevents Unintended Modifications**: Encapsulation helps prevent unintended modifications to an object's state by providing a controlled interface for interacting with the object. This reduces the risk of errors caused by unexpected changes in the data.\n",
    "\n",
    "* **Enhanced Security:**: Encapsulation contributes to the security of a program by preventing direct access to sensitive data. It ensures that data can only be modified or accessed through designated methods, reducing the risk of unauthorized changes.\n",
    "\n",
    "* **Code Reusability:**: Encapsulation allows classes to be used as building blocks for creating more complex systems. Once a class is defined, it can be reused in different parts of a program or in different programs altogether.\n",
    "\n",
    "**Access Control And Data hiding**\n",
    "In Python, encapsulation is achieved by using **access modifiers** such as underscores (`_` and `__`) to control the visibility of attributes and methods. These are conventions, as Python does not have strict access control like some other languages.\n",
    "\n",
    "* **Single underscore _attribute**: Indicates a *\"protected\"* attribute. It's meant to be used as a non-public part of the API, but it can still be accessed outside the class.\n",
    "\n",
    "* **Double underscore __attribute**: Indicates a *\"private\"* attribute. It's name-mangled to make it harder to create subclasses that accidentally override private methods and attributes."
   ]
  },
  {
   "cell_type": "markdown",
   "metadata": {},
   "source": [
    "### 3. How can you achieve encapsulation in Python classes? Provide an example."
   ]
  },
  {
   "cell_type": "markdown",
   "metadata": {},
   "source": [
    "**Encapsulation** in Python classes can be achieved by using access modifiers such as underscores (_ and __) to control the visibility of attributes and methods. While Python does not have strict access control like some other languages, these conventions are used to indicate the intended level of visibility.\n",
    "\n",
    "* **Single underscore _attribute**: Indicates a *\"protected\"* attribute. It's meant to be used as a non-public part of the API, but it can still be accessed outside the class.\n",
    "\n",
    "* **Double underscore __attribute**: Indicates a *\"private\"* attribute. It's name-mangled to make it harder to create subclasses that accidentally override private methods and attributes.\n",
    "\n",
    "Example:"
   ]
  },
  {
   "cell_type": "code",
   "execution_count": 15,
   "metadata": {},
   "outputs": [
    {
     "name": "stdout",
     "output_type": "stream",
     "text": [
      "Account Number: 123456789\n",
      "Balance: 500\n"
     ]
    }
   ],
   "source": [
    "class BankAccount:\n",
    "    def __init__(self, account_number):\n",
    "        self._account_number = account_number  # Protected attribute\n",
    "        self.__balance = 0  # Private attribute\n",
    "\n",
    "    def deposit(self, amount):\n",
    "        self.__balance += amount\n",
    "\n",
    "    def withdraw(self, amount):\n",
    "        if self.__balance >= amount:\n",
    "            self.__balance -= amount\n",
    "        else:\n",
    "            print(\"Insufficient funds\")\n",
    "\n",
    "    def get_balance(self):\n",
    "        return self.__balance\n",
    "\n",
    "    def get_account_number(self):\n",
    "        return self._account_number\n",
    "\n",
    "# Creating an account with account number \"123456789\"\n",
    "account = BankAccount(\"123456789\")  \n",
    "account.deposit(1000)\n",
    "account.withdraw(500)\n",
    "print(f\"Account Number: {account.get_account_number()}\")\n",
    "print(f\"Balance: {account.get_balance()}\")\n"
   ]
  },
  {
   "cell_type": "markdown",
   "metadata": {},
   "source": [
    "\n",
    "### 4. Discuss the difference between public, private, and protected access modifiers in Python."
   ]
  },
  {
   "cell_type": "markdown",
   "metadata": {},
   "source": [
    "Ans:\n",
    "\n",
    "> In Python, access modifiers are conventions used to indicate the intended level of visibility for attributes and methods within a class. These access modifiers help in maintaining code integrity and readability.\n",
    "\n",
    "* **Public (public)**:\n",
    "    * Attributes or methods with **no underscore** (`_`) prefix are considered public.\n",
    "    * They can be accessed from outside the class, as well as from within the class itself and its subclasses.\n",
    "    * Example: `def method(self):`\n",
    "\n",
    "* **Protected (protected)**:\n",
    "    * Attributes or methods with a **single underscore** (`_`) prefix are considered protected.\n",
    "    * They are intended for internal use within the class and its subclasses.\n",
    "    * While they can be accessed from outside the class, it's a convention to treat them as non-public.\n",
    "    * Example: `def _method(self):`\n",
    "\n",
    "* **Private (private)**:\n",
    "    * Attributes or methods with a **double underscore** (`__`) prefix are considered private.\n",
    "    * They are intended for internal use within the class only and are name-mangled to make it harder to create subclasses that accidentally override private methods and attributes.\n",
    "    * They cannot be accessed from outside the class.\n",
    "    * Example: `def __method(self):`\n",
    "\n",
    "Example code:"
   ]
  },
  {
   "cell_type": "code",
   "execution_count": 17,
   "metadata": {},
   "outputs": [
    {
     "name": "stdout",
     "output_type": "stream",
     "text": [
      "1\n",
      "2\n",
      "Public Method\n",
      "Protected Method\n"
     ]
    }
   ],
   "source": [
    "class Example:\n",
    "    def __init__(self):\n",
    "        self.public_attribute = 1      # Public attribute\n",
    "        self._protected_attribute = 2  # Protected attribute\n",
    "        self.__private_attribute = 3   # Private attribute\n",
    "\n",
    "    def public_method(self):\n",
    "        return \"Public Method\"\n",
    "\n",
    "    def _protected_method(self):\n",
    "        return \"Protected Method\"\n",
    "\n",
    "    def __private_method(self):\n",
    "        return \"Private Method\"\n",
    "\n",
    "# Create an instance\n",
    "obj = Example()\n",
    "\n",
    "# Accessing attributes\n",
    "print(obj.public_attribute)       # Output: 1\n",
    "print(obj._protected_attribute)   # Output: 2\n",
    "# print(obj.__private_attribute)   # Error: 'Example' object has no attribute '__private_attribute'\n",
    "\n",
    "# Accessing methods\n",
    "print(obj.public_method())        # Output: Public Method\n",
    "print(obj._protected_method())    # Output: Protected Method\n",
    "# print(obj.__private_method())    # Error: 'Example' object has no attribute '__private_method'\n"
   ]
  },
  {
   "cell_type": "markdown",
   "metadata": {},
   "source": [
    "\n",
    "### 5. Create a Python class called `Person` with a private attribute `__name`. Provide methods to get and set the name attribute."
   ]
  },
  {
   "cell_type": "code",
   "execution_count": 18,
   "metadata": {},
   "outputs": [
    {
     "name": "stdout",
     "output_type": "stream",
     "text": [
      "Robin\n",
      "Robin Pabbi\n"
     ]
    }
   ],
   "source": [
    "class Person:\n",
    "    def __init__(self, name):\n",
    "        self.__name = name\n",
    "\n",
    "    def get_name(self):\n",
    "        return self.__name\n",
    "\n",
    "    def set_name(self, new_name):\n",
    "        self.__name = new_name\n",
    "\n",
    "# Example Usage:\n",
    "\n",
    "person = Person(\"Robin\")\n",
    "\n",
    "# Accessing the name using the get_name method\n",
    "print(person.get_name())\n",
    "\n",
    "# Changing the name using the set_name method\n",
    "person.set_name(\"Robin Pabbi\")\n",
    "print(person.get_name()) "
   ]
  },
  {
   "cell_type": "markdown",
   "metadata": {},
   "source": [
    "\n",
    "### 6. Explain the purpose of getter and setter methods in encapsulation. Provide examples."
   ]
  },
  {
   "cell_type": "markdown",
   "metadata": {},
   "source": [
    "Ans:\n",
    "\n",
    "Getter and setter methods are a part of encapsulation in object-oriented programming. They provide controlled access to the attributes of a class, allowing you to retrieve and modify their values. This helps maintain data integrity and enables you to add additional logic or validation when getting or setting attributes.\n",
    "\n",
    "**Getter Methods** (also known as Accessor Methods):\n",
    "\n",
    "* Getter methods are used to retrieve the values of private attributes.\n",
    "* They provide controlled read-only access to attribute values.\n",
    "* They can include additional logic or validation before returning the value.\n",
    "\n",
    "**Setter Methods** (also known as Mutator Methods):\n",
    "\n",
    "* Setter methods are used to modify the values of private attributes.\n",
    "* They provide controlled write-only access to attribute values.\n",
    "* They can include validation or additional logic to ensure that the new value is acceptable.\n",
    "\n",
    "Example code:"
   ]
  },
  {
   "cell_type": "code",
   "execution_count": 1,
   "metadata": {},
   "outputs": [
    {
     "name": "stdout",
     "output_type": "stream",
     "text": [
      "15\n",
      "20\n",
      "28\n"
     ]
    }
   ],
   "source": [
    "class Rectangle:\n",
    "    def __init__(self, width, height):\n",
    "        # Private attributes\n",
    "        self.__width = width  \n",
    "        self.__height = height\n",
    "\n",
    "    # Getter methods\n",
    "    def get_width(self):\n",
    "        return self.__width\n",
    "\n",
    "    def get_height(self):\n",
    "        return self.__height\n",
    "\n",
    "    # Setter methods\n",
    "    def set_width(self, width):\n",
    "        if width > 0:\n",
    "            self.__width = width\n",
    "\n",
    "    def set_height(self, height):\n",
    "        if height > 0:\n",
    "            self.__height = height\n",
    "\n",
    "    def area(self):\n",
    "        return self.__width * self.__height\n",
    "\n",
    "# Creating instance:\n",
    "rectangle = Rectangle(15, 20)\n",
    "\n",
    "# Using getter methods to access attributes\n",
    "print(rectangle.get_width())\n",
    "print(rectangle.get_height())\n",
    "\n",
    "# Using setter methods to modify attributes\n",
    "rectangle.set_width(7)\n",
    "rectangle.set_height(4)\n",
    "\n",
    "# Calculating the area using the area method\n",
    "print(rectangle.area())\n"
   ]
  },
  {
   "cell_type": "markdown",
   "metadata": {},
   "source": [
    "\n",
    "### 7. What is name mangling in Python, and how does it affect encapsulation?"
   ]
  },
  {
   "cell_type": "markdown",
   "metadata": {},
   "source": [
    "Ans:\n",
    "\n",
    "Name mangling is a technique used in Python to make attributes in a class more difficult to access from outside the class. It involves adding a prefix or suffix to an attribute name to make it harder to accidentally override or access it.\n",
    "\n",
    "In Python, name mangling is achieved by adding two underscores (__) before an attribute name. When this is done, the Python interpreter actually changes the name of the variable in a way that makes it harder to create subclasses that accidentally override private methods and attributes.\n",
    "\n",
    "Name **mangling affects encapsulation** by making it harder to accidentally override or access private attributes. It adds an extra level of protection, but it's important to note that it's still possible to access these attributes if you really want to."
   ]
  },
  {
   "cell_type": "markdown",
   "metadata": {},
   "source": [
    "\n",
    "### 8. Create a Python class called `BankAccount` with private attributes for the account balance (`__balance`) and account number (`__account_number`). Provide methods for depositing and withdrawing money."
   ]
  },
  {
   "cell_type": "code",
   "execution_count": 2,
   "metadata": {},
   "outputs": [
    {
     "name": "stdout",
     "output_type": "stream",
     "text": [
      "Account Number: 123456789\n",
      "Initial Balance: 10000\n",
      "Updated Balance: 11500\n",
      "Updated Balance: 9400\n"
     ]
    }
   ],
   "source": [
    "# Create a Python class called `BankAccount`\n",
    "class BankAccount:\n",
    "    def __init__(self, account_number, initial_balance=0):\n",
    "        # Private attributes\n",
    "        self.__account_number = account_number\n",
    "        self.__balance = initial_balance\n",
    "\n",
    "    # methods for depositing money\n",
    "    def deposit(self, amount):\n",
    "        if amount > 0:\n",
    "            self.__balance += amount\n",
    "        else:\n",
    "            print(\"Invalid deposit amount. Please enter a positive value!\")\n",
    "\n",
    "    # methods for withdrawing money\n",
    "    def withdraw(self, amount):\n",
    "        if 0 < amount <= self.__balance:\n",
    "            self.__balance -= amount\n",
    "        else:\n",
    "            print(\"Insufficient funds in account. Please enter valid value!\")\n",
    "\n",
    "    def get_balance(self):\n",
    "        return self.__balance\n",
    "\n",
    "    def get_account_number(self):\n",
    "        return self.__account_number\n",
    "\n",
    "# Create an instance\n",
    "account = BankAccount(\"123456789\", 10000)\n",
    "\n",
    "print(f\"Account Number: {account.get_account_number()}\")\n",
    "print(f\"Initial Balance: {account.get_balance()}\")\n",
    "account.deposit(1500)\n",
    "print(f\"Updated Balance: {account.get_balance()}\")\n",
    "\n",
    "account.withdraw(2100)\n",
    "print(f\"Updated Balance: {account.get_balance()}\")\n",
    "\n",
    "account.withdraw(2000)\n"
   ]
  },
  {
   "cell_type": "markdown",
   "metadata": {},
   "source": [
    "\n",
    "### 9. Discuss the advantages of encapsulation in terms of code maintainability and security."
   ]
  },
  {
   "cell_type": "markdown",
   "metadata": {},
   "source": [
    "*Ans:*\n",
    "\n",
    "Encapsulation is a fundamental concept in object-oriented programming that offers several advantages in terms of code maintainability and security:\n",
    "\n",
    "1. **Code Maintainability**:\n",
    "\n",
    "* **Modularization**: Encapsulation allows you to modularize your code by defining a clear interface for interactions with objects. This makes it easier to understand, modify, and extend your code.\n",
    "\n",
    "* **Reduced Complexity**: By hiding the internal implementation details of a class, encapsulation simplifies the interface and shields the rest of the code from the complexity of the class's internals.\n",
    "\n",
    "* **Improved Readability**: Encapsulation promotes a clean separation between the public interface and private implementation, making the code more readable and comprehensible.\n",
    "\n",
    "2. **Security**:\n",
    "\n",
    "* **Controlled Access**: Encapsulation restricts access to certain attributes and methods by making them private or protected. This prevents unintended or unauthorized modifications, reducing the risk of bugs and security vulnerabilities.\n",
    "\n",
    "* **Data Validation**: Encapsulation allows you to add validation logic within setter methods, ensuring that only valid data is stored in object attributes. This is especially important for maintaining data integrity and security.\n",
    "\n",
    "* **Prevention of Unauthorized Modifications**: By hiding the internal state of an object and allowing controlled access, encapsulation helps prevent unintended or unauthorized modifications to an object's attributes."
   ]
  },
  {
   "cell_type": "markdown",
   "metadata": {},
   "source": [
    "\n",
    "### 10. How can you access private attributes in Python? Provide an example demonstrating the use of name mangling."
   ]
  },
  {
   "cell_type": "markdown",
   "metadata": {},
   "source": [
    "*Ans:*\n",
    "\n",
    "Name mangling involves adding a prefix to the attribute name, which makes it harder to access from outside the class.\n",
    "\n",
    "Private attributes in Python are those that start with two underscores (`__`). When Python encounters this, it internally changes the name of the variable to `_classname__variablename`. This is known as *name mangling*.\n",
    "\n",
    "Private attributes can be accessed using a technique called \"name mangling\". We can access the private of the class using `_classname__variablename`.\n",
    "\n",
    "Example as below:"
   ]
  },
  {
   "cell_type": "code",
   "execution_count": 3,
   "metadata": {},
   "outputs": [
    {
     "name": "stdout",
     "output_type": "stream",
     "text": [
      "42\n"
     ]
    }
   ],
   "source": [
    "class MyClass:\n",
    "    def __init__(self):\n",
    "        self.__private_attribute = 42\n",
    "\n",
    "    def access_private_attribute(self):\n",
    "        return self.__private_attribute\n",
    "\n",
    "# Create an instance\n",
    "my_object = MyClass()\n",
    "\n",
    "# Accessing the private attribute using the name mangling technique\n",
    "print(my_object._MyClass__private_attribute)\n"
   ]
  },
  {
   "cell_type": "markdown",
   "metadata": {},
   "source": [
    "\n",
    "### 11. Create a Python class hierarchy for a school system, including classes for students, teachers, and courses, and implement encapsulation principles to protect sensitive information."
   ]
  },
  {
   "cell_type": "code",
   "execution_count": 5,
   "metadata": {},
   "outputs": [
    {
     "name": "stdout",
     "output_type": "stream",
     "text": [
      "Course: Machine Learning (ML101)\n",
      "Teacher: Ms. Gauri, Employee ID: T9876\n",
      "Student: Mahesh, Student ID: S12345, Age: 18\n",
      "Student: Hari, Student ID: S12346, Age: 17\n"
     ]
    }
   ],
   "source": [
    "class Person:\n",
    "    def __init__(self, name, age):\n",
    "        self.__name = name\n",
    "        self.__age = age\n",
    "\n",
    "    def get_name(self):\n",
    "        return self.__name\n",
    "\n",
    "    def get_age(self):\n",
    "        return self.__age\n",
    "\n",
    "\n",
    "class Student(Person):\n",
    "    def __init__(self, name, age, student_id):\n",
    "        super().__init__(name, age)\n",
    "        self.__student_id = student_id\n",
    "\n",
    "    def get_student_id(self):\n",
    "        return self.__student_id\n",
    "\n",
    "\n",
    "class Teacher(Person):\n",
    "    def __init__(self, name, age, employee_id):\n",
    "        super().__init__(name, age)\n",
    "        self.__employee_id = employee_id\n",
    "\n",
    "    def get_employee_id(self):\n",
    "        return self.__employee_id\n",
    "\n",
    "\n",
    "class Course:\n",
    "    def __init__(self, course_name, course_code):\n",
    "        self.__course_name = course_name\n",
    "        self.__course_code = course_code\n",
    "        self.__students = []\n",
    "\n",
    "    def get_course_name(self):\n",
    "        return self.__course_name\n",
    "\n",
    "    def get_course_code(self):\n",
    "        return self.__course_code\n",
    "\n",
    "    def add_student(self, student):\n",
    "        self.__students.append(student)\n",
    "\n",
    "    def get_students(self):\n",
    "        return self.__students\n",
    "\n",
    "\n",
    "# Usages:\n",
    "student1 = Student(\"Mahesh\", 18, \"S12345\")\n",
    "student2 = Student(\"Hari\", 17, \"S12346\")\n",
    "\n",
    "teacher = Teacher(\"Ms. Gauri\", 30, \"T9876\")\n",
    "\n",
    "course = Course(\"Machine Learning\", \"ML101\")\n",
    "course.add_student(student1)\n",
    "course.add_student(student2)\n",
    "\n",
    "print(f\"Course: {course.get_course_name()} ({course.get_course_code()})\")\n",
    "print(f\"Teacher: {teacher.get_name()}, Employee ID: {teacher.get_employee_id()}\")\n",
    "\n",
    "for student in course.get_students():\n",
    "    print(f\"Student: {student.get_name()}, Student ID: {student.get_student_id()}, Age: {student.get_age()}\")"
   ]
  },
  {
   "cell_type": "markdown",
   "metadata": {},
   "source": [
    "### 12. Explain the concept of property decorators in Python and how they relate to encapsulation."
   ]
  },
  {
   "cell_type": "markdown",
   "metadata": {},
   "source": [
    "*Ans:*\n",
    "\n",
    "**Property decorators** are a mechanism for controlling access to class attributes by providing getter, setter, and deleter methods for these attributes. They are used to implement encapsulation and control how attribute values are accessed, set, or deleted.\n",
    "\n",
    "Property decorators are typically applied to class attributes, allowing you to define custom behavior when reading, writing, or deleting the values of those attributes. This is achieved using the `@property`, `@attribute_name.setter`, and `@attribute_name.deleter` decorators. Here's how they relate to encapsulation:\n",
    "\n",
    "**@property**: This decorator is used for getter methods. It allows you to define how an attribute's value is retrieved when accessed. By using `@property` or `@property.getter`, you can encapsulate the internal representation of an attribute and provide a controlled way to access it. This is especially useful when you need to calculate or validate the value before returning it.\n",
    "\n",
    "**@attribute_name.setter**: This decorator is used for setter methods. It allows you to control how the attribute's value is set. With a setter, you can validate and modify the incoming value before assigning it to the attribute, ensuring data integrity and security.\n",
    "\n",
    "**@attribute_name.deleter**: This decorator is used for deleter methods. It allows you to specify the behavior when an attribute is deleted. This can be useful for releasing resources or implementing additional cleanup actions."
   ]
  },
  {
   "cell_type": "code",
   "execution_count": 15,
   "metadata": {},
   "outputs": [
    {
     "name": "stdout",
     "output_type": "stream",
     "text": [
      "Getting name\n",
      "Robin\n",
      "Setting name\n",
      "Deleting name\n",
      "Getting age\n",
      "20\n"
     ]
    }
   ],
   "source": [
    "class Student:\n",
    "    def __init__(self, name, age):\n",
    "        self._name = name\n",
    "        self._age = age\n",
    "\n",
    "    @property\n",
    "    def name(self):\n",
    "        print(\"Getting name\")\n",
    "        return self._name\n",
    "\n",
    "    @name.setter\n",
    "    def name(self, new_name):\n",
    "        print(\"Setting name\")\n",
    "        self._name = new_name\n",
    "\n",
    "    @name.deleter\n",
    "    def name(self):\n",
    "        print(\"Deleting name\")\n",
    "        del self._name\n",
    "\n",
    "    @property\n",
    "    def age(self):\n",
    "        print(\"Getting age\")\n",
    "        return self._age\n",
    "\n",
    "student = Student(\"Robin\", 20)\n",
    "\n",
    "# Using the getter for reading the name attribute\n",
    "print(student.name)  # Output: Getting name, Alice\n",
    "\n",
    "# Using the setter for setting the name attribute\n",
    "student.name = \"Robin Pabbi\"\n",
    "\n",
    "# Using the deleter for deleting the name attribute\n",
    "del student.name\n",
    "\n",
    "# Using the property decorator for reading the age attribute\n",
    "print(student.age)\n"
   ]
  },
  {
   "cell_type": "markdown",
   "metadata": {},
   "source": [
    "### 13. What is data hiding, and why is it important in encapsulation? Provide examples."
   ]
  },
  {
   "cell_type": "markdown",
   "metadata": {},
   "source": [
    "*Ans:*\n",
    "\n",
    "**Data hiding** is a fundamental principle in object-oriented programming that involves restricting access to certain attributes or methods of a class. It allows the internal state and behavior of an object to be kept private and accessible only through a defined public interface.\n",
    "\n",
    "The main goal of data hiding is to protect the internal representation of an object from external interference or misuse.\n",
    "\n",
    "**Why Data Hiding is Important in Encapsulation**:\n",
    "\n",
    "* **Preventing Unauthorized Access**: Data hiding helps prevent unauthorized or unintended access to sensitive attributes or methods. This is crucial for maintaining the integrity and security of an object's state.\n",
    "\n",
    "* **Maintaining Abstraction**: By hiding the internal details of an object, you can present a simplified and abstract view of the object's behavior to the outside world. This abstraction makes it easier to understand and use the object without being concerned about its internal implementation.\n",
    "\n",
    "* **Facilitating Code Maintenance**: With data hiding, you can modify the internal implementation of a class without affecting the code that uses it. This reduces the risk of unintended side effects and makes it easier to maintain and evolve the codebase.\n",
    "\n",
    "* **Enhancing Security**: By controlling access to sensitive attributes, you can prevent unauthorized modifications that could lead to security vulnerabilities or incorrect behavior.\n",
    "\n",
    "Example of Data hiding:"
   ]
  },
  {
   "cell_type": "code",
   "execution_count": 1,
   "metadata": {},
   "outputs": [
    {
     "name": "stdout",
     "output_type": "stream",
     "text": [
      "Current Balance: 10000\n",
      "Updated Balance: 11500\n",
      "Updated Balance: 9400\n"
     ]
    }
   ],
   "source": [
    "class BankAccount:\n",
    "    def __init__(self, account_number, initial_balance):\n",
    "        self.__account_number = account_number  # Private attribute\n",
    "        self.__balance = initial_balance  # Private attribute\n",
    "\n",
    "    def deposit(self, amount):\n",
    "        if amount > 0:\n",
    "            self.__balance += amount\n",
    "\n",
    "    def withdraw(self, amount):\n",
    "        if 0 < amount <= self.__balance:\n",
    "            self.__balance -= amount\n",
    "\n",
    "    def get_balance(self):\n",
    "        return self.__balance\n",
    "\n",
    "# Create Instance\n",
    "account = BankAccount(\"123456789\", 10000)\n",
    "\n",
    "# Accessing the balance through a controlled method\n",
    "current_balance = account.get_balance()\n",
    "print(f\"Current Balance: {current_balance}\")\n",
    "\n",
    "# Depositing money through a controlled method\n",
    "account.deposit(1500)\n",
    "print(f\"Updated Balance: {account.get_balance()}\")\n",
    "\n",
    "# Withdrawing money through a controlled method\n",
    "account.withdraw(2100)\n",
    "print(f\"Updated Balance: {account.get_balance()}\")\n"
   ]
  },
  {
   "cell_type": "markdown",
   "metadata": {},
   "source": [
    "### 14. Create a Python class called `Employee` with private attributes for salary (`__salary`) and employee ID (`__employee_id`). Provide a method to calculate yearly bonuses."
   ]
  },
  {
   "cell_type": "code",
   "execution_count": 4,
   "metadata": {},
   "outputs": [
    {
     "name": "stdout",
     "output_type": "stream",
     "text": [
      "Name: Robin Pabbi\n",
      "Employee ID: MS987765\n",
      "Salary: 235000\n",
      "Yearly Bonus: 47000.0\n"
     ]
    }
   ],
   "source": [
    "class Employee:\n",
    "    def __init__(self, name, employee_id, salary):\n",
    "        self.__name = name\n",
    "        self.__employee_id = employee_id\n",
    "        self.__salary = salary\n",
    "\n",
    "    def calculate_bonus(self, bonus_percentage):\n",
    "        bonus = (bonus_percentage / 100) * self.__salary\n",
    "        return bonus\n",
    "\n",
    "    def get_name(self):\n",
    "        return self.__name\n",
    "\n",
    "    def get_employee_id(self):\n",
    "        return self.__employee_id\n",
    "\n",
    "    def get_salary(self):\n",
    "        return self.__salary\n",
    "\n",
    "\n",
    "# Create Instance of Employee\n",
    "\n",
    "employee = Employee(\"Robin Pabbi\", \"MS987765\", 235000)\n",
    "\n",
    "# Accessing attributes through controlled methods\n",
    "print(f\"Name: {employee.get_name()}\")\n",
    "print(f\"Employee ID: {employee.get_employee_id()}\")\n",
    "print(f\"Salary: {employee.get_salary()}\")\n",
    "\n",
    "# Calculating and displaying yearly bonus\n",
    "bonus_percentage = 20\n",
    "bonus = employee.calculate_bonus(bonus_percentage)\n",
    "print(f\"Yearly Bonus: {bonus}\")\n"
   ]
  },
  {
   "cell_type": "markdown",
   "metadata": {},
   "source": [
    "### 15. Discuss the use of accessors and mutators in encapsulation. How do they help maintain control over attribute access?"
   ]
  },
  {
   "cell_type": "markdown",
   "metadata": {},
   "source": [
    "***Accessors and mutators*** are methods used in encapsulation to control and manage access to an object's attributes, providing a well-defined and controlled interface for reading and modifying the attributes.\n",
    "\n",
    "**Accessors** (*Getters*):\n",
    "\n",
    "* Accessors are methods that are used to retrieve the value of an attribute without allowing direct access to the attribute itself.\n",
    "* They are used to read the current state of an attribute.\n",
    "* Accessors often have names that start with \"get\" and return the attribute's value.\n",
    "* Accessors are typically used to enforce read-only or read-specific rules for an attribute.\n",
    "\n",
    "Example:"
   ]
  },
  {
   "cell_type": "code",
   "execution_count": 5,
   "metadata": {},
   "outputs": [],
   "source": [
    "class Student:\n",
    "    def __init__(self, name, age):\n",
    "        self.__name = name  # Private attribute\n",
    "        self.__age = age\n",
    "\n",
    "    # Name accessor (getter)\n",
    "    def get_name(self):\n",
    "        return self.__name\n",
    "\n",
    "    # Age accessor (getter)\n",
    "    def get_age(self):\n",
    "        return self.__age\n"
   ]
  },
  {
   "cell_type": "markdown",
   "metadata": {},
   "source": [
    "**Mutators** (*Setters*):\n",
    "\n",
    "* Mutators are methods used to set the value of an attribute, ensuring that it is done in a controlled manner with validation and rules.\n",
    "* They provide a way to modify the state of an object while maintaining control over how modifications are performed.\n",
    "* Mutators often have names that start with \"set\" and accept the new value as a parameter.\n",
    "* Mutators can enforce constraints, validation, or other business rules for modifying an attribute.\n",
    "\n",
    "Example:"
   ]
  },
  {
   "cell_type": "code",
   "execution_count": null,
   "metadata": {},
   "outputs": [],
   "source": [
    "class BankAccount:\n",
    "    def __init__(self, account_number, initial_balance):\n",
    "        self.__account_number = account_number\n",
    "        self.__balance = initial_balance\n",
    "\n",
    "    def set_balance(self, new_balance):\n",
    "        if new_balance >= 0:\n",
    "            self.__balance = new_balance\n"
   ]
  },
  {
   "cell_type": "markdown",
   "metadata": {},
   "source": [
    "\n",
    "### 16. What are the potential drawbacks or disadvantages of using encapsulation in Python?"
   ]
  },
  {
   "cell_type": "markdown",
   "metadata": {},
   "source": [
    "While encapsulation offers many benefits in terms of code organization, maintainability, and security, it can also have some potential drawbacks or **disadvantages** in certain situations:\n",
    "\n",
    "1. **Complexity**: Over-encapsulation can make code more complex and harder to understand, especially when there are numerous getter and setter methods. This can result in increased cognitive load for developers.\n",
    "\n",
    "2. **Performance Overhead**: Accessing attributes through accessor methods (getters and setters) can introduce a slight performance overhead compared to direct attribute access. For many applications, this overhead is negligible, but in performance-critical scenarios, it may be a concern.\n",
    "\n",
    "3. **Code Verbosity**: Encapsulation can lead to increased code verbosity, as you need to write getter and setter methods for each attribute you want to encapsulate. This can make the code longer and harder to read.\n",
    "\n",
    "4. **Limited Flexibility**: Encapsulation can limit the flexibility to change the internal representation of an object. If you decide to change the data structure used for an attribute or its behavior, you may need to modify all related accessor methods, potentially breaking existing code.\n",
    "\n",
    "5. **Difficulty in Debugging**: Debugging can be more challenging when attributes are encapsulated. You may not have direct visibility into the internal state of an object during debugging, which can complicate the identification and resolution of issues.\n",
    "\n",
    "6. **Increased Maintenance**: As the number of attributes and their corresponding getter and setter methods grows, maintenance can become more time-consuming and error-prone.\n",
    "\n",
    "7. **Complex Inheritance**: Inheritance hierarchies can become more complex when encapsulated attributes and their accessor methods are inherited by child classes. This complexity can lead to harder-to-maintain code.\n",
    "\n",
    "8. **Limited Control Over Attribute Access**: In some cases, you may want to provide direct access to attributes without imposing constraints or validation. Encapsulation can make this less straightforward."
   ]
  },
  {
   "cell_type": "markdown",
   "metadata": {},
   "source": [
    "### 17. Create a Python class for a library system that encapsulates book information, including titles, authors, and availability status."
   ]
  },
  {
   "cell_type": "code",
   "execution_count": 5,
   "metadata": {},
   "outputs": [],
   "source": [
    "# Class book to represent a book in library\n",
    "class Book:\n",
    "    def __init__(self, title, author, ISBN, is_available  = True):\n",
    "        self.__title = title\n",
    "        self.__author = author\n",
    "        self.__ISBN = ISBN\n",
    "        self.__available  = is_available\n",
    "\n",
    "    def get_title(self):\n",
    "        return self.__title\n",
    "\n",
    "    def get_author(self):\n",
    "        return self.__author\n",
    "\n",
    "    def get_ISBN(self):\n",
    "        return self.__ISBN\n",
    "\n",
    "    def get_available(self):\n",
    "        return self.__available\n",
    "\n",
    "    def borrow_book(self):\n",
    "        if self.__available:\n",
    "            self.__available = False\n",
    "            return f\"You have successfully borrowed '{self.__title}' by {self.__author}.\"\n",
    "        else:\n",
    "            return f\"'{self.__title}' is already borrowed.\"\n",
    "\n",
    "    def return_book(self):\n",
    "        if not self.__available:\n",
    "            self.__available = True\n",
    "            return f\"You have successfully returned '{self.__title}' by {self.__author}.\"\n",
    "        else:\n",
    "            return f\"'{self.__title}' is not currently borrowed.\"\n",
    "\n",
    "    # dunder method for str of book\n",
    "    def __str__(self):\n",
    "        return f\"Title: {self.__title}, Author: {self.__author}, ISBN: {self.__ISBN}\"\n",
    "\n",
    "\n",
    "# Class to represent a Book library\n",
    "class Library:\n",
    "    def __init__(self):\n",
    "        self.books = []\n",
    "\n",
    "    def add_book(self, book):\n",
    "        self.books.append(book)\n",
    "\n",
    "    def borrow_book(self, ISBN):\n",
    "        for book in self.books:\n",
    "            if book.get_ISBN == ISBN:\n",
    "                return book.borrow_book()\n",
    "        return \"Book with specified ISBN not found.\"\n",
    "\n",
    "    def return_book(self, ISBN):\n",
    "        for book in self.books:\n",
    "            if book.get_ISBN() == ISBN:\n",
    "                return book.return_book()\n",
    "        return \"Book with specified ISBN not found.\"\n",
    "\n",
    "    def available_books(self):\n",
    "        available_books = [book for book in self.books if not book.get_available()]\n",
    "        if available_books:\n",
    "            return \"\\n\".join(str(book) for book in available_books)\n",
    "        else:\n",
    "            return \"No available books in the library.\""
   ]
  },
  {
   "cell_type": "code",
   "execution_count": 6,
   "metadata": {},
   "outputs": [
    {
     "name": "stdout",
     "output_type": "stream",
     "text": [
      "Available books are as below:\n",
      "No available books in the library.\n",
      "Book with specified ISBN not found.\n",
      "Book with specified ISBN not found.\n",
      "Available books are as below:\n",
      "No available books in the library.\n",
      "'Written in the Bones' is not currently borrowed.\n",
      "Book with specified ISBN not found.\n",
      "Available books are as below:\n",
      "No available books in the library.\n"
     ]
    }
   ],
   "source": [
    "# Create a object of library\n",
    "library = Library()\n",
    "\n",
    "# Create books objects\n",
    "book1 = Book(\"Written in the Bones\", \"John\", \"12333345878\")\n",
    "book2 = Book(\"Code\", \"Charles Petzold\", \"12333345874\")\n",
    "book3 = Book(\"Clean Code\", \"Robert C. Martin\", \"12333345854\")\n",
    "\n",
    "# Add books to library\n",
    "library.add_book(book1)\n",
    "library.add_book(book2)\n",
    "library.add_book(book3)\n",
    "\n",
    "# Print Lib\n",
    "print('Available books are as below:')\n",
    "print(library.available_books())\n",
    "\n",
    "# OPerations on library\n",
    "\n",
    "print(library.borrow_book(\"12333345878\"))\n",
    "print(library.borrow_book(\"12333345874\"))\n",
    "\n",
    "print('Available books are as below:')\n",
    "print(library.available_books())\n",
    "\n",
    "print(library.return_book(\"12333345878\"))\n",
    "print(library.borrow_book(\"12333345874\"))\n",
    "\n",
    "print('Available books are as below:')\n",
    "print(library.available_books())"
   ]
  },
  {
   "cell_type": "markdown",
   "metadata": {},
   "source": [
    "\n",
    "### 18. Explain how encapsulation enhances code reusability and modularity in Python programs."
   ]
  },
  {
   "cell_type": "markdown",
   "metadata": {},
   "source": [
    "*Ans:*\n",
    "\n",
    "Encapsulation enhances code reusability and modularity in Python programs by promoting the separation of concerns and providing a well-defined interface for interacting with objects. Here's how it achieves this:\n",
    "\n",
    "1. **Separation of Concerns**: Encapsulation allows you to separate the internal implementation details of a class from its external interface. This means that the internal workings of an object can change without affecting the code that uses it.\n",
    "\n",
    "2. **Defined Interface**: By encapsulating attributes and providing controlled access through methods (getters and setters), you establish a clear and consistent way to interact with an object.\n",
    "This well-defined interface makes it easy for other parts of the codebase to use the object without needing to understand its internal implementation.\n",
    "\n",
    "3. **Code Reusability**: Encapsulation allows you to reuse classes and objects in different parts of your codebase or even in different projects.\n",
    "Since the interface is well-defined, you can use objects without worrying about the internal details.\n",
    "\n",
    "4. **Modularity**: Encapsulated objects act as modular units that can be easily integrated into larger systems.\n",
    "They provide a level of abstraction that allows you to focus on using the object's functionality rather than the specifics of how it works internally.\n",
    "\n",
    "5. **Isolation of Changes**: If you need to make changes to the internal implementation of a class, encapsulation ensures that those changes are isolated to the class itself.\n",
    "Other parts of the code that rely on the class's interface are not affected.\n",
    "\n",
    "6. **Security and Validation**: Encapsulation allows you to enforce validation rules and constraints on how attributes are accessed and modified.\n",
    "This helps prevent invalid or harmful changes to an object's state.\n",
    "\n",
    "7. **Enhanced Testing**: Encapsulation makes it easier to write unit tests because you can focus on testing the behavior of an object without needing to worry about its internal state.\n",
    "\n",
    "8. **Simplifies Debugging**: When encapsulation is used effectively, debugging becomes easier because you can narrow down potential issues to the encapsulated class.\n",
    "You can trust that the rest of your code interacts with the object correctly."
   ]
  },
  {
   "cell_type": "markdown",
   "metadata": {},
   "source": [
    "\n",
    "### 19. Describe the concept of information hiding in encapsulation. Why is it essential in software development?"
   ]
  },
  {
   "cell_type": "markdown",
   "metadata": {},
   "source": [
    "*Ans:*\n",
    "\n",
    "**Information hiding** or **Data hiding** is a fundamental principle in object-oriented programming that involves restricting access to certain attributes or methods of a class. It allows the internal state and behavior of an object to be kept private and accessible only through a defined public interface.\n",
    "\n",
    "The main goal of information hiding is to protect the internal representation of an object from external interference or misuse.\n",
    "\n",
    "It is **essential in software development** for several reasons:\n",
    "\n",
    "* **Preventing Unauthorized Access**: Information hiding helps prevent unauthorized or unintended access to sensitive attributes or methods. This is crucial for maintaining the integrity and security of an object's state.\n",
    "\n",
    "* **Maintaining Abstraction**: By hiding the internal details of an object, you can present a simplified and abstract view of the object's behavior to the outside world. This abstraction makes it easier to understand and use the object without being concerned about its internal implementation.\n",
    "\n",
    "* **Facilitating Code Maintenance**: With information hiding, you can modify the internal implementation of a class without affecting the code that uses it. This reduces the risk of unintended side effects and makes it easier to maintain and evolve the codebase.\n",
    "\n",
    "* **Enhancing Security**: By controlling access to sensitive attributes, you can prevent unauthorized modifications that could lead to security vulnerabilities or incorrect behavior.\n",
    "\n",
    "* **Simplification**: By hiding internal details, information hiding simplifies the usage of objects. Users of a class don't need to understand how it works internally, making it easier to use correctly.\n",
    "\n",
    "* **Isolation of Changes**: Information hiding allows for changes in the internal implementation of a class without affecting the code that uses it. This isolation of changes enhances code maintainability and reduces the risk of unintended side effects.\n",
    "\n",
    "* **Security**: It helps enforce security by restricting direct access to sensitive or critical data. Encapsulation ensures that data is accessed and modified only through controlled methods, allowing for validation and security checks.\n",
    "\n",
    "* **Reusability**: By encapsulating data and behavior within a class and providing a well-defined interface, you create reusable components. Other parts of the codebase can use these components without needing to know how they work internally.\n",
    "\n",
    "* **Safeguarding Invariants**: Encapsulation allows you to maintain invariants (constraints or rules that must always be true for the class) by controlling how attributes are accessed and modified. This ensures that the class's internal state remains consistent and valid."
   ]
  },
  {
   "cell_type": "markdown",
   "metadata": {},
   "source": [
    "### 20. Create a Python class called `Customer` with private attributes for customer details like name, address, and contact information. Implement encapsulation to ensure data integrity and security."
   ]
  },
  {
   "cell_type": "code",
   "execution_count": 7,
   "metadata": {},
   "outputs": [
    {
     "name": "stdout",
     "output_type": "stream",
     "text": [
      "Customer ID: 1001\n",
      "Name: Robin Pabbi\n",
      "Address: 123 MG Road, Gurgaon\n",
      "Contact Info: 9999999999\n"
     ]
    }
   ],
   "source": [
    "class Customer:\n",
    "    def __init__(self, customer_id, name, address, contact_info):\n",
    "        self.__customer_id = customer_id\n",
    "        # Private attribute for customer name\n",
    "        self.__name = name\n",
    "        # Private attribute for customer address\n",
    "        self.__address = address \n",
    "        # Private attribute for contact information\n",
    "        self.__contact_info = contact_info  \n",
    "\n",
    "    # Getter methods\n",
    "    def get_customer_id(self):\n",
    "        return self.__customer_id\n",
    "\n",
    "    def get_name(self):\n",
    "        return self.__name\n",
    "\n",
    "    def get_address(self):\n",
    "        return self.__address\n",
    "\n",
    "    def get_contact_info(self):\n",
    "        return self.__contact_info\n",
    "\n",
    "    # Setter methods (if needed)\n",
    "    def set_address(self, new_address):\n",
    "        self.__address = new_address\n",
    "\n",
    "    def set_contact_info(self, new_contact_info):\n",
    "        self.__contact_info = new_contact_info\n",
    "\n",
    "# Creating a customer object\n",
    "customer1 = Customer(1001, \"Robin Pabbi\", \"123 MG Road, Gurgaon\", \"9999999999\")\n",
    "\n",
    "# Accessing attributes through controlled methods\n",
    "print(f\"Customer ID: {customer1.get_customer_id()}\")\n",
    "print(f\"Name: {customer1.get_name()}\")\n",
    "print(f\"Address: {customer1.get_address()}\")\n",
    "print(f\"Contact Info: {customer1.get_contact_info()}\")\n"
   ]
  },
  {
   "cell_type": "markdown",
   "metadata": {},
   "source": [
    "## Polymorphism"
   ]
  },
  {
   "cell_type": "markdown",
   "metadata": {},
   "source": [
    "### 1. What is polymorphism in Python? Explain how it is related to object-oriented programming."
   ]
  },
  {
   "cell_type": "markdown",
   "metadata": {},
   "source": [
    "*Ans:*\n",
    "\n",
    "**Polymorphism** is the ability of a class or function to behave differently based on the context in which it is used. It allows objects or functions to take on multiple forms, depending on the situation.\n",
    "\n",
    "In the context of object-oriented programming (OOP), polymorphism is one of the four fundamental pillars, along with inheritance, encapsulation, and abstraction. There are two primary forms of polymorphism in Python:\n",
    "\n",
    "**Compile-Time Polymorphism** (also known as Static Polymorphism):\n",
    "\n",
    "This type of polymorphism is resolved at compile time, and it involves method overloading.\n",
    "*Method overloading* is the ability to define multiple methods with the same name in a class but with different parameters. The appropriate method is selected based on the number or types of arguments passed during compilation.\n",
    "\n",
    "**Run-Time Polymorphism** (also known as Dynamic Polymorphism):\n",
    "\n",
    "This is the more common form of polymorphism in OOP and is achieved through method overriding and inheritance.\n",
    "*Method overriding* allows a subclass to provide a specific implementation of a method that is already defined in its superclass. When an object of the subclass is used to call that method, the overridden version is executed.\n",
    "Dynamic polymorphism allows the same method name to behave differently depending on the specific type of object it is called on. It is a key feature in Python, and it makes code more flexible and adaptable."
   ]
  },
  {
   "cell_type": "markdown",
   "metadata": {},
   "source": [
    "### 2. Describe the difference between compile-time polymorphism and runtime polymorphism in Python."
   ]
  },
  {
   "cell_type": "markdown",
   "metadata": {},
   "source": [
    "| **Compile-time Polymorphism** | **Runtime Polymorphism** |\n",
    "| ------------- | ------------|\n",
    "| The determination of which method to call is made by the compiler based on the context and the types of variables involved.| The determination of which method to call is made dynamically based on the type of object involved.|\n",
    "| Occurs at compile time, before the program is run. | Occurs at runtime, while the program is running. |\n",
    "| Also known as early binding or static polymorphism. | Also known as late binding or dynamic polymorphism.|\n",
    "| Achieved through **method overloading** | Achieved through **method overriding** |"
   ]
  },
  {
   "cell_type": "markdown",
   "metadata": {},
   "source": [
    "### 3. Create a Python class hierarchy for shapes (e.g., circle, square, triangle) and demonstrate polymorphism through a common method, such as `calculate_area()`."
   ]
  },
  {
   "cell_type": "code",
   "execution_count": 8,
   "metadata": {},
   "outputs": [
    {
     "name": "stdout",
     "output_type": "stream",
     "text": [
      "Area of circle: 78.5\n",
      "Area of square: 25\n",
      "Area of triangle: 9.0\n"
     ]
    }
   ],
   "source": [
    "# Super class (base class) Shape\n",
    "class Shape:\n",
    "    def calculate_area(self):\n",
    "        pass\n",
    "\n",
    "class Circle(Shape):\n",
    "    def __init__(self, radius):\n",
    "        self.radius = radius\n",
    "\n",
    "    # calculate_area for circle\n",
    "    def calculate_area(self):\n",
    "        return 3.14 * self.radius**2\n",
    "\n",
    "class Square(Shape):\n",
    "    def __init__(self, side_length):\n",
    "        self.side_length = side_length\n",
    "\n",
    "    # calculate_area for Square\n",
    "    def calculate_area(self):\n",
    "        return self.side_length**2\n",
    "\n",
    "class Triangle(Shape):\n",
    "    def __init__(self, base, height):\n",
    "        self.base = base\n",
    "        self.height = height\n",
    "\n",
    "    # calculate_area for Triangle\n",
    "    def calculate_area(self):\n",
    "        return 0.5 * self.base * self.height\n",
    "\n",
    "# Create INstance of each shape type\n",
    "circle = Circle(5)\n",
    "square = Square(5)\n",
    "triangle = Triangle(3, 6)\n",
    "\n",
    "print(f\"Area of circle: {circle.calculate_area()}\")\n",
    "print(f\"Area of square: {square.calculate_area()}\") \n",
    "print(f\"Area of triangle: {triangle.calculate_area()}\")\n"
   ]
  },
  {
   "cell_type": "markdown",
   "metadata": {},
   "source": [
    "### 4. Explain the concept of method overriding in polymorphism. Provide an example."
   ]
  },
  {
   "cell_type": "markdown",
   "metadata": {},
   "source": [
    "*Ans:*\n",
    "\n",
    "**Method overriding** is a concept in object-oriented programming where a subclass provides a specific implementation for a method that is already defined in its superclass. This allows the subclass to customize or extend the behavior of the inherited method.\n",
    "\n",
    "Example:"
   ]
  },
  {
   "cell_type": "code",
   "execution_count": 9,
   "metadata": {},
   "outputs": [
    {
     "name": "stdout",
     "output_type": "stream",
     "text": [
      "Generic animal sound\n",
      "Woof!\n",
      "Meow!\n"
     ]
    }
   ],
   "source": [
    "class Animal:\n",
    "    def make_sound(self):\n",
    "        return \"Generic animal sound\"\n",
    "\n",
    "class Dog(Animal):\n",
    "    def make_sound(self):\n",
    "        return \"Woof!\"\n",
    "\n",
    "class Cat(Animal):\n",
    "    def make_sound(self):\n",
    "        return \"Meow!\"\n",
    "\n",
    "# Usage:\n",
    "animal = Animal()\n",
    "dog = Dog()\n",
    "cat = Cat()\n",
    "\n",
    "print(animal.make_sound())\n",
    "print(dog.make_sound())\n",
    "print(cat.make_sound())"
   ]
  },
  {
   "cell_type": "markdown",
   "metadata": {},
   "source": [
    "### 5. How is polymorphism different from method overloading in Python? Provide examples for both."
   ]
  },
  {
   "cell_type": "markdown",
   "metadata": {},
   "source": [
    "**Polymorphism** and **method overloading** are related concepts in object-oriented programming, but they work differently in Python.\n",
    "\n",
    "**Polymorphism**:\n",
    "\n",
    "* Polymorphism allows objects or functions to take on multiple forms, depending on the context in which they are used.\n",
    "* It is achieved through two main mechanisms: method overriding and method overloading.\n",
    "* In Python, polymorphism is primarily achieved through method overriding.\n",
    "* In polymorphism, a method in a superclass is overridden in a subclass to provide a specific implementation.\n",
    "\n",
    "Example of polymorphism (method overriding) in python: "
   ]
  },
  {
   "cell_type": "code",
   "execution_count": null,
   "metadata": {},
   "outputs": [],
   "source": [
    "class Animal:\n",
    "    def make_sound(self):\n",
    "        pass\n",
    "\n",
    "class Dog(Animal):\n",
    "    def make_sound(self):\n",
    "        return \"Woof!\"\n",
    "\n",
    "class Cat(Animal):\n",
    "    def make_sound(self):\n",
    "        return \"Meow!\"\n",
    "\n",
    "dog = Dog()\n",
    "cat = Cat()\n",
    "\n",
    "print(dog.make_sound())  # Output: \"Woof!\"\n",
    "print(cat.make_sound())  # Output: \"Meow!\"\n"
   ]
  },
  {
   "cell_type": "markdown",
   "metadata": {},
   "source": [
    "**Method Overloading**:\n",
    "\n",
    "* Traditional method overloading involves defining multiple methods with the same name but different parameter lists within a class.\n",
    "* In Python, method overloading (as seen in languages like C#) is not directly supported. It doesn't work based on the number or type of arguments.\n",
    "\n",
    "In C# below is example of method overloading:\n",
    "\n",
    "```\n",
    "class Calculator {\n",
    "    int add(int a, int b) {\n",
    "        return a + b;\n",
    "    }\n",
    "\n",
    "    double add(double a, double b) {\n",
    "        return a + b;\n",
    "    }\n",
    "}\n",
    "```\n",
    "\n",
    "Example of `add_number` method in python:"
   ]
  },
  {
   "cell_type": "code",
   "execution_count": 11,
   "metadata": {},
   "outputs": [
    {
     "name": "stdout",
     "output_type": "stream",
     "text": [
      "5\n",
      "6.0\n",
      "Hello, world\n"
     ]
    }
   ],
   "source": [
    "def add_numbers(a, b):\n",
    "    return a + b\n",
    "\n",
    "result1 = add_numbers(2, 3)         # Output: 5 (addition of integers)\n",
    "result2 = add_numbers(2.5, 3.5)     # Output: 6.0 (addition of floats)\n",
    "result3 = add_numbers(\"Hello, \", \"world\")  # Output: \"Hello, world\" (string concatenation)\n",
    "\n",
    "print(result1)\n",
    "print(result2)\n",
    "print(result3)"
   ]
  },
  {
   "cell_type": "markdown",
   "metadata": {},
   "source": [
    "### 6. Create a Python class called `Animal` with a method `speak()`. Then, create child classes like `Dog`, `Cat`, and `Bird`, each with their own `speak()` method. Demonstrate polymorphism by calling the `speak()` method on objects of different subclasses."
   ]
  },
  {
   "cell_type": "code",
   "execution_count": 1,
   "metadata": {},
   "outputs": [
    {
     "name": "stdout",
     "output_type": "stream",
     "text": [
      "Woof!\n",
      "Meow!\n",
      "Chirp!\n"
     ]
    }
   ],
   "source": [
    "class Animal:\n",
    "    def speak(self):\n",
    "        pass\n",
    "\n",
    "class Dog(Animal):\n",
    "    def speak(self):\n",
    "        return \"Woof!\"\n",
    "\n",
    "class Cat(Animal):\n",
    "    def speak(self):\n",
    "        return \"Meow!\"\n",
    "\n",
    "class Bird(Animal):\n",
    "    def speak(self):\n",
    "        return \"Chirp!\"\n",
    "\n",
    "# Usage:\n",
    "dog = Dog()\n",
    "cat = Cat()\n",
    "bird = Bird()\n",
    "\n",
    "print(dog.speak())     # Output: \"Woof!\"\n",
    "print(cat.speak())     # Output: \"Meow!\"\n",
    "print(bird.speak())    # Output: \"Chirp!\"\n"
   ]
  },
  {
   "cell_type": "markdown",
   "metadata": {},
   "source": [
    "### 7. Discuss the use of abstract methods and classes in achieving polymorphism in Python. Provide an example using the `abc` module."
   ]
  },
  {
   "cell_type": "markdown",
   "metadata": {},
   "source": [
    "*Ans:*\n",
    "\n",
    "In Python, **abstract methods and classes** play a crucial role in achieving polymorphism. Abstract methods define a method signature in an abstract base class, and concrete subclasses must provide an implementation for these methods. The abc module (*Abstract Base Classes*) is used to define abstract classes and methods.\n",
    "\n",
    "Here's an example using the abc module to demonstrate polymorphism through abstract methods and classes:"
   ]
  },
  {
   "cell_type": "code",
   "execution_count": 2,
   "metadata": {},
   "outputs": [
    {
     "name": "stdout",
     "output_type": "stream",
     "text": [
      "Area: 153.86\n",
      "Area: 84\n"
     ]
    }
   ],
   "source": [
    "from abc import ABC, abstractmethod\n",
    "\n",
    "# Abstract base class\n",
    "class Shape(ABC):\n",
    "    @abstractmethod\n",
    "    def area(self):\n",
    "        pass\n",
    "\n",
    "# Concrete subclass Circle\n",
    "class Circle(Shape):\n",
    "    def __init__(self, radius):\n",
    "        self.radius = radius\n",
    "\n",
    "    def area(self):\n",
    "        return 3.14 * self.radius * self.radius\n",
    "\n",
    "# Concrete subclass Rectangle\n",
    "class Rectangle(Shape):\n",
    "    def __init__(self, length, width):\n",
    "        self.length = length\n",
    "        self.width = width\n",
    "\n",
    "    def area(self):\n",
    "        return self.length * self.width\n",
    "\n",
    "# Usage\n",
    "circle = Circle(7)\n",
    "rectangle = Rectangle(14, 6)\n",
    "\n",
    "shapes = [circle, rectangle]\n",
    "\n",
    "for shape in shapes:\n",
    "    print(f\"Area: {shape.area()}\")\n"
   ]
  },
  {
   "cell_type": "markdown",
   "metadata": {},
   "source": [
    "### 8. Create a Python class hierarchy for a vehicle system (e.g., car, bicycle, boat) and implement a polymorphic `start()` method that prints a message specific to each vehicle type."
   ]
  },
  {
   "cell_type": "code",
   "execution_count": 3,
   "metadata": {},
   "outputs": [
    {
     "name": "stdout",
     "output_type": "stream",
     "text": [
      "Car engine started. Ready to go!\n",
      "Pedaling... Bicycle is in motion!\n",
      "Engine running. Let's Sail the boat!\n"
     ]
    }
   ],
   "source": [
    "class Vehicle:\n",
    "    def start(self):\n",
    "        pass\n",
    "\n",
    "class Car(Vehicle):\n",
    "    def start(self):\n",
    "        return \"Car engine started. Ready to go!\"\n",
    "\n",
    "class Bicycle(Vehicle):\n",
    "    def start(self):\n",
    "        return \"Pedaling... Bicycle is in motion!\"\n",
    "\n",
    "class Boat(Vehicle):\n",
    "    def start(self):\n",
    "        return \"Engine running. Let's Sail the boat!\"\n",
    "\n",
    "# INstances\n",
    "car = Car()\n",
    "bicycle = Bicycle()\n",
    "boat = Boat()\n",
    "\n",
    "vehicles = [car, bicycle, boat]\n",
    "\n",
    "for vehicle in vehicles:\n",
    "    print(vehicle.start())\n"
   ]
  },
  {
   "cell_type": "markdown",
   "metadata": {},
   "source": [
    "### 9. Explain the significance of the `isinstance()` and `issubclass()` functions in Python polymorphism."
   ]
  },
  {
   "cell_type": "markdown",
   "metadata": {},
   "source": [
    "*Ans:*\n",
    "\n",
    "The functions `isinstance()` and `issubclass()` are essential in Python for working with polymorphism.\n",
    "\n",
    "**`isinstance()`**:\n",
    "\n",
    "* The `isinstance()` function is used to determine whether an object is an instance of a particular class or any of its subclasses.\n",
    "* It takes two arguments: the object and the class or type you want to check against.\n",
    "* It returns True if the object is an instance of the specified class or its subclass, and False otherwise.\n",
    "\n",
    "Example:"
   ]
  },
  {
   "cell_type": "code",
   "execution_count": 4,
   "metadata": {},
   "outputs": [
    {
     "name": "stdout",
     "output_type": "stream",
     "text": [
      "True\n",
      "True\n"
     ]
    }
   ],
   "source": [
    "class Animal:\n",
    "    pass\n",
    "\n",
    "class Dog(Animal):\n",
    "    pass\n",
    "\n",
    "dog = Dog()\n",
    "\n",
    "print(isinstance(dog, Dog))      # Output: True\n",
    "print(isinstance(dog, Animal))   # Output: True\n"
   ]
  },
  {
   "cell_type": "markdown",
   "metadata": {},
   "source": [
    "**`issubclass()`**:\n",
    "\n",
    "* The `issubclass()` function checks whether a class is a subclass of a specified class or any of its subclasses.\n",
    "* It takes two arguments: the class you want to check and the class you want to check against.\n",
    "* It returns True if the first class is a subclass of the second class, and False otherwise.\n",
    "\n",
    "Example:"
   ]
  },
  {
   "cell_type": "code",
   "execution_count": 5,
   "metadata": {},
   "outputs": [
    {
     "name": "stdout",
     "output_type": "stream",
     "text": [
      "True\n",
      "False\n"
     ]
    }
   ],
   "source": [
    "class Animal:\n",
    "    pass\n",
    "\n",
    "class Dog(Animal):\n",
    "    pass\n",
    "\n",
    "print(issubclass(Dog, Animal))   # Output: True\n",
    "print(issubclass(Animal, Dog))   # Output: False\n"
   ]
  },
  {
   "cell_type": "markdown",
   "metadata": {},
   "source": [
    "### 10. What is the role of the `@abstractmethod` decorator in achieving polymorphism in Python? Provide an example."
   ]
  },
  {
   "cell_type": "markdown",
   "metadata": {},
   "source": [
    "*Ans:*\n",
    "\n",
    "The **`@abstractmethod`** decorator is a key component of achieving polymorphism in Python using abstract classes. It is part of the abc module (Abstract Base Classes) and allows you to declare abstract methods in a base class. Abstract methods are methods that are defined in the base class but have no implementation. Subclasses are required to provide their own implementation for these methods.\n",
    "\n",
    "Here is an example demonstrating the use of `@abstractmethod`:"
   ]
  },
  {
   "cell_type": "code",
   "execution_count": 6,
   "metadata": {},
   "outputs": [
    {
     "name": "stdout",
     "output_type": "stream",
     "text": [
      "Area: 153.86\n",
      "Area: 84\n"
     ]
    }
   ],
   "source": [
    "from abc import ABC, abstractmethod\n",
    "\n",
    "# Abstract base class\n",
    "class Shape(ABC):\n",
    "    @abstractmethod\n",
    "    def area(self):\n",
    "        pass\n",
    "\n",
    "# Concrete subclass Circle\n",
    "class Circle(Shape):\n",
    "    def __init__(self, radius):\n",
    "        self.radius = radius\n",
    "\n",
    "    def area(self):\n",
    "        return 3.14 * self.radius * self.radius\n",
    "\n",
    "# Concrete subclass Rectangle\n",
    "class Rectangle(Shape):\n",
    "    def __init__(self, length, width):\n",
    "        self.length = length\n",
    "        self.width = width\n",
    "\n",
    "    def area(self):\n",
    "        return self.length * self.width\n",
    "\n",
    "# Usage\n",
    "circle = Circle(7)\n",
    "rectangle = Rectangle(14, 6)\n",
    "\n",
    "shapes = [circle, rectangle]\n",
    "\n",
    "for shape in shapes:\n",
    "    print(f\"Area: {shape.area()}\")\n"
   ]
  },
  {
   "cell_type": "markdown",
   "metadata": {},
   "source": [
    "### 11. Create a Python class called `Shape` with a polymorphic method `area()` that calculates the area of different shapes (e.g., circle, rectangle, triangle)."
   ]
  },
  {
   "cell_type": "code",
   "execution_count": 7,
   "metadata": {},
   "outputs": [
    {
     "name": "stdout",
     "output_type": "stream",
     "text": [
      "Area: 78.5\n",
      "Area: 24\n",
      "Area: 12.0\n"
     ]
    }
   ],
   "source": [
    "class Shape:\n",
    "    def area(self):\n",
    "        pass\n",
    "\n",
    "class Circle(Shape):\n",
    "    def __init__(self, radius):\n",
    "        self.radius = radius\n",
    "\n",
    "    def area(self):\n",
    "        return 3.14 * self.radius**2\n",
    "\n",
    "class Rectangle(Shape):\n",
    "    def __init__(self, length, width):\n",
    "        self.length = length\n",
    "        self.width = width\n",
    "\n",
    "    def area(self):\n",
    "        return self.length * self.width\n",
    "\n",
    "class Triangle(Shape):\n",
    "    def __init__(self, base, height):\n",
    "        self.base = base\n",
    "        self.height = height\n",
    "\n",
    "    def area(self):\n",
    "        return 0.5 * self.base * self.height\n",
    "\n",
    "# Usage\n",
    "circle = Circle(5)\n",
    "rectangle = Rectangle(4, 6)\n",
    "triangle = Triangle(3, 8)\n",
    "\n",
    "shapes = [circle, rectangle, triangle]\n",
    "\n",
    "for shape in shapes:\n",
    "    print(f\"Area: {shape.area()}\")\n"
   ]
  },
  {
   "cell_type": "markdown",
   "metadata": {},
   "source": [
    "### 12. Discuss the benefits of polymorphism in terms of code reusability and flexibility in Python programs."
   ]
  },
  {
   "cell_type": "markdown",
   "metadata": {},
   "source": [
    "*Ans:*\n",
    "\n",
    "**Polymorphism** offers several benefits in Python programs, primarily in terms of code reusability and flexibility:\n",
    "\n",
    "**Code Reusability**: Polymorphism allows you to write reusable code that can work with objects of different classes as long as they adhere to a common interface (i.e., implement the same methods). This means you can create functions or modules that can be used with a wide range of objects, promoting modular and reusable code.\n",
    "\n",
    "**Reduced Redundancy**: Without polymorphism, you might need to write separate code to handle different types of objects. With polymorphism, you can avoid redundant code and write more compact and efficient solutions.\n",
    "\n",
    "**Flexibility**: Polymorphism makes your code more flexible and adaptable to changes. You can easily add new classes or modify existing ones without affecting the core logic of your program, as long as they conform to the same interface.\n",
    "\n",
    "**Improved Readability**: Polymorphism can make your code more readable and intuitive. When you see a method call on an object, you don't need to know the specific class; you can rely on the common interface, making code easier to understand.\n",
    "\n",
    "**Easier Maintenance**: Since polymorphism promotes modularity and reduces redundancy, it simplifies maintenance. Changes or bug fixes can often be localized to specific classes, reducing the risk of unintended side effects in other parts of your code.\n",
    "\n",
    "**Interface-Based Programming**: Polymorphism encourages interface-based programming, where you focus on defining the expected behavior (methods) rather than the specific implementations. This allows multiple developers to work on different parts of a project independently, as long as they adhere to the agreed-upon interface.\n",
    "\n",
    "**Support for Open-Closed Principle**: Polymorphism supports the open-closed principle, one of the SOLID principles of object-oriented design. It allows you to extend the behavior of a program by adding new classes or methods without modifying existing code, reducing the risk of introducing errors."
   ]
  },
  {
   "cell_type": "markdown",
   "metadata": {},
   "source": [
    "### 13. Explain the use of the `super()` function in Python polymorphism. How does it help call methods of parent classes?"
   ]
  },
  {
   "cell_type": "markdown",
   "metadata": {},
   "source": [
    "*Ans:*\n",
    "\n",
    "The **`super()`** function in Python is used to call methods from a parent or superclass in the context of inheritance and polymorphism. It helps in achieving method overriding, where a subclass provides a specific implementation of a method that is already defined in its superclass.\n",
    "\n",
    "Here's how `super()` works and its role in polymorphism:\n",
    "\n",
    "**Accessing Parent Class Methods**: When you override a method in a subclass, you can use `super()` to call the overridden method in the parent class. This allows you to reuse the functionality provided by the parent class while adding or modifying behavior specific to the subclass.\n",
    "\n",
    "**Method Overriding**: By calling the parent class's method using `super()`, you can implement method overriding. This is a key aspect of polymorphism, where objects of different classes can be treated interchangeably if they adhere to a common interface.\n",
    "\n",
    "**Chaining Superclasses**: If you have a chain of inheritance with multiple superclasses, super() allows you to call methods from the immediate parent class, and those methods can, in turn, call methods from their parent classes, creating a hierarchy of method calls.\n",
    "\n",
    "Example of usage of `super()`:"
   ]
  },
  {
   "cell_type": "code",
   "execution_count": 17,
   "metadata": {},
   "outputs": [
    {
     "name": "stdout",
     "output_type": "stream",
     "text": [
      "Dog barks, and also, Animal speaks\n"
     ]
    }
   ],
   "source": [
    "class Animal:\n",
    "    def speak(self):\n",
    "        return \"Animal speaks\"\n",
    "\n",
    "class Dog(Animal):\n",
    "    def speak(self):\n",
    "        # Call the parent class method\n",
    "        parent_result = super().speak()\n",
    "        return f\"Dog barks, and also, {parent_result}\"\n",
    "\n",
    "\n",
    "dog = Dog()\n",
    "print(dog.speak())\n"
   ]
  },
  {
   "cell_type": "markdown",
   "metadata": {},
   "source": [
    "### 14. Create a Python class hierarchy for a banking system with various account types (e.g., savings, checking, credit card) and demonstrate polymorphism by implementing a common `withdraw()` method."
   ]
  },
  {
   "cell_type": "code",
   "execution_count": 22,
   "metadata": {},
   "outputs": [
    {
     "name": "stdout",
     "output_type": "stream",
     "text": [
      "Account Number: SA123\n",
      "Withdrawal of $500 successful. New balance: $500\n",
      "\n",
      "Account Number: CA451\n",
      "Withdrawal of $500 successful. New balance: $1500\n",
      "\n",
      "Account Number: CC786\n",
      "Withdrawal of $500 successful. New balance: $0\n",
      "\n"
     ]
    }
   ],
   "source": [
    "class BankAccount:\n",
    "    def __init__(self, account_number, initial_balance):\n",
    "        self.__account_number = account_number\n",
    "        self._balance = initial_balance\n",
    "\n",
    "    def get_account_number(self):\n",
    "        return self.__account_number\n",
    "\n",
    "    def get_balance(self):\n",
    "        return self._balance\n",
    "\n",
    "    def withdraw(self, amount):\n",
    "        pass\n",
    "\n",
    "class SavingsAccount(BankAccount):\n",
    "    def withdraw(self, amount):\n",
    "        if self.get_balance() >= amount:\n",
    "            self._balance -= amount\n",
    "            return f\"Withdrawal of ${amount} successful. New balance: ${super().get_balance()}\"\n",
    "        else:\n",
    "            return \"Insufficient funds for withdrawal.\"\n",
    "\n",
    "class CheckingAccount(BankAccount):\n",
    "    def withdraw(self, amount):\n",
    "        if self.get_balance() >= amount:\n",
    "            self._balance -= amount\n",
    "            return f\"Withdrawal of ${amount} successful. New balance: ${self.get_balance()}\"\n",
    "        else:\n",
    "            return \"Insufficient funds for withdrawal.\"\n",
    "\n",
    "class CreditCardAccount(BankAccount):\n",
    "    def withdraw(self, amount):\n",
    "        new_balance = self.get_balance() - amount\n",
    "        if new_balance >= -1000:  # Assuming a credit limit of $1000\n",
    "            self._balance = new_balance\n",
    "            return f\"Withdrawal of ${amount} successful. New balance: ${self.get_balance()}\"\n",
    "        else:\n",
    "            return \"Credit limit exceeded. Unable to process withdrawal.\"\n",
    "\n",
    "# Usage\n",
    "savings_account = SavingsAccount(\"SA123\", 1000)\n",
    "checking_account = CheckingAccount(\"CA451\", 2000)\n",
    "credit_card_account = CreditCardAccount(\"CC786\", 500)\n",
    "\n",
    "accounts = [savings_account, checking_account, credit_card_account]\n",
    "\n",
    "for account in accounts:\n",
    "    print(f\"Account Number: {account.get_account_number()}\")\n",
    "    print(account.withdraw(500))\n",
    "    print()\n"
   ]
  },
  {
   "cell_type": "markdown",
   "metadata": {},
   "source": [
    "### 15. Describe the concept of operator overloading in Python and how it relates to polymorphism. Provide examples using operators like `+` and `*`."
   ]
  },
  {
   "cell_type": "markdown",
   "metadata": {},
   "source": [
    "*Ans:*\n",
    "\n",
    "**Operator overloading** in Python allows you to define how operators should behave for objects of a user-defined class. This means you can customize the behavior of operators like `+, -, *, /`, etc., to work with your custom objects.\n",
    "\n",
    "Here's how operator overloading relates to polymorphism:\n",
    "\n",
    "**Polymorphism and Operator Overloading**: Operator overloading is a form of polymorphism because it allows different types or classes to use the same operator in different ways. This enables objects of different classes to interact with operators in a way that makes sense for their context.\n",
    "\n",
    "**Customized Behavior**: By overloading operators, you can define what it means to add, subtract, multiply, etc., for objects of your class. This enables you to apply familiar operators to your custom objects, making your code more intuitive and expressive.\n",
    "\n",
    "Here's an example using the + and * operators:"
   ]
  },
  {
   "cell_type": "code",
   "execution_count": 23,
   "metadata": {},
   "outputs": [
    {
     "name": "stdout",
     "output_type": "stream",
     "text": [
      "Vector Addition: (3, 5)\n",
      "Vector Multiplication: (4, 6)\n"
     ]
    }
   ],
   "source": [
    "class Vector:\n",
    "    def __init__(self, x, y):\n",
    "        self.x = x\n",
    "        self.y = y\n",
    "\n",
    "    def __add__(self, other):\n",
    "        return Vector(self.x + other.x, self.y + other.y)\n",
    "\n",
    "    def __mul__(self, scalar):\n",
    "        return Vector(self.x * scalar, self.y * scalar)\n",
    "\n",
    "    def __str__(self):\n",
    "        return f\"({self.x}, {self.y})\"\n",
    "\n",
    "# Usage\n",
    "v1 = Vector(2, 3)\n",
    "v2 = Vector(1, 2)\n",
    "\n",
    "# Adding vectors\n",
    "result_add = v1 + v2\n",
    "print(f\"Vector Addition: {result_add}\")\n",
    "\n",
    "# Multiplying a vector by a scalar\n",
    "result_mul = v1 * 2\n",
    "print(f\"Vector Multiplication: {result_mul}\")\n"
   ]
  },
  {
   "cell_type": "markdown",
   "metadata": {},
   "source": [
    "### 16. What is dynamic polymorphism, and how is it achieved in Python?"
   ]
  },
  {
   "cell_type": "markdown",
   "metadata": {},
   "source": [
    "*Ans:*\n",
    "\n",
    "**Dynamic polymorphism**, also known as runtime polymorphism or late binding, is a fundamental concept in object-oriented programming. It allows objects of different classes to be treated as objects of a common base class. The specific method or function that gets executed when you call it is determined at runtime based on the actual type of the object. Dynamic polymorphism is one of the key features of inheritance and abstraction in object-oriented programming.\n",
    "\n",
    "In Python, **dynamic polymorphism is achieved through method overriding**. Method overriding is a feature that allows a subclass to provide a specific implementation of a method that is already defined in its superclass. When you call a method on an object, Python determines at runtime which implementation of the method to execute, based on the actual type of the object."
   ]
  },
  {
   "cell_type": "markdown",
   "metadata": {},
   "source": [
    "### 17. Create a Python class hierarchy for employees in a company (e.g., manager, developer, designer) and implement polymorphism through a common `calculate_salary()` method."
   ]
  },
  {
   "cell_type": "code",
   "execution_count": 1,
   "metadata": {},
   "outputs": [
    {
     "name": "stdout",
     "output_type": "stream",
     "text": [
      "John Doe's salary: $70000\n",
      "Jane Smith's salary: $52000\n",
      "Bob Johnson's salary: $47500\n",
      "John Doe's updated salary: $75000\n"
     ]
    }
   ],
   "source": [
    "class Employee:\n",
    "    def __init__(self, name, salary):\n",
    "        self.__name = name\n",
    "        self.__salary = salary\n",
    "\n",
    "    def get_name(self):\n",
    "        return self.__name\n",
    "\n",
    "    def get_salary(self):\n",
    "        return self.__salary\n",
    "\n",
    "    def set_salary(self, new_salary):\n",
    "        self.__salary = new_salary\n",
    "\n",
    "\n",
    "class Manager(Employee):\n",
    "    def __init__(self, name, salary, bonus):\n",
    "        super().__init__(name, salary)\n",
    "        self.__bonus = bonus\n",
    "\n",
    "    def calculate_salary(self):\n",
    "        return super().get_salary() + self.__bonus\n",
    "\n",
    "\n",
    "class Developer(Employee):\n",
    "    def __init__(self, name, salary, languages):\n",
    "        super().__init__(name, salary)\n",
    "        self.__languages = languages\n",
    "\n",
    "    def calculate_salary(self):\n",
    "        return super().get_salary() + len(self.__languages) * 1000\n",
    "\n",
    "\n",
    "class Designer(Employee):\n",
    "    def __init__(self, name, salary, experience):\n",
    "        super().__init__(name, salary)\n",
    "        self.__experience = experience\n",
    "\n",
    "    def calculate_salary(self):\n",
    "        return super().get_salary() + self.__experience * 500\n",
    "\n",
    "\n",
    "# Create instances of different employees\n",
    "manager = Manager(\"John Doe\", 60000, 10000)\n",
    "developer = Developer(\"Jane Smith\", 50000, [\"Python\", \"JavaScript\"])\n",
    "designer = Designer(\"Bob Johnson\", 45000, 5)\n",
    "\n",
    "# Accessing attributes using getters\n",
    "print(f\"{manager.get_name()}'s salary: ${manager.calculate_salary()}\")\n",
    "print(f\"{developer.get_name()}'s salary: ${developer.calculate_salary()}\")\n",
    "print(f\"{designer.get_name()}'s salary: ${designer.calculate_salary()}\")\n",
    "\n",
    "# Using setters to modify attributes\n",
    "manager.set_salary(65000)\n",
    "print(f\"{manager.get_name()}'s updated salary: ${manager.calculate_salary()}\")\n"
   ]
  },
  {
   "cell_type": "markdown",
   "metadata": {},
   "source": [
    "### 18. Discuss the concept of function pointers and how they can be used to achieve polymorphism in Python."
   ]
  },
  {
   "cell_type": "markdown",
   "metadata": {},
   "source": [
    "*Ans:*\n",
    "\n",
    "**Function pointers** are a concept commonly found in languages like C and C++. They allow you to store the memory address of a function and call that function indirectly through the pointer. This provides a way to dynamically select and call different functions at runtime.\n",
    "\n",
    "In Python, you don't have explicit function pointers like in C or C++. Instead, Python has first-class functions, which means that functions can be treated as objects, assigned to variables, passed as arguments, and returned as values. This enables a form of polymorphism known as \"duck typing.\""
   ]
  },
  {
   "cell_type": "code",
   "execution_count": 2,
   "metadata": {},
   "outputs": [
    {
     "name": "stdout",
     "output_type": "stream",
     "text": [
      "Addition result: 8\n",
      "Subtraction result: 2\n",
      "Multiplication result: 15\n"
     ]
    }
   ],
   "source": [
    "def add(x, y):\n",
    "    return x + y\n",
    "\n",
    "def subtract(x, y):\n",
    "    return x - y\n",
    "\n",
    "def multiply(x, y):\n",
    "    return x * y\n",
    "\n",
    "# Define a function that takes two numbers and a function pointer\n",
    "def calculate(x, y, operation):\n",
    "    return operation(x, y)\n",
    "\n",
    "# Use the calculate function with different operations\n",
    "result_add = calculate(5, 3, add)\n",
    "result_subtract = calculate(5, 3, subtract)\n",
    "result_multiply = calculate(5, 3, multiply)\n",
    "\n",
    "print(f\"Addition result: {result_add}\")\n",
    "print(f\"Subtraction result: {result_subtract}\")\n",
    "print(f\"Multiplication result: {result_multiply}\")\n"
   ]
  },
  {
   "cell_type": "markdown",
   "metadata": {},
   "source": [
    "### 19. Explain the role of interfaces and abstract classes in polymorphism, drawing comparisons between them."
   ]
  },
  {
   "cell_type": "markdown",
   "metadata": {},
   "source": [
    "\n",
    "**Interfaces and abstract classes** are both powerful tools that can be used to achieve polymorphism in object-oriented programming. However, they have some key differences.\n",
    "\n",
    "**Interfaces** are declarations of behavior, but they do not provide any implementation. This means that any class that implements an interface must provide its own implementation of all of the interface's methods.\n",
    "\n",
    "Interfaces are used to define a contract that a class must adhere to. Any class that implements an interface must provide implementations for all the methods defined in the interface.\n",
    "\n",
    "**Abstract classes** are similar to interfaces in that they can declare abstract methods. However, abstract classes can also provide concrete implementations of methods. This means that classes that subclass an abstract class can choose to inherit the concrete implementations or provide their own implementations.\n",
    "\n",
    "Abstract classes are used when you want to define a common structure or behavior that multiple subclasses share, but each subclass might have its own specific implementation of some methods."
   ]
  },
  {
   "cell_type": "markdown",
   "metadata": {},
   "source": [
    "### 20. Create a Python class for a zoo simulation, demonstrating polymorphism with different animal types (e.g., mammals, birds, reptiles) and their behavior (e.g., eating, sleeping, making sounds)."
   ]
  },
  {
   "cell_type": "code",
   "execution_count": 3,
   "metadata": {},
   "outputs": [
    {
     "name": "stdout",
     "output_type": "stream",
     "text": [
      "Lion is eating plants.\n",
      "Lion is sleeping in a cozy den.\n",
      "Lion is making mammal sounds.\n",
      "Eagle is pecking at seeds.\n",
      "Eagle is roosting in a tree.\n",
      "Eagle is chirping and singing.\n",
      "Snake is hunting for insects.\n",
      "Snake is basking on a rock.\n",
      "Snake is hissing and rustling.\n"
     ]
    }
   ],
   "source": [
    "class Animal:\n",
    "    def __init__(self, name):\n",
    "        self.name = name\n",
    "\n",
    "    def eat(self):\n",
    "        pass\n",
    "\n",
    "    def sleep(self):\n",
    "        pass\n",
    "\n",
    "    def make_sound(self):\n",
    "        pass\n",
    "\n",
    "\n",
    "class Mammal(Animal):\n",
    "    def eat(self):\n",
    "        return f\"{self.name} is eating plants.\"\n",
    "\n",
    "    def sleep(self):\n",
    "        return f\"{self.name} is sleeping in a cozy den.\"\n",
    "\n",
    "    def make_sound(self):\n",
    "        return f\"{self.name} is making mammal sounds.\"\n",
    "\n",
    "\n",
    "class Bird(Animal):\n",
    "    def eat(self):\n",
    "        return f\"{self.name} is pecking at seeds.\"\n",
    "\n",
    "    def sleep(self):\n",
    "        return f\"{self.name} is roosting in a tree.\"\n",
    "\n",
    "    def make_sound(self):\n",
    "        return f\"{self.name} is chirping and singing.\"\n",
    "\n",
    "\n",
    "class Reptile(Animal):\n",
    "    def eat(self):\n",
    "        return f\"{self.name} is hunting for insects.\"\n",
    "\n",
    "    def sleep(self):\n",
    "        return f\"{self.name} is basking on a rock.\"\n",
    "\n",
    "    def make_sound(self):\n",
    "        return f\"{self.name} is hissing and rustling.\"\n",
    "\n",
    "\n",
    "# Create instances of different animals\n",
    "lion = Mammal(\"Lion\")\n",
    "eagle = Bird(\"Eagle\")\n",
    "snake = Reptile(\"Snake\")\n",
    "\n",
    "# Perform actions\n",
    "print(lion.eat())\n",
    "print(lion.sleep())\n",
    "print(lion.make_sound())\n",
    "\n",
    "print(eagle.eat())\n",
    "print(eagle.sleep())\n",
    "print(eagle.make_sound())\n",
    "\n",
    "print(snake.eat())\n",
    "print(snake.sleep())\n",
    "print(snake.make_sound())\n"
   ]
  },
  {
   "cell_type": "markdown",
   "metadata": {},
   "source": [
    "## Abstraction"
   ]
  },
  {
   "cell_type": "markdown",
   "metadata": {},
   "source": [
    "### 1. What is abstraction in Python, and how does it relate to object-oriented programming?"
   ]
  },
  {
   "cell_type": "markdown",
   "metadata": {},
   "source": [
    "### 2. Describe the benefits of abstraction in terms of code organization and complexity reduction."
   ]
  },
  {
   "cell_type": "markdown",
   "metadata": {},
   "source": [
    "### 3. Create a Python class called `Shape` with an abstract method `calculate_area()`. Then, create child classes (e.g., `Circle`, `Rectangle`) that implement the `calculate_area()` method. Provide an example of using these classes."
   ]
  },
  {
   "cell_type": "markdown",
   "metadata": {},
   "source": [
    "### 4. Explain the concept of abstract classes in Python and how they are defined using the `abc` module. Provide an example."
   ]
  },
  {
   "cell_type": "markdown",
   "metadata": {},
   "source": [
    "### 5. How do abstract classes differ from regular classes in Python? Discuss their use cases."
   ]
  },
  {
   "cell_type": "markdown",
   "metadata": {},
   "source": [
    "### 6. Create a Python class for a bank account and demonstrate abstraction by hiding the account balance and providing methods to deposit and withdraw funds."
   ]
  },
  {
   "cell_type": "markdown",
   "metadata": {},
   "source": [
    "\n",
    "### 7. Discuss the concept of interface classes in Python and their role in achieving abstraction.\n",
    "### 8. Create a Python class hierarchy for animals and implement abstraction by defining common methods (e.g., `eat()`, `sleep()`) in an abstract base class.\n",
    "### 9. Explain the significance of encapsulation in achieving abstraction. Provide examples.\n",
    "### 10. What is the purpose of abstract methods, and how do they enforce abstraction in Python classes?\n",
    "### 11. Create a Python class for a vehicle system and demonstrate abstraction by defining common methods (e.g., `start()`, `stop()`) in an abstract base class.\n",
    "### 12. Describe the use of abstract properties in Python and how they can be employed in abstract classes.\n",
    "### 13. Create a Python class hierarchy for employees in a company (e.g., manager, developer, designer) and implement abstraction by defining a common `get_salary()` method.\n",
    "### 14. Discuss the differences between abstract classes and concrete classes in Python, including their instantiation.\n",
    "### 15. Explain the concept of abstract data types (ADTs) and their role in achieving abstraction in Python.\n",
    "### 16. Create a Python class for a computer system, demonstrating abstraction by defining common methods (e.g., `power_on()`, `shutdown()`) in an abstract base class.\n",
    "### 17. Discuss the benefits of using abstraction in large-scale software development projects.\n",
    "### 18. Explain how abstraction enhances code reusability and modularity in Python programs.\n",
    "### 19. Create a Python class for a library system, implementing abstraction by defining common methods (e.g., `add_book()`, `borrow_book()`) in an abstract base class.\n",
    "### 20. Describe the concept of method abstraction in Python and how it relates to polymorphism."
   ]
  },
  {
   "cell_type": "markdown",
   "metadata": {},
   "source": [
    "## Composition"
   ]
  },
  {
   "cell_type": "markdown",
   "metadata": {},
   "source": [
    "1. Explain the concept of composition in Python and how it is used to build complex objects from simpler ones.\n",
    "2. Describe the difference between composition and inheritance in object-oriented programming.\n",
    "3. Create a Python class called `Author` with attributes for name and birthdate. Then, create a `Book` class that contains an instance of `Author` as a composition. Provide an example of creating a `Book` object.\n",
    "4. Discuss the benefits of using composition over inheritance in Python, especially in terms of code flexibility and reusability.\n",
    "5. How can you implement composition in Python classes? Provide examples of using composition to create complex objects.\n",
    "6. Create a Python class hierarchy for a music player system, using composition to represent playlists and songs.\n",
    "7. Explain the concept of \"has-a\" relationships in composition and how it helps design software systems.\n",
    "8. Create a Python class for a computer system, using composition to represent components like CPU, RAM, and storage devices.\n",
    "9. Describe the concept of \"delegation\" in composition and how it simplifies the design of complex systems.\n",
    "10. Create a Python class for a car, using composition to represent components like the engine, wheels, and transmission.\n",
    "11. How can you encapsulate and hide the details of composed objects in Python classes to maintain abstraction?\n",
    "12. Create a Python class for a university course, using composition to represent students, instructors, and course materials.\n",
    "13. Discuss the challenges and drawbacks of composition, such as increased complexity and potential for tight coupling between objects.\n",
    "14. Create a Python class hierarchy for a restaurant system, using composition to represent menus, dishes, and ingredients.\n",
    "15. Explain how composition enhances code maintainability and modularity in Python programs.\n",
    "16. Create a Python class for a computer game character, using composition to represent attributes like weapons, armor, and inventory.\n",
    "17. Describe the concept of \"aggregation\" in composition and how it differs from simple composition.\n",
    "18. Create a Python class for a house, using composition to represent rooms, furniture, and appliances.\n",
    "19. How can you achieve flexibility in composed objects by allowing them to be replaced or modified dynamically at runtime?\n",
    "20. Create a Python class for a social media application, using composition to represent users, posts, and comments.\n"
   ]
  },
  {
   "cell_type": "code",
   "execution_count": null,
   "metadata": {},
   "outputs": [],
   "source": []
  }
 ],
 "metadata": {
  "kernelspec": {
   "display_name": "base",
   "language": "python",
   "name": "python3"
  },
  "language_info": {
   "codemirror_mode": {
    "name": "ipython",
    "version": 3
   },
   "file_extension": ".py",
   "mimetype": "text/x-python",
   "name": "python",
   "nbconvert_exporter": "python",
   "pygments_lexer": "ipython3",
   "version": "3.11.4"
  }
 },
 "nbformat": 4,
 "nbformat_minor": 2
}
