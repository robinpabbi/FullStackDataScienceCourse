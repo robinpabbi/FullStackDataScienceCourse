{
 "cells": [
  {
   "cell_type": "markdown",
   "metadata": {},
   "source": [
    "## Constructor"
   ]
  },
  {
   "cell_type": "markdown",
   "metadata": {},
   "source": [
    "### 1. What is a constructor in Python? Explain its purpose and usage."
   ]
  },
  {
   "cell_type": "markdown",
   "metadata": {},
   "source": [
    "Ans.\n",
    "\n",
    "> A constructor is a special method within a class that is automatically called when a new instance (object) of the class is created. It is defined with the name `__init__`. The purpose of a constructor is to initialize the attributes of the object with initial values.\n",
    "\n",
    "#### Purpose of Constructor:\n",
    "1. **Initialization** - The main purpose of a constructor is to initialize the attributes of an object with specific values.\n",
    "2. **Setting Default Values** - It allows you to set default values for object attributes.\n",
    "\n",
    "#### Usage of Constructor:\n",
    "1. **Syntax** - The constructor is defined with the name `__init__` within a class.\n",
    "2. **Parameters** - It takes self as the first parameter (which refers to the instance being created) and other parameters to initialize the attributes.\n",
    "3. **Attribute Assignment** - Inside the constructor, you can assign initial values to the attributes using `self.attribute_name = initial_value`."
   ]
  },
  {
   "cell_type": "code",
   "execution_count": 6,
   "metadata": {},
   "outputs": [],
   "source": [
    "## Example of constructor\n",
    "class Person:\n",
    "    # Parameter Less contructor\n",
    "    def __init__(self):\n",
    "        self.name = \"Robin\"\n",
    "        self.age = 34\n",
    "\n",
    "p1 = Person()"
   ]
  },
  {
   "cell_type": "markdown",
   "metadata": {},
   "source": [
    "### 2. Differentiate between a parameterless constructor and a parameterized constructor in Python."
   ]
  },
  {
   "cell_type": "markdown",
   "metadata": {},
   "source": [
    "Ans.\n",
    "\n",
    "**Parameterless Constructor** - *(Also known as a default constructor)*\n",
    "\n",
    "* Takes no parameters other than the mandatory `self` parameter, which refers to the instance of the class.\n",
    "* Used when you want to initialize attributes with default values.\n",
    "\n",
    "Example: Person class with paramerless constructor as shown below:"
   ]
  },
  {
   "cell_type": "code",
   "execution_count": 7,
   "metadata": {},
   "outputs": [],
   "source": [
    "## Example of Parameterless constructor\n",
    "class Person:\n",
    "    # Parameter Less contructor\n",
    "    def __init__(self):\n",
    "        self.name = \"Robin\"\n",
    "        self.age = 34\n",
    "\n",
    "p1 = Person()"
   ]
  },
  {
   "cell_type": "markdown",
   "metadata": {},
   "source": [
    "**Parameterized Constructor** - *(Also known as a custom or explicit constructor)*\n",
    "\n",
    "* Takes parameters other than `self` to initialize the attributes of the class.\n",
    "* Used when you want to initialize attributes with specific values provided during object creation.\n",
    "\n",
    "Example: Person class with parameterized constructor as shown below:"
   ]
  },
  {
   "cell_type": "code",
   "execution_count": 8,
   "metadata": {},
   "outputs": [],
   "source": [
    "class Person:\n",
    "    # Parameterized Constructor\n",
    "    def __init__(self, name, age):\n",
    "        self.name = name\n",
    "        self.age = age\n",
    "\n",
    "p2 = Person('Robin', 34)"
   ]
  },
  {
   "cell_type": "markdown",
   "metadata": {},
   "source": [
    "### 3. How do you define a constructor in a Python class? Provide an example."
   ]
  },
  {
   "cell_type": "markdown",
   "metadata": {},
   "source": [
    "Ans.\n",
    "\n",
    "> A constructor is defined using a special method named `__init__`. It is called automatically when you create an instance of a class.\n",
    "\n",
    "Example: Student class with default constructor:"
   ]
  },
  {
   "cell_type": "code",
   "execution_count": 9,
   "metadata": {},
   "outputs": [],
   "source": [
    "class Student:\n",
    "    def __init__(self):\n",
    "        self.name = 'Robin'\n",
    "        self.age = 34\n",
    "        self.roll_no = 51"
   ]
  },
  {
   "cell_type": "markdown",
   "metadata": {},
   "source": [
    "### 4. Explain the `__init__` method in Python and its role in constructors."
   ]
  },
  {
   "cell_type": "markdown",
   "metadata": {},
   "source": [
    "Ans.\n",
    "\n",
    "> The `__init__` method in Python is a special method (dunder or magic method) used to initialize attributes of an object when it is created. It is commonly referred to as the *constructor* because it gets called automatically when you create an instance of a class."
   ]
  },
  {
   "cell_type": "markdown",
   "metadata": {},
   "source": [
    "### 5. In a class named `Person`, create a constructor that initializes the `name` and `age` attributes. Provide an example of creating an object of this class."
   ]
  },
  {
   "cell_type": "code",
   "execution_count": 12,
   "metadata": {},
   "outputs": [
    {
     "name": "stdout",
     "output_type": "stream",
     "text": [
      "Name: Robin, Age: 34 Yrs\n"
     ]
    }
   ],
   "source": [
    "# Class named Person with constructor that initializes the `name` and `age`\n",
    "class Person:\n",
    "    # constructor that initializes the `name` and `age`\n",
    "    def __init__(self, name, age):\n",
    "        self.name = name\n",
    "        self.age = age\n",
    "    \n",
    "    def __str__(self):\n",
    "        return f'Name: {self.name}, Age: {self.age} Yrs'\n",
    "\n",
    "# example of creating an object of this class\n",
    "p1 = Person('Robin', 34)\n",
    "\n",
    "print(p1)"
   ]
  },
  {
   "cell_type": "markdown",
   "metadata": {},
   "source": [
    "### 6. How can you call a constructor explicitly in Python? Give an example."
   ]
  },
  {
   "cell_type": "markdown",
   "metadata": {},
   "source": [
    "We typically don't call a constructor explicitly as it is automatically called when an instance of a class is created. However, if we need to call the constructor explicitly for any reason, we can do so. \n",
    "\n",
    "1. First of all we create an instance of a class using the dunder method `__new__` this will create an instance but not call the constructor implicitly.\n",
    "\n",
    "2. Then we explicitly call the `__init__` dunder method using the instance created above in the step 1.\n",
    "\n",
    "Example:\n"
   ]
  },
  {
   "cell_type": "code",
   "execution_count": 16,
   "metadata": {},
   "outputs": [
    {
     "name": "stdout",
     "output_type": "stream",
     "text": [
      "Student Name: Robin, Roll No: 786\n"
     ]
    }
   ],
   "source": [
    "class Student:\n",
    "    def __init__(self, name, roll_no):\n",
    "        self.name = name\n",
    "        self.roll_no = roll_no\n",
    "\n",
    "    def __str__(self):\n",
    "        return f'Student Name: {self.name}, Roll No: {self.roll_no}'\n",
    "\n",
    "# Creating instance without calling constructor\n",
    "student1 = Student.__new__(Student)\n",
    "\n",
    "# Explicitly calling __init__ (constructor)\n",
    "Student.__init__(student1, 'Robin', 786)\n",
    "\n",
    "# Print\n",
    "print(student1)"
   ]
  },
  {
   "cell_type": "markdown",
   "metadata": {},
   "source": [
    "### 7. What is the significance of the `self` parameter in Python constructors? Explain with an example."
   ]
  },
  {
   "cell_type": "markdown",
   "metadata": {},
   "source": [
    "Ans.\n",
    "\n",
    "> The `self` parameter in constructors and methods (*functions*) serves as a reference to the instance of the class itself. It allows you to access and modify attributes or even call/access methods of the object within the class.\n",
    "\n",
    "Example:"
   ]
  },
  {
   "cell_type": "code",
   "execution_count": 17,
   "metadata": {},
   "outputs": [
    {
     "name": "stdout",
     "output_type": "stream",
     "text": [
      "Hi, My name is Robin and I am 34 years old.\n"
     ]
    }
   ],
   "source": [
    "class Person:\n",
    "    # self in constructor used to modify/set value of attributes\n",
    "    def __init__(self, name, age):\n",
    "        self.name = name\n",
    "        self.age = age\n",
    "\n",
    "    # Self in method is used to access attibutes i.e. name and age\n",
    "    def get_details(self):\n",
    "        return f\"Hi, My name is {self.name} and I am {self.age} years old.\"\n",
    "    \n",
    "# Create person\n",
    "p1 = Person('Robin', 34)\n",
    "\n",
    "# Print\n",
    "print(p1.get_details())"
   ]
  },
  {
   "cell_type": "markdown",
   "metadata": {},
   "source": [
    "### 8. Discuss the concept of default constructors in Python. When are they used?"
   ]
  },
  {
   "cell_type": "markdown",
   "metadata": {},
   "source": [
    "Ans.\n",
    "\n",
    "> In Python, there are no explicit \"default constructors\" as such. Instead, Python provides a default constructor implicitly, which is the `__init__` method, and this gets called automatically when you create an instance of a class.\n",
    "\n",
    "The `__init__` method can be thought of as the default constructor because it serves the purpose of initializing the attributes of an object. If you don't define a custom `__init__` method in your class, Python provides a default one for you.\n",
    "\n",
    "*Example of class with out explicit `__init__` method*:"
   ]
  },
  {
   "cell_type": "code",
   "execution_count": 18,
   "metadata": {},
   "outputs": [
    {
     "data": {
      "text/plain": [
       "5"
      ]
     },
     "execution_count": 18,
     "metadata": {},
     "output_type": "execute_result"
    }
   ],
   "source": [
    "class Calculator:\n",
    "\n",
    "    def add(self, a, b):\n",
    "        return a + b\n",
    "\n",
    "    def sub(self, a, b):\n",
    "        return a + b\n",
    "\n",
    "    def mul(self, a, b):\n",
    "        return a + b\n",
    "\n",
    "# Creating an object/instance using default constructor (implicit __init__ from python)\n",
    "calc = Calculator()\n",
    "\n",
    "calc.add(2,3)"
   ]
  },
  {
   "cell_type": "markdown",
   "metadata": {},
   "source": [
    "*Example of class with explicit `__init__` method but default constructor (no params)*:"
   ]
  },
  {
   "cell_type": "code",
   "execution_count": 20,
   "metadata": {},
   "outputs": [
    {
     "name": "stdout",
     "output_type": "stream",
     "text": [
      "Name: John Doe, Age: 30 Yrs\n"
     ]
    }
   ],
   "source": [
    "class Person:\n",
    "    def __init__(self):\n",
    "        self.name = \"John Doe\"\n",
    "        self.age = 30\n",
    "\n",
    "    def __str__(self):\n",
    "        return f'Name: {self.name}, Age: {self.age} Yrs'\n",
    "\n",
    "# Creating instance using default constructor explicitly provided\"\n",
    "person = Person()\n",
    "\n",
    "print(person)"
   ]
  },
  {
   "cell_type": "markdown",
   "metadata": {},
   "source": [
    "### 9. Create a Python class called `Rectangle` with a constructor that initializes the `width` and `height` attributes. Provide a method to calculate the area of the rectangle."
   ]
  },
  {
   "cell_type": "code",
   "execution_count": 21,
   "metadata": {},
   "outputs": [
    {
     "name": "stdout",
     "output_type": "stream",
     "text": [
      "Area of rectangle is: 36\n"
     ]
    }
   ],
   "source": [
    "# Python class called `Rectangle` with a constructor that initializes the `width` and `height` attributes\n",
    "class Rectangle:\n",
    "    def __init__(self, width, height):\n",
    "        self.width = width\n",
    "        self.height = height\n",
    "\n",
    "    # method to calculate the area of the rectangle\n",
    "    def calculate_area(self):\n",
    "        return self.width * self.height\n",
    "    \n",
    "# Create instance\n",
    "rect = Rectangle(4, 9)\n",
    "\n",
    "# Compute area and print\n",
    "area_of_rect = rect.calculate_area()\n",
    "print(f'Area of rectangle is: {area_of_rect}')"
   ]
  },
  {
   "cell_type": "markdown",
   "metadata": {},
   "source": [
    "### 10. How can you have multiple constructors in a Python class? Explain with an example."
   ]
  },
  {
   "cell_type": "markdown",
   "metadata": {},
   "source": [
    "Ans.\n",
    "\n",
    "> In Python, you can't have multiple constructors as in some other programming languages. However, you can achieve similar functionality by using default parameter values and optional arguments.\n",
    "\n",
    "Example of Rectangle class from question 9 as below:"
   ]
  },
  {
   "cell_type": "code",
   "execution_count": 22,
   "metadata": {},
   "outputs": [
    {
     "name": "stdout",
     "output_type": "stream",
     "text": [
      "Area of rectangle1: 21\n",
      "Area of rectangle2: 49\n",
      "Area of rectangle3: 0\n"
     ]
    }
   ],
   "source": [
    "class Rectangle:\n",
    "    def __init__(self, width=None, height=None):\n",
    "        if width is not None and height is not None:\n",
    "            self.width = width\n",
    "            self.height = height\n",
    "        elif width is not None:\n",
    "            self.width = width\n",
    "            self.height = width\n",
    "        elif height is not None:\n",
    "            self.width = height\n",
    "            self.height = height\n",
    "        else:\n",
    "            self.width = 0\n",
    "            self.height = 0\n",
    "\n",
    "    def calculate_area(self):\n",
    "        return self.width * self.height\n",
    "\n",
    "# Creating instances of the Rectangle class\n",
    "rectangle1 = Rectangle(3, 7)\n",
    "# Square of 7x7\n",
    "rectangle2 = Rectangle(7)\n",
    "rectangle3 = Rectangle()\n",
    "\n",
    "# Calculating the areas\n",
    "area1 = rectangle1.calculate_area()\n",
    "area2 = rectangle2.calculate_area()\n",
    "area3 = rectangle3.calculate_area()\n",
    "\n",
    "print(f\"Area of rectangle1: {area1}\")\n",
    "print(f\"Area of rectangle2: {area2}\")\n",
    "print(f\"Area of rectangle3: {area3}\")"
   ]
  },
  {
   "cell_type": "markdown",
   "metadata": {},
   "source": [
    "### 11. What is method overloading, and how is it related to constructors in Python?"
   ]
  },
  {
   "cell_type": "markdown",
   "metadata": {},
   "source": [
    "Ans.\n",
    "\n",
    " Method overloading is a feature that allows a class to have multiple methods with the same name but different parameter lists. This means you can define multiple versions of a method, each accepting different arguments. In **Python** however, if you define multiple methods with the same name in a class, the last one defined will override the previous ones.\n",
    "\n",
    "However, you can achieve similar functionality through default parameter values and optional arguments. This way, a single method can handle different argument combinations.\n",
    "\n",
    "In case of **constructors** in Python, you can use default parameter values to simulate constructor overloading. By providing default values for constructor parameters, you can create instances of a class with different initial states based on the arguments provided during object creation (*as shown in the previous question's answer i.e. class Rectangle*).\n",
    "\n",
    "Example as below:"
   ]
  },
  {
   "cell_type": "code",
   "execution_count": 1,
   "metadata": {},
   "outputs": [
    {
     "name": "stdout",
     "output_type": "stream",
     "text": [
      "Area of rectangle1: 21\n",
      "Area of rectangle2: 49\n",
      "Area of rectangle3: 0\n"
     ]
    }
   ],
   "source": [
    "class Rectangle:\n",
    "    def __init__(self, width=None, height=None):\n",
    "        if width is not None and height is not None:\n",
    "            self.width = width\n",
    "            self.height = height\n",
    "        elif width is not None:\n",
    "            self.width = width\n",
    "            self.height = width\n",
    "        elif height is not None:\n",
    "            self.width = height\n",
    "            self.height = height\n",
    "        else:\n",
    "            self.width = 0\n",
    "            self.height = 0\n",
    "\n",
    "    def calculate_area(self):\n",
    "        return self.width * self.height\n",
    "\n",
    "# Creating instances of the Rectangle class\n",
    "rectangle1 = Rectangle(3, 7)\n",
    "# Square of 7x7\n",
    "rectangle2 = Rectangle(7)\n",
    "rectangle3 = Rectangle()\n",
    "\n",
    "# Calculating the areas\n",
    "area1 = rectangle1.calculate_area()\n",
    "area2 = rectangle2.calculate_area()\n",
    "area3 = rectangle3.calculate_area()\n",
    "\n",
    "print(f\"Area of rectangle1: {area1}\")\n",
    "print(f\"Area of rectangle2: {area2}\")\n",
    "print(f\"Area of rectangle3: {area3}\")"
   ]
  },
  {
   "cell_type": "markdown",
   "metadata": {},
   "source": [
    "### 12. Explain the use of the `super()` function in Python constructors. Provide an example."
   ]
  },
  {
   "cell_type": "markdown",
   "metadata": {},
   "source": [
    "Ans.\n",
    "\n",
    "The `super()` function in Python is a way to access methods and attributes from a parent class (superclass) within a child class (subclass). It is typically used to invoke the behavior of the parent class, especially in the context of constructors of the child class.\n",
    "\n",
    "In the case of constructors, `super()` is commonly used to ensure that attributes inherited from the parent class are properly initialized before adding new attributes specific to the child class.\n",
    "\n",
    "Example as below:"
   ]
  },
  {
   "cell_type": "code",
   "execution_count": 3,
   "metadata": {},
   "outputs": [
    {
     "name": "stdout",
     "output_type": "stream",
     "text": [
      "Sammy\n",
      "Labrador\n"
     ]
    }
   ],
   "source": [
    "class Animal:\n",
    "    def __init__(self, name):\n",
    "        self.name = name\n",
    "\n",
    "class Dog(Animal):\n",
    "    def __init__(self, name, breed):\n",
    "          # This line below invokes the parent class's constructor\n",
    "        super().__init__(name)\n",
    "        self.breed = breed\n",
    "\n",
    "# Creating a Dog instance\n",
    "dog = Dog(\"Sammy\", \"Labrador\")\n",
    "\n",
    "# Printing name and breed\n",
    "print(dog.name)\n",
    "print(dog.breed)"
   ]
  },
  {
   "cell_type": "markdown",
   "metadata": {},
   "source": [
    "### 13. Create a class called `Book` with a constructor that initializes the `title`, `author`, and `published_year` attributes. Provide a method to display book details."
   ]
  },
  {
   "cell_type": "code",
   "execution_count": 4,
   "metadata": {},
   "outputs": [
    {
     "name": "stdout",
     "output_type": "stream",
     "text": [
      "Title: Written in the bones\n",
      "Author: John\n",
      "Published Year: 1971\n"
     ]
    }
   ],
   "source": [
    "# Create a class called `Book`\n",
    "class Book:\n",
    "    # constructor that initializes the `title`, `author`, and `published_year`\n",
    "    def __init__(self, title, author, published_year):\n",
    "        self.title = title\n",
    "        self.author = author\n",
    "        self.published_year = published_year\n",
    "\n",
    "    # method to display book details\n",
    "    def display_details(self):\n",
    "        print(f\"Title: {self.title}\")\n",
    "        print(f\"Author: {self.author}\")\n",
    "        print(f\"Published Year: {self.published_year}\")\n",
    "\n",
    "# Creating an instance of the Book class\n",
    "book1 = Book(\"Written in the bones\", \"John\", 1971)\n",
    "\n",
    "# Displaying book details\n",
    "book1.display_details()"
   ]
  },
  {
   "cell_type": "markdown",
   "metadata": {},
   "source": [
    "### 14. Discuss the differences between constructors and regular methods in Python classes."
   ]
  },
  {
   "cell_type": "markdown",
   "metadata": {},
   "source": [
    "Ans:\n",
    "\n",
    "> Constructors and regular methods are both functions defined within a class in Python, but they serve different purposes and have distinct characteristics as below:\n",
    "\n",
    "|         | Constructor | Regular Method |\n",
    "| ------- | ----------- | -------------- |\n",
    "| **Purpose** | Purpose of a constructor is to initialize the attributes of an object when it is created.  It is automatically called when you create an instance of a class. | Regular methods perform operations or provide functionality related to the class. You need to explicitly call  regular methods after the object has been created to perform specific actions.  |\n",
    "| **Naming** | The constructor has a special predefined name `__init__ ` | Regular methods can have any valid method name. |\n",
    "| **Return Value** |  Constructors do not have a return statement.  | Regular methods can have a return statement to return a value. |\n",
    "| **Multiple Definitions** | There can be only one constructor (`__init__`) in a class. | You can define multiple regular methods in a class. |\n",
    "\n",
    "\n"
   ]
  },
  {
   "cell_type": "markdown",
   "metadata": {},
   "source": [
    "### 15. Explain the role of the `self` parameter in instance variable initialization within a constructor."
   ]
  },
  {
   "cell_type": "markdown",
   "metadata": {},
   "source": [
    "Ans:\n",
    "\n",
    "The `self` parameter in Python is a convention used to represent the instance of a class within its methods, including the constructor (`__init__`). It allows you to access and manipulate the attributes and methods of the object within the class.\n",
    "\n",
    "Within a constructor, `self` is used to differentiate between the attributes of the instance being created and any other variables with the same name. It helps bind attributes to the specific instance of the class.\n",
    "\n",
    "* **Creating Attributes**: Inside the `__init__` method, you define the attributes (instance variables) that you want each object of the class to have.\n",
    "\n",
    "* **Accessing Attributes**: To set the values of these attributes, you use `self.attribute_name = value`. \n",
    "\n",
    "* **Avoiding Name Conflicts**: The use of `self` ensures that you are working with the attributes of the instance being created, even if there are other variables in the class or method with the same name like arguments name (parameters name).\n",
    "\n",
    "* **Binding Attributes to the Instance**: When you create an instance of the class, `self` is automatically assigned to refer to that instance. This ensures that any attribute assigned using `self` is specific to that particular instance.\n"
   ]
  },
  {
   "cell_type": "code",
   "execution_count": 6,
   "metadata": {},
   "outputs": [
    {
     "name": "stdout",
     "output_type": "stream",
     "text": [
      "Name: Robin, Age: 34 Yrs\n"
     ]
    }
   ],
   "source": [
    "# Class named Person with constructor that initializes the `name` and `age` using self\n",
    "class Person:\n",
    "    # constructor that initializes the `name` and `age` using self\n",
    "    def __init__(self, name, age):\n",
    "        self.name = name\n",
    "        self.age = age\n",
    "    \n",
    "    def __str__(self):\n",
    "        return f'Name: {self.name}, Age: {self.age} Yrs'\n",
    "\n",
    "# example of creating an object of this class\n",
    "p1 = Person('Robin', 34)\n",
    "\n",
    "print(p1)"
   ]
  },
  {
   "cell_type": "markdown",
   "metadata": {},
   "source": [
    "### 16. How do you prevent a class from having multiple instances by using constructors in Python? Provide an example."
   ]
  },
  {
   "cell_type": "markdown",
   "metadata": {},
   "source": [
    "Ans:\n",
    "\n",
    "> In Python 3, you can implement the Singleton pattern using a metaclass. A metaclass is a class for classes, allowing you to customize class creation. \n",
    "\n",
    "Example of how you can implement the Singleton pattern in Python 3:"
   ]
  },
  {
   "cell_type": "code",
   "execution_count": 20,
   "metadata": {},
   "outputs": [
    {
     "name": "stdout",
     "output_type": "stream",
     "text": [
      "Instance 1\n",
      "Instance 1\n"
     ]
    }
   ],
   "source": [
    "# Meta class for the Singelton class\n",
    "class SingletonMeta(type):\n",
    "    _instances = {}\n",
    "\n",
    "    def __call__(cls, *args, **kwargs):\n",
    "        if cls not in cls._instances:\n",
    "            cls._instances[cls] = super().__call__(*args, **kwargs)\n",
    "        return cls._instances[cls]\n",
    "\n",
    "# Actual singleton class\n",
    "class Singleton(metaclass=SingletonMeta):\n",
    "    def __init__(self, data):\n",
    "        self.data = data\n",
    "\n",
    "\n",
    "# Creating instances of SingletonClass\n",
    "singleton1 = Singleton(\"Instance 1\")\n",
    "singleton2 = Singleton(\"Instance 2\")\n",
    "\n",
    "print(singleton1.data)\n",
    "print(singleton2.data)\n"
   ]
  },
  {
   "cell_type": "markdown",
   "metadata": {},
   "source": [
    "We can also use the decorator similar to Meta class used above. Example below:"
   ]
  },
  {
   "cell_type": "code",
   "execution_count": 22,
   "metadata": {},
   "outputs": [
    {
     "name": "stdout",
     "output_type": "stream",
     "text": [
      "Instance 1\n",
      "Instance 1\n"
     ]
    }
   ],
   "source": [
    "def singleton(class_):\n",
    "    instances = {}\n",
    "\n",
    "    def ensure_singleton_instance(*args, **kwargs):\n",
    "        if class_ not in instances:\n",
    "            instances[class_] = class_(*args, **kwargs)\n",
    "        return instances[class_]\n",
    "\n",
    "    return ensure_singleton_instance\n",
    "\n",
    "# using decorator below\n",
    "@singleton\n",
    "class Singleton:\n",
    "    def __init__(self, data):\n",
    "        self.data = data\n",
    "\n",
    "# Creating instances of Singleton\n",
    "singleton1 = Singleton(\"Instance 1\")\n",
    "singleton2 = Singleton(\"Instance 2\")\n",
    "\n",
    "print(singleton1.data)\n",
    "print(singleton2.data)"
   ]
  },
  {
   "cell_type": "markdown",
   "metadata": {},
   "source": [
    "### 17. Create a Python class called `Student` with a constructor that takes a list of subjects as a parameter and initializes the `subjects` attribute."
   ]
  },
  {
   "cell_type": "code",
   "execution_count": 23,
   "metadata": {},
   "outputs": [
    {
     "name": "stdout",
     "output_type": "stream",
     "text": [
      "Subjects:\n",
      "ML\n",
      "DataSciene\n",
      "Deep Learning\n",
      "NLP\n"
     ]
    }
   ],
   "source": [
    "class Student:\n",
    "    def __init__(self, subjects):\n",
    "        self.subjects = subjects\n",
    "\n",
    "    def display_subjects(self):\n",
    "        print(\"Subjects:\")\n",
    "        for subject in self.subjects:\n",
    "            print(subject)\n",
    "\n",
    "# Creating an instance of Student\n",
    "student1 = Student([\"ML\", \"DataSciene\", \"Deep Learning\", \"NLP\"])\n",
    "\n",
    "# Displaying the subjects\n",
    "student1.display_subjects()"
   ]
  },
  {
   "cell_type": "markdown",
   "metadata": {},
   "source": [
    "### 18. What is the purpose of the `__del__` method in Python classes, and how does it relate to constructors?"
   ]
  },
  {
   "cell_type": "markdown",
   "metadata": {},
   "source": [
    "Ans.\n",
    "\n",
    "> The `__del__` method (destructor) in Python is used to define the destruction logic for objects of a class. It's called automatically when an object is about to be destroyed, which typically occurs when there are no more references to the object. The purpose of the `__del__` method is to perform any necessary cleanup or finalization before the object is removed from memory.\n",
    "\n",
    "While constructors (`__init__` method) are used for initializing object attributes and setting up the initial state of an object, the `__del__` method is used for performing cleanup tasks or releasing resources associated with the object.\n",
    "\n",
    "Example showing Constructor and Destructor functionality below:"
   ]
  },
  {
   "cell_type": "code",
   "execution_count": 25,
   "metadata": {},
   "outputs": [
    {
     "name": "stdout",
     "output_type": "stream",
     "text": [
      "Object Student 1 created\n",
      "Object Student 2 created\n",
      "Object Student 1 is being destroyed\n",
      "Object Student 2 is being destroyed\n"
     ]
    }
   ],
   "source": [
    "class Student:\n",
    "    def __init__(self, name):\n",
    "        self.name = name\n",
    "        print(f\"Object {self.name} created\")\n",
    "\n",
    "    def __del__(self):\n",
    "        print(f\"Object {self.name} is being destroyed\")\n",
    "\n",
    "# Creating instances of Example class\n",
    "obj1 = Student(\"Student 1\")\n",
    "obj2 = Student(\"Student 2\")\n",
    "\n",
    "# Deleting references to objects\n",
    "del obj1\n",
    "del obj2"
   ]
  },
  {
   "cell_type": "markdown",
   "metadata": {},
   "source": [
    "### 19. Explain the use of constructor chaining in Python. Provide a practical example."
   ]
  },
  {
   "cell_type": "markdown",
   "metadata": {},
   "source": [
    "Ans:\n",
    "\n",
    "> Constructor chaining in Python refers to the ability of a subclass to call the constructor of its parent class. This allows you to reuse the initialization logic defined in the parent class's constructor (`__init__` using `super()`) when creating instances of the subclass.\n",
    "\n",
    "Example demostrating the constructor chaining:"
   ]
  },
  {
   "cell_type": "code",
   "execution_count": null,
   "metadata": {},
   "outputs": [],
   "source": [
    "class Animal:\n",
    "    def __init__(self, name):\n",
    "        self.name = name\n",
    "\n",
    "class Dog(Animal):\n",
    "    def __init__(self, name, breed):\n",
    "          # This line below invokes the parent class's constructor (Constructor chaining)\n",
    "        super().__init__(name)\n",
    "        self.breed = breed\n",
    "\n",
    "# Creating a Dog instance\n",
    "dog = Dog(\"Sammy\", \"Labrador\")\n",
    "\n",
    "# Printing name and breed\n",
    "print(dog.name)\n",
    "print(dog.breed)"
   ]
  },
  {
   "cell_type": "markdown",
   "metadata": {},
   "source": [
    "### 20. Create a Python class called `Car` with a default constructor that initializes the `make` and `model` attributes. Provide a method to display car information."
   ]
  },
  {
   "cell_type": "code",
   "execution_count": 26,
   "metadata": {},
   "outputs": [
    {
     "name": "stdout",
     "output_type": "stream",
     "text": [
      "Car make: Hyundai, Model: Ioniq 5\n"
     ]
    }
   ],
   "source": [
    "class Car:\n",
    "\n",
    "    # Default constructor (parameter less) initializing value of make and model\n",
    "    def __init__(self):\n",
    "        self.make = \"Hyundai\"\n",
    "        self.model = \"Ioniq 5\"\n",
    "\n",
    "    def display_details(self):\n",
    "        print(f'Car make: {self.make}, Model: {self.model}')\n",
    "\n",
    "# Create an instance\n",
    "car1 = Car()\n",
    "\n",
    "car1.display_details()"
   ]
  },
  {
   "cell_type": "code",
   "execution_count": 27,
   "metadata": {},
   "outputs": [
    {
     "name": "stdout",
     "output_type": "stream",
     "text": [
      "Car make: Hyundai, Model: Ioniq 5\n"
     ]
    }
   ],
   "source": [
    "class Car:\n",
    "\n",
    "    # Default constructor (parameterized) initializing value of make and model\n",
    "    def __init__(self, make, model):\n",
    "        self.make = make\n",
    "        self.model = model\n",
    "\n",
    "    def display_details(self):\n",
    "        print(f'Car make: {self.make}, Model: {self.model}')\n",
    "\n",
    "# Create an instance\n",
    "car1 = Car(\"Hyundai\", \"Ioniq 5\")\n",
    "\n",
    "car1.display_details()"
   ]
  },
  {
   "cell_type": "markdown",
   "metadata": {},
   "source": [
    "## Inheritance "
   ]
  },
  {
   "cell_type": "markdown",
   "metadata": {},
   "source": [
    "### 1. What is inheritance in Python? Explain its significance in object-oriented programming."
   ]
  },
  {
   "cell_type": "markdown",
   "metadata": {},
   "source": [
    "**Inheritance**: Inheritance is a fundamental concept in object-oriented programming (OOP) that allows one class (the subclass or derived class) to inherit the properties and behaviors of another class (the superclass or base class). Inheritance is a mechanism that models the \"is-a\" relationship, where a subclass is a specialized version of its superclass.\n",
    "\n",
    "**Inheritance in Python**: In Python, you define inheritance by creating a new class and specifying the base class it inherits from inside parentheses. The subclass then inherits attributes and methods from the superclass.\n",
    "\n",
    "**Significance of Inheritance**:\n",
    "\n",
    "* **Code Reusability**: Inheritance promotes code reusability by allowing you to reuse existing code from a superclass in a new class.\n",
    "\n",
    "* **Extensibility**: You can create more specialized classes (subclasses) by inheriting from a more general class (superclass). This enables you to extend or override the behaviors of the superclass to fit the specific needs of the subclass.\n",
    "\n",
    "* **Hierarchy and Organization**: Inheritance allows you to create hierarchical structures of classes, making the code more organized and easy to understand. It models the real-world relationships between objects.\n",
    "\n",
    "Real world example of Dog class and Cat class inheriting from animal class:"
   ]
  },
  {
   "cell_type": "code",
   "execution_count": 28,
   "metadata": {},
   "outputs": [
    {
     "name": "stdout",
     "output_type": "stream",
     "text": [
      "Dog says: Woof!\n",
      "Cat says: Meow!\n"
     ]
    }
   ],
   "source": [
    "class Animal:\n",
    "    def __init__(self, species):\n",
    "        self.species = species\n",
    "\n",
    "    def speak(self):\n",
    "        pass\n",
    "\n",
    "class Dog(Animal):\n",
    "    def speak(self):\n",
    "        return \"Woof!\"\n",
    "\n",
    "class Cat(Animal):\n",
    "    def speak(self):\n",
    "        return \"Meow!\"\n",
    "\n",
    "# Creating instances of subclasses\n",
    "dog = Dog(\"Dog\")\n",
    "cat = Cat(\"Cat\")\n",
    "\n",
    "# Calling the speak method on instances\n",
    "print(f\"{dog.species} says: {dog.speak()}\")\n",
    "print(f\"{cat.species} says: {cat.speak()}\")\n"
   ]
  },
  {
   "cell_type": "markdown",
   "metadata": {},
   "source": [
    "### 2. Differentiate between single inheritance and multiple inheritance in Python. Provide examples for each."
   ]
  },
  {
   "cell_type": "markdown",
   "metadata": {},
   "source": [
    "In Python, inheritance can be categorized into two main types: single inheritance and multiple inheritance. Let's differentiate between these two types and provide examples for each:\n",
    "\n",
    "**Single Inheritance**:\n",
    "\n",
    "Single inheritance is a type of inheritance where a subclass (derived class) inherits from a single superclass (base class). It forms a linear hierarchy of classes.\n",
    "\n",
    "Example:"
   ]
  },
  {
   "cell_type": "code",
   "execution_count": null,
   "metadata": {},
   "outputs": [],
   "source": [
    "class Animal:\n",
    "    def __init__(self, species):\n",
    "        self.species = species\n",
    "\n",
    "    def speak(self):\n",
    "        pass\n",
    "\n",
    "class Dog(Animal):\n",
    "    def speak(self):\n",
    "        return \"Woof!\"\n",
    "\n",
    "# Creating instance of subclass\n",
    "dog = Dog(\"Dog\")\n",
    "\n",
    "# Calling the speak method on instance\n",
    "print(f\"{dog.species} says: {dog.speak()}\")"
   ]
  },
  {
   "cell_type": "markdown",
   "metadata": {},
   "source": [
    "**Multiple Inheritance**:\n",
    "\n",
    "Multiple inheritance is a type of inheritance where a subclass (derived class) can inherit from more than one superclass (base class). This allows a class to inherit attributes and methods from multiple sources."
   ]
  },
  {
   "cell_type": "code",
   "execution_count": 29,
   "metadata": {},
   "outputs": [
    {
     "name": "stdout",
     "output_type": "stream",
     "text": [
      "Method from Parent1\n",
      "Method from Parent2\n",
      "Method from Child\n"
     ]
    }
   ],
   "source": [
    "class Parent1:\n",
    "    def method1(self):\n",
    "        return \"Method from Parent1\"\n",
    "\n",
    "class Parent2:\n",
    "    def method2(self):\n",
    "        return \"Method from Parent2\"\n",
    "\n",
    "class Child(Parent1, Parent2):\n",
    "    def method3(self):\n",
    "        return \"Method from Child\"\n",
    "\n",
    "# Creating an instance of Child\n",
    "child = Child()\n",
    "\n",
    "# Calling methods from different base classes and the child class\n",
    "print(child.method1())\n",
    "print(child.method2())\n",
    "print(child.method3())\n"
   ]
  },
  {
   "cell_type": "markdown",
   "metadata": {},
   "source": [
    "### 3. Create a Python class called `Vehicle` with attributes `color` and `speed`. Then, create a child class called `Car` that inherits from `Vehicle` and adds a `brand` attribute. Provide an example of creating a `Car` object."
   ]
  },
  {
   "cell_type": "code",
   "execution_count": 30,
   "metadata": {},
   "outputs": [
    {
     "name": "stdout",
     "output_type": "stream",
     "text": [
      "Color: Red\n",
      "Speed: 120\n",
      "Brand: Toyota\n"
     ]
    }
   ],
   "source": [
    "class Vehicle:\n",
    "    def __init__(self, color, speed):\n",
    "        self.color = color\n",
    "        self.speed = speed\n",
    "\n",
    "class Car(Vehicle):\n",
    "    def __init__(self, color, speed, brand):\n",
    "        super().__init__(color, speed)\n",
    "        self.brand = brand\n",
    "\n",
    "# Creating an instance of Car\n",
    "my_car = Car(\"Red\", 120, \"Toyota\")\n",
    "\n",
    "# Accessing attributes of Car\n",
    "print(f\"Color: {my_car.color}\")\n",
    "print(f\"Speed: {my_car.speed}\")\n",
    "print(f\"Brand: {my_car.brand}\")"
   ]
  },
  {
   "cell_type": "markdown",
   "metadata": {},
   "source": [
    "### 4. Explain the concept of method overriding in inheritance. Provide a practical example."
   ]
  },
  {
   "cell_type": "markdown",
   "metadata": {},
   "source": [
    "**Method overriding** is a concept in inheritance where a subclass provides its own implementation of a method that is already defined in its superclass. This allows the subclass to customize or extend the behavior of the inherited method while retaining the method's name and signature.\n",
    "\n",
    "Key points about method overriding:\n",
    "\n",
    "* The overridden method in the subclass must have the same name, parameters, and return type as the method in the superclass.\n",
    "\n",
    "* The super() function can be used to call the overridden method in the superclass within the subclass's overridden method.\n",
    "\n",
    "* Method overriding is a form of runtime polymorphism, where the same method name can behave differently based on the object's actual class.\n",
    "\n",
    "Example of Overiding"
   ]
  },
  {
   "cell_type": "code",
   "execution_count": 31,
   "metadata": {},
   "outputs": [
    {
     "name": "stdout",
     "output_type": "stream",
     "text": [
      "Circle Area: 78.53975\n",
      "Square Area: 16\n"
     ]
    }
   ],
   "source": [
    "class Shape:\n",
    "    def area(self):\n",
    "        pass\n",
    "\n",
    "class Circle(Shape):\n",
    "    def __init__(self, radius):\n",
    "        self.radius = radius\n",
    "\n",
    "    def area(self):\n",
    "        return 3.14159 * self.radius * self.radius\n",
    "\n",
    "class Square(Shape):\n",
    "    def __init__(self, side_length):\n",
    "        self.side_length = side_length\n",
    "\n",
    "    def area(self):\n",
    "        return self.side_length * self.side_length\n",
    "\n",
    "# Creating instances of Circle and Square\n",
    "circle = Circle(5)\n",
    "square = Square(4)\n",
    "\n",
    "# Calling the overridden area method\n",
    "print(f\"Circle Area: {circle.area()}\")\n",
    "print(f\"Square Area: {square.area()}\")\n"
   ]
  },
  {
   "cell_type": "markdown",
   "metadata": {},
   "source": [
    "### 5. How can you access the methods and attributes of a parent class from a child class in Python? Give an example."
   ]
  },
  {
   "cell_type": "markdown",
   "metadata": {},
   "source": [
    "Ans:\n",
    "\n",
    "> In Python, you can access the methods and attributes of a parent (superclass or base class) from a child (subclass or derived class) using the super() function. The super() function provides a way to call methods and access attributes of the parent class within the child class.\n",
    "\n",
    "Example:"
   ]
  },
  {
   "cell_type": "code",
   "execution_count": 33,
   "metadata": {},
   "outputs": [
    {
     "name": "stdout",
     "output_type": "stream",
     "text": [
      " Make: Hyundai\n",
      " Model: Ioniq 5\n",
      " Color: White\n",
      " category: SUV\n"
     ]
    }
   ],
   "source": [
    "class Vehicle:\n",
    "\n",
    "    def __init__(self, make, model, color):\n",
    "        self.make = make\n",
    "        self.model = model\n",
    "        self.color = color\n",
    "\n",
    "    def get_details(self):\n",
    "        return f' Make: {self.make}\\n Model: {self.model}\\n Color: {self.color}'\n",
    "    \n",
    "class Car(Vehicle):\n",
    "\n",
    "    def __init__(self, make, model, color, category):\n",
    "        # Using super to call construtor from parent class\n",
    "        super().__init__(make, model, color)\n",
    "        self.category = category\n",
    "\n",
    "    def get_details(self):\n",
    "        # Using super to call get_details from parent class\n",
    "        vehicle_details = super().get_details()\n",
    "        return f'{vehicle_details}\\n category: {self.category}' \n",
    "\n",
    "# Create instance\n",
    "car = Car(\"Hyundai\", \"Ioniq 5\", \"White\", \"SUV\")\n",
    "\n",
    "# Print details\n",
    "car_details = car.get_details()\n",
    "\n",
    "print(car_details)"
   ]
  },
  {
   "cell_type": "markdown",
   "metadata": {},
   "source": [
    "\n",
    "### 6. Discuss the use of the `super()` function in Python inheritance. When and why is it used? Provide an example."
   ]
  },
  {
   "cell_type": "markdown",
   "metadata": {},
   "source": [
    "The `super()` function in Python is used in the context of inheritance to call methods or access attributes from the parent class (superclass) within the child class (subclass). It is commonly used for the following purposes:\n",
    "\n",
    "* **Calling Superclass Constructors**: To invoke the constructor of the parent class, allowing the subclass to initialize its own attributes while retaining the attributes and behavior of the parent class.\n",
    "\n",
    "* **Method Overriding**: To call overridden methods from the parent class to include the behavior of the parent class before or after custom behavior defined in the child class.\n",
    "\n",
    "* **Cooperative Multiple Inheritance**: In cases of multiple inheritance, where a class inherits from more than one superclass, `super()` helps resolve method order conflicts and ensures proper method execution based on method resolution order.\n",
    "\n",
    "Example of usage of `super()`:"
   ]
  },
  {
   "cell_type": "code",
   "execution_count": 34,
   "metadata": {},
   "outputs": [
    {
     "name": "stdout",
     "output_type": "stream",
     "text": [
      " Make: Hyundai\n",
      " Model: Ioniq 5\n",
      " Color: White\n",
      " category: SUV\n"
     ]
    }
   ],
   "source": [
    "class Vehicle:\n",
    "\n",
    "    def __init__(self, make, model, color):\n",
    "        self.make = make\n",
    "        self.model = model\n",
    "        self.color = color\n",
    "\n",
    "    def get_details(self):\n",
    "        return f' Make: {self.make}\\n Model: {self.model}\\n Color: {self.color}'\n",
    "    \n",
    "class Car(Vehicle):\n",
    "\n",
    "    def __init__(self, make, model, color, category):\n",
    "        # Using super to call construtor from parent class\n",
    "        super().__init__(make, model, color)\n",
    "        self.category = category\n",
    "\n",
    "    def get_details(self):\n",
    "        # Using super to call get_details from parent class\n",
    "        vehicle_details = super().get_details()\n",
    "        return f'{vehicle_details}\\n category: {self.category}' \n",
    "\n",
    "# Create instance\n",
    "car = Car(\"Hyundai\", \"Ioniq 5\", \"White\", \"SUV\")\n",
    "\n",
    "# Print details\n",
    "car_details = car.get_details()\n",
    "\n",
    "print(car_details)"
   ]
  },
  {
   "cell_type": "markdown",
   "metadata": {},
   "source": [
    "### 7. Create a Python class called `Animal` with a method `speak()`. Then, create child classes `Dog` and `Cat` that inherit from `Animal` and override the `speak()` method. Provide an example of using these classes."
   ]
  },
  {
   "cell_type": "code",
   "execution_count": 35,
   "metadata": {},
   "outputs": [
    {
     "name": "stdout",
     "output_type": "stream",
     "text": [
      "Dog says: Woof!\n",
      "Cat says: Meow!\n"
     ]
    }
   ],
   "source": [
    "class Animal:\n",
    "    def __init__(self, species):\n",
    "        self.species = species\n",
    "\n",
    "    def speak(self):\n",
    "        pass\n",
    "\n",
    "class Dog(Animal):\n",
    "    def speak(self):\n",
    "        return \"Woof!\"\n",
    "\n",
    "class Cat(Animal):\n",
    "    def speak(self):\n",
    "        return \"Meow!\"\n",
    "\n",
    "# Creating instances of subclasses\n",
    "dog = Dog(\"Dog\")\n",
    "cat = Cat(\"Cat\")\n",
    "\n",
    "# Calling the speak method on instances\n",
    "print(f\"{dog.species} says: {dog.speak()}\")\n",
    "print(f\"{cat.species} says: {cat.speak()}\")\n"
   ]
  },
  {
   "cell_type": "markdown",
   "metadata": {},
   "source": [
    "### 8. Explain the role of the `isinstance()` function in Python and how it relates to inheritance."
   ]
  },
  {
   "cell_type": "markdown",
   "metadata": {},
   "source": [
    "The `isinstance()` function in Python is used to determine if an object belongs to a particular class or a subclass. It checks the type of an object and returns `True` if the object is an instance of the specified class or a subclass of that class.\n",
    "\n",
    "The `isinstance()` function plays a key role in inheritance by allowing you to test whether an object is an instance of a specific class or one of its subclasses. It is often used for the following purposes:\n",
    "\n",
    "**Type Checking**: To ensure that an object is of the expected type before performing operations on it. This helps prevent errors and unexpected behavior.\n",
    "\n",
    "**Polymorphism**: To enable the use of objects of different classes in a generic way, as long as they share a common superclass. This is a fundamental concept in object-oriented programming and is closely related to inheritance.\n",
    "\n",
    "Example:"
   ]
  },
  {
   "cell_type": "code",
   "execution_count": 38,
   "metadata": {},
   "outputs": [
    {
     "name": "stdout",
     "output_type": "stream",
     "text": [
      "True\n",
      "True\n",
      "False\n",
      "True\n"
     ]
    }
   ],
   "source": [
    "class Animal:\n",
    "    def speak(self):\n",
    "        pass\n",
    "\n",
    "class Dog(Animal):\n",
    "    def speak(self):\n",
    "        print(\"Woof!\")\n",
    "\n",
    "class Cat(Animal):\n",
    "    def speak(self):\n",
    "        print(\"Meow!\")\n",
    "\n",
    "# Creating instances of Dog and Cat\n",
    "dog = Dog()\n",
    "cat = Cat()\n",
    "\n",
    "# Checking the type using isinstance\n",
    "print(isinstance(dog, Animal))\n",
    "print(isinstance(cat, Animal)) \n",
    "print(isinstance(cat, Dog))  # False\n",
    "print(isinstance(dog, Dog))  # True"
   ]
  },
  {
   "cell_type": "markdown",
   "metadata": {},
   "source": [
    "### 9. What is the purpose of the `issubclass()` function in Python? Provide an example."
   ]
  },
  {
   "cell_type": "markdown",
   "metadata": {},
   "source": [
    "Ans:\n",
    "> The issubclass() function in Python is used to check if a given class is a subclass of a specified class or a subclass of any class in a tuple of classes. It returns True if the first class is a subclass of the second class or any class in the tuple, and False otherwise.\n",
    "\n",
    "Example:"
   ]
  },
  {
   "cell_type": "code",
   "execution_count": 40,
   "metadata": {},
   "outputs": [
    {
     "name": "stdout",
     "output_type": "stream",
     "text": [
      "True\n",
      "False\n",
      "True\n"
     ]
    }
   ],
   "source": [
    "class Animal:\n",
    "    pass\n",
    "\n",
    "class Dog(Animal):\n",
    "    pass\n",
    "\n",
    "# Checking if Dog is a subclass of Animal\n",
    "print(issubclass(Dog, Animal))  # True\n",
    "\n",
    "# Checking if Animal is a subclass of Dog (which is not the case)\n",
    "print(issubclass(Animal, Dog))  # False\n",
    "\n",
    "# Checking if Dog is a subclass of object (the base class of all classes in Python)\n",
    "print(issubclass(Dog, object))  # True"
   ]
  },
  {
   "cell_type": "markdown",
   "metadata": {},
   "source": [
    "### 10. Discuss the concept of constructor inheritance in Python. How are constructors inherited in child classes?"
   ]
  },
  {
   "cell_type": "markdown",
   "metadata": {},
   "source": [
    "\n",
    "### 11. Create a Python class called `Shape` with a method `area()` that calculates the area of a shape. Then, create child classes `Circle` and `Rectangle` that inherit from `Shape` and implement the `area()` method accordingly. Provide an example.\n",
    "### 12. Explain the use of abstract base classes (ABCs) in Python and how they relate to inheritance. Provide an example using the `abc` module.\n",
    "### 13. How can you prevent a child class from modifying certain attributes or methods inherited from a parent class in Python?\n",
    "### 14. Create a Python class called `Employee` with attributes `name` and `salary`. Then, create a child class `Manager` that inherits from `Employee` and adds an attribute `department`. Provide an example.\n",
    "### 15. Discuss the concept of method overloading in Python inheritance. How does it differ from method overriding?\n",
    "### 16. Explain the purpose of the `__init__()` method in Python inheritance and how it is utilized in child classes.\n",
    "### 17. Create a Python class called `Bird` with a method `fly()`. Then, create child classes `Eagle` and `Sparrow` that inherit from `Bird` and implement the `fly()` method differently. Provide an example of using these classes.\n",
    "### 18. What is the \"diamond problem\" in multiple inheritance, and how does Python address it?\n",
    "### 19. Discuss the concept of \"is-a\" and \"has-a\" relationships in inheritance, and provide examples of each.\n",
    "### 20. Create a Python class hierarchy for a university system. Start with a base class `Person` and create child classes `Student` and `Professor`, each with their own attributes and methods. Provide an example of using these classes in a university context."
   ]
  },
  {
   "cell_type": "markdown",
   "metadata": {},
   "source": []
  },
  {
   "cell_type": "markdown",
   "metadata": {},
   "source": []
  },
  {
   "cell_type": "markdown",
   "metadata": {},
   "source": []
  },
  {
   "cell_type": "markdown",
   "metadata": {},
   "source": []
  },
  {
   "cell_type": "markdown",
   "metadata": {},
   "source": [
    "## Encapsulation"
   ]
  },
  {
   "cell_type": "markdown",
   "metadata": {},
   "source": [
    "1. Explain the concept of encapsulation in Python. What is its role in object-oriented programming?\n",
    "2. Describe the key principles of encapsulation, including access control and data hiding.\n",
    "3. How can you achieve encapsulation in Python classes? Provide an example.\n",
    "4. Discuss the difference between public, private, and protected access modifiers in Python.\n",
    "5. Create a Python class called `Person` with a private attribute `__name`. Provide methods to get and set the name attribute.\n",
    "6. Explain the purpose of getter and setter methods in encapsulation. Provide examples.\n",
    "7. What is name mangling in Python, and how does it affect encapsulation?\n",
    "8. Create a Python class called `BankAccount` with private attributes for the account balance (`__balance`) and account number (`__account_number`). Provide methods for depositing and withdrawing money.\n",
    "9. Discuss the advantages of encapsulation in terms of code maintainability and security.\n",
    "10. How can you access private attributes in Python? Provide an example demonstrating the use of name mangling.\n",
    "11. Create a Python class hierarchy for a school system, including classes for students, teachers, and courses, and implement encapsulation principles to protect sensitive information.\n",
    "12. Explain the concept of property decorators in Python and how they relate to encapsulation.\n",
    "13. What is data hiding, and why is it important in encapsulation? Provide examples.\n",
    "14. Create a Python class called `Employee` with private attributes for salary (`__salary`) and employee ID (`__employee_id`). Provide a method to calculate yearly bonuses.\n",
    "15. Discuss the use of accessors and mutators in encapsulation. How do they help maintain control over attribute access?\n",
    "16. What are the potential drawbacks or disadvantages of using encapsulation in Python?\n",
    "17. Create a Python class for a library system that encapsulates book information, including titles, authors, and availability status.\n",
    "18. Explain how encapsulation enhances code reusability and modularity in Python programs.\n",
    "19. Describe the concept of information hiding in encapsulation. Why is it essential in software development?\n",
    "20. Create a Python class called `Customer` with private attributes for customer details like name, address, and contact information. Implement encapsulation to ensure data integrity and security.\n"
   ]
  },
  {
   "cell_type": "markdown",
   "metadata": {},
   "source": [
    "## Polymorphism"
   ]
  },
  {
   "cell_type": "markdown",
   "metadata": {},
   "source": [
    "1. What is polymorphism in Python? Explain how it is related to object-oriented programming.\n",
    "2. Describe the difference between compile-time polymorphism and runtime polymorphism in Python.\n",
    "3. Create a Python class hierarchy for shapes (e.g., circle, square, triangle) and demonstrate polymorphism through a common method, such as `calculate_area()`.\n",
    "4. Explain the concept of method overriding in polymorphism. Provide an example.\n",
    "5. How is polymorphism different from method overloading in Python? Provide examples for both.\n",
    "6. Create a Python class called `Animal` with a method `speak()`. Then, create child classes like `Dog`, `Cat`, and `Bird`, each with their own `speak()` method. Demonstrate polymorphism by calling the `speak()` method on objects of different subclasses.\n",
    "7. Discuss the use of abstract methods and classes in achieving polymorphism in Python. Provide an example using the `abc` module.\n",
    "8. Create a Python class hierarchy for a vehicle system (e.g., car, bicycle, boat) and implement a polymorphic `start()` method that prints a message specific to each vehicle type.\n",
    "9. Explain the significance of the `isinstance()` and `issubclass()` functions in Python polymorphism.\n",
    "10. What is the role of the `@abstractmethod` decorator in achieving polymorphism in Python? Provide an example.\n",
    "11. Create a Python class called `Shape` with a polymorphic method `area()` that calculates the area of different shapes (e.g., circle, rectangle, triangle).\n",
    "12. Discuss the benefits of polymorphism in terms of code reusability and flexibility in Python programs.\n",
    "13. Explain the use of the `super()` function in Python polymorphism. How does it help call methods of parent classes?\n",
    "14. Create a Python class hierarchy for a banking system with various account types (e.g., savings, checking, credit card) and demonstrate polymorphism by implementing a common `withdraw()` method.\n",
    "15. Describe the concept of operator overloading in Python and how it relates to polymorphism. Provide examples using operators like `+` and `*`.\n",
    "16. What is dynamic polymorphism, and how is it achieved in Python?\n",
    "17. Create a Python class hierarchy for employees in a company (e.g., manager, developer, designer) and implement polymorphism through a common `calculate_salary()` method.\n",
    "18. Discuss the concept of function pointers and how they can be used to achieve polymorphism in Python.\n",
    "19. Explain the role of interfaces and abstract classes in polymorphism, drawing comparisons between them.\n",
    "20. Create a Python class for a zoo simulation, demonstrating polymorphism with different animal types (e.g., mammals, birds, reptiles) and their behavior (e.g., eating, sleeping, making sounds).\n"
   ]
  },
  {
   "cell_type": "markdown",
   "metadata": {},
   "source": [
    "## Abstraction"
   ]
  },
  {
   "cell_type": "markdown",
   "metadata": {},
   "source": [
    "1. What is abstraction in Python, and how does it relate to object-oriented programming?\n",
    "2. Describe the benefits of abstraction in terms of code organization and complexity reduction.\n",
    "3. Create a Python class called `Shape` with an abstract method `calculate_area()`. Then, create child classes (e.g., `Circle`, `Rectangle`) that implement the `calculate_area()` method. Provide an example of using these classes.\n",
    "4. Explain the concept of abstract classes in Python and how they are defined using the `abc` module. Provide an example.\n",
    "5. How do abstract classes differ from regular classes in Python? Discuss their use cases.\n",
    "6. Create a Python class for a bank account and demonstrate abstraction by hiding the account balance and providing methods to deposit and withdraw funds.\n",
    "7. Discuss the concept of interface classes in Python and their role in achieving abstraction.\n",
    "8. Create a Python class hierarchy for animals and implement abstraction by defining common methods (e.g., `eat()`, `sleep()`) in an abstract base class.\n",
    "9. Explain the significance of encapsulation in achieving abstraction. Provide examples.\n",
    "10. What is the purpose of abstract methods, and how do they enforce abstraction in Python classes?\n",
    "11. Create a Python class for a vehicle system and demonstrate abstraction by defining common methods (e.g., `start()`, `stop()`) in an abstract base class.\n",
    "12. Describe the use of abstract properties in Python and how they can be employed in abstract classes.\n",
    "13. Create a Python class hierarchy for employees in a company (e.g., manager, developer, designer) and implement abstraction by defining a common `get_salary()` method.\n",
    "14. Discuss the differences between abstract classes and concrete classes in Python, including their instantiation.\n",
    "15. Explain the concept of abstract data types (ADTs) and their role in achieving abstraction in Python.\n",
    "16. Create a Python class for a computer system, demonstrating abstraction by defining common methods (e.g., `power_on()`, `shutdown()`) in an abstract base class.\n",
    "17. Discuss the benefits of using abstraction in large-scale software development projects.\n",
    "18. Explain how abstraction enhances code reusability and modularity in Python programs.\n",
    "19. Create a Python class for a library system, implementing abstraction by defining common methods (e.g., `add_book()`, `borrow_book()`) in an abstract base class.\n",
    "20. Describe the concept of method abstraction in Python and how it relates to polymorphism.\n"
   ]
  },
  {
   "cell_type": "markdown",
   "metadata": {},
   "source": [
    "## Composition"
   ]
  },
  {
   "cell_type": "markdown",
   "metadata": {},
   "source": [
    "1. Explain the concept of composition in Python and how it is used to build complex objects from simpler ones.\n",
    "2. Describe the difference between composition and inheritance in object-oriented programming.\n",
    "3. Create a Python class called `Author` with attributes for name and birthdate. Then, create a `Book` class that contains an instance of `Author` as a composition. Provide an example of creating a `Book` object.\n",
    "4. Discuss the benefits of using composition over inheritance in Python, especially in terms of code flexibility and reusability.\n",
    "5. How can you implement composition in Python classes? Provide examples of using composition to create complex objects.\n",
    "6. Create a Python class hierarchy for a music player system, using composition to represent playlists and songs.\n",
    "7. Explain the concept of \"has-a\" relationships in composition and how it helps design software systems.\n",
    "8. Create a Python class for a computer system, using composition to represent components like CPU, RAM, and storage devices.\n",
    "9. Describe the concept of \"delegation\" in composition and how it simplifies the design of complex systems.\n",
    "10. Create a Python class for a car, using composition to represent components like the engine, wheels, and transmission.\n",
    "11. How can you encapsulate and hide the details of composed objects in Python classes to maintain abstraction?\n",
    "12. Create a Python class for a university course, using composition to represent students, instructors, and course materials.\n",
    "13. Discuss the challenges and drawbacks of composition, such as increased complexity and potential for tight coupling between objects.\n",
    "14. Create a Python class hierarchy for a restaurant system, using composition to represent menus, dishes, and ingredients.\n",
    "15. Explain how composition enhances code maintainability and modularity in Python programs.\n",
    "16. Create a Python class for a computer game character, using composition to represent attributes like weapons, armor, and inventory.\n",
    "17. Describe the concept of \"aggregation\" in composition and how it differs from simple composition.\n",
    "18. Create a Python class for a house, using composition to represent rooms, furniture, and appliances.\n",
    "19. How can you achieve flexibility in composed objects by allowing them to be replaced or modified dynamically at runtime?\n",
    "20. Create a Python class for a social media application, using composition to represent users, posts, and comments.\n"
   ]
  },
  {
   "cell_type": "code",
   "execution_count": null,
   "metadata": {},
   "outputs": [],
   "source": []
  }
 ],
 "metadata": {
  "kernelspec": {
   "display_name": "base",
   "language": "python",
   "name": "python3"
  },
  "language_info": {
   "codemirror_mode": {
    "name": "ipython",
    "version": 3
   },
   "file_extension": ".py",
   "mimetype": "text/x-python",
   "name": "python",
   "nbconvert_exporter": "python",
   "pygments_lexer": "ipython3",
   "version": "3.11.4"
  }
 },
 "nbformat": 4,
 "nbformat_minor": 2
}
