{
 "cells": [
  {
   "cell_type": "markdown",
   "metadata": {},
   "source": [
    "## For Loop:"
   ]
  },
  {
   "cell_type": "markdown",
   "metadata": {},
   "source": [
    "### 1. \n",
    "Write a Python program to print numbers from 1 to 10 using a for loop."
   ]
  },
  {
   "cell_type": "code",
   "execution_count": 3,
   "metadata": {},
   "outputs": [
    {
     "name": "stdout",
     "output_type": "stream",
     "text": [
      "Numbers from 1 to 10 are as below:\n",
      "1\n",
      "2\n",
      "3\n",
      "4\n",
      "5\n",
      "6\n",
      "7\n",
      "8\n",
      "9\n",
      "10\n"
     ]
    }
   ],
   "source": [
    "def print_numbers(lower_bound: int, upper_bound: int):\n",
    "    '''\n",
    "    Print numbers from lower bound to upper bound (both inclusive)\n",
    "    '''\n",
    "    print(f'Numbers from {lower_bound} to {upper_bound} are as below:')\n",
    "\n",
    "    # Using for loop as required in question\n",
    "    for num in range(lower_bound, upper_bound + 1):\n",
    "        print(num)\n",
    "\n",
    "# Printing numbers from 1 to 10\n",
    "print_numbers(1, 10)"
   ]
  },
  {
   "cell_type": "markdown",
   "metadata": {},
   "source": [
    "### 2. Explain the difference between a for loop and a while loop in Python.\n",
    "\n",
    "Ans.\n",
    " \n",
    "> For loop is used when you know how many times you want to do something in advance. In case of 'For' loop you we know how many times to run and it runs for that many times. \n",
    "\n",
    "> While loop keeps doing a task as long as a certain condition is true. It doesn't know in advance how many times it will do it, but it keeps doing it until the condition becomes false as it keeps checking for condition after every run. In other words, while loop is used when you want to do something repeatedly until a certain condition is no longer true (when while condition is not true)."
   ]
  },
  {
   "cell_type": "code",
   "execution_count": 4,
   "metadata": {},
   "outputs": [
    {
     "name": "stdout",
     "output_type": "stream",
     "text": [
      "For Loop output below:\n",
      "1\n",
      "2\n",
      "3\n",
      "4\n",
      "5\n",
      "6\n",
      "7\n",
      "8\n",
      "9\n",
      "10\n",
      "While loop output below\n",
      "1\n",
      "2\n",
      "3\n",
      "4\n",
      "5\n",
      "6\n",
      "7\n",
      "8\n",
      "9\n",
      "10\n"
     ]
    }
   ],
   "source": [
    "# Code difference\n",
    "\n",
    "# Print 1 tp 10 using for loop\n",
    "print('For Loop output below:')\n",
    "for num in range(1, 11):\n",
    "    print(num)\n",
    "\n",
    "# Print 1 to 10 using while loop\n",
    "n = 1\n",
    "print('While loop output below')\n",
    "while n <= 10:\n",
    "    print(n)\n",
    "    n += 1\n"
   ]
  },
  {
   "cell_type": "markdown",
   "metadata": {},
   "source": [
    "### 3. Write a Python program to calculate the sum of all numbers from 1 to 100 using a for loop."
   ]
  },
  {
   "cell_type": "code",
   "execution_count": 5,
   "metadata": {},
   "outputs": [
    {
     "name": "stdout",
     "output_type": "stream",
     "text": [
      "Sum of numbers from 1 to 100 is: 5050\n"
     ]
    }
   ],
   "source": [
    "def sum_of_numbers(range_of_numbers: range):\n",
    "    '''\n",
    "    Function counts the sum of numbers for given range\n",
    "    '''\n",
    "    sum = 0\n",
    "\n",
    "    for num in range_of_numbers:\n",
    "        sum += num\n",
    "    \n",
    "    return sum\n",
    "\n",
    "# Calculate sum from 1 to 100\n",
    "sum_of_1_to_100 = sum_of_numbers(range(1, 101))\n",
    "\n",
    "# Print\n",
    "print(f'Sum of numbers from 1 to 100 is: {sum_of_1_to_100}')"
   ]
  },
  {
   "cell_type": "markdown",
   "metadata": {},
   "source": [
    "### 4. How do you iterate through a list using a for loop in Python?"
   ]
  },
  {
   "cell_type": "code",
   "execution_count": 6,
   "metadata": {},
   "outputs": [
    {
     "name": "stdout",
     "output_type": "stream",
     "text": [
      "1\n",
      "2\n",
      "3\n",
      "4\n",
      "5\n",
      "Robin\n",
      "Pabbi\n",
      "Pwskills\n"
     ]
    }
   ],
   "source": [
    "# Create a list\n",
    "list1 = [1, 2, 3, 4, 5, 'Robin', 'Pabbi', 'Pwskills']\n",
    "\n",
    "# Iterating on list using for loop and printing each element\n",
    "for element in list1:\n",
    "    print(element)\n"
   ]
  },
  {
   "cell_type": "markdown",
   "metadata": {},
   "source": [
    "### 5. Write a Python program to find the product of all elements in a list using a for loop."
   ]
  },
  {
   "cell_type": "code",
   "execution_count": 7,
   "metadata": {},
   "outputs": [
    {
     "name": "stdout",
     "output_type": "stream",
     "text": [
      "Product of list [1, 2, 3, 4, 5, 6, 7, 8, 9] is: 362880\n"
     ]
    }
   ],
   "source": [
    "def calculate_product_of_elements(list_of_numbers: list):\n",
    "    '''\n",
    "    Computes the product of each element in the list (iterable) using for loop\n",
    "    '''\n",
    "    product = 1\n",
    "    \n",
    "    for num in list_of_numbers:\n",
    "        product *= num\n",
    "    \n",
    "    return product\n",
    "\n",
    "# Create a list\n",
    "list2 = [1, 2, 3, 4, 5, 6, 7, 8, 9]\n",
    "\n",
    "# Compute the product of elements\n",
    "product_of_list_elements = calculate_product_of_elements(list2)\n",
    "\n",
    "# Print\n",
    "print(f'Product of list {list2} is: {product_of_list_elements}')"
   ]
  },
  {
   "cell_type": "markdown",
   "metadata": {},
   "source": [
    "### 6. Create a Python program that prints all even numbers from 1 to 20 using a for loop."
   ]
  },
  {
   "cell_type": "code",
   "execution_count": 8,
   "metadata": {},
   "outputs": [
    {
     "name": "stdout",
     "output_type": "stream",
     "text": [
      "2\n",
      "4\n",
      "6\n",
      "8\n",
      "10\n",
      "12\n",
      "14\n",
      "16\n",
      "18\n",
      "20\n"
     ]
    }
   ],
   "source": [
    "def print_event_numbers_in_range(range_of_numbers: range):\n",
    "    '''\n",
    "    Prints the even numbers from the given range using for loop\n",
    "    '''\n",
    "    for num in range_of_numbers:\n",
    "        if num % 2 == 0:\n",
    "            print(num)\n",
    "\n",
    "\n",
    "# Print the even numbers from 1 to 2\n",
    "print_event_numbers_in_range(range(1, 21))"
   ]
  },
  {
   "cell_type": "markdown",
   "metadata": {},
   "source": [
    "### 7. Write a Python program that calculates the factorial of a number using a for loop."
   ]
  },
  {
   "cell_type": "code",
   "execution_count": 9,
   "metadata": {},
   "outputs": [
    {
     "name": "stdout",
     "output_type": "stream",
     "text": [
      "Factorial of 8 is: 40320\n"
     ]
    }
   ],
   "source": [
    "def factorial_of_number(n):\n",
    "    '''\n",
    "    Compute the factorial of the number n using for loop\n",
    "    '''\n",
    "    result = 1\n",
    "    for i in range(1, n + 1):\n",
    "        result *= i\n",
    "    return result\n",
    "\n",
    "# Take input of number from user\n",
    "num = int(input('Enter the number for which you want to compute factorial: '))\n",
    "\n",
    "# Compute factorial\n",
    "fact_of_num = factorial_of_number(num)\n",
    "\n",
    "# Print result\n",
    "print(f'Factorial of {num} is: {fact_of_num}')\n"
   ]
  },
  {
   "cell_type": "markdown",
   "metadata": {},
   "source": [
    "### 8. How can you iterate through the characters of a string using a for loop in Python?"
   ]
  },
  {
   "cell_type": "code",
   "execution_count": 10,
   "metadata": {},
   "outputs": [
    {
     "name": "stdout",
     "output_type": "stream",
     "text": [
      "You entered: Robin\n",
      "Characters from the string as below: \n",
      "R\n",
      "o\n",
      "b\n",
      "i\n",
      "n\n"
     ]
    }
   ],
   "source": [
    "def iterate_and_print_chars_of_string(string_inpt: str):\n",
    "    '''\n",
    "    Iterate on the string characters using for loop and print each char\n",
    "    '''\n",
    "\n",
    "    for char in string_inpt:\n",
    "        print(char)\n",
    "\n",
    "# Take string input from user\n",
    "string_inpt = input('Enter string to print characters from: ')\n",
    "\n",
    "# Print entered string\n",
    "print(f'You entered: {string_inpt}')\n",
    "\n",
    "# Print characters\n",
    "print('Characters from the string as below: ')\n",
    "iterate_and_print_chars_of_string(string_inpt)"
   ]
  },
  {
   "cell_type": "markdown",
   "metadata": {},
   "source": [
    "### 9. Write a Python program to find the largest number in a list using a for loop."
   ]
  },
  {
   "cell_type": "code",
   "execution_count": 11,
   "metadata": {},
   "outputs": [
    {
     "name": "stdout",
     "output_type": "stream",
     "text": [
      "Largest number in [1, 2, 3, 4, 6, 7, 8, 99, 1, 3, 45, 67] is: 99\n"
     ]
    }
   ],
   "source": [
    "def find_largest(list_of_numbers: list) -> int:\n",
    "    '''\n",
    "    Find the largest element from the list using For loop\n",
    "    '''\n",
    "    # Set the first element as maximum\n",
    "    max_num = list_of_numbers[0]\n",
    "\n",
    "    for num in list_of_numbers:\n",
    "        if num > max_num:\n",
    "            max_num = num\n",
    "    \n",
    "    return max_num\n",
    "\n",
    "# Create a list\n",
    "list3 = [1, 2, 3, 4, 6, 7, 8, 99, 1, 3, 45, 67]\n",
    "\n",
    "# Compute largest number\n",
    "largest_num = find_largest(list3)\n",
    "\n",
    "# Print\n",
    "print(f'Largest number in {list3} is: {largest_num}')"
   ]
  },
  {
   "cell_type": "markdown",
   "metadata": {},
   "source": [
    "### 10. Create a Python program that prints the Fibonacci sequence up to a specified limit using a for loop."
   ]
  },
  {
   "cell_type": "code",
   "execution_count": 12,
   "metadata": {},
   "outputs": [
    {
     "name": "stdout",
     "output_type": "stream",
     "text": [
      "Fibonacci series till limit i.e. 1000 is: [0, 1, 1, 2, 3, 5, 8, 13, 21, 34, 55, 89, 144, 233, 377, 610, 987]\n"
     ]
    }
   ],
   "source": [
    "def fibonacci_sequence_for_limit(limit: int):\n",
    "    '''\n",
    "    Function generates the Fibonacci series till the given limit\n",
    "    if next number goes out of limit then we stop generating further\n",
    "    '''\n",
    "    fib_sequence = [0, 1]\n",
    "\n",
    "    for i in range(2, limit):\n",
    "        next_fib = fib_sequence[-1] + fib_sequence[-2]\n",
    "        # generated fib number goes out of limit then break the for loop so that keep fib numbers in limit\n",
    "        if next_fib > limit:\n",
    "            break\n",
    "        fib_sequence.append(next_fib)\n",
    "\n",
    "    return fib_sequence\n",
    "\n",
    "# Take input of the limit from the user\n",
    "limit = int(input('Enter the limit till which you want to generate fibonacci series: '))\n",
    "\n",
    "# Generate Fibonacci series\n",
    "fib_sequence = fibonacci_sequence_for_limit(limit)\n",
    "\n",
    "# Print\n",
    "print(f'Fibonacci series till limit i.e. {limit} is: {fib_sequence}')"
   ]
  },
  {
   "cell_type": "markdown",
   "metadata": {},
   "source": [
    "### 11. Write a Python program to count the number of vowels in a given string using a for loop.\n"
   ]
  },
  {
   "cell_type": "code",
   "execution_count": 14,
   "metadata": {},
   "outputs": [
    {
     "name": "stdout",
     "output_type": "stream",
     "text": [
      "Entered string \"Robin Pabbi\" contains 4 vowels.\n"
     ]
    }
   ],
   "source": [
    "VOWELS = ['a', 'e', 'i', 'o', 'u']\n",
    "# Creating a function taking string as input and returning count of vowels\n",
    "def count_number_of_vowels(input_string:str)->int:\n",
    "    '''\n",
    "    Function counts the number of vowels in the string using For loop and return the count\n",
    "    '''\n",
    "    \n",
    "    count = 0\n",
    "\n",
    "    for char in input_string:\n",
    "        if char.lower() in VOWELS:\n",
    "            count += 1\n",
    "\n",
    "    return count\n",
    "\n",
    "#Take input string from the user\n",
    "sentence = input('Enter your string: ')\n",
    "\n",
    "# Compute the number of vowels\n",
    "vowel_count = count_number_of_vowels(sentence)\n",
    "\n",
    "#Print Vowel Count\n",
    "print(f'Entered string \"{sentence}\" contains {vowel_count} vowels.')"
   ]
  },
  {
   "cell_type": "markdown",
   "metadata": {},
   "source": [
    "### 12. Create a Python program that generates a multiplication table for a given number using a for loop."
   ]
  },
  {
   "cell_type": "code",
   "execution_count": 15,
   "metadata": {},
   "outputs": [
    {
     "name": "stdout",
     "output_type": "stream",
     "text": [
      "Table of 7 is as below:\n",
      "7 x 1 = 7\n",
      "7 x 2 = 14\n",
      "7 x 3 = 21\n",
      "7 x 4 = 28\n",
      "7 x 5 = 35\n",
      "7 x 6 = 42\n",
      "7 x 7 = 49\n",
      "7 x 8 = 56\n",
      "7 x 9 = 63\n",
      "7 x 10 = 70\n"
     ]
    }
   ],
   "source": [
    "# Function - Take a numbers as input and print table of num\n",
    "def print_table(n: int):\n",
    "    '''\n",
    "    Take a numbers as input and print table of num - using for loop\n",
    "    '''\n",
    "\n",
    "    # Looping from 1 to 10 (11 because upper bound is exluded)\n",
    "    for multiplier in range(1, 11):\n",
    "        print(f'{n} x {multiplier} = {multiplier * n}')\n",
    "\n",
    "# Take a number input from the user\n",
    "number = int(input('Enter a number whose table is to be printed: '))\n",
    "\n",
    "print(f'Table of {number} is as below:')\n",
    "\n",
    "# Print table\n",
    "print_table(number)"
   ]
  },
  {
   "cell_type": "markdown",
   "metadata": {},
   "source": [
    "### 13. Write a Python program to reverse a list using a for loop."
   ]
  },
  {
   "cell_type": "code",
   "execution_count": 16,
   "metadata": {},
   "outputs": [
    {
     "name": "stdout",
     "output_type": "stream",
     "text": [
      "Reversed list is: [9, 8, 7, 6, 5, 4, 3, 2, 1]\n"
     ]
    }
   ],
   "source": [
    "def reverse_list(input_list: list) -> list:\n",
    "    '''\n",
    "    return the list - Using for loop\n",
    "    '''\n",
    "    reversed_list = []\n",
    "    # loop from length - 1 to -1 (-1 is excluded so till 0, with step -1)\n",
    "    for i in range(len(input_list)-1, -1, -1):\n",
    "        reversed_list.append(input_list[i])\n",
    "\n",
    "    return reversed_list\n",
    "\n",
    "# Create a list\n",
    "list1 = [1, 2, 3, 4, 5, 6, 7, 8, 9]\n",
    "\n",
    "# Reverse a list\n",
    "reversed_list = reverse_list(list1)\n",
    "\n",
    "# Print\n",
    "print(f'Reversed list is: {reversed_list}')"
   ]
  },
  {
   "cell_type": "markdown",
   "metadata": {},
   "source": [
    "### 14. Write a Python program to find the common elements between two lists using a for loop."
   ]
  },
  {
   "cell_type": "code",
   "execution_count": 17,
   "metadata": {},
   "outputs": [
    {
     "name": "stdout",
     "output_type": "stream",
     "text": [
      "Common elements are: [4, 5]\n"
     ]
    }
   ],
   "source": [
    "def find_common_elements(list1: list, list2: list):\n",
    "    '''\n",
    "    Find the common elements in two lists and return a list of common elements- Using for loop\n",
    "    '''\n",
    "    common_elements = []\n",
    "    # For loop on list1\n",
    "    for element in list1:\n",
    "        # Checking element is in list2\n",
    "        if element in list2:\n",
    "            common_elements.append(element)\n",
    "\n",
    "    return common_elements\n",
    "\n",
    "# Create lists\n",
    "list1 = [1, 2, 3, 4, 5]\n",
    "list2 = [4, 5, 6, 7, 8]\n",
    "\n",
    "# Find common elements\n",
    "common_elements = find_common_elements(list1, list2)\n",
    "\n",
    "# Print\n",
    "print(\"Common elements are:\", common_elements)"
   ]
  },
  {
   "cell_type": "markdown",
   "metadata": {},
   "source": [
    "### 15. Explain how to use a for loop to iterate through the keys and values of a dictionary in Python.\n",
    "\n",
    "Ans.\n",
    "\n",
    "> We can use 'items()' function to iterate on key value pair where we can get key and value on each iteration.\n",
    "\n",
    "> For iterating on keys only, we can use 'keys()' function.\n",
    "\n",
    "> For values, we can use 'values()' function"
   ]
  },
  {
   "cell_type": "code",
   "execution_count": 23,
   "metadata": {},
   "outputs": [
    {
     "name": "stdout",
     "output_type": "stream",
     "text": [
      "Iterating using items() function:\n",
      "dict[Name] = Robin\n",
      "dict[Age] = 34\n",
      "dict[Job] = Developer\n",
      "dict[Interests] = ['AI', 'ML', 'DL', 'DS', 'NLP']\n",
      "\n",
      "Iterating using keys() :\n",
      "dict[Name] = Robin\n",
      "dict[Age] = 34\n",
      "dict[Job] = Developer\n",
      "dict[Interests] = ['AI', 'ML', 'DL', 'DS', 'NLP']\n",
      "\n",
      "Iterating using values() - will print only values :\n",
      "Robin\n",
      "34\n",
      "Developer\n",
      "['AI', 'ML', 'DL', 'DS', 'NLP']\n"
     ]
    }
   ],
   "source": [
    "# Create a dictionary\n",
    "dict1 = {'Name': 'Robin', 'Age': 34, 'Job': 'Developer', 'Interests': ['AI', 'ML', 'DL', 'DS', 'NLP']}\n",
    "\n",
    "# iterating on both keys and values - using items\n",
    "print('Iterating using items() function:')\n",
    "for keyValue in dict1.items():\n",
    "    print(f'dict[{keyValue[0]}] = {keyValue[1]}')\n",
    "\n",
    "print()\n",
    "\n",
    "# iterating on keys\n",
    "print('Iterating using keys() :')\n",
    "for key in dict1.keys():\n",
    "    print(f'dict[{key}] = {dict1[key]}')\n",
    "\n",
    "print()\n",
    "\n",
    "# iterating on values only\n",
    "print('Iterating using values() - will print only values :')\n",
    "for value in dict1.values():\n",
    "    print(value)"
   ]
  },
  {
   "cell_type": "markdown",
   "metadata": {},
   "source": [
    "### 16. Write a Python program to find the GCD (Greatest Common Divisor) of two numbers using a for loop."
   ]
  },
  {
   "cell_type": "code",
   "execution_count": 24,
   "metadata": {},
   "outputs": [
    {
     "name": "stdout",
     "output_type": "stream",
     "text": [
      "Greatest common divisor of 99 and 66 is : 33\n"
     ]
    }
   ],
   "source": [
    "# GCD is also known as HCF. The highest common Factor.\n",
    "# highest number with which our two numbers are divided without remainder.\n",
    "# Since it is highest number - we will start from reverse direction - from smallest number of two towards 1 \n",
    "# although we can start from any number but to optimize we will start from smallest number of given numbers\n",
    "\n",
    "def find_gcd(number1: int, number2: int) -> int:\n",
    "    '''\n",
    "    Function finds the GCF of given two numbers - using loop\n",
    "    '''\n",
    "    # Check boundary condition\n",
    "    # If any number is zero then other number becomes gcd, because zero is divisible by anynumber\n",
    "    if number1 == 0:\n",
    "        return number2\n",
    "    elif number2 == 0:\n",
    "        return number1\n",
    "    \n",
    "    gcd = 1\n",
    "    small_num, large_num = min(number1, number2),  max(number1, number2)\n",
    "    \n",
    "    # Check if both numbers are divisible by current number if yes then return\n",
    "    for num in range(small_num, 1, -1):\n",
    "        if(large_num % num == 0 and small_num % num == 0):\n",
    "            gcd = num\n",
    "            break\n",
    "        \n",
    "    return gcd\n",
    "\n",
    "# Take input of numbers\n",
    "number_1 = int(input('Enter a number 1: '))\n",
    "number_2 = int(input('Enter a number 2: '))\n",
    "\n",
    "# Find gcd\n",
    "gcd = find_gcd(number_1, number_2)\n",
    "\n",
    "# Print result\n",
    "print(f'Greatest common divisor of {number_1} and {number_2} is : {gcd}')"
   ]
  },
  {
   "cell_type": "markdown",
   "metadata": {},
   "source": [
    "### 17. Create a Python program that checks if a string is a palindrome using a for loop."
   ]
  },
  {
   "cell_type": "code",
   "execution_count": 26,
   "metadata": {},
   "outputs": [
    {
     "name": "stdout",
     "output_type": "stream",
     "text": [
      "\"Able was I ere I saw elba\" is a palindrome\n"
     ]
    }
   ],
   "source": [
    "def is_palindrome(input_string: str)-> bool:\n",
    "    '''\n",
    "    Function - checks if string is palindrome or not - Return True if Palindrome else False - using for loop\n",
    "    '''\n",
    "\n",
    "    # Removing spaces and converting to lowercase for case-insensitive comparison\n",
    "    input_string = input_string.replace(\" \", \"\").lower()\n",
    "    \n",
    "    # Using a for loop to compare characters from start to end (till middle of string to optimize)\n",
    "    for i in range(len(input_string)//2):\n",
    "        if input_string[i] != input_string[-i-1]:\n",
    "            return False\n",
    "    return True\n",
    "\n",
    "# Create a string\n",
    "test_string = 'Able was I ere I saw elba'\n",
    "\n",
    "# Check if string is palindrome or not\n",
    "result = is_palindrome(test_string)\n",
    "\n",
    "# Print\n",
    "if result:\n",
    "    print(f'\"{test_string}\" is a palindrome')\n",
    "else:\n",
    "    print(f'\"{test_string}\" is not a palindrome')"
   ]
  },
  {
   "cell_type": "markdown",
   "metadata": {},
   "source": [
    "### 18. Write a Python program to remove duplicates from a list using a for loop."
   ]
  },
  {
   "cell_type": "code",
   "execution_count": 27,
   "metadata": {},
   "outputs": [
    {
     "name": "stdout",
     "output_type": "stream",
     "text": [
      "Unique elements in the list: [1, 2, 3, 4, 5, 6, 7]\n"
     ]
    }
   ],
   "source": [
    "def remove_duplicates(input_list: list) -> list:\n",
    "    '''\n",
    "    Function - Returns a list with duplicates removed from the list - using for loop\n",
    "    '''\n",
    "\n",
    "    list_with_no_duplicates = []\n",
    "\n",
    "    for item in input_list:\n",
    "        if item not in list_with_no_duplicates:\n",
    "            list_with_no_duplicates.append(item)\n",
    "\n",
    "    return list_with_no_duplicates\n",
    "\n",
    "# Create a list\n",
    "list1 = [1, 2, 3, 2, 4, 1, 5, 6, 3, 7]\n",
    "\n",
    "# Remove duplicates\n",
    "list_of_unique_elements = remove_duplicates(list1)\n",
    "\n",
    "# Print\n",
    "print(f'Unique elements in the list: {list_of_unique_elements}')"
   ]
  },
  {
   "cell_type": "markdown",
   "metadata": {},
   "source": [
    "### 19. Create a Python program that counts the number of words in a sentence using a for loop."
   ]
  },
  {
   "cell_type": "code",
   "execution_count": 28,
   "metadata": {},
   "outputs": [
    {
     "name": "stdout",
     "output_type": "stream",
     "text": [
      "Count of words in \"Hello my name is Robin Pabbi\" is: 6\n"
     ]
    }
   ],
   "source": [
    "def count_words(sentence: str) -> int:\n",
    "    '''\n",
    "    Function - Count the number of words in sentence - using for loop\n",
    "    '''\n",
    "    word_count = 0\n",
    "\n",
    "    # Using for loop to count the number of words\n",
    "    for word in sentence.split(' '):\n",
    "        word_count += 1\n",
    "\n",
    "    return word_count\n",
    "\n",
    "# Take string input from the user\n",
    "sentence = input('Enter sentence: ')\n",
    "\n",
    "# Count number of words\n",
    "num_of_words = count_words(sentence)\n",
    "\n",
    "# Print \n",
    "print(f'Count of words in \"{sentence}\" is: {num_of_words}')"
   ]
  },
  {
   "cell_type": "markdown",
   "metadata": {},
   "source": [
    "### 20. Write a Python program to find the sum of all odd numbers from 1 to 50 using a for loop."
   ]
  },
  {
   "cell_type": "code",
   "execution_count": 29,
   "metadata": {},
   "outputs": [
    {
     "name": "stdout",
     "output_type": "stream",
     "text": [
      "Sum of odd numbers from 1 to 50 is: 625\n"
     ]
    }
   ],
   "source": [
    "def sum_of_odd_numbers(range_of_numbers: range) -> int:\n",
    "    '''\n",
    "    Compute sum of odd numbers from give range - using for loop\n",
    "    '''\n",
    "    sum_result = 0\n",
    "\n",
    "    for num in range_of_numbers:\n",
    "        if num % 2 != 0:\n",
    "            sum_result += num\n",
    "    \n",
    "    return sum_result\n",
    "\n",
    "# Compute sum of odd numbers from 1 to 50 (51 upper bound)\n",
    "sum_of_odds = sum_of_odd_numbers(range(1, 51))\n",
    "\n",
    "# Print\n",
    "print(f'Sum of odd numbers from 1 to 50 is: {sum_of_odds}')"
   ]
  },
  {
   "cell_type": "markdown",
   "metadata": {},
   "source": [
    "### 21. Write a Python program that checks if a given year is a leap year using a for loop."
   ]
  },
  {
   "cell_type": "code",
   "execution_count": 31,
   "metadata": {},
   "outputs": [
    {
     "name": "stdout",
     "output_type": "stream",
     "text": [
      "Year 2024 is a leap year.\n"
     ]
    }
   ],
   "source": [
    "# Leap year is a year which is divisible by 4\n",
    "\n",
    "# Note: not using for loop as suggested by SME that there is a mistake in question.\n",
    "# There is no logic of using for loop for leap year computation\n",
    "\n",
    "def is_leap_year(year: int) -> bool:\n",
    "    '''\n",
    "    Function checks if the year is leap year or not\n",
    "    '''\n",
    "    if year % 4 == 0:\n",
    "        return True\n",
    "    else:\n",
    "        return False\n",
    "    \n",
    "# Take input of year\n",
    "year = int(input('Enter year: '))\n",
    "\n",
    "# Print\n",
    "if is_leap_year(year):\n",
    "    print(f'Year {year} is a leap year.')\n",
    "else:\n",
    "    print(f'Year {year} is a not leap year.')"
   ]
  },
  {
   "cell_type": "markdown",
   "metadata": {},
   "source": [
    "### 22. Create a Python program that calculates the square root of a number using a for loop.\n"
   ]
  },
  {
   "cell_type": "code",
   "execution_count": 32,
   "metadata": {},
   "outputs": [
    {
     "name": "stdout",
     "output_type": "stream",
     "text": [
      "Sqrt of the number 16 is : 4.0\n"
     ]
    }
   ],
   "source": [
    "def calculate_square_root(number: int):\n",
    "    '''\n",
    "    Compute sqrt of the number using for loop.\n",
    "    '''\n",
    "    # Check if the number is non-negative\n",
    "    if number < 0:\n",
    "        print(\"Cannot calculate the square root of a negative number.\")\n",
    "    else:\n",
    "        # Initial guess for the square root\n",
    "        probable_sqrt = number / 2.0\n",
    "        \n",
    "        # Number of iterations for approximation - we can adjust this value for accuracy\n",
    "        num_iterations = 10  \n",
    "        \n",
    "        # Use a for loop to iteratively improve the approximation\n",
    "        for _ in range(num_iterations):\n",
    "            probable_sqrt = 0.5 * (probable_sqrt + number / probable_sqrt)\n",
    "            \n",
    "        return probable_sqrt\n",
    "\n",
    "# Take input from user\n",
    "number = int(input('Enter the number:'))\n",
    "\n",
    "# Find sqrt\n",
    "sqrt_of_num = calculate_square_root(number)\n",
    "\n",
    "# Print\n",
    "print(f'Sqrt of the number {number} is : {sqrt_of_num}')"
   ]
  },
  {
   "cell_type": "markdown",
   "metadata": {},
   "source": [
    "### 23. Write a Python program to find the LCM (Least Common Multiple) of two numbers using a for loop."
   ]
  },
  {
   "cell_type": "code",
   "execution_count": 30,
   "metadata": {},
   "outputs": [
    {
     "name": "stdout",
     "output_type": "stream",
     "text": [
      "The LCM of 12 and 18 is: 36\n"
     ]
    }
   ],
   "source": [
    "# LCM is smallest common multiple of both numbers, we start with max number and towards num1 * num2\n",
    "\n",
    "def find_lcm(num1: int, num2: int):\n",
    "    '''\n",
    "    Function return the LCM of two numbers\n",
    "    '''\n",
    "    # Find the maximum of the two numbers\n",
    "    max_num = max(num1, num2)\n",
    "\n",
    "    for lcm in range(max_num, num1*num2 + 1, max_num):\n",
    "        if lcm % num1 == 0 and lcm % num2 == 0:\n",
    "            return lcm\n",
    "        \n",
    "\n",
    "# Take input of numbers from user\n",
    "number1 = int(input('Enter number1: '))\n",
    "number2 = int(input('Enter number2: '))\n",
    "\n",
    "# Find LCM\n",
    "lcm_result = find_lcm(number1, number2)\n",
    "\n",
    "# Print\n",
    "print(f\"The LCM of {number1} and {number2} is: {lcm_result}\")"
   ]
  },
  {
   "cell_type": "markdown",
   "metadata": {},
   "source": [
    "## If else :"
   ]
  },
  {
   "cell_type": "markdown",
   "metadata": {},
   "source": []
  }
 ],
 "metadata": {
  "kernelspec": {
   "display_name": "base",
   "language": "python",
   "name": "python3"
  },
  "language_info": {
   "codemirror_mode": {
    "name": "ipython",
    "version": 3
   },
   "file_extension": ".py",
   "mimetype": "text/x-python",
   "name": "python",
   "nbconvert_exporter": "python",
   "pygments_lexer": "ipython3",
   "version": "3.11.4"
  },
  "orig_nbformat": 4
 },
 "nbformat": 4,
 "nbformat_minor": 2
}
