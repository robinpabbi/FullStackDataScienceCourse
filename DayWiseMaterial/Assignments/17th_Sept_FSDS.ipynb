{
 "cells": [
  {
   "cell_type": "markdown",
   "metadata": {},
   "source": [
    "## For Loop:"
   ]
  },
  {
   "cell_type": "markdown",
   "metadata": {},
   "source": [
    "### 1. \n",
    "Write a Python program to print numbers from 1 to 10 using a for loop."
   ]
  },
  {
   "cell_type": "code",
   "execution_count": 3,
   "metadata": {},
   "outputs": [
    {
     "name": "stdout",
     "output_type": "stream",
     "text": [
      "Numbers from 1 to 10 are as below:\n",
      "1\n",
      "2\n",
      "3\n",
      "4\n",
      "5\n",
      "6\n",
      "7\n",
      "8\n",
      "9\n",
      "10\n"
     ]
    }
   ],
   "source": [
    "def print_numbers(lower_bound: int, upper_bound: int):\n",
    "    '''\n",
    "    Print numbers from lower bound to upper bound (both inclusive)\n",
    "    '''\n",
    "    print(f'Numbers from {lower_bound} to {upper_bound} are as below:')\n",
    "\n",
    "    # Using for loop as required in question\n",
    "    for num in range(lower_bound, upper_bound + 1):\n",
    "        print(num)\n",
    "\n",
    "# Printing numbers from 1 to 10\n",
    "print_numbers(1, 10)"
   ]
  },
  {
   "cell_type": "markdown",
   "metadata": {},
   "source": [
    "### 2. Explain the difference between a for loop and a while loop in Python.\n",
    "\n",
    "Ans.\n",
    " \n",
    "> For loop is used when you know how many times you want to do something in advance. In case of 'For' loop you we know how many times to run and it runs for that many times. \n",
    "\n",
    "> While loop keeps doing a task as long as a certain condition is true. It doesn't know in advance how many times it will do it, but it keeps doing it until the condition becomes false as it keeps checking for condition after every run. In other words, while loop is used when you want to do something repeatedly until a certain condition is no longer true (when while condition is not true)."
   ]
  },
  {
   "cell_type": "code",
   "execution_count": 4,
   "metadata": {},
   "outputs": [
    {
     "name": "stdout",
     "output_type": "stream",
     "text": [
      "For Loop output below:\n",
      "1\n",
      "2\n",
      "3\n",
      "4\n",
      "5\n",
      "6\n",
      "7\n",
      "8\n",
      "9\n",
      "10\n",
      "While loop output below\n",
      "1\n",
      "2\n",
      "3\n",
      "4\n",
      "5\n",
      "6\n",
      "7\n",
      "8\n",
      "9\n",
      "10\n"
     ]
    }
   ],
   "source": [
    "# Code difference\n",
    "\n",
    "# Print 1 tp 10 using for loop\n",
    "print('For Loop output below:')\n",
    "for num in range(1, 11):\n",
    "    print(num)\n",
    "\n",
    "# Print 1 to 10 using while loop\n",
    "n = 1\n",
    "print('While loop output below')\n",
    "while n <= 10:\n",
    "    print(n)\n",
    "    n += 1\n"
   ]
  },
  {
   "cell_type": "markdown",
   "metadata": {},
   "source": [
    "### 3. Write a Python program to calculate the sum of all numbers from 1 to 100 using a for loop."
   ]
  },
  {
   "cell_type": "code",
   "execution_count": 5,
   "metadata": {},
   "outputs": [
    {
     "name": "stdout",
     "output_type": "stream",
     "text": [
      "Sum of numbers from 1 to 100 is: 5050\n"
     ]
    }
   ],
   "source": [
    "def sum_of_numbers(range_of_numbers: range):\n",
    "    '''\n",
    "    Function counts the sum of numbers for given range\n",
    "    '''\n",
    "    sum = 0\n",
    "\n",
    "    for num in range_of_numbers:\n",
    "        sum += num\n",
    "    \n",
    "    return sum\n",
    "\n",
    "# Calculate sum from 1 to 100\n",
    "sum_of_1_to_100 = sum_of_numbers(range(1, 101))\n",
    "\n",
    "# Print\n",
    "print(f'Sum of numbers from 1 to 100 is: {sum_of_1_to_100}')"
   ]
  },
  {
   "cell_type": "markdown",
   "metadata": {},
   "source": [
    "### 4. How do you iterate through a list using a for loop in Python?"
   ]
  },
  {
   "cell_type": "code",
   "execution_count": 6,
   "metadata": {},
   "outputs": [
    {
     "name": "stdout",
     "output_type": "stream",
     "text": [
      "1\n",
      "2\n",
      "3\n",
      "4\n",
      "5\n",
      "Robin\n",
      "Pabbi\n",
      "Pwskills\n"
     ]
    }
   ],
   "source": [
    "# Create a list\n",
    "list1 = [1, 2, 3, 4, 5, 'Robin', 'Pabbi', 'Pwskills']\n",
    "\n",
    "# Iterating on list using for loop and printing each element\n",
    "for element in list1:\n",
    "    print(element)\n"
   ]
  },
  {
   "cell_type": "markdown",
   "metadata": {},
   "source": [
    "### 5. Write a Python program to find the product of all elements in a list using a for loop."
   ]
  },
  {
   "cell_type": "code",
   "execution_count": 7,
   "metadata": {},
   "outputs": [
    {
     "name": "stdout",
     "output_type": "stream",
     "text": [
      "Product of list [1, 2, 3, 4, 5, 6, 7, 8, 9] is: 362880\n"
     ]
    }
   ],
   "source": [
    "def calculate_product_of_elements(list_of_numbers: list):\n",
    "    '''\n",
    "    Computes the product of each element in the list (iterable) using for loop\n",
    "    '''\n",
    "    product = 1\n",
    "    \n",
    "    for num in list_of_numbers:\n",
    "        product *= num\n",
    "    \n",
    "    return product\n",
    "\n",
    "# Create a list\n",
    "list2 = [1, 2, 3, 4, 5, 6, 7, 8, 9]\n",
    "\n",
    "# Compute the product of elements\n",
    "product_of_list_elements = calculate_product_of_elements(list2)\n",
    "\n",
    "# Print\n",
    "print(f'Product of list {list2} is: {product_of_list_elements}')"
   ]
  },
  {
   "cell_type": "markdown",
   "metadata": {},
   "source": [
    "### 6. Create a Python program that prints all even numbers from 1 to 20 using a for loop."
   ]
  },
  {
   "cell_type": "code",
   "execution_count": 8,
   "metadata": {},
   "outputs": [
    {
     "name": "stdout",
     "output_type": "stream",
     "text": [
      "2\n",
      "4\n",
      "6\n",
      "8\n",
      "10\n",
      "12\n",
      "14\n",
      "16\n",
      "18\n",
      "20\n"
     ]
    }
   ],
   "source": [
    "def print_event_numbers_in_range(range_of_numbers: range):\n",
    "    '''\n",
    "    Prints the even numbers from the given range using for loop\n",
    "    '''\n",
    "    for num in range_of_numbers:\n",
    "        if num % 2 == 0:\n",
    "            print(num)\n",
    "\n",
    "\n",
    "# Print the even numbers from 1 to 2\n",
    "print_event_numbers_in_range(range(1, 21))"
   ]
  },
  {
   "cell_type": "markdown",
   "metadata": {},
   "source": [
    "### 7. Write a Python program that calculates the factorial of a number using a for loop."
   ]
  },
  {
   "cell_type": "code",
   "execution_count": 9,
   "metadata": {},
   "outputs": [
    {
     "name": "stdout",
     "output_type": "stream",
     "text": [
      "Factorial of 8 is: 40320\n"
     ]
    }
   ],
   "source": [
    "def factorial_of_number(n):\n",
    "    '''\n",
    "    Compute the factorial of the number n using for loop\n",
    "    '''\n",
    "    result = 1\n",
    "    for i in range(1, n + 1):\n",
    "        result *= i\n",
    "    return result\n",
    "\n",
    "# Take input of number from user\n",
    "num = int(input('Enter the number for which you want to compute factorial: '))\n",
    "\n",
    "# Compute factorial\n",
    "fact_of_num = factorial_of_number(num)\n",
    "\n",
    "# Print result\n",
    "print(f'Factorial of {num} is: {fact_of_num}')\n"
   ]
  },
  {
   "cell_type": "markdown",
   "metadata": {},
   "source": [
    "### 8. How can you iterate through the characters of a string using a for loop in Python?"
   ]
  },
  {
   "cell_type": "code",
   "execution_count": 10,
   "metadata": {},
   "outputs": [
    {
     "name": "stdout",
     "output_type": "stream",
     "text": [
      "You entered: Robin\n",
      "Characters from the string as below: \n",
      "R\n",
      "o\n",
      "b\n",
      "i\n",
      "n\n"
     ]
    }
   ],
   "source": [
    "def iterate_and_print_chars_of_string(string_inpt: str):\n",
    "    '''\n",
    "    Iterate on the string characters using for loop and print each char\n",
    "    '''\n",
    "\n",
    "    for char in string_inpt:\n",
    "        print(char)\n",
    "\n",
    "# Take string input from user\n",
    "string_inpt = input('Enter string to print characters from: ')\n",
    "\n",
    "# Print entered string\n",
    "print(f'You entered: {string_inpt}')\n",
    "\n",
    "# Print characters\n",
    "print('Characters from the string as below: ')\n",
    "iterate_and_print_chars_of_string(string_inpt)"
   ]
  },
  {
   "cell_type": "markdown",
   "metadata": {},
   "source": [
    "### 9. Write a Python program to find the largest number in a list using a for loop."
   ]
  },
  {
   "cell_type": "code",
   "execution_count": 11,
   "metadata": {},
   "outputs": [
    {
     "name": "stdout",
     "output_type": "stream",
     "text": [
      "Largest number in [1, 2, 3, 4, 6, 7, 8, 99, 1, 3, 45, 67] is: 99\n"
     ]
    }
   ],
   "source": [
    "def find_largest(list_of_numbers: list) -> int:\n",
    "    '''\n",
    "    Find the largest element from the list using For loop\n",
    "    '''\n",
    "    # Set the first element as maximum\n",
    "    max_num = list_of_numbers[0]\n",
    "\n",
    "    for num in list_of_numbers:\n",
    "        if num > max_num:\n",
    "            max_num = num\n",
    "    \n",
    "    return max_num\n",
    "\n",
    "# Create a list\n",
    "list3 = [1, 2, 3, 4, 6, 7, 8, 99, 1, 3, 45, 67]\n",
    "\n",
    "# Compute largest number\n",
    "largest_num = find_largest(list3)\n",
    "\n",
    "# Print\n",
    "print(f'Largest number in {list3} is: {largest_num}')"
   ]
  },
  {
   "cell_type": "markdown",
   "metadata": {},
   "source": [
    "### 10. Create a Python program that prints the Fibonacci sequence up to a specified limit using a for loop."
   ]
  },
  {
   "cell_type": "code",
   "execution_count": 12,
   "metadata": {},
   "outputs": [
    {
     "name": "stdout",
     "output_type": "stream",
     "text": [
      "Fibonacci series till limit i.e. 1000 is: [0, 1, 1, 2, 3, 5, 8, 13, 21, 34, 55, 89, 144, 233, 377, 610, 987]\n"
     ]
    }
   ],
   "source": [
    "def fibonacci_sequence_for_limit(limit: int):\n",
    "    '''\n",
    "    Function generates the Fibonacci series till the given limit\n",
    "    if next number goes out of limit then we stop generating further\n",
    "    '''\n",
    "    fib_sequence = [0, 1]\n",
    "\n",
    "    for i in range(2, limit):\n",
    "        next_fib = fib_sequence[-1] + fib_sequence[-2]\n",
    "        # generated fib number goes out of limit then break the for loop so that keep fib numbers in limit\n",
    "        if next_fib > limit:\n",
    "            break\n",
    "        fib_sequence.append(next_fib)\n",
    "\n",
    "    return fib_sequence\n",
    "\n",
    "# Take input of the limit from the user\n",
    "limit = int(input('Enter the limit till which you want to generate fibonacci series: '))\n",
    "\n",
    "# Generate Fibonacci series\n",
    "fib_sequence = fibonacci_sequence_for_limit(limit)\n",
    "\n",
    "# Print\n",
    "print(f'Fibonacci series till limit i.e. {limit} is: {fib_sequence}')"
   ]
  },
  {
   "cell_type": "markdown",
   "metadata": {},
   "source": [
    "### 11. Write a Python program to count the number of vowels in a given string using a for loop.\n"
   ]
  },
  {
   "cell_type": "code",
   "execution_count": 14,
   "metadata": {},
   "outputs": [
    {
     "name": "stdout",
     "output_type": "stream",
     "text": [
      "Entered string \"Robin Pabbi\" contains 4 vowels.\n"
     ]
    }
   ],
   "source": [
    "VOWELS = ['a', 'e', 'i', 'o', 'u']\n",
    "# Creating a function taking string as input and returning count of vowels\n",
    "def count_number_of_vowels(input_string:str)->int:\n",
    "    '''\n",
    "    Function counts the number of vowels in the string using For loop and return the count\n",
    "    '''\n",
    "    \n",
    "    count = 0\n",
    "\n",
    "    for char in input_string:\n",
    "        if char.lower() in VOWELS:\n",
    "            count += 1\n",
    "\n",
    "    return count\n",
    "\n",
    "#Take input string from the user\n",
    "sentence = input('Enter your string: ')\n",
    "\n",
    "# Compute the number of vowels\n",
    "vowel_count = count_number_of_vowels(sentence)\n",
    "\n",
    "#Print Vowel Count\n",
    "print(f'Entered string \"{sentence}\" contains {vowel_count} vowels.')"
   ]
  },
  {
   "cell_type": "markdown",
   "metadata": {},
   "source": [
    "### 12. Create a Python program that generates a multiplication table for a given number using a for loop."
   ]
  },
  {
   "cell_type": "code",
   "execution_count": 15,
   "metadata": {},
   "outputs": [
    {
     "name": "stdout",
     "output_type": "stream",
     "text": [
      "Table of 7 is as below:\n",
      "7 x 1 = 7\n",
      "7 x 2 = 14\n",
      "7 x 3 = 21\n",
      "7 x 4 = 28\n",
      "7 x 5 = 35\n",
      "7 x 6 = 42\n",
      "7 x 7 = 49\n",
      "7 x 8 = 56\n",
      "7 x 9 = 63\n",
      "7 x 10 = 70\n"
     ]
    }
   ],
   "source": [
    "# Function - Take a numbers as input and print table of num\n",
    "def print_table(n: int):\n",
    "    '''\n",
    "    Take a numbers as input and print table of num - using for loop\n",
    "    '''\n",
    "\n",
    "    # Looping from 1 to 10 (11 because upper bound is exluded)\n",
    "    for multiplier in range(1, 11):\n",
    "        print(f'{n} x {multiplier} = {multiplier * n}')\n",
    "\n",
    "# Take a number input from the user\n",
    "number = int(input('Enter a number whose table is to be printed: '))\n",
    "\n",
    "print(f'Table of {number} is as below:')\n",
    "\n",
    "# Print table\n",
    "print_table(number)"
   ]
  },
  {
   "cell_type": "markdown",
   "metadata": {},
   "source": [
    "### 13. Write a Python program to reverse a list using a for loop."
   ]
  },
  {
   "cell_type": "code",
   "execution_count": 16,
   "metadata": {},
   "outputs": [
    {
     "name": "stdout",
     "output_type": "stream",
     "text": [
      "Reversed list is: [9, 8, 7, 6, 5, 4, 3, 2, 1]\n"
     ]
    }
   ],
   "source": [
    "def reverse_list(input_list: list) -> list:\n",
    "    '''\n",
    "    return the list - Using for loop\n",
    "    '''\n",
    "    reversed_list = []\n",
    "    # loop from length - 1 to -1 (-1 is excluded so till 0, with step -1)\n",
    "    for i in range(len(input_list)-1, -1, -1):\n",
    "        reversed_list.append(input_list[i])\n",
    "\n",
    "    return reversed_list\n",
    "\n",
    "# Create a list\n",
    "list1 = [1, 2, 3, 4, 5, 6, 7, 8, 9]\n",
    "\n",
    "# Reverse a list\n",
    "reversed_list = reverse_list(list1)\n",
    "\n",
    "# Print\n",
    "print(f'Reversed list is: {reversed_list}')"
   ]
  },
  {
   "cell_type": "markdown",
   "metadata": {},
   "source": [
    "### 14. Write a Python program to find the common elements between two lists using a for loop."
   ]
  },
  {
   "cell_type": "code",
   "execution_count": 17,
   "metadata": {},
   "outputs": [
    {
     "name": "stdout",
     "output_type": "stream",
     "text": [
      "Common elements are: [4, 5]\n"
     ]
    }
   ],
   "source": [
    "def find_common_elements(list1: list, list2: list):\n",
    "    '''\n",
    "    Find the common elements in two lists and return a list of common elements- Using for loop\n",
    "    '''\n",
    "    common_elements = []\n",
    "    # For loop on list1\n",
    "    for element in list1:\n",
    "        # Checking element is in list2\n",
    "        if element in list2:\n",
    "            common_elements.append(element)\n",
    "\n",
    "    return common_elements\n",
    "\n",
    "# Create lists\n",
    "list1 = [1, 2, 3, 4, 5]\n",
    "list2 = [4, 5, 6, 7, 8]\n",
    "\n",
    "# Find common elements\n",
    "common_elements = find_common_elements(list1, list2)\n",
    "\n",
    "# Print\n",
    "print(\"Common elements are:\", common_elements)"
   ]
  },
  {
   "cell_type": "markdown",
   "metadata": {},
   "source": [
    "### 15. Explain how to use a for loop to iterate through the keys and values of a dictionary in Python.\n",
    "\n",
    "Ans.\n",
    "\n",
    "> We can use 'items()' function to iterate on key value pair where we can get key and value on each iteration.\n",
    "\n",
    "> For iterating on keys only, we can use 'keys()' function.\n",
    "\n",
    "> For values, we can use 'values()' function"
   ]
  },
  {
   "cell_type": "code",
   "execution_count": 23,
   "metadata": {},
   "outputs": [
    {
     "name": "stdout",
     "output_type": "stream",
     "text": [
      "Iterating using items() function:\n",
      "dict[Name] = Robin\n",
      "dict[Age] = 34\n",
      "dict[Job] = Developer\n",
      "dict[Interests] = ['AI', 'ML', 'DL', 'DS', 'NLP']\n",
      "\n",
      "Iterating using keys() :\n",
      "dict[Name] = Robin\n",
      "dict[Age] = 34\n",
      "dict[Job] = Developer\n",
      "dict[Interests] = ['AI', 'ML', 'DL', 'DS', 'NLP']\n",
      "\n",
      "Iterating using values() - will print only values :\n",
      "Robin\n",
      "34\n",
      "Developer\n",
      "['AI', 'ML', 'DL', 'DS', 'NLP']\n"
     ]
    }
   ],
   "source": [
    "# Create a dictionary\n",
    "dict1 = {'Name': 'Robin', 'Age': 34, 'Job': 'Developer', 'Interests': ['AI', 'ML', 'DL', 'DS', 'NLP']}\n",
    "\n",
    "# iterating on both keys and values - using items\n",
    "print('Iterating using items() function:')\n",
    "for keyValue in dict1.items():\n",
    "    print(f'dict[{keyValue[0]}] = {keyValue[1]}')\n",
    "\n",
    "print()\n",
    "\n",
    "# iterating on keys\n",
    "print('Iterating using keys() :')\n",
    "for key in dict1.keys():\n",
    "    print(f'dict[{key}] = {dict1[key]}')\n",
    "\n",
    "print()\n",
    "\n",
    "# iterating on values only\n",
    "print('Iterating using values() - will print only values :')\n",
    "for value in dict1.values():\n",
    "    print(value)"
   ]
  },
  {
   "cell_type": "markdown",
   "metadata": {},
   "source": [
    "### 16. Write a Python program to find the GCD (Greatest Common Divisor) of two numbers using a for loop."
   ]
  },
  {
   "cell_type": "code",
   "execution_count": 24,
   "metadata": {},
   "outputs": [
    {
     "name": "stdout",
     "output_type": "stream",
     "text": [
      "Greatest common divisor of 99 and 66 is : 33\n"
     ]
    }
   ],
   "source": [
    "# GCD is also known as HCF. The highest common Factor.\n",
    "# highest number with which our two numbers are divided without remainder.\n",
    "# Since it is highest number - we will start from reverse direction - from smallest number of two towards 1 \n",
    "# although we can start from any number but to optimize we will start from smallest number of given numbers\n",
    "\n",
    "def find_gcd(number1: int, number2: int) -> int:\n",
    "    '''\n",
    "    Function finds the GCF of given two numbers - using loop\n",
    "    '''\n",
    "    # Check boundary condition\n",
    "    # If any number is zero then other number becomes gcd, because zero is divisible by anynumber\n",
    "    if number1 == 0:\n",
    "        return number2\n",
    "    elif number2 == 0:\n",
    "        return number1\n",
    "    \n",
    "    gcd = 1\n",
    "    small_num, large_num = min(number1, number2),  max(number1, number2)\n",
    "    \n",
    "    # Check if both numbers are divisible by current number if yes then return\n",
    "    for num in range(small_num, 1, -1):\n",
    "        if(large_num % num == 0 and small_num % num == 0):\n",
    "            gcd = num\n",
    "            break\n",
    "        \n",
    "    return gcd\n",
    "\n",
    "# Take input of numbers\n",
    "number_1 = int(input('Enter a number 1: '))\n",
    "number_2 = int(input('Enter a number 2: '))\n",
    "\n",
    "# Find gcd\n",
    "gcd = find_gcd(number_1, number_2)\n",
    "\n",
    "# Print result\n",
    "print(f'Greatest common divisor of {number_1} and {number_2} is : {gcd}')"
   ]
  },
  {
   "cell_type": "markdown",
   "metadata": {},
   "source": [
    "### 17. Create a Python program that checks if a string is a palindrome using a for loop."
   ]
  },
  {
   "cell_type": "code",
   "execution_count": 26,
   "metadata": {},
   "outputs": [
    {
     "name": "stdout",
     "output_type": "stream",
     "text": [
      "\"Able was I ere I saw elba\" is a palindrome\n"
     ]
    }
   ],
   "source": [
    "def is_palindrome(input_string: str)-> bool:\n",
    "    '''\n",
    "    Function - checks if string is palindrome or not - Return True if Palindrome else False - using for loop\n",
    "    '''\n",
    "\n",
    "    # Removing spaces and converting to lowercase for case-insensitive comparison\n",
    "    input_string = input_string.replace(\" \", \"\").lower()\n",
    "    \n",
    "    # Using a for loop to compare characters from start to end (till middle of string to optimize)\n",
    "    for i in range(len(input_string)//2):\n",
    "        if input_string[i] != input_string[-i-1]:\n",
    "            return False\n",
    "    return True\n",
    "\n",
    "# Create a string\n",
    "test_string = 'Able was I ere I saw elba'\n",
    "\n",
    "# Check if string is palindrome or not\n",
    "result = is_palindrome(test_string)\n",
    "\n",
    "# Print\n",
    "if result:\n",
    "    print(f'\"{test_string}\" is a palindrome')\n",
    "else:\n",
    "    print(f'\"{test_string}\" is not a palindrome')"
   ]
  },
  {
   "cell_type": "markdown",
   "metadata": {},
   "source": [
    "### 18. Write a Python program to remove duplicates from a list using a for loop."
   ]
  },
  {
   "cell_type": "code",
   "execution_count": 27,
   "metadata": {},
   "outputs": [
    {
     "name": "stdout",
     "output_type": "stream",
     "text": [
      "Unique elements in the list: [1, 2, 3, 4, 5, 6, 7]\n"
     ]
    }
   ],
   "source": [
    "def remove_duplicates(input_list: list) -> list:\n",
    "    '''\n",
    "    Function - Returns a list with duplicates removed from the list - using for loop\n",
    "    '''\n",
    "\n",
    "    list_with_no_duplicates = []\n",
    "\n",
    "    for item in input_list:\n",
    "        if item not in list_with_no_duplicates:\n",
    "            list_with_no_duplicates.append(item)\n",
    "\n",
    "    return list_with_no_duplicates\n",
    "\n",
    "# Create a list\n",
    "list1 = [1, 2, 3, 2, 4, 1, 5, 6, 3, 7]\n",
    "\n",
    "# Remove duplicates\n",
    "list_of_unique_elements = remove_duplicates(list1)\n",
    "\n",
    "# Print\n",
    "print(f'Unique elements in the list: {list_of_unique_elements}')"
   ]
  },
  {
   "cell_type": "markdown",
   "metadata": {},
   "source": [
    "### 19. Create a Python program that counts the number of words in a sentence using a for loop."
   ]
  },
  {
   "cell_type": "code",
   "execution_count": 28,
   "metadata": {},
   "outputs": [
    {
     "name": "stdout",
     "output_type": "stream",
     "text": [
      "Count of words in \"Hello my name is Robin Pabbi\" is: 6\n"
     ]
    }
   ],
   "source": [
    "def count_words(sentence: str) -> int:\n",
    "    '''\n",
    "    Function - Count the number of words in sentence - using for loop\n",
    "    '''\n",
    "    word_count = 0\n",
    "\n",
    "    # Using for loop to count the number of words\n",
    "    for word in sentence.split(' '):\n",
    "        word_count += 1\n",
    "\n",
    "    return word_count\n",
    "\n",
    "# Take string input from the user\n",
    "sentence = input('Enter sentence: ')\n",
    "\n",
    "# Count number of words\n",
    "num_of_words = count_words(sentence)\n",
    "\n",
    "# Print \n",
    "print(f'Count of words in \"{sentence}\" is: {num_of_words}')"
   ]
  },
  {
   "cell_type": "markdown",
   "metadata": {},
   "source": [
    "### 20. Write a Python program to find the sum of all odd numbers from 1 to 50 using a for loop."
   ]
  },
  {
   "cell_type": "code",
   "execution_count": 29,
   "metadata": {},
   "outputs": [
    {
     "name": "stdout",
     "output_type": "stream",
     "text": [
      "Sum of odd numbers from 1 to 50 is: 625\n"
     ]
    }
   ],
   "source": [
    "def sum_of_odd_numbers(range_of_numbers: range) -> int:\n",
    "    '''\n",
    "    Compute sum of odd numbers from give range - using for loop\n",
    "    '''\n",
    "    sum_result = 0\n",
    "\n",
    "    for num in range_of_numbers:\n",
    "        if num % 2 != 0:\n",
    "            sum_result += num\n",
    "    \n",
    "    return sum_result\n",
    "\n",
    "# Compute sum of odd numbers from 1 to 50 (51 upper bound)\n",
    "sum_of_odds = sum_of_odd_numbers(range(1, 51))\n",
    "\n",
    "# Print\n",
    "print(f'Sum of odd numbers from 1 to 50 is: {sum_of_odds}')"
   ]
  },
  {
   "cell_type": "markdown",
   "metadata": {},
   "source": [
    "### 21. Write a Python program that checks if a given year is a leap year using a for loop."
   ]
  },
  {
   "cell_type": "code",
   "execution_count": 31,
   "metadata": {},
   "outputs": [
    {
     "name": "stdout",
     "output_type": "stream",
     "text": [
      "Year 2024 is a leap year.\n"
     ]
    }
   ],
   "source": [
    "# Leap year is a year which is divisible by 4\n",
    "\n",
    "# Note: not using for loop as suggested by SME that there is a mistake in question.\n",
    "\n",
    "def is_leap_year(year: int) -> bool:\n",
    "    '''\n",
    "    Function checks if the year is leap year or not\n",
    "    '''\n",
    "    if year % 4 == 0:\n",
    "        return True\n",
    "    else:\n",
    "        return False\n",
    "    \n",
    "# Take input of year\n",
    "year = int(input('Enter year: '))\n",
    "\n",
    "# Print\n",
    "if is_leap_year(year):\n",
    "    print(f'Year {year} is a leap year.')\n",
    "else:\n",
    "    print(f'Year {year} is a not leap year.')"
   ]
  },
  {
   "cell_type": "markdown",
   "metadata": {},
   "source": [
    "### 22. Create a Python program that calculates the square root of a number using a for loop.\n"
   ]
  },
  {
   "cell_type": "code",
   "execution_count": 32,
   "metadata": {},
   "outputs": [
    {
     "name": "stdout",
     "output_type": "stream",
     "text": [
      "Sqrt of the number 16 is : 4.0\n"
     ]
    }
   ],
   "source": [
    "def calculate_square_root(number: int):\n",
    "    '''\n",
    "    Compute sqrt of the number using for loop.\n",
    "    '''\n",
    "    # Check if the number is non-negative\n",
    "    if number < 0:\n",
    "        print(\"Cannot calculate the square root of a negative number.\")\n",
    "    else:\n",
    "        # Initial guess for the square root\n",
    "        probable_sqrt = number / 2.0\n",
    "        \n",
    "        # Number of iterations for approximation - we can adjust this value for accuracy\n",
    "        num_iterations = 10  \n",
    "        \n",
    "        # Use a for loop to iteratively improve the approximation\n",
    "        for _ in range(num_iterations):\n",
    "            probable_sqrt = 0.5 * (probable_sqrt + number / probable_sqrt)\n",
    "            \n",
    "        return probable_sqrt\n",
    "\n",
    "# Take input from user\n",
    "number = int(input('Enter the number:'))\n",
    "\n",
    "# Find sqrt\n",
    "sqrt_of_num = calculate_square_root(number)\n",
    "\n",
    "# Print\n",
    "print(f'Sqrt of the number {number} is : {sqrt_of_num}')"
   ]
  },
  {
   "cell_type": "markdown",
   "metadata": {},
   "source": [
    "### 23. Write a Python program to find the LCM (Least Common Multiple) of two numbers using a for loop."
   ]
  },
  {
   "cell_type": "code",
   "execution_count": 30,
   "metadata": {},
   "outputs": [
    {
     "name": "stdout",
     "output_type": "stream",
     "text": [
      "The LCM of 12 and 18 is: 36\n"
     ]
    }
   ],
   "source": [
    "# LCM is smallest common multiple of both numbers, we start with max number and towards num1 * num2\n",
    "\n",
    "def find_lcm(num1: int, num2: int):\n",
    "    '''\n",
    "    Function return the LCM of two numbers\n",
    "    '''\n",
    "    # Find the maximum of the two numbers\n",
    "    max_num = max(num1, num2)\n",
    "\n",
    "    for lcm in range(max_num, num1*num2 + 1, max_num):\n",
    "        if lcm % num1 == 0 and lcm % num2 == 0:\n",
    "            return lcm\n",
    "        \n",
    "\n",
    "# Take input of numbers from user\n",
    "number1 = int(input('Enter number1: '))\n",
    "number2 = int(input('Enter number2: '))\n",
    "\n",
    "# Find LCM\n",
    "lcm_result = find_lcm(number1, number2)\n",
    "\n",
    "# Print\n",
    "print(f\"The LCM of {number1} and {number2} is: {lcm_result}\")"
   ]
  },
  {
   "cell_type": "markdown",
   "metadata": {},
   "source": [
    "## If else :"
   ]
  },
  {
   "cell_type": "markdown",
   "metadata": {},
   "source": [
    "### 1. Write a Python program to check if a number is positive, negative, or zero using an if-else statement."
   ]
  },
  {
   "cell_type": "code",
   "execution_count": 3,
   "metadata": {},
   "outputs": [
    {
     "name": "stdout",
     "output_type": "stream",
     "text": [
      "Number entered i.e. 12 is Positve\n",
      "Number entered i.e. -86 is Negative\n",
      "Number entered i.e. 0 is Zero\n"
     ]
    }
   ],
   "source": [
    "# Function - takes number as input and print if number is positive, negative or zero\n",
    "def print_number_positivity(n: int):\n",
    "    if  n == 0:\n",
    "        print(f'Number entered i.e. {n} is Zero')\n",
    "    elif n > 0:\n",
    "        print(f'Number entered i.e. {n} is Positve')\n",
    "    else:\n",
    "        print(f'Number entered i.e. {n} is Negative')\n",
    "\n",
    "# Input number from user\n",
    "number1 = int(input('Enter a number1: '))\n",
    "number2 = int(input('Enter a number2: '))\n",
    "number3 = int(input('Enter a number3: '))\n",
    "\n",
    "# Print\n",
    "print_number_positivity(number1)\n",
    "print_number_positivity(number2)\n",
    "print_number_positivity(number3)"
   ]
  },
  {
   "cell_type": "markdown",
   "metadata": {},
   "source": [
    "### 2. Create a Python program that checks if a given number is even or odd using an if-else statement.\n"
   ]
  },
  {
   "cell_type": "code",
   "execution_count": 2,
   "metadata": {},
   "outputs": [
    {
     "name": "stdout",
     "output_type": "stream",
     "text": [
      "Number 56 is EVEN\n"
     ]
    }
   ],
   "source": [
    "# Take input of number\n",
    "number = int(input('Enter number: '))\n",
    "\n",
    "# Check if even or not and print\n",
    "# Even\n",
    "if number % 2 == 0:\n",
    "    print(f'Number {number} is EVEN')\n",
    "else: \n",
    "    print(f'Number {number} is ODD')"
   ]
  },
  {
   "cell_type": "markdown",
   "metadata": {},
   "source": [
    "### 3. How can you use nested if-else statements in Python, and provide an example?\n",
    "\n",
    "Ans.\n",
    "\n",
    "> Nested if-else statements in Python allow you to have if-else statement inside another. This is useful for situations where you need to make multiple conditional checks when other check is passed.\n",
    "\n",
    "For example as shown in below code cell, we can use nested if to find largest number among three numbers."
   ]
  },
  {
   "cell_type": "code",
   "execution_count": 5,
   "metadata": {},
   "outputs": [
    {
     "name": "stdout",
     "output_type": "stream",
     "text": [
      "Among 56, 25, 97. Largest number is 97\n"
     ]
    }
   ],
   "source": [
    "# Input numbers from user\n",
    "number1 = int(input('Enter number 1: '))\n",
    "number2 = int(input('Enter number 2: '))\n",
    "number3 = int(input('Enter number 3: '))\n",
    "\n",
    "# Determine using  using nested if and else\n",
    "# if number1 is greater than number 2\n",
    "if number1 > number2:\n",
    "    # Then we check if number 1 is also greater than number 3, if yes then number 1 is largest else number 3\n",
    "    if number1 > number3:\n",
    "        print(f'Among {number1}, {number2}, {number3}. Largest number is {number1}')\n",
    "    else:\n",
    "        print(f'Among {number1}, {number2}, {number3}. Largest number is {number3}')\n",
    "else:\n",
    "    if number2 > number3:\n",
    "        print(f'Among {number1}, {number2}, {number3}. Largest number is {number2}')\n",
    "    else:\n",
    "        print(f'Among {number1}, {number2}, {number3}. Largest number is {number3}')"
   ]
  },
  {
   "cell_type": "markdown",
   "metadata": {},
   "source": [
    "### 4. Write a Python program to determine the largest of three numbers using if-else."
   ]
  },
  {
   "cell_type": "code",
   "execution_count": 6,
   "metadata": {},
   "outputs": [
    {
     "name": "stdout",
     "output_type": "stream",
     "text": [
      "Among 57, 24, 85. Largest number is 85\n"
     ]
    }
   ],
   "source": [
    "# Co incidence - same as above (que 3)\n",
    "\n",
    "# Input numbers from user\n",
    "number1 = int(input('Enter number 1: '))\n",
    "number2 = int(input('Enter number 2: '))\n",
    "number3 = int(input('Enter number 3: '))\n",
    "\n",
    "# Determine using  using nested if and else\n",
    "# if number1 is greater than number 2\n",
    "if number1 > number2:\n",
    "    # Then we check if number 1 is also greater than number 3, if yes then number 1 is largest else number 3\n",
    "    if number1 > number3:\n",
    "        print(f'Among {number1}, {number2}, {number3}. Largest number is {number1}')\n",
    "    else:\n",
    "        print(f'Among {number1}, {number2}, {number3}. Largest number is {number3}')\n",
    "else:\n",
    "    if number2 > number3:\n",
    "        print(f'Among {number1}, {number2}, {number3}. Largest number is {number2}')\n",
    "    else:\n",
    "        print(f'Among {number1}, {number2}, {number3}. Largest number is {number3}')"
   ]
  },
  {
   "cell_type": "markdown",
   "metadata": {},
   "source": [
    "### 5. Write a Python program that calculates the absolute value of a number using if-else."
   ]
  },
  {
   "cell_type": "code",
   "execution_count": 7,
   "metadata": {},
   "outputs": [
    {
     "name": "stdout",
     "output_type": "stream",
     "text": [
      "Absolute of -2 is : 2\n"
     ]
    }
   ],
   "source": [
    "# Absolute value is always positive, so multiply negative number with -1\n",
    "# check using if-else\n",
    "\n",
    "def get_absolute(number):\n",
    "    if number < 0:\n",
    "        return number * -1\n",
    "    else:\n",
    "        return number\n",
    "\n",
    "# Take input of number\n",
    "number = int(input('Enter number: '))\n",
    "\n",
    "# Get absolute\n",
    "absolute_val = get_absolute(number)\n",
    "\n",
    "# Print\n",
    "print(f'Absolute of {number} is : {absolute_val}')"
   ]
  },
  {
   "cell_type": "markdown",
   "metadata": {},
   "source": [
    "### 6. Create a Python program that checks if a given character is a vowel or consonant using if-else.\n"
   ]
  },
  {
   "cell_type": "code",
   "execution_count": 8,
   "metadata": {},
   "outputs": [
    {
     "name": "stdout",
     "output_type": "stream",
     "text": [
      "\"o\" is Vowel\n"
     ]
    }
   ],
   "source": [
    "# Keeping the list of vowels to check from\n",
    "VOWELS = ['a', 'e', 'i', 'o', 'u', 'A', 'E', 'I', 'O', 'U']\n",
    "\n",
    "# char input\n",
    "char = input('Enter a character/letter: ')\n",
    "\n",
    "# Check and print - Using if-else\n",
    "if char in VOWELS:\n",
    "    print(f'\"{char}\" is Vowel')\n",
    "else:\n",
    "    print(f'\"{char}\" is Consonant')"
   ]
  },
  {
   "cell_type": "markdown",
   "metadata": {},
   "source": [
    "### 7. Write a Python program to determine if a user is eligible to vote based on their age using if-else"
   ]
  },
  {
   "cell_type": "code",
   "execution_count": 9,
   "metadata": {},
   "outputs": [
    {
     "name": "stdout",
     "output_type": "stream",
     "text": [
      "Your age 24 and you are eligible to vote.\n"
     ]
    }
   ],
   "source": [
    "# Consideration - person under 18 (less than 18) is not eligible for vote\n",
    "\n",
    "def is_eligible_to_vote(age: int)-> bool:\n",
    "    '''\n",
    "    Function checks if person of given is eligible to vote or not - using if-else\n",
    "    '''\n",
    "    if age >= 18:\n",
    "        return True\n",
    "    else:\n",
    "        if age < 0:\n",
    "            print('Not a valid age!')\n",
    "        return False\n",
    "    \n",
    "# Input age from user\n",
    "age = int(input('Enter your age: '))\n",
    "\n",
    "# Check eligibility\n",
    "is_eligible = is_eligible_to_vote(age)\n",
    "\n",
    "# Print\n",
    "if is_eligible:\n",
    "    print(f'Your age {age} and you are eligible to vote.')\n",
    "else:    \n",
    "    print(f'Your age {age} and you are not eligible to vote.')\n"
   ]
  },
  {
   "cell_type": "markdown",
   "metadata": {},
   "source": [
    "### 8. Create a Python program that calculates the discount amount based on the purchase amount using if-else."
   ]
  },
  {
   "cell_type": "code",
   "execution_count": 10,
   "metadata": {},
   "outputs": [
    {
     "name": "stdout",
     "output_type": "stream",
     "text": [
      "Your actual purchase amount was: 2500\n",
      "After applying 5% discount, you have to pay only 2375.0\n"
     ]
    }
   ],
   "source": [
    "# Considerations are as below\n",
    "#    Amount          Discount\n",
    "#    0-5000          5%\n",
    "#    5001-10000      10%\n",
    "#    10001-20000     20%\n",
    "#    above 20000     30%\n",
    "\n",
    "def get_discount_percentage(purchase_amount: int) -> int:\n",
    "    '''\n",
    "    Function calculates discount percentage based on considerations - using if-else\n",
    "    '''\n",
    "    if purchase_amount <= 5000:\n",
    "        return 5\n",
    "    elif purchase_amount <= 10000:\n",
    "        return 10\n",
    "    elif purchase_amount <= 20000:\n",
    "        return 20\n",
    "    else:\n",
    "        return 30\n",
    "\n",
    "# input purchase amount\n",
    "purchase_amount = int(input(\"Enter Purchase Amount: \")) \n",
    "\n",
    "# Get Discount percentage\n",
    "discount = get_discount_percentage(purchase_amount)\n",
    "\n",
    "# Compute discounted price - 100 - discount will give us percentage of amount to be received\n",
    "discounted_amount = (100 - discount) * purchase_amount / 100\n",
    "\n",
    "# Print\n",
    "print(f'Your actual purchase amount was: {purchase_amount}')\n",
    "print(f'After applying {discount}% discount, you have to pay only {discounted_amount}')"
   ]
  },
  {
   "cell_type": "markdown",
   "metadata": {},
   "source": [
    "### 9. Write a Python program to check if a number is within a specified range using if-else."
   ]
  },
  {
   "cell_type": "code",
   "execution_count": 11,
   "metadata": {},
   "outputs": [
    {
     "name": "stdout",
     "output_type": "stream",
     "text": [
      "255 is outside the specified range (1 - 99).\n"
     ]
    }
   ],
   "source": [
    "def is_in_range(number: int, lower_limit: int, upper_limit: int) -> bool:\n",
    "    '''\n",
    "    Function check if given 'number' is in range [greater than equal tp lower_limit and less than equal to upper_limit] - using if else\n",
    "    '''\n",
    "    if lower_limit <= number <= upper_limit:\n",
    "        return True\n",
    "    else:\n",
    "        return False\n",
    "    \n",
    "# Take a limit input\n",
    "lower_limit = int(input('Enter lower limit: '))\n",
    "upper_limit = int(input('Enter upper limit: '))\n",
    "\n",
    "# Take a number to check\n",
    "number = int(input('Enter number to check: '))\n",
    "\n",
    "# Check if it is in range or not\n",
    "is_number_in_range = is_in_range(number, lower_limit, upper_limit)\n",
    "\n",
    "# Print result\n",
    "if is_number_in_range:\n",
    "    print(f\"{number} is within the specified range ({lower_limit} - {upper_limit}).\")\n",
    "else:\n",
    "    print(f\"{number} is outside the specified range ({lower_limit} - {upper_limit}).\")"
   ]
  },
  {
   "cell_type": "markdown",
   "metadata": {},
   "source": [
    "### 10. Create a Python program that determines the grade of a student based on their score using if-else."
   ]
  },
  {
   "cell_type": "code",
   "execution_count": 12,
   "metadata": {},
   "outputs": [
    {
     "name": "stdout",
     "output_type": "stream",
     "text": [
      "You scored 91.0% marks.\n",
      "Your Grade is A+\n"
     ]
    }
   ],
   "source": [
    "# Considerations as below : Grades are as below:\n",
    "# marks range       Grade\n",
    "# >= 90             A+\n",
    "# 80-90             A\n",
    "# 70-60             B\n",
    "# < 60              C\n",
    "\n",
    "# Take input of marks in percentage\n",
    "score = float(input('Enter yours percentage score: '))\n",
    "\n",
    "print(f'You scored {score}% marks.')\n",
    "\n",
    "# Print Grade - using if else\n",
    "if score >= 90:\n",
    "    print('Your Grade is A+')\n",
    "elif score >= 80:\n",
    "    print('Your Grade is A')\n",
    "elif score >= 70:\n",
    "    print('Your Grade is B')\n",
    "else:\n",
    "    print('Your Grade is C')"
   ]
  },
  {
   "cell_type": "markdown",
   "metadata": {},
   "source": [
    "### 11. Write a Python program to check if a string is empty or not using if-else."
   ]
  },
  {
   "cell_type": "code",
   "execution_count": 16,
   "metadata": {},
   "outputs": [
    {
     "name": "stdout",
     "output_type": "stream",
     "text": [
      "The string \"\" is empty.\n",
      "The string \"Hello, World!\" is not empty.\n"
     ]
    }
   ],
   "source": [
    "# Approach - empty return false if casted to bool\n",
    "def check_empty_string(input_string: str):\n",
    "    '''\n",
    "    Function prints whether string is empty or not. - using if-else\n",
    "    '''\n",
    "    if input_string:\n",
    "        print(f'The string \"{input_string}\" is not empty.')\n",
    "    else:\n",
    "        print(f'The string \"{input_string}\" is empty.')\n",
    "\n",
    "# Create strings\n",
    "string1 = \"\"\n",
    "string2 = \"Hello, World!\"\n",
    "\n",
    "# Check and print\n",
    "check_empty_string(string1)\n",
    "check_empty_string(string2)"
   ]
  },
  {
   "cell_type": "markdown",
   "metadata": {},
   "source": [
    "### 12. Create a Python program that identifies the type of a triangle (e.g., equilateral, isosceles, or scalene) based on input values using if-else."
   ]
  },
  {
   "cell_type": "code",
   "execution_count": 13,
   "metadata": {},
   "outputs": [
    {
     "name": "stdout",
     "output_type": "stream",
     "text": [
      "x = 60, y = 50, z = 60\n",
      "Triangle is Isosceles triangle\n"
     ]
    }
   ],
   "source": [
    "# Take input of triangle edge sizes\n",
    "edge_length_x = int(input('Enter edge length x of triangle: '))\n",
    "edge_length_y = int(input(\"Enter edge length y triangle: \"))\n",
    "edge_length_z = int(input(\"Enter edge length z triangle: \"))\n",
    "\n",
    "# Print entered values\n",
    "print(f'x = {edge_length_x}, y = {edge_length_y}, z = {edge_length_z}')\n",
    "\n",
    "if edge_length_x == edge_length_y == edge_length_z:\n",
    "\tprint(\"Triangle is Equilateral triangle\")\n",
    "elif edge_length_x == edge_length_y or edge_length_y == edge_length_z or edge_length_z == edge_length_x:\n",
    "\tprint(\"Triangle is Isosceles triangle\")\n",
    "else:\n",
    "\tprint(\"Triangle is Scalene triangle\")"
   ]
  },
  {
   "cell_type": "markdown",
   "metadata": {},
   "source": [
    "### 13. Write a Python program to determine the day of the week based on a user-provided number using if-else."
   ]
  },
  {
   "cell_type": "code",
   "execution_count": 14,
   "metadata": {},
   "outputs": [
    {
     "name": "stdout",
     "output_type": "stream",
     "text": [
      "You entered day number: 5\n",
      "It is Friday!\n"
     ]
    }
   ],
   "source": [
    "# Function - Takes a day (number) of the week and print the name of the week day\n",
    "def print_day_name(day_number: int):\n",
    "    if day_number <= 0 or day_number > 7:\n",
    "        print(f'Week day number should be between 1 to 7, both inclusive.')\n",
    "    else:\n",
    "        if day_number == 1:\n",
    "            print('It is Monday!')\n",
    "        elif day_number == 2:\n",
    "            print('It is Tuesday!')\n",
    "        elif day_number == 3:\n",
    "            print('It is Wednesday!')\n",
    "        elif day_number == 4:\n",
    "            print('It is Thursday!')\n",
    "        elif day_number == 5:\n",
    "            print('It is Friday!')\n",
    "        elif day_number == 6:\n",
    "            print('It is Saturday!')\n",
    "        else:\n",
    "            print('It is Sunday!')\n",
    "\n",
    "\n",
    "# Take input from the user\n",
    "day_no = int(input('Enter the day number in the week: '))\n",
    "\n",
    "# Print\n",
    "print(f'You entered day number: {day_no}')\n",
    "print_day_name(day_number=day_no)"
   ]
  },
  {
   "cell_type": "markdown",
   "metadata": {},
   "source": [
    "### 14. Create a Python program that checks if a given year is a leap year using both if-else and a function."
   ]
  },
  {
   "cell_type": "code",
   "execution_count": 17,
   "metadata": {},
   "outputs": [
    {
     "name": "stdout",
     "output_type": "stream",
     "text": [
      "Year 2023 is a not leap year.\n"
     ]
    }
   ],
   "source": [
    "# Leap year is a year which is divisible by 4\n",
    "\n",
    "def is_leap_year(year: int) -> bool:\n",
    "    '''\n",
    "    Function checks if the year is leap year or not -using if-else in function\n",
    "    '''\n",
    "    if year % 4 == 0:\n",
    "        return True\n",
    "    else:\n",
    "        return False\n",
    "    \n",
    "# Take input of year\n",
    "year = int(input('Enter year: '))\n",
    "\n",
    "# Print\n",
    "if is_leap_year(year):\n",
    "    print(f'Year {year} is a leap year.')\n",
    "else:\n",
    "    print(f'Year {year} is a not leap year.')"
   ]
  },
  {
   "cell_type": "markdown",
   "metadata": {},
   "source": [
    "### 15. How do you use the \"assert\" statement in Python to add debugging checks within if-else blocks?\n",
    "\n",
    "Ans.\n",
    "\n",
    "The assert statement in Python is used to perform debugging checks. It allows you to verify if certain conditions are met at specific points in your code. If the condition is True, the program continues as usual. If it's False, an AssertionError is raised, which can help you identify and debug issues.\n",
    "\n",
    "'assert' is a way to catch logical errors during development, and it's typically disabled in production code for performance reasons.\n",
    "\n",
    "> As shown in example in code cell. Result will be error raised."
   ]
  },
  {
   "cell_type": "code",
   "execution_count": 20,
   "metadata": {},
   "outputs": [
    {
     "ename": "AssertionError",
     "evalue": "Division by zero is not allowed!",
     "output_type": "error",
     "traceback": [
      "\u001b[1;31m---------------------------------------------------------------------------\u001b[0m",
      "\u001b[1;31mAssertionError\u001b[0m                            Traceback (most recent call last)",
      "\u001b[1;32md:\\AIProjects\\FullStackDataScienceCourse\\DayWiseMaterial\\Assignments\\17th_Sept_FSDS.ipynb Cell 78\u001b[0m line \u001b[0;36m9\n\u001b[0;32m      <a href='vscode-notebook-cell:/d%3A/AIProjects/FullStackDataScienceCourse/DayWiseMaterial/Assignments/17th_Sept_FSDS.ipynb#Y141sZmlsZQ%3D%3D?line=5'>6</a>\u001b[0m num1 \u001b[39m=\u001b[39m \u001b[39m10\u001b[39m\n\u001b[0;32m      <a href='vscode-notebook-cell:/d%3A/AIProjects/FullStackDataScienceCourse/DayWiseMaterial/Assignments/17th_Sept_FSDS.ipynb#Y141sZmlsZQ%3D%3D?line=6'>7</a>\u001b[0m num2 \u001b[39m=\u001b[39m \u001b[39m0\u001b[39m\n\u001b[1;32m----> <a href='vscode-notebook-cell:/d%3A/AIProjects/FullStackDataScienceCourse/DayWiseMaterial/Assignments/17th_Sept_FSDS.ipynb#Y141sZmlsZQ%3D%3D?line=8'>9</a>\u001b[0m result \u001b[39m=\u001b[39m divide(num1, num2)\n\u001b[0;32m     <a href='vscode-notebook-cell:/d%3A/AIProjects/FullStackDataScienceCourse/DayWiseMaterial/Assignments/17th_Sept_FSDS.ipynb#Y141sZmlsZQ%3D%3D?line=9'>10</a>\u001b[0m \u001b[39mprint\u001b[39m(\u001b[39mf\u001b[39m\u001b[39m\"\u001b[39m\u001b[39mThe result of division is: \u001b[39m\u001b[39m{\u001b[39;00mresult\u001b[39m}\u001b[39;00m\u001b[39m\"\u001b[39m)\n",
      "\u001b[1;32md:\\AIProjects\\FullStackDataScienceCourse\\DayWiseMaterial\\Assignments\\17th_Sept_FSDS.ipynb Cell 78\u001b[0m line \u001b[0;36m2\n\u001b[0;32m      <a href='vscode-notebook-cell:/d%3A/AIProjects/FullStackDataScienceCourse/DayWiseMaterial/Assignments/17th_Sept_FSDS.ipynb#Y141sZmlsZQ%3D%3D?line=0'>1</a>\u001b[0m \u001b[39mdef\u001b[39;00m \u001b[39mdivide\u001b[39m(a, b):\n\u001b[1;32m----> <a href='vscode-notebook-cell:/d%3A/AIProjects/FullStackDataScienceCourse/DayWiseMaterial/Assignments/17th_Sept_FSDS.ipynb#Y141sZmlsZQ%3D%3D?line=1'>2</a>\u001b[0m     \u001b[39massert\u001b[39;00m b \u001b[39m!=\u001b[39m \u001b[39m0\u001b[39m, \u001b[39m\"\u001b[39m\u001b[39mDivision by zero is not allowed!\u001b[39m\u001b[39m\"\u001b[39m\n\u001b[0;32m      <a href='vscode-notebook-cell:/d%3A/AIProjects/FullStackDataScienceCourse/DayWiseMaterial/Assignments/17th_Sept_FSDS.ipynb#Y141sZmlsZQ%3D%3D?line=2'>3</a>\u001b[0m     \u001b[39mreturn\u001b[39;00m a \u001b[39m/\u001b[39m b\n",
      "\u001b[1;31mAssertionError\u001b[0m: Division by zero is not allowed!"
     ]
    }
   ],
   "source": [
    "def divide(a, b):\n",
    "    # below code will throw error if b is zero\n",
    "    assert b != 0, \"Division by zero is not allowed!\"\n",
    "    return a / b\n",
    "\n",
    "# Example usage\n",
    "num1 = 10\n",
    "num2 = 0\n",
    "\n",
    "result = divide(num1, num2)\n",
    "print(f\"The result of division is: {result}\")"
   ]
  },
  {
   "cell_type": "markdown",
   "metadata": {},
   "source": [
    "### 16. Create a Python program that determines the eligibility of a person for a senior citizen discount based on age using if-else."
   ]
  },
  {
   "cell_type": "code",
   "execution_count": 1,
   "metadata": {},
   "outputs": [
    {
     "name": "stdout",
     "output_type": "stream",
     "text": [
      "You are not eligible for senior citizen discount.\n"
     ]
    }
   ],
   "source": [
    "def is_eligible_for_senior_citizen_discount(age: int) -> bool:\n",
    "    '''\n",
    "    Function determine whether the person of given age is eligible for senior citizen disc or not - if-else\n",
    "    '''\n",
    "\n",
    "    if age >= 60:\n",
    "        return True\n",
    "    else:\n",
    "        return False\n",
    "\n",
    "\n",
    "# Take input of users age\n",
    "age = int(input('Enter your age: '))\n",
    "\n",
    "# Determine eligibility\n",
    "is_eligible = is_eligible_for_senior_citizen_discount(age)\n",
    "\n",
    "# Print\n",
    "if is_eligible:\n",
    "    print('You are eligible for senior citizen discount.')\n",
    "else:\n",
    "    print('You are not eligible for senior citizen discount.')"
   ]
  },
  {
   "cell_type": "markdown",
   "metadata": {},
   "source": [
    "### 17. Write a Python program to categorize a given character as uppercase, lowercase, or neither using if-else."
   ]
  },
  {
   "cell_type": "code",
   "execution_count": 2,
   "metadata": {},
   "outputs": [
    {
     "name": "stdout",
     "output_type": "stream",
     "text": [
      "The character 'A' is Uppercase.\n",
      "The character 'b' is Lowercase.\n",
      "The character '3' is Neither uppercase nor lowercase.\n"
     ]
    }
   ],
   "source": [
    "def categorize_character(character: str):\n",
    "    '''\n",
    "    Function categorize the character to Uppercase, Lowercase or neither\n",
    "    '''\n",
    "    if character.isupper():\n",
    "        category = \"Uppercase\"\n",
    "    elif character.islower():\n",
    "        category = \"Lowercase\"\n",
    "    else:\n",
    "        category = \"Neither uppercase nor lowercase\"\n",
    "\n",
    "    return category\n",
    "\n",
    "# Create character inputs\n",
    "char1 = 'A'\n",
    "char2 = 'b'\n",
    "char3 = '3'\n",
    "\n",
    "# Get category\n",
    "category1 = categorize_character(char1)\n",
    "category2 = categorize_character(char2)\n",
    "category3 = categorize_character(char3)\n",
    "\n",
    "# Print Category of each char\n",
    "print(f\"The character '{char1}' is {category1}.\")\n",
    "print(f\"The character '{char2}' is {category2}.\")\n",
    "print(f\"The character '{char3}' is {category3}.\")"
   ]
  },
  {
   "cell_type": "markdown",
   "metadata": {},
   "source": [
    "### 18. Write a Python program to determine the roots of a quadratic equation using if-else."
   ]
  },
  {
   "cell_type": "code",
   "execution_count": 1,
   "metadata": {},
   "outputs": [
    {
     "name": "stdout",
     "output_type": "stream",
     "text": [
      "Roots are complex.\n",
      "x = (-2.5+0.8660254037844386j) or x = (-2.5-0.8660254037844386j)\n"
     ]
    }
   ],
   "source": [
    "import math\n",
    "import cmath\n",
    "# Using cmath - to get the complex number (from negative sqaure root)\n",
    "\n",
    "# Function - prints the roots and related info\n",
    "def print_roots_of_quadratic_equation(a: int, b: int, c: int):\n",
    "    if a == 0:\n",
    "        print('Not a valid Quadratic equation.')\n",
    "    else:\n",
    "        # D = b2 - 4ac\n",
    "        D = (b ** 2) - (4 * a * c)\n",
    "\n",
    "        if D == 0:\n",
    "            root = (-b  / (2 * a))\n",
    "            print('Roots are real and same.')\n",
    "            print(f'x = {root}')\n",
    "        elif D > 0:\n",
    "            square_root_D = math.sqrt(D)\n",
    "            root1 = (-b + square_root_D)/(2 * a)\n",
    "            root2 = (-b - square_root_D)/(2 * a)\n",
    "            print('Roots are real and different.')\n",
    "            print(f'x = {root1} or x = {root2}')\n",
    "        else:\n",
    "            square_root_D = cmath.sqrt(D)\n",
    "            root1 = (-b + square_root_D)/(2 * a)\n",
    "            root2 = (-b - square_root_D)/(2 * a)\n",
    "            print('Roots are complex.')\n",
    "            print(f'x = {root1} or x = {root2}')\n",
    "\n",
    "\n",
    "# Compute and print result\n",
    "print_roots_of_quadratic_equation(1, 5, 7)"
   ]
  },
  {
   "cell_type": "markdown",
   "metadata": {},
   "source": [
    "### 19. Create a Python program that checks if a given year is a century year or not using if-else."
   ]
  },
  {
   "cell_type": "code",
   "execution_count": 2,
   "metadata": {},
   "outputs": [
    {
     "name": "stdout",
     "output_type": "stream",
     "text": [
      "Year 2023 is not a CENTURY year.\n",
      "Year 2100 a CENTURY year.\n"
     ]
    }
   ],
   "source": [
    "# Century year is year divisible by 100\n",
    "\n",
    "# Function - Takes year number as input and print whether it is century year or not\n",
    "def print_century_year_or_not(year: int):\n",
    "    if year % 100 == 0:\n",
    "        print(f'Year {year} a CENTURY year.')\n",
    "    else:\n",
    "        print(f'Year {year} is not a CENTURY year.')\n",
    "\n",
    "# Take input of year\n",
    "year1 = int(input('Enter year1: '))\n",
    "year2 = int(input('Enter year2: '))\n",
    "\n",
    "# Print result\n",
    "print_century_year_or_not(year1)\n",
    "print_century_year_or_not(year2)"
   ]
  },
  {
   "cell_type": "markdown",
   "metadata": {},
   "source": [
    "### 20. Write a Python program to determine if a given number is a perfect square using if-else"
   ]
  },
  {
   "cell_type": "code",
   "execution_count": 3,
   "metadata": {},
   "outputs": [
    {
     "name": "stdout",
     "output_type": "stream",
     "text": [
      "16 is a perfect square: True\n",
      "25 is a perfect square: True\n",
      "10 is a perfect square: False\n"
     ]
    }
   ],
   "source": [
    "def is_perfect_square(number):\n",
    "    # Calculate the integer square root\n",
    "    sqrt = int(number ** 0.5) \n",
    "\n",
    "    if sqrt ** 2 == number:\n",
    "        return True\n",
    "    else:\n",
    "        return False\n",
    "\n",
    "# Create example numbers to test\n",
    "num1 = 16\n",
    "num2 = 25\n",
    "num3 = 10\n",
    "\n",
    "# Check for perfect square\n",
    "result1 = is_perfect_square(num1)\n",
    "result2 = is_perfect_square(num2)\n",
    "result3 = is_perfect_square(num3)\n",
    "\n",
    "# Print results\n",
    "print(f\"{num1} is a perfect square: {result1}\")\n",
    "print(f\"{num2} is a perfect square: {result2}\")\n",
    "print(f\"{num3} is a perfect square: {result3}\")"
   ]
  },
  {
   "cell_type": "markdown",
   "metadata": {},
   "source": [
    "### 21. Explain the purpose of the \"continue\" and \"break\" statements within if-else loops.\n",
    "\n",
    "Ans. \n",
    "\n",
    "> The 'continue' and 'break' statements are control flow statements in Python that alter the flow of execution in loops (example for and while loops) and conditional statements (if-else blocks).\n",
    "\n",
    "#### Continue Statement:\n",
    "\n",
    "> The continue statement is used to skip the rest of the loop's code for the current iteration, and to move on to the next iteration.\n",
    "\n",
    "#### Break Statement:\n",
    "\n",
    "> The break statement is used to exit a loop immediately and prematurely, even if the loop condition is still true.\n",
    "\n",
    "Examples as given in the code cell."
   ]
  },
  {
   "cell_type": "code",
   "execution_count": 6,
   "metadata": {},
   "outputs": [
    {
     "name": "stdout",
     "output_type": "stream",
     "text": [
      "0\n",
      "1\n",
      "3\n",
      "4\n"
     ]
    }
   ],
   "source": [
    "# Below code prints from 0 to 4 and skip 2\n",
    "for i in range(5):\n",
    "    if i == 2:\n",
    "        continue\n",
    "    print(i)"
   ]
  },
  {
   "cell_type": "code",
   "execution_count": 7,
   "metadata": {},
   "outputs": [
    {
     "name": "stdout",
     "output_type": "stream",
     "text": [
      "0\n",
      "1\n",
      "2\n"
     ]
    }
   ],
   "source": [
    "# Below code is example of Break, prints till 0 to 2\n",
    "for i in range(5):\n",
    "    if i == 3:\n",
    "        break\n",
    "    print(i)"
   ]
  },
  {
   "cell_type": "markdown",
   "metadata": {},
   "source": [
    "### 22. Create a Python program that calculates the BMI (Body Mass Index) of a person based on their weight and height using if-else."
   ]
  },
  {
   "cell_type": "code",
   "execution_count": 5,
   "metadata": {},
   "outputs": [
    {
     "name": "stdout",
     "output_type": "stream",
     "text": [
      "Your weight is 78.00 KG\n",
      "Your height is 78.00 KG\n",
      "Your BMI is 25.180785123966942 and you are categorized as OVERWEIGHT.\n"
     ]
    }
   ],
   "source": [
    "# Considerations - as per https://www.nhlbi.nih.gov/health/educational/lose_wt/BMI/bmicalc.htm\n",
    "#   BMI Categories:\n",
    "#       Underweight = <18.5\n",
    "#       Normal weight = 18.5–24.9 (we take less than 25 here to consider 24.99 and so on)\n",
    "#       Overweight = 25–29.9 (we take less than 30 here to consider 29.99 and so on)\n",
    "#       Obesity = BMI of 30 or greater  \n",
    "\n",
    "# Function - takes a input of BMI (float number) and prints category as per above consideration\n",
    "def print_health_recommendation(bmi: float):\n",
    "    if bmi < 18.5:\n",
    "        print(f'Your BMI is {bmi} and you are categorized as UNDERWEIGHT.')\n",
    "    elif bmi >= 18.5 and bmi < 25:\n",
    "        print(f'Your BMI is {bmi} and you are categorized as NORMAL.')\n",
    "    elif bmi >= 25 and bmi < 30:\n",
    "        print(f'Your BMI is {bmi} and you are categorized as OVERWEIGHT.')\n",
    "    else:\n",
    "        print(f'Your BMI is {bmi} and you are categorized as OBESE.')\n",
    "\n",
    "\n",
    "# Assumption - wieght is in kilo grams and height is in meters\n",
    "# BMI = weight / height * height\n",
    "def calculate_BMI(weight: float, height: float) -> float:\n",
    "    return weight/(height**2)\n",
    "\n",
    "# Input weight in kilograms and height in meters\n",
    "weight = float(input('Enter your weight (in KG): '))\n",
    "height = float(input('Enter your height (in meters): '))\n",
    "\n",
    "# Calculate BMI\n",
    "bmi = calculate_BMI(weight, height)\n",
    "\n",
    "# Print recommendations\n",
    "print(f'Your weight is {weight:.2f} KG')\n",
    "print(f'Your height is {height:.2f} Mtr')\n",
    "print_health_recommendation(bmi)\n"
   ]
  },
  {
   "cell_type": "markdown",
   "metadata": {},
   "source": [
    "### 23. How can you use the \"filter()\" function with if-else statements to filter elements from a list?\n"
   ]
  },
  {
   "cell_type": "code",
   "execution_count": 8,
   "metadata": {},
   "outputs": [
    {
     "name": "stdout",
     "output_type": "stream",
     "text": [
      "[2, 4, 6, 8]\n"
     ]
    }
   ],
   "source": [
    "def is_even(number: int):\n",
    "    if number % 2 == 0:\n",
    "        return True\n",
    "    else:\n",
    "        return False\n",
    "    \n",
    "# Create a list of numbers\n",
    "numbers = [1, 2, 3, 4, 5, 6, 7, 8, 9]\n",
    "\n",
    "# Use filter() with a function containing an if-else statement\n",
    "even_numbers = filter(is_even, numbers)\n",
    "\n",
    "# Print\n",
    "print(list(even_numbers))"
   ]
  },
  {
   "cell_type": "markdown",
   "metadata": {},
   "source": [
    "### 24. Write a Python program to determine if a given number is prime or not using if-else.\n"
   ]
  },
  {
   "cell_type": "code",
   "execution_count": 9,
   "metadata": {},
   "outputs": [
    {
     "name": "stdout",
     "output_type": "stream",
     "text": [
      "25 is not a Prime number.\n"
     ]
    }
   ],
   "source": [
    "# Function to check if number is prime or not\n",
    "def is_prime(n:int) -> bool:\n",
    "    if(n <= 1):\n",
    "        return False\n",
    "    else:\n",
    "        range_num = math.floor(n/2) + 1\n",
    "        for i in range(2 , range_num):\n",
    "            if(n%i == 0):\n",
    "                return False\n",
    "        return True\n",
    "\n",
    "# Get the number to check\n",
    "number = int(input(\"Enter a number: \"))\n",
    "\n",
    "# Check\n",
    "is_prime_num = is_prime(number)\n",
    "\n",
    "# Print\n",
    "if is_prime_num:\n",
    "    print(f\"{number} is a Prime number.\")\n",
    "else:\n",
    "    print(f\"{number} is not a Prime number.\")"
   ]
  },
  {
   "cell_type": "markdown",
   "metadata": {},
   "source": [
    "## Map :-"
   ]
  },
  {
   "cell_type": "markdown",
   "metadata": {},
   "source": [
    "### 1. Explain the purpose of the `map()` function in Python and provide an example of how it can be used to apply a function to each element of an iterable.\n",
    "\n",
    "Ans.\n",
    "\n",
    "> The map() function in Python is used to apply a specified function to every element in an iterable (like a list) and return a new iterable containing the results of the function applied to each element.\n",
    "\n",
    "Example as shown in the code cell:"
   ]
  },
  {
   "cell_type": "code",
   "execution_count": 10,
   "metadata": {},
   "outputs": [
    {
     "name": "stdout",
     "output_type": "stream",
     "text": [
      "[1, 4, 9, 16, 25]\n"
     ]
    }
   ],
   "source": [
    "# Create a list of numbers\n",
    "list_of_numbers = [1, 2, 3, 4, 5]\n",
    "\n",
    "# Function to square a number\n",
    "def square(x):\n",
    "    return x ** 2\n",
    "\n",
    "# Use map() to apply the function to each element in the list\n",
    "squared_numbers = map(square, list_of_numbers)\n",
    "\n",
    "# Convert the result to a list (since map() returns an iterator)\n",
    "squared_numbers_list = list(squared_numbers)\n",
    "\n",
    "# Print\n",
    "print(squared_numbers_list)"
   ]
  },
  {
   "cell_type": "markdown",
   "metadata": {},
   "source": [
    "### 2. Write a Python program that uses the `map()` function to square each element of a list of numbers."
   ]
  },
  {
   "cell_type": "code",
   "execution_count": 12,
   "metadata": {},
   "outputs": [
    {
     "name": "stdout",
     "output_type": "stream",
     "text": [
      "[1, 4, 9, 16, 25, 36]\n"
     ]
    }
   ],
   "source": [
    "# Create a list of numbers\n",
    "list_of_numbers = [1, 2, 3, 4, 5, 6]\n",
    "\n",
    "# Function to square a number\n",
    "def square(x):\n",
    "    return x ** 2\n",
    "\n",
    "# Use map() to apply the function to each element in the list\n",
    "squared_numbers = map(square, list_of_numbers)\n",
    "\n",
    "# Convert the result to a list (since map() returns an iterator)\n",
    "squared_numbers_list = list(squared_numbers)\n",
    "\n",
    "# Print\n",
    "print(squared_numbers_list)"
   ]
  },
  {
   "cell_type": "markdown",
   "metadata": {},
   "source": [
    "### 3. How does the `map()` function differ from a list comprehension in Python, and when would you choose one over the other?\n",
    "\n",
    "Ans.\n",
    "\n",
    "> Both map() and list comprehensions in Python serve similar purposes: they allow you to transform data in an iterable.\n",
    "\n",
    "#### 'map()':\n",
    "\n",
    "> It's a built-in Python function that applies a specified function to each item in an input list (or other iterable) and returns an iterator. 'map()' uses lazy evaluation, which means it calculates the elements one at a time as they are needed. This can be more memory-efficient for large datasets.\n",
    "\n",
    "#### List comprehension:\n",
    "\n",
    "> It's a concise way to create a new list by applying an expression to each item in an input list (or other iterable) and specifying a condition. In terms of performance, list comprehensions are generally faster than 'map()' because they are optimized for the specific task of creating a list.\n",
    "\n",
    "#### When to Choose One Over the Other:\n",
    "\n",
    "> Use 'map()' when you are working with large datasets and want to optimize memory usage.\n",
    "\n",
    "> Use a list comprehension when you want a more readable and expressive way to create a new list."
   ]
  },
  {
   "cell_type": "markdown",
   "metadata": {},
   "source": [
    "### 4. Create a Python program that uses the `map()` function to convert a list of names to uppercase."
   ]
  },
  {
   "cell_type": "code",
   "execution_count": 14,
   "metadata": {},
   "outputs": [
    {
     "name": "stdout",
     "output_type": "stream",
     "text": [
      "['ROBIN', 'PABBI', 'PWSKILLS']\n"
     ]
    }
   ],
   "source": [
    "# Create a list of names\n",
    "names = ['Robin', 'Pabbi', 'pwskills']\n",
    "\n",
    "# Convert them to uppercase\n",
    "uppercase_names_iterable = map(lambda x: x.upper(), names)\n",
    "\n",
    "# Print\n",
    "print(list(uppercase_names_iterable))"
   ]
  },
  {
   "cell_type": "markdown",
   "metadata": {},
   "source": [
    "### 5. Write a Python program that uses the `map()` function to calculate the length of each word in a list of strings."
   ]
  },
  {
   "cell_type": "code",
   "execution_count": 15,
   "metadata": {},
   "outputs": [
    {
     "name": "stdout",
     "output_type": "stream",
     "text": [
      "[5, 5, 8]\n"
     ]
    }
   ],
   "source": [
    "# Create a list of names\n",
    "list_of_strings = ['Robin', 'Pabbi', 'pwskills']\n",
    "\n",
    "# Get length of string/word\n",
    "iterable_of_lengths = map(len, list_of_strings)\n",
    "\n",
    "# Print\n",
    "print(list(iterable_of_lengths))"
   ]
  },
  {
   "cell_type": "markdown",
   "metadata": {},
   "source": [
    "### 6. How can you use the `map()` function to apply a custom function to elements of multiple lists simultaneously in Python?"
   ]
  },
  {
   "cell_type": "code",
   "execution_count": 16,
   "metadata": {},
   "outputs": [
    {
     "name": "stdout",
     "output_type": "stream",
     "text": [
      "Result is: [6, 8, 10, 12, 14]\n"
     ]
    }
   ],
   "source": [
    "# Function to add numbers\n",
    "def add(a, b):\n",
    "    return a + b\n",
    "\n",
    "# Create lists\n",
    "list1 = [1, 2, 3, 4, 5]\n",
    "list2 = [5, 6, 7, 8, 9]\n",
    "\n",
    "# Apply add (custom function) to elements of multiple list at a time\n",
    "result_iterable = map(add, list1, list2)\n",
    "\n",
    "# Print\n",
    "print(f'Result is: {list(result_iterable)}')"
   ]
  },
  {
   "cell_type": "markdown",
   "metadata": {},
   "source": [
    "### 7. Create a Python program that uses `map()` to convert a list of temperatures from Celsius to Fahrenheit."
   ]
  },
  {
   "cell_type": "code",
   "execution_count": 18,
   "metadata": {},
   "outputs": [
    {
     "name": "stdout",
     "output_type": "stream",
     "text": [
      "[96.44, 77.0, 104.0, 122.0]\n"
     ]
    }
   ],
   "source": [
    "# Create a list of temperatures in celsius\n",
    "list_of_celsius_temp = [35.8, 25, 40, 50]\n",
    "\n",
    "# Convert to Fahrenheit\n",
    "fah_temp_iterable = map(lambda celsius_temp : (celsius_temp * 9/5) + 32, list_of_celsius_temp)\n",
    "\n",
    "# Print results\n",
    "print(list(fah_temp_iterable))"
   ]
  },
  {
   "cell_type": "markdown",
   "metadata": {},
   "source": [
    "### 8. Write a Python program that uses the `map()` function to round each element of a list of floating-point numbers to the nearest integer."
   ]
  },
  {
   "cell_type": "code",
   "execution_count": 21,
   "metadata": {},
   "outputs": [
    {
     "name": "stdout",
     "output_type": "stream",
     "text": [
      "[23, 46, 68, 24]\n"
     ]
    }
   ],
   "source": [
    "# Create a list of float numbers\n",
    "list_of_floating_nums = [23.4, 45.6, 67.8, 23.7]\n",
    "\n",
    "# Convert to the nearest int (round to nearest int) - Using map function\n",
    "list_of_int_nums = list(map(round, list_of_floating_nums))\n",
    "\n",
    "# Print\n",
    "print(list_of_int_nums)"
   ]
  },
  {
   "cell_type": "markdown",
   "metadata": {},
   "source": [
    "## Reduce :-"
   ]
  },
  {
   "cell_type": "markdown",
   "metadata": {},
   "source": [
    "### 1. What is the `reduce()` function in Python, and what module should you import to use it? Provide an example of its basic usage.\n",
    "\n",
    "Ans.\n",
    "\n",
    "> The 'reduce()' function in Python is a built-in function provided by the 'functools' module. It is used to apply a specified function to an iterable (e.g., a list) cumulatively to reduce it to a single value.\n",
    "\n",
    "> To use the 'reduce()' function, we need to import it from the 'functools' module.\n",
    "\n",
    "Example of the basic usage of the 'reduce()' function is as below in code cell:"
   ]
  },
  {
   "cell_type": "code",
   "execution_count": 22,
   "metadata": {},
   "outputs": [
    {
     "name": "stdout",
     "output_type": "stream",
     "text": [
      "15\n"
     ]
    }
   ],
   "source": [
    "# Import reduce funtion from functools\n",
    "from functools import reduce\n",
    "\n",
    "# create a list of numbers\n",
    "numbers = [1, 2, 3, 4, 5]\n",
    "\n",
    "# Function to add two numbers\n",
    "def add(x, y):\n",
    "    return x + y\n",
    "\n",
    "# Use reduce() to apply the function cumulatively to the list\n",
    "result = reduce(add, numbers)\n",
    "\n",
    "print(result)"
   ]
  },
  {
   "cell_type": "markdown",
   "metadata": {},
   "source": [
    "### 2. Write a Python program that uses the `reduce()` function to find the product of all elements in a list."
   ]
  },
  {
   "cell_type": "code",
   "execution_count": 23,
   "metadata": {},
   "outputs": [
    {
     "name": "stdout",
     "output_type": "stream",
     "text": [
      "Products of all elements is: 120\n"
     ]
    }
   ],
   "source": [
    "# Import reduce funtion from functools\n",
    "from functools import reduce\n",
    "\n",
    "# Create a list of numbers\n",
    "numbers = [1, 2, 3, 4, 5]\n",
    "\n",
    "# Perform multiplication of all numbers\n",
    "result = reduce(lambda a, b: a*b, numbers)\n",
    "\n",
    "# Print\n",
    "print(f'Products of all elements is: {result}')"
   ]
  },
  {
   "cell_type": "markdown",
   "metadata": {},
   "source": [
    "### 3. Create a Python program that uses `reduce()` to find the maximum element in a list of numbers."
   ]
  },
  {
   "cell_type": "code",
   "execution_count": 24,
   "metadata": {},
   "outputs": [
    {
     "name": "stdout",
     "output_type": "stream",
     "text": [
      "Maximum element in [41, 23, 25, 94, 44, 7] is 94\n"
     ]
    }
   ],
   "source": [
    "# Import reduce funtion from functools\n",
    "from functools import reduce\n",
    "\n",
    "# Create a list of numbers\n",
    "numbers = [41, 23, 25, 94, 44, 7]\n",
    "\n",
    "# Find the maximum number\n",
    "max_num = reduce(lambda a, b: a if a > b else b, numbers)\n",
    "\n",
    "# Print result\n",
    "print(f'Maximum element in {numbers} is {max_num}')"
   ]
  },
  {
   "cell_type": "markdown",
   "metadata": {},
   "source": [
    "### 4. How can you use the `reduce()` function to concatenate a list of strings into a single string?"
   ]
  },
  {
   "cell_type": "code",
   "execution_count": 25,
   "metadata": {},
   "outputs": [
    {
     "name": "stdout",
     "output_type": "stream",
     "text": [
      "Hello, how are you?\n"
     ]
    }
   ],
   "source": [
    "# Import reduce funtion from functools\n",
    "from functools import reduce\n",
    "\n",
    "# Create a list of strings\n",
    "strings = [\"Hello\", \", \", \"how\", \" are\", \" you?\"]\n",
    "\n",
    "# Use reduce() to concatenate the strings\n",
    "concatenated_string = reduce(lambda x, y: x + y, strings)\n",
    "\n",
    "# Print result\n",
    "print(concatenated_string)"
   ]
  },
  {
   "cell_type": "markdown",
   "metadata": {},
   "source": [
    "### 5. Write a Python program that calculates the factorial of a number using the `reduce()` function."
   ]
  },
  {
   "cell_type": "code",
   "execution_count": 26,
   "metadata": {},
   "outputs": [
    {
     "name": "stdout",
     "output_type": "stream",
     "text": [
      "The factorial of 5 is: 120\n"
     ]
    }
   ],
   "source": [
    "# Import reduce funtion from functools\n",
    "from functools import reduce\n",
    "\n",
    "# Function use reduce function to calculate factorial of a number\n",
    "def factorial(n):\n",
    "    return reduce(lambda x, y: x * y, range(1, n+1))\n",
    "\n",
    "# Define a number\n",
    "number = 5\n",
    "\n",
    "# Calculate factorial\n",
    "result = factorial(number)\n",
    "\n",
    "# Print result\n",
    "print(f\"The factorial of {number} is: {result}\")"
   ]
  },
  {
   "cell_type": "markdown",
   "metadata": {},
   "source": [
    "### 6. Create a Python program that uses `reduce()` to find the GCD (Greatest Common Divisor) of a list of numbers."
   ]
  },
  {
   "cell_type": "code",
   "execution_count": 27,
   "metadata": {},
   "outputs": [
    {
     "name": "stdout",
     "output_type": "stream",
     "text": [
      "The GCD of [24, 36, 48, 60] is: 12\n"
     ]
    }
   ],
   "source": [
    "# Import reduce funtion from functools\n",
    "from functools import reduce\n",
    "\n",
    "# Fnction to calculate GCD of two numbers using Euclidean algorithm\n",
    "def gcd(a, b):\n",
    "    while b:\n",
    "        a, b = b, a % b\n",
    "    return a\n",
    "\n",
    "# Function to find GCD of a list of numbers\n",
    "def gcd_of_list(numbers):\n",
    "    return reduce(gcd, numbers)\n",
    "\n",
    "# Create a list of numbers\n",
    "numbers = [24, 36, 48, 60]\n",
    "\n",
    "# Calculate GCD\n",
    "result = gcd_of_list(numbers)\n",
    "\n",
    "# Print\n",
    "print(f\"The GCD of {numbers} is: {result}\")"
   ]
  },
  {
   "cell_type": "markdown",
   "metadata": {},
   "source": [
    "### 7. Write a Python program that uses the `reduce()` function to find the sum of the digits of a given number."
   ]
  },
  {
   "cell_type": "code",
   "execution_count": 28,
   "metadata": {},
   "outputs": [
    {
     "name": "stdout",
     "output_type": "stream",
     "text": [
      "The sum of digits in 123487 is: 25\n"
     ]
    }
   ],
   "source": [
    "# Import reduce funtion from functools\n",
    "from functools import reduce\n",
    "\n",
    "# Function to add two numbers\n",
    "def add(x, y):\n",
    "    return x + y\n",
    "\n",
    "# Function to find the sum of digits of a number\n",
    "def sum_of_digits(number):\n",
    "    # Convert number to a list of digits\n",
    "    digits = map(int, str(number))\n",
    "    return reduce(add, digits)\n",
    "\n",
    "# Define a number\n",
    "number = 123487\n",
    "\n",
    "# Result\n",
    "result = sum_of_digits(number)\n",
    "\n",
    "# Print result\n",
    "print(f\"The sum of digits in {number} is: {result}\")"
   ]
  },
  {
   "cell_type": "markdown",
   "metadata": {},
   "source": [
    "## Filter :-"
   ]
  },
  {
   "cell_type": "markdown",
   "metadata": {},
   "source": [
    "### 1. Explain the purpose of the `filter()` function in Python and provide an example of how it can be used to filter elements from an iterable.\n",
    "\n",
    "Ans.\n",
    "\n",
    "> The 'filter()' function is used to filter elements from an iterable (like a list) based on a specified condition. It takes two arguments: a function and an iterable. The function you pass to 'filter()' should return True for the elements we want to keep.\n",
    "\n",
    "Example of how to use the filter() function:"
   ]
  },
  {
   "cell_type": "code",
   "execution_count": 29,
   "metadata": {},
   "outputs": [
    {
     "name": "stdout",
     "output_type": "stream",
     "text": [
      "[2, 4, 6, 8]\n"
     ]
    }
   ],
   "source": [
    "# Create a list of numbers\n",
    "numbers = [1, 2, 3, 4, 5, 6, 7, 8, 9]\n",
    "\n",
    "# Function to check if a number is even\n",
    "def is_even(x):\n",
    "    return x % 2 == 0\n",
    "\n",
    "# Use filter() to keep only the even numbers\n",
    "even_numbers = filter(is_even, numbers)\n",
    "\n",
    "# Convert the result to a list (because filter() returns an iterator)\n",
    "even_numbers_list = list(even_numbers)\n",
    "\n",
    "# Print\n",
    "print(even_numbers_list)\n"
   ]
  },
  {
   "cell_type": "markdown",
   "metadata": {},
   "source": [
    "### 2. Write a Python program that uses the `filter()` function to select even numbers from a list of integers.\n"
   ]
  },
  {
   "cell_type": "code",
   "execution_count": 30,
   "metadata": {},
   "outputs": [
    {
     "name": "stdout",
     "output_type": "stream",
     "text": [
      "[2, 4, 6, 8]\n"
     ]
    }
   ],
   "source": [
    "# Create a list of numbers\n",
    "numbers = [1, 2, 3, 4, 5, 6, 7, 8, 9]\n",
    "\n",
    "# Function to check if a number is even\n",
    "def is_even(x):\n",
    "    return x % 2 == 0\n",
    "\n",
    "# Use filter() to keep only the even numbers\n",
    "even_numbers = filter(is_even, numbers)\n",
    "\n",
    "# Convert the result to a list (because filter() returns an iterator)\n",
    "even_numbers_list = list(even_numbers)\n",
    "\n",
    "# Print\n",
    "print(even_numbers_list)"
   ]
  },
  {
   "cell_type": "markdown",
   "metadata": {},
   "source": [
    "### 3. Create a Python program that uses the `filter()` function to select names that start with a specific letter from a list of strings."
   ]
  },
  {
   "cell_type": "code",
   "execution_count": 1,
   "metadata": {},
   "outputs": [
    {
     "name": "stdout",
     "output_type": "stream",
     "text": [
      "Names that start with 'R': ['Robin', 'Rob', 'Rahul']\n"
     ]
    }
   ],
   "source": [
    "# Define a list of names\n",
    "names = ['Robin', \"Alpha\", \"Rob\", \"Rahul\", \"Munish\", \"Mahesh\", \"Suddhanshu\"]\n",
    "\n",
    "# Function to check if a name starts with a specific letter\n",
    "def starts_with_letter(letter: str, name: str):\n",
    "    return name.startswith(letter)\n",
    "\n",
    "# Define the specific letter to filter by\n",
    "specific_letter = \"R\"\n",
    "\n",
    "# Use filter() to select names that start with the specific letter\n",
    "selected_names = filter(lambda name: starts_with_letter(specific_letter, name), names)\n",
    "\n",
    "# Convert the result to a list (since filter() returns an iterator)\n",
    "selected_names_list = list(selected_names)\n",
    "\n",
    "# Print\n",
    "print(f\"Names that start with '{specific_letter}': {selected_names_list}\")\n"
   ]
  },
  {
   "cell_type": "markdown",
   "metadata": {},
   "source": [
    "\n",
    "### 4. Write a Python program that uses the `filter()` function to select prime numbers from a list of integers."
   ]
  },
  {
   "cell_type": "code",
   "execution_count": 2,
   "metadata": {},
   "outputs": [
    {
     "name": "stdout",
     "output_type": "stream",
     "text": [
      "Prime numbers are : [7, 5, 23, 11]\n"
     ]
    }
   ],
   "source": [
    "import math\n",
    "\n",
    "# Function to check if number is prime or not\n",
    "def is_prime(n:int) -> bool:\n",
    "    if(n <= 1):\n",
    "        return False\n",
    "    range_num = math.floor(n/2) + 1\n",
    "    for i in range(2 , range_num):\n",
    "        if(n%i == 0):\n",
    "            return False\n",
    "    return True\n",
    "\n",
    "# Create a list of numbers\n",
    "list_of_numbers = [8, 7, 5, 91, 93, 21, 23, 11]\n",
    "\n",
    "# Filter list of prime numbers from given list\n",
    "prime_nums_iterable = filter(is_prime, list_of_numbers)\n",
    "\n",
    "# List of Primes\n",
    "prime_nums = list(prime_nums_iterable)\n",
    "\n",
    "# Print\n",
    "print(f'Prime numbers are : {prime_nums}')"
   ]
  },
  {
   "cell_type": "markdown",
   "metadata": {},
   "source": [
    "### 5. How can you use the `filter()` function to remove None values from a list in Python?"
   ]
  },
  {
   "cell_type": "code",
   "execution_count": 4,
   "metadata": {},
   "outputs": [
    {
     "name": "stdout",
     "output_type": "stream",
     "text": [
      "[1, 2, 3, 4, 5, 'Robin', 'Pabbi']\n"
     ]
    }
   ],
   "source": [
    "# Create a list \n",
    "list_1 = [1, 2, 3, None, 4, 5, None, 'Robin', 'Pabbi', None]\n",
    "\n",
    "# Filter the None values\n",
    "non_None_iterable = filter(lambda x: x != None, list_1)\n",
    "\n",
    "# Print\n",
    "print(list(non_None_iterable))"
   ]
  },
  {
   "cell_type": "markdown",
   "metadata": {},
   "source": [
    "### 6. Create a Python program that uses `filter()` to select words longer than a certain length from a list of strings."
   ]
  },
  {
   "cell_type": "code",
   "execution_count": 5,
   "metadata": {},
   "outputs": [
    {
     "name": "stdout",
     "output_type": "stream",
     "text": [
      "['Robin', 'Munish', 'Mahesh', 'Suddhanshu']\n"
     ]
    }
   ],
   "source": [
    "# Define a list of strings\n",
    "names = ['Robin', \"Alp\", \"Rob\", \"Rahl\", \"Munish\", \"Mahesh\", \"Suddhanshu\"]\n",
    "\n",
    "# Define min length\n",
    "min_length = 4\n",
    "\n",
    "# Filter strings with length more than min_length\n",
    "filter_obj = filter(lambda x: len(x) > min_length, names)\n",
    "\n",
    "# Print\n",
    "print(list(filter_obj))"
   ]
  },
  {
   "cell_type": "markdown",
   "metadata": {},
   "source": [
    "### 7. Write a Python program that uses the `filter()` function to select elements greater than a specified threshold from a list of values."
   ]
  },
  {
   "cell_type": "code",
   "execution_count": 8,
   "metadata": {},
   "outputs": [
    {
     "name": "stdout",
     "output_type": "stream",
     "text": [
      "[78, 54, 45, 99]\n"
     ]
    }
   ],
   "source": [
    "# Define a list of numbers\n",
    "list_of_numbers = [1, 2, 3, 4, 78, 54, 33, 22, 45, 99, 23, 11]\n",
    "\n",
    "# Define threshold\n",
    "threshold_value = 40\n",
    "\n",
    "# Filter values more than threshold\n",
    "filter_obj = filter(lambda x: x > threshold_value, list_of_numbers)\n",
    "\n",
    "# Print\n",
    "print(list(filter_obj))"
   ]
  },
  {
   "cell_type": "markdown",
   "metadata": {},
   "source": [
    "## Recursion:-"
   ]
  },
  {
   "cell_type": "markdown",
   "metadata": {},
   "source": [
    "### 1. Explain the concept of recursion in Python. How does it differ from iteration?"
   ]
  },
  {
   "cell_type": "markdown",
   "metadata": {},
   "source": [
    "Ans.\n",
    "\n",
    "Recursion and iteration are two different approaches to solving problems in programming.\n",
    "\n",
    "#### Recursion:\n",
    "> Recursion is a technique in which a function calls itself in order to accomplish a specific task. It involves breaking down a problem into smaller, similar subproblems and solving them recursively. Recursion relies on the fact that a function can call itself to solve a smaller version of the same problem.\n",
    "\n",
    "#### Iteration:\n",
    "> Iteration, on the other hand, is the process of repeatedly executing a set of statements using loops. It involves using loops (e.g., for or while loops) to perform a specific set of actions until a condition is met."
   ]
  },
  {
   "cell_type": "code",
   "execution_count": 12,
   "metadata": {},
   "outputs": [
    {
     "data": {
      "text/plain": [
       "120"
      ]
     },
     "execution_count": 12,
     "metadata": {},
     "output_type": "execute_result"
    }
   ],
   "source": [
    "## Recursion example\n",
    "\n",
    "def factorial(n: int):\n",
    "    if n == 0:\n",
    "        return 1\n",
    "    else:\n",
    "        return n * factorial(n-1)\n",
    "\n",
    "factorial(5)"
   ]
  },
  {
   "cell_type": "code",
   "execution_count": 13,
   "metadata": {},
   "outputs": [
    {
     "data": {
      "text/plain": [
       "120"
      ]
     },
     "execution_count": 13,
     "metadata": {},
     "output_type": "execute_result"
    }
   ],
   "source": [
    "## Iteration example\n",
    "\n",
    "def factorial(n: int):\n",
    "    result = 1\n",
    "    for i in range(1, n+1):\n",
    "        result *= i\n",
    "    return result\n",
    "\n",
    "factorial(5)"
   ]
  },
  {
   "cell_type": "markdown",
   "metadata": {},
   "source": [
    "\n",
    "### 2. Write a Python program to calculate the factorial of a number using recursion."
   ]
  },
  {
   "cell_type": "code",
   "execution_count": 14,
   "metadata": {},
   "outputs": [
    {
     "name": "stdout",
     "output_type": "stream",
     "text": [
      "Factorial of 6 is 720\n"
     ]
    }
   ],
   "source": [
    "def factorial(n: int):\n",
    "    if n == 0:\n",
    "        return 1\n",
    "    else:\n",
    "        return n * factorial(n-1)\n",
    "\n",
    "# Define number\n",
    "n = 6\n",
    "\n",
    "# Factorial of n\n",
    "fact_of_n = factorial(n)\n",
    "\n",
    "# Print\n",
    "print(f'Factorial of {n} is {fact_of_n}')"
   ]
  },
  {
   "cell_type": "markdown",
   "metadata": {},
   "source": [
    "\n",
    "### 3. Create a recursive Python function to find the nth Fibonacci number."
   ]
  },
  {
   "cell_type": "code",
   "execution_count": 16,
   "metadata": {},
   "outputs": [
    {
     "name": "stdout",
     "output_type": "stream",
     "text": [
      "The 10th Fibonacci number is: 55\n"
     ]
    }
   ],
   "source": [
    "def fibonacci_num(position: int): \n",
    "    if position <= 1:\n",
    "        return position\n",
    "    else:\n",
    "        return fibonacci_num(position - 1) + fibonacci_num(position - 2)\n",
    "    \n",
    "# Define position\n",
    "pos = 10\n",
    "\n",
    "# Compute fibonacci  number\n",
    "result = fibonacci_num(pos)\n",
    "\n",
    "# print\n",
    "print(f\"The {pos}th Fibonacci number is: {result}\")"
   ]
  },
  {
   "cell_type": "markdown",
   "metadata": {},
   "source": [
    "\n",
    "### 4. Write a recursive Python function to calculate the sum of all elements in a list."
   ]
  },
  {
   "cell_type": "code",
   "execution_count": 17,
   "metadata": {},
   "outputs": [
    {
     "name": "stdout",
     "output_type": "stream",
     "text": [
      "The sum of the elements in the list is: 148\n"
     ]
    }
   ],
   "source": [
    "# Function to compute sum using recusrion\n",
    "def recursive_sum(lst):\n",
    "    if not lst:\n",
    "        return 0\n",
    "    else:\n",
    "        return lst[0] + recursive_sum(lst[1:])\n",
    "\n",
    "# Create a list of numbers\n",
    "numbers = [1, 22, 13, 44, 23, 45]\n",
    "\n",
    "# Compute sum\n",
    "result = recursive_sum(numbers)\n",
    "\n",
    "# Print\n",
    "print(f\"The sum of the elements in the list is: {result}\")"
   ]
  },
  {
   "cell_type": "markdown",
   "metadata": {},
   "source": [
    "\n",
    "### 5. How can you prevent a recursive function from running indefinitely, causing a stack overflow error?"
   ]
  },
  {
   "cell_type": "markdown",
   "metadata": {},
   "source": [
    "Ans. \n",
    "\n",
    "To prevent a recursive function from running indefinitely and causing a stack overflow error, we can implement the following strategies:\n",
    "\n",
    "#### Base Case: \n",
    "> Ensure that there is a well-defined base case in your recursive function. The base case provides a stopping condition for the recursion and should be reached after a finite number of recursive calls. This ensures that the recursion eventually terminates.\n",
    "\n",
    "#### Ensure Progress: \n",
    "> Make sure that the recursive function is designed to make progress towards the base case with each recursive call. This means that the function's argument(s) should be modified in a way that brings it closer to the base case.\n",
    "\n",
    "#### Use Proper Input Handling: \n",
    "> Validate the input to the recursive function to avoid scenarios where it could potentially result in infinite recursion. Ensure that the input adheres to the expected constraints."
   ]
  },
  {
   "cell_type": "markdown",
   "metadata": {},
   "source": [
    "\n",
    "### 6. Create a recursive Python function to find the greatest common divisor (GCD) of two numbers using the Euclidean algorithm."
   ]
  },
  {
   "cell_type": "code",
   "execution_count": 20,
   "metadata": {},
   "outputs": [
    {
     "name": "stdout",
     "output_type": "stream",
     "text": [
      "GCD of 99 and 66 is 33\n"
     ]
    }
   ],
   "source": [
    "# Recursive function - to find GCD\n",
    "def gcd(a,b):\n",
    "    if a == 0:\n",
    "        return b\n",
    "    elif b == 0:\n",
    "        return a\n",
    "    else:\n",
    "        if a < b:\n",
    "            return gcd(a, b % a)\n",
    "        else:\n",
    "            return gcd(b, a % b)\n",
    "\n",
    "#Get Result\n",
    "result = gcd(99, 66)\n",
    "\n",
    "# Print\n",
    "print(f'GCD of 99 and 66 is {result}')"
   ]
  },
  {
   "cell_type": "markdown",
   "metadata": {},
   "source": [
    "\n",
    "### 7. Write a recursive Python function to reverse a string."
   ]
  },
  {
   "cell_type": "code",
   "execution_count": 22,
   "metadata": {},
   "outputs": [
    {
     "name": "stdout",
     "output_type": "stream",
     "text": [
      "Reverse of Robin is niboR\n"
     ]
    }
   ],
   "source": [
    "# Function takes a string as input and return the reverse of string using Recursion\n",
    "def reverse_str(string: str):\n",
    "    if len(string) == 0:\n",
    "        return string\n",
    "    else:\n",
    "        return string[-1:] + reverse_str(string[0:len(string)-1])\n",
    "\n",
    "# Compute Reverse\n",
    "reversed_string = reverse_str('Robin')\n",
    "\n",
    "# Print\n",
    "print(f'Reverse of Robin is {reversed_string}')"
   ]
  },
  {
   "cell_type": "markdown",
   "metadata": {},
   "source": [
    "\n",
    "### 8. Create a recursive Python function to calculate the power of a number (x^n)."
   ]
  },
  {
   "cell_type": "code",
   "execution_count": 23,
   "metadata": {},
   "outputs": [
    {
     "name": "stdout",
     "output_type": "stream",
     "text": [
      "The 4 power 5 is: 1024\n"
     ]
    }
   ],
   "source": [
    "# Recursive function takes number and power as input\n",
    "def pow_num(x: int, n: int):\n",
    "    if n == 0:\n",
    "        return 1\n",
    "    else:\n",
    "        return x * pow_num(x, n-1)\n",
    "\n",
    "# Define number n\n",
    "x = 4\n",
    "power = 5\n",
    "\n",
    "# Compute power\n",
    "result = pow_num(x, power)\n",
    "\n",
    "# Print\n",
    "print(f\"The {x} power {power} is: {result}\")"
   ]
  },
  {
   "cell_type": "markdown",
   "metadata": {},
   "source": [
    "\n",
    "### 9. Write a recursive Python function to find all permutations of a given string."
   ]
  },
  {
   "cell_type": "code",
   "execution_count": 27,
   "metadata": {},
   "outputs": [
    {
     "name": "stdout",
     "output_type": "stream",
     "text": [
      "['rob', 'rbo', 'orb', 'obr', 'bro', 'bor']\n"
     ]
    }
   ],
   "source": [
    "# Recursive function that return all the permutations of the given string\n",
    "def permutations(s: str):\n",
    "    # if string is empty then only string is option\n",
    "    if len(s) <= 1:\n",
    "        return [s]\n",
    "    \n",
    "    permutations_of_str = []\n",
    "\n",
    "    for i, char in enumerate(s):\n",
    "\n",
    "        remaining_chars = s[:i] + s[i+1:]\n",
    "        sub_perms = permutations(remaining_chars)\n",
    "\n",
    "        for perm in sub_perms:\n",
    "            permutations_of_str.append(char + perm)\n",
    "    \n",
    "    return permutations_of_str\n",
    "\n",
    "\n",
    "# Compute permutation \n",
    "result = permutations(\"rob\")\n",
    "\n",
    "# Print\n",
    "print(result)"
   ]
  },
  {
   "cell_type": "markdown",
   "metadata": {},
   "source": [
    "\n",
    "### 10. Write a recursive Python function to check if a string is a palindrome."
   ]
  },
  {
   "cell_type": "code",
   "execution_count": 28,
   "metadata": {},
   "outputs": [
    {
     "name": "stdout",
     "output_type": "stream",
     "text": [
      "'abba' is a palindrome: True\n",
      "'Robin' is a palindrome: False\n"
     ]
    }
   ],
   "source": [
    "# Recursive function to check if string is palindrome or not\n",
    "def is_palindrome(s: str):\n",
    "    # Base case: if the string is empty or has only one character, it's a palindrome\n",
    "    if len(s) <= 1:\n",
    "        return True\n",
    "\n",
    "    # Check if the first and last characters are the same\n",
    "    if s[0] != s[-1]:\n",
    "        return False\n",
    "\n",
    "    # Recursive call with the middle portion of the string - slicing of string\n",
    "    return is_palindrome(s[1:-1])\n",
    "\n",
    "# Compute is palindrome \n",
    "result1 = is_palindrome(\"abba\")\n",
    "result2 = is_palindrome(\"Robin\")\n",
    "\n",
    "print(f\"'abba' is a palindrome: {result1}\")\n",
    "print(f\"'Robin' is a palindrome: {result2}\")\n"
   ]
  },
  {
   "cell_type": "markdown",
   "metadata": {},
   "source": [
    "\n",
    "### 11. Create a recursive Python function to generate all possible combinations of a list of elements."
   ]
  },
  {
   "cell_type": "code",
   "execution_count": 29,
   "metadata": {},
   "outputs": [
    {
     "name": "stdout",
     "output_type": "stream",
     "text": [
      "All combination of elements of [1, 4, 8]\n",
      "[1, 4, 8]\n",
      "[1, 4]\n",
      "[1, 8]\n",
      "[1]\n",
      "[4, 8]\n",
      "[4]\n",
      "[8]\n",
      "[]\n"
     ]
    }
   ],
   "source": [
    "# Recursive function to generate all possible combinations\n",
    "def generate_all_combinations(elements: list):\n",
    "    if len(elements) == 0:\n",
    "        return [[]]\n",
    "\n",
    "    first_element = elements[0]\n",
    "    remaining_elements = elements[1:]\n",
    "    \n",
    "    # Recursive call to get combinations without the first element\n",
    "    without_first_element = generate_all_combinations(remaining_elements)\n",
    "    \n",
    "    # Combine first element with all combinations without it\n",
    "    with_first_element = []\n",
    "    for combination in without_first_element:\n",
    "        with_first_element.append([first_element] + combination)\n",
    "    \n",
    "    # Combine combinations with and without the first element\n",
    "    return with_first_element + without_first_element\n",
    "\n",
    "# Create a list\n",
    "list_1 = [1, 4, 8]\n",
    "\n",
    "# Compute combinations\n",
    "result = generate_all_combinations(list_1)\n",
    "\n",
    "# Print result\n",
    "print(f'All combination of elements of {list_1}')\n",
    "for combination in result:\n",
    "    print(combination)\n"
   ]
  },
  {
   "cell_type": "markdown",
   "metadata": {},
   "source": [
    "## Basics of Functions:\n"
   ]
  },
  {
   "cell_type": "markdown",
   "metadata": {},
   "source": [
    "### 1. What is a function in Python, and why is it used?\n"
   ]
  },
  {
   "cell_type": "markdown",
   "metadata": {},
   "source": [
    "Ans.\n",
    "\n",
    "> A function is a block of organized, reusable code that performs a specific task or set of tasks. It's a named sequence of statements that can be called, or \"invoked,\" as a unit. Functions are a fundamental building block in programming and play a crucial role in code organization, reusability, and modularity."
   ]
  },
  {
   "cell_type": "markdown",
   "metadata": {},
   "source": [
    "\n",
    "### 2. How do you define a function in Python? Provide an example."
   ]
  },
  {
   "cell_type": "markdown",
   "metadata": {},
   "source": [
    "Ans.\n",
    "\n",
    "> In Python, we define a function using the def keyword followed by the function name, a pair of parentheses (), and a colon :. Here's the basic syntax:\n",
    "\n",
    "#### Syntax:\n"
   ]
  },
  {
   "cell_type": "code",
   "execution_count": 2,
   "metadata": {},
   "outputs": [],
   "source": [
    "\n",
    "def function_name(parameters):\n",
    "    # Code for the function\n",
    "    # ...\n",
    "    return result"
   ]
  },
  {
   "cell_type": "markdown",
   "metadata": {},
   "source": [
    "Here's an example of a simple function that adds two numbers:"
   ]
  },
  {
   "cell_type": "code",
   "execution_count": 1,
   "metadata": {},
   "outputs": [
    {
     "data": {
      "text/plain": [
       "5"
      ]
     },
     "execution_count": 1,
     "metadata": {},
     "output_type": "execute_result"
    }
   ],
   "source": [
    "def add_numbers(a, b):\n",
    "    result = a + b\n",
    "    return result\n",
    "\n",
    "add_numbers(2, 3)"
   ]
  },
  {
   "cell_type": "markdown",
   "metadata": {},
   "source": [
    "In this example:\n",
    "\n",
    "* The function is named add_numbers.\n",
    "* It takes two parameters, a and b.\n",
    "* Inside the function, it calculates the sum of a and b and stores it in the variable result.\n",
    "* Finally, it uses return result to send the result back."
   ]
  },
  {
   "cell_type": "markdown",
   "metadata": {},
   "source": [
    "\n",
    "### 3. Explain the difference between a function definition and a function call."
   ]
  },
  {
   "cell_type": "markdown",
   "metadata": {},
   "source": [
    "Ans.\n",
    "\n",
    "> A function definition defines what a function does and its structure using the def keyword. A function call executes the defined function with specific arguments, invoking its behavior."
   ]
  },
  {
   "cell_type": "markdown",
   "metadata": {},
   "source": [
    "\n",
    "### 4. Write a Python program that defines a function to calculate the sum of two numbers and then calls the function."
   ]
  },
  {
   "cell_type": "code",
   "execution_count": 3,
   "metadata": {},
   "outputs": [
    {
     "data": {
      "text/plain": [
       "5"
      ]
     },
     "execution_count": 3,
     "metadata": {},
     "output_type": "execute_result"
    }
   ],
   "source": [
    "# Define function to calculate sum (add) of two numbers\n",
    "def add_numbers(a, b):\n",
    "    result = a + b\n",
    "    return result\n",
    "\n",
    "# Calls the funtion\n",
    "add_numbers(2, 3)"
   ]
  },
  {
   "cell_type": "markdown",
   "metadata": {},
   "source": [
    "\n",
    "### 5. What is a function signature, and what information does it typically include?"
   ]
  },
  {
   "cell_type": "markdown",
   "metadata": {},
   "source": [
    "A function signature is a summary of a function's essential details. It provides information about how the function can be used, what parameters it accepts, and what it returns. A typical function signature includes:\n",
    "\n",
    "#### Function Name:\n",
    "This is the name used to call the function. \n",
    "\n",
    "#### Parameters:\n",
    "This section lists the inputs (if any) that the function expects. Each parameter is accompanied by its name and type, and they are typically enclosed in parentheses.\n",
    "\n",
    "#### Return Type:\n",
    "This indicates the type of value that the function will return after its execution."
   ]
  },
  {
   "cell_type": "markdown",
   "metadata": {},
   "source": [
    "\n",
    "### 6. Create a Python function that takes two arguments and returns their product."
   ]
  },
  {
   "cell_type": "code",
   "execution_count": 5,
   "metadata": {},
   "outputs": [
    {
     "name": "stdout",
     "output_type": "stream",
     "text": [
      "The product of two number is: 50\n"
     ]
    }
   ],
   "source": [
    "# Function takes two arguments as input and returns the product\n",
    "def multiply_numbers(a,b):\n",
    "    return a * b\n",
    "\n",
    "# Printing the result\n",
    "print(f'The product of two number is: {multiply_numbers(5, 10)}')"
   ]
  },
  {
   "cell_type": "markdown",
   "metadata": {},
   "source": [
    "## Function Parameters and Arguments:"
   ]
  },
  {
   "cell_type": "markdown",
   "metadata": {},
   "source": [
    "### 1. Explain the concepts of formal parameters and actual arguments in Python functions.\n"
   ]
  },
  {
   "cell_type": "markdown",
   "metadata": {},
   "source": [
    "Ans. \n",
    "\n",
    "* Formal Parameters: \n",
    "These are variables listed in the function definition that act as placeholders for the values that will be passed into the function when it's called. They are like variables defined within the function's scope and represent the input data the function will work with.\n",
    "\n",
    "Example:"
   ]
  },
  {
   "cell_type": "code",
   "execution_count": 6,
   "metadata": {},
   "outputs": [],
   "source": [
    "def add(a, b):  # Here, 'a' and 'b' are formal parameters.\n",
    "    return a + b"
   ]
  },
  {
   "cell_type": "markdown",
   "metadata": {},
   "source": [
    "\n",
    "* Actual Arguments: \n",
    "These are the values or expressions that are passed to the function when it is called. They correspond to the formal parameters defined in the function's signature and provide the actual data that the function will operate on.\n",
    "\n",
    "Example:"
   ]
  },
  {
   "cell_type": "code",
   "execution_count": 7,
   "metadata": {},
   "outputs": [],
   "source": [
    "result = add(3, 5)  # Here, 3 and 5 are actual arguments passed to the 'add' function."
   ]
  },
  {
   "cell_type": "markdown",
   "metadata": {},
   "source": [
    "In the example above, a and b in the function definition are formal parameters, while 3 and 5 in the function call are actual arguments. The function will use these actual arguments to perform its operation."
   ]
  },
  {
   "cell_type": "markdown",
   "metadata": {},
   "source": [
    "\n",
    "### 2. Write a Python program that defines a function with default argument values."
   ]
  },
  {
   "cell_type": "code",
   "execution_count": 8,
   "metadata": {},
   "outputs": [
    {
     "name": "stdout",
     "output_type": "stream",
     "text": [
      "Area 1 (default values used): 1\n",
      "Area 2: 15\n"
     ]
    }
   ],
   "source": [
    "def calculate_rectangle_area(length=1, width=1):\n",
    "    '''\n",
    "    This function accepts length and width of rectangle with defaul value of 1.\n",
    "    '''\n",
    "    area = length * width\n",
    "    return area\n",
    "\n",
    "# Compute area\n",
    "default_rect_area = calculate_rectangle_area()\n",
    "area1 = calculate_rectangle_area(5, 3)\n",
    "\n",
    "# Print\n",
    "print(f\"Area 1 (default values used): {default_rect_area}\")\n",
    "print(f\"Area 2: {area1}\")"
   ]
  },
  {
   "cell_type": "markdown",
   "metadata": {},
   "source": [
    "### 3. How do you use keyword arguments in Python function calls? Provide an example."
   ]
  },
  {
   "cell_type": "markdown",
   "metadata": {},
   "source": [
    "Keyword arguments, also known as named arguments, are values passed into a function that can be recognized by their corresponding parameter names. They are indicated by placing the parameter name followed by an equals sign (=) before the value. operator, = .\n",
    "\n",
    "Certainly! Let's consider a function that calculates the area of a rectangle:"
   ]
  },
  {
   "cell_type": "code",
   "execution_count": 9,
   "metadata": {},
   "outputs": [],
   "source": [
    "def calculate_rectangle_area(length, width):\n",
    "    '''\n",
    "    This function accepts length and width of rectangle with defaul value of 1.\n",
    "    '''\n",
    "    area = length * width\n",
    "    return area"
   ]
  },
  {
   "cell_type": "markdown",
   "metadata": {},
   "source": [
    "Now, we can use keyword arguments to call this function:"
   ]
  },
  {
   "cell_type": "code",
   "execution_count": 10,
   "metadata": {},
   "outputs": [
    {
     "name": "stdout",
     "output_type": "stream",
     "text": [
      "Area 1: 15\n",
      "Area 2: 12\n"
     ]
    }
   ],
   "source": [
    "# Using keyword arguments\n",
    "area1 = calculate_rectangle_area(length=3, width=5)\n",
    "area2 = calculate_rectangle_area(width=4, length=3)\n",
    "\n",
    "# Print\n",
    "print(f\"Area 1: {area1}\")\n",
    "print(f\"Area 2: {area2}\")\n"
   ]
  },
  {
   "cell_type": "markdown",
   "metadata": {},
   "source": [
    "### 4. Create a Python function that accepts a variable number of arguments and calculates their sum."
   ]
  },
  {
   "cell_type": "code",
   "execution_count": 11,
   "metadata": {},
   "outputs": [
    {
     "name": "stdout",
     "output_type": "stream",
     "text": [
      "Result 1: 10\n",
      "Result 2: 40\n"
     ]
    }
   ],
   "source": [
    "def compute_sum(*args):\n",
    "    total_sum = 0\n",
    "    for num in args:\n",
    "        total_sum += num\n",
    "    return total_sum\n",
    "\n",
    "# Compute sums\n",
    "result1 = compute_sum(1, 2, 3, 4)\n",
    "result2 = compute_sum(4, 5, 6, 7, 8, 10)\n",
    "\n",
    "print(f\"Result 1: {result1}\")\n",
    "print(f\"Result 2: {result2}\")\n"
   ]
  },
  {
   "cell_type": "markdown",
   "metadata": {},
   "source": [
    "### 5. What is the purpose of the `*args` and `**kwargs` syntax in function parameter lists?"
   ]
  },
  {
   "cell_type": "markdown",
   "metadata": {},
   "source": [
    "The `*args` and `**kwargs` syntax in function parameter lists serve the purpose of allowing Python functions to accept a variable number of arguments, both positional and keyword arguments, respectively. They provide flexibility and versatility when defining functions. Here's what each syntax does:\n",
    "\n",
    "`*args` (Arbitrary Positional Arguments):\n",
    "\n",
    "* `*args` is used to collect any number of positional arguments into a tuple.\n",
    "* It allows you to pass an arbitrary number of positional arguments to the function.\n",
    "* The args variable can be any name you choose, but *args is a common convention.\n",
    "* You can think of `*args` as a way to pass multiple values to a function without having to specify each argument individually.\n",
    "\n",
    "Example of `*args`:"
   ]
  },
  {
   "cell_type": "code",
   "execution_count": null,
   "metadata": {},
   "outputs": [],
   "source": [
    "def compute_sum(*args):\n",
    "    total_sum = 0\n",
    "    for num in args:\n",
    "        total_sum += num\n",
    "    return total_sum\n",
    "\n",
    " # Accepts any number of positional arguments\n",
    "result = compute_sum(1, 2, 3, 4, 5) \n"
   ]
  },
  {
   "cell_type": "markdown",
   "metadata": {},
   "source": [
    "`**kwargs` (Arbitrary Keyword Arguments):\n",
    "\n",
    "* **kwargs is used to collect any number of keyword arguments into a dictionary.\n",
    "* It allows you to pass an arbitrary number of keyword arguments to the function.\n",
    "* The kwargs variable can be any name you choose, but **kwargs is a common convention.\n",
    "*  You can think of **kwargs as a way to pass multiple keyword-value pairs to a function without having to specify each pair individually.\n",
    "\n",
    "Example of `**kwargs`:"
   ]
  },
  {
   "cell_type": "code",
   "execution_count": 12,
   "metadata": {},
   "outputs": [
    {
     "name": "stdout",
     "output_type": "stream",
     "text": [
      "name: Robin\n",
      "age: 35\n",
      "city: Noida\n",
      "occupation: Software Developer\n"
     ]
    }
   ],
   "source": [
    "def print_key_value_details(**kwargs):\n",
    "    for key, value in kwargs.items():\n",
    "        print(f\"{key}: {value}\")\n",
    "\n",
    "# Print details\n",
    "print_key_value_details(name=\"Robin\", age=35, city=\"Noida\", occupation=\"Software Developer\")"
   ]
  },
  {
   "cell_type": "markdown",
   "metadata": {},
   "source": [
    "## Return Values and Scoping:"
   ]
  },
  {
   "cell_type": "markdown",
   "metadata": {},
   "source": [
    "### 1. Describe the role of the `return` statement in Python functions and provide examples."
   ]
  },
  {
   "cell_type": "markdown",
   "metadata": {},
   "source": []
  },
  {
   "cell_type": "markdown",
   "metadata": {},
   "source": [
    "### 2. Explain the concept of variable scope in Python, including local and global variables."
   ]
  },
  {
   "cell_type": "markdown",
   "metadata": {},
   "source": [
    "### 3. Write a Python program that demonstrates the use of global variables within functions."
   ]
  },
  {
   "cell_type": "markdown",
   "metadata": {},
   "source": [
    "### 4. Create a Python function that calculates the factorial of a number and returns it."
   ]
  },
  {
   "cell_type": "markdown",
   "metadata": {},
   "source": [
    "\n",
    "### 5. How can you access variables defined outside a function from within the function?"
   ]
  },
  {
   "cell_type": "markdown",
   "metadata": {},
   "source": [
    "## Lambda Functions and Higher-Order Functions:"
   ]
  },
  {
   "cell_type": "markdown",
   "metadata": {},
   "source": [
    "### 1. What are lambda functions in Python, and when are they typically used?\n",
    "### 2. Write a Python program that uses lambda functions to sort a list of tuples based on the second element.\n",
    "### 3. Explain the concept of higher-order functions in Python, and provide an example.\n",
    "### 4. Create a Python function that takes a list of numbers and a function as arguments, applying the function to each element in the list.\n"
   ]
  },
  {
   "cell_type": "markdown",
   "metadata": {},
   "source": [
    "## Built-in Functions:"
   ]
  },
  {
   "cell_type": "markdown",
   "metadata": {},
   "source": [
    "### 1. Describe the role of built-in functions like `len()`, `max()`, and `min()` in Python.\n",
    "### 2. Write a Python program that uses the `map()` function to apply a function to each element of a list.\n",
    "### 3. How does the `filter()` function work in Python, and when would you use it?\n",
    "### 4. Create a Python program that uses the `reduce()` function to find the product of all elements in a list.\n"
   ]
  },
  {
   "cell_type": "markdown",
   "metadata": {},
   "source": [
    "## Function Documentation and Best Practices:"
   ]
  },
  {
   "cell_type": "markdown",
   "metadata": {},
   "source": [
    "### 1. Explain the purpose of docstrings in Python functions and how to write them.\n",
    "### 2. Describe some best practices for naming functions and variables in Python, including naming conventions and guidelines."
   ]
  }
 ],
 "metadata": {
  "kernelspec": {
   "display_name": "base",
   "language": "python",
   "name": "python3"
  },
  "language_info": {
   "codemirror_mode": {
    "name": "ipython",
    "version": 3
   },
   "file_extension": ".py",
   "mimetype": "text/x-python",
   "name": "python",
   "nbconvert_exporter": "python",
   "pygments_lexer": "ipython3",
   "version": "3.11.4"
  },
  "orig_nbformat": 4
 },
 "nbformat": 4,
 "nbformat_minor": 2
}
