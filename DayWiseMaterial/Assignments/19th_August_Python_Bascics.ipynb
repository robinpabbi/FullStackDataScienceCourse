{
 "cells": [
  {
   "cell_type": "markdown",
   "id": "9e605e31-0d5c-4f02-8fd2-b524f8352eb0",
   "metadata": {
    "tags": []
   },
   "source": [
    "### Day 1 Python Basics Assignment\n",
    "\n",
    "### Basic variable based questions\n",
    "1. Declare two variables, `x` and `y`, and assign them integer values. Swap the values of these variables without using any temporary variable.\n",
    "\n",
    "2. Create a program that calculates the area of a rectangle. Take the length and width as inputs from the user and store them in variables. Calculate and display the area.\n",
    "\n",
    "3. Write a Python program that converts temperatures from Celsius to Fahrenheit. Take the temperature in Celsius as input, store it in a variable, convert it to Fahrenheit, and display the result.\n",
    "\n",
    "#### String based questions \n",
    "1. Write a Python program that takes a string as input and prints the length of the string.\n",
    "\n",
    "2. Create a program that takes a sentence from the user and counts the number of vowels (a, e, i, o, u) in the string.\n",
    "\n",
    "3. Given a string, reverse the order of characters using string slicing and print the reversed string.\n",
    "\n",
    "4. Write a program that takes a string as input and checks if it is a palindrome (reads the same forwards and backwards).\n",
    "\n",
    "5. Create a program that takes a string as input and removes all the spaces from it. Print the modified string without spaces.\n"
   ]
  },
  {
   "cell_type": "markdown",
   "id": "7ddc78ab-aec3-481c-a593-500863992974",
   "metadata": {},
   "source": [
    "## Basic variable based questions\n",
    "\n",
    "### 1. Declare two variables, x and y, and assign them integer values. Swap the values of these variables without using any temporary variable."
   ]
  },
  {
   "cell_type": "code",
   "execution_count": 1,
   "id": "861bc9c6-a194-441f-b0ef-26d36f30fe82",
   "metadata": {},
   "outputs": [
    {
     "data": {
      "text/plain": [
       "(79, 51)"
      ]
     },
     "execution_count": 1,
     "metadata": {},
     "output_type": "execute_result"
    }
   ],
   "source": [
    "# Declaring variables x and y and assigning value\n",
    "x = 51\n",
    "y = 79\n",
    "\n",
    "#Swaping value without using 3rd variable or temp variable\n",
    "x = x+y\n",
    "y = x-y\n",
    "x = x-y\n",
    "\n",
    "#Checking swapped values\n",
    "x, y"
   ]
  },
  {
   "cell_type": "markdown",
   "id": "06d5fe61-61c3-4e86-85ca-ee79d816cbd8",
   "metadata": {},
   "source": [
    "### 2. Create a program that calculates the area of a rectangle. Take the length and width as inputs from the user and store them in variables. Calculate and display the area."
   ]
  },
  {
   "cell_type": "code",
   "execution_count": 2,
   "id": "49e1bae0-bba1-4480-8d9e-8ba86ae14c68",
   "metadata": {},
   "outputs": [
    {
     "name": "stdin",
     "output_type": "stream",
     "text": [
      "Please enter the length of a Rectangle: 34\n",
      "Please enter the width of a Rectangle: 5\n"
     ]
    },
    {
     "name": "stdout",
     "output_type": "stream",
     "text": [
      "Area of a Rectangle is:  170.0\n"
     ]
    }
   ],
   "source": [
    "# Take Length and Width inputs from User\n",
    "length = float(input('Please enter the length of a Rectangle:'))\n",
    "\n",
    "width = float(input('Please enter the width of a Rectangle:'))\n",
    "\n",
    "#Calculate Area of Rectangle which equal to length * width\n",
    "\n",
    "area = length * width\n",
    "\n",
    "# Printing area\n",
    "print(\"Area of a Rectangle is: \", area)"
   ]
  },
  {
   "cell_type": "markdown",
   "id": "586521d2-74a0-43e0-a8ba-61a61bc78f43",
   "metadata": {},
   "source": [
    "### 3. Write a Python program that converts temperatures from Celsius to Fahrenheit. Take the temperature in Celsius as input, store it in a variable, convert it to Fahrenheit, and display the result."
   ]
  },
  {
   "cell_type": "code",
   "execution_count": 3,
   "id": "2bd82524-5e01-45d9-867e-b565d0dba751",
   "metadata": {},
   "outputs": [
    {
     "name": "stdin",
     "output_type": "stream",
     "text": [
      "Please enter a temperature in Celsius: 37\n"
     ]
    },
    {
     "name": "stdout",
     "output_type": "stream",
     "text": [
      "Temperature in Fahrenheit is:  98.6\n"
     ]
    }
   ],
   "source": [
    "#Take the temperature in Celsius as input, store it in a variable\n",
    "celsius_temp = float(input('Please enter a temperature in Celsius:'))\n",
    "\n",
    "#converts temperatures from Celsius to Fahrenheit\n",
    "fahrenteit_temp = (celsius_temp * 9/5) + 32\n",
    "\n",
    "#Printing temperature in Fahrenheit\n",
    "print('Temperature in Fahrenheit is: ', fahrenteit_temp)"
   ]
  },
  {
   "cell_type": "markdown",
   "id": "6a05f634-f797-412f-9c74-3496ec59da5a",
   "metadata": {},
   "source": [
    "## String based questions\n",
    "### 1. Write a Python program that takes a string as input and prints the length of the string.\n",
    "\n"
   ]
  },
  {
   "cell_type": "code",
   "execution_count": 4,
   "id": "bc5e6a9f-6f1a-4bd0-916e-70f0896f4784",
   "metadata": {},
   "outputs": [
    {
     "name": "stdin",
     "output_type": "stream",
     "text": [
      "Please enter a string: Robin Pabbi\n"
     ]
    },
    {
     "name": "stdout",
     "output_type": "stream",
     "text": [
      "Length of the string is:  11\n"
     ]
    }
   ],
   "source": [
    "#Takes a string as input \n",
    "user_input = input('Please enter a string:')\n",
    "\n",
    "#compute length\n",
    "length_of_str = len(user_input)\n",
    "\n",
    "#Prints the length of the string\n",
    "print('Length of the string is: ', length_of_str)"
   ]
  },
  {
   "cell_type": "markdown",
   "id": "0daddfc3-c475-4097-b450-935a261864aa",
   "metadata": {},
   "source": [
    "### 2. Create a program that takes a sentence from the user and counts the number of vowels (a, e, i, o, u) in the string."
   ]
  },
  {
   "cell_type": "code",
   "execution_count": 5,
   "id": "ab9084df-9906-4c11-b9fa-1c1d59bb0860",
   "metadata": {},
   "outputs": [
    {
     "name": "stdin",
     "output_type": "stream",
     "text": [
      "Enter your sentence:  Entering sentence to count number of vowels.\n"
     ]
    },
    {
     "name": "stdout",
     "output_type": "stream",
     "text": [
      "Entered sentence contains 14 vowels.\n"
     ]
    }
   ],
   "source": [
    "VOWELS = ['a', 'e', 'i', 'o', 'u']\n",
    "#Creating a function taking string as input and returning count of vowels\n",
    "def count_number_of_vowels(input_string:str)->int:\n",
    "    lower_case_str = input_string.lower()\n",
    "    count = 0\n",
    "    for char in lower_case_str:\n",
    "        if char in VOWELS:\n",
    "            count += 1\n",
    "    return count\n",
    "\n",
    "#Take input sentence from the user\n",
    "sentence = input('Enter your sentence: ')\n",
    "\n",
    "vowel_count = count_number_of_vowels(sentence)\n",
    "\n",
    "#Print Vowel Count\n",
    "print(f'Entered sentence contains {vowel_count} vowels.')"
   ]
  },
  {
   "cell_type": "markdown",
   "id": "d76a931b-74cd-4eb5-973f-6a3f8bdfa6d6",
   "metadata": {},
   "source": [
    "### 3. Given a string, reverse the order of characters using string slicing and print the reversed string."
   ]
  },
  {
   "cell_type": "code",
   "execution_count": 6,
   "id": "4b260098-47f3-4bfe-b4ad-cc7df1a7cda8",
   "metadata": {},
   "outputs": [
    {
     "name": "stdin",
     "output_type": "stream",
     "text": [
      "Enter string to reverse: Robin Pabbi\n"
     ]
    },
    {
     "name": "stdout",
     "output_type": "stream",
     "text": [
      "Reversed string is:\"ibbaP niboR\"\n"
     ]
    }
   ],
   "source": [
    "#Take a string input (Give a string)\n",
    "string_to_reverse = input('Enter string to reverse:')\n",
    "\n",
    "#Reverse of string\n",
    "reversed_string = string_to_reverse[::-1]\n",
    "\n",
    "#Print the reversed string\n",
    "print(f'Reversed string is:\"{reversed_string}\"')"
   ]
  },
  {
   "cell_type": "markdown",
   "id": "a1e17c62-282f-42aa-af5f-3f9c02cfa65e",
   "metadata": {},
   "source": [
    "### 4. Write a program that takes a string as input and checks if it is a palindrome (reads the same forwards and backwards)."
   ]
  },
  {
   "cell_type": "code",
   "execution_count": 7,
   "id": "6328eb21-7d5a-498c-a31f-e9576c2b57c0",
   "metadata": {},
   "outputs": [
    {
     "name": "stdin",
     "output_type": "stream",
     "text": [
      "Enter string to check for Palindrome: babab\n"
     ]
    },
    {
     "data": {
      "text/plain": [
       "True"
      ]
     },
     "execution_count": 7,
     "metadata": {},
     "output_type": "execute_result"
    }
   ],
   "source": [
    "''' Function to check for palindrome-\n",
    " although we can do it by traversing half of string with two pointers start and end\n",
    " but here we will reverse and compare strings because that was part of today's class\n",
    "'''\n",
    "def is_palindrome(s:str)->bool:\n",
    "    reverse_string = s[::-1]\n",
    "    return s == reverse_string\n",
    "\n",
    "#Take a string input (Give a string)\n",
    "string_to_check = input('Enter string to check for Palindrome:')\n",
    "\n",
    "#Check for palindrome\n",
    "is_palindrome(string_to_check)\n"
   ]
  },
  {
   "cell_type": "markdown",
   "id": "d8a9db3a-b407-4e8d-a563-ec8bd1f37238",
   "metadata": {},
   "source": [
    "### 5. Create a program that takes a string as input and removes all the spaces from it. Print the modified string without spaces."
   ]
  },
  {
   "cell_type": "code",
   "execution_count": 8,
   "id": "1069cdf5-a48d-434a-bbe3-d218dc9f12b0",
   "metadata": {},
   "outputs": [
    {
     "name": "stdin",
     "output_type": "stream",
     "text": [
      "Enter a string to remove spaces: String to remove SPACES\n"
     ]
    },
    {
     "name": "stdout",
     "output_type": "stream",
     "text": [
      "Modified string: StringtoremoveSPACES\n"
     ]
    }
   ],
   "source": [
    "#Take a string input\n",
    "str_to_remove_spaces = input('Enter a string to remove spaces:')\n",
    "\n",
    "#Remove spaces\n",
    "str_without_spaces = str_to_remove_spaces.replace(' ', '')\n",
    "\n",
    "#Print the modified string without spaces\n",
    "print(f'Modified string: {str_without_spaces}')"
   ]
  }
 ],
 "metadata": {
  "kernelspec": {
   "display_name": "Python 3 (ipykernel)",
   "language": "python",
   "name": "python3"
  },
  "language_info": {
   "codemirror_mode": {
    "name": "ipython",
    "version": 3
   },
   "file_extension": ".py",
   "mimetype": "text/x-python",
   "name": "python",
   "nbconvert_exporter": "python",
   "pygments_lexer": "ipython3",
   "version": "3.10.8"
  }
 },
 "nbformat": 4,
 "nbformat_minor": 5
}
