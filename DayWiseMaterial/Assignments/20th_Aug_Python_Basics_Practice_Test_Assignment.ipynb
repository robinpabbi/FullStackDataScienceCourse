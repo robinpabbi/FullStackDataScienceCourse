{
  "nbformat": 4,
  "nbformat_minor": 0,
  "metadata": {
    "colab": {
      "provenance": []
    },
    "kernelspec": {
      "name": "python3",
      "display_name": "Python 3"
    },
    "language_info": {
      "name": "python"
    }
  },
  "cells": [
    {
      "cell_type": "markdown",
      "source": [
        "# This is practice test on the String Based Problems"
      ],
      "metadata": {
        "id": "rqaKSZ7_BfaB"
      }
    },
    {
      "cell_type": "markdown",
      "source": [
        "### 1. Write a program to reverse a string."
      ],
      "metadata": {
        "id": "n6DUob9LCYY_"
      }
    },
    {
      "cell_type": "code",
      "execution_count": null,
      "metadata": {
        "colab": {
          "base_uri": "https://localhost:8080/"
        },
        "id": "gDK3KvKhBKu8",
        "outputId": "7e7450ef-08d6-48f4-ba89-6ae5f1e77ea6"
      },
      "outputs": [
        {
          "output_type": "stream",
          "name": "stdout",
          "text": [
            "Enter a string to reverse:Hello, this is a string to reverse.\n",
            ".esrever ot gnirts a si siht ,olleH\n"
          ]
        }
      ],
      "source": [
        "# Take input string from user\n",
        "string_to_reverse = input('Enter a string to reverse:')\n",
        "\n",
        "# Reversing a string\n",
        "reversed_string = string_to_reverse[::-1]\n",
        "\n",
        "# Printing reversed string\n",
        "print(reversed_string)"
      ]
    },
    {
      "cell_type": "markdown",
      "source": [
        "### 2. Check if a string is a palindrome."
      ],
      "metadata": {
        "id": "986iEaggDJ2M"
      }
    },
    {
      "cell_type": "code",
      "source": [
        "# Creating a function to return True if Palindrome, else False\n",
        "def is_palindrome(string_to_check:str) -> bool:\n",
        "  reverse_of_string = string_to_check[::-1]\n",
        "  return reverse_of_string == string_to_check\n",
        "\n",
        "# Take input string from user\n",
        "string_to_check = input('Enter a string to check:')\n",
        "\n",
        "# Checking string for Palindrome\n",
        "palindrome = is_palindrome(string_to_check)\n",
        "\n",
        "# Print whether Palindrome or not\n",
        "print(palindrome)"
      ],
      "metadata": {
        "colab": {
          "base_uri": "https://localhost:8080/"
        },
        "id": "-Hh8a6MABZOf",
        "outputId": "6acdc50c-b9fc-4f96-99a7-78d0d3050e44"
      },
      "execution_count": null,
      "outputs": [
        {
          "output_type": "stream",
          "name": "stdout",
          "text": [
            "Enter a string to check:babab\n",
            "True\n"
          ]
        }
      ]
    },
    {
      "cell_type": "markdown",
      "source": [
        "### 3. Convert a string to uppercase."
      ],
      "metadata": {
        "id": "aftOuxOHFGaB"
      }
    },
    {
      "cell_type": "code",
      "source": [
        "# Take input string from user\n",
        "string_input_1 = input('Enter a string to convert to Upper Case:')\n",
        "\n",
        "# Coverting to UpperCase\n",
        "upper_case_str = string_input_1.upper()\n",
        "\n",
        "# Printing output\n",
        "print(f'Uppercase string is: {upper_case_str}')"
      ],
      "metadata": {
        "colab": {
          "base_uri": "https://localhost:8080/"
        },
        "id": "Ksb9ijgzE2gO",
        "outputId": "ca669988-27d6-4849-ba49-1c490a322bf9"
      },
      "execution_count": null,
      "outputs": [
        {
          "output_type": "stream",
          "name": "stdout",
          "text": [
            "Enter a string to convert to Upper Case:Robin Pabbi\n",
            "Uppercase string is: ROBIN PABBI\n"
          ]
        }
      ]
    },
    {
      "cell_type": "markdown",
      "source": [
        "### 4. Convert a string to lowercase."
      ],
      "metadata": {
        "id": "dWr3hQJvGksH"
      }
    },
    {
      "cell_type": "code",
      "source": [
        "# Take input string from user\n",
        "string_input_2 = input('Enter a string to convert to Lower Case:')\n",
        "\n",
        "# Coverting to LowerCase\n",
        "lower_case_str = string_input_2.lower()\n",
        "\n",
        "# Printing output\n",
        "print(f'LowerCase string is: {lower_case_str}')"
      ],
      "metadata": {
        "colab": {
          "base_uri": "https://localhost:8080/"
        },
        "id": "jULp1vYGFbzn",
        "outputId": "c99e551b-4bfe-49b9-a396-f69d53ceaec1"
      },
      "execution_count": null,
      "outputs": [
        {
          "output_type": "stream",
          "name": "stdout",
          "text": [
            "Enter a string to convert to Lower Case:Robin Pabbi\n",
            "LowerCase string is: robin pabbi\n"
          ]
        }
      ]
    },
    {
      "cell_type": "markdown",
      "source": [
        "### 5. Count the number of vowels in a string."
      ],
      "metadata": {
        "id": "PnMH4lxdG9pC"
      }
    },
    {
      "cell_type": "code",
      "source": [
        "# Keeping the list of vowels to check from\n",
        "VOWELS = ['a', 'e', 'i', 'o', 'u', 'A', 'E', 'I', 'O', 'U']\n",
        "\n",
        "# Function to check count of Vowels\n",
        "def count_vowels(string_to_check:str) -> int:\n",
        "  count:int = 0\n",
        "  for vowel in VOWELS:\n",
        "    count += string_to_check.count(vowel)\n",
        "  return count\n",
        "\n",
        "# Take input string from user\n",
        "string_to_count_vowels = input('Enter a string to check count of Vowels:')\n",
        "\n",
        "# Count number of vowels\n",
        "count_of_vowels = count_vowels(string_to_count_vowels)\n",
        "\n",
        "# Print number of vowels in string\n",
        "print(f'Number of vowels: {count_of_vowels}')"
      ],
      "metadata": {
        "colab": {
          "base_uri": "https://localhost:8080/"
        },
        "id": "k53LgdGSGiPP",
        "outputId": "c2e7c85c-18f9-4025-e172-d4d7b034d1ef"
      },
      "execution_count": null,
      "outputs": [
        {
          "output_type": "stream",
          "name": "stdout",
          "text": [
            "Enter a string to check count of Vowels:Robin Pabbi\n",
            "Number of vowels: 4\n"
          ]
        }
      ]
    },
    {
      "cell_type": "markdown",
      "source": [
        "### 6. Count the number of consonants in a string."
      ],
      "metadata": {
        "id": "BfpOMbZ_LtKf"
      }
    },
    {
      "cell_type": "code",
      "source": [
        "# Approach: Here we are going to count the number of vowels and then subtract it from length of string\n",
        "# List on consonants is long so iterating in consonants is right approach, so using above approach\n",
        "\n",
        "# For completeness will redefine the VOWELS list here, so that solution is independent and complete\n",
        "VOWELS = ['a', 'e', 'i', 'o', 'u', 'A', 'E', 'I', 'O', 'U']\n",
        "\n",
        "# Function to check count of Vowels\n",
        "def count_consonants(string_to_check:str) -> int:\n",
        "  vowel_count:int = 0\n",
        "  for vowel in VOWELS:\n",
        "    vowel_count += string_to_check.count(vowel)\n",
        "  return len(string_to_check) - vowel_count\n",
        "\n",
        "# Take input string from user\n",
        "string_to_count_consonants = input('Enter a string to check count of Consonants:')\n",
        "\n",
        "# Count number of vowels\n",
        "count_of_consonants = count_consonants(string_to_count_consonants)\n",
        "\n",
        "# Print number of vowels in string\n",
        "print(f'Number of consonants: {count_of_consonants}')"
      ],
      "metadata": {
        "colab": {
          "base_uri": "https://localhost:8080/"
        },
        "id": "Rt3-LCA9HVmQ",
        "outputId": "e7cb38ee-441a-4e04-b597-cb18d9d6b653"
      },
      "execution_count": null,
      "outputs": [
        {
          "output_type": "stream",
          "name": "stdout",
          "text": [
            "Enter a string to check count of Consonants:Robin Pabbi checking count of consonants\n",
            "Number of consonants: 28\n"
          ]
        }
      ]
    },
    {
      "cell_type": "markdown",
      "source": [
        "### 7. Remove all whitespaces from a string."
      ],
      "metadata": {
        "id": "_Nbra5KXSRM_"
      }
    },
    {
      "cell_type": "code",
      "source": [
        "# Approach - replace all the spaces with empty string\n",
        "\n",
        "# Take input string from user\n",
        "string_to_remove_whitespaces = input('Enter a string to remove white spaces:')\n",
        "\n",
        "# Removing whitespaces\n",
        "string_without_whitespaces = string_to_remove_whitespaces.replace(' ', '')\n",
        "\n",
        "# Print string without whitespaces\n",
        "print(f'String without spaces: {string_without_whitespaces}')"
      ],
      "metadata": {
        "colab": {
          "base_uri": "https://localhost:8080/"
        },
        "id": "wSLHp0HbSHKm",
        "outputId": "d36b034a-f86f-4038-8c75-fe3465a77845"
      },
      "execution_count": null,
      "outputs": [
        {
          "output_type": "stream",
          "name": "stdout",
          "text": [
            "Enter a string to remove white spaces:I am a software developer. I love coding.\n",
            "String without spaces: Iamasoftwaredeveloper.Ilovecoding.\n"
          ]
        }
      ]
    },
    {
      "cell_type": "markdown",
      "source": [
        "### 8. Find the length of a string without using the `len()` function."
      ],
      "metadata": {
        "id": "ja7qgj-pUI4Z"
      }
    },
    {
      "cell_type": "code",
      "source": [
        "# Approach iterate on string and increment counter variable\n",
        "\n",
        "# Function with code of fining length\n",
        "def length(string_input) -> int:\n",
        "  count = 0\n",
        "  for char in string_input:\n",
        "    count += 1\n",
        "  return count\n",
        "\n",
        "\n",
        "# Take input string from user\n",
        "string_to_find_lenght = input('Enter a string:')\n",
        "\n",
        "# Retrieve Length\n",
        "length_of_string = length(string_to_find_lenght)\n",
        "\n",
        "# Print length of string\n",
        "print(f'Length of string: {length_of_string}')"
      ],
      "metadata": {
        "colab": {
          "base_uri": "https://localhost:8080/"
        },
        "id": "jK1PIoTfTloI",
        "outputId": "dc6ca9b8-24aa-48d5-9676-c43bc525ad72"
      },
      "execution_count": null,
      "outputs": [
        {
          "output_type": "stream",
          "name": "stdout",
          "text": [
            "Enter a string:Robin Pabbi\n",
            "Length of string: 11\n"
          ]
        }
      ]
    },
    {
      "cell_type": "markdown",
      "source": [
        "### 9. Check if a string contains a specific word."
      ],
      "metadata": {
        "id": "tjS_NKKpIeTh"
      }
    },
    {
      "cell_type": "code",
      "source": [
        "# Approach - try to find index of first occurence of the word, if not -1 then it exists\n",
        "# Assumption - We treat words to be case sensitive\n",
        "# if we want to do case insensitive search then we have to convert string and word to same case\n",
        "\n",
        "# Take input string from user\n",
        "string_to_search = input('Enter a string:')\n",
        "\n",
        "# Take word to search from above string\n",
        "word_to_search = input('Enter a word to search in string:')\n",
        "\n",
        "# Find the index of word in the string\n",
        "indx = string_to_search.find(word_to_search)\n",
        "\n",
        "# Print if exists or not\n",
        "print(f'Word exists in string: {indx > -1}')"
      ],
      "metadata": {
        "colab": {
          "base_uri": "https://localhost:8080/"
        },
        "id": "2SyFPeLOIR-a",
        "outputId": "eee14350-5369-4c02-88f1-285de27609fa"
      },
      "execution_count": null,
      "outputs": [
        {
          "output_type": "stream",
          "name": "stdout",
          "text": [
            "Enter a string:Hello how are you?\n",
            "Enter a word to search in string:how\n",
            "Word exists in string: True\n"
          ]
        }
      ]
    },
    {
      "cell_type": "markdown",
      "source": [
        "### 10. Replace a word in a string with another word."
      ],
      "metadata": {
        "id": "AxnMCVTwK35X"
      }
    },
    {
      "cell_type": "code",
      "source": [
        "# Approach - use replace function\n",
        "\n",
        "# Take input string from user\n",
        "string_inpt = input('Enter a string:')\n",
        "\n",
        "# Take word to replace from above string\n",
        "word_to_replace = input('Enter a word to replace in string:')\n",
        "\n",
        "# Take word input - this word should replace above inputted word from string if exists\n",
        "word_to_replace_with = input(f'Enter a word which will replace \"{word_to_replace}\":')\n",
        "\n",
        "# Replace word in string\n",
        "replaced_string = string_inpt.replace(word_to_replace, word_to_replace_with)\n",
        "\n",
        "# Print string after replace\n",
        "print(f'Replaced string: {replaced_string}')"
      ],
      "metadata": {
        "colab": {
          "base_uri": "https://localhost:8080/"
        },
        "id": "xvnqZq6bKa8H",
        "outputId": "f681b46d-0e01-41ce-b694-4476be958f5c"
      },
      "execution_count": null,
      "outputs": [
        {
          "output_type": "stream",
          "name": "stdout",
          "text": [
            "Enter a string:This is a string for replacement.\n",
            "Enter a word to replace in string:for\n",
            "Enter a word which will replace \"for\":after\n",
            "Replaced string: This is a string after replacement.\n"
          ]
        }
      ]
    },
    {
      "cell_type": "markdown",
      "source": [
        "### 11. Count the occurrences of a word in a string."
      ],
      "metadata": {
        "id": "fCIsJqToOvkn"
      }
    },
    {
      "cell_type": "code",
      "source": [
        "# Approach - convert string to list of words and then count the occurences\n",
        "# Although we can count function directly but in that case it will not count words but substrings\n",
        "# Like in 'wordwordword', substring count of 'word' will be 3 but word count will be 0\n",
        "\n",
        "def count_occurences_of_word(string_input:str, word_to_compare:str) -> int:\n",
        "  # get list of words\n",
        "  list_of_words = string_input.split(' ')\n",
        "  count_of_occurences = 0\n",
        "  # Iterate the words list\n",
        "  for word in list_of_words:\n",
        "    if word == word_to_compare:\n",
        "      count_of_occurences += 1\n",
        "\n",
        "  return count_of_occurences\n",
        "\n",
        "# Take input string from user\n",
        "string_inpt = input('Enter a string:')\n",
        "\n",
        "# Take word to replace from above string\n",
        "word_to_count_occurences = input('Enter a word to count in string:')\n",
        "\n",
        "# Count the number of occurences\n",
        "count_of_word_occurences = count_occurences_of_word(string_inpt, word_to_count_occurences)\n",
        "\n",
        "# Print Occurences\n",
        "print(f'Number of occurrences: {count_of_word_occurences}')"
      ],
      "metadata": {
        "colab": {
          "base_uri": "https://localhost:8080/"
        },
        "id": "g0QcmMSSMXTx",
        "outputId": "7db9ccd9-4dc3-4d17-9aa1-7ef26f87516b"
      },
      "execution_count": null,
      "outputs": [
        {
          "output_type": "stream",
          "name": "stdout",
          "text": [
            "Enter a string:This is a sentence of words where we are counting the occurrence of words\n",
            "Enter a word to count in string:words\n",
            "Number of occurrences: 2\n"
          ]
        }
      ]
    },
    {
      "cell_type": "markdown",
      "source": [
        "### 12. Find the first occurrence of a word in a string."
      ],
      "metadata": {
        "id": "L_cqidLIOwJ_"
      }
    },
    {
      "cell_type": "code",
      "source": [
        "# Approach - use the find method to find the index of first occurence\n",
        "\n",
        "# Take input string from user\n",
        "string_inpt = input('Enter a string:')\n",
        "\n",
        "# Take word to find first occurrence in the string\n",
        "word_to_find_first_occurence = input('Enter a word to find in string:')\n",
        "\n",
        "# Find the first index of word\n",
        "first_index = string_inpt.find(word_to_find_first_occurence)\n",
        "\n",
        "# Print the result\n",
        "if first_index == -1:\n",
        "  print('Could not find the given word.')\n",
        "else:\n",
        "  print(f\"Given word's fist occurence is present at index: {first_index} in the string.\")"
      ],
      "metadata": {
        "colab": {
          "base_uri": "https://localhost:8080/"
        },
        "id": "V3kUqrtOOwiR",
        "outputId": "06c116ab-87b0-4598-99b2-78194804d49a"
      },
      "execution_count": null,
      "outputs": [
        {
          "output_type": "stream",
          "name": "stdout",
          "text": [
            "Enter a string:This is a sentence of words where we are counting the occurrence of words\n",
            "Enter a word to find in string:words\n",
            "Given word's fist occurence is present at index: 22\n"
          ]
        }
      ]
    },
    {
      "cell_type": "markdown",
      "source": [
        "### 13. Find the last occurrence of a word in a string."
      ],
      "metadata": {
        "id": "zBhK6xTmUuMK"
      }
    },
    {
      "cell_type": "code",
      "source": [
        "# Approach - use the rfind method to find the index of last occurence\n",
        "\n",
        "# Take input string from user\n",
        "string_inpt = input('Enter a string:')\n",
        "\n",
        "# Take word to find last occurrence in the string\n",
        "word_to_find_last_occurence = input('Enter a word to find in string:')\n",
        "\n",
        "# Find the last index of word\n",
        "last_index = string_inpt.rfind(word_to_find_last_occurence)\n",
        "\n",
        "# Print the result\n",
        "if last_index == -1:\n",
        "  print('Could not find the given word.')\n",
        "else:\n",
        "  print(f\"Given word's last occurence is present at index: {last_index} in the string.\")"
      ],
      "metadata": {
        "colab": {
          "base_uri": "https://localhost:8080/"
        },
        "id": "AGswpuqsUQCX",
        "outputId": "7a1f9a77-041e-459a-a227-f0330229001f"
      },
      "execution_count": null,
      "outputs": [
        {
          "output_type": "stream",
          "name": "stdout",
          "text": [
            "Enter a string:This is a sentence of words where we are counting the occurrence of words\n",
            "Enter a word to find in string:words\n",
            "Given word's last occurence is present at index: 68 in the string.\n"
          ]
        }
      ]
    },
    {
      "cell_type": "markdown",
      "source": [
        "### 14. Split a string into a list of words."
      ],
      "metadata": {
        "id": "604Qv0N9VN-r"
      }
    },
    {
      "cell_type": "code",
      "source": [
        "# Approach - use split function\n",
        "\n",
        "# Take input string from user\n",
        "string_inpt = input('Enter a string:')\n",
        "\n",
        "# Split the string with space\n",
        "list_of_words = string_inpt.split(' ')\n",
        "\n",
        "# Splitted string print\n",
        "print(list_of_words)"
      ],
      "metadata": {
        "colab": {
          "base_uri": "https://localhost:8080/"
        },
        "id": "PsKDNmyRVC3_",
        "outputId": "ac613021-b9de-4ffb-e972-976402d79e30"
      },
      "execution_count": null,
      "outputs": [
        {
          "output_type": "stream",
          "name": "stdout",
          "text": [
            "Enter a string:Here is a sentence with some words in it\n",
            "['Here', 'is', 'a', 'sentence', 'with', 'some', 'words', 'in', 'it']\n"
          ]
        }
      ]
    },
    {
      "cell_type": "markdown",
      "source": [
        "### 15. Join a list of words into a string."
      ],
      "metadata": {
        "id": "RRAUJfs_W1Rr"
      }
    },
    {
      "cell_type": "code",
      "source": [
        "# Approach - Use join funtion with space delimiter to that we get the sentence with words\n",
        "\n",
        "# List of words\n",
        "list_of_words  = ['Here', 'is', 'a', 'sentence', 'with', 'some', 'words', 'in', 'it']\n",
        "\n",
        "# Joining the words\n",
        "joined_string = ' '.join(list_of_words)\n",
        "\n",
        "# print result\n",
        "print(joined_string)"
      ],
      "metadata": {
        "colab": {
          "base_uri": "https://localhost:8080/"
        },
        "id": "EEuXDz2RWtgP",
        "outputId": "ef39c650-fd28-4cd1-a5b9-1032bba34cb9"
      },
      "execution_count": null,
      "outputs": [
        {
          "output_type": "stream",
          "name": "stdout",
          "text": [
            "Here is a sentence with some words in it\n"
          ]
        }
      ]
    },
    {
      "cell_type": "markdown",
      "source": [
        "### 16. Convert a string where words are separated by spaces to one where words are separated by underscores.\n"
      ],
      "metadata": {
        "id": "miGu6c07Zr2x"
      }
    },
    {
      "cell_type": "code",
      "source": [
        "# Approach - simply replace spaces with underscores(_) in string\n",
        "\n",
        "# Take input string from user\n",
        "string_inpt = input('Enter a string:')\n",
        "\n",
        "# Replace ' ' with '_' in string\n",
        "string_with_spaces_replaced = string_inpt.replace(' ', '_')\n",
        "\n",
        "# Print result\n",
        "print(string_with_spaces_replaced)"
      ],
      "metadata": {
        "colab": {
          "base_uri": "https://localhost:8080/"
        },
        "id": "6lV3C0N7ZoLW",
        "outputId": "a3671fcd-499b-4375-a2a6-011f35375019"
      },
      "execution_count": null,
      "outputs": [
        {
          "output_type": "stream",
          "name": "stdout",
          "text": [
            "Enter a string:Here is a sentence with some words in it\n",
            "Here_is_a_sentence_with_some_words_in_it\n"
          ]
        }
      ]
    },
    {
      "cell_type": "markdown",
      "source": [
        "### 17. Check if a string starts with a specific word or phrase."
      ],
      "metadata": {
        "id": "RVj5KQTScofK"
      }
    },
    {
      "cell_type": "code",
      "source": [
        "# Approach - use function startswith\n",
        "\n",
        "# Take input string from user\n",
        "string_inpt = input('Enter a string:')\n",
        "\n",
        "# check if string starts with 'The'\n",
        "starts_with_the = string_inpt.startswith('The')\n",
        "\n",
        "# Print Result\n",
        "print(starts_with_the)"
      ],
      "metadata": {
        "colab": {
          "base_uri": "https://localhost:8080/"
        },
        "id": "Pz2TJfe1cj8-",
        "outputId": "0d56fc55-7b25-447c-bfdd-4d252929deb3"
      },
      "execution_count": null,
      "outputs": [
        {
          "output_type": "stream",
          "name": "stdout",
          "text": [
            "Enter a string:The Himalayan Range.\n",
            "True\n"
          ]
        }
      ]
    },
    {
      "cell_type": "markdown",
      "source": [
        "### 18. Check if a string ends with a specific word or phrase."
      ],
      "metadata": {
        "id": "oOTloCcdegrt"
      }
    },
    {
      "cell_type": "code",
      "source": [
        "# Approach - use function endswith\n",
        "\n",
        "# Take input string from user\n",
        "string_inpt = input('Enter a string:')\n",
        "\n",
        "# check if string starts with 'The'\n",
        "starts_with_the = string_inpt.endswith('.')\n",
        "\n",
        "# Print Result\n",
        "print(starts_with_the)"
      ],
      "metadata": {
        "id": "lrJyEA5IdPTq"
      },
      "execution_count": null,
      "outputs": []
    },
    {
      "cell_type": "markdown",
      "source": [
        "### 19. Convert a string to title case (e.g., \"hello world\" to \"Hello World\")."
      ],
      "metadata": {
        "id": "5B4FqZ9S3tjI"
      }
    },
    {
      "cell_type": "code",
      "source": [
        "# Approach - Use title inbuilt-function\n",
        "\n",
        "# Take input string from user\n",
        "string_inpt = input('Enter a string:')\n",
        "\n",
        "# Convert string to Title Case\n",
        "title_case_str = string_inpt.title()\n",
        "\n",
        "# Print Title Case string\n",
        "print(f'Title case of string is: {title_case_str}')"
      ],
      "metadata": {
        "colab": {
          "base_uri": "https://localhost:8080/"
        },
        "id": "VDhG_UY93uEx",
        "outputId": "a77de567-d964-426e-c005-1aaf050dafaa"
      },
      "execution_count": 24,
      "outputs": [
        {
          "output_type": "stream",
          "name": "stdout",
          "text": [
            "Enter a string:hello world\n",
            "Title case of string is: Hello World\n"
          ]
        }
      ]
    },
    {
      "cell_type": "markdown",
      "source": [
        "### 20. Find the longest word in a string.\n"
      ],
      "metadata": {
        "id": "mTWlYLH_3ukF"
      }
    },
    {
      "cell_type": "code",
      "source": [
        "# Approach - We will take list of words from string then sort it according to length\n",
        "# Since sorting default (ascending order) so last item is the Max length word\n",
        "\n",
        "\n",
        "# Take input string from user\n",
        "string_inpt = input('Enter a string:')\n",
        "\n",
        "# Split string into words\n",
        "list_of_words = string_inpt.split(' ')\n",
        "\n",
        "# Get sorted list of words as per length of word\n",
        "sorted_words_by_length = sorted(list_of_words, key= len)\n",
        "\n",
        "# Get Longest word\n",
        "longest_word = sorted_words_by_length[-1]\n",
        "\n",
        "# Print the longest word\n",
        "print(f'Longest word in the string is: {longest_word}')"
      ],
      "metadata": {
        "colab": {
          "base_uri": "https://localhost:8080/"
        },
        "id": "pyz0AgqU3u40",
        "outputId": "98470af0-404d-4da3-8540-4635afdb7327"
      },
      "execution_count": 25,
      "outputs": [
        {
          "output_type": "stream",
          "name": "stdout",
          "text": [
            "Enter a string:He is a string to check the longest word in it.\n",
            "Longest word in the string is: longest\n"
          ]
        }
      ]
    },
    {
      "cell_type": "markdown",
      "source": [
        "### 21. Find the shortest word in a string."
      ],
      "metadata": {
        "id": "w7Teu_vX3wJF"
      }
    },
    {
      "cell_type": "code",
      "source": [
        "# Approach - We will take list of words from string then sort it according to length\n",
        "# Since sorting default (ascending order) so first item is the min length word i.e shortest\n",
        "# Here we will create a function to get shortest length word\n",
        "\n",
        "# Function definition - Takes a string as input and return Shortest word\n",
        "def get_shortest_word(string_input:str) -> str:\n",
        "  # Get list of words\n",
        "  list_of_words = string_input.split(' ')\n",
        "\n",
        "  # Get sorted list of words as per length of word\n",
        "  sorted_words_by_length = sorted(list_of_words, key= len)\n",
        "\n",
        "  # return the shortest word i.e. first word\n",
        "  return sorted_words_by_length[0]\n",
        "\n",
        "\n",
        "# Take input string from user\n",
        "string_inpt = input('Enter a string:')\n",
        "\n",
        "# Get shortest word\n",
        "shortest_word = get_shortest_word(string_inpt)\n",
        "\n",
        "# Print the longest word\n",
        "print(f'Shortest word in the string is: {shortest_word}')"
      ],
      "metadata": {
        "colab": {
          "base_uri": "https://localhost:8080/"
        },
        "id": "aUO1qNju3wkT",
        "outputId": "0583ceca-6048-4643-c43b-01376db19a6c"
      },
      "execution_count": 26,
      "outputs": [
        {
          "output_type": "stream",
          "name": "stdout",
          "text": [
            "Enter a string:Here is a string to check the longest word in it.\n",
            "Shortest word in the string is: a\n"
          ]
        }
      ]
    },
    {
      "cell_type": "markdown",
      "source": [
        "### 22. Reverse the order of words in a string."
      ],
      "metadata": {
        "id": "wyfhLcKX7AFv"
      }
    },
    {
      "cell_type": "code",
      "source": [
        "# Approach - Since we need to reverse the order of words, we can not simply reverse the string\n",
        "# here we will first get list of words and then reverse it\n",
        "# then we will join the reverse list of words to string\n",
        "\n",
        "# Function - takes input as string and return the string with reversed order of words\n",
        "def reversed_order_words(string_input:str) -> str:\n",
        "  # Get list of words\n",
        "  list_of_words = string_input.split(' ')\n",
        "\n",
        "  # Reverse of list of words\n",
        "  reversed_list = list_of_words[::-1]\n",
        "\n",
        "  # Join the list of words to string\n",
        "  outcome = ' '.join(reversed_list)\n",
        "\n",
        "  # Return the result\n",
        "  return outcome\n",
        "\n",
        "\n",
        "# Take input string from user\n",
        "string_inpt = input('Enter a string:')\n",
        "\n",
        "# Get the reversed order words in the string\n",
        "reversed_ordered_words = reversed_order_words(string_inpt)\n",
        "\n",
        "# Print the result\n",
        "print(f'Reversed order of words : {reversed_ordered_words}')"
      ],
      "metadata": {
        "colab": {
          "base_uri": "https://localhost:8080/"
        },
        "id": "gMN4TojI66N0",
        "outputId": "6b7f6f08-27be-4925-fe40-52ddbba722ea"
      },
      "execution_count": 28,
      "outputs": [
        {
          "output_type": "stream",
          "name": "stdout",
          "text": [
            "Enter a string:Here is a sentence\n",
            "Reversed order of words : sentence a is Here\n"
          ]
        }
      ]
    },
    {
      "cell_type": "markdown",
      "source": [
        "### 23. Check if a string is alphanumeric."
      ],
      "metadata": {
        "id": "VFRrvKTc8Lc9"
      }
    },
    {
      "cell_type": "code",
      "source": [
        "# Approach - Use the isalnum() inbuit function\n",
        "\n",
        "# Take input string from user\n",
        "string_inpt = input('Enter a string:')\n",
        "\n",
        "# Check if string is alphanumeric\n",
        "is_alpha_numeric_str = string_inpt.isalnum()\n",
        "\n",
        "# Print result\n",
        "print(is_alpha_numeric_str)"
      ],
      "metadata": {
        "colab": {
          "base_uri": "https://localhost:8080/"
        },
        "id": "o9rhd13I8CGU",
        "outputId": "3fa2344b-37bd-473a-ca09-db3c16777434"
      },
      "execution_count": 29,
      "outputs": [
        {
          "output_type": "stream",
          "name": "stdout",
          "text": [
            "Enter a string:whei234324\n",
            "True\n"
          ]
        }
      ]
    },
    {
      "cell_type": "markdown",
      "source": [
        "### 24. Extract all digits from a string."
      ],
      "metadata": {
        "id": "MTyXjcgO8wGw"
      }
    },
    {
      "cell_type": "code",
      "source": [
        "# Approach - Here i will try to use list comprehension\n",
        "# Iterate the string for each characters and add to the list if it is digit (isdigit)\n",
        "\n",
        "# Take input string from user\n",
        "string_inpt = input('Enter a string:')\n",
        "\n",
        "# Split the string and iterate using list comprehension\n",
        "all_digits = [int(char) for char in string_inpt if char.isdigit()]\n",
        "\n",
        "# Print result\n",
        "print(f'List of digits: {all_digits}')"
      ],
      "metadata": {
        "colab": {
          "base_uri": "https://localhost:8080/"
        },
        "id": "5b7nCZPd8qwV",
        "outputId": "0a12470a-081a-451e-a972-93e3047a2e8e"
      },
      "execution_count": 38,
      "outputs": [
        {
          "output_type": "stream",
          "name": "stdout",
          "text": [
            "Enter a string:Here is a string with 2 3 4 digits 2 in it 5 6 7 56777886\n",
            "List of digits: [2, 3, 4, 2, 5, 6, 7, 5, 6, 7, 7, 7, 8, 8, 6]\n"
          ]
        }
      ]
    },
    {
      "cell_type": "markdown",
      "source": [
        "### 25. Extract all alphabets from a string."
      ],
      "metadata": {
        "id": "YrSJ4tu9-UOn"
      }
    },
    {
      "cell_type": "code",
      "source": [
        "# Approach - Here i will try to use list comprehension\n",
        "# Iterate the string for each characters and add to the list if it isalpha (isalpha)\n",
        "\n",
        "# Take input string from user\n",
        "string_inpt = input('Enter a string:')\n",
        "\n",
        "# Split the string and iterate using list comprehension\n",
        "all_alphabets = [char for char in string_inpt if char.isalpha()]\n",
        "\n",
        "# Print result\n",
        "print(f'List of alphabets: {all_alphabets}')"
      ],
      "metadata": {
        "colab": {
          "base_uri": "https://localhost:8080/"
        },
        "id": "LoVetdVj-MCj",
        "outputId": "648c8558-e67f-42f0-8714-f68406091f32"
      },
      "execution_count": 40,
      "outputs": [
        {
          "output_type": "stream",
          "name": "stdout",
          "text": [
            "Enter a string:Here is a string with 2 3 4 digits 2 in it 5 6 7 56777886\n",
            "List of alphabets: ['H', 'e', 'r', 'e', 'i', 's', 'a', 's', 't', 'r', 'i', 'n', 'g', 'w', 'i', 't', 'h', 'd', 'i', 'g', 'i', 't', 's', 'i', 'n', 'i', 't']\n"
          ]
        }
      ]
    },
    {
      "cell_type": "markdown",
      "source": [
        "### 26. Count the number of uppercase letters in a string."
      ],
      "metadata": {
        "id": "CUrZXSnEBRYe"
      }
    },
    {
      "cell_type": "code",
      "source": [
        "# Approach - Iterate the string for each characters and add to the list if it isupper (isupper())\n",
        "\n",
        "# Take input string from user\n",
        "string_inpt = input('Enter a string:')\n",
        "\n",
        "# Split the string and iterate using list comprehension\n",
        "upper_case_letters = [char for char in string_inpt if char.isupper()]\n",
        "\n",
        "# Print result\n",
        "print(f'List of UpperCase Letters: {upper_case_letters}')"
      ],
      "metadata": {
        "colab": {
          "base_uri": "https://localhost:8080/"
        },
        "id": "_aKvZdljBNFj",
        "outputId": "848d8ec2-d9c3-405a-bd55-2c2c846dddf7"
      },
      "execution_count": 41,
      "outputs": [
        {
          "output_type": "stream",
          "name": "stdout",
          "text": [
            "Enter a string:HwerhwAhihetrHahiiuioAhiuHkpoi\n",
            "List of UpperCase Letters: ['H', 'A', 'H', 'A', 'H']\n"
          ]
        }
      ]
    },
    {
      "cell_type": "markdown",
      "source": [
        "### 27. Count the number of lowercase letters in a string."
      ],
      "metadata": {
        "id": "K4RuwmjUDGm0"
      }
    },
    {
      "cell_type": "code",
      "source": [
        "# Approach - Iterate the string for each characters and add to the list if it islower\n",
        "\n",
        "# Take input string from user\n",
        "string_inpt = input('Enter a string:')\n",
        "\n",
        "# Split the string and iterate using list comprehension\n",
        "lower_case_letters = [char for char in string_inpt if char.islower()]\n",
        "\n",
        "# Print result\n",
        "print(f'List of LowerCase Letters: {lower_case_letters}')"
      ],
      "metadata": {
        "colab": {
          "base_uri": "https://localhost:8080/"
        },
        "id": "PJPnAWUKB40K",
        "outputId": "bb8a7b83-b87d-4f32-aee4-bfbd794ed1bc"
      },
      "execution_count": 42,
      "outputs": [
        {
          "output_type": "stream",
          "name": "stdout",
          "text": [
            "Enter a string:HwerhwAhihetrHahiiuioAhiuHkpoi\n",
            "List of LowerCase Letters: ['w', 'e', 'r', 'h', 'w', 'h', 'i', 'h', 'e', 't', 'r', 'a', 'h', 'i', 'i', 'u', 'i', 'o', 'h', 'i', 'u', 'k', 'p', 'o', 'i']\n"
          ]
        }
      ]
    },
    {
      "cell_type": "code",
      "source": [],
      "metadata": {
        "id": "fZz6dnjYDQbJ"
      },
      "execution_count": null,
      "outputs": []
    }
  ]
}