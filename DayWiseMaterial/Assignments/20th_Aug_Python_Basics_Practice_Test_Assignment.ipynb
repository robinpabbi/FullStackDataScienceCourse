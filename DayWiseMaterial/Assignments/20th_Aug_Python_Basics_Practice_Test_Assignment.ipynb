{
  "cells": [
    {
      "cell_type": "markdown",
      "metadata": {
        "id": "rqaKSZ7_BfaB"
      },
      "source": [
        "# This is practice test on the String Based Problems"
      ]
    },
    {
      "cell_type": "markdown",
      "metadata": {
        "id": "n6DUob9LCYY_"
      },
      "source": [
        "### 1. Write a program to reverse a string."
      ]
    },
    {
      "cell_type": "code",
      "execution_count": null,
      "metadata": {
        "colab": {
          "base_uri": "https://localhost:8080/"
        },
        "id": "gDK3KvKhBKu8",
        "outputId": "7e7450ef-08d6-48f4-ba89-6ae5f1e77ea6"
      },
      "outputs": [
        {
          "name": "stdout",
          "output_type": "stream",
          "text": [
            "Enter a string to reverse:Hello, this is a string to reverse.\n",
            ".esrever ot gnirts a si siht ,olleH\n"
          ]
        }
      ],
      "source": [
        "# Take input string from user\n",
        "string_to_reverse = input('Enter a string to reverse:')\n",
        "\n",
        "# Reversing a string\n",
        "reversed_string = string_to_reverse[::-1]\n",
        "\n",
        "# Printing reversed string\n",
        "print(reversed_string)"
      ]
    },
    {
      "cell_type": "markdown",
      "metadata": {
        "id": "986iEaggDJ2M"
      },
      "source": [
        "### 2. Check if a string is a palindrome."
      ]
    },
    {
      "cell_type": "code",
      "execution_count": null,
      "metadata": {
        "colab": {
          "base_uri": "https://localhost:8080/"
        },
        "id": "-Hh8a6MABZOf",
        "outputId": "6acdc50c-b9fc-4f96-99a7-78d0d3050e44"
      },
      "outputs": [
        {
          "name": "stdout",
          "output_type": "stream",
          "text": [
            "Enter a string to check:babab\n",
            "True\n"
          ]
        }
      ],
      "source": [
        "# Creating a function to return True if Palindrome, else False\n",
        "def is_palindrome(string_to_check:str) -> bool:\n",
        "  reverse_of_string = string_to_check[::-1]\n",
        "  return reverse_of_string == string_to_check\n",
        "\n",
        "# Take input string from user\n",
        "string_to_check = input('Enter a string to check:')\n",
        "\n",
        "# Checking string for Palindrome\n",
        "palindrome = is_palindrome(string_to_check)\n",
        "\n",
        "# Print whether Palindrome or not\n",
        "print(palindrome)"
      ]
    },
    {
      "cell_type": "markdown",
      "metadata": {
        "id": "aftOuxOHFGaB"
      },
      "source": [
        "### 3. Convert a string to uppercase."
      ]
    },
    {
      "cell_type": "code",
      "execution_count": null,
      "metadata": {
        "colab": {
          "base_uri": "https://localhost:8080/"
        },
        "id": "Ksb9ijgzE2gO",
        "outputId": "ca669988-27d6-4849-ba49-1c490a322bf9"
      },
      "outputs": [
        {
          "name": "stdout",
          "output_type": "stream",
          "text": [
            "Enter a string to convert to Upper Case:Robin Pabbi\n",
            "Uppercase string is: ROBIN PABBI\n"
          ]
        }
      ],
      "source": [
        "# Take input string from user\n",
        "string_input_1 = input('Enter a string to convert to Upper Case:')\n",
        "\n",
        "# Coverting to UpperCase\n",
        "upper_case_str = string_input_1.upper()\n",
        "\n",
        "# Printing output\n",
        "print(f'Uppercase string is: {upper_case_str}')"
      ]
    },
    {
      "cell_type": "markdown",
      "metadata": {
        "id": "dWr3hQJvGksH"
      },
      "source": [
        "### 4. Convert a string to lowercase."
      ]
    },
    {
      "cell_type": "code",
      "execution_count": null,
      "metadata": {
        "colab": {
          "base_uri": "https://localhost:8080/"
        },
        "id": "jULp1vYGFbzn",
        "outputId": "c99e551b-4bfe-49b9-a396-f69d53ceaec1"
      },
      "outputs": [
        {
          "name": "stdout",
          "output_type": "stream",
          "text": [
            "Enter a string to convert to Lower Case:Robin Pabbi\n",
            "LowerCase string is: robin pabbi\n"
          ]
        }
      ],
      "source": [
        "# Take input string from user\n",
        "string_input_2 = input('Enter a string to convert to Lower Case:')\n",
        "\n",
        "# Coverting to LowerCase\n",
        "lower_case_str = string_input_2.lower()\n",
        "\n",
        "# Printing output\n",
        "print(f'LowerCase string is: {lower_case_str}')"
      ]
    },
    {
      "cell_type": "markdown",
      "metadata": {
        "id": "PnMH4lxdG9pC"
      },
      "source": [
        "### 5. Count the number of vowels in a string."
      ]
    },
    {
      "cell_type": "code",
      "execution_count": null,
      "metadata": {
        "colab": {
          "base_uri": "https://localhost:8080/"
        },
        "id": "k53LgdGSGiPP",
        "outputId": "c2e7c85c-18f9-4025-e172-d4d7b034d1ef"
      },
      "outputs": [
        {
          "name": "stdout",
          "output_type": "stream",
          "text": [
            "Enter a string to check count of Vowels:Robin Pabbi\n",
            "Number of vowels: 4\n"
          ]
        }
      ],
      "source": [
        "# Keeping the list of vowels to check from\n",
        "VOWELS = ['a', 'e', 'i', 'o', 'u', 'A', 'E', 'I', 'O', 'U']\n",
        "\n",
        "# Function to check count of Vowels\n",
        "def count_vowels(string_to_check:str) -> int:\n",
        "  count:int = 0\n",
        "  for vowel in VOWELS:\n",
        "    count += string_to_check.count(vowel)\n",
        "  return count\n",
        "\n",
        "# Take input string from user\n",
        "string_to_count_vowels = input('Enter a string to check count of Vowels:')\n",
        "\n",
        "# Count number of vowels\n",
        "count_of_vowels = count_vowels(string_to_count_vowels)\n",
        "\n",
        "# Print number of vowels in string\n",
        "print(f'Number of vowels: {count_of_vowels}')"
      ]
    },
    {
      "cell_type": "markdown",
      "metadata": {
        "id": "BfpOMbZ_LtKf"
      },
      "source": [
        "### 6. Count the number of consonants in a string."
      ]
    },
    {
      "cell_type": "code",
      "execution_count": null,
      "metadata": {
        "colab": {
          "base_uri": "https://localhost:8080/"
        },
        "id": "Rt3-LCA9HVmQ",
        "outputId": "e7cb38ee-441a-4e04-b597-cb18d9d6b653"
      },
      "outputs": [
        {
          "name": "stdout",
          "output_type": "stream",
          "text": [
            "Enter a string to check count of Consonants:Robin Pabbi checking count of consonants\n",
            "Number of consonants: 28\n"
          ]
        }
      ],
      "source": [
        "# Approach: Here we are going to count the number of vowels and then subtract it from length of string\n",
        "# List on consonants is long so iterating in consonants is right approach, so using above approach\n",
        "\n",
        "# For completeness will redefine the VOWELS list here, so that solution is independent and complete\n",
        "VOWELS = ['a', 'e', 'i', 'o', 'u', 'A', 'E', 'I', 'O', 'U']\n",
        "\n",
        "# Function to check count of Vowels\n",
        "def count_consonants(string_to_check:str) -> int:\n",
        "  vowel_count:int = 0\n",
        "  for vowel in VOWELS:\n",
        "    vowel_count += string_to_check.count(vowel)\n",
        "  return len(string_to_check) - vowel_count\n",
        "\n",
        "# Take input string from user\n",
        "string_to_count_consonants = input('Enter a string to check count of Consonants:')\n",
        "\n",
        "# Count number of vowels\n",
        "count_of_consonants = count_consonants(string_to_count_consonants)\n",
        "\n",
        "# Print number of vowels in string\n",
        "print(f'Number of consonants: {count_of_consonants}')"
      ]
    },
    {
      "cell_type": "markdown",
      "metadata": {
        "id": "_Nbra5KXSRM_"
      },
      "source": [
        "### 7. Remove all whitespaces from a string."
      ]
    },
    {
      "cell_type": "code",
      "execution_count": null,
      "metadata": {
        "colab": {
          "base_uri": "https://localhost:8080/"
        },
        "id": "wSLHp0HbSHKm",
        "outputId": "d36b034a-f86f-4038-8c75-fe3465a77845"
      },
      "outputs": [
        {
          "name": "stdout",
          "output_type": "stream",
          "text": [
            "Enter a string to remove white spaces:I am a software developer. I love coding.\n",
            "String without spaces: Iamasoftwaredeveloper.Ilovecoding.\n"
          ]
        }
      ],
      "source": [
        "# Approach - replace all the spaces with empty string\n",
        "\n",
        "# Take input string from user\n",
        "string_to_remove_whitespaces = input('Enter a string to remove white spaces:')\n",
        "\n",
        "# Removing whitespaces\n",
        "string_without_whitespaces = string_to_remove_whitespaces.replace(' ', '')\n",
        "\n",
        "# Print string without whitespaces\n",
        "print(f'String without spaces: {string_without_whitespaces}')"
      ]
    },
    {
      "cell_type": "markdown",
      "metadata": {
        "id": "ja7qgj-pUI4Z"
      },
      "source": [
        "### 8. Find the length of a string without using the `len()` function."
      ]
    },
    {
      "cell_type": "code",
      "execution_count": null,
      "metadata": {
        "colab": {
          "base_uri": "https://localhost:8080/"
        },
        "id": "jK1PIoTfTloI",
        "outputId": "dc6ca9b8-24aa-48d5-9676-c43bc525ad72"
      },
      "outputs": [
        {
          "name": "stdout",
          "output_type": "stream",
          "text": [
            "Enter a string:Robin Pabbi\n",
            "Length of string: 11\n"
          ]
        }
      ],
      "source": [
        "# Approach iterate on string and increment counter variable\n",
        "\n",
        "# Function with code of fining length\n",
        "def length(string_input) -> int:\n",
        "  count = 0\n",
        "  for char in string_input:\n",
        "    count += 1\n",
        "  return count\n",
        "\n",
        "\n",
        "# Take input string from user\n",
        "string_to_find_lenght = input('Enter a string:')\n",
        "\n",
        "# Retrieve Length\n",
        "length_of_string = length(string_to_find_lenght)\n",
        "\n",
        "# Print length of string\n",
        "print(f'Length of string: {length_of_string}')"
      ]
    },
    {
      "cell_type": "markdown",
      "metadata": {
        "id": "tjS_NKKpIeTh"
      },
      "source": [
        "### 9. Check if a string contains a specific word."
      ]
    },
    {
      "cell_type": "code",
      "execution_count": null,
      "metadata": {
        "colab": {
          "base_uri": "https://localhost:8080/"
        },
        "id": "2SyFPeLOIR-a",
        "outputId": "eee14350-5369-4c02-88f1-285de27609fa"
      },
      "outputs": [
        {
          "name": "stdout",
          "output_type": "stream",
          "text": [
            "Enter a string:Hello how are you?\n",
            "Enter a word to search in string:how\n",
            "Word exists in string: True\n"
          ]
        }
      ],
      "source": [
        "# Approach - try to find index of first occurence of the word, if not -1 then it exists\n",
        "# Assumption - We treat words to be case sensitive\n",
        "# if we want to do case insensitive search then we have to convert string and word to same case\n",
        "\n",
        "# Take input string from user\n",
        "string_to_search = input('Enter a string:')\n",
        "\n",
        "# Take word to search from above string\n",
        "word_to_search = input('Enter a word to search in string:')\n",
        "\n",
        "# Find the index of word in the string\n",
        "indx = string_to_search.find(word_to_search)\n",
        "\n",
        "# Print if exists or not\n",
        "print(f'Word exists in string: {indx > -1}')"
      ]
    },
    {
      "cell_type": "markdown",
      "metadata": {
        "id": "AxnMCVTwK35X"
      },
      "source": [
        "### 10. Replace a word in a string with another word."
      ]
    },
    {
      "cell_type": "code",
      "execution_count": null,
      "metadata": {
        "colab": {
          "base_uri": "https://localhost:8080/"
        },
        "id": "xvnqZq6bKa8H",
        "outputId": "f681b46d-0e01-41ce-b694-4476be958f5c"
      },
      "outputs": [
        {
          "name": "stdout",
          "output_type": "stream",
          "text": [
            "Enter a string:This is a string for replacement.\n",
            "Enter a word to replace in string:for\n",
            "Enter a word which will replace \"for\":after\n",
            "Replaced string: This is a string after replacement.\n"
          ]
        }
      ],
      "source": [
        "# Approach - use replace function\n",
        "\n",
        "# Take input string from user\n",
        "string_inpt = input('Enter a string:')\n",
        "\n",
        "# Take word to replace from above string\n",
        "word_to_replace = input('Enter a word to replace in string:')\n",
        "\n",
        "# Take word input - this word should replace above inputted word from string if exists\n",
        "word_to_replace_with = input(f'Enter a word which will replace \"{word_to_replace}\":')\n",
        "\n",
        "# Replace word in string\n",
        "replaced_string = string_inpt.replace(word_to_replace, word_to_replace_with)\n",
        "\n",
        "# Print string after replace\n",
        "print(f'Replaced string: {replaced_string}')"
      ]
    },
    {
      "cell_type": "markdown",
      "metadata": {
        "id": "fCIsJqToOvkn"
      },
      "source": [
        "### 11. Count the occurrences of a word in a string."
      ]
    },
    {
      "cell_type": "code",
      "execution_count": null,
      "metadata": {
        "colab": {
          "base_uri": "https://localhost:8080/"
        },
        "id": "g0QcmMSSMXTx",
        "outputId": "7db9ccd9-4dc3-4d17-9aa1-7ef26f87516b"
      },
      "outputs": [
        {
          "name": "stdout",
          "output_type": "stream",
          "text": [
            "Enter a string:This is a sentence of words where we are counting the occurrence of words\n",
            "Enter a word to count in string:words\n",
            "Number of occurrences: 2\n"
          ]
        }
      ],
      "source": [
        "# Approach - convert string to list of words and then count the occurences\n",
        "# Although we can count function directly but in that case it will not count words but substrings\n",
        "# Like in 'wordwordword', substring count of 'word' will be 3 but word count will be 0\n",
        "\n",
        "def count_occurences_of_word(string_input:str, word_to_compare:str) -> int:\n",
        "  # get list of words\n",
        "  list_of_words = string_input.split(' ')\n",
        "  count_of_occurences = 0\n",
        "  # Iterate the words list\n",
        "  for word in list_of_words:\n",
        "    if word == word_to_compare:\n",
        "      count_of_occurences += 1\n",
        "\n",
        "  return count_of_occurences\n",
        "\n",
        "# Take input string from user\n",
        "string_inpt = input('Enter a string:')\n",
        "\n",
        "# Take word to replace from above string\n",
        "word_to_count_occurences = input('Enter a word to count in string:')\n",
        "\n",
        "# Count the number of occurences\n",
        "count_of_word_occurences = count_occurences_of_word(string_inpt, word_to_count_occurences)\n",
        "\n",
        "# Print Occurences\n",
        "print(f'Number of occurrences: {count_of_word_occurences}')"
      ]
    },
    {
      "cell_type": "markdown",
      "metadata": {
        "id": "L_cqidLIOwJ_"
      },
      "source": [
        "### 12. Find the first occurrence of a word in a string."
      ]
    },
    {
      "cell_type": "code",
      "execution_count": null,
      "metadata": {
        "colab": {
          "base_uri": "https://localhost:8080/"
        },
        "id": "V3kUqrtOOwiR",
        "outputId": "06c116ab-87b0-4598-99b2-78194804d49a"
      },
      "outputs": [
        {
          "name": "stdout",
          "output_type": "stream",
          "text": [
            "Enter a string:This is a sentence of words where we are counting the occurrence of words\n",
            "Enter a word to find in string:words\n",
            "Given word's fist occurence is present at index: 22\n"
          ]
        }
      ],
      "source": [
        "# Approach - use the find method to find the index of first occurence\n",
        "\n",
        "# Take input string from user\n",
        "string_inpt = input('Enter a string:')\n",
        "\n",
        "# Take word to find first occurrence in the string\n",
        "word_to_find_first_occurence = input('Enter a word to find in string:')\n",
        "\n",
        "# Find the first index of word\n",
        "first_index = string_inpt.find(word_to_find_first_occurence)\n",
        "\n",
        "# Print the result\n",
        "if first_index == -1:\n",
        "  print('Could not find the given word.')\n",
        "else:\n",
        "  print(f\"Given word's fist occurence is present at index: {first_index} in the string.\")"
      ]
    },
    {
      "cell_type": "markdown",
      "metadata": {
        "id": "zBhK6xTmUuMK"
      },
      "source": [
        "### 13. Find the last occurrence of a word in a string."
      ]
    },
    {
      "cell_type": "code",
      "execution_count": null,
      "metadata": {
        "colab": {
          "base_uri": "https://localhost:8080/"
        },
        "id": "AGswpuqsUQCX",
        "outputId": "7a1f9a77-041e-459a-a227-f0330229001f"
      },
      "outputs": [
        {
          "name": "stdout",
          "output_type": "stream",
          "text": [
            "Enter a string:This is a sentence of words where we are counting the occurrence of words\n",
            "Enter a word to find in string:words\n",
            "Given word's last occurence is present at index: 68 in the string.\n"
          ]
        }
      ],
      "source": [
        "# Approach - use the rfind method to find the index of last occurence\n",
        "\n",
        "# Take input string from user\n",
        "string_inpt = input('Enter a string:')\n",
        "\n",
        "# Take word to find last occurrence in the string\n",
        "word_to_find_last_occurence = input('Enter a word to find in string:')\n",
        "\n",
        "# Find the last index of word\n",
        "last_index = string_inpt.rfind(word_to_find_last_occurence)\n",
        "\n",
        "# Print the result\n",
        "if last_index == -1:\n",
        "  print('Could not find the given word.')\n",
        "else:\n",
        "  print(f\"Given word's last occurence is present at index: {last_index} in the string.\")"
      ]
    },
    {
      "cell_type": "markdown",
      "metadata": {
        "id": "604Qv0N9VN-r"
      },
      "source": [
        "### 14. Split a string into a list of words."
      ]
    },
    {
      "cell_type": "code",
      "execution_count": null,
      "metadata": {
        "colab": {
          "base_uri": "https://localhost:8080/"
        },
        "id": "PsKDNmyRVC3_",
        "outputId": "ac613021-b9de-4ffb-e972-976402d79e30"
      },
      "outputs": [
        {
          "name": "stdout",
          "output_type": "stream",
          "text": [
            "Enter a string:Here is a sentence with some words in it\n",
            "['Here', 'is', 'a', 'sentence', 'with', 'some', 'words', 'in', 'it']\n"
          ]
        }
      ],
      "source": [
        "# Approach - use split function\n",
        "\n",
        "# Take input string from user\n",
        "string_inpt = input('Enter a string:')\n",
        "\n",
        "# Split the string with space\n",
        "list_of_words = string_inpt.split(' ')\n",
        "\n",
        "# Splitted string print\n",
        "print(list_of_words)"
      ]
    },
    {
      "cell_type": "markdown",
      "metadata": {
        "id": "RRAUJfs_W1Rr"
      },
      "source": [
        "### 15. Join a list of words into a string."
      ]
    },
    {
      "cell_type": "code",
      "execution_count": null,
      "metadata": {
        "colab": {
          "base_uri": "https://localhost:8080/"
        },
        "id": "EEuXDz2RWtgP",
        "outputId": "ef39c650-fd28-4cd1-a5b9-1032bba34cb9"
      },
      "outputs": [
        {
          "name": "stdout",
          "output_type": "stream",
          "text": [
            "Here is a sentence with some words in it\n"
          ]
        }
      ],
      "source": [
        "# Approach - Use join funtion with space delimiter to that we get the sentence with words\n",
        "\n",
        "# List of words\n",
        "list_of_words  = ['Here', 'is', 'a', 'sentence', 'with', 'some', 'words', 'in', 'it']\n",
        "\n",
        "# Joining the words\n",
        "joined_string = ' '.join(list_of_words)\n",
        "\n",
        "# print result\n",
        "print(joined_string)"
      ]
    },
    {
      "cell_type": "markdown",
      "metadata": {
        "id": "miGu6c07Zr2x"
      },
      "source": [
        "### 16. Convert a string where words are separated by spaces to one where words are separated by underscores.\n"
      ]
    },
    {
      "cell_type": "code",
      "execution_count": null,
      "metadata": {
        "colab": {
          "base_uri": "https://localhost:8080/"
        },
        "id": "6lV3C0N7ZoLW",
        "outputId": "a3671fcd-499b-4375-a2a6-011f35375019"
      },
      "outputs": [
        {
          "name": "stdout",
          "output_type": "stream",
          "text": [
            "Enter a string:Here is a sentence with some words in it\n",
            "Here_is_a_sentence_with_some_words_in_it\n"
          ]
        }
      ],
      "source": [
        "# Approach - simply replace spaces with underscores(_) in string\n",
        "\n",
        "# Take input string from user\n",
        "string_inpt = input('Enter a string:')\n",
        "\n",
        "# Replace ' ' with '_' in string\n",
        "string_with_spaces_replaced = string_inpt.replace(' ', '_')\n",
        "\n",
        "# Print result\n",
        "print(string_with_spaces_replaced)"
      ]
    },
    {
      "cell_type": "markdown",
      "metadata": {
        "id": "RVj5KQTScofK"
      },
      "source": [
        "### 17. Check if a string starts with a specific word or phrase."
      ]
    },
    {
      "cell_type": "code",
      "execution_count": null,
      "metadata": {
        "colab": {
          "base_uri": "https://localhost:8080/"
        },
        "id": "Pz2TJfe1cj8-",
        "outputId": "0d56fc55-7b25-447c-bfdd-4d252929deb3"
      },
      "outputs": [
        {
          "name": "stdout",
          "output_type": "stream",
          "text": [
            "Enter a string:The Himalayan Range.\n",
            "True\n"
          ]
        }
      ],
      "source": [
        "# Approach - use function startswith\n",
        "\n",
        "# Take input string from user\n",
        "string_inpt = input('Enter a string:')\n",
        "\n",
        "# check if string starts with 'The'\n",
        "starts_with_the = string_inpt.startswith('The')\n",
        "\n",
        "# Print Result\n",
        "print(starts_with_the)"
      ]
    },
    {
      "cell_type": "markdown",
      "metadata": {
        "id": "oOTloCcdegrt"
      },
      "source": [
        "### 18. Check if a string ends with a specific word or phrase."
      ]
    },
    {
      "cell_type": "code",
      "execution_count": null,
      "metadata": {
        "id": "lrJyEA5IdPTq"
      },
      "outputs": [],
      "source": [
        "# Approach - use function endswith\n",
        "\n",
        "# Take input string from user\n",
        "string_inpt = input('Enter a string:')\n",
        "\n",
        "# check if string starts with 'The'\n",
        "starts_with_the = string_inpt.endswith('.')\n",
        "\n",
        "# Print Result\n",
        "print(starts_with_the)"
      ]
    },
    {
      "cell_type": "markdown",
      "metadata": {
        "id": "5B4FqZ9S3tjI"
      },
      "source": [
        "### 19. Convert a string to title case (e.g., \"hello world\" to \"Hello World\")."
      ]
    },
    {
      "cell_type": "code",
      "execution_count": 24,
      "metadata": {
        "colab": {
          "base_uri": "https://localhost:8080/"
        },
        "id": "VDhG_UY93uEx",
        "outputId": "a77de567-d964-426e-c005-1aaf050dafaa"
      },
      "outputs": [
        {
          "name": "stdout",
          "output_type": "stream",
          "text": [
            "Enter a string:hello world\n",
            "Title case of string is: Hello World\n"
          ]
        }
      ],
      "source": [
        "# Approach - Use title inbuilt-function\n",
        "\n",
        "# Take input string from user\n",
        "string_inpt = input('Enter a string:')\n",
        "\n",
        "# Convert string to Title Case\n",
        "title_case_str = string_inpt.title()\n",
        "\n",
        "# Print Title Case string\n",
        "print(f'Title case of string is: {title_case_str}')"
      ]
    },
    {
      "cell_type": "markdown",
      "metadata": {
        "id": "mTWlYLH_3ukF"
      },
      "source": [
        "### 20. Find the longest word in a string.\n"
      ]
    },
    {
      "cell_type": "code",
      "execution_count": 25,
      "metadata": {
        "colab": {
          "base_uri": "https://localhost:8080/"
        },
        "id": "pyz0AgqU3u40",
        "outputId": "98470af0-404d-4da3-8540-4635afdb7327"
      },
      "outputs": [
        {
          "name": "stdout",
          "output_type": "stream",
          "text": [
            "Enter a string:He is a string to check the longest word in it.\n",
            "Longest word in the string is: longest\n"
          ]
        }
      ],
      "source": [
        "# Approach - We will take list of words from string then sort it according to length\n",
        "# Since sorting default (ascending order) so last item is the Max length word\n",
        "\n",
        "\n",
        "# Take input string from user\n",
        "string_inpt = input('Enter a string:')\n",
        "\n",
        "# Split string into words\n",
        "list_of_words = string_inpt.split(' ')\n",
        "\n",
        "# Get sorted list of words as per length of word\n",
        "sorted_words_by_length = sorted(list_of_words, key= len)\n",
        "\n",
        "# Get Longest word\n",
        "longest_word = sorted_words_by_length[-1]\n",
        "\n",
        "# Print the longest word\n",
        "print(f'Longest word in the string is: {longest_word}')"
      ]
    },
    {
      "cell_type": "markdown",
      "metadata": {
        "id": "w7Teu_vX3wJF"
      },
      "source": [
        "### 21. Find the shortest word in a string."
      ]
    },
    {
      "cell_type": "code",
      "execution_count": 26,
      "metadata": {
        "colab": {
          "base_uri": "https://localhost:8080/"
        },
        "id": "aUO1qNju3wkT",
        "outputId": "0583ceca-6048-4643-c43b-01376db19a6c"
      },
      "outputs": [
        {
          "name": "stdout",
          "output_type": "stream",
          "text": [
            "Enter a string:Here is a string to check the longest word in it.\n",
            "Shortest word in the string is: a\n"
          ]
        }
      ],
      "source": [
        "# Approach - We will take list of words from string then sort it according to length\n",
        "# Since sorting default (ascending order) so first item is the min length word i.e shortest\n",
        "# Here we will create a function to get shortest length word\n",
        "\n",
        "# Function definition - Takes a string as input and return Shortest word\n",
        "def get_shortest_word(string_input:str) -> str:\n",
        "  # Get list of words\n",
        "  list_of_words = string_input.split(' ')\n",
        "\n",
        "  # Get sorted list of words as per length of word\n",
        "  sorted_words_by_length = sorted(list_of_words, key= len)\n",
        "\n",
        "  # return the shortest word i.e. first word\n",
        "  return sorted_words_by_length[0]\n",
        "\n",
        "\n",
        "# Take input string from user\n",
        "string_inpt = input('Enter a string:')\n",
        "\n",
        "# Get shortest word\n",
        "shortest_word = get_shortest_word(string_inpt)\n",
        "\n",
        "# Print the longest word\n",
        "print(f'Shortest word in the string is: {shortest_word}')"
      ]
    },
    {
      "cell_type": "markdown",
      "metadata": {
        "id": "wyfhLcKX7AFv"
      },
      "source": [
        "### 22. Reverse the order of words in a string."
      ]
    },
    {
      "cell_type": "code",
      "execution_count": 28,
      "metadata": {
        "colab": {
          "base_uri": "https://localhost:8080/"
        },
        "id": "gMN4TojI66N0",
        "outputId": "6b7f6f08-27be-4925-fe40-52ddbba722ea"
      },
      "outputs": [
        {
          "name": "stdout",
          "output_type": "stream",
          "text": [
            "Enter a string:Here is a sentence\n",
            "Reversed order of words : sentence a is Here\n"
          ]
        }
      ],
      "source": [
        "# Approach - Since we need to reverse the order of words, we can not simply reverse the string\n",
        "# here we will first get list of words and then reverse it\n",
        "# then we will join the reverse list of words to string\n",
        "\n",
        "# Function - takes input as string and return the string with reversed order of words\n",
        "def reversed_order_words(string_input:str) -> str:\n",
        "  # Get list of words\n",
        "  list_of_words = string_input.split(' ')\n",
        "\n",
        "  # Reverse of list of words\n",
        "  reversed_list = list_of_words[::-1]\n",
        "\n",
        "  # Join the list of words to string\n",
        "  outcome = ' '.join(reversed_list)\n",
        "\n",
        "  # Return the result\n",
        "  return outcome\n",
        "\n",
        "\n",
        "# Take input string from user\n",
        "string_inpt = input('Enter a string:')\n",
        "\n",
        "# Get the reversed order words in the string\n",
        "reversed_ordered_words = reversed_order_words(string_inpt)\n",
        "\n",
        "# Print the result\n",
        "print(f'Reversed order of words : {reversed_ordered_words}')"
      ]
    },
    {
      "cell_type": "markdown",
      "metadata": {
        "id": "VFRrvKTc8Lc9"
      },
      "source": [
        "### 23. Check if a string is alphanumeric."
      ]
    },
    {
      "cell_type": "code",
      "execution_count": 29,
      "metadata": {
        "colab": {
          "base_uri": "https://localhost:8080/"
        },
        "id": "o9rhd13I8CGU",
        "outputId": "3fa2344b-37bd-473a-ca09-db3c16777434"
      },
      "outputs": [
        {
          "name": "stdout",
          "output_type": "stream",
          "text": [
            "Enter a string:whei234324\n",
            "True\n"
          ]
        }
      ],
      "source": [
        "# Approach - Use the isalnum() inbuit function\n",
        "\n",
        "# Take input string from user\n",
        "string_inpt = input('Enter a string:')\n",
        "\n",
        "# Check if string is alphanumeric\n",
        "is_alpha_numeric_str = string_inpt.isalnum()\n",
        "\n",
        "# Print result\n",
        "print(is_alpha_numeric_str)"
      ]
    },
    {
      "cell_type": "markdown",
      "metadata": {
        "id": "MTyXjcgO8wGw"
      },
      "source": [
        "### 24. Extract all digits from a string."
      ]
    },
    {
      "cell_type": "code",
      "execution_count": 38,
      "metadata": {
        "colab": {
          "base_uri": "https://localhost:8080/"
        },
        "id": "5b7nCZPd8qwV",
        "outputId": "0a12470a-081a-451e-a972-93e3047a2e8e"
      },
      "outputs": [
        {
          "name": "stdout",
          "output_type": "stream",
          "text": [
            "Enter a string:Here is a string with 2 3 4 digits 2 in it 5 6 7 56777886\n",
            "List of digits: [2, 3, 4, 2, 5, 6, 7, 5, 6, 7, 7, 7, 8, 8, 6]\n"
          ]
        }
      ],
      "source": [
        "# Approach - Here i will try to use list comprehension\n",
        "# Iterate the string for each characters and add to the list if it is digit (isdigit)\n",
        "\n",
        "# Take input string from user\n",
        "string_inpt = input('Enter a string:')\n",
        "\n",
        "# Split the string and iterate using list comprehension\n",
        "all_digits = [int(char) for char in string_inpt if char.isdigit()]\n",
        "\n",
        "# Print result\n",
        "print(f'List of digits: {all_digits}')"
      ]
    },
    {
      "cell_type": "markdown",
      "metadata": {
        "id": "YrSJ4tu9-UOn"
      },
      "source": [
        "### 25. Extract all alphabets from a string."
      ]
    },
    {
      "cell_type": "code",
      "execution_count": 40,
      "metadata": {
        "colab": {
          "base_uri": "https://localhost:8080/"
        },
        "id": "LoVetdVj-MCj",
        "outputId": "648c8558-e67f-42f0-8714-f68406091f32"
      },
      "outputs": [
        {
          "name": "stdout",
          "output_type": "stream",
          "text": [
            "Enter a string:Here is a string with 2 3 4 digits 2 in it 5 6 7 56777886\n",
            "List of alphabets: ['H', 'e', 'r', 'e', 'i', 's', 'a', 's', 't', 'r', 'i', 'n', 'g', 'w', 'i', 't', 'h', 'd', 'i', 'g', 'i', 't', 's', 'i', 'n', 'i', 't']\n"
          ]
        }
      ],
      "source": [
        "# Approach - Here i will try to use list comprehension\n",
        "# Iterate the string for each characters and add to the list if it isalpha (isalpha)\n",
        "\n",
        "# Take input string from user\n",
        "string_inpt = input('Enter a string:')\n",
        "\n",
        "# Split the string and iterate using list comprehension\n",
        "all_alphabets = [char for char in string_inpt if char.isalpha()]\n",
        "\n",
        "# Print result\n",
        "print(f'List of alphabets: {all_alphabets}')"
      ]
    },
    {
      "cell_type": "markdown",
      "metadata": {
        "id": "CUrZXSnEBRYe"
      },
      "source": [
        "### 26. Count the number of uppercase letters in a string."
      ]
    },
    {
      "cell_type": "code",
      "execution_count": 41,
      "metadata": {
        "colab": {
          "base_uri": "https://localhost:8080/"
        },
        "id": "_aKvZdljBNFj",
        "outputId": "848d8ec2-d9c3-405a-bd55-2c2c846dddf7"
      },
      "outputs": [
        {
          "name": "stdout",
          "output_type": "stream",
          "text": [
            "Enter a string:HwerhwAhihetrHahiiuioAhiuHkpoi\n",
            "List of UpperCase Letters: ['H', 'A', 'H', 'A', 'H']\n"
          ]
        }
      ],
      "source": [
        "# Approach - Iterate the string for each characters and add to the list if it isupper (isupper())\n",
        "\n",
        "# Take input string from user\n",
        "string_inpt = input('Enter a string:')\n",
        "\n",
        "# Split the string and iterate using list comprehension\n",
        "upper_case_letters = [char for char in string_inpt if char.isupper()]\n",
        "\n",
        "# Print result\n",
        "print(f'List of UpperCase Letters: {upper_case_letters}')"
      ]
    },
    {
      "cell_type": "markdown",
      "metadata": {
        "id": "K4RuwmjUDGm0"
      },
      "source": [
        "### 27. Count the number of lowercase letters in a string."
      ]
    },
    {
      "cell_type": "code",
      "execution_count": 42,
      "metadata": {
        "colab": {
          "base_uri": "https://localhost:8080/"
        },
        "id": "PJPnAWUKB40K",
        "outputId": "bb8a7b83-b87d-4f32-aee4-bfbd794ed1bc"
      },
      "outputs": [
        {
          "name": "stdout",
          "output_type": "stream",
          "text": [
            "Enter a string:HwerhwAhihetrHahiiuioAhiuHkpoi\n",
            "List of LowerCase Letters: ['w', 'e', 'r', 'h', 'w', 'h', 'i', 'h', 'e', 't', 'r', 'a', 'h', 'i', 'i', 'u', 'i', 'o', 'h', 'i', 'u', 'k', 'p', 'o', 'i']\n"
          ]
        }
      ],
      "source": [
        "# Approach - Iterate the string for each characters and add to the list if it islower\n",
        "\n",
        "# Take input string from user\n",
        "string_inpt = input('Enter a string:')\n",
        "\n",
        "# Split the string and iterate using list comprehension\n",
        "lower_case_letters = [char for char in string_inpt if char.islower()]\n",
        "\n",
        "# Print result\n",
        "print(f'List of LowerCase Letters: {lower_case_letters}')"
      ]
    },
    {
      "cell_type": "markdown",
      "metadata": {},
      "source": [
        "### 28. Swap the case of each character in a string."
      ]
    },
    {
      "cell_type": "code",
      "execution_count": 2,
      "metadata": {
        "id": "fZz6dnjYDQbJ"
      },
      "outputs": [
        {
          "name": "stdout",
          "output_type": "stream",
          "text": [
            "rOBIN pABBI\n"
          ]
        }
      ],
      "source": [
        "# Approach - Use swapcase inbuilt function\n",
        "\n",
        "# Take input string from user\n",
        "string_inpt = input('Enter a string:')\n",
        "\n",
        "# Swap Case\n",
        "swaped_case_str = string_inpt.swapcase()\n",
        "\n",
        "# Print Result\n",
        "print(swaped_case_str)"
      ]
    },
    {
      "cell_type": "markdown",
      "metadata": {},
      "source": [
        "### 29. Remove a specific word from a string."
      ]
    },
    {
      "cell_type": "code",
      "execution_count": 1,
      "metadata": {},
      "outputs": [
        {
          "name": "stdout",
          "output_type": "stream",
          "text": [
            "Result string: Robin Pabbi is a software engineer\n"
          ]
        }
      ],
      "source": [
        "# Approach - Replace the Word with empty string\n",
        "\n",
        "# Take input string from user\n",
        "string_inpt = input('Enter a string:')\n",
        "\n",
        "# Take a input word to remove\n",
        "word_to_remove = input('Enter a word to be removed:')\n",
        "\n",
        "# Remove the word\n",
        "result_str = string_inpt.replace(word_to_remove, '')\n",
        "\n",
        "# Print resultes string\n",
        "print(f'Result string: {result_str}')"
      ]
    },
    {
      "cell_type": "markdown",
      "metadata": {},
      "source": [
        "### 30. Check if a string is a valid email address."
      ]
    },
    {
      "cell_type": "code",
      "execution_count": null,
      "metadata": {},
      "outputs": [],
      "source": []
    },
    {
      "cell_type": "markdown",
      "metadata": {},
      "source": [
        "### 31. Extract the username from an email address string."
      ]
    },
    {
      "cell_type": "code",
      "execution_count": null,
      "metadata": {},
      "outputs": [],
      "source": []
    },
    {
      "cell_type": "markdown",
      "metadata": {},
      "source": [
        "\n",
        "### 32. Extract the domain name from an email address string."
      ]
    },
    {
      "cell_type": "code",
      "execution_count": null,
      "metadata": {},
      "outputs": [],
      "source": []
    },
    {
      "cell_type": "markdown",
      "metadata": {},
      "source": [
        "\n",
        "### 33. Replace multiple spaces in a string with a single space."
      ]
    },
    {
      "cell_type": "code",
      "execution_count": null,
      "metadata": {},
      "outputs": [],
      "source": []
    },
    {
      "cell_type": "markdown",
      "metadata": {},
      "source": [
        "\n",
        "### 34. Check if a string is a valid URL."
      ]
    },
    {
      "cell_type": "code",
      "execution_count": null,
      "metadata": {},
      "outputs": [],
      "source": []
    },
    {
      "cell_type": "markdown",
      "metadata": {},
      "source": [
        "\n",
        "### 35. Extract the protocol (http or https) from a URL string."
      ]
    },
    {
      "cell_type": "code",
      "execution_count": 5,
      "metadata": {},
      "outputs": [
        {
          "data": {
            "text/plain": [
              "0"
            ]
          },
          "execution_count": 5,
          "metadata": {},
          "output_type": "execute_result"
        }
      ],
      "source": []
    },
    {
      "cell_type": "markdown",
      "metadata": {},
      "source": [
        "\n",
        "### 36. Find the frequency of each character in a string."
      ]
    },
    {
      "cell_type": "code",
      "execution_count": 6,
      "metadata": {},
      "outputs": [
        {
          "name": "stdout",
          "output_type": "stream",
          "text": [
            "{'h': 1, 'o': 6, 'i': 1, 'q': 1, 'r': 1, 'u': 2, ' ': 1}\n"
          ]
        }
      ],
      "source": [
        "# Approach - Iterate on the characters and keep the count of the char in dictionary\n",
        "# Here main thing is to use get method to return default value if key (char) is not present\n",
        "\n",
        "# Function - takes string as input and return dictinary of chars as key with respective count of occurrence (frequency)\n",
        "def get_frequency_of_char(string_input:str)-> dict:\n",
        "    result_dict = {}\n",
        "    for char in string_input:\n",
        "        result_dict[char] = result_dict.get(char, 0) + 1\n",
        "    \n",
        "    return result_dict\n",
        "\n",
        "# Take input string from user\n",
        "string_inpt = input('Enter a string:')\n",
        "\n",
        "# Get frequency\n",
        "frequency_dict = get_frequency_of_char(string_inpt)\n",
        "\n",
        "# Print result\n",
        "print(frequency_dict)"
      ]
    },
    {
      "cell_type": "markdown",
      "metadata": {},
      "source": [
        "\n",
        "### 37. Remove all punctuation from a string."
      ]
    },
    {
      "cell_type": "code",
      "execution_count": null,
      "metadata": {},
      "outputs": [],
      "source": []
    },
    {
      "cell_type": "markdown",
      "metadata": {},
      "source": [
        "\n",
        "### 38. Check if a string contains only digits."
      ]
    },
    {
      "cell_type": "code",
      "execution_count": null,
      "metadata": {},
      "outputs": [],
      "source": []
    },
    {
      "cell_type": "markdown",
      "metadata": {},
      "source": [
        "### 39. Check if a string contains only alphabets."
      ]
    },
    {
      "cell_type": "code",
      "execution_count": null,
      "metadata": {},
      "outputs": [],
      "source": []
    },
    {
      "cell_type": "markdown",
      "metadata": {},
      "source": [
        "\n",
        "### 40. Convert a string to a list of characters."
      ]
    },
    {
      "cell_type": "code",
      "execution_count": null,
      "metadata": {},
      "outputs": [],
      "source": []
    },
    {
      "cell_type": "markdown",
      "metadata": {},
      "source": [
        "\n",
        "### 41. Check if two strings are anagrams."
      ]
    },
    {
      "cell_type": "code",
      "execution_count": null,
      "metadata": {},
      "outputs": [],
      "source": []
    },
    {
      "cell_type": "markdown",
      "metadata": {},
      "source": [
        "\n",
        "### 42. Encode a string using a Caesar cipher."
      ]
    },
    {
      "cell_type": "code",
      "execution_count": null,
      "metadata": {},
      "outputs": [],
      "source": []
    },
    {
      "cell_type": "markdown",
      "metadata": {},
      "source": [
        "\n",
        "### 43. Decode a Caesar cipher encoded string."
      ]
    },
    {
      "cell_type": "code",
      "execution_count": null,
      "metadata": {},
      "outputs": [],
      "source": []
    },
    {
      "cell_type": "markdown",
      "metadata": {},
      "source": [
        "\n",
        "### 44. Find the most frequent word in a string."
      ]
    },
    {
      "cell_type": "code",
      "execution_count": null,
      "metadata": {},
      "outputs": [],
      "source": []
    },
    {
      "cell_type": "markdown",
      "metadata": {},
      "source": [
        "\n",
        "### 45. Find all unique words in a string."
      ]
    },
    {
      "cell_type": "code",
      "execution_count": null,
      "metadata": {},
      "outputs": [],
      "source": []
    },
    {
      "cell_type": "markdown",
      "metadata": {},
      "source": [
        "\n",
        "### 46. Count the number of syllables in a string."
      ]
    },
    {
      "cell_type": "code",
      "execution_count": null,
      "metadata": {},
      "outputs": [],
      "source": []
    },
    {
      "cell_type": "markdown",
      "metadata": {},
      "source": [
        "### 47. Check if a string contains any special characters."
      ]
    },
    {
      "cell_type": "code",
      "execution_count": null,
      "metadata": {},
      "outputs": [],
      "source": []
    },
    {
      "cell_type": "markdown",
      "metadata": {},
      "source": [
        "\n",
        "### 48. Remove the nth word from a string."
      ]
    },
    {
      "cell_type": "code",
      "execution_count": null,
      "metadata": {},
      "outputs": [],
      "source": []
    },
    {
      "cell_type": "markdown",
      "metadata": {},
      "source": [
        "\n",
        "### 49. Insert a word at the nth position in a string."
      ]
    },
    {
      "cell_type": "code",
      "execution_count": null,
      "metadata": {},
      "outputs": [],
      "source": []
    },
    {
      "cell_type": "markdown",
      "metadata": {},
      "source": [
        "\n",
        "### 50. Convert a CSV string to a list of lists."
      ]
    },
    {
      "cell_type": "markdown",
      "metadata": {},
      "source": []
    },
    {
      "cell_type": "markdown",
      "metadata": {},
      "source": [
        "### 1. Create a list with integers from 1 to 10."
      ]
    },
    {
      "cell_type": "code",
      "execution_count": 1,
      "metadata": {},
      "outputs": [
        {
          "name": "stdout",
          "output_type": "stream",
          "text": [
            "[1, 2, 3, 4, 5, 6, 7, 8, 9, 10]\n"
          ]
        }
      ],
      "source": [
        "# Create a list\n",
        "list_of_numbers = [1, 2, 3, 4, 5, 6, 7, 8, 9, 10]\n",
        "\n",
        "# Print the list\n",
        "print(list_of_numbers)"
      ]
    },
    {
      "cell_type": "markdown",
      "metadata": {},
      "source": [
        "### 2. Find the length of a list without using the `len()` function."
      ]
    },
    {
      "cell_type": "code",
      "execution_count": 2,
      "metadata": {},
      "outputs": [
        {
          "name": "stdout",
          "output_type": "stream",
          "text": [
            "Length of list is: 10\n"
          ]
        }
      ],
      "source": [
        "# Approach iterate on list items and increment counter variable\n",
        "\n",
        "# Function with code of fining length\n",
        "def length(list_input) -> int:\n",
        "  count = 0\n",
        "  for item in list_input:\n",
        "    count += 1\n",
        "  return count\n",
        "\n",
        "# Create a list\n",
        "list_of_numbers = [1, 2, 3, 4, 5, 6, 7, 8, 9, 10]\n",
        "\n",
        "# Get length using out function\n",
        "length_of_list = length(list_of_numbers)\n",
        "\n",
        "# Print output\n",
        "print(f'Length of list is: {length_of_list}')"
      ]
    },
    {
      "cell_type": "markdown",
      "metadata": {},
      "source": [
        "\n",
        "### 3. Append an element to the end of a list."
      ]
    },
    {
      "cell_type": "code",
      "execution_count": 3,
      "metadata": {},
      "outputs": [
        {
          "name": "stdout",
          "output_type": "stream",
          "text": [
            "[1, 2, 3, 'Robin', 'Pabbi']\n"
          ]
        }
      ],
      "source": [
        "# Create a list\n",
        "list1 = [1, 2, 3, 'Robin']\n",
        "\n",
        "# Append an element ('Pabbi' in our case)\n",
        "list1.append('Pabbi')\n",
        "\n",
        "# Print list\n",
        "print(list1)"
      ]
    },
    {
      "cell_type": "markdown",
      "metadata": {},
      "source": [
        "### 4. Insert an element at a specific index in a list.\n"
      ]
    },
    {
      "cell_type": "code",
      "execution_count": 4,
      "metadata": {},
      "outputs": [
        {
          "name": "stdout",
          "output_type": "stream",
          "text": [
            "[1, 2, 3, 4, 'Robin']\n"
          ]
        }
      ],
      "source": [
        "# Create a list\n",
        "list2 = [1, 3, 4, 'Robin']\n",
        "\n",
        "# Insert Element at given index (adding 2 at index 1 i.e. as second item)\n",
        "list2.insert(1, 2)\n",
        "\n",
        "# Print List\n",
        "print(list2)"
      ]
    },
    {
      "cell_type": "markdown",
      "metadata": {},
      "source": [
        "\n",
        "### 5. Remove an element from a list by its value."
      ]
    },
    {
      "cell_type": "code",
      "execution_count": 5,
      "metadata": {},
      "outputs": [
        {
          "name": "stdout",
          "output_type": "stream",
          "text": [
            "[1, 4, 'Robin']\n"
          ]
        }
      ],
      "source": [
        "# Create a list\n",
        "list3 = [1, 3, 4, 'Robin']\n",
        "\n",
        "# Remove the value (i.e. remove 'Robin')\n",
        "list3.remove(3)\n",
        "\n",
        "# Print List\n",
        "print(list3)"
      ]
    },
    {
      "cell_type": "markdown",
      "metadata": {},
      "source": [
        "\n",
        "### 6. Remove an element from a list by its index."
      ]
    },
    {
      "cell_type": "code",
      "execution_count": 6,
      "metadata": {},
      "outputs": [
        {
          "name": "stdout",
          "output_type": "stream",
          "text": [
            "[1, 2, 3, 4, 5]\n"
          ]
        }
      ],
      "source": [
        "# Create a list\n",
        "list4 = [1, 2, 3, 4, 2, 5]\n",
        "\n",
        "# Remove by index (Let us remove 2 from index 4 i.e. second last item)\n",
        "list4.pop(4)\n",
        "\n",
        "# Print List\n",
        "print(list4)"
      ]
    },
    {
      "cell_type": "markdown",
      "metadata": {},
      "source": [
        "\n",
        "### 7. Check if an element exists in a list."
      ]
    },
    {
      "cell_type": "code",
      "execution_count": 7,
      "metadata": {},
      "outputs": [
        {
          "name": "stdout",
          "output_type": "stream",
          "text": [
            "Element exists in the list.\n"
          ]
        }
      ],
      "source": [
        "# Create a list\n",
        "list5 = [1, 2, 5, 6, 7, 8, 9]\n",
        "\n",
        "# Element to find\n",
        "element_to_find = 8\n",
        "\n",
        "# Check if elements exists or not\n",
        "if element_to_find in list5:\n",
        "  print(f'Element exists in the list.')\n",
        "else:\n",
        "  print('Elements does not exist in list.')"
      ]
    },
    {
      "cell_type": "markdown",
      "metadata": {},
      "source": [
        "\n",
        "### 8. Find the index of the first occurrence of an element in a list.\n"
      ]
    },
    {
      "cell_type": "code",
      "execution_count": 8,
      "metadata": {},
      "outputs": [
        {
          "name": "stdout",
          "output_type": "stream",
          "text": [
            "Elements exists at index: 4\n"
          ]
        }
      ],
      "source": [
        "# Create a list\n",
        "list6 = [1, 2, 5, 6, 7, 8, 9]\n",
        "\n",
        "# Element to find\n",
        "element_to_find = 7\n",
        "\n",
        "# Check if elements exists or not\n",
        "if element_to_find in list6:\n",
        "  # Get index of the first occurrence\n",
        "  index_of_index = list6.index(element_to_find)\n",
        "  print(f'Elements exists at index: {index_of_index}')\n",
        "else:\n",
        "  print('Elements does not exist in list.')"
      ]
    },
    {
      "cell_type": "markdown",
      "metadata": {},
      "source": [
        "### 9. Count the occurrences of an element in a list."
      ]
    },
    {
      "cell_type": "code",
      "execution_count": 10,
      "metadata": {},
      "outputs": [
        {
          "name": "stdout",
          "output_type": "stream",
          "text": [
            "No. of occurrences : 3\n"
          ]
        }
      ],
      "source": [
        "# Approach - count function\n",
        "\n",
        "# Create a list\n",
        "list7 = [1, 2, 5, 9, 7, 8, 9, 9, 10, '2', 'Hello', '9']\n",
        "\n",
        "# Count number of occurrences of element 9 (int 9)\n",
        "count_of_occurence = list7.count(9)\n",
        "\n",
        "# print output\n",
        "print(f'No. of occurrences : {count_of_occurence}')"
      ]
    },
    {
      "cell_type": "markdown",
      "metadata": {},
      "source": [
        "### 10. Reverse the order of elements in a list."
      ]
    },
    {
      "cell_type": "code",
      "execution_count": 14,
      "metadata": {},
      "outputs": [
        {
          "name": "stdout",
          "output_type": "stream",
          "text": [
            "['9', 'Hello', '2', 10, 5, 'Robin', 2, 1]\n"
          ]
        }
      ],
      "source": [
        "# Create a list\n",
        "list8 = [1, 2, 'Robin', 5, 10, '2', 'Hello', '9']\n",
        "\n",
        "# Reverse the list\n",
        "reversed_list = list8[::-1]\n",
        "\n",
        "# Print the reversed list\n",
        "print(reversed_list)"
      ]
    },
    {
      "cell_type": "markdown",
      "metadata": {},
      "source": [
        "### 11. Sort a list in ascending order."
      ]
    },
    {
      "cell_type": "code",
      "execution_count": 16,
      "metadata": {},
      "outputs": [
        {
          "name": "stdout",
          "output_type": "stream",
          "text": [
            "List sored in ascending order: [0, 1, 2, 5, 5, 6, 7, 7, 8, 9, 9, 9, 10, 34, 99]\n"
          ]
        }
      ],
      "source": [
        "# Create a list\n",
        "list_9 = [1, 2, 5, 9, 7, 8, 9, 9, 10, 34, 5, 6, 7, 99, 0]\n",
        "\n",
        "# Sort the list in ascending order\n",
        "list_9.sort()\n",
        "\n",
        "# Print sorted list\n",
        "print(f'List sored in ascending order: {list_9}')"
      ]
    },
    {
      "cell_type": "markdown",
      "metadata": {},
      "source": [
        "### 12. Sort a list in descending order."
      ]
    },
    {
      "cell_type": "code",
      "execution_count": 17,
      "metadata": {},
      "outputs": [
        {
          "name": "stdout",
          "output_type": "stream",
          "text": [
            "List sored in ascending order: [99, 34, 10, 9, 9, 9, 8, 7, 7, 6, 5, 5, 2, 1, 0]\n"
          ]
        }
      ],
      "source": [
        "# Create a list\n",
        "list_10 = [1, 2, 5, 9, 7, 8, 9, 9, 10, 34, 5, 6, 7, 99, 0]\n",
        "\n",
        "# Sort the list in descending order\n",
        "list_10.sort(reverse=True)\n",
        "\n",
        "# Print sorted list\n",
        "print(f'List sored in ascending order: {list_10}')"
      ]
    },
    {
      "cell_type": "markdown",
      "metadata": {},
      "source": [
        "### 13. Create a list of even numbers from 1 to 20."
      ]
    },
    {
      "cell_type": "code",
      "execution_count": 18,
      "metadata": {},
      "outputs": [
        {
          "name": "stdout",
          "output_type": "stream",
          "text": [
            "List of even numbers from 1 to 20: [2, 4, 6, 8, 10, 12, 14, 16, 18, 20]\n"
          ]
        }
      ],
      "source": [
        "# Approach - Using list comprehension and checking for even number\n",
        "# Using Range 1 to 21 because upperbound is exlusive\n",
        "\n",
        "# Create a list of even numbers\n",
        "even_numbers_list = [num for num in range(1, 21) if num % 2 == 0]\n",
        "\n",
        "# Print the list of even numbers\n",
        "print(f'List of even numbers from 1 to 20: {even_numbers_list}')"
      ]
    },
    {
      "cell_type": "markdown",
      "metadata": {},
      "source": [
        "### 14. Create a list of odd numbers from 1 to 20."
      ]
    },
    {
      "cell_type": "code",
      "execution_count": 24,
      "metadata": {},
      "outputs": [
        {
          "name": "stdout",
          "output_type": "stream",
          "text": [
            "List of odd numbers from 1 to 20: [1, 3, 5, 7, 9, 11, 13, 15, 17, 19]\n"
          ]
        }
      ],
      "source": [
        "# Approach - Using list comprehension and checking for non even number (odd number)\n",
        "# Using Range 1 to 21 because upperbound is exlusive\n",
        "\n",
        "# Create a list of odd numbers\n",
        "even_numbers_list = [num for num in range(1, 21) if num % 2 != 0]\n",
        "\n",
        "# Print the list of odd numbers\n",
        "print(f'List of odd numbers from 1 to 20: {even_numbers_list}')"
      ]
    },
    {
      "cell_type": "markdown",
      "metadata": {},
      "source": [
        "### 15. Find the sum of all elements in a list."
      ]
    },
    {
      "cell_type": "code",
      "execution_count": 20,
      "metadata": {},
      "outputs": [
        {
          "name": "stdout",
          "output_type": "stream",
          "text": [
            "Sum of list elements: 211\n"
          ]
        }
      ],
      "source": [
        "# Create a list\n",
        "list_11 = [1, 2, 5, 9, 7, 8, 9, 9, 10, 34, 5, 6, 7, 99, 0]\n",
        "\n",
        "# Compute sum\n",
        "sum_of_elements = sum(list_11)\n",
        "\n",
        "# Print sum\n",
        "print(f'Sum of list elements: {sum_of_elements}')"
      ]
    },
    {
      "cell_type": "markdown",
      "metadata": {},
      "source": [
        "### 16. Find the maximum value in a list."
      ]
    },
    {
      "cell_type": "code",
      "execution_count": 21,
      "metadata": {},
      "outputs": [
        {
          "name": "stdout",
          "output_type": "stream",
          "text": [
            "Max element of list: 99\n"
          ]
        }
      ],
      "source": [
        "# Create a list\n",
        "list_12 = [1, 2, 5, 9, 7, 8, 9, 9, 10, 34, 5, 6, 7, 99, 0]\n",
        "\n",
        "# Compute Max element\n",
        "max_of_elements = max(list_12)\n",
        "\n",
        "# Print Max\n",
        "print(f'Max element of list: {max_of_elements}')"
      ]
    },
    {
      "cell_type": "markdown",
      "metadata": {},
      "source": [
        "### 17. Find the minimum value in a list."
      ]
    },
    {
      "cell_type": "code",
      "execution_count": 23,
      "metadata": {},
      "outputs": [
        {
          "name": "stdout",
          "output_type": "stream",
          "text": [
            "Minimum element of list: 0\n"
          ]
        }
      ],
      "source": [
        "# Create a list\n",
        "list_13 = [1, 2, 5, 9, 7, 8, 9, 9, 10, 34, 5, 6, 7, 99, 0]\n",
        "\n",
        "# Compute Min element\n",
        "min_of_elements = min(list_13)\n",
        "\n",
        "# Print Max\n",
        "print(f'Minimum element of list: {min_of_elements}')"
      ]
    },
    {
      "cell_type": "markdown",
      "metadata": {},
      "source": [
        "### 18. Create a list of squares of numbers from 1 to 10."
      ]
    },
    {
      "cell_type": "code",
      "execution_count": 25,
      "metadata": {},
      "outputs": [
        {
          "name": "stdout",
          "output_type": "stream",
          "text": [
            "List of square of 1 to 10: [1, 4, 9, 16, 25, 36, 49, 64, 81, 100]\n"
          ]
        }
      ],
      "source": [
        "# Approach - Using list comprehension and returning square of number from range(1, 11)\n",
        "\n",
        "# Create a list of squares of numbers\n",
        "squares_list = [num**2 for num in range(1, 11)]\n",
        "\n",
        "# Print the list of odd numbers\n",
        "print(f'List of square of 1 to 10: {squares_list}')"
      ]
    },
    {
      "cell_type": "markdown",
      "metadata": {},
      "source": [
        "### 19. Create a list of random numbers."
      ]
    },
    {
      "cell_type": "code",
      "execution_count": 33,
      "metadata": {},
      "outputs": [
        {
          "name": "stdout",
          "output_type": "stream",
          "text": [
            "[22, 501, 724, 114, 420, 136, 734, 155, 560, 303]\n"
          ]
        }
      ],
      "source": [
        "import random\n",
        "\n",
        "# Approach - Will generate random numbers (int) (10 random numbers from range of 0 - 1000)\n",
        "\n",
        "# Create list of random numbers\n",
        "random_numbers = [random.randint(0, 1000) for i in range(0, 10)]\n",
        "\n",
        "# Print random numbers\n",
        "print(random_numbers)"
      ]
    },
    {
      "cell_type": "markdown",
      "metadata": {},
      "source": [
        "### 20. Remove duplicates from a list."
      ]
    },
    {
      "cell_type": "code",
      "execution_count": 34,
      "metadata": {},
      "outputs": [
        {
          "name": "stdout",
          "output_type": "stream",
          "text": [
            "[0, 1, 99, 5, 7, 8, 9, 10]\n"
          ]
        }
      ],
      "source": [
        "# Approach - Since Set is collection tupe of unique elements, converting to set and converting it back to list will help\n",
        "\n",
        "# Create a list\n",
        "list_with_duplicates = [1, 9, 5, 9, 7, 8, 9, 9, 10, 1, 5, 5, 7, 99, 0]\n",
        "\n",
        "# Set of unique values\n",
        "unique_val_set = set(list_with_duplicates)\n",
        "\n",
        "# List from set\n",
        "list_without_duplicates = list(unique_val_set)\n",
        "\n",
        "# Print unique values\n",
        "print(list_without_duplicates)"
      ]
    },
    {
      "cell_type": "markdown",
      "metadata": {},
      "source": [
        "### 21. Find the common elements between two lists."
      ]
    },
    {
      "cell_type": "code",
      "execution_count": 2,
      "metadata": {},
      "outputs": [
        {
          "name": "stdout",
          "output_type": "stream",
          "text": [
            "[2, 8, 'Robin']\n"
          ]
        }
      ],
      "source": [
        "# Approach - Iterate on one list's elements (here we are using list comprehension) and check if that element is in other list\n",
        "\n",
        "# Create Lists\n",
        "list_1 = [1,2,4,8,9, 'Robin']\n",
        "list_2 = [2,3,5,6,8, 'Robin']\n",
        "\n",
        "# Find common values\n",
        "common_elements = [element for element in list_1 if element in list_2]\n",
        "\n",
        "# Print values\n",
        "print(common_elements)"
      ]
    },
    {
      "cell_type": "markdown",
      "metadata": {},
      "source": [
        "### 22. Find the difference between two lists."
      ]
    },
    {
      "cell_type": "code",
      "execution_count": 10,
      "metadata": {},
      "outputs": [
        {
          "name": "stdout",
          "output_type": "stream",
          "text": [
            "[1, 99, 4, 9, 'Pabbi']\n"
          ]
        }
      ],
      "source": [
        "# Approach - Same as que 21 but here we will check not in list 2\n",
        "\n",
        "# Create Lists\n",
        "list_3 = [1,99,4,8,9, 'Robin', 'Pabbi']\n",
        "list_4 = [2,5,6,8, 'Robin']\n",
        "\n",
        "# Find difference list3 - list4\n",
        "difference = [element for element in list_3 if element not in list_4]\n",
        "\n",
        "# Print values\n",
        "print(difference)"
      ]
    },
    {
      "cell_type": "code",
      "execution_count": 11,
      "metadata": {},
      "outputs": [
        {
          "name": "stdout",
          "output_type": "stream",
          "text": [
            "[1, 2, 99, 4, 5, 6, 9, 'Pabbi']\n"
          ]
        }
      ],
      "source": [
        "# Second solution - to get complete difference (means non common elements from both lists)\n",
        "# Above solution gave only list 3 elements which are not in list 4\n",
        "\n",
        "# Approach using - Can we use symmetric_difference function of set\n",
        "# Learning - symmetric_difference gives difference (non common and unique elements) from both sets\n",
        "\n",
        "# Create Lists\n",
        "list_5 = [1,99,4,4,8,9, 'Robin', 'Pabbi']\n",
        "list_6 = [2,5,6,8, 'Robin']\n",
        "\n",
        "# Find difference list3 - list4\n",
        "difference1 = list(set(list_5).symmetric_difference(list_6))\n",
        "\n",
        "# Print values\n",
        "print(difference1)"
      ]
    },
    {
      "cell_type": "markdown",
      "metadata": {},
      "source": [
        "### 23. Merge two lists."
      ]
    },
    {
      "cell_type": "code",
      "execution_count": 12,
      "metadata": {},
      "outputs": [
        {
          "name": "stdout",
          "output_type": "stream",
          "text": [
            "['Hi', 1, 2, 4, 'Robin', 'Pabbi', 5, 6, 7]\n"
          ]
        }
      ],
      "source": [
        "# Approach - Use concatenation + operator\n",
        "\n",
        "# Create Lists\n",
        "list_1 = ['Hi', 1, 2, 4, 'Robin']\n",
        "list_2 = ['Pabbi', 5, 6, 7]\n",
        "\n",
        "# Find difference list3 - list4\n",
        "merged_list = list_1 + list_2\n",
        "\n",
        "# Print values\n",
        "print(merged_list)"
      ]
    },
    {
      "cell_type": "markdown",
      "metadata": {},
      "source": [
        "### 24. Multiply all elements in a list by 2."
      ]
    },
    {
      "cell_type": "code",
      "execution_count": 14,
      "metadata": {},
      "outputs": [
        {
          "name": "stdout",
          "output_type": "stream",
          "text": [
            "[2, 4, 74, 156, 198, 200]\n"
          ]
        }
      ],
      "source": [
        "# Approach - Using List comprehension\n",
        "\n",
        "# Create a list\n",
        "list_to_multiply = [1, 2, 37, 78, 99, 100]\n",
        "\n",
        "# Perform multiplication\n",
        "list_double_values = [num * 2 for num in list_to_multiply]\n",
        "\n",
        "# Print Resulted List\n",
        "print(list_double_values)"
      ]
    },
    {
      "cell_type": "markdown",
      "metadata": {},
      "source": [
        "\n",
        "### 25. Filter out all even numbers from a list."
      ]
    },
    {
      "cell_type": "code",
      "execution_count": 19,
      "metadata": {},
      "outputs": [
        {
          "data": {
            "text/plain": [
              "[2, 78, 100, 4, 6, 22]"
            ]
          },
          "execution_count": 19,
          "metadata": {},
          "output_type": "execute_result"
        }
      ],
      "source": [
        "# Approach - Although we can use list comprehension here too but we will use filter built in method\n",
        "\n",
        "# Function - Takes int as input and return boolean (True if even else False)\n",
        "def is_even(num:int)-> bool:\n",
        "    return num %2 == 0\n",
        "\n",
        "# Create a list\n",
        "list_to_filter = [1, 2, 37, 78, 99, 100, 4, 6, 7, 22, 33]\n",
        "\n",
        "# Apply filter to list\n",
        "even_numbers = list(filter(is_even, list_to_filter))\n",
        "\n",
        "# Print Result\n",
        "even_numbers"
      ]
    },
    {
      "cell_type": "markdown",
      "metadata": {},
      "source": [
        "### 26. Convert a list of strings to a list of integers."
      ]
    },
    {
      "cell_type": "code",
      "execution_count": 22,
      "metadata": {},
      "outputs": [
        {
          "name": "stdout",
          "output_type": "stream",
          "text": [
            "[26, 9, 17, 8, 143]\n"
          ]
        }
      ],
      "source": [
        "\n",
        "# Create List of Integer values as string\n",
        "list_string_integers = ['26', '9', '17', '8', '143']\n",
        "\n",
        "# Convert string elements to numbers (integers)\n",
        "list_numbers = [int(strNum) for strNum in list_string_integers]\n",
        "\n",
        "# Print numeric list\n",
        "print(list_numbers)"
      ]
    },
    {
      "cell_type": "markdown",
      "metadata": {},
      "source": [
        "### 27. Convert a list of integers to a list of strings."
      ]
    },
    {
      "cell_type": "code",
      "execution_count": null,
      "metadata": {},
      "outputs": [],
      "source": [
        "# Create List of Integer values\n",
        "list_integers = [26, 9, 17, 8, 143]\n",
        "\n",
        "# Convert int elements to string\n",
        "list_string_numbers = [str(num) for num in list_integers]\n",
        "\n",
        "# Print numeric list\n",
        "print(list_string_numbers)"
      ]
    },
    {
      "cell_type": "markdown",
      "metadata": {},
      "source": [
        "### 28. Flatten a nested list."
      ]
    },
    {
      "cell_type": "code",
      "execution_count": null,
      "metadata": {},
      "outputs": [],
      "source": []
    },
    {
      "cell_type": "markdown",
      "metadata": {},
      "source": [
        "### 29. Create a list of the first 10 Fibonacci numbers."
      ]
    },
    {
      "cell_type": "code",
      "execution_count": null,
      "metadata": {},
      "outputs": [],
      "source": []
    },
    {
      "cell_type": "markdown",
      "metadata": {},
      "source": [
        "### 30. Check if a list is sorted."
      ]
    },
    {
      "cell_type": "code",
      "execution_count": null,
      "metadata": {},
      "outputs": [],
      "source": []
    },
    {
      "cell_type": "markdown",
      "metadata": {},
      "source": [
        "### 31. Rotate a list to the left by `n` positions."
      ]
    },
    {
      "cell_type": "code",
      "execution_count": null,
      "metadata": {},
      "outputs": [],
      "source": []
    },
    {
      "cell_type": "markdown",
      "metadata": {},
      "source": [
        "### 32. Rotate a list to the right by `n` positions."
      ]
    },
    {
      "cell_type": "code",
      "execution_count": null,
      "metadata": {},
      "outputs": [],
      "source": []
    },
    {
      "cell_type": "markdown",
      "metadata": {},
      "source": [
        "### 33. Create a list of prime numbers up to 50."
      ]
    },
    {
      "cell_type": "code",
      "execution_count": null,
      "metadata": {},
      "outputs": [],
      "source": []
    },
    {
      "cell_type": "markdown",
      "metadata": {},
      "source": [
        "### 34. Split a list into chunks of size `n`."
      ]
    },
    {
      "cell_type": "code",
      "execution_count": null,
      "metadata": {},
      "outputs": [],
      "source": []
    },
    {
      "cell_type": "markdown",
      "metadata": {},
      "source": [
        "### 35. Find the second largest number in a list."
      ]
    },
    {
      "cell_type": "code",
      "execution_count": null,
      "metadata": {},
      "outputs": [],
      "source": []
    },
    {
      "cell_type": "markdown",
      "metadata": {},
      "source": [
        "### 36. Replace every element in a list with its square."
      ]
    },
    {
      "cell_type": "code",
      "execution_count": null,
      "metadata": {},
      "outputs": [],
      "source": []
    },
    {
      "cell_type": "markdown",
      "metadata": {},
      "source": [
        "### 37. Convert a list to a dictionary where list elements become keys and their indices become values."
      ]
    },
    {
      "cell_type": "code",
      "execution_count": null,
      "metadata": {},
      "outputs": [],
      "source": []
    },
    {
      "cell_type": "markdown",
      "metadata": {},
      "source": [
        "### 38. Shuffle the elements of a list randomly."
      ]
    },
    {
      "cell_type": "code",
      "execution_count": null,
      "metadata": {},
      "outputs": [],
      "source": []
    },
    {
      "cell_type": "markdown",
      "metadata": {},
      "source": [
        "\n",
        "### 39. Create a list of the first 10 factorial numbers."
      ]
    },
    {
      "cell_type": "markdown",
      "metadata": {},
      "source": []
    }
  ],
  "metadata": {
    "colab": {
      "provenance": []
    },
    "kernelspec": {
      "display_name": "Python 3",
      "name": "python3"
    },
    "language_info": {
      "codemirror_mode": {
        "name": "ipython",
        "version": 3
      },
      "file_extension": ".py",
      "mimetype": "text/x-python",
      "name": "python",
      "nbconvert_exporter": "python",
      "pygments_lexer": "ipython3",
      "version": "3.11.4"
    }
  },
  "nbformat": 4,
  "nbformat_minor": 0
}
