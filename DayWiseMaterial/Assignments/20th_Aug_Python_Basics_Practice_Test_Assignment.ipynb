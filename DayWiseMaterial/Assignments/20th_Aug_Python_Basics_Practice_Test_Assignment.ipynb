{
  "cells": [
    {
      "cell_type": "markdown",
      "metadata": {
        "id": "rqaKSZ7_BfaB"
      },
      "source": [
        "# String Based Assignment Problem"
      ]
    },
    {
      "cell_type": "markdown",
      "metadata": {
        "id": "n6DUob9LCYY_"
      },
      "source": [
        "### 1. Write a program to reverse a string."
      ]
    },
    {
      "cell_type": "code",
      "execution_count": null,
      "metadata": {
        "colab": {
          "base_uri": "https://localhost:8080/"
        },
        "id": "gDK3KvKhBKu8",
        "outputId": "7e7450ef-08d6-48f4-ba89-6ae5f1e77ea6"
      },
      "outputs": [
        {
          "name": "stdout",
          "output_type": "stream",
          "text": [
            "Enter a string to reverse:Hello, this is a string to reverse.\n",
            ".esrever ot gnirts a si siht ,olleH\n"
          ]
        }
      ],
      "source": [
        "# Take input string from user\n",
        "string_to_reverse = input('Enter a string to reverse:')\n",
        "\n",
        "# Reversing a string\n",
        "reversed_string = string_to_reverse[::-1]\n",
        "\n",
        "# Printing reversed string\n",
        "print(reversed_string)"
      ]
    },
    {
      "cell_type": "markdown",
      "metadata": {
        "id": "986iEaggDJ2M"
      },
      "source": [
        "### 2. Check if a string is a palindrome."
      ]
    },
    {
      "cell_type": "code",
      "execution_count": null,
      "metadata": {
        "colab": {
          "base_uri": "https://localhost:8080/"
        },
        "id": "-Hh8a6MABZOf",
        "outputId": "6acdc50c-b9fc-4f96-99a7-78d0d3050e44"
      },
      "outputs": [
        {
          "name": "stdout",
          "output_type": "stream",
          "text": [
            "Enter a string to check:babab\n",
            "True\n"
          ]
        }
      ],
      "source": [
        "# Approach - String is called Palindrome when reverse of string and string both are equal\n",
        "\n",
        "# Creating a function to return True if Palindrome, else False\n",
        "def is_palindrome(string_to_check:str) -> bool:\n",
        "  string_to_check = string_to_check.lower()\n",
        "  reverse_of_string = string_to_check[::-1]\n",
        "  return reverse_of_string == string_to_check\n",
        "\n",
        "# Take input string from user\n",
        "string_to_check = input('Enter a string to check:')\n",
        "\n",
        "# Checking string for Palindrome\n",
        "palindrome = is_palindrome(string_to_check)\n",
        "\n",
        "# Print whether Palindrome or not\n",
        "print(palindrome)"
      ]
    },
    {
      "cell_type": "markdown",
      "metadata": {
        "id": "aftOuxOHFGaB"
      },
      "source": [
        "### 3. Convert a string to uppercase."
      ]
    },
    {
      "cell_type": "code",
      "execution_count": null,
      "metadata": {
        "colab": {
          "base_uri": "https://localhost:8080/"
        },
        "id": "Ksb9ijgzE2gO",
        "outputId": "ca669988-27d6-4849-ba49-1c490a322bf9"
      },
      "outputs": [
        {
          "name": "stdout",
          "output_type": "stream",
          "text": [
            "Enter a string to convert to Upper Case:Robin Pabbi\n",
            "Uppercase string is: ROBIN PABBI\n"
          ]
        }
      ],
      "source": [
        "# Take input string from user\n",
        "string_input_1 = input('Enter a string to convert to Upper Case:')\n",
        "\n",
        "# Coverting to UpperCase\n",
        "upper_case_str = string_input_1.upper()\n",
        "\n",
        "# Printing output\n",
        "print(f'Uppercase string is: {upper_case_str}')"
      ]
    },
    {
      "cell_type": "markdown",
      "metadata": {
        "id": "dWr3hQJvGksH"
      },
      "source": [
        "### 4. Convert a string to lowercase."
      ]
    },
    {
      "cell_type": "code",
      "execution_count": null,
      "metadata": {
        "colab": {
          "base_uri": "https://localhost:8080/"
        },
        "id": "jULp1vYGFbzn",
        "outputId": "c99e551b-4bfe-49b9-a396-f69d53ceaec1"
      },
      "outputs": [
        {
          "name": "stdout",
          "output_type": "stream",
          "text": [
            "Enter a string to convert to Lower Case:Robin Pabbi\n",
            "LowerCase string is: robin pabbi\n"
          ]
        }
      ],
      "source": [
        "# Take input string from user\n",
        "string_input_2 = input('Enter a string to convert to Lower Case:')\n",
        "\n",
        "# Coverting to LowerCase\n",
        "lower_case_str = string_input_2.lower()\n",
        "\n",
        "# Printing output\n",
        "print(f'LowerCase string is: {lower_case_str}')"
      ]
    },
    {
      "cell_type": "markdown",
      "metadata": {
        "id": "PnMH4lxdG9pC"
      },
      "source": [
        "### 5. Count the number of vowels in a string."
      ]
    },
    {
      "cell_type": "code",
      "execution_count": null,
      "metadata": {
        "colab": {
          "base_uri": "https://localhost:8080/"
        },
        "id": "k53LgdGSGiPP",
        "outputId": "c2e7c85c-18f9-4025-e172-d4d7b034d1ef"
      },
      "outputs": [
        {
          "name": "stdout",
          "output_type": "stream",
          "text": [
            "Enter a string to check count of Vowels:Robin Pabbi\n",
            "Number of vowels: 4\n"
          ]
        }
      ],
      "source": [
        "# Keeping the list of vowels to check from\n",
        "VOWELS = ['a', 'e', 'i', 'o', 'u', 'A', 'E', 'I', 'O', 'U']\n",
        "\n",
        "# Function to check count of Vowels\n",
        "def count_vowels(string_to_check:str) -> int:\n",
        "  count:int = 0\n",
        "  for vowel in VOWELS:\n",
        "    count += string_to_check.count(vowel)\n",
        "  return count\n",
        "\n",
        "# Take input string from user\n",
        "string_to_count_vowels = input('Enter a string to check count of Vowels:')\n",
        "\n",
        "# Count number of vowels\n",
        "count_of_vowels = count_vowels(string_to_count_vowels)\n",
        "\n",
        "# Print number of vowels in string\n",
        "print(f'Number of vowels: {count_of_vowels}')"
      ]
    },
    {
      "cell_type": "markdown",
      "metadata": {
        "id": "BfpOMbZ_LtKf"
      },
      "source": [
        "### 6. Count the number of consonants in a string."
      ]
    },
    {
      "cell_type": "code",
      "execution_count": null,
      "metadata": {
        "colab": {
          "base_uri": "https://localhost:8080/"
        },
        "id": "Rt3-LCA9HVmQ",
        "outputId": "e7cb38ee-441a-4e04-b597-cb18d9d6b653"
      },
      "outputs": [
        {
          "name": "stdout",
          "output_type": "stream",
          "text": [
            "Enter a string to check count of Consonants:Robin Pabbi checking count of consonants\n",
            "Number of consonants: 28\n"
          ]
        }
      ],
      "source": [
        "# Approach: Here we are going to count the number of vowels and then subtract it from length of string\n",
        "# List on consonants is long so iterating in consonants is right approach, so using above approach\n",
        "\n",
        "# For completeness will redefine the VOWELS list here, so that solution is independent and complete\n",
        "VOWELS = ['a', 'e', 'i', 'o', 'u', 'A', 'E', 'I', 'O', 'U']\n",
        "\n",
        "# Function to check count of Vowels\n",
        "def count_consonants(string_to_check:str) -> int:\n",
        "  vowel_count:int = 0\n",
        "  for vowel in VOWELS:\n",
        "    vowel_count += string_to_check.count(vowel)\n",
        "  return len(string_to_check) - vowel_count\n",
        "\n",
        "# Take input string from user\n",
        "string_to_count_consonants = input('Enter a string to check count of Consonants:')\n",
        "\n",
        "# Count number of vowels\n",
        "count_of_consonants = count_consonants(string_to_count_consonants)\n",
        "\n",
        "# Print number of vowels in string\n",
        "print(f'Number of consonants: {count_of_consonants}')"
      ]
    },
    {
      "cell_type": "markdown",
      "metadata": {
        "id": "_Nbra5KXSRM_"
      },
      "source": [
        "### 7. Remove all whitespaces from a string."
      ]
    },
    {
      "cell_type": "code",
      "execution_count": null,
      "metadata": {
        "colab": {
          "base_uri": "https://localhost:8080/"
        },
        "id": "wSLHp0HbSHKm",
        "outputId": "d36b034a-f86f-4038-8c75-fe3465a77845"
      },
      "outputs": [
        {
          "name": "stdout",
          "output_type": "stream",
          "text": [
            "Enter a string to remove white spaces:I am a software developer. I love coding.\n",
            "String without spaces: Iamasoftwaredeveloper.Ilovecoding.\n"
          ]
        }
      ],
      "source": [
        "# Approach - replace all the spaces with empty string\n",
        "\n",
        "# Take input string from user\n",
        "string_to_remove_whitespaces = input('Enter a string to remove white spaces:')\n",
        "\n",
        "# Removing whitespaces\n",
        "string_without_whitespaces = string_to_remove_whitespaces.replace(' ', '')\n",
        "\n",
        "# Print string without whitespaces\n",
        "print(f'String without spaces: {string_without_whitespaces}')"
      ]
    },
    {
      "cell_type": "markdown",
      "metadata": {
        "id": "ja7qgj-pUI4Z"
      },
      "source": [
        "### 8. Find the length of a string without using the `len()` function."
      ]
    },
    {
      "cell_type": "code",
      "execution_count": null,
      "metadata": {
        "colab": {
          "base_uri": "https://localhost:8080/"
        },
        "id": "jK1PIoTfTloI",
        "outputId": "dc6ca9b8-24aa-48d5-9676-c43bc525ad72"
      },
      "outputs": [
        {
          "name": "stdout",
          "output_type": "stream",
          "text": [
            "Enter a string:Robin Pabbi\n",
            "Length of string: 11\n"
          ]
        }
      ],
      "source": [
        "# Approach iterate on string and increment counter variable\n",
        "\n",
        "# Function with code of fining length\n",
        "def length(string_input) -> int:\n",
        "  count = 0\n",
        "  for char in string_input:\n",
        "    count += 1\n",
        "  return count\n",
        "\n",
        "\n",
        "# Take input string from user\n",
        "string_to_find_lenght = input('Enter a string:')\n",
        "\n",
        "# Retrieve Length\n",
        "length_of_string = length(string_to_find_lenght)\n",
        "\n",
        "# Print length of string\n",
        "print(f'Length of string: {length_of_string}')"
      ]
    },
    {
      "cell_type": "markdown",
      "metadata": {
        "id": "tjS_NKKpIeTh"
      },
      "source": [
        "### 9. Check if a string contains a specific word."
      ]
    },
    {
      "cell_type": "code",
      "execution_count": null,
      "metadata": {
        "colab": {
          "base_uri": "https://localhost:8080/"
        },
        "id": "2SyFPeLOIR-a",
        "outputId": "eee14350-5369-4c02-88f1-285de27609fa"
      },
      "outputs": [
        {
          "name": "stdout",
          "output_type": "stream",
          "text": [
            "Enter a string:Hello how are you?\n",
            "Enter a word to search in string:how\n",
            "Word exists in string: True\n"
          ]
        }
      ],
      "source": [
        "# Approach - try to find index of first occurence of the word, if not -1 then it exists\n",
        "# Assumption - We treat words to be case sensitive\n",
        "# if we want to do case insensitive search then we have to convert string and word to same case\n",
        "\n",
        "# Take input string from user\n",
        "string_to_search = input('Enter a string:')\n",
        "\n",
        "# Take word to search from above string\n",
        "word_to_search = input('Enter a word to search in string:')\n",
        "\n",
        "# Find the index of word in the string\n",
        "indx = string_to_search.find(word_to_search)\n",
        "\n",
        "# Print if exists or not\n",
        "print(f'Word exists in string: {indx > -1}')"
      ]
    },
    {
      "cell_type": "markdown",
      "metadata": {
        "id": "AxnMCVTwK35X"
      },
      "source": [
        "### 10. Replace a word in a string with another word."
      ]
    },
    {
      "cell_type": "code",
      "execution_count": null,
      "metadata": {
        "colab": {
          "base_uri": "https://localhost:8080/"
        },
        "id": "xvnqZq6bKa8H",
        "outputId": "f681b46d-0e01-41ce-b694-4476be958f5c"
      },
      "outputs": [
        {
          "name": "stdout",
          "output_type": "stream",
          "text": [
            "Enter a string:This is a string for replacement.\n",
            "Enter a word to replace in string:for\n",
            "Enter a word which will replace \"for\":after\n",
            "Replaced string: This is a string after replacement.\n"
          ]
        }
      ],
      "source": [
        "# Approach - use replace function\n",
        "\n",
        "# Take input string from user\n",
        "string_inpt = input('Enter a string:')\n",
        "\n",
        "# Take word to replace from above string\n",
        "word_to_replace = input('Enter a word to replace in string:')\n",
        "\n",
        "# Take word input - this word should replace above inputted word from string if exists\n",
        "word_to_replace_with = input(f'Enter a word which will replace \"{word_to_replace}\":')\n",
        "\n",
        "# Replace word in string\n",
        "replaced_string = string_inpt.replace(word_to_replace, word_to_replace_with)\n",
        "\n",
        "# Print string after replace\n",
        "print(f'Replaced string: {replaced_string}')"
      ]
    },
    {
      "cell_type": "markdown",
      "metadata": {
        "id": "fCIsJqToOvkn"
      },
      "source": [
        "### 11. Count the occurrences of a word in a string."
      ]
    },
    {
      "cell_type": "code",
      "execution_count": null,
      "metadata": {
        "colab": {
          "base_uri": "https://localhost:8080/"
        },
        "id": "g0QcmMSSMXTx",
        "outputId": "7db9ccd9-4dc3-4d17-9aa1-7ef26f87516b"
      },
      "outputs": [
        {
          "name": "stdout",
          "output_type": "stream",
          "text": [
            "Enter a string:This is a sentence of words where we are counting the occurrence of words\n",
            "Enter a word to count in string:words\n",
            "Number of occurrences: 2\n"
          ]
        }
      ],
      "source": [
        "# Approach - convert string to list of words and then count the occurences\n",
        "# Although we can count function directly but in that case it will not count words but substrings\n",
        "# Like in 'wordwordword', substring count of 'word' will be 3 but word count will be 0\n",
        "\n",
        "def count_occurences_of_word(string_input:str, word_to_compare:str) -> int:\n",
        "  # get list of words\n",
        "  list_of_words = string_input.split(' ')\n",
        "  count_of_occurences = 0\n",
        "  # Iterate the words list\n",
        "  for word in list_of_words:\n",
        "    if word == word_to_compare:\n",
        "      count_of_occurences += 1\n",
        "\n",
        "  return count_of_occurences\n",
        "\n",
        "# Take input string from user\n",
        "string_inpt = input('Enter a string:')\n",
        "\n",
        "# Take word to replace from above string\n",
        "word_to_count_occurences = input('Enter a word to count in string:')\n",
        "\n",
        "# Count the number of occurences\n",
        "count_of_word_occurences = count_occurences_of_word(string_inpt, word_to_count_occurences)\n",
        "\n",
        "# Print Occurences\n",
        "print(f'Number of occurrences: {count_of_word_occurences}')"
      ]
    },
    {
      "cell_type": "markdown",
      "metadata": {
        "id": "L_cqidLIOwJ_"
      },
      "source": [
        "### 12. Find the first occurrence of a word in a string."
      ]
    },
    {
      "cell_type": "code",
      "execution_count": null,
      "metadata": {
        "colab": {
          "base_uri": "https://localhost:8080/"
        },
        "id": "V3kUqrtOOwiR",
        "outputId": "06c116ab-87b0-4598-99b2-78194804d49a"
      },
      "outputs": [
        {
          "name": "stdout",
          "output_type": "stream",
          "text": [
            "Enter a string:This is a sentence of words where we are counting the occurrence of words\n",
            "Enter a word to find in string:words\n",
            "Given word's fist occurence is present at index: 22\n"
          ]
        }
      ],
      "source": [
        "# Approach - use the find method to find the index of first occurence\n",
        "\n",
        "# Take input string from user\n",
        "string_inpt = input('Enter a string:')\n",
        "\n",
        "# Take word to find first occurrence in the string\n",
        "word_to_find_first_occurence = input('Enter a word to find in string:')\n",
        "\n",
        "# Find the first index of word\n",
        "first_index = string_inpt.find(word_to_find_first_occurence)\n",
        "\n",
        "# Print the result\n",
        "if first_index == -1:\n",
        "  print('Could not find the given word.')\n",
        "else:\n",
        "  print(f\"Given word's fist occurence is present at index: {first_index} in the string.\")"
      ]
    },
    {
      "cell_type": "markdown",
      "metadata": {
        "id": "zBhK6xTmUuMK"
      },
      "source": [
        "### 13. Find the last occurrence of a word in a string."
      ]
    },
    {
      "cell_type": "code",
      "execution_count": null,
      "metadata": {
        "colab": {
          "base_uri": "https://localhost:8080/"
        },
        "id": "AGswpuqsUQCX",
        "outputId": "7a1f9a77-041e-459a-a227-f0330229001f"
      },
      "outputs": [
        {
          "name": "stdout",
          "output_type": "stream",
          "text": [
            "Enter a string:This is a sentence of words where we are counting the occurrence of words\n",
            "Enter a word to find in string:words\n",
            "Given word's last occurence is present at index: 68 in the string.\n"
          ]
        }
      ],
      "source": [
        "# Approach - use the rfind method to find the index of last occurence\n",
        "\n",
        "# Take input string from user\n",
        "string_inpt = input('Enter a string:')\n",
        "\n",
        "# Take word to find last occurrence in the string\n",
        "word_to_find_last_occurence = input('Enter a word to find in string:')\n",
        "\n",
        "# Find the last index of word\n",
        "last_index = string_inpt.rfind(word_to_find_last_occurence)\n",
        "\n",
        "# Print the result\n",
        "if last_index == -1:\n",
        "  print('Could not find the given word.')\n",
        "else:\n",
        "  print(f\"Given word's last occurence is present at index: {last_index} in the string.\")"
      ]
    },
    {
      "cell_type": "markdown",
      "metadata": {
        "id": "604Qv0N9VN-r"
      },
      "source": [
        "### 14. Split a string into a list of words."
      ]
    },
    {
      "cell_type": "code",
      "execution_count": null,
      "metadata": {
        "colab": {
          "base_uri": "https://localhost:8080/"
        },
        "id": "PsKDNmyRVC3_",
        "outputId": "ac613021-b9de-4ffb-e972-976402d79e30"
      },
      "outputs": [
        {
          "name": "stdout",
          "output_type": "stream",
          "text": [
            "Enter a string:Here is a sentence with some words in it\n",
            "['Here', 'is', 'a', 'sentence', 'with', 'some', 'words', 'in', 'it']\n"
          ]
        }
      ],
      "source": [
        "# Approach - use split function\n",
        "\n",
        "# Take input string from user\n",
        "string_inpt = input('Enter a string:')\n",
        "\n",
        "# Split the string with space\n",
        "list_of_words = string_inpt.split(' ')\n",
        "\n",
        "# Splitted string print\n",
        "print(list_of_words)"
      ]
    },
    {
      "cell_type": "markdown",
      "metadata": {
        "id": "RRAUJfs_W1Rr"
      },
      "source": [
        "### 15. Join a list of words into a string."
      ]
    },
    {
      "cell_type": "code",
      "execution_count": null,
      "metadata": {
        "colab": {
          "base_uri": "https://localhost:8080/"
        },
        "id": "EEuXDz2RWtgP",
        "outputId": "ef39c650-fd28-4cd1-a5b9-1032bba34cb9"
      },
      "outputs": [
        {
          "name": "stdout",
          "output_type": "stream",
          "text": [
            "Here is a sentence with some words in it\n"
          ]
        }
      ],
      "source": [
        "# Approach - Use join funtion with space delimiter to that we get the sentence with words\n",
        "\n",
        "# List of words\n",
        "list_of_words  = ['Here', 'is', 'a', 'sentence', 'with', 'some', 'words', 'in', 'it']\n",
        "\n",
        "# Joining the words\n",
        "joined_string = ' '.join(list_of_words)\n",
        "\n",
        "# print result\n",
        "print(joined_string)"
      ]
    },
    {
      "cell_type": "markdown",
      "metadata": {
        "id": "miGu6c07Zr2x"
      },
      "source": [
        "### 16. Convert a string where words are separated by spaces to one where words are separated by underscores.\n"
      ]
    },
    {
      "cell_type": "code",
      "execution_count": null,
      "metadata": {
        "colab": {
          "base_uri": "https://localhost:8080/"
        },
        "id": "6lV3C0N7ZoLW",
        "outputId": "a3671fcd-499b-4375-a2a6-011f35375019"
      },
      "outputs": [
        {
          "name": "stdout",
          "output_type": "stream",
          "text": [
            "Enter a string:Here is a sentence with some words in it\n",
            "Here_is_a_sentence_with_some_words_in_it\n"
          ]
        }
      ],
      "source": [
        "# Approach - simply replace spaces with underscores(_) in string\n",
        "\n",
        "# Take input string from user\n",
        "string_inpt = input('Enter a string:')\n",
        "\n",
        "# Replace ' ' with '_' in string\n",
        "string_with_spaces_replaced = string_inpt.replace(' ', '_')\n",
        "\n",
        "# Print result\n",
        "print(string_with_spaces_replaced)"
      ]
    },
    {
      "cell_type": "markdown",
      "metadata": {
        "id": "RVj5KQTScofK"
      },
      "source": [
        "### 17. Check if a string starts with a specific word or phrase."
      ]
    },
    {
      "cell_type": "code",
      "execution_count": null,
      "metadata": {
        "colab": {
          "base_uri": "https://localhost:8080/"
        },
        "id": "Pz2TJfe1cj8-",
        "outputId": "0d56fc55-7b25-447c-bfdd-4d252929deb3"
      },
      "outputs": [
        {
          "name": "stdout",
          "output_type": "stream",
          "text": [
            "Enter a string:The Himalayan Range.\n",
            "True\n"
          ]
        }
      ],
      "source": [
        "# Approach - use function startswith\n",
        "\n",
        "# Take input string from user\n",
        "string_inpt = input('Enter a string:')\n",
        "\n",
        "# check if string starts with 'The'\n",
        "starts_with_the = string_inpt.startswith('The')\n",
        "\n",
        "# Print Result\n",
        "print(starts_with_the)"
      ]
    },
    {
      "cell_type": "markdown",
      "metadata": {
        "id": "oOTloCcdegrt"
      },
      "source": [
        "### 18. Check if a string ends with a specific word or phrase."
      ]
    },
    {
      "cell_type": "code",
      "execution_count": null,
      "metadata": {
        "id": "lrJyEA5IdPTq"
      },
      "outputs": [],
      "source": [
        "# Approach - use function endswith\n",
        "\n",
        "# Take input string from user\n",
        "string_inpt = input('Enter a string:')\n",
        "\n",
        "# check if string starts with 'The'\n",
        "starts_with_the = string_inpt.endswith('.')\n",
        "\n",
        "# Print Result\n",
        "print(starts_with_the)"
      ]
    },
    {
      "cell_type": "markdown",
      "metadata": {
        "id": "5B4FqZ9S3tjI"
      },
      "source": [
        "### 19. Convert a string to title case (e.g., \"hello world\" to \"Hello World\")."
      ]
    },
    {
      "cell_type": "code",
      "execution_count": 24,
      "metadata": {
        "colab": {
          "base_uri": "https://localhost:8080/"
        },
        "id": "VDhG_UY93uEx",
        "outputId": "a77de567-d964-426e-c005-1aaf050dafaa"
      },
      "outputs": [
        {
          "name": "stdout",
          "output_type": "stream",
          "text": [
            "Enter a string:hello world\n",
            "Title case of string is: Hello World\n"
          ]
        }
      ],
      "source": [
        "# Approach - Use title inbuilt-function\n",
        "\n",
        "# Take input string from user\n",
        "string_inpt = input('Enter a string:')\n",
        "\n",
        "# Convert string to Title Case\n",
        "title_case_str = string_inpt.title()\n",
        "\n",
        "# Print Title Case string\n",
        "print(f'Title case of string is: {title_case_str}')"
      ]
    },
    {
      "cell_type": "markdown",
      "metadata": {
        "id": "mTWlYLH_3ukF"
      },
      "source": [
        "### 20. Find the longest word in a string.\n"
      ]
    },
    {
      "cell_type": "code",
      "execution_count": 15,
      "metadata": {
        "colab": {
          "base_uri": "https://localhost:8080/"
        },
        "id": "pyz0AgqU3u40",
        "outputId": "98470af0-404d-4da3-8540-4635afdb7327"
      },
      "outputs": [
        {
          "name": "stdout",
          "output_type": "stream",
          "text": [
            "Longest word in the string is: longest\n"
          ]
        }
      ],
      "source": [
        "# Approach - We will take list of words from string then get max according to length\n",
        "\n",
        "\n",
        "# Take input string from user\n",
        "string_inpt = input('Enter a string:')\n",
        "\n",
        "# Split string into words\n",
        "list_of_words = string_inpt.split(' ')\n",
        "\n",
        "# Get Longest word\n",
        "longest_word = max(list_of_words, key= len)\n",
        "\n",
        "# Print the longest word\n",
        "print(f'Longest word in the string is: {longest_word}')"
      ]
    },
    {
      "cell_type": "markdown",
      "metadata": {
        "id": "w7Teu_vX3wJF"
      },
      "source": [
        "### 21. Find the shortest word in a string."
      ]
    },
    {
      "cell_type": "code",
      "execution_count": 16,
      "metadata": {
        "colab": {
          "base_uri": "https://localhost:8080/"
        },
        "id": "aUO1qNju3wkT",
        "outputId": "0583ceca-6048-4643-c43b-01376db19a6c"
      },
      "outputs": [
        {
          "name": "stdout",
          "output_type": "stream",
          "text": [
            "Shortest word in the string is: a\n"
          ]
        }
      ],
      "source": [
        "# Approach - We will take list of words from string then min according to length\n",
        "\n",
        "# Function definition - Takes a string as input and return Shortest word\n",
        "def get_shortest_word(string_input:str) -> str:\n",
        "  # Get list of words\n",
        "  list_of_words = string_input.split(' ')\n",
        "\n",
        "  # Get sorted list of words as per length of word\n",
        "  sorted_word = min(list_of_words, key= len)\n",
        "\n",
        "  # return the shortest word i.e. first word\n",
        "  return sorted_word\n",
        "\n",
        "\n",
        "# Take input string from user\n",
        "string_inpt = input('Enter a string:')\n",
        "\n",
        "# Get shortest word\n",
        "shortest_word = get_shortest_word(string_inpt)\n",
        "\n",
        "# Print the longest word\n",
        "print(f'Shortest word in the string is: {shortest_word}')"
      ]
    },
    {
      "cell_type": "markdown",
      "metadata": {
        "id": "wyfhLcKX7AFv"
      },
      "source": [
        "### 22. Reverse the order of words in a string."
      ]
    },
    {
      "cell_type": "code",
      "execution_count": 28,
      "metadata": {
        "colab": {
          "base_uri": "https://localhost:8080/"
        },
        "id": "gMN4TojI66N0",
        "outputId": "6b7f6f08-27be-4925-fe40-52ddbba722ea"
      },
      "outputs": [
        {
          "name": "stdout",
          "output_type": "stream",
          "text": [
            "Enter a string:Here is a sentence\n",
            "Reversed order of words : sentence a is Here\n"
          ]
        }
      ],
      "source": [
        "# Approach - Since we need to reverse the order of words, we can not simply reverse the string\n",
        "# here we will first get list of words and then reverse it\n",
        "# then we will join the reverse list of words to string\n",
        "\n",
        "# Function - takes input as string and return the string with reversed order of words\n",
        "def reversed_order_words(string_input:str) -> str:\n",
        "  # Get list of words\n",
        "  list_of_words = string_input.split(' ')\n",
        "\n",
        "  # Reverse of list of words\n",
        "  reversed_list = list_of_words[::-1]\n",
        "\n",
        "  # Join the list of words to string\n",
        "  outcome = ' '.join(reversed_list)\n",
        "\n",
        "  # Return the result\n",
        "  return outcome\n",
        "\n",
        "\n",
        "# Take input string from user\n",
        "string_inpt = input('Enter a string:')\n",
        "\n",
        "# Get the reversed order words in the string\n",
        "reversed_ordered_words = reversed_order_words(string_inpt)\n",
        "\n",
        "# Print the result\n",
        "print(f'Reversed order of words : {reversed_ordered_words}')"
      ]
    },
    {
      "cell_type": "markdown",
      "metadata": {
        "id": "VFRrvKTc8Lc9"
      },
      "source": [
        "### 23. Check if a string is alphanumeric."
      ]
    },
    {
      "cell_type": "code",
      "execution_count": 29,
      "metadata": {
        "colab": {
          "base_uri": "https://localhost:8080/"
        },
        "id": "o9rhd13I8CGU",
        "outputId": "3fa2344b-37bd-473a-ca09-db3c16777434"
      },
      "outputs": [
        {
          "name": "stdout",
          "output_type": "stream",
          "text": [
            "Enter a string:whei234324\n",
            "True\n"
          ]
        }
      ],
      "source": [
        "# Approach - Use the isalnum() inbuit function\n",
        "\n",
        "# Take input string from user\n",
        "string_inpt = input('Enter a string:')\n",
        "\n",
        "# Check if string is alphanumeric\n",
        "is_alpha_numeric_str = string_inpt.isalnum()\n",
        "\n",
        "# Print result\n",
        "print(is_alpha_numeric_str)"
      ]
    },
    {
      "cell_type": "markdown",
      "metadata": {
        "id": "MTyXjcgO8wGw"
      },
      "source": [
        "### 24. Extract all digits from a string."
      ]
    },
    {
      "cell_type": "code",
      "execution_count": 38,
      "metadata": {
        "colab": {
          "base_uri": "https://localhost:8080/"
        },
        "id": "5b7nCZPd8qwV",
        "outputId": "0a12470a-081a-451e-a972-93e3047a2e8e"
      },
      "outputs": [
        {
          "name": "stdout",
          "output_type": "stream",
          "text": [
            "Enter a string:Here is a string with 2 3 4 digits 2 in it 5 6 7 56777886\n",
            "List of digits: [2, 3, 4, 2, 5, 6, 7, 5, 6, 7, 7, 7, 8, 8, 6]\n"
          ]
        }
      ],
      "source": [
        "# Approach - Here i will try to use list comprehension\n",
        "# Iterate the string for each characters and add to the list if it is digit (isdigit)\n",
        "\n",
        "# Take input string from user\n",
        "string_inpt = input('Enter a string:')\n",
        "\n",
        "# Split the string and iterate using list comprehension\n",
        "all_digits = [int(char) for char in string_inpt if char.isdigit()]\n",
        "\n",
        "# Print result\n",
        "print(f'List of digits: {all_digits}')"
      ]
    },
    {
      "cell_type": "markdown",
      "metadata": {
        "id": "YrSJ4tu9-UOn"
      },
      "source": [
        "### 25. Extract all alphabets from a string."
      ]
    },
    {
      "cell_type": "code",
      "execution_count": 40,
      "metadata": {
        "colab": {
          "base_uri": "https://localhost:8080/"
        },
        "id": "LoVetdVj-MCj",
        "outputId": "648c8558-e67f-42f0-8714-f68406091f32"
      },
      "outputs": [
        {
          "name": "stdout",
          "output_type": "stream",
          "text": [
            "Enter a string:Here is a string with 2 3 4 digits 2 in it 5 6 7 56777886\n",
            "List of alphabets: ['H', 'e', 'r', 'e', 'i', 's', 'a', 's', 't', 'r', 'i', 'n', 'g', 'w', 'i', 't', 'h', 'd', 'i', 'g', 'i', 't', 's', 'i', 'n', 'i', 't']\n"
          ]
        }
      ],
      "source": [
        "# Approach - Here i will try to use list comprehension\n",
        "# Iterate the string for each characters and add to the list if it isalpha (isalpha)\n",
        "\n",
        "# Take input string from user\n",
        "string_inpt = input('Enter a string:')\n",
        "\n",
        "# Split the string and iterate using list comprehension\n",
        "all_alphabets = [char for char in string_inpt if char.isalpha()]\n",
        "\n",
        "# Print result\n",
        "print(f'List of alphabets: {all_alphabets}')"
      ]
    },
    {
      "cell_type": "markdown",
      "metadata": {
        "id": "CUrZXSnEBRYe"
      },
      "source": [
        "### 26. Count the number of uppercase letters in a string."
      ]
    },
    {
      "cell_type": "code",
      "execution_count": 1,
      "metadata": {
        "colab": {
          "base_uri": "https://localhost:8080/"
        },
        "id": "_aKvZdljBNFj",
        "outputId": "848d8ec2-d9c3-405a-bd55-2c2c846dddf7"
      },
      "outputs": [
        {
          "name": "stdout",
          "output_type": "stream",
          "text": [
            "List of UpperCase Letters: ['H', 'T', 'Y', 'Q', 'R', 'P']\n"
          ]
        }
      ],
      "source": [
        "# Approach - Iterate the string for each characters and add to the list if it isupper (isupper())\n",
        "\n",
        "# Take input string from user\n",
        "string_inpt = input('Enter a string:')\n",
        "\n",
        "# Split the string and iterate using list comprehension\n",
        "upper_case_letters = [char for char in string_inpt if char.isupper()]\n",
        "\n",
        "# Print result\n",
        "print(f'List of UpperCase Letters: {upper_case_letters}')"
      ]
    },
    {
      "cell_type": "markdown",
      "metadata": {
        "id": "K4RuwmjUDGm0"
      },
      "source": [
        "### 27. Count the number of lowercase letters in a string."
      ]
    },
    {
      "cell_type": "code",
      "execution_count": 42,
      "metadata": {
        "colab": {
          "base_uri": "https://localhost:8080/"
        },
        "id": "PJPnAWUKB40K",
        "outputId": "bb8a7b83-b87d-4f32-aee4-bfbd794ed1bc"
      },
      "outputs": [
        {
          "name": "stdout",
          "output_type": "stream",
          "text": [
            "Enter a string:HwerhwAhihetrHahiiuioAhiuHkpoi\n",
            "List of LowerCase Letters: ['w', 'e', 'r', 'h', 'w', 'h', 'i', 'h', 'e', 't', 'r', 'a', 'h', 'i', 'i', 'u', 'i', 'o', 'h', 'i', 'u', 'k', 'p', 'o', 'i']\n"
          ]
        }
      ],
      "source": [
        "# Approach - Iterate the string for each characters and add to the list if it islower\n",
        "\n",
        "# Take input string from user\n",
        "string_inpt = input('Enter a string:')\n",
        "\n",
        "# Split the string and iterate using list comprehension\n",
        "lower_case_letters = [char for char in string_inpt if char.islower()]\n",
        "\n",
        "# Print result\n",
        "print(f'List of LowerCase Letters: {lower_case_letters}')"
      ]
    },
    {
      "cell_type": "markdown",
      "metadata": {},
      "source": [
        "### 28. Swap the case of each character in a string."
      ]
    },
    {
      "cell_type": "code",
      "execution_count": 2,
      "metadata": {
        "id": "fZz6dnjYDQbJ"
      },
      "outputs": [
        {
          "name": "stdout",
          "output_type": "stream",
          "text": [
            "rOBIN pABBI\n"
          ]
        }
      ],
      "source": [
        "# Approach - Use swapcase inbuilt function\n",
        "\n",
        "# Take input string from user\n",
        "string_inpt = input('Enter a string:')\n",
        "\n",
        "# Swap Case\n",
        "swaped_case_str = string_inpt.swapcase()\n",
        "\n",
        "# Print Result\n",
        "print(swaped_case_str)"
      ]
    },
    {
      "cell_type": "markdown",
      "metadata": {},
      "source": [
        "### 29. Remove a specific word from a string."
      ]
    },
    {
      "cell_type": "code",
      "execution_count": 1,
      "metadata": {},
      "outputs": [
        {
          "name": "stdout",
          "output_type": "stream",
          "text": [
            "Result string: Robin Pabbi is a software engineer\n"
          ]
        }
      ],
      "source": [
        "# Approach - Replace the Word with empty string\n",
        "\n",
        "# Take input string from user\n",
        "string_inpt = input('Enter a string:')\n",
        "\n",
        "# Take a input word to remove\n",
        "word_to_remove = input('Enter a word to be removed:')\n",
        "\n",
        "# Remove the word\n",
        "result_str = string_inpt.replace(word_to_remove, '')\n",
        "\n",
        "# Print resultes string\n",
        "print(f'Result string: {result_str}')"
      ]
    },
    {
      "cell_type": "markdown",
      "metadata": {},
      "source": [
        "### 30. Check if a string is a valid email address."
      ]
    },
    {
      "cell_type": "code",
      "execution_count": 24,
      "metadata": {},
      "outputs": [
        {
          "name": "stdout",
          "output_type": "stream",
          "text": [
            "Entered email address is valid.\n"
          ]
        }
      ],
      "source": [
        "# Approach - here we will use the concept of regexs\n",
        "\n",
        "# Import rejex\n",
        "import re\n",
        "\n",
        "# Define the regex for valid email address\n",
        "valid_email_regex = r'\\b[A-Za-z0-9._%+-]+@[A-Za-z0-9.-]+\\.[A-Z|a-z]{2,7}\\b'\n",
        "\n",
        "# Take email input from user\n",
        "email_id = input('Enter email address: ')\n",
        "\n",
        "# Check validity and print validity\n",
        "if(re.fullmatch(valid_email_regex, email_id)):\n",
        "    print('Entered email address is valid.')\n",
        "else:\n",
        "    print('Entered email address is invalid.')\n",
        " "
      ]
    },
    {
      "cell_type": "markdown",
      "metadata": {},
      "source": [
        "### 31. Extract the username from an email address string."
      ]
    },
    {
      "cell_type": "code",
      "execution_count": 1,
      "metadata": {},
      "outputs": [
        {
          "name": "stdout",
          "output_type": "stream",
          "text": [
            "Hi! pabbirobin\n"
          ]
        }
      ],
      "source": [
        "# Approach - Username is part of email address before @\n",
        "# So split it by @ and zeroth (0) index is username\n",
        "\n",
        "# Take email input from user\n",
        "email_id = input('Enter email address: ')\n",
        "\n",
        "# Extract username\n",
        "user_name = email_id.split('@')[0]\n",
        "\n",
        "# Print User Name\n",
        "print(f'Hi! {user_name}')"
      ]
    },
    {
      "cell_type": "code",
      "execution_count": 9,
      "metadata": {},
      "outputs": [
        {
          "name": "stdout",
          "output_type": "stream",
          "text": [
            "Hi! pabbirobin\n"
          ]
        }
      ],
      "source": [
        "# Second solution - for my learning - using regex\n",
        "import re\n",
        "\n",
        "# Regex -Basically all the chars (a to z, A to Z, 0 to 9, special char '.' or '-') before @\n",
        "usrname_regex = r'([A-Za-z0-9.-]+)\\@'\n",
        "\n",
        "# Take email input from user\n",
        "email_id = input('Enter email address: ')\n",
        "\n",
        "# Get username\n",
        "user_name = re.findall(usrname_regex, email_id)[0]\n",
        "\n",
        "# Print User Name\n",
        "print(f'Hi! {user_name}')\n"
      ]
    },
    {
      "cell_type": "markdown",
      "metadata": {},
      "source": [
        "\n",
        "### 32. Extract the domain name from an email address string."
      ]
    },
    {
      "cell_type": "code",
      "execution_count": 3,
      "metadata": {},
      "outputs": [
        {
          "name": "stdout",
          "output_type": "stream",
          "text": [
            "xyz.com\n"
          ]
        }
      ],
      "source": [
        "# Approach - Domain is part of email address after @\n",
        "# So split it by @ and 1 index is Domain\n",
        "\n",
        "# Take email input from user\n",
        "email_id = input('Enter email address: ')\n",
        "\n",
        "# Extract domain\n",
        "domain = email_id.split('@')[1]\n",
        "\n",
        "# Print Domain\n",
        "print(domain)"
      ]
    },
    {
      "cell_type": "code",
      "execution_count": 13,
      "metadata": {},
      "outputs": [
        {
          "name": "stdout",
          "output_type": "stream",
          "text": [
            "ljljl.com\n"
          ]
        }
      ],
      "source": [
        "# Second solution - for my learning - using regex\n",
        "\n",
        "# Although we have imported in cells above but for completeness of solution let us import again\n",
        "import re\n",
        "\n",
        "# Regex - Basically all the chars (a to z, A to Z, 0 to 9, special char '.' or '-') after @\n",
        "usrname_regex = r'@([A-Za-z0-9.-]+)'\n",
        "\n",
        "# Take email input from user\n",
        "email_id = input('Enter email address: ')\n",
        "\n",
        "# Get domain name (complete domain with .com or .co.in etc)\n",
        "domain = re.findall(usrname_regex, email_id)[0]\n",
        "\n",
        "# Print Domain\n",
        "print(domain)"
      ]
    },
    {
      "cell_type": "markdown",
      "metadata": {},
      "source": [
        "\n",
        "### 33. Replace multiple spaces in a string with a single space."
      ]
    },
    {
      "cell_type": "code",
      "execution_count": 14,
      "metadata": {},
      "outputs": [
        {
          "data": {
            "text/plain": [
              "'irwhk er weor wer werwe rrwer w wer wrw werrw wer'"
            ]
          },
          "execution_count": 14,
          "metadata": {},
          "output_type": "execute_result"
        }
      ],
      "source": [
        "# Approach - using REGEX\n",
        "\n",
        "# Although we have imported in cells above but for completeness of solution let us import again\n",
        "import re\n",
        "\n",
        "# Regex to match any number of spaces (whitespaces)\n",
        "# space and then '+' [+ denotes any number of occurences together]\n",
        "empty_str_regex = r' +'\n",
        "\n",
        "# Take string input from user\n",
        "string_input_1 = input('Enter string with whitespaces: ')\n",
        "\n",
        "# Replace whitespaces with single space ' '\n",
        "result_str = re.sub(empty_str_regex, ' ', string_input_1)\n",
        "\n",
        "result_str"
      ]
    },
    {
      "cell_type": "markdown",
      "metadata": {},
      "source": [
        "\n",
        "### 34. Check if a string is a valid URL."
      ]
    },
    {
      "cell_type": "code",
      "execution_count": 21,
      "metadata": {},
      "outputs": [
        {
          "name": "stdout",
          "output_type": "stream",
          "text": [
            "Entered url https://www.google.com  is Valid.\n"
          ]
        }
      ],
      "source": [
        "# Approach - using REGEX\n",
        "\n",
        "import re\n",
        "\n",
        "# Valid URL regex\n",
        "valid_url_regex = r'(https?:\\/\\/(?:www\\.|(?!www))[a-zA-Z0-9][a-zA-Z0-9-]+[a-zA-Z0-9]\\.[^\\s]{2,}|www\\.[a-zA-Z0-9][a-zA-Z0-9-]+[a-zA-Z0-9]\\.[^\\s]{2,}|https?:\\/\\/(?:www\\.|(?!www))[a-zA-Z0-9]+\\.[^\\s]{2,}|www\\.[a-zA-Z0-9]+\\.[^\\s]{2,})'\n",
        "\n",
        "# Take url input\n",
        "url = input('Enter url: ')\n",
        "\n",
        "# Check validity and print\n",
        "if(re.search(valid_url_regex, url)):\n",
        "    print(f'Entered url {url}  is Valid.')\n",
        "else:\n",
        "    print(f'Entered url {url}  is Invalid.')"
      ]
    },
    {
      "cell_type": "markdown",
      "metadata": {},
      "source": [
        "\n",
        "### 35. Extract the protocol (http or https) from a URL string."
      ]
    },
    {
      "cell_type": "code",
      "execution_count": 23,
      "metadata": {},
      "outputs": [
        {
          "name": "stdout",
          "output_type": "stream",
          "text": [
            "Protcol in https://www.google.com is https\n"
          ]
        }
      ],
      "source": [
        "# Approach - Since protocols are followed by :// always so we can simply use this to split the string\n",
        "# post string first element will be protocol\n",
        "\n",
        "# Take url input\n",
        "url = input('Enter url: ')\n",
        "\n",
        "# Get protocol\n",
        "protocol = url.split('://')[0]\n",
        "\n",
        "# Print protocol\n",
        "print(f'Protcol in {url} is {protocol}')"
      ]
    },
    {
      "cell_type": "markdown",
      "metadata": {},
      "source": [
        "\n",
        "### 36. Find the frequency of each character in a string."
      ]
    },
    {
      "cell_type": "code",
      "execution_count": 6,
      "metadata": {},
      "outputs": [
        {
          "name": "stdout",
          "output_type": "stream",
          "text": [
            "{'h': 1, 'o': 6, 'i': 1, 'q': 1, 'r': 1, 'u': 2, ' ': 1}\n"
          ]
        }
      ],
      "source": [
        "# Approach - Iterate on the characters and keep the count of the char in dictionary\n",
        "# Here main thing is to use get method to return default value if key (char) is not present\n",
        "\n",
        "# Function - takes string as input and return dictinary of chars as key with respective count of occurrence (frequency)\n",
        "def get_frequency_of_char(string_input:str)-> dict:\n",
        "    result_dict = {}\n",
        "    for char in string_input:\n",
        "        result_dict[char] = result_dict.get(char, 0) + 1\n",
        "    \n",
        "    return result_dict\n",
        "\n",
        "# Take input string from user\n",
        "string_inpt = input('Enter a string:')\n",
        "\n",
        "# Get frequency\n",
        "frequency_dict = get_frequency_of_char(string_inpt)\n",
        "\n",
        "# Print result\n",
        "print(frequency_dict)"
      ]
    },
    {
      "cell_type": "markdown",
      "metadata": {},
      "source": [
        "\n",
        "### 37. Remove all punctuation from a string."
      ]
    },
    {
      "cell_type": "code",
      "execution_count": 26,
      "metadata": {},
      "outputs": [
        {
          "name": "stdout",
          "output_type": "stream",
          "text": [
            "This string contains  punctuations\n"
          ]
        }
      ],
      "source": [
        "# Approach - we can use inbuilt module of python i.e. string, to get list of punctuation and use translate and str.maketrans\n",
        "\n",
        "# import string module\n",
        "import string\n",
        "\n",
        "# Take input string from user\n",
        "string_with_punctuations = input('Enter string: ')\n",
        "\n",
        "# Remove punctuations\n",
        "# x and y are empty and z is punctuation string whose matchin char will be marked as none\n",
        "trans = str.maketrans('', '', string.punctuation)\n",
        "string_without_punctuations = string_with_punctuations.translate(trans)\n",
        "\n",
        "# Print result\n",
        "print(string_without_punctuations)"
      ]
    },
    {
      "cell_type": "markdown",
      "metadata": {},
      "source": [
        "\n",
        "### 38. Check if a string contains only digits."
      ]
    },
    {
      "cell_type": "code",
      "execution_count": 29,
      "metadata": {},
      "outputs": [
        {
          "name": "stdout",
          "output_type": "stream",
          "text": [
            "String \"23445\" contains only digits.\n"
          ]
        }
      ],
      "source": [
        "# Take input string from user\n",
        "string_to_check = input('Enter string: ')\n",
        "\n",
        "# Check if string is only digits\n",
        "contains_only_digits = string_to_check.isdigit()\n",
        "\n",
        "# Print result\n",
        "if(contains_only_digits):\n",
        "    print(f'String \"{string_to_check}\" contains only digits.')\n",
        "else:\n",
        "    print(f'String \"{string_to_check}\" does not contains only digits.')"
      ]
    },
    {
      "cell_type": "markdown",
      "metadata": {},
      "source": [
        "### 39. Check if a string contains only alphabets."
      ]
    },
    {
      "cell_type": "code",
      "execution_count": 31,
      "metadata": {},
      "outputs": [
        {
          "name": "stdout",
          "output_type": "stream",
          "text": [
            "String \"jwrjlrj43234\" does not contains only alphabets.\n"
          ]
        }
      ],
      "source": [
        "# Take input string from user\n",
        "string_to_check = input('Enter string: ')\n",
        "\n",
        "# Check if string is only alphabets\n",
        "contains_only_alphabet_letters = string_to_check.isalpha()\n",
        "\n",
        "# Print result\n",
        "if(contains_only_alphabet_letters):\n",
        "    print(f'String \"{string_to_check}\" contains only alphabets.')\n",
        "else:\n",
        "    print(f'String \"{string_to_check}\" does not contains only alphabets.')"
      ]
    },
    {
      "cell_type": "markdown",
      "metadata": {},
      "source": [
        "\n",
        "### 40. Convert a string to a list of characters."
      ]
    },
    {
      "cell_type": "code",
      "execution_count": 35,
      "metadata": {},
      "outputs": [
        {
          "name": "stdout",
          "output_type": "stream",
          "text": [
            "['R', 'o', 'b', 'i', 'n']\n"
          ]
        }
      ],
      "source": [
        "# Take input string from user\n",
        "string_inpt = input('Enter string: ')\n",
        "\n",
        "# Create a list of char from string - casting string to list\n",
        "list_of_chars = list(string_inpt)\n",
        "\n",
        "# print list of chars\n",
        "print(list_of_chars)"
      ]
    },
    {
      "cell_type": "markdown",
      "metadata": {},
      "source": [
        "\n",
        "### 41. Check if two strings are anagrams."
      ]
    },
    {
      "cell_type": "code",
      "execution_count": 37,
      "metadata": {},
      "outputs": [
        {
          "name": "stdout",
          "output_type": "stream",
          "text": [
            "'earth' and 'heart' are Anagram\n"
          ]
        }
      ],
      "source": [
        "# What are anagrams ? - An Anagram is a word or phrase that is formed by rearranging all the letters of a different word or phrase exactly once.\n",
        "\n",
        "# Approach - we can sort the string and then compare if same chars are used then sorted string will be same \n",
        "# for above either use sorted in built method or convert string to list and sort the list and join it back\n",
        "# sorted method is well suited in this scenario\n",
        "\n",
        "def is_anagram(string_1:str, string_2:str) -> bool:\n",
        "    # Check for anagram\n",
        "    sorted_str_1 = sorted(string_1)\n",
        "    sorted_str_2 = sorted(string_2)\n",
        "\n",
        "    return sorted_str_1 == sorted_str_2\n",
        "\n",
        "# Take input string_1 from user\n",
        "string_inpt_1 = input('Enter string 1: ')\n",
        "\n",
        "# Take input string_2 from user\n",
        "string_inpt_2 = input('Enter string 2: ')\n",
        "\n",
        "# Check for anagram\n",
        "sorted_str_1 = sorted(string_inpt_1)\n",
        "sorted_str_2 = sorted(string_inpt_2)\n",
        "\n",
        "isanagram = is_anagram(string_inpt_1, string_inpt_2)\n",
        "\n",
        "# Print result\n",
        "if (isanagram):\n",
        "    print(f\"'{string_inpt_1}' and '{string_inpt_2}' are Anagram\")\n",
        "else:\n",
        "    print(f\"'{string_inpt_1}' and '{string_inpt_2}' are not Anagram\")"
      ]
    },
    {
      "cell_type": "markdown",
      "metadata": {},
      "source": [
        "\n",
        "### 42. Encode a string using a Caesar cipher.\n",
        "\n",
        "* Caesar Ciper Technique\n",
        "> It is simple most technique to encode the message/strings. In Caesar cipher, the letters are replaced by other letter by shifting certain number of positions."
      ]
    },
    {
      "cell_type": "code",
      "execution_count": 43,
      "metadata": {},
      "outputs": [
        {
          "name": "stdout",
          "output_type": "stream",
          "text": [
            "Encrypted message is: \"Rd sfrj nx Wtgns Ufggn\"\n"
          ]
        }
      ],
      "source": [
        "# Since we have to replace each letter with moving certain positions from letter\n",
        "# For last letters we will have to continue from starting letters: let say shift size is 1 then A become B and so on. And Z becomes A.\n",
        "# We have to take remainder (% 26) and since Unicode of 'A' and 'a' (uppercase and lowercase) are different we will have to handle them separately\n",
        "# ord('a') = 97 (unicode of a) and chr(97) = 'a'\n",
        "\n",
        "# Function - takes the shift size (salt) and message, return the encrypted message\n",
        "def encrypt_using_caesar_cipher(shift:int, message:str) -> string:\n",
        "    encrypted_message = ''\n",
        "    # Iterate on each letter\n",
        "    for letter in message:\n",
        "        # Handle separately for uppercase and lowercase and for space replace it with space itself\n",
        "        if (letter == ' '):\n",
        "            encrypted_message += ' '\n",
        "        elif(letter.islower()):\n",
        "            enc_char_unicode = ((ord(letter) + shift - 97) % 26 + 97)\n",
        "            encrypted_message += chr(enc_char_unicode)\n",
        "        else:\n",
        "            enc_char_unicode = ((ord(letter) + shift - 65) % 26 + 65)\n",
        "            encrypted_message += chr(enc_char_unicode)\n",
        "    \n",
        "    return encrypted_message\n",
        "\n",
        "# Take a message input from user\n",
        "plain_message = input('Enter you message to encrypt: ')\n",
        "\n",
        "# Take salt shift from user\n",
        "shift_size = int(input('Enter your shift size (salt): '))\n",
        "\n",
        "# Encrypt the message\n",
        "encrypted_msg = encrypt_using_caesar_cipher(shift_size, plain_message)\n",
        "\n",
        "# Print encrypted msg\n",
        "print(f'Encrypted message is: \"{encrypted_msg}\"')\n"
      ]
    },
    {
      "cell_type": "markdown",
      "metadata": {},
      "source": [
        "\n",
        "### 43. Decode a Caesar cipher encoded string."
      ]
    },
    {
      "cell_type": "code",
      "execution_count": 46,
      "metadata": {},
      "outputs": [
        {
          "name": "stdout",
          "output_type": "stream",
          "text": [
            "Decrypted message is: \"My name is Robin Pabbi\"\n"
          ]
        }
      ],
      "source": [
        "# As per Carsar cipher technique to encode we shift the letter by given number\n",
        "# for decoding we shift same number of steps back\n",
        "# Basically if we call same method above i.e. encrypt_using_caesar_cipher with negative shift number (shift * -1) it will give use plain message\n",
        "# Also we can also do 26-shift to get right shift for depcryption\n",
        "\n",
        "# Function - takes the shift size (salt) and message, return the encrypted message\n",
        "def encrypt_using_caesar_cipher(shift:int, message:str) -> string:\n",
        "    encrypted_message = ''\n",
        "    # Iterate on each letter\n",
        "    for letter in message:\n",
        "        # Handle separately for uppercase and lowercase and for space replace it with space itself\n",
        "        if (letter == ' '):\n",
        "            encrypted_message += ' '\n",
        "        elif(letter.islower()):\n",
        "            enc_char_unicode = ((ord(letter) + shift - 97) % 26 + 97)\n",
        "            encrypted_message += chr(enc_char_unicode)\n",
        "        else:\n",
        "            enc_char_unicode = ((ord(letter) + shift - 65) % 26 + 65)\n",
        "            encrypted_message += chr(enc_char_unicode)\n",
        "    \n",
        "    return encrypted_message\n",
        "\n",
        "# Function - takes the shift size (salt) and encrypted message, return the plain message\n",
        "def decrypt_using_caesar_cipher(shift:int, message:str) -> string:\n",
        "    return encrypt_using_caesar_cipher(26-shift, message)\n",
        "\n",
        "# Take a message input from user\n",
        "encrypted_mssage = input('Enter you message to decrypt: ')\n",
        "\n",
        "# Take salt shift from user\n",
        "shift_size = int(input('Enter your shift size (salt): '))\n",
        "\n",
        "# Decrypt the message\n",
        "decrypted_msg = decrypt_using_caesar_cipher(shift_size, encrypted_mssage)\n",
        "\n",
        "# Print encrypted msg\n",
        "print(f'Decrypted message is: \"{decrypted_msg}\"')"
      ]
    },
    {
      "cell_type": "markdown",
      "metadata": {},
      "source": [
        "\n",
        "### 44. Find the most frequent word in a string."
      ]
    },
    {
      "cell_type": "code",
      "execution_count": 2,
      "metadata": {},
      "outputs": [
        {
          "name": "stdout",
          "output_type": "stream",
          "text": [
            "Most Frequenet word is: word\n"
          ]
        }
      ],
      "source": [
        "# Approach - Get frequency of each word in dict and then find max of the dict\n",
        "\n",
        "# Function - takes string as input and return dictinary of words as key with respective count of occurrence (frequency)\n",
        "def get_frequency_of_words(string_input:str)-> dict:\n",
        "    result_dict = {}\n",
        "    for word in string_input.split(' '):\n",
        "        # Below code will give default value of the key as 0\n",
        "        result_dict[word] = result_dict.get(word, 0) + 1\n",
        "    \n",
        "    return result_dict\n",
        "\n",
        "def get_most_frequent_word(string_inpt:str) -> str:\n",
        "    frequency_dict = get_frequency_of_words(string_inpt)\n",
        "    # key of max function is dict.get which return the value of key i.e. count of occurrence\n",
        "    frequent_word = max(frequency_dict, key=frequency_dict.get)\n",
        "\n",
        "    return frequent_word\n",
        "\n",
        "# Take string input from user\n",
        "string_inp = input('Enter string: ')\n",
        "\n",
        "# Compute Most Frequent word\n",
        "frqnt_word = get_most_frequent_word(string_inp)\n",
        "\n",
        "# Print Result\n",
        "print(f'Most Frequenet word is: {frqnt_word}')"
      ]
    },
    {
      "cell_type": "markdown",
      "metadata": {},
      "source": [
        "\n",
        "### 45. Find all unique words in a string."
      ]
    },
    {
      "cell_type": "code",
      "execution_count": 4,
      "metadata": {},
      "outputs": [
        {
          "name": "stdout",
          "output_type": "stream",
          "text": [
            "Unique words: ['find', 'unique', 'words', 'word', 'let']\n"
          ]
        }
      ],
      "source": [
        "# Approach - get list of words from string and convert it into set, that give us unique words\n",
        "\n",
        "# Take string input from user\n",
        "string_inp = input('Enter string: ')\n",
        "\n",
        "# Compute Unique words\n",
        "list_of_words = string_inp.split(' ')\n",
        "set_of_words = set(list_of_words)\n",
        "unique_words_list = list(set_of_words)\n",
        "\n",
        "# Print Result\n",
        "print(f'Unique words: {unique_words_list}')"
      ]
    },
    {
      "cell_type": "markdown",
      "metadata": {},
      "source": [
        "\n",
        "### 46. Count the number of syllables in a string.\n",
        "\n",
        "#### Assumptions:\n",
        "\n",
        "> Syllables are sounds of vowels in a word or sentence. It is not count of vowels but sound of vowels.\n",
        "\n",
        "> Count of Syllables = count of vowel sounds\n",
        "\n",
        "* If two vowels (or more) exists together then they still make one vowel sound together. Will count co-existing vowels as 1.\n",
        "* Words ending with 'e' does not make a vowel sound at end. For example: try speaking 'notice', 'sentence'. No vowel sound at end, so will not count 'e' at end of each word.\n",
        "* 'y' makes a vowel sound, so in this problem we will count 'y' as vowel sound.\n",
        "* If there is no vowel in the word, then it has 1 vowel sound.\n"
      ]
    },
    {
      "cell_type": "code",
      "execution_count": 22,
      "metadata": {},
      "outputs": [
        {
          "name": "stdout",
          "output_type": "stream",
          "text": [
            "Number of Syllables in given string is: 2\n"
          ]
        }
      ],
      "source": [
        "# Define funtion - take a word as input and gives number of syllables in a word\n",
        "def count_syllables_in_word(word:str)-> int:\n",
        "    counter = 0\n",
        "    # 3rd point in assumptions, considering 'y' as syllable vowel\n",
        "    syllable_vowels = ['a', 'e', 'i', 'o', 'u', 'y']\n",
        "\n",
        "    lowercase_word = word.lower()\n",
        "\n",
        "    for i in range(0, len(word)):\n",
        "        # Check for vowel and also see if letter before is not vowel - point 1 in assumptions\n",
        "        if(lowercase_word[i] in syllable_vowels and (i == 0 or lowercase_word[i - 1] not in syllable_vowels)):\n",
        "            counter += 1\n",
        "    \n",
        "    # Second point in assumptions last 'e' letter is not counted\n",
        "    if(lowercase_word[-1] == 'e'):\n",
        "        counter -= 1\n",
        "    \n",
        "    # Fourth point in assumptions\n",
        "    if counter == 0:\n",
        "        return 1\n",
        "    \n",
        "    return counter\n",
        "\n",
        "def count_syllables_in_sentence(sentence:str) -> int:\n",
        "    # Let us count syllables separately in each word and count is sum of all word's syllables\n",
        "    list_of_words = sentence.split(' ')\n",
        "    \n",
        "    syllables_count = 0\n",
        "\n",
        "    for word in list_of_words:\n",
        "        syllables_count += count_syllables_in_word(word)\n",
        "\n",
        "    return syllables_count\n",
        "\n",
        "# Take input string from the user\n",
        "string_inpt = input('Enter your string: ')\n",
        "\n",
        "# Count syllables\n",
        "syllables = count_syllables_in_sentence(string_inpt)\n",
        "\n",
        "# print result\n",
        "print(f'Number of Syllables in given string is: {syllables}')"
      ]
    },
    {
      "cell_type": "markdown",
      "metadata": {},
      "source": [
        "### 47. Check if a string contains any special characters."
      ]
    },
    {
      "cell_type": "code",
      "execution_count": 8,
      "metadata": {},
      "outputs": [
        {
          "name": "stdout",
          "output_type": "stream",
          "text": [
            "Contains special character.\n"
          ]
        }
      ],
      "source": [
        "# Approach - Considering special character is not alphabet and neither it is digit or space - we can use inbuilt methods to check each char\n",
        "# We can alternatively keep a list of all special characters and then for each special char check if that exists.\n",
        "# We can not use isalnum() method because it return False if string has space in it\n",
        "# Here using first approach of inbuilt functions\n",
        "\n",
        "\n",
        "# Function - takes string input return boolean (True if contains special character else False)\n",
        "def contain_special_character(string_inp:str)->bool:\n",
        "    list_of_chars = list(string_inp)\n",
        "\n",
        "    for char in list_of_chars:\n",
        "        # if char is alphabet or digit or space then check next char\n",
        "        if(char.isalpha() or char.isdigit() or char == ' '):\n",
        "            continue\n",
        "        else:\n",
        "            return True\n",
        "    \n",
        "    return False\n",
        "\n",
        "# Take string input from user\n",
        "string_inpt = input('Enter string: ')\n",
        "\n",
        "# Check for special character\n",
        "contain_spcl_char = contain_special_character(string_inpt)\n",
        "\n",
        "# Print Result\n",
        "if contain_spcl_char:\n",
        "    print('Contains special character.')\n",
        "else:\n",
        "    print('Do not contain special character')"
      ]
    },
    {
      "cell_type": "markdown",
      "metadata": {},
      "source": [
        "\n",
        "### 48. Remove the nth word from a string."
      ]
    },
    {
      "cell_type": "code",
      "execution_count": 11,
      "metadata": {},
      "outputs": [
        {
          "name": "stdout",
          "output_type": "stream",
          "text": [
            "Robin Pabbi, I am Software Developer and Datascientist\n"
          ]
        }
      ],
      "source": [
        "# Approach - Convert string to list of words and then remove the element of list from given index\n",
        "# If we want to take input as position instead of index then index = position - 1 (n - 1, because index starts from 0)\n",
        "\n",
        "def remove_word(string_inp:str, indexOfWord: int)-> str:\n",
        "    list_of_words = string_inp.split(' ')\n",
        "    list_of_words.pop(indexOfWord)\n",
        "    return ' '.join(list_of_words)\n",
        "\n",
        "# Take string input from user\n",
        "string_inpt = input('Enter string: ')\n",
        "\n",
        "# Take absolute position of the word\n",
        "position_of_word = int(input(f'Enter position of the word (from 1 to {len(string_inp)}): '))\n",
        "\n",
        "# Remove word\n",
        "# index = position - 1\n",
        "result_str = remove_word(string_inpt, position_of_word - 1)\n",
        "\n",
        "# Print result\n",
        "print(result_str)"
      ]
    },
    {
      "cell_type": "markdown",
      "metadata": {},
      "source": [
        "\n",
        "### 49. Insert a word at the nth position in a string."
      ]
    },
    {
      "cell_type": "code",
      "execution_count": 12,
      "metadata": {},
      "outputs": [
        {
          "name": "stdout",
          "output_type": "stream",
          "text": [
            "Hello Robin Pabbi, I am Software Developer and Datascientist\n"
          ]
        }
      ],
      "source": [
        "# Approach - Convert string to list of words and then remove the element of list from given index\n",
        "# If we want to take input as position instead of index then index = position - 1 (n - 1, because index starts from 0)\n",
        "\n",
        "def add_word(string_inp:str, indexOfWord: int, word: str)-> str:\n",
        "    list_of_words = string_inp.split(' ')\n",
        "    list_of_words.insert(indexOfWord, word)\n",
        "    return ' '.join(list_of_words)\n",
        "\n",
        "# Take string input from user\n",
        "string_inpt = input('Enter string: ')\n",
        "\n",
        "# Take word to be inserted from user\n",
        "word_to_insert = input('Enter word which you want to insert: ')\n",
        "\n",
        "# Take absolute position of the word\n",
        "position_of_word = int(input(f'Enter position of the word (from 1 to {len(string_inp)}): '))\n",
        "\n",
        "# Add word\n",
        "# index = position - 1\n",
        "result_str = add_word(string_inpt, position_of_word - 1, word_to_insert)\n",
        "\n",
        "# Print result\n",
        "print(result_str)"
      ]
    },
    {
      "cell_type": "markdown",
      "metadata": {},
      "source": [
        "\n",
        "### 50. Convert a CSV string to a list of lists."
      ]
    },
    {
      "cell_type": "code",
      "execution_count": 14,
      "metadata": {},
      "outputs": [
        {
          "name": "stdout",
          "output_type": "stream",
          "text": [
            "[['4', '5', '6'], ['7', '8', '9'], ['10', '11', '12'], ['13', '14', '15']]\n"
          ]
        }
      ],
      "source": [
        "# Approach - First get rows from the string and then split by comma (,) to get values of row\n",
        "\n",
        "# Define csv string\n",
        "csv_string = '''4,5,6\n",
        "7,8,9\n",
        "10,11,12\n",
        "13,14,15'''\n",
        "\n",
        "# Function - takes csv string and returns list of list\n",
        "def convert_csv_to_list(string_csv:str) -> list:\n",
        "    result = []\n",
        "    # get list of rows\n",
        "    list_of_rows = string_csv.splitlines()\n",
        "    \n",
        "    for row in list_of_rows:\n",
        "        # values in row are comma separated and there can be space btw them\n",
        "        list_of_values = row.split(',')\n",
        "        # remove spaces (trimming spaces)\n",
        "        final_list_of_values = [value.strip() for value in list_of_values]\n",
        "\n",
        "        # add row to result list\n",
        "        result.append(final_list_of_values)\n",
        "    \n",
        "    return result\n",
        "\n",
        "# Convert the csv into list of list\n",
        "result_list = convert_csv_to_list(csv_string)\n",
        "\n",
        "# Print the result\n",
        "print(result_list)"
      ]
    },
    {
      "cell_type": "markdown",
      "metadata": {},
      "source": [
        "# List Based Practice Problem :"
      ]
    },
    {
      "cell_type": "markdown",
      "metadata": {},
      "source": [
        "### 1. Create a list with integers from 1 to 10."
      ]
    },
    {
      "cell_type": "code",
      "execution_count": 1,
      "metadata": {},
      "outputs": [
        {
          "name": "stdout",
          "output_type": "stream",
          "text": [
            "[1, 2, 3, 4, 5, 6, 7, 8, 9, 10]\n"
          ]
        }
      ],
      "source": [
        "# Create a list\n",
        "list_of_numbers = [1, 2, 3, 4, 5, 6, 7, 8, 9, 10]\n",
        "\n",
        "# Print the list\n",
        "print(list_of_numbers)"
      ]
    },
    {
      "cell_type": "markdown",
      "metadata": {},
      "source": [
        "### 2. Find the length of a list without using the `len()` function."
      ]
    },
    {
      "cell_type": "code",
      "execution_count": 2,
      "metadata": {},
      "outputs": [
        {
          "name": "stdout",
          "output_type": "stream",
          "text": [
            "Length of list is: 10\n"
          ]
        }
      ],
      "source": [
        "# Approach iterate on list items and increment counter variable\n",
        "\n",
        "# Function with code of fining length\n",
        "def length(list_input) -> int:\n",
        "  count = 0\n",
        "  for item in list_input:\n",
        "    count += 1\n",
        "  return count\n",
        "\n",
        "# Create a list\n",
        "list_of_numbers = [1, 2, 3, 4, 5, 6, 7, 8, 9, 10]\n",
        "\n",
        "# Get length using out function\n",
        "length_of_list = length(list_of_numbers)\n",
        "\n",
        "# Print output\n",
        "print(f'Length of list is: {length_of_list}')"
      ]
    },
    {
      "cell_type": "markdown",
      "metadata": {},
      "source": [
        "\n",
        "### 3. Append an element to the end of a list."
      ]
    },
    {
      "cell_type": "code",
      "execution_count": 3,
      "metadata": {},
      "outputs": [
        {
          "name": "stdout",
          "output_type": "stream",
          "text": [
            "[1, 2, 3, 'Robin', 'Pabbi']\n"
          ]
        }
      ],
      "source": [
        "# Create a list\n",
        "list1 = [1, 2, 3, 'Robin']\n",
        "\n",
        "# Append an element ('Pabbi' in our case)\n",
        "list1.append('Pabbi')\n",
        "\n",
        "# Print list\n",
        "print(list1)"
      ]
    },
    {
      "cell_type": "markdown",
      "metadata": {},
      "source": [
        "### 4. Insert an element at a specific index in a list.\n"
      ]
    },
    {
      "cell_type": "code",
      "execution_count": 4,
      "metadata": {},
      "outputs": [
        {
          "name": "stdout",
          "output_type": "stream",
          "text": [
            "[1, 2, 3, 4, 'Robin']\n"
          ]
        }
      ],
      "source": [
        "# Create a list\n",
        "list2 = [1, 3, 4, 'Robin']\n",
        "\n",
        "# Insert Element at given index (adding 2 at index 1 i.e. as second item)\n",
        "list2.insert(1, 2)\n",
        "\n",
        "# Print List\n",
        "print(list2)"
      ]
    },
    {
      "cell_type": "markdown",
      "metadata": {},
      "source": [
        "\n",
        "### 5. Remove an element from a list by its value."
      ]
    },
    {
      "cell_type": "code",
      "execution_count": 5,
      "metadata": {},
      "outputs": [
        {
          "name": "stdout",
          "output_type": "stream",
          "text": [
            "[1, 4, 'Robin']\n"
          ]
        }
      ],
      "source": [
        "# Create a list\n",
        "list3 = [1, 3, 4, 'Robin']\n",
        "\n",
        "# Remove the value (i.e. remove 'Robin')\n",
        "list3.remove(3)\n",
        "\n",
        "# Print List\n",
        "print(list3)"
      ]
    },
    {
      "cell_type": "markdown",
      "metadata": {},
      "source": [
        "\n",
        "### 6. Remove an element from a list by its index."
      ]
    },
    {
      "cell_type": "code",
      "execution_count": 6,
      "metadata": {},
      "outputs": [
        {
          "name": "stdout",
          "output_type": "stream",
          "text": [
            "[1, 2, 3, 4, 5]\n"
          ]
        }
      ],
      "source": [
        "# Create a list\n",
        "list4 = [1, 2, 3, 4, 2, 5]\n",
        "\n",
        "# Remove by index (Let us remove 2 from index 4 i.e. second last item)\n",
        "list4.pop(4)\n",
        "\n",
        "# Print List\n",
        "print(list4)"
      ]
    },
    {
      "cell_type": "markdown",
      "metadata": {},
      "source": [
        "\n",
        "### 7. Check if an element exists in a list."
      ]
    },
    {
      "cell_type": "code",
      "execution_count": 7,
      "metadata": {},
      "outputs": [
        {
          "name": "stdout",
          "output_type": "stream",
          "text": [
            "Element exists in the list.\n"
          ]
        }
      ],
      "source": [
        "# Create a list\n",
        "list5 = [1, 2, 5, 6, 7, 8, 9]\n",
        "\n",
        "# Element to find\n",
        "element_to_find = 8\n",
        "\n",
        "# Check if elements exists or not\n",
        "if element_to_find in list5:\n",
        "  print(f'Element exists in the list.')\n",
        "else:\n",
        "  print('Elements does not exist in list.')"
      ]
    },
    {
      "cell_type": "markdown",
      "metadata": {},
      "source": [
        "\n",
        "### 8. Find the index of the first occurrence of an element in a list.\n"
      ]
    },
    {
      "cell_type": "code",
      "execution_count": 8,
      "metadata": {},
      "outputs": [
        {
          "name": "stdout",
          "output_type": "stream",
          "text": [
            "Elements exists at index: 4\n"
          ]
        }
      ],
      "source": [
        "# Create a list\n",
        "list6 = [1, 2, 5, 6, 7, 8, 9]\n",
        "\n",
        "# Element to find\n",
        "element_to_find = 7\n",
        "\n",
        "# Check if elements exists or not\n",
        "if element_to_find in list6:\n",
        "  # Get index of the first occurrence\n",
        "  index_of_index = list6.index(element_to_find)\n",
        "  print(f'Elements exists at index: {index_of_index}')\n",
        "else:\n",
        "  print('Elements does not exist in list.')"
      ]
    },
    {
      "cell_type": "markdown",
      "metadata": {},
      "source": [
        "### 9. Count the occurrences of an element in a list."
      ]
    },
    {
      "cell_type": "code",
      "execution_count": 10,
      "metadata": {},
      "outputs": [
        {
          "name": "stdout",
          "output_type": "stream",
          "text": [
            "No. of occurrences : 3\n"
          ]
        }
      ],
      "source": [
        "# Approach - count function\n",
        "\n",
        "# Create a list\n",
        "list7 = [1, 2, 5, 9, 7, 8, 9, 9, 10, '2', 'Hello', '9']\n",
        "\n",
        "# Count number of occurrences of element 9 (int 9)\n",
        "count_of_occurence = list7.count(9)\n",
        "\n",
        "# print output\n",
        "print(f'No. of occurrences : {count_of_occurence}')"
      ]
    },
    {
      "cell_type": "markdown",
      "metadata": {},
      "source": [
        "### 10. Reverse the order of elements in a list."
      ]
    },
    {
      "cell_type": "code",
      "execution_count": 14,
      "metadata": {},
      "outputs": [
        {
          "name": "stdout",
          "output_type": "stream",
          "text": [
            "['9', 'Hello', '2', 10, 5, 'Robin', 2, 1]\n"
          ]
        }
      ],
      "source": [
        "# Create a list\n",
        "list8 = [1, 2, 'Robin', 5, 10, '2', 'Hello', '9']\n",
        "\n",
        "# Reverse the list\n",
        "reversed_list = list8[::-1]\n",
        "\n",
        "# Print the reversed list\n",
        "print(reversed_list)"
      ]
    },
    {
      "cell_type": "markdown",
      "metadata": {},
      "source": [
        "### 11. Sort a list in ascending order."
      ]
    },
    {
      "cell_type": "code",
      "execution_count": 16,
      "metadata": {},
      "outputs": [
        {
          "name": "stdout",
          "output_type": "stream",
          "text": [
            "List sored in ascending order: [0, 1, 2, 5, 5, 6, 7, 7, 8, 9, 9, 9, 10, 34, 99]\n"
          ]
        }
      ],
      "source": [
        "# Create a list\n",
        "list_9 = [1, 2, 5, 9, 7, 8, 9, 9, 10, 34, 5, 6, 7, 99, 0]\n",
        "\n",
        "# Sort the list in ascending order\n",
        "list_9.sort()\n",
        "\n",
        "# Print sorted list\n",
        "print(f'List sored in ascending order: {list_9}')"
      ]
    },
    {
      "cell_type": "markdown",
      "metadata": {},
      "source": [
        "### 12. Sort a list in descending order."
      ]
    },
    {
      "cell_type": "code",
      "execution_count": 17,
      "metadata": {},
      "outputs": [
        {
          "name": "stdout",
          "output_type": "stream",
          "text": [
            "List sored in ascending order: [99, 34, 10, 9, 9, 9, 8, 7, 7, 6, 5, 5, 2, 1, 0]\n"
          ]
        }
      ],
      "source": [
        "# Create a list\n",
        "list_10 = [1, 2, 5, 9, 7, 8, 9, 9, 10, 34, 5, 6, 7, 99, 0]\n",
        "\n",
        "# Sort the list in descending order\n",
        "list_10.sort(reverse=True)\n",
        "\n",
        "# Print sorted list\n",
        "print(f'List sored in ascending order: {list_10}')"
      ]
    },
    {
      "cell_type": "markdown",
      "metadata": {},
      "source": [
        "### 13. Create a list of even numbers from 1 to 20."
      ]
    },
    {
      "cell_type": "code",
      "execution_count": 18,
      "metadata": {},
      "outputs": [
        {
          "name": "stdout",
          "output_type": "stream",
          "text": [
            "List of even numbers from 1 to 20: [2, 4, 6, 8, 10, 12, 14, 16, 18, 20]\n"
          ]
        }
      ],
      "source": [
        "# Approach - Using list comprehension and checking for even number\n",
        "# Using Range 1 to 21 because upperbound is exlusive\n",
        "\n",
        "# Create a list of even numbers\n",
        "even_numbers_list = [num for num in range(1, 21) if num % 2 == 0]\n",
        "\n",
        "# Print the list of even numbers\n",
        "print(f'List of even numbers from 1 to 20: {even_numbers_list}')"
      ]
    },
    {
      "cell_type": "markdown",
      "metadata": {},
      "source": [
        "### 14. Create a list of odd numbers from 1 to 20."
      ]
    },
    {
      "cell_type": "code",
      "execution_count": 24,
      "metadata": {},
      "outputs": [
        {
          "name": "stdout",
          "output_type": "stream",
          "text": [
            "List of odd numbers from 1 to 20: [1, 3, 5, 7, 9, 11, 13, 15, 17, 19]\n"
          ]
        }
      ],
      "source": [
        "# Approach - Using list comprehension and checking for non even number (odd number)\n",
        "# Using Range 1 to 21 because upperbound is exlusive\n",
        "\n",
        "# Create a list of odd numbers\n",
        "even_numbers_list = [num for num in range(1, 21) if num % 2 != 0]\n",
        "\n",
        "# Print the list of odd numbers\n",
        "print(f'List of odd numbers from 1 to 20: {even_numbers_list}')"
      ]
    },
    {
      "cell_type": "markdown",
      "metadata": {},
      "source": [
        "### 15. Find the sum of all elements in a list."
      ]
    },
    {
      "cell_type": "code",
      "execution_count": 20,
      "metadata": {},
      "outputs": [
        {
          "name": "stdout",
          "output_type": "stream",
          "text": [
            "Sum of list elements: 211\n"
          ]
        }
      ],
      "source": [
        "# Create a list\n",
        "list_11 = [1, 2, 5, 9, 7, 8, 9, 9, 10, 34, 5, 6, 7, 99, 0]\n",
        "\n",
        "# Compute sum\n",
        "sum_of_elements = sum(list_11)\n",
        "\n",
        "# Print sum\n",
        "print(f'Sum of list elements: {sum_of_elements}')"
      ]
    },
    {
      "cell_type": "markdown",
      "metadata": {},
      "source": [
        "### 16. Find the maximum value in a list."
      ]
    },
    {
      "cell_type": "code",
      "execution_count": 21,
      "metadata": {},
      "outputs": [
        {
          "name": "stdout",
          "output_type": "stream",
          "text": [
            "Max element of list: 99\n"
          ]
        }
      ],
      "source": [
        "# Create a list\n",
        "list_12 = [1, 2, 5, 9, 7, 8, 9, 9, 10, 34, 5, 6, 7, 99, 0]\n",
        "\n",
        "# Compute Max element\n",
        "max_of_elements = max(list_12)\n",
        "\n",
        "# Print Max\n",
        "print(f'Max element of list: {max_of_elements}')"
      ]
    },
    {
      "cell_type": "markdown",
      "metadata": {},
      "source": [
        "### 17. Find the minimum value in a list."
      ]
    },
    {
      "cell_type": "code",
      "execution_count": 23,
      "metadata": {},
      "outputs": [
        {
          "name": "stdout",
          "output_type": "stream",
          "text": [
            "Minimum element of list: 0\n"
          ]
        }
      ],
      "source": [
        "# Create a list\n",
        "list_13 = [1, 2, 5, 9, 7, 8, 9, 9, 10, 34, 5, 6, 7, 99, 0]\n",
        "\n",
        "# Compute Min element\n",
        "min_of_elements = min(list_13)\n",
        "\n",
        "# Print Max\n",
        "print(f'Minimum element of list: {min_of_elements}')"
      ]
    },
    {
      "cell_type": "markdown",
      "metadata": {},
      "source": [
        "### 18. Create a list of squares of numbers from 1 to 10."
      ]
    },
    {
      "cell_type": "code",
      "execution_count": 25,
      "metadata": {},
      "outputs": [
        {
          "name": "stdout",
          "output_type": "stream",
          "text": [
            "List of square of 1 to 10: [1, 4, 9, 16, 25, 36, 49, 64, 81, 100]\n"
          ]
        }
      ],
      "source": [
        "# Approach - Using list comprehension and returning square of number from range(1, 11)\n",
        "\n",
        "# Create a list of squares of numbers\n",
        "squares_list = [num**2 for num in range(1, 11)]\n",
        "\n",
        "# Print the list of odd numbers\n",
        "print(f'List of square of 1 to 10: {squares_list}')"
      ]
    },
    {
      "cell_type": "markdown",
      "metadata": {},
      "source": [
        "### 19. Create a list of random numbers."
      ]
    },
    {
      "cell_type": "code",
      "execution_count": 33,
      "metadata": {},
      "outputs": [
        {
          "name": "stdout",
          "output_type": "stream",
          "text": [
            "[22, 501, 724, 114, 420, 136, 734, 155, 560, 303]\n"
          ]
        }
      ],
      "source": [
        "import random\n",
        "\n",
        "# Approach - Will generate random numbers (int) (10 random numbers from range of 0 - 1000)\n",
        "\n",
        "# Create list of random numbers\n",
        "random_numbers = [random.randint(0, 1000) for i in range(0, 10)]\n",
        "\n",
        "# Print random numbers\n",
        "print(random_numbers)"
      ]
    },
    {
      "cell_type": "markdown",
      "metadata": {},
      "source": [
        "### 20. Remove duplicates from a list."
      ]
    },
    {
      "cell_type": "code",
      "execution_count": 34,
      "metadata": {},
      "outputs": [
        {
          "name": "stdout",
          "output_type": "stream",
          "text": [
            "[0, 1, 99, 5, 7, 8, 9, 10]\n"
          ]
        }
      ],
      "source": [
        "# Approach - Since Set is collection tupe of unique elements, converting to set and converting it back to list will help\n",
        "\n",
        "# Create a list\n",
        "list_with_duplicates = [1, 9, 5, 9, 7, 8, 9, 9, 10, 1, 5, 5, 7, 99, 0]\n",
        "\n",
        "# Set of unique values\n",
        "unique_val_set = set(list_with_duplicates)\n",
        "\n",
        "# List from set\n",
        "list_without_duplicates = list(unique_val_set)\n",
        "\n",
        "# Print unique values\n",
        "print(list_without_duplicates)"
      ]
    },
    {
      "cell_type": "markdown",
      "metadata": {},
      "source": [
        "### 21. Find the common elements between two lists."
      ]
    },
    {
      "cell_type": "code",
      "execution_count": 2,
      "metadata": {},
      "outputs": [
        {
          "name": "stdout",
          "output_type": "stream",
          "text": [
            "[2, 8, 'Robin']\n"
          ]
        }
      ],
      "source": [
        "# Approach - Iterate on one list's elements (here we are using list comprehension) and check if that element is in other list\n",
        "\n",
        "# Create Lists\n",
        "list_1 = [1,2,4,8,9, 'Robin']\n",
        "list_2 = [2,3,5,6,8, 'Robin']\n",
        "\n",
        "# Find common values\n",
        "common_elements = [element for element in list_1 if element in list_2]\n",
        "\n",
        "# Print values\n",
        "print(common_elements)"
      ]
    },
    {
      "cell_type": "markdown",
      "metadata": {},
      "source": [
        "### 22. Find the difference between two lists."
      ]
    },
    {
      "cell_type": "code",
      "execution_count": 10,
      "metadata": {},
      "outputs": [
        {
          "name": "stdout",
          "output_type": "stream",
          "text": [
            "[1, 99, 4, 9, 'Pabbi']\n"
          ]
        }
      ],
      "source": [
        "# Approach - Same as que 21 but here we will check not in list 2\n",
        "\n",
        "# Create Lists\n",
        "list_3 = [1,99,4,8,9, 'Robin', 'Pabbi']\n",
        "list_4 = [2,5,6,8, 'Robin']\n",
        "\n",
        "# Find difference list3 - list4\n",
        "difference = [element for element in list_3 if element not in list_4]\n",
        "\n",
        "# Print values\n",
        "print(difference)"
      ]
    },
    {
      "cell_type": "code",
      "execution_count": 11,
      "metadata": {},
      "outputs": [
        {
          "name": "stdout",
          "output_type": "stream",
          "text": [
            "[1, 2, 99, 4, 5, 6, 9, 'Pabbi']\n"
          ]
        }
      ],
      "source": [
        "# Second solution - to get complete difference (means non common elements from both lists)\n",
        "# Above solution gave only list 3 elements which are not in list 4\n",
        "\n",
        "# Approach using - Can we use symmetric_difference function of set\n",
        "# Learning - symmetric_difference gives difference (non common and unique elements) from both sets\n",
        "\n",
        "# Create Lists\n",
        "list_5 = [1,99,4,4,8,9, 'Robin', 'Pabbi']\n",
        "list_6 = [2,5,6,8, 'Robin']\n",
        "\n",
        "# Find difference list3 - list4\n",
        "difference1 = list(set(list_5).symmetric_difference(list_6))\n",
        "\n",
        "# Print values\n",
        "print(difference1)"
      ]
    },
    {
      "cell_type": "markdown",
      "metadata": {},
      "source": [
        "### 23. Merge two lists."
      ]
    },
    {
      "cell_type": "code",
      "execution_count": 12,
      "metadata": {},
      "outputs": [
        {
          "name": "stdout",
          "output_type": "stream",
          "text": [
            "['Hi', 1, 2, 4, 'Robin', 'Pabbi', 5, 6, 7]\n"
          ]
        }
      ],
      "source": [
        "# Approach - Use concatenation + operator\n",
        "\n",
        "# Create Lists\n",
        "list_1 = ['Hi', 1, 2, 4, 'Robin']\n",
        "list_2 = ['Pabbi', 5, 6, 7]\n",
        "\n",
        "# concatenation\n",
        "merged_list = list_1 + list_2\n",
        "\n",
        "# Print values\n",
        "print(merged_list)"
      ]
    },
    {
      "cell_type": "markdown",
      "metadata": {},
      "source": [
        "### 24. Multiply all elements in a list by 2."
      ]
    },
    {
      "cell_type": "code",
      "execution_count": 14,
      "metadata": {},
      "outputs": [
        {
          "name": "stdout",
          "output_type": "stream",
          "text": [
            "[2, 4, 74, 156, 198, 200]\n"
          ]
        }
      ],
      "source": [
        "# Approach - Using List comprehension\n",
        "\n",
        "# Create a list\n",
        "list_to_multiply = [1, 2, 37, 78, 99, 100]\n",
        "\n",
        "# Perform multiplication\n",
        "list_double_values = [num * 2 for num in list_to_multiply]\n",
        "\n",
        "# Print Resulted List\n",
        "print(list_double_values)"
      ]
    },
    {
      "cell_type": "markdown",
      "metadata": {},
      "source": [
        "\n",
        "### 25. Filter out all even numbers from a list."
      ]
    },
    {
      "cell_type": "code",
      "execution_count": 19,
      "metadata": {},
      "outputs": [
        {
          "data": {
            "text/plain": [
              "[2, 78, 100, 4, 6, 22]"
            ]
          },
          "execution_count": 19,
          "metadata": {},
          "output_type": "execute_result"
        }
      ],
      "source": [
        "# Approach - Although we can use list comprehension here too but we will use filter built in method\n",
        "\n",
        "# Function - Takes int as input and return boolean (True if even else False)\n",
        "def is_even(num:int)-> bool:\n",
        "    return num %2 == 0\n",
        "\n",
        "# Create a list\n",
        "list_to_filter = [1, 2, 37, 78, 99, 100, 4, 6, 7, 22, 33]\n",
        "\n",
        "# Apply filter to list\n",
        "even_numbers = list(filter(is_even, list_to_filter))\n",
        "\n",
        "# Print Result\n",
        "even_numbers"
      ]
    },
    {
      "cell_type": "markdown",
      "metadata": {},
      "source": [
        "### 26. Convert a list of strings to a list of integers."
      ]
    },
    {
      "cell_type": "code",
      "execution_count": 22,
      "metadata": {},
      "outputs": [
        {
          "name": "stdout",
          "output_type": "stream",
          "text": [
            "[26, 9, 17, 8, 143]\n"
          ]
        }
      ],
      "source": [
        "\n",
        "# Create List of Integer values as string\n",
        "list_string_integers = ['26', '9', '17', '8', '143']\n",
        "\n",
        "# Convert string elements to numbers (integers)\n",
        "list_numbers = [int(strNum) for strNum in list_string_integers]\n",
        "\n",
        "# Print numeric list\n",
        "print(list_numbers)"
      ]
    },
    {
      "cell_type": "markdown",
      "metadata": {},
      "source": [
        "### 27. Convert a list of integers to a list of strings."
      ]
    },
    {
      "cell_type": "code",
      "execution_count": 23,
      "metadata": {},
      "outputs": [
        {
          "name": "stdout",
          "output_type": "stream",
          "text": [
            "['26', '9', '17', '8', '143']\n"
          ]
        }
      ],
      "source": [
        "# Create List of Integer values\n",
        "list_integers = [26, 9, 17, 8, 143]\n",
        "\n",
        "# Convert int elements to string\n",
        "list_string_numbers = [str(num) for num in list_integers]\n",
        "\n",
        "# Print numeric list\n",
        "print(list_string_numbers)"
      ]
    },
    {
      "cell_type": "markdown",
      "metadata": {},
      "source": [
        "### 28. Flatten a nested list."
      ]
    },
    {
      "cell_type": "code",
      "execution_count": 4,
      "metadata": {},
      "outputs": [
        {
          "name": "stdout",
          "output_type": "stream",
          "text": [
            "[1, 2, 3, 4, 5, 6, 7, 8, 9, 10]\n"
          ]
        }
      ],
      "source": [
        "# Approach - Use Extend to falten the nested list and append to add normal element\n",
        "\n",
        "def flatten_list(list_input: list) -> list:\n",
        "    result = []\n",
        "    \n",
        "    for element in list_input:\n",
        "        if(type(element) is list):\n",
        "            result.extend(flatten_list(element))\n",
        "        else:\n",
        "            result.append(element)\n",
        "    \n",
        "    return result\n",
        "\n",
        "# Create a nested List\n",
        "list_wth_nested_list = [[1,2],3, [4,5,6], [7,8,[9, 10]]]\n",
        "\n",
        "# Flattening the list\n",
        "flat_list = flatten_list(list_wth_nested_list)\n",
        "\n",
        "# Print result\n",
        "print(flat_list)"
      ]
    },
    {
      "cell_type": "markdown",
      "metadata": {},
      "source": [
        "### 29. Create a list of the first 10 Fibonacci numbers."
      ]
    },
    {
      "cell_type": "code",
      "execution_count": 25,
      "metadata": {},
      "outputs": [
        {
          "name": "stdout",
          "output_type": "stream",
          "text": [
            "[0, 1, 1, 2, 3, 5, 8, 13, 21, 34]\n"
          ]
        }
      ],
      "source": [
        "# Approach - Using recurssion\n",
        "# Fibonacci num formula = F(n) = F(n-2) + F(n-1) - clearly we can use reccurssion here\n",
        "\n",
        "def get_fibonacci_number(n:int)-> int:\n",
        "    # if n = 0 then F = 0, if n = 1 then F = 1\n",
        "    if n < 2:\n",
        "        return n\n",
        "    else:\n",
        "        return get_fibonacci_number(n-1) + get_fibonacci_number(n-2)\n",
        "\n",
        "# Count Fibonacci for 10 numbers (0 to 9)\n",
        "fibonacci_series = [get_fibonacci_number(num) for num in range(0, 10)]\n",
        "\n",
        "# Print fibonacci series\n",
        "print(fibonacci_series)"
      ]
    },
    {
      "cell_type": "markdown",
      "metadata": {},
      "source": [
        "### 30. Check if a list is sorted."
      ]
    },
    {
      "cell_type": "code",
      "execution_count": 29,
      "metadata": {},
      "outputs": [
        {
          "name": "stdout",
          "output_type": "stream",
          "text": [
            "List 1 sorted : True\n",
            "List 2 sorted : False\n"
          ]
        }
      ],
      "source": [
        "# Approach - [1,2,3] == [1,2,3] is False and [1,2,3] == [3,1,2] is False, so we try to sort a list and then compare lists\n",
        "# using sorted function to sort the list because list.sort is inplace \n",
        "\n",
        "def is_sorted(list_to_check: list) -> bool:\n",
        "    sorted_list = sorted(list_to_check)\n",
        "    return sorted_list == list_to_check\n",
        "\n",
        "# Create a list\n",
        "list_1 = [1,4,5,7,88,99,100]\n",
        "list_2 = [1, 2,6,3,99,66,5]\n",
        "\n",
        "# Check if list is sorted or not \n",
        "is_list1_sorted = is_sorted(list_1)\n",
        "is_list2_sorted = is_sorted(list_2)\n",
        "\n",
        "# Print Results\n",
        "print(f'List 1 sorted : {is_list1_sorted}')\n",
        "print(f'List 2 sorted : {is_list2_sorted}')"
      ]
    },
    {
      "cell_type": "markdown",
      "metadata": {},
      "source": [
        "### 31. Rotate a list to the left by `n` positions."
      ]
    },
    {
      "cell_type": "code",
      "execution_count": 31,
      "metadata": {},
      "outputs": [
        {
          "name": "stdout",
          "output_type": "stream",
          "text": [
            "[4, 5, 6, 7, 8, 9, 1, 2, 3]\n"
          ]
        }
      ],
      "source": [
        "# Approach - will use slicing to achieve left shift by n positions\n",
        "# By moving lefy we will have items n+1.. till end then 0 to n\n",
        "\n",
        "def shift_left(n:int, list_to_shift: list) -> list:\n",
        "    # Check the number entered is more than length then take the remainder by diving with length (so that no error in slicing)\n",
        "    # and list is moved with given steps\n",
        "    normalized_number = n % len(list_to_shift)\n",
        "    left_shifted_list = list_to_shift[normalized_number:] + list_to_shift[:normalized_number]\n",
        "    return left_shifted_list\n",
        "\n",
        "# Create a list\n",
        "list_to_shift = [1,2,3,4,5,6,7,8,9]\n",
        "\n",
        "# Get the number of positions to be shifted\n",
        "positions_to_shift = int(input(f'Enter number of positions to shift: '))\n",
        "\n",
        "# Shift the list\n",
        "result_list = shift_left(positions_to_shift, list_to_shift)\n",
        "\n",
        "# Print result\n",
        "print(result_list)"
      ]
    },
    {
      "cell_type": "markdown",
      "metadata": {},
      "source": [
        "### 32. Rotate a list to the right by `n` positions."
      ]
    },
    {
      "cell_type": "code",
      "execution_count": 33,
      "metadata": {},
      "outputs": [
        {
          "name": "stdout",
          "output_type": "stream",
          "text": [
            "[7, 8, 9, 1, 2, 3, 4, 5, 6]\n"
          ]
        }
      ],
      "source": [
        "# Approach - will use slicing to achieve right shift by n positions\n",
        "# By moving right we will have items from length - n (which is also -n) till end then 0 to -n\n",
        "\n",
        "def shift_right(n:int, list_to_shift: list) -> list:\n",
        "    # Check the number entered is more than length then take the remainder by diving with length (so that no error in slicing)\n",
        "    # and list is moved with given steps\n",
        "    normalized_number = (n % len(list_to_shift)*-1)\n",
        "    right_shifted_list = list_to_shift[(normalized_number):] + list_to_shift[:normalized_number]\n",
        "    return right_shifted_list\n",
        "\n",
        "# Create a list\n",
        "list_to_shift = [1,2,3,4,5,6,7,8,9]\n",
        "\n",
        "# Get the number of positions to be shifted\n",
        "positions_to_shift = int(input(f'Enter number of positions to shift: '))\n",
        "\n",
        "# Shift the list\n",
        "result_list = shift_right(positions_to_shift, list_to_shift)\n",
        "\n",
        "# Print result\n",
        "print(result_list)"
      ]
    },
    {
      "cell_type": "markdown",
      "metadata": {},
      "source": [
        "### 33. Create a list of prime numbers up to 50."
      ]
    },
    {
      "cell_type": "code",
      "execution_count": 8,
      "metadata": {},
      "outputs": [
        {
          "name": "stdout",
          "output_type": "stream",
          "text": [
            "[2, 3, 5, 7, 11, 13, 17, 19, 23, 29, 31, 37, 41, 43, 47]\n"
          ]
        }
      ],
      "source": [
        "import math\n",
        "# Function to check if number is prime or not\n",
        "# will try to divide a number from 2 to (n/2)+1 - (to optimize the function) - if number is divisible by any number the False\n",
        "def is_prime(n:int) -> bool:\n",
        "    if(n <= 1):\n",
        "        return False\n",
        "    range_num = math.floor(n/2) + 1\n",
        "    for i in range(2 , range_num):\n",
        "        if(n%i == 0):\n",
        "            return False\n",
        "    return True\n",
        "\n",
        "# Create a list of prime numbers\n",
        "prime_numbers = [num for num in range(1, 51) if is_prime(num)]\n",
        "\n",
        "# Print result\n",
        "print(prime_numbers)"
      ]
    },
    {
      "cell_type": "markdown",
      "metadata": {},
      "source": [
        "### 34. Split a list into chunks of size `n`."
      ]
    },
    {
      "cell_type": "code",
      "execution_count": 2,
      "metadata": {},
      "outputs": [
        {
          "name": "stdout",
          "output_type": "stream",
          "text": [
            "[['Robin', 'Pabbi', 1, 2, 3], [4, 5, 6, 'Helo', 34.5], [67, 'PWskills', 'DataScience', 'AI', 'ML'], ['DL', 'CV', 'NLP']]\n"
          ]
        }
      ],
      "source": [
        "# Approach - We can use list slicing and step of range function \n",
        "\n",
        "# Function definition - Take a chunk size and list as input and return a list of lists with each nested list of given size except last one\n",
        "# Last nested list might not be necessarily of chunk size, if remaining items are less then size might be shorter\n",
        "def split_list_into_chunks(chunk_size: int, list_to_split: list) -> list:\n",
        "    result_list_with_chunks = []\n",
        "\n",
        "    list_length = len(list_to_split)\n",
        "\n",
        "    # Case of single chunk because chunk size is greater or equal to length of list\n",
        "    if(chunk_size >= list_length):\n",
        "        result_list_with_chunks.append(list_to_split)\n",
        "        return result_list_with_chunks\n",
        "\n",
        "    for i in range(0, list_length, chunk_size):\n",
        "        # Add each chunk of [chunk size] will be added to outer list\n",
        "        # in case of last chunk, if remaining items are less than chunk size then remaininig items will be added\n",
        "        result_list_with_chunks.append(list_to_split[i:i+chunk_size])\n",
        "\n",
        "    return result_list_with_chunks\n",
        "\n",
        "# Create a list\n",
        "single_list = ['Robin', 'Pabbi', 1,2,3,4,5,6, 'Helo', 34.5, 67, 'PWskills', 'DataScience', 'AI', 'ML', 'DL', 'CV', 'NLP']\n",
        "\n",
        "# Take a chunk size input from user\n",
        "chunk_size = int(input('Enter a chunk size: '))\n",
        "\n",
        "# Split list into chunks\n",
        "list_of_chunks = split_list_into_chunks(chunk_size, single_list)\n",
        "\n",
        "# print result\n",
        "print(list_of_chunks)"
      ]
    },
    {
      "cell_type": "markdown",
      "metadata": {},
      "source": [
        "### 35. Find the second largest number in a list."
      ]
    },
    {
      "cell_type": "code",
      "execution_count": 3,
      "metadata": {},
      "outputs": [
        {
          "name": "stdout",
          "output_type": "stream",
          "text": [
            "77\n"
          ]
        }
      ],
      "source": [
        "# Approach - Sort a list and then we get the second largest at 2nd position if sorted in desc order or second last if sorted in asc order\n",
        "# We are using Ascending order option\n",
        "\n",
        "# Function - takes list as input and return 2nd largest element\n",
        "def get_second_largest_element(list_input:list):\n",
        "    sorted_list = sorted(list_input)\n",
        "    return sorted_list[-2]\n",
        "\n",
        "# Create a list\n",
        "list_to_check = [2,3,4,1,5,6,77,99,34,56]\n",
        "\n",
        "# Get 2nd largest number\n",
        "second_largest_num = get_second_largest_element(list_to_check)\n",
        "\n",
        "# Print result\n",
        "print(second_largest_num)\n"
      ]
    },
    {
      "cell_type": "markdown",
      "metadata": {},
      "source": [
        "### 36. Replace every element in a list with its square."
      ]
    },
    {
      "cell_type": "code",
      "execution_count": 5,
      "metadata": {},
      "outputs": [
        {
          "name": "stdout",
          "output_type": "stream",
          "text": [
            "[1, 4, 9, 16, 25, 36, 49, 64, 81]\n"
          ]
        }
      ],
      "source": [
        "# Approach - Iterate with index and replace with square of value\n",
        "\n",
        "# Function - takes a list and replace each element with its square\n",
        "def replace_elements_with_squares(list_of_numbers: list) -> None:\n",
        "    for index in range(0, len(list_of_numbers)):\n",
        "        list_of_numbers[index] **= 2\n",
        "\n",
        "# Create a list\n",
        "list_1 = [1,2,3,4,5,6,7,8,9]\n",
        "\n",
        "# Replace with square of element\n",
        "replace_elements_with_squares(list_1)\n",
        "\n",
        "# Print list\n",
        "print(list_1)"
      ]
    },
    {
      "cell_type": "markdown",
      "metadata": {},
      "source": [
        "### 37. Convert a list to a dictionary where list elements become keys and their indices become values."
      ]
    },
    {
      "cell_type": "code",
      "execution_count": 8,
      "metadata": {},
      "outputs": [
        {
          "name": "stdout",
          "output_type": "stream",
          "text": [
            "{1: 0, 2: 1, 33: 2, 415: 3, 76: 4, 79: 5, 28: 6, 19: 7}\n"
          ]
        }
      ],
      "source": [
        "# Approach - Iterate using index, and keep adding each element as key and index as value\n",
        "\n",
        "# Function - takes a list as input and return dict (key as elements and value as index)\n",
        "def get_element_to_index_dict(list_input: list) -> dict:\n",
        "    element_to_index_dict = {}\n",
        "\n",
        "    for index in range(0, len(list_input)):\n",
        "        element_to_index_dict[list_input[index]] = index\n",
        "    \n",
        "    return element_to_index_dict\n",
        "\n",
        "# Create a list\n",
        "list_1 = [1,2,33,415,76,79,28,19]\n",
        "\n",
        "# Create a list to dict of element to indices\n",
        "result = get_element_to_index_dict(list_1)\n",
        "\n",
        "# Print dict\n",
        "print(result)"
      ]
    },
    {
      "cell_type": "markdown",
      "metadata": {},
      "source": [
        "### 38. Shuffle the elements of a list randomly."
      ]
    },
    {
      "cell_type": "code",
      "execution_count": 1,
      "metadata": {},
      "outputs": [
        {
          "name": "stdout",
          "output_type": "stream",
          "text": [
            "[19, 28, 33, 79, 415, 2, 1, 76]\n"
          ]
        }
      ],
      "source": [
        "# Approach us inbuilt function i.e. shuffle in the random module\n",
        "\n",
        "import random\n",
        "\n",
        "# Create a list\n",
        "list_to_shuffle = [1,2,33,415,76,79,28,19]\n",
        "\n",
        "# Shuffle the elements of list randomly\n",
        "random.shuffle(list_to_shuffle)\n",
        "\n",
        "# Print result\n",
        "print(list_to_shuffle)\n"
      ]
    },
    {
      "cell_type": "markdown",
      "metadata": {},
      "source": [
        "\n",
        "### 39. Create a list of the first 10 factorial numbers."
      ]
    },
    {
      "cell_type": "code",
      "execution_count": 2,
      "metadata": {},
      "outputs": [
        {
          "name": "stdout",
          "output_type": "stream",
          "text": [
            "[1, 2, 6, 24, 120, 720, 5040, 40320, 362880, 3628800]\n"
          ]
        }
      ],
      "source": [
        "# function - takes n as input and return factorial of n (recurssive function)\n",
        "def get_factorial(n:int) -> int:\n",
        "    if(n == 1):\n",
        "        return 1\n",
        "    else:\n",
        "        return n * get_factorial(n-1)\n",
        "\n",
        "# Compute Factorial for number 1 to 10 (10 inclusive)\n",
        "factorials = [get_factorial(num) for num in range(1, 11)]\n",
        "\n",
        "# Print result\n",
        "print(factorials)"
      ]
    },
    {
      "cell_type": "markdown",
      "metadata": {},
      "source": [
        "### 40. Check if two lists have at least one element in common."
      ]
    },
    {
      "cell_type": "code",
      "execution_count": 4,
      "metadata": {},
      "outputs": [
        {
          "name": "stdout",
          "output_type": "stream",
          "text": [
            "Contains common elements : True\n"
          ]
        }
      ],
      "source": [
        "# Approach - create a set out of lists and then take intersection (common elements) [We can even use & operator to check common elements in set]\n",
        "\n",
        "# Create lists\n",
        "list_1 = [1,4,5,6,7,90]\n",
        "list_2 = [4,7,3,55,66,89]\n",
        "\n",
        "# Create set from lists\n",
        "set_1 = set(list_1)\n",
        "set_2 = set(list_2)\n",
        "\n",
        "# Check for common element\n",
        "has_common_element = len(set_1.intersection(set_2)) > 0\n",
        "\n",
        "# Print result\n",
        "print(f'Contains common elements : {has_common_element}')\n"
      ]
    },
    {
      "cell_type": "markdown",
      "metadata": {},
      "source": [
        "### 41. Remove all elements from a list."
      ]
    },
    {
      "cell_type": "code",
      "execution_count": 5,
      "metadata": {},
      "outputs": [
        {
          "name": "stdout",
          "output_type": "stream",
          "text": [
            "[]\n"
          ]
        }
      ],
      "source": [
        "# Approach - using inbuilt function clear\n",
        "\n",
        "# Create list\n",
        "list_1 = [1,4,5,6,7,90]\n",
        "\n",
        "# Clearing elements of list\n",
        "list_1.clear()\n",
        "\n",
        "# Print cleared list\n",
        "print(list_1)"
      ]
    },
    {
      "cell_type": "markdown",
      "metadata": {},
      "source": [
        "### 42. Replace negative numbers in a list with 0."
      ]
    },
    {
      "cell_type": "code",
      "execution_count": 7,
      "metadata": {},
      "outputs": [
        {
          "name": "stdout",
          "output_type": "stream",
          "text": [
            "[1, 0, 5, 6, 0, 90, 12, 0]\n"
          ]
        }
      ],
      "source": [
        "# Approach - bruteforce approach, iterate and replace if negative\n",
        "\n",
        "def replace_negatives(list_input: list, num_to_replace_with: int) -> None:\n",
        "    for index in range(0, len(list_input)):\n",
        "        if(list_input[index] < 0):\n",
        "            list_input[index] = num_to_replace_with\n",
        "\n",
        "# Create list\n",
        "list_1 = [1, -4, 5, 6, -7,90, 12, -34]\n",
        "\n",
        "# Replace negatives with zero (0)\n",
        "replace_negatives(list_1, 0)\n",
        "\n",
        "# print list\n",
        "print(list_1)"
      ]
    },
    {
      "cell_type": "markdown",
      "metadata": {},
      "source": [
        "### 43. Convert a string into a list of words."
      ]
    },
    {
      "cell_type": "code",
      "execution_count": 8,
      "metadata": {},
      "outputs": [
        {
          "name": "stdout",
          "output_type": "stream",
          "text": [
            "['My', 'name', 'is', 'Robin', 'Pabbi.', 'I', 'am', 'a', 'passionate', 'coder.']\n"
          ]
        }
      ],
      "source": [
        "# Split the string\n",
        "\n",
        "# Take a string input\n",
        "string_to_split = input('Enter your string to split into words: ')\n",
        "\n",
        "# convert to list of words\n",
        "list_of_words = string_to_split.split(' ')\n",
        "\n",
        "# print result\n",
        "print(list_of_words)"
      ]
    },
    {
      "cell_type": "markdown",
      "metadata": {},
      "source": [
        "### 44. Convert a list of words into a string."
      ]
    },
    {
      "cell_type": "code",
      "execution_count": 9,
      "metadata": {},
      "outputs": [
        {
          "name": "stdout",
          "output_type": "stream",
          "text": [
            "My name is Robin Pabbi. I am a passionate coder.\n"
          ]
        }
      ],
      "source": [
        "# Approach - join function\n",
        "\n",
        "# Create a list\n",
        "list_of_words = ['My', 'name', 'is', 'Robin', 'Pabbi.', 'I', 'am', 'a', 'passionate', 'coder.']\n",
        "\n",
        "# Create a string\n",
        "string_result = ' '.join(list_of_words)\n",
        "\n",
        "# print result\n",
        "print(string_result)"
      ]
    },
    {
      "cell_type": "markdown",
      "metadata": {},
      "source": [
        "### 45. Create a list of the first `n` powers of 2."
      ]
    },
    {
      "cell_type": "code",
      "execution_count": 13,
      "metadata": {},
      "outputs": [
        {
          "name": "stdout",
          "output_type": "stream",
          "text": [
            "[1, 2, 4, 8, 16, 32, 64, 128, 256, 512, 1024, 2048, 4096, 8192]\n"
          ]
        }
      ],
      "source": [
        "# Function - takes number 'num' and return the list of n power of 2 - 2**n -- for each element where n is its index\n",
        "def create_list_of_n_power_2(num_of_elements: int) -> list:\n",
        "    return [2**i for i in range(0, num_of_elements)]\n",
        "\n",
        "# Take input from user\n",
        "num_of_elements = int(input('Enter number of elements in the list: '))\n",
        "\n",
        "# Compute list\n",
        "result = create_list_of_n_power_2(num_of_elements)\n",
        "\n",
        "# Print result\n",
        "print(result)"
      ]
    },
    {
      "cell_type": "markdown",
      "metadata": {},
      "source": [
        "### 46. Find the longest string in a list of strings."
      ]
    },
    {
      "cell_type": "code",
      "execution_count": 14,
      "metadata": {},
      "outputs": [
        {
          "name": "stdout",
          "output_type": "stream",
          "text": [
            "This is a longest string in this list for sure.\n"
          ]
        }
      ],
      "source": [
        "# Approach -  Using max funtion\n",
        "\n",
        "# Create list of strings\n",
        "list_of_strings = ['Hi', 'Hello this is a string', 'This is a longest string in this list for sure.', 'Good morning']\n",
        "\n",
        "# Get longest string\n",
        "longest_string = max(list_of_strings, key=len)\n",
        "\n",
        "# Print result\n",
        "print(longest_string)"
      ]
    },
    {
      "cell_type": "markdown",
      "metadata": {},
      "source": [
        "### 47. Find the shortest string in a list of strings."
      ]
    },
    {
      "cell_type": "code",
      "execution_count": 17,
      "metadata": {},
      "outputs": [
        {
          "name": "stdout",
          "output_type": "stream",
          "text": [
            "Hi\n"
          ]
        }
      ],
      "source": [
        "# Approach -  Using min funtion\n",
        "\n",
        "# Create list of strings\n",
        "list_of_strings = ['Hi', 'Hello this is a string', 'This is a longest string in this list for sure.', 'Good morning']\n",
        "\n",
        "# Get longest string\n",
        "shortest_string = min(list_of_strings, key=len)\n",
        "\n",
        "# Print result\n",
        "print(shortest_string)"
      ]
    },
    {
      "cell_type": "markdown",
      "metadata": {},
      "source": [
        "### 48. Create a list of the first `n` triangular numbers."
      ]
    },
    {
      "cell_type": "code",
      "execution_count": 42,
      "metadata": {},
      "outputs": [
        {
          "name": "stdout",
          "output_type": "stream",
          "text": [
            "[1, 3, 6, 10, 15, 21, 28, 36, 45, 55, 66, 78, 91, 105, 120]\n"
          ]
        }
      ],
      "source": [
        "# Approach - formula for n level = (n +1)* n/2\n",
        "\n",
        "def get_triangular_number(level: int) -> int:\n",
        "    return (level * (level + 1))//2\n",
        "\n",
        "# Take a input of number\n",
        "n = int(input('Enter the number of elements: '))\n",
        "\n",
        "# Create list of triangular numbers\n",
        "triangular_numbers = [ get_triangular_number(num) for num in range(1, n +1)]\n",
        "\n",
        "# Print result\n",
        "print(triangular_numbers)"
      ]
    },
    {
      "cell_type": "markdown",
      "metadata": {},
      "source": [
        "### 49. Check if a list contains another list as a subsequence."
      ]
    },
    {
      "cell_type": "code",
      "execution_count": 44,
      "metadata": {},
      "outputs": [
        {
          "name": "stdout",
          "output_type": "stream",
          "text": [
            "List 2 is subsequence of list 1: True\n",
            "List 3 is subsequence of list 1: False\n"
          ]
        }
      ],
      "source": [
        "# Approach - We will iterate from 0 to x where x = length of master list - legth of subsequence\n",
        "# Explanation - Actually we will check if for all the items in subsequence list exists in master list in same order\n",
        "# if slice from current position till length of subsequence matchs then True\n",
        "\n",
        "\n",
        "# Function definition - It takes master list and a subsequence list and return True if subsequence list is contained in master list else False\n",
        "def is_list_subsequence(master_list: list, list_candidate_of_subsequence: list) -> bool:\n",
        "    master_length = len(master_list)\n",
        "    subsequence_length = len(list_candidate_of_subsequence)\n",
        "\n",
        "    # Shorter maste list can not contain sequence list\n",
        "    if(master_length < subsequence_length):\n",
        "        return False\n",
        "\n",
        "    for i in range(len(master_list) - subsequence_length + 1):\n",
        "        if master_list[i:i+subsequence_length] == list_candidate_of_subsequence:\n",
        "            return True\n",
        "    return False\n",
        "\n",
        "# Create lists\n",
        "list_1 = [1,2,3,4,5,6,7,8,9,10,11,12,14]\n",
        "list_2 = [3,4,5,6,7]\n",
        "list_3 = [3,6,12,14, 15]\n",
        "\n",
        "# Check if list_2 is subsequence of list_1\n",
        "is_list2_subsequence = is_list_subsequence(list_1, list_2)\n",
        "# Check if list_3 is subsequence of list_1\n",
        "is_list3_subsequence = is_list_subsequence(list_1, list_3)\n",
        "\n",
        "# Print result\n",
        "print(f'List 2 is subsequence of list 1: {is_list2_subsequence}')\n",
        "print(f'List 3 is subsequence of list 1: {is_list3_subsequence}')"
      ]
    },
    {
      "cell_type": "markdown",
      "metadata": {},
      "source": [
        "### 50. Swap two elements in a list by their indices."
      ]
    },
    {
      "cell_type": "code",
      "execution_count": 6,
      "metadata": {},
      "outputs": [
        {
          "name": "stdout",
          "output_type": "stream",
          "text": [
            "['Robin', 'Pabbi', 'AI', 'ML', 'DL', 'CV', 'PwSkills']\n"
          ]
        }
      ],
      "source": [
        "\n",
        "def swap_elements_of_list(list_input: list, index1: int, index2: int) -> None:\n",
        "    temp_val = list_input[index1]\n",
        "    list_input[index1] = list_input[index2]\n",
        "    list_input[index2] = temp_val\n",
        "\n",
        "# Create lists\n",
        "list_1 = ['Robin', 'PwSkills', 'AI', 'ML', 'DL', 'CV', 'Pabbi']\n",
        "\n",
        "# Swap values of index 1 (2nd element) and index 6 or (-1)\n",
        "swap_elements_of_list(list_1, 1, 6)\n",
        "\n",
        "# Print list\n",
        "print(list_1)"
      ]
    },
    {
      "cell_type": "markdown",
      "metadata": {},
      "source": [
        "# Tuple Based Practice Problem :"
      ]
    },
    {
      "cell_type": "markdown",
      "metadata": {},
      "source": [
        "### 1. Create a tuple with integers from 1 to 5."
      ]
    },
    {
      "cell_type": "code",
      "execution_count": 8,
      "metadata": {},
      "outputs": [
        {
          "name": "stdout",
          "output_type": "stream",
          "text": [
            "(1, 2, 3, 4, 5)\n"
          ]
        }
      ],
      "source": [
        "# Create a tuple\n",
        "t = (1,2,3,4,5)\n",
        "\n",
        "# Print tuple\n",
        "print(t)"
      ]
    },
    {
      "cell_type": "markdown",
      "metadata": {},
      "source": [
        "### 2. Access the third element of a tuple."
      ]
    },
    {
      "cell_type": "code",
      "execution_count": 10,
      "metadata": {},
      "outputs": [
        {
          "name": "stdout",
          "output_type": "stream",
          "text": [
            "30\n"
          ]
        }
      ],
      "source": [
        "# Create a tuple\n",
        "t = (1,12,30,24,5)\n",
        "\n",
        "# Access third element (index 2)\n",
        "third_element = t[2]\n",
        "\n",
        "# Print third element\n",
        "print(third_element)"
      ]
    },
    {
      "cell_type": "markdown",
      "metadata": {},
      "source": [
        "### 3. Find the length of a tuple without using the `len()` function."
      ]
    },
    {
      "cell_type": "code",
      "execution_count": 11,
      "metadata": {},
      "outputs": [
        {
          "name": "stdout",
          "output_type": "stream",
          "text": [
            "Length of tuple is: 10\n"
          ]
        }
      ],
      "source": [
        "# Approach iterate on tuple items and increment counter variable\n",
        "\n",
        "# Function with code of fining length\n",
        "def length(tuple_input) -> int:\n",
        "  count = 0\n",
        "  for el in tuple_input:\n",
        "    count += 1\n",
        "  return count\n",
        "\n",
        "# Create a tuple\n",
        "tuple_of_numbers = (1, 2, 3, 4, 5, 6, 7, 8, 9, 10)\n",
        "\n",
        "# Get length using out function\n",
        "length_of_tuple = length(tuple_of_numbers)\n",
        "\n",
        "# Print output\n",
        "print(f'Length of tuple is: {length_of_tuple}')"
      ]
    },
    {
      "cell_type": "markdown",
      "metadata": {},
      "source": [
        "### 4. Count the occurrences of an element in a tuple."
      ]
    },
    {
      "cell_type": "code",
      "execution_count": 12,
      "metadata": {},
      "outputs": [
        {
          "name": "stdout",
          "output_type": "stream",
          "text": [
            "No. of occurrences : 3\n"
          ]
        }
      ],
      "source": [
        "# Approach - count function\n",
        "\n",
        "# Create a tuple\n",
        "tple = (61, 12, 5, 99, 77, 80, 99, 99, 100, '2', 'Robin', '99')\n",
        "\n",
        "# Count number of occurrences of element 9 (int 9)\n",
        "count_of_occurence = tple.count(99)\n",
        "\n",
        "# print output\n",
        "print(f'No. of occurrences : {count_of_occurence}')"
      ]
    },
    {
      "cell_type": "markdown",
      "metadata": {},
      "source": [
        "### 5. Find the index of the first occurrence of an element in a tuple."
      ]
    },
    {
      "cell_type": "code",
      "execution_count": 13,
      "metadata": {},
      "outputs": [
        {
          "name": "stdout",
          "output_type": "stream",
          "text": [
            "Elements exists at index: 2\n"
          ]
        }
      ],
      "source": [
        "# Create a tuple\n",
        "tuple_1 = (10, 23, 15, 66, 67, 80, 345)\n",
        "\n",
        "# Element to find\n",
        "element_to_find = 15\n",
        "\n",
        "# Check if elements exists or not - to avoid the error\n",
        "if element_to_find in tuple_1:\n",
        "  # Get index of the first occurrence\n",
        "  index_of_index = tuple_1.index(element_to_find)\n",
        "  # Print result\n",
        "  print(f'Elements exists at index: {index_of_index}')\n",
        "else:\n",
        "  print('Elements does not exist in tuple.')"
      ]
    },
    {
      "cell_type": "markdown",
      "metadata": {},
      "source": [
        "### 6. Check if an element exists in a tuple."
      ]
    },
    {
      "cell_type": "code",
      "execution_count": 16,
      "metadata": {},
      "outputs": [
        {
          "name": "stdout",
          "output_type": "stream",
          "text": [
            "Elements does not exist in tuple.\n"
          ]
        }
      ],
      "source": [
        "# Create a tuple\n",
        "tuple_1 = (10, 23, 15, 66, 67, 80, 345)\n",
        "\n",
        "# Element to find\n",
        "element_to_find = 150\n",
        "\n",
        "# Check if elements exists or not\n",
        "if element_to_find in tuple_1:\n",
        "  print(f'Elements exists in tuple')\n",
        "else:\n",
        "  print('Elements does not exist in tuple.')"
      ]
    },
    {
      "cell_type": "markdown",
      "metadata": {},
      "source": [
        "### 7. Convert a tuple to a list."
      ]
    },
    {
      "cell_type": "code",
      "execution_count": 17,
      "metadata": {},
      "outputs": [
        {
          "name": "stdout",
          "output_type": "stream",
          "text": [
            "[10, 23, 15, 66, 67, 80, 345, 'Pwskills']\n"
          ]
        }
      ],
      "source": [
        "# Create a tuple\n",
        "tuple_1 = (10, 23, 15, 66, 67, 80, 345, 'Pwskills')\n",
        "\n",
        "# Type cast of tuple to list\n",
        "list_1 = list(tuple_1)\n",
        "\n",
        "# Print list\n",
        "print(list_1)"
      ]
    },
    {
      "cell_type": "markdown",
      "metadata": {},
      "source": [
        "### 8. Convert a list to a tuple."
      ]
    },
    {
      "cell_type": "code",
      "execution_count": 19,
      "metadata": {},
      "outputs": [
        {
          "name": "stdout",
          "output_type": "stream",
          "text": [
            "(100, 64, 50, 3, 'Pwskills')\n"
          ]
        }
      ],
      "source": [
        "# Create a list\n",
        "list_2 = [100, 64, 50, 3, 'Pwskills']\n",
        "\n",
        "# Type cast of list to tuple\n",
        "tuple_2 = tuple(list_2)\n",
        "\n",
        "# Print tuple\n",
        "print(tuple_2)"
      ]
    },
    {
      "cell_type": "markdown",
      "metadata": {},
      "source": [
        "### 9. Unpack the elements of a tuple into variables."
      ]
    },
    {
      "cell_type": "code",
      "execution_count": 21,
      "metadata": {},
      "outputs": [
        {
          "name": "stdout",
          "output_type": "stream",
          "text": [
            "x = 1\n",
            "y = 20\n",
            "z = 56\n",
            "s = 89\n"
          ]
        }
      ],
      "source": [
        "# Create tuple\n",
        "tple = (1,20, 56, 89)\n",
        "\n",
        "# unpack into variables\n",
        "x, y, z, s = tple\n",
        "\n",
        "# Print result\n",
        "print(f'x = {x}')\n",
        "print(f'y = {y}')\n",
        "print(f'z = {z}')\n",
        "print(f's = {s}')"
      ]
    },
    {
      "cell_type": "markdown",
      "metadata": {},
      "source": [
        "### 10. Create a tuple of even numbers from 1 to 10."
      ]
    },
    {
      "cell_type": "code",
      "execution_count": 25,
      "metadata": {},
      "outputs": [
        {
          "name": "stdout",
          "output_type": "stream",
          "text": [
            "Tuple of even numbers from 1 to 10: (2, 4, 6, 8, 10)\n"
          ]
        }
      ],
      "source": [
        "# Approach - Using comprehension and checking for even number\n",
        "# Using Range 1 to 11 because upperbound is exlusive\n",
        "\n",
        "# Create a tuple of even numbers\n",
        "even_numbers_tuple = tuple(num for num in range(1, 11) if num % 2 == 0)\n",
        "\n",
        "# Print the tuple of even numbers\n",
        "print(f'Tuple of even numbers from 1 to 10: {even_numbers_tuple}')"
      ]
    },
    {
      "cell_type": "markdown",
      "metadata": {},
      "source": [
        "### 11. Create a tuple of odd numbers from 1 to 10."
      ]
    },
    {
      "cell_type": "code",
      "execution_count": 26,
      "metadata": {},
      "outputs": [
        {
          "name": "stdout",
          "output_type": "stream",
          "text": [
            "Tuple of odd numbers from 1 to 10: (1, 3, 5, 7, 9)\n"
          ]
        }
      ],
      "source": [
        "# Approach - Using version of tuple comprehension and checking for not even (odd) number\n",
        "# Using Range 1 to 11 because upperbound is exlusive\n",
        "\n",
        "# Create a tuple of odd numbers\n",
        "odd_numbers_tuple = tuple(num for num in range(1, 11) if num % 2 != 0)\n",
        "\n",
        "# Print the tuple of odd numbers\n",
        "print(f'Tuple of odd numbers from 1 to 10: {odd_numbers_tuple}')"
      ]
    },
    {
      "cell_type": "markdown",
      "metadata": {},
      "source": [
        "### 12. Concatenate two tuples."
      ]
    },
    {
      "cell_type": "code",
      "execution_count": 27,
      "metadata": {},
      "outputs": [
        {
          "name": "stdout",
          "output_type": "stream",
          "text": [
            "('Robin', '1', 2, 3, 4, 'Pabbi', 6, 7, 2, 'PWskills')\n"
          ]
        }
      ],
      "source": [
        "# Create tuples\n",
        "tuple_1 = ('Robin', '1', 2, 3, 4)\n",
        "tuple_2 = ('Pabbi', 6, 7, 2, 'PWskills')\n",
        "\n",
        "# Concatenate tuples\n",
        "result_tuple = tuple_1 + tuple_2\n",
        "\n",
        "# Print result \n",
        "print(result_tuple)"
      ]
    },
    {
      "cell_type": "markdown",
      "metadata": {},
      "source": [
        "### 13. Repeat a tuple three times."
      ]
    },
    {
      "cell_type": "code",
      "execution_count": 28,
      "metadata": {},
      "outputs": [
        {
          "name": "stdout",
          "output_type": "stream",
          "text": [
            "(1, 2, 3, 4, 5, 1, 2, 3, 4, 5, 1, 2, 3, 4, 5)\n"
          ]
        }
      ],
      "source": [
        "# Create a tuple\n",
        "tple = (1,2,3,4,5)\n",
        "\n",
        "# Repeat 3 times\n",
        "repeated_tuple = tple * 3\n",
        "\n",
        "# Print result\n",
        "print(repeated_tuple)"
      ]
    },
    {
      "cell_type": "markdown",
      "metadata": {},
      "source": [
        "### 14. Check if a tuple is empty."
      ]
    },
    {
      "cell_type": "code",
      "execution_count": 29,
      "metadata": {},
      "outputs": [
        {
          "name": "stdout",
          "output_type": "stream",
          "text": [
            "E tuple is empty: True\n",
            "tple is empty: False\n"
          ]
        }
      ],
      "source": [
        "# Create an empty tuple\n",
        "e_tuple = tuple()\n",
        "\n",
        "# create non empty tulple\n",
        "tple = (2,3,4)\n",
        "\n",
        "# Check for emptyness\n",
        "is_e_tuple_empty = len(e_tuple) == 0\n",
        "is_tple_empty = len(tple) == 0\n",
        "\n",
        "# Print outputs\n",
        "print(f'E tuple is empty: {is_e_tuple_empty}')\n",
        "print(f'tple is empty: {is_tple_empty}')"
      ]
    },
    {
      "cell_type": "markdown",
      "metadata": {},
      "source": [
        "### 15. Create a nested tuple."
      ]
    },
    {
      "cell_type": "code",
      "execution_count": 1,
      "metadata": {},
      "outputs": [
        {
          "name": "stdout",
          "output_type": "stream",
          "text": [
            "((1, 2), (3, 4, 5, 6), (5, 6, 7))\n"
          ]
        }
      ],
      "source": [
        "# Create a tuple with nested tuples\n",
        "tuple_with_nested_tuple = ((1,2), (3,4,5,6), (5,6,7))\n",
        "\n",
        "# Print tuple\n",
        "print(tuple_with_nested_tuple)"
      ]
    },
    {
      "cell_type": "markdown",
      "metadata": {},
      "source": [
        "### 16. Access the first element of a nested tuple."
      ]
    },
    {
      "cell_type": "code",
      "execution_count": 5,
      "metadata": {},
      "outputs": [
        {
          "name": "stdout",
          "output_type": "stream",
          "text": [
            "First nested tuple: (10, 2, 3)\n",
            "First element in first tuple: 10\n"
          ]
        }
      ],
      "source": [
        "# Simple can be that tuple have only have one tuple\n",
        "t = ((10,2,3),(3,4,5,6),)\n",
        "\n",
        "# Print first nested tuple\n",
        "print(f'First nested tuple: {t[0]}')\n",
        "\n",
        "# Access and print first element\n",
        "print(f'First element in first tuple: {t[0][0]}')"
      ]
    },
    {
      "cell_type": "code",
      "execution_count": 33,
      "metadata": {},
      "outputs": [
        {
          "name": "stdout",
          "output_type": "stream",
          "text": [
            "3\n"
          ]
        }
      ],
      "source": [
        "# Little more complex - solution - to get first element of first tuple in nested tuple\n",
        "# Since tuple can have hetrogenous data like numbers, strings, other tuples \n",
        "# we will have to find first tuple and then return first element of that nested tuple\n",
        "\n",
        "def get_first_element_of_nested_tuple(tuple_input: tuple):\n",
        "    for element in tuple_input:\n",
        "        if(type(element) is tuple):\n",
        "            return element[0]\n",
        "    # If no nested touple found then return none\n",
        "    return None\n",
        "\n",
        "# Create a tuple\n",
        "tple = (1,2, (3,4,5,6), 'Robin')\n",
        "\n",
        "# Get first element of tuple - should return 3\n",
        "first_element_tple = get_first_element_of_nested_tuple(tple)\n",
        "\n",
        "# Print result\n",
        "print(first_element_tple)"
      ]
    },
    {
      "cell_type": "markdown",
      "metadata": {},
      "source": [
        "### 17. Create a tuple with a single element."
      ]
    },
    {
      "cell_type": "code",
      "execution_count": 37,
      "metadata": {},
      "outputs": [
        {
          "name": "stdout",
          "output_type": "stream",
          "text": [
            "<class 'tuple'>\n",
            "('Robin',)\n",
            "1\n"
          ]
        }
      ],
      "source": [
        "# Create touple with single element\n",
        "tple_with_one_elemenet = ('Robin',)\n",
        "\n",
        "# Print type\n",
        "print(type(tple_with_one_elemenet))\n",
        "\n",
        "# Print tuple\n",
        "print(tple_with_one_elemenet)\n",
        "\n",
        "# Print length\n",
        "print(len(tple_with_one_elemenet))"
      ]
    },
    {
      "cell_type": "markdown",
      "metadata": {},
      "source": [
        "### 18. Compare two tuples."
      ]
    },
    {
      "cell_type": "code",
      "execution_count": 41,
      "metadata": {},
      "outputs": [
        {
          "name": "stdout",
          "output_type": "stream",
          "text": [
            "True\n",
            "True\n",
            "False\n",
            "True\n",
            "False\n",
            "True\n"
          ]
        }
      ],
      "source": [
        "# Approach - we can use greater than (>), less than (<) or equal to (==) operators\n",
        "# These operators check if all elements at same index are try for the operator\n",
        "# like for >, it will compare all the items (at corresponding index) are greator than other\n",
        "\n",
        "tuple1 = (1,2,3)\n",
        "tuple2 = (3,4,5)\n",
        "tuple3 = (1,2,3)\n",
        "tuple4 = (3,2,1)\n",
        "\n",
        "# Print result of >\n",
        "print(tuple2 > tuple1)  # True\n",
        "print(tuple2 > tuple4)  # True\n",
        "print(tuple4 > tuple2)  # False\n",
        "\n",
        "# print result of <\n",
        "print(tuple1 < tuple2)  # True\n",
        "print(tuple2 < tuple4)  # False\n",
        "\n",
        "# Print equality\n",
        "print(tuple1 == tuple3)  # True"
      ]
    },
    {
      "cell_type": "markdown",
      "metadata": {},
      "source": [
        "### 19. Delete a tuple."
      ]
    },
    {
      "cell_type": "code",
      "execution_count": 42,
      "metadata": {},
      "outputs": [
        {
          "name": "stdout",
          "output_type": "stream",
          "text": [
            "Tuple before deletion: (1, 2, 3)\n"
          ]
        },
        {
          "ename": "NameError",
          "evalue": "name 'tuple_to_delete' is not defined",
          "output_type": "error",
          "traceback": [
            "\u001b[1;31m---------------------------------------------------------------------------\u001b[0m",
            "\u001b[1;31mNameError\u001b[0m                                 Traceback (most recent call last)",
            "Cell \u001b[1;32mIn[42], line 13\u001b[0m\n\u001b[0;32m     10\u001b[0m \u001b[39mdel\u001b[39;00m(tuple_to_delete)\n\u001b[0;32m     12\u001b[0m \u001b[39m# Printing now will raise error\u001b[39;00m\n\u001b[1;32m---> 13\u001b[0m \u001b[39mprint\u001b[39m(\u001b[39mf\u001b[39m\u001b[39m'\u001b[39m\u001b[39mTuple after deletion: \u001b[39m\u001b[39m{\u001b[39;00mtuple_to_delete\u001b[39m}\u001b[39;00m\u001b[39m'\u001b[39m)\n",
            "\u001b[1;31mNameError\u001b[0m: name 'tuple_to_delete' is not defined"
          ]
        }
      ],
      "source": [
        "# We can use inbuilt function to delete tuple - del funtion\n",
        "\n",
        "# Create tuple\n",
        "tuple_to_delete = (1,2,3)\n",
        "\n",
        "# Print tuple before deletion\n",
        "print(f'Tuple before deletion: {tuple_to_delete}')\n",
        "\n",
        "# Delete tuple\n",
        "del(tuple_to_delete)\n",
        "\n",
        "# Printing now will raise ERROR\n",
        "print(f'Tuple after deletion: {tuple_to_delete}')\n"
      ]
    },
    {
      "cell_type": "markdown",
      "metadata": {},
      "source": [
        "### 20. Slice a tuple."
      ]
    },
    {
      "cell_type": "code",
      "execution_count": 43,
      "metadata": {},
      "outputs": [
        {
          "name": "stdout",
          "output_type": "stream",
          "text": [
            "First half : (1, 2, 3, 4, 5)\n",
            "Aleternatibe elements : (1, 3, 5, 7, 9)\n",
            "Reverse of tuple : (10, 9, 8, 7, 6, 5, 4, 3, 2, 1)\n",
            "Second half : (6, 7, 8, 9, 10)\n"
          ]
        }
      ],
      "source": [
        "# Tuple slicing\n",
        "\n",
        "tple = (1,2,3,4,5,6,7,8,9,10)\n",
        "\n",
        "# First 5 elements\n",
        "first_five_elements = tple[:5]\n",
        "\n",
        "# Aleternative elements\n",
        "alternative_elements = tple[::2]\n",
        "\n",
        "# Reverse a tuple\n",
        "reverse_tuple = tple[::-1]\n",
        "\n",
        "# Elements from position 6 (index 5) to end\n",
        "second_half_elements = tple[5:]\n",
        "\n",
        "# Print results\n",
        "print(f'First half : {first_five_elements}')\n",
        "print(f'Aleternatibe elements : {alternative_elements}')\n",
        "print(f'Reverse of tuple : {reverse_tuple}')\n",
        "print(f'Second half : {second_half_elements}')"
      ]
    },
    {
      "cell_type": "markdown",
      "metadata": {},
      "source": [
        "### 21. Find the maximum value in a tuple."
      ]
    },
    {
      "cell_type": "code",
      "execution_count": 44,
      "metadata": {},
      "outputs": [
        {
          "name": "stdout",
          "output_type": "stream",
          "text": [
            "99\n"
          ]
        }
      ],
      "source": [
        "# Approach - using max inbuilt fnction\n",
        "\n",
        "# create a tuple\n",
        "tuple_to_find_max = (2, 3, 44, 52, 23, 99, 34, 21)\n",
        "\n",
        "# Find max element\n",
        "max_element = max(tuple_to_find_max)\n",
        "\n",
        "# Print max value\n",
        "print(max_element)"
      ]
    },
    {
      "cell_type": "markdown",
      "metadata": {},
      "source": [
        "### 22. Find the minimum value in a tuple."
      ]
    },
    {
      "cell_type": "code",
      "execution_count": 45,
      "metadata": {},
      "outputs": [
        {
          "name": "stdout",
          "output_type": "stream",
          "text": [
            "2\n"
          ]
        }
      ],
      "source": [
        "# Approach - using min inbuilt fnction\n",
        "\n",
        "# create a tuple\n",
        "tuple_to_find_min = (2, 3, 44, 52, 23, 99, 34, 21)\n",
        "\n",
        "# Find min element\n",
        "min_element = min(tuple_to_find_min)\n",
        "\n",
        "# Print min value\n",
        "print(min_element)"
      ]
    },
    {
      "cell_type": "markdown",
      "metadata": {},
      "source": [
        "### 23. Convert a string to a tuple of characters."
      ]
    },
    {
      "cell_type": "code",
      "execution_count": 47,
      "metadata": {},
      "outputs": [
        {
          "name": "stdout",
          "output_type": "stream",
          "text": [
            "('R', 'o', 'b', 'i', 'n')\n"
          ]
        }
      ],
      "source": [
        "# Take a string input from user\n",
        "string_inpt = input('Enter a string: ')\n",
        "\n",
        "# Convert string to tuple\n",
        "tuple_from_string = tuple(string_inpt)\n",
        "\n",
        "# print tuple\n",
        "print(tuple_from_string)"
      ]
    },
    {
      "cell_type": "markdown",
      "metadata": {},
      "source": [
        "### 24. Convert a tuple of characters to a string."
      ]
    },
    {
      "cell_type": "code",
      "execution_count": 48,
      "metadata": {},
      "outputs": [
        {
          "name": "stdout",
          "output_type": "stream",
          "text": [
            "Robin\n"
          ]
        }
      ],
      "source": [
        "# Create a tuple\n",
        "tuple_of_chars = ('R', 'o', 'b', 'i', 'n')\n",
        "\n",
        "# Convert to string\n",
        "string_from_tuple = ''.join(tuple_of_chars)\n",
        "\n",
        "# Print string\n",
        "print(string_from_tuple)"
      ]
    },
    {
      "cell_type": "markdown",
      "metadata": {},
      "source": [
        "### 25. Create a tuple from multiple data types."
      ]
    },
    {
      "cell_type": "code",
      "execution_count": 49,
      "metadata": {},
      "outputs": [
        {
          "name": "stdout",
          "output_type": "stream",
          "text": [
            "(1, 3, (4+5j), 6.78, 9.2, 'Robin', [11, 22], {3, 4})\n"
          ]
        }
      ],
      "source": [
        "# Create tuple of multiple types\n",
        "hetro_tuple = (1, 3, 4+5j, 6.78, 9.2, 'Robin', [11, 22], {3,4})\n",
        "\n",
        "# print tuple\n",
        "print(hetro_tuple)"
      ]
    },
    {
      "cell_type": "markdown",
      "metadata": {},
      "source": [
        "### 26. Check if two tuples are identical."
      ]
    },
    {
      "cell_type": "code",
      "execution_count": 50,
      "metadata": {},
      "outputs": [
        {
          "name": "stdout",
          "output_type": "stream",
          "text": [
            "True\n",
            "False\n",
            "False\n"
          ]
        }
      ],
      "source": [
        "# Create tuples to compare\n",
        "tuple1 = (2, 5, 8)\n",
        "tuple2 = ('2', 3, 4)\n",
        "tuple3 = ('2', '3', '8')\n",
        "tuple4 = (2, 5, 8)\n",
        "\n",
        "# print comparision to check if identical tuples\n",
        "print(tuple1 == tuple4) # True\n",
        "print(tuple1 == tuple2) # False\n",
        "print(tuple1 == tuple3) # False"
      ]
    },
    {
      "cell_type": "markdown",
      "metadata": {},
      "source": [
        "### 27. Sort the elements of a tuple."
      ]
    },
    {
      "cell_type": "code",
      "execution_count": 52,
      "metadata": {},
      "outputs": [
        {
          "name": "stdout",
          "output_type": "stream",
          "text": [
            "(1, 4, 8, 32, 34, 38, 56, 67, 99)\n"
          ]
        }
      ],
      "source": [
        "# Approach - Since tuple is immutable to inplace sorting it not provided\n",
        "# We can use sorted in build function which return list then we type cast it to tuple\n",
        "\n",
        "# Create tuple\n",
        "tuple_to_sort = (34, 56, 32, 8, 67, 38, 99, 1, 4)\n",
        "\n",
        "# Sort tuple\n",
        "sorted_tuple = tuple(sorted(tuple_to_sort))\n",
        "\n",
        "# Print sorted tuple\n",
        "print(sorted_tuple)"
      ]
    },
    {
      "cell_type": "markdown",
      "metadata": {},
      "source": [
        "### 28. Convert a tuple of integers to a tuple of strings."
      ]
    },
    {
      "cell_type": "code",
      "execution_count": 55,
      "metadata": {},
      "outputs": [
        {
          "name": "stdout",
          "output_type": "stream",
          "text": [
            "('26', '9', '17', '8', '143')\n"
          ]
        }
      ],
      "source": [
        "# Create tuple of Integer values\n",
        "tuple_of_numbers = (26, 9, 17, 8, 143)\n",
        "\n",
        "# Convert int elements to string\n",
        "# Below is short cut to cast a list to tuple from list comprehension\n",
        "tuple_string_integers = tuple(str(strNum) for strNum in tuple_of_numbers)\n",
        "\n",
        "# Print string values of tuple\n",
        "print(tuple_string_integers)"
      ]
    },
    {
      "cell_type": "markdown",
      "metadata": {},
      "source": [
        "### 29. Convert a tuple of strings to a tuple of integers."
      ]
    },
    {
      "cell_type": "code",
      "execution_count": 56,
      "metadata": {},
      "outputs": [
        {
          "name": "stdout",
          "output_type": "stream",
          "text": [
            "(26, 9, 17, 8, 143)\n"
          ]
        }
      ],
      "source": [
        "# Create tuple of Integer values as string\n",
        "tuple_string_integers = ('26', '9', '17', '8', '143')\n",
        "\n",
        "# Convert string elements to numbers (integers)\n",
        "# Below is short cut to cast a list to tuple from list comprehension\n",
        "tuple_of_numbers = tuple(int(strNum) for strNum in tuple_string_integers)\n",
        "\n",
        "# Print numeric tuple\n",
        "print(tuple_of_numbers)"
      ]
    },
    {
      "cell_type": "markdown",
      "metadata": {},
      "source": [
        "### 30. Merge two tuples."
      ]
    },
    {
      "cell_type": "code",
      "execution_count": 57,
      "metadata": {},
      "outputs": [
        {
          "name": "stdout",
          "output_type": "stream",
          "text": [
            "('Hi', 1, 2, 4, 'Robin', 'Pabbi', 5, 6, 7)\n"
          ]
        }
      ],
      "source": [
        "# Approach - Use concatenation + operator\n",
        "\n",
        "# Create Tuples\n",
        "tuple_1 = ('Hi', 1, 2, 4, 'Robin')\n",
        "tuple_2 = ('Pabbi', 5, 6, 7)\n",
        "\n",
        "# concatenation\n",
        "merged_tuple = tuple_1 + tuple_2\n",
        "\n",
        "# Print values\n",
        "print(merged_tuple)"
      ]
    },
    {
      "cell_type": "markdown",
      "metadata": {},
      "source": [
        "### 31. Flatten a nested tuple."
      ]
    },
    {
      "cell_type": "code",
      "execution_count": 7,
      "metadata": {},
      "outputs": [
        {
          "name": "stdout",
          "output_type": "stream",
          "text": [
            "(1, 2, 3, 4, 5, 6, 7, 8, 9, 10)\n"
          ]
        }
      ],
      "source": [
        "# Approach - Use Extend to falten the nested tuple and append to add normal element\n",
        "\n",
        "def flatten_tuple(tuple_input: tuple) -> tuple:\n",
        "    result = []\n",
        "    \n",
        "    for element in tuple_input:\n",
        "        if(type(element) is tuple):\n",
        "            result.extend(flatten_tuple(element))\n",
        "        else:\n",
        "            result.append(element)\n",
        "    \n",
        "    return tuple(result)\n",
        "\n",
        "# Create a nested tuple\n",
        "tuple_wth_nested_tuple = ((1,2),3, (4,5,6), (7,8,(9, 10)))\n",
        "\n",
        "# Flattening the tuple\n",
        "flat_tuple = flatten_tuple(tuple_wth_nested_tuple)\n",
        "\n",
        "# Print result\n",
        "print(flat_tuple)"
      ]
    },
    {
      "cell_type": "markdown",
      "metadata": {},
      "source": [
        "### 32. Create a tuple of the first 5 prime numbers."
      ]
    },
    {
      "cell_type": "code",
      "execution_count": 10,
      "metadata": {},
      "outputs": [
        {
          "name": "stdout",
          "output_type": "stream",
          "text": [
            "(2, 3, 5, 7, 11)\n"
          ]
        }
      ],
      "source": [
        "import math\n",
        "# Function to check if number is prime or not\n",
        "# will try to divide a number from 2 to (n/2)+1 - (to optimize the function) - if number is divisible by any number the False\n",
        "def is_prime(n:int) -> bool:\n",
        "    if(n <= 1):\n",
        "        return False\n",
        "    range_num = math.floor(n/2) + 1\n",
        "    for i in range(2 , range_num):\n",
        "        if(n%i == 0):\n",
        "            return False\n",
        "    return True\n",
        "\n",
        "# Create a list of prime numbers till 20 (5 elements are till 11 then slice it till 5th element\n",
        "prime_numbers_list = [num for num in range(1, 20) if is_prime(num)][:5]\n",
        "\n",
        "# Covert prime numbers list to tuple\n",
        "prime_numbers = tuple(prime_numbers_list)\n",
        "\n",
        "# Print result\n",
        "print(prime_numbers)"
      ]
    },
    {
      "cell_type": "markdown",
      "metadata": {},
      "source": [
        "### 33. Check if a tuple is a palindrome."
      ]
    },
    {
      "cell_type": "code",
      "execution_count": 12,
      "metadata": {},
      "outputs": [
        {
          "name": "stdout",
          "output_type": "stream",
          "text": [
            "Tuple 1 is a palindrome: True\n",
            "Tuple 2 is a palindrome: False\n"
          ]
        }
      ],
      "source": [
        "# Approach - We will reverse the tuple and compare to check if equal or not\n",
        "\n",
        "# Function - Takes a tuple input and return True is palindrome\n",
        "def is_palindrome_tuple(tuple_input: tuple) -> bool:\n",
        "    return tuple_input == tuple_input[::-1]\n",
        "\n",
        "# Create tuples\n",
        "tuple_1 = (9, 77, 5, 77, 9)\n",
        "tuple_2 = (9, 77, 3, 70, 5)\n",
        "\n",
        "# Check if the tuples are palindrome\n",
        "palindrome_tuple_1 = is_palindrome_tuple(tuple_1)\n",
        "palindrome_tuple_2 = is_palindrome_tuple(tuple_2)\n",
        "\n",
        "# Print Result\n",
        "print(f'Tuple 1 is a palindrome: {palindrome_tuple_1}')\n",
        "print(f'Tuple 2 is a palindrome: {palindrome_tuple_2}')"
      ]
    },
    {
      "cell_type": "markdown",
      "metadata": {},
      "source": [
        "### 34. Create a tuple of squares of numbers from 1 to 5."
      ]
    },
    {
      "cell_type": "code",
      "execution_count": 13,
      "metadata": {},
      "outputs": [
        {
          "name": "stdout",
          "output_type": "stream",
          "text": [
            "Square of numbers till 5: (1, 4, 9, 16, 25)\n"
          ]
        }
      ],
      "source": [
        "# Approach - using comprehension from 1 to 5 and squaring each index\n",
        "\n",
        "# Create a tuple\n",
        "square_of_numbers_till_5 = tuple(num**2 for num in range(1,6))\n",
        "\n",
        "# Print tuple\n",
        "print(f'Square of numbers till 5: {square_of_numbers_till_5}')"
      ]
    },
    {
      "cell_type": "markdown",
      "metadata": {},
      "source": [
        "### 35. Filter out all even numbers from a tuple."
      ]
    },
    {
      "cell_type": "code",
      "execution_count": 15,
      "metadata": {},
      "outputs": [
        {
          "name": "stdout",
          "output_type": "stream",
          "text": [
            "Even numbers tuple: (20, 40, 46, 8, 10, 100)\n"
          ]
        }
      ],
      "source": [
        "# Create a tuple\n",
        "tuple_inpt = (1, 20, 33, 40, 45, 46, 47, 7, 3, 8, 9, 10, 100, 121)\n",
        "\n",
        "# Filter out even numbers\n",
        "even_numbers_tuple = tuple(num for num in tuple_inpt if num % 2 == 0)\n",
        "\n",
        "# Print result\n",
        "print(\"Even numbers tuple:\", even_numbers_tuple)"
      ]
    },
    {
      "cell_type": "markdown",
      "metadata": {},
      "source": [
        "### 36. Multiply all elements in a tuple by 2."
      ]
    },
    {
      "cell_type": "code",
      "execution_count": 16,
      "metadata": {},
      "outputs": [
        {
          "name": "stdout",
          "output_type": "stream",
          "text": [
            "(2, 40, 66, 80, 90, 92, 94, 14, 6, 16, 18, 20, 200, 242)\n"
          ]
        }
      ],
      "source": [
        "# Create a tuple\n",
        "tuple_inpt = (1, 20, 33, 40, 45, 46, 47, 7, 3, 8, 9, 10, 100, 121)\n",
        "\n",
        "# Multiply each element of tuple with 2\n",
        "mutiplied_elements_in_tuple = tuple(num*2 for num in tuple_inpt)\n",
        "\n",
        "# Print result\n",
        "print(mutiplied_elements_in_tuple)"
      ]
    },
    {
      "cell_type": "markdown",
      "metadata": {},
      "source": [
        "### 37. Create a tuple of random numbers."
      ]
    },
    {
      "cell_type": "code",
      "execution_count": 17,
      "metadata": {},
      "outputs": [
        {
          "name": "stdout",
          "output_type": "stream",
          "text": [
            "Tuple with random numbers:  (90, 194, 191, 167, 83, 195, 182, 144, 108, 168, 2, 101, 61, 127, 154, 36, 79, 62, 81, 68)\n"
          ]
        }
      ],
      "source": [
        "# Approach - We will use random module of python\n",
        "import random\n",
        "\n",
        "# Take input from user on number of random elements in tuple\n",
        "elements_count = int(input('Enter number of elements you want in random number tuple: '))\n",
        "\n",
        "# Generate tuple - to keep the range of random number generation We are using count of element * 2 (if 10 random numbers then from 1 to 100)\n",
        "# We can also use hard coded range like 1 to 1000 or any range\n",
        "random_num_tuple = tuple(random.randint(1, elements_count * 10) for el in range(0, elements_count))\n",
        "\n",
        "# Print random number tuple\n",
        "print('Tuple with random numbers: ', random_num_tuple)"
      ]
    },
    {
      "cell_type": "markdown",
      "metadata": {},
      "source": [
        "### 38. Check if a tuple is sorted."
      ]
    },
    {
      "cell_type": "code",
      "execution_count": 20,
      "metadata": {},
      "outputs": [
        {
          "name": "stdout",
          "output_type": "stream",
          "text": [
            "Tuple 1 sorted : True\n",
            "Tuple 2 sorted : False\n"
          ]
        }
      ],
      "source": [
        "# Approach - (1,2,3) == (1,2,3) is False and (1,2,3) == (3,1,2) is False, so we try to sort a tuple and then compare tuples\n",
        "\n",
        "def is_sorted_tuple(tuple_to_check: tuple) -> bool:\n",
        "    sorted_tuple = tuple(sorted(tuple_to_check))\n",
        "    return sorted_tuple == tuple_to_check\n",
        "\n",
        "# Create tuples\n",
        "tuple_1 = (1,4,5,7,88,99,100)\n",
        "tuple_2 = (1, 2,6,3,99,66,5)\n",
        "\n",
        "# Check if tuple is sorted or not \n",
        "is_tuple_1_sorted = is_sorted_tuple(tuple_1)\n",
        "is_tuple_2_sorted = is_sorted_tuple(tuple_2)\n",
        "\n",
        "# Print Results\n",
        "print(f'Tuple 1 sorted : {is_tuple_1_sorted}')\n",
        "print(f'Tuple 2 sorted : {is_tuple_2_sorted}')"
      ]
    },
    {
      "cell_type": "markdown",
      "metadata": {},
      "source": [
        "### 39. Rotate a tuple to the left by `n` positions."
      ]
    },
    {
      "cell_type": "code",
      "execution_count": 24,
      "metadata": {},
      "outputs": [
        {
          "name": "stdout",
          "output_type": "stream",
          "text": [
            "(5, 6, 7, 8, 9, 1, 2, 3, 4)\n"
          ]
        }
      ],
      "source": [
        "# Approach - will use slicing to achieve left shift by n positions\n",
        "# By moving left we will have items n+1.. till end then 0 to n\n",
        "\n",
        "def shift_tuple_left(n:int, tuple_to_shift: tuple) -> tuple:\n",
        "    # Check the number entered is more than length then take the remainder by diving with length (so that no error in slicing)\n",
        "    # and tuple is moved with given steps\n",
        "    normalized_number = n % len(tuple_to_shift)\n",
        "    left_shifted_tuple = tuple_to_shift[normalized_number:] + tuple_to_shift[:normalized_number]\n",
        "    return left_shifted_tuple\n",
        "\n",
        "# Create a tuple\n",
        "tuple_to_shift = (1,2,3,4,5,6,7,8,9)\n",
        "\n",
        "# Get the number of positions to be shifted\n",
        "positions_to_shift = int(input(f'Enter number of positions to shift: '))\n",
        "\n",
        "# Shift the Tuple\n",
        "result_tuple = shift_tuple_left(positions_to_shift, tuple_to_shift)\n",
        "\n",
        "# Print result\n",
        "print(result_tuple)"
      ]
    },
    {
      "cell_type": "markdown",
      "metadata": {},
      "source": [
        "### 40. Rotate a tuple to the right by `n` positions."
      ]
    },
    {
      "cell_type": "code",
      "execution_count": 26,
      "metadata": {},
      "outputs": [
        {
          "name": "stdout",
          "output_type": "stream",
          "text": [
            "(7, 8, 9, 1, 2, 3, 4, 5, 6)\n"
          ]
        }
      ],
      "source": [
        "# Approach - will use slicing to achieve right shift by n positions\n",
        "# By moving right we will have items from length n (which is also -n) till end then 0 to -n\n",
        "\n",
        "def shift_tuple_right(n:int, tuple_to_shift: list) -> list:\n",
        "    # Check the number entered is more than length then take the remainder by diving with length (so that no error in slicing)\n",
        "    # and tuple is moved with given steps\n",
        "    normalized_number = (n % len(tuple_to_shift)*-1)\n",
        "    right_shifted_tuple = tuple_to_shift[(normalized_number):] + tuple_to_shift[:normalized_number]\n",
        "    return right_shifted_tuple\n",
        "\n",
        "# Create a tuple\n",
        "tuple_to_shift = (1,2,3,4,5,6,7,8,9)\n",
        "\n",
        "# Get the number of positions to be shifted\n",
        "positions_to_shift = int(input(f'Enter number of positions to shift: '))\n",
        "\n",
        "# Shift the tuple\n",
        "result_tuple = shift_tuple_right(positions_to_shift, tuple_to_shift)\n",
        "\n",
        "# Print result\n",
        "print(result_tuple)"
      ]
    },
    {
      "cell_type": "markdown",
      "metadata": {},
      "source": [
        "### 41. Create a tuple of the first 5 Fibonacci numbers."
      ]
    },
    {
      "cell_type": "code",
      "execution_count": 28,
      "metadata": {},
      "outputs": [
        {
          "name": "stdout",
          "output_type": "stream",
          "text": [
            "(0, 1, 1, 2, 3)\n"
          ]
        }
      ],
      "source": [
        "# Approach - Using recurssion\n",
        "# Fibonacci num formula = F(n) = F(n-2) + F(n-1) - clearly we can use reccurssion here\n",
        "\n",
        "def get_fibonacci_number(n:int)-> int:\n",
        "    # if n = 0 then F = 0, if n = 1 then F = 1\n",
        "    if n < 2:\n",
        "        return n\n",
        "    else:\n",
        "        return get_fibonacci_number(n-1) + get_fibonacci_number(n-2)\n",
        "\n",
        "# Count Fibonacci for 10 numbers (0 to 9)\n",
        "fibonacci_series_tuple = tuple(get_fibonacci_number(num) for num in range(0, 5))\n",
        "\n",
        "# Print fibonacci series\n",
        "print(fibonacci_series_tuple)"
      ]
    },
    {
      "cell_type": "markdown",
      "metadata": {},
      "source": [
        "### 42. Create a tuple from user input."
      ]
    },
    {
      "cell_type": "code",
      "execution_count": 29,
      "metadata": {},
      "outputs": [
        {
          "name": "stdout",
          "output_type": "stream",
          "text": [
            "('4', '5', 'f', 'h', 'u', '2')\n"
          ]
        }
      ],
      "source": [
        "# Approach - We can ask user to enter elements separated by delimiter (let us use comma , as that is also used to delimit elements)\n",
        "input_string = input('Enter elements of tuple separated by comma (,): ')\n",
        "\n",
        "# Now split the string and cast it to tuple\n",
        "tuple_created = tuple(input_string.split(','))\n",
        "\n",
        "# Print the tuple\n",
        "print(tuple_created)"
      ]
    },
    {
      "cell_type": "markdown",
      "metadata": {},
      "source": [
        "### 43. Swap two elements in a tuple."
      ]
    },
    {
      "cell_type": "code",
      "execution_count": 31,
      "metadata": {},
      "outputs": [
        {
          "name": "stdout",
          "output_type": "stream",
          "text": [
            "(1, 3, 7, 5, 6, 4, 10)\n"
          ]
        }
      ],
      "source": [
        "# Appraoch - Since tuple is immutable so we can not swap elements in existing tuple\n",
        "# So we will have to create a new tuple with elements swaped with given indices\n",
        "\n",
        "def swap_tuple_elements(tuple_inpt: tuple, index1: int, index2: int) -> tuple:\n",
        "    result = tuple(\n",
        "        tuple_inpt[index1] if i == index2 else\n",
        "        tuple_inpt[index2] if i == index1 else\n",
        "        tuple_inpt[i]\n",
        "        for i in range(0, len(tuple_inpt)))\n",
        "    \n",
        "    return result\n",
        "\n",
        "# Create a tuple\n",
        "org_tuple = (1, 3, 4, 5, 6, 7, 10)\n",
        "\n",
        "# Swap elements - index 2 with index 5 (i,e element 4 and 7)\n",
        "swapped_tuple = swap_tuple_elements(org_tuple, 2, 5)\n",
        "\n",
        "# Print tuple\n",
        "print(swapped_tuple) "
      ]
    },
    {
      "cell_type": "markdown",
      "metadata": {},
      "source": [
        "### 44. Reverse the elements of a tuple."
      ]
    },
    {
      "cell_type": "code",
      "execution_count": 32,
      "metadata": {},
      "outputs": [
        {
          "name": "stdout",
          "output_type": "stream",
          "text": [
            "Reversed tuple = (50, 19, 27, 4, 1)\n"
          ]
        }
      ],
      "source": [
        "# Create a tuple\n",
        "tuple_1 = (1, 4, 27, 19, 50)\n",
        "\n",
        "# Reverse the tuple\n",
        "reversed_tuple = tuple_1[::-1]\n",
        "\n",
        "# Print the result\n",
        "print(\"Reversed tuple =\", reversed_tuple)"
      ]
    },
    {
      "cell_type": "markdown",
      "metadata": {},
      "source": [
        "### 45. Create a tuple of the first `n` powers of 2."
      ]
    },
    {
      "cell_type": "code",
      "execution_count": 35,
      "metadata": {},
      "outputs": [
        {
          "name": "stdout",
          "output_type": "stream",
          "text": [
            "(1, 2, 4, 8, 16, 32, 64, 128, 256, 512, 1024)\n"
          ]
        }
      ],
      "source": [
        "# Function - takes number 'num' and return the tuple of n power of 2 - 2**n -- for each element where n is its index\n",
        "def create_tuple_of_n_power_2(num_of_elements: int) -> list:\n",
        "    return tuple(2**num for num in range(num_of_elements))\n",
        "\n",
        "# Take input from user\n",
        "num_of_elements = int(input('Enter number of elements in the tuple: '))\n",
        "\n",
        "# Compute tuple\n",
        "result = create_tuple_of_n_power_2(num_of_elements)\n",
        "\n",
        "# Print result\n",
        "print(result)"
      ]
    },
    {
      "cell_type": "markdown",
      "metadata": {},
      "source": [
        "### 46. Find the longest string in a tuple of strings."
      ]
    },
    {
      "cell_type": "code",
      "execution_count": 38,
      "metadata": {},
      "outputs": [
        {
          "name": "stdout",
          "output_type": "stream",
          "text": [
            "This is a longest string in this tuple for sure.\n"
          ]
        }
      ],
      "source": [
        "# Approach -  Using max funtion\n",
        "\n",
        "# Create tuple of strings\n",
        "tuple_of_strings = ('Hi smallest i am', 'Hello this is a string', 'This is a longest string in this tuple for sure.', 'Good morning, how r u?')\n",
        "\n",
        "# Get longest string\n",
        "longest_string = max(tuple_of_strings, key=len)\n",
        "\n",
        "# Print result\n",
        "print(longest_string)"
      ]
    },
    {
      "cell_type": "markdown",
      "metadata": {},
      "source": [
        "### 47. Find the shortest string in a tuple of strings."
      ]
    },
    {
      "cell_type": "code",
      "execution_count": 39,
      "metadata": {},
      "outputs": [
        {
          "name": "stdout",
          "output_type": "stream",
          "text": [
            "Hi smallest i am\n"
          ]
        }
      ],
      "source": [
        "# Approach -  Using min funtion\n",
        "\n",
        "# Create tuple of strings\n",
        "tuple_of_strings = ('Hi smallest i am', 'Hello this is a string', 'This is a longest string in this tuple for sure.', 'Good morning, how r u?')\n",
        "\n",
        "# Get shortest string\n",
        "shortest_string = min(tuple_of_strings, key=len)\n",
        "\n",
        "# Print result\n",
        "print(shortest_string)"
      ]
    },
    {
      "cell_type": "markdown",
      "metadata": {},
      "source": [
        "### 48. Create a tuple of the first `n` triangular numbers."
      ]
    },
    {
      "cell_type": "code",
      "execution_count": 43,
      "metadata": {},
      "outputs": [
        {
          "name": "stdout",
          "output_type": "stream",
          "text": [
            "(1, 3, 6, 10, 15, 21, 28, 36, 45, 55, 66, 78, 91, 105, 120)\n"
          ]
        }
      ],
      "source": [
        "# Approach - formula for n level = (n +1)* n/2\n",
        "\n",
        "def get_triangular_number(level: int) -> int:\n",
        "    return (level * (level + 1))//2\n",
        "\n",
        "# Take a input of number\n",
        "n = int(input('Enter the number of elements: '))\n",
        "\n",
        "# Create tuple of triangular numbers\n",
        "triangular_numbers = tuple(get_triangular_number(num) for num in range(1, n +1))\n",
        "\n",
        "# Print result\n",
        "print(triangular_numbers)"
      ]
    },
    {
      "cell_type": "markdown",
      "metadata": {},
      "source": [
        "### 49. Check if a tuple contains another tuple as a subsequence."
      ]
    },
    {
      "cell_type": "code",
      "execution_count": 45,
      "metadata": {},
      "outputs": [
        {
          "name": "stdout",
          "output_type": "stream",
          "text": [
            "Tuple 2 is subsequence of Tuple 1: True\n",
            "Tuple 3 is subsequence of Tuple 1: False\n"
          ]
        }
      ],
      "source": [
        "# Approach - We will iterate from 0 to x where x = length of master tuple - length of subsequence\n",
        "# Explanation - Actually we will check if for all the items in subsequence tuple exists in master tuple in same order\n",
        "# if slice from current position till length of subsequence matchs then True\n",
        "\n",
        "\n",
        "# Function definition - It takes master tuple and a subsequence tuple and return True if subsequence tuple is contained in master tuple else False\n",
        "def is_tuple_subsequence(master_tuple: tuple, tuple_candidate_of_subsequence: tuple) -> bool:\n",
        "    master_length = len(master_tuple)\n",
        "    subsequence_length = len(tuple_candidate_of_subsequence)\n",
        "\n",
        "    # Shorter master tuple can not contain sequence tuple of greater length\n",
        "    if(master_length < subsequence_length):\n",
        "        return False\n",
        "\n",
        "    for i in range(master_length - subsequence_length + 1):\n",
        "        if master_tuple[i:i+subsequence_length] == tuple_candidate_of_subsequence:\n",
        "            return True\n",
        "    return False\n",
        "\n",
        "# Create Tuples\n",
        "tuple_1 = (1,2,3,4,5,6,7,8,9,10,11,12,14)\n",
        "tuple_2 = (3,4,5,6,7)\n",
        "tuple_3 = (3,6,12,14, 15)\n",
        "\n",
        "# Check if tuple_2 is subsequence of tuple_1\n",
        "is_list2_subsequence = is_tuple_subsequence(tuple_1, tuple_2)\n",
        "# Check if tuple_3 is subsequence of tuple_1\n",
        "is_list3_subsequence = is_tuple_subsequence(tuple_1, tuple_3)\n",
        "\n",
        "# Print result\n",
        "print(f'Tuple 2 is subsequence of Tuple 1: {is_list2_subsequence}')\n",
        "print(f'Tuple 3 is subsequence of Tuple 1: {is_list3_subsequence}')"
      ]
    },
    {
      "cell_type": "markdown",
      "metadata": {},
      "source": [
        "### 50. Create a tuple of alternating 1s and 0s of length `n`."
      ]
    },
    {
      "cell_type": "code",
      "execution_count": 46,
      "metadata": {},
      "outputs": [
        {
          "name": "stdout",
          "output_type": "stream",
          "text": [
            "(0, 1, 0, 1, 0, 1, 0, 1, 0, 1)\n"
          ]
        }
      ],
      "source": [
        "# Approach - We will use remainder when divided by 2 for each index like this we will have alternatine 0 and 1\n",
        "\n",
        "# Get input from user for n (number of elements)\n",
        "n = int(input('Enter number of elements for tuple: '))\n",
        "\n",
        "# Create tuple\n",
        "alternating_tuple = tuple(num % 2 for num in range(0, n))\n",
        "\n",
        "# Print result\n",
        "print(alternating_tuple)"
      ]
    },
    {
      "cell_type": "markdown",
      "metadata": {},
      "source": [
        "# Set Based Practice Problem :"
      ]
    },
    {
      "cell_type": "markdown",
      "metadata": {},
      "source": [
        "### 1. Create a set with integers from 1 to 5."
      ]
    },
    {
      "cell_type": "code",
      "execution_count": 47,
      "metadata": {},
      "outputs": [
        {
          "name": "stdout",
          "output_type": "stream",
          "text": [
            "{1, 2, 3, 4, 5}\n"
          ]
        }
      ],
      "source": [
        "# Create a set with integers from 1 to 5\n",
        "set_of_ints = { 1, 2, 3, 4, 5}\n",
        "\n",
        "# print set\n",
        "print(set_of_ints)"
      ]
    },
    {
      "cell_type": "markdown",
      "metadata": {},
      "source": [
        "### 2. Add an element to a set."
      ]
    },
    {
      "cell_type": "code",
      "execution_count": 48,
      "metadata": {},
      "outputs": [
        {
          "name": "stdout",
          "output_type": "stream",
          "text": [
            "Set before add:  {1, 2, 3, 4, 5}\n",
            "Set after add:  {1, 2, 3, 4, 5, 51}\n"
          ]
        }
      ],
      "source": [
        "# Create a set (in case we need empty set then use set() )\n",
        "set_of_ints = { 1, 2, 3, 4, 5}\n",
        "\n",
        "# Print set\n",
        "print('Set before add: ', set_of_ints)\n",
        "\n",
        "# Add an element, let us add element 51\n",
        "set_of_ints.add(51)\n",
        "\n",
        "# Print set\n",
        "print('Set after add: ', set_of_ints)"
      ]
    },
    {
      "cell_type": "markdown",
      "metadata": {},
      "source": [
        "### 3. Remove an element from a set."
      ]
    },
    {
      "cell_type": "code",
      "execution_count": 49,
      "metadata": {},
      "outputs": [
        {
          "name": "stdout",
          "output_type": "stream",
          "text": [
            "Set before remove:  {1, 2, 3, 4, 5}\n",
            "Set after remove:  {1, 2, 4, 5}\n"
          ]
        }
      ],
      "source": [
        "# Create a set\n",
        "set_of_ints = { 1, 2, 3, 4, 5}\n",
        "\n",
        "# Print set\n",
        "print('Set before remove: ', set_of_ints)\n",
        "\n",
        "# Remove an element, let us remove element 3\n",
        "set_of_ints.remove(3)\n",
        "\n",
        "# Print set\n",
        "print('Set after remove: ', set_of_ints)"
      ]
    },
    {
      "cell_type": "markdown",
      "metadata": {},
      "source": [
        "### 4. Check if an element exists in a set."
      ]
    },
    {
      "cell_type": "code",
      "execution_count": 51,
      "metadata": {},
      "outputs": [
        {
          "name": "stdout",
          "output_type": "stream",
          "text": [
            "Elements exists in set\n"
          ]
        }
      ],
      "source": [
        "# Create a set\n",
        "set_1 = {10, 23, 15, 66, 67, 80, 345}\n",
        "\n",
        "# Element to find\n",
        "element_to_find = 15\n",
        "\n",
        "# Check if elements exists or not\n",
        "if element_to_find in set_1:\n",
        "  print(f'Elements exists in set')\n",
        "else:\n",
        "  print('Elements does not exist in set.')"
      ]
    },
    {
      "cell_type": "markdown",
      "metadata": {},
      "source": [
        "### 5. Find the length of a set without using the `len()` function.\n"
      ]
    },
    {
      "cell_type": "code",
      "execution_count": 2,
      "metadata": {},
      "outputs": [
        {
          "name": "stdout",
          "output_type": "stream",
          "text": [
            "Length of set is: 10\n"
          ]
        }
      ],
      "source": [
        "# Approach iterate on set items and increment counter variable\n",
        "\n",
        "# Function with code of finding length\n",
        "def length(set_inpt) -> int:\n",
        "  count = 0\n",
        "  for el in set_inpt:\n",
        "    count += 1\n",
        "  return count\n",
        "\n",
        "# Create a tuple\n",
        "set_1 = {1, 2, 3, 4, 5, 6, 7, 8, 9, 10}\n",
        "\n",
        "# Get length using our function\n",
        "length_of_set = length(set_1)\n",
        "\n",
        "# Print output\n",
        "print(f'Length of set is: {length_of_set}')"
      ]
    },
    {
      "cell_type": "markdown",
      "metadata": {},
      "source": [
        "### 6. Clear all elements from a set."
      ]
    },
    {
      "cell_type": "code",
      "execution_count": 3,
      "metadata": {},
      "outputs": [
        {
          "name": "stdout",
          "output_type": "stream",
          "text": [
            "Set before clear:  {1, 99, 67, 100, 23, 89, 45}\n",
            "Set after clear:  set()\n"
          ]
        }
      ],
      "source": [
        "# Create a set\n",
        "set_1 = {1, 23, 45, 67, 89, 99, 100}\n",
        "\n",
        "# Print a set before clear\n",
        "print('Set before clear: ', set_1)\n",
        "\n",
        "# Clear all elements\n",
        "set_1.clear()\n",
        "\n",
        "# Print a set before clear\n",
        "print('Set after clear: ', set_1)"
      ]
    },
    {
      "cell_type": "markdown",
      "metadata": {},
      "source": [
        "### 7. Create a set of even numbers from 1 to 10."
      ]
    },
    {
      "cell_type": "code",
      "execution_count": 4,
      "metadata": {},
      "outputs": [
        {
          "name": "stdout",
          "output_type": "stream",
          "text": [
            "{2, 4, 6, 8, 10}\n"
          ]
        }
      ],
      "source": [
        "# Function - takes a range and return set of even numbers between range\n",
        "def create_set_of_even_numbers(range_of_set: range) -> set:\n",
        "    result_set = set()\n",
        "    for num in range_of_set:\n",
        "        if num % 2 == 0:\n",
        "            result_set.add(num)\n",
        "    \n",
        "    return result_set\n",
        "\n",
        "# Create a set from 1 to 10 (range 1 - 11)\n",
        "set_of_evens = create_set_of_even_numbers(range(1,11))\n",
        "\n",
        "# print result\n",
        "print(set_of_evens)"
      ]
    },
    {
      "cell_type": "markdown",
      "metadata": {},
      "source": [
        "### 8. Create a set of odd numbers from 1 to 10.\n"
      ]
    },
    {
      "cell_type": "code",
      "execution_count": 5,
      "metadata": {},
      "outputs": [
        {
          "name": "stdout",
          "output_type": "stream",
          "text": [
            "{1, 3, 5, 7, 9}\n"
          ]
        }
      ],
      "source": [
        "# Function - takes a range and return set of odd numbers between range\n",
        "def create_set_of_odd_numbers(range_of_set: range) -> set:\n",
        "    result_set = set()\n",
        "    for num in range_of_set:\n",
        "        if num % 2 != 0:\n",
        "            result_set.add(num)\n",
        "    \n",
        "    return result_set\n",
        "\n",
        "# Create a set from 1 to 10 (range 1 - 11)\n",
        "set_of_odds = create_set_of_odd_numbers(range(1,11))\n",
        "\n",
        "# print result\n",
        "print(set_of_odds)"
      ]
    },
    {
      "cell_type": "markdown",
      "metadata": {},
      "source": [
        "### 9. Find the union of two sets."
      ]
    },
    {
      "cell_type": "code",
      "execution_count": 7,
      "metadata": {},
      "outputs": [
        {
          "name": "stdout",
          "output_type": "stream",
          "text": [
            "{1, 2, 3, 4, 5, 6, 7, 8, 9, 12}\n"
          ]
        }
      ],
      "source": [
        "# Approach - use in build function union\n",
        "\n",
        "# Create sets\n",
        "set_1 = {1, 2, 3, 4, 5, 6, 7, 8}\n",
        "set_2 = {3, 6, 9, 12}\n",
        "\n",
        "# Get union of set_1 and set_2\n",
        "union_of_sets = set_1.union(set_2)\n",
        "\n",
        "# Print result\n",
        "print(union_of_sets)"
      ]
    },
    {
      "cell_type": "markdown",
      "metadata": {},
      "source": [
        "### 10. Find the intersection of two sets."
      ]
    },
    {
      "cell_type": "code",
      "execution_count": 8,
      "metadata": {},
      "outputs": [
        {
          "name": "stdout",
          "output_type": "stream",
          "text": [
            "{3, 6}\n"
          ]
        }
      ],
      "source": [
        "# Approach - use in build function intersection\n",
        "\n",
        "# Create sets\n",
        "set_1 = {1, 2, 3, 4, 5, 6, 7, 8}\n",
        "set_2 = {3, 6, 9, 12}\n",
        "\n",
        "# Get intersection of set_1 and set_2\n",
        "intersection_of_sets = set_1.intersection(set_2)\n",
        "\n",
        "# Print result\n",
        "print(intersection_of_sets)"
      ]
    },
    {
      "cell_type": "markdown",
      "metadata": {},
      "source": [
        "### 11. Find the difference between two sets."
      ]
    },
    {
      "cell_type": "code",
      "execution_count": 9,
      "metadata": {},
      "outputs": [
        {
          "name": "stdout",
          "output_type": "stream",
          "text": [
            "{1, 2, 4, 5, 7, 8}\n"
          ]
        }
      ],
      "source": [
        "# Approach - use in build function difference\n",
        "\n",
        "# Create sets\n",
        "set_1 = {1, 2, 3, 4, 5, 6, 7, 8}\n",
        "set_2 = {3, 6, 9, 12}\n",
        "\n",
        "# Get difference of set_1 and set_2\n",
        "difference_of_sets = set_1.difference(set_2)\n",
        "\n",
        "# Print result\n",
        "print(difference_of_sets)"
      ]
    },
    {
      "cell_type": "markdown",
      "metadata": {},
      "source": [
        "### 12. Check if a set is a subset of another set."
      ]
    },
    {
      "cell_type": "code",
      "execution_count": 11,
      "metadata": {},
      "outputs": [
        {
          "name": "stdout",
          "output_type": "stream",
          "text": [
            "Set 1 is subset of set 2\n"
          ]
        }
      ],
      "source": [
        "# Approach - use in build function issubset\n",
        "\n",
        "# Create sets\n",
        "set_1 = {1, 2, 3, 4, 5, 6, 7, 8}\n",
        "set_2 = {1, 2, 3, 4, 5, 6, 7, 8, 9, 10, 11, 12, 20}\n",
        "\n",
        "# Get issubset of set_1 and set_2\n",
        "is_subset_of_set_2 = set_1.issubset(set_2)\n",
        "\n",
        "# Print result\n",
        "if is_subset_of_set_2:\n",
        "    print('Set 1 is subset of set 2')\n",
        "else:\n",
        "    print('Set 1 is not a subset of set 2')"
      ]
    },
    {
      "cell_type": "markdown",
      "metadata": {},
      "source": [
        "### 13. Check if a set is a superset of another set."
      ]
    },
    {
      "cell_type": "code",
      "execution_count": 12,
      "metadata": {},
      "outputs": [
        {
          "name": "stdout",
          "output_type": "stream",
          "text": [
            "Set 1 is superset of set 2\n"
          ]
        }
      ],
      "source": [
        "# Approach - use in build function issuperset\n",
        "\n",
        "# Create sets\n",
        "set_1 = {1, 2, 3, 4, 5, 6, 7, 8}\n",
        "set_2 = {2, 3}\n",
        "\n",
        "# Get issuperset of set_1 and set_2\n",
        "is_superset_of_set_2 = set_1.issuperset(set_2)\n",
        "\n",
        "# Print result\n",
        "if is_superset_of_set_2:\n",
        "    print('Set 1 is superset of set 2')\n",
        "else:\n",
        "    print('Set 1 is not a superset of set 2')"
      ]
    },
    {
      "cell_type": "markdown",
      "metadata": {},
      "source": [
        "### 14. Create a set from a list."
      ]
    },
    {
      "cell_type": "code",
      "execution_count": 13,
      "metadata": {},
      "outputs": [
        {
          "name": "stdout",
          "output_type": "stream",
          "text": [
            "{1, 2, 3, 4, 5, 6, 7, 8, 9}\n"
          ]
        }
      ],
      "source": [
        "# Create a list from which we wil create a set\n",
        "list_1 = [1, 2, 3, 4, 5, 6, 4, 7, 5, 8, 9]\n",
        "\n",
        "# Create a set from list\n",
        "set_from_list = set(list_1)\n",
        "\n",
        "# Print set\n",
        "print(set_from_list)"
      ]
    },
    {
      "cell_type": "markdown",
      "metadata": {},
      "source": [
        "### 15. Convert a set to a list."
      ]
    },
    {
      "cell_type": "code",
      "execution_count": 15,
      "metadata": {},
      "outputs": [
        {
          "name": "stdout",
          "output_type": "stream",
          "text": [
            "[1, 2, 3, 4, 5, 6, 7, 8, 9]\n"
          ]
        }
      ],
      "source": [
        "# Create a set from which we wil create a list\n",
        "set_1 = {1, 2, 3, 4, 5, 6, 4, 7, 5, 8, 9}\n",
        "\n",
        "# Create a list frm set\n",
        "list_from_set  = list(set_1)\n",
        "\n",
        "# Print list\n",
        "print(list_from_set)"
      ]
    },
    {
      "cell_type": "markdown",
      "metadata": {},
      "source": [
        "### 16. Remove a random element from a set."
      ]
    },
    {
      "cell_type": "code",
      "execution_count": 17,
      "metadata": {},
      "outputs": [
        {
          "name": "stdout",
          "output_type": "stream",
          "text": [
            "Set after removal of 25 is {1, 99, 13, 46, 14, 51, 21, 87, 24, 26}\n"
          ]
        }
      ],
      "source": [
        "# Aproach - will try to choose from elements in the set by using random.choice\n",
        " \n",
        "# import module\n",
        "import random\n",
        "\n",
        "# create a set\n",
        "set_1 = {1, 21, 13, 14, 25, 24, 26, 46, 87, 99, 51}\n",
        "\n",
        "# Get random element to be removed\n",
        "# Direct set is not supported because set does not support get element directly\n",
        "element_to_remove = random.choice(list(set_1))\n",
        "\n",
        "# Remove element from set\n",
        "set_1.remove(element_to_remove)\n",
        "\n",
        "# Print result set\n",
        "print(f'Set after removal of {element_to_remove} is {set_1}')"
      ]
    },
    {
      "cell_type": "markdown",
      "metadata": {},
      "source": [
        "### 17. Pop an element from a set."
      ]
    },
    {
      "cell_type": "code",
      "execution_count": 18,
      "metadata": {},
      "outputs": [
        {
          "name": "stdout",
          "output_type": "stream",
          "text": [
            "Popped element 1 now set is {99, 13, 46, 14, 51, 21, 87, 24, 25, 26}\n"
          ]
        }
      ],
      "source": [
        "# create a set\n",
        "set_1 = {1, 21, 13, 14, 25, 24, 26, 46, 87, 99, 51}\n",
        "\n",
        "# Pop the element\n",
        "element_popped_from_set = set_1.pop()\n",
        "\n",
        "# Print\n",
        "print(f'Popped element {element_popped_from_set} now set is {set_1}')"
      ]
    },
    {
      "cell_type": "markdown",
      "metadata": {},
      "source": [
        "### 18. Check if two sets have no elements in common."
      ]
    },
    {
      "cell_type": "code",
      "execution_count": 19,
      "metadata": {},
      "outputs": [
        {
          "name": "stdout",
          "output_type": "stream",
          "text": [
            "Sets have common elements that are : {3, 6}\n"
          ]
        }
      ],
      "source": [
        "# Approach - use in build function intersection\n",
        "\n",
        "# Create sets\n",
        "set_1 = {1, 2, 3, 4, 5, 6, 7, 8}\n",
        "set_2 = {3, 6, 9, 12}\n",
        "\n",
        "# Get intersection of set_1 and set_2\n",
        "intersection_of_sets = set_1.intersection(set_2)\n",
        "\n",
        "# Check if intersection is empty or not\n",
        "if not intersection_of_sets:\n",
        "    print('Sets do not have common elements.')\n",
        "else:\n",
        "    print('Sets have common elements that are :', intersection_of_sets)"
      ]
    },
    {
      "cell_type": "markdown",
      "metadata": {},
      "source": [
        "### 19. Find the symmetric difference between two sets."
      ]
    },
    {
      "cell_type": "code",
      "execution_count": null,
      "metadata": {},
      "outputs": [],
      "source": []
    },
    {
      "cell_type": "markdown",
      "metadata": {},
      "source": [
        "### 20. Update a set with elements from another set."
      ]
    },
    {
      "cell_type": "markdown",
      "metadata": {},
      "source": [
        "### 21. Create a set of the first 5 prime numbers."
      ]
    },
    {
      "cell_type": "markdown",
      "metadata": {},
      "source": [
        "### 22. Check if two sets are identical."
      ]
    },
    {
      "cell_type": "markdown",
      "metadata": {},
      "source": [
        "### 23. Create a frozen set."
      ]
    },
    {
      "cell_type": "markdown",
      "metadata": {},
      "source": [
        "### 24. Check if a set is disjoint with another set."
      ]
    },
    {
      "cell_type": "markdown",
      "metadata": {},
      "source": [
        "### 25. Create a set of squares of numbers from 1 to 5."
      ]
    },
    {
      "cell_type": "markdown",
      "metadata": {},
      "source": [
        "### 26. Filter out all even numbers from a set."
      ]
    },
    {
      "cell_type": "markdown",
      "metadata": {},
      "source": [
        "### 27. Multiply all elements in a set by 2."
      ]
    },
    {
      "cell_type": "markdown",
      "metadata": {},
      "source": [
        "### 28. Create a set of random numbers."
      ]
    },
    {
      "cell_type": "markdown",
      "metadata": {},
      "source": [
        "### 29. Check if a set is empty."
      ]
    },
    {
      "cell_type": "markdown",
      "metadata": {},
      "source": [
        "### 30. Create a nested set (hint: use frozenset)."
      ]
    },
    {
      "cell_type": "markdown",
      "metadata": {},
      "source": [
        "### 31. Remove an element from a set using the discard method."
      ]
    },
    {
      "cell_type": "markdown",
      "metadata": {},
      "source": [
        "### 32. Compare two sets."
      ]
    },
    {
      "cell_type": "markdown",
      "metadata": {},
      "source": [
        "### 33. Create a set from a string."
      ]
    },
    {
      "cell_type": "markdown",
      "metadata": {},
      "source": [
        "### 34. Convert a set of strings to a set of integers."
      ]
    },
    {
      "cell_type": "markdown",
      "metadata": {},
      "source": [
        "### 35. Convert a set of integers to a set of strings."
      ]
    },
    {
      "cell_type": "markdown",
      "metadata": {},
      "source": [
        "### 36. Create a set from a tuple."
      ]
    },
    {
      "cell_type": "markdown",
      "metadata": {},
      "source": [
        "### 37. Convert a set to a tuple."
      ]
    },
    {
      "cell_type": "markdown",
      "metadata": {},
      "source": [
        "### 38. Find the maximum value in a set."
      ]
    },
    {
      "cell_type": "markdown",
      "metadata": {},
      "source": [
        "### 39. Find the minimum value in a set."
      ]
    },
    {
      "cell_type": "markdown",
      "metadata": {},
      "source": [
        "### 40. Create a set from user input."
      ]
    },
    {
      "cell_type": "markdown",
      "metadata": {},
      "source": [
        "### 41. Check if the intersection of two sets is empty."
      ]
    },
    {
      "cell_type": "markdown",
      "metadata": {},
      "source": [
        "### 42. Create a set of the first 5 Fibonacci numbers.\n"
      ]
    },
    {
      "cell_type": "markdown",
      "metadata": {},
      "source": [
        "### 43. Remove duplicates from a list using sets."
      ]
    },
    {
      "cell_type": "markdown",
      "metadata": {},
      "source": [
        "### 44. Check if two sets have the same elements, regardless of their count."
      ]
    },
    {
      "cell_type": "markdown",
      "metadata": {},
      "source": [
        "### 45. Create a set of the first `n` powers of 2."
      ]
    },
    {
      "cell_type": "markdown",
      "metadata": {},
      "source": [
        "### 46. Find the common elements between a set and a list."
      ]
    },
    {
      "cell_type": "markdown",
      "metadata": {},
      "source": [
        "### 47. Create a set of the first `n` triangular numbers."
      ]
    },
    {
      "cell_type": "markdown",
      "metadata": {},
      "source": [
        "### 48. Check if a set contains another set as a subset."
      ]
    },
    {
      "cell_type": "markdown",
      "metadata": {},
      "source": [
        "### 49. Create a set of alternating 1s and 0s of length `n`."
      ]
    },
    {
      "cell_type": "markdown",
      "metadata": {},
      "source": [
        "### 50. Merge multiple sets into one."
      ]
    }
  ],
  "metadata": {
    "colab": {
      "provenance": []
    },
    "kernelspec": {
      "display_name": "Python 3",
      "name": "python3"
    },
    "language_info": {
      "codemirror_mode": {
        "name": "ipython",
        "version": 3
      },
      "file_extension": ".py",
      "mimetype": "text/x-python",
      "name": "python",
      "nbconvert_exporter": "python",
      "pygments_lexer": "ipython3",
      "version": "3.11.4"
    }
  },
  "nbformat": 4,
  "nbformat_minor": 0
}
