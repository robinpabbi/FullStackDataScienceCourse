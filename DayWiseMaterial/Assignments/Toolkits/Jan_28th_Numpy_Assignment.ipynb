{
 "cells": [
  {
   "cell_type": "markdown",
   "metadata": {},
   "source": [
    "## NumPy Assignment"
   ]
  },
  {
   "cell_type": "markdown",
   "metadata": {},
   "source": [
    "### 1. What is a Python library? Why do we use Python libraries?"
   ]
  },
  {
   "cell_type": "markdown",
   "metadata": {},
   "source": [
    "*Ans.* \n",
    "A Python library is a reusable collection of code that offers pre-written functionalities to perform various tasks. We use Python libraries for code efficiency, reusability, and access to specialized tools across domains like data science, web development, and more. \n",
    "\n",
    "Here are key reasons why we use Python libraries:\n",
    "\n",
    "##### 1. Code Reusability\n",
    "##### 2. Community Collaboration\n",
    "##### 3. Standardization\n",
    "##### 4. Efficiency\n",
    "##### 5. Open Source"
   ]
  },
  {
   "cell_type": "markdown",
   "metadata": {},
   "source": [
    "### 2. What is the difference between Numpy array and List?"
   ]
  },
  {
   "cell_type": "markdown",
   "metadata": {},
   "source": [
    "| Category  | List | NumPy Array |\n",
    "|-----------|------|-------------|\n",
    "| Data Type | Lists can contain elements of different data types | NumPy arrays are homogeneous, meaning all elements must have the same data type. |\n",
    "| Memory Efficiency | Less Efficient | More memory efficient as they store elements in contiguous memory locations |\n",
    "| Performance | Lists are generally slower for numerical operations and mathematical computations. | NumPy arrays are optimized for numerical operations, making them faster and more efficient. |\n",
    "| Functionality | Lists provide general-purpose functionalities and are more flexible for basic tasks. | NumPy arrays offer a wide range of mathematical operations and functions specifically designed for numerical computations. |\n",
    "| Size Manipulation | Lists can easily change size (grow or shrink) dynamically. | NumPy arrays have a fixed size upon creation, and resizing requires creating a new array. |"
   ]
  },
  {
   "cell_type": "markdown",
   "metadata": {},
   "source": [
    "### 3. Find the shape, size and dimension of the following array?\n",
    "```\n",
    "[[1, 2, 3, 4],\n",
    "[5, 6, 7, 8],\n",
    "[9, 10, 11, 12]]\n",
    "```"
   ]
  },
  {
   "cell_type": "markdown",
   "metadata": {},
   "source": [
    "*Ans.*\n",
    "#### Size is 12\n",
    "#### Shape is (3,4)\n",
    "#### Dimension is 2\n",
    "\n",
    "below is code to find it."
   ]
  },
  {
   "cell_type": "code",
   "execution_count": 44,
   "metadata": {},
   "outputs": [
    {
     "name": "stdout",
     "output_type": "stream",
     "text": [
      "[[ 1  2  3  4]\n",
      " [ 5  6  7  8]\n",
      " [ 9 10 11 12]]\n",
      "\n",
      "Size is = 12\n",
      "Shape is = (3, 4)\n",
      "Dimension is = 2\n"
     ]
    }
   ],
   "source": [
    "import numpy as np\n",
    "\n",
    "arr = np.array([[1,2,3,4],[5,6,7,8], [9,10,11,12]])\n",
    "\n",
    "print(arr)\n",
    "print()\n",
    "print(f'Size is = {arr.size}')\n",
    "print(f'Shape is = {arr.shape}')\n",
    "print(f'Dimension is = {arr.ndim}')"
   ]
  },
  {
   "cell_type": "markdown",
   "metadata": {},
   "source": [
    "### 4. Write python code to access the first row of the following array?\n",
    "```\n",
    "[[1, 2, 3, 4],\n",
    "[5, 6, 7, 8],\n",
    "[9, 10, 11, 12]]\n",
    "```"
   ]
  },
  {
   "cell_type": "code",
   "execution_count": 6,
   "metadata": {},
   "outputs": [
    {
     "name": "stdout",
     "output_type": "stream",
     "text": [
      "[1 2 3 4]\n"
     ]
    }
   ],
   "source": [
    "import numpy as np\n",
    "\n",
    "arr = np.array([[1,2,3,4],[5,6,7,8], [9,10,11,12]])\n",
    "\n",
    "first_row = arr[0]\n",
    "\n",
    "print(first_row)"
   ]
  },
  {
   "cell_type": "markdown",
   "metadata": {},
   "source": [
    "### 5. How do you access the element at the third row and fourth column from the given numpy array?\n",
    "```\n",
    "[[1, 2, 3, 4],\n",
    "[5, 6, 7, 8],\n",
    "[9, 10, 11, 12]]\n",
    "```"
   ]
  },
  {
   "cell_type": "code",
   "execution_count": 7,
   "metadata": {},
   "outputs": [
    {
     "name": "stdout",
     "output_type": "stream",
     "text": [
      "Element at 3rd row and 4th column is 12\n"
     ]
    }
   ],
   "source": [
    "import numpy as np\n",
    "\n",
    "arr = np.array([[1,2,3,4],[5,6,7,8], [9,10,11,12]])\n",
    "\n",
    "element_at_3row_4col = arr[2][3]\n",
    "\n",
    "print(f'Element at 3rd row and 4th column is {element_at_3row_4col}')"
   ]
  },
  {
   "cell_type": "markdown",
   "metadata": {},
   "source": [
    "### 6. Write code to extract all odd-indexed elements from the given numpy array?\n",
    "```\n",
    "[[1, 2, 3, 4],\n",
    "[5, 6, 7, 8],\n",
    "[9, 10, 11, 12]]\n",
    "```"
   ]
  },
  {
   "cell_type": "code",
   "execution_count": 43,
   "metadata": {},
   "outputs": [
    {
     "name": "stdout",
     "output_type": "stream",
     "text": [
      "Odd column indexed elements \n",
      "[[ 2  4]\n",
      " [ 6  8]\n",
      " [10 12]]\n",
      "\n",
      "Odd rows indexed elements \n",
      "[[5 6 7 8]]\n",
      "\n",
      "Odd row and column indexed elements \n",
      "[[6 8]]\n"
     ]
    }
   ],
   "source": [
    "import numpy as np\n",
    "\n",
    "arr = np.array([[1,2,3,4],[5,6,7,8], [9,10,11,12]])\n",
    "\n",
    "## For odd-indexed column elements\n",
    "odd_col_indexed_element = arr[:, 1::2]\n",
    "\n",
    "print(f'Odd column indexed elements \\n{odd_col_indexed_element}')\n",
    "\n",
    "## For odd-indexed row elements\n",
    "odd_row_indexed_element = arr[1::2, :]\n",
    "\n",
    "print(f'\\nOdd rows indexed elements \\n{odd_row_indexed_element}')\n",
    "\n",
    "## For odd-indexed row elements\n",
    "odd_row_col_indexed_element = arr[1::2, 1::2]\n",
    "\n",
    "print(f'\\nOdd row and column indexed elements \\n{odd_row_col_indexed_element}')\n"
   ]
  },
  {
   "cell_type": "markdown",
   "metadata": {},
   "source": [
    "### 7. How can you generate a random 3x3 matrix with values between 0 and 1?"
   ]
  },
  {
   "cell_type": "code",
   "execution_count": 13,
   "metadata": {},
   "outputs": [
    {
     "name": "stdout",
     "output_type": "stream",
     "text": [
      "[[0.2717977  0.1142571  0.60912126]\n",
      " [0.99987433 0.56819399 0.01890041]\n",
      " [0.90015984 0.04132974 0.47269387]]\n"
     ]
    }
   ],
   "source": [
    "import numpy as np\n",
    "\n",
    "result = np.random.rand(3,3)\n",
    "\n",
    "print(result)"
   ]
  },
  {
   "cell_type": "markdown",
   "metadata": {},
   "source": [
    "### 8. Describe the difference between np.random.rand and np.random.randn?"
   ]
  },
  {
   "cell_type": "markdown",
   "metadata": {},
   "source": [
    "| np.random.rand | np.random.randn |\n",
    "| -------------- | --------------- |\n",
    "| Generates random values from a uniform distribution over the interval `[0, 1)`. | Generates random values from a standard normal distribution (mean = 0, standard deviation = 1). |\n",
    "\n",
    "\n",
    "Examples as below:"
   ]
  },
  {
   "cell_type": "code",
   "execution_count": 16,
   "metadata": {},
   "outputs": [
    {
     "name": "stdout",
     "output_type": "stream",
     "text": [
      "[[0.44665931 0.50575917]\n",
      " [0.17631013 0.6702959 ]]\n",
      "\n",
      "[[ 0.80670266 -1.13988208]\n",
      " [-0.6410971  -1.32311667]]\n"
     ]
    }
   ],
   "source": [
    "import numpy as np\n",
    "\n",
    "# Example: Generate a 2x2 matrix with random values between 0 and 1\n",
    "random_matrix = np.random.rand(2, 2)\n",
    "\n",
    "print(random_matrix)\n",
    "print()\n",
    "# Example: Generate a 2x2 matrix with random values from a standard normal distribution\n",
    "random_matrix_normal = np.random.randn(2, 2)\n",
    "\n",
    "print(random_matrix_normal)"
   ]
  },
  {
   "cell_type": "markdown",
   "metadata": {},
   "source": [
    "### 9. Write code to increase the dimension of the following array?\n",
    "```\n",
    "[[1, 2, 3, 4],\n",
    "[5, 6, 7, 8],\n",
    "[9, 10, 11, 12]]\n",
    "```"
   ]
  },
  {
   "cell_type": "code",
   "execution_count": 17,
   "metadata": {},
   "outputs": [
    {
     "name": "stdout",
     "output_type": "stream",
     "text": [
      "[[[ 1  2  3  4]\n",
      "  [ 5  6  7  8]\n",
      "  [ 9 10 11 12]]]\n"
     ]
    }
   ],
   "source": [
    "import numpy as np\n",
    "\n",
    "arr = np.array([[1,2,3,4],[5,6,7,8], [9,10,11,12]])\n",
    "\n",
    "result = np.expand_dims(arr, axis=0)\n",
    "\n",
    "print(result)"
   ]
  },
  {
   "cell_type": "markdown",
   "metadata": {},
   "source": [
    "### 10. How to transpose the following array in NumPy?\n",
    "```\n",
    "[[1, 2, 3, 4],\n",
    "[5, 6, 7, 8],\n",
    "[9, 10, 11, 12]]\n",
    "```"
   ]
  },
  {
   "cell_type": "code",
   "execution_count": 18,
   "metadata": {},
   "outputs": [
    {
     "name": "stdout",
     "output_type": "stream",
     "text": [
      "[[ 1  5  9]\n",
      " [ 2  6 10]\n",
      " [ 3  7 11]\n",
      " [ 4  8 12]]\n"
     ]
    }
   ],
   "source": [
    "import numpy as np\n",
    "\n",
    "arr = np.array([[1,2,3,4],[5,6,7,8], [9,10,11,12]])\n",
    "\n",
    "tranpose_arr = arr.T\n",
    "\n",
    "print(tranpose_arr)"
   ]
  },
  {
   "cell_type": "markdown",
   "metadata": {},
   "source": [
    "### 11. Consider the following matrix:\n",
    "* Matrix A:  `[[1, 2, 3, 4], [5, 6, 7, 8],[9, 10, 11, 12]]`\n",
    "\n",
    "* Matrix B:  `[[1, 2, 3, 4], [5, 6, 7, 8],[9, 10, 11, 12]]`\n",
    "\n",
    "### Perform the following operation using Python1\n",
    "1. Index wise multiplication\n",
    "2. Matix multiplication\n",
    "3. Add both the matrics\n",
    "4. Subtact matix B from A\n",
    "5. Divide Matrix B by A"
   ]
  },
  {
   "cell_type": "code",
   "execution_count": 22,
   "metadata": {},
   "outputs": [
    {
     "name": "stdout",
     "output_type": "stream",
     "text": [
      "Array A is \n",
      "[[ 1  2  3  4]\n",
      " [ 5  6  7  8]\n",
      " [ 9 10 11 12]]\n",
      "\n",
      "Array B is \n",
      "[[ 1  2  3  4]\n",
      " [ 5  6  7  8]\n",
      " [ 9 10 11 12]]\n"
     ]
    }
   ],
   "source": [
    "import numpy as np\n",
    "\n",
    "arr_A = np.array([[1,2,3,4], [5,6,7,8], [9,10,11,12]])\n",
    "\n",
    "arr_B = np.array([[1,2,3,4], [5,6,7,8], [9,10,11,12]])\n",
    "\n",
    "print('Array A is ')\n",
    "print(arr_A)\n",
    "print()\n",
    "print('Array B is ')\n",
    "print(arr_B)"
   ]
  },
  {
   "cell_type": "markdown",
   "metadata": {},
   "source": [
    "##### 1. Index wise multiplication"
   ]
  },
  {
   "cell_type": "code",
   "execution_count": 23,
   "metadata": {},
   "outputs": [
    {
     "name": "stdout",
     "output_type": "stream",
     "text": [
      "Result of Index wise multiplication:\n",
      "[[  1   4   9  16]\n",
      " [ 25  36  49  64]\n",
      " [ 81 100 121 144]]\n"
     ]
    }
   ],
   "source": [
    "mul_result = arr_A * arr_B\n",
    "\n",
    "print('Result of Index wise multiplication:')\n",
    "print(mul_result)"
   ]
  },
  {
   "cell_type": "markdown",
   "metadata": {},
   "source": [
    "##### 2. Matix multiplication"
   ]
  },
  {
   "cell_type": "markdown",
   "metadata": {},
   "source": [
    "*Ans.* Matrix multiplication is not possible between 3x4 and 3x4 arrays as number columns in one and number or rows in second does not match."
   ]
  },
  {
   "cell_type": "code",
   "execution_count": 26,
   "metadata": {},
   "outputs": [
    {
     "ename": "ValueError",
     "evalue": "matmul: Input operand 1 has a mismatch in its core dimension 0, with gufunc signature (n?,k),(k,m?)->(n?,m?) (size 3 is different from 4)",
     "output_type": "error",
     "traceback": [
      "\u001b[1;31m---------------------------------------------------------------------------\u001b[0m",
      "\u001b[1;31mValueError\u001b[0m                                Traceback (most recent call last)",
      "Cell \u001b[1;32mIn[26], line 1\u001b[0m\n\u001b[1;32m----> 1\u001b[0m mat_mult_result \u001b[38;5;241m=\u001b[39m arr_A \u001b[38;5;241m@\u001b[39m arr_B\n\u001b[0;32m      3\u001b[0m \u001b[38;5;28mprint\u001b[39m(\u001b[38;5;124m'\u001b[39m\u001b[38;5;124mResult of Matix multiplication:\u001b[39m\u001b[38;5;124m'\u001b[39m)\n\u001b[0;32m      4\u001b[0m \u001b[38;5;28mprint\u001b[39m(mat_mult_result)\n",
      "\u001b[1;31mValueError\u001b[0m: matmul: Input operand 1 has a mismatch in its core dimension 0, with gufunc signature (n?,k),(k,m?)->(n?,m?) (size 3 is different from 4)"
     ]
    }
   ],
   "source": [
    "mat_mult_result = arr_A @ arr_B\n",
    "\n",
    "print('Result of Matix multiplication:')\n",
    "print(mat_mult_result)"
   ]
  },
  {
   "cell_type": "markdown",
   "metadata": {},
   "source": [
    "We can multiply using transpose of arr_B, 3*4 ad 4*3 arrays."
   ]
  },
  {
   "cell_type": "code",
   "execution_count": 25,
   "metadata": {},
   "outputs": [
    {
     "name": "stdout",
     "output_type": "stream",
     "text": [
      "Result of Matix multiplication:\n",
      "[[ 30  70 110]\n",
      " [ 70 174 278]\n",
      " [110 278 446]]\n"
     ]
    }
   ],
   "source": [
    "mat_mult_result_1 = arr_A @ arr_B.T\n",
    "\n",
    "print('Result of Matix multiplication:')\n",
    "print(mat_mult_result_1)"
   ]
  },
  {
   "cell_type": "markdown",
   "metadata": {},
   "source": [
    "##### 3. Add both the matrics"
   ]
  },
  {
   "cell_type": "code",
   "execution_count": 27,
   "metadata": {},
   "outputs": [
    {
     "name": "stdout",
     "output_type": "stream",
     "text": [
      "Result of Addition:\n",
      "[[ 2  4  6  8]\n",
      " [10 12 14 16]\n",
      " [18 20 22 24]]\n"
     ]
    }
   ],
   "source": [
    "addition_result = arr_A + arr_B\n",
    "\n",
    "print('Result of Addition:')\n",
    "print(addition_result)"
   ]
  },
  {
   "cell_type": "markdown",
   "metadata": {},
   "source": [
    "##### 4. Subtact matix B from A"
   ]
  },
  {
   "cell_type": "code",
   "execution_count": 28,
   "metadata": {},
   "outputs": [
    {
     "name": "stdout",
     "output_type": "stream",
     "text": [
      "Result of A - B:\n",
      "[[0 0 0 0]\n",
      " [0 0 0 0]\n",
      " [0 0 0 0]]\n"
     ]
    }
   ],
   "source": [
    "diff_result = arr_A - arr_B\n",
    "\n",
    "print('Result of A - B:')\n",
    "print(diff_result)"
   ]
  },
  {
   "cell_type": "markdown",
   "metadata": {},
   "source": [
    "##### 5. Divide Matrix B by A"
   ]
  },
  {
   "cell_type": "code",
   "execution_count": 29,
   "metadata": {},
   "outputs": [
    {
     "name": "stdout",
     "output_type": "stream",
     "text": [
      "Result of A / B:\n",
      "[[1. 1. 1. 1.]\n",
      " [1. 1. 1. 1.]\n",
      " [1. 1. 1. 1.]]\n"
     ]
    }
   ],
   "source": [
    "div_result = arr_A / arr_B\n",
    "\n",
    "print('Result of A / B:')\n",
    "print(div_result)"
   ]
  },
  {
   "cell_type": "markdown",
   "metadata": {},
   "source": [
    "### 12. Which function in Numpy can be used to swap the byte order of an array?"
   ]
  },
  {
   "cell_type": "markdown",
   "metadata": {},
   "source": [
    "*Ans.* \n",
    "In NumPy, the function used to swap the byte order of an array is numpy.ndarray.byteswap. This function swaps the byte order of the elements of an array in-place.\n",
    "\n",
    "Below is an example:"
   ]
  },
  {
   "cell_type": "code",
   "execution_count": 30,
   "metadata": {},
   "outputs": [
    {
     "name": "stdout",
     "output_type": "stream",
     "text": [
      "Original Array: [1 2 3 4]\n",
      "Swapped Array: [16777216 33554432 50331648 67108864]\n"
     ]
    }
   ],
   "source": [
    "import numpy as np\n",
    "\n",
    "original_array = np.array([1, 2, 3, 4], dtype=np.int32)\n",
    "\n",
    "swapped_array = original_array.byteswap()\n",
    "\n",
    "print(\"Original Array:\", original_array)\n",
    "print(\"Swapped Array:\", swapped_array)\n"
   ]
  },
  {
   "cell_type": "markdown",
   "metadata": {},
   "source": [
    "### 13. What is the significance of the np.linalg.inv function?"
   ]
  },
  {
   "cell_type": "markdown",
   "metadata": {},
   "source": [
    "*Ans.* The np.linalg.inv function in NumPy is used to compute the (multiplicative) inverse of a square matrix.\n",
    "\n",
    "If A is a square matrix and B = np.linalg.inv(A), then A.dot(B) (or np.dot(A, B)) should be close to the identity matrix, and vice versa.\n",
    "\n",
    "Example as below:"
   ]
  },
  {
   "cell_type": "code",
   "execution_count": 35,
   "metadata": {},
   "outputs": [
    {
     "name": "stdout",
     "output_type": "stream",
     "text": [
      "Original Matrix:\n",
      "[[4 7]\n",
      " [2 6]]\n",
      "\n",
      "Inverse Matrix:\n",
      "[[ 0.6 -0.7]\n",
      " [-0.2  0.4]]\n",
      "\n",
      "Dot of Original and Inverse:\n",
      "[[ 1.00000000e+00 -1.11022302e-16]\n",
      " [-1.11022302e-16  1.00000000e+00]]\n",
      "\n",
      "Check A * A_inv is close to the identity matrix: True\n"
     ]
    }
   ],
   "source": [
    "import numpy as np\n",
    "\n",
    "# Create a 2x2 matrix\n",
    "A = np.array([[4, 7], [2, 6]])\n",
    "\n",
    "# Calculate the inverse\n",
    "A_inv = np.linalg.inv(A)\n",
    "\n",
    "# Check the product A * A_inv (should be close to the identity matrix)\n",
    "identity_check = np.allclose(np.dot(A, A_inv), np.eye(2))\n",
    "\n",
    "print(\"Original Matrix:\")\n",
    "print(A)\n",
    "\n",
    "print(\"\\nInverse Matrix:\")\n",
    "print(A_inv)\n",
    "\n",
    "print(\"\\nDot of Original and Inverse:\")\n",
    "print(np.dot(A, A_inv))\n",
    "\n",
    "print(\"\\nCheck A * A_inv is close to the identity matrix:\", identity_check)\n"
   ]
  },
  {
   "cell_type": "markdown",
   "metadata": {},
   "source": [
    "### 14. What does the np.reshape function do, and how is it used?"
   ]
  },
  {
   "cell_type": "markdown",
   "metadata": {},
   "source": [
    "*Ans.* The np.reshape function in NumPy is used to change the shape of an array without changing its data. It returns a new array with the same data but a different shape.\n",
    "\n",
    "Below is example: "
   ]
  },
  {
   "cell_type": "code",
   "execution_count": 36,
   "metadata": {},
   "outputs": [
    {
     "name": "stdout",
     "output_type": "stream",
     "text": [
      "Original Array:\n",
      "[ 0  1  2  3  4  5  6  7  8  9 10 11]\n",
      "\n",
      "Reshaped Array:\n",
      "[[ 0  1  2  3]\n",
      " [ 4  5  6  7]\n",
      " [ 8  9 10 11]]\n"
     ]
    }
   ],
   "source": [
    "import numpy as np\n",
    "\n",
    "# Create a 1D array with 12 elements\n",
    "original_array = np.arange(12)\n",
    "\n",
    "# Reshape the array to a 3x4 matrix\n",
    "reshaped_array = np.reshape(original_array, (3, 4))\n",
    "\n",
    "print(\"Original Array:\")\n",
    "print(original_array)\n",
    "\n",
    "print(\"\\nReshaped Array:\")\n",
    "print(reshaped_array)\n"
   ]
  },
  {
   "cell_type": "markdown",
   "metadata": {},
   "source": [
    "### 15. What is broadcasting in Numpy?"
   ]
  },
  {
   "cell_type": "markdown",
   "metadata": {},
   "source": [
    "*Ans.* Broadcasting in NumPy is a feature that facilitates arithmetic operations between arrays with different shapes and sizes. It automatically adjusts the dimensions of smaller arrays, making them compatible for element-wise operations with larger arrays. The key rules involve comparing dimensions element-wise, padding dimensions with ones, and determining the maximum size for each dimension in the result shape. This allows for concise and efficient code when performing operations on arrays with varying shapes."
   ]
  },
  {
   "cell_type": "code",
   "execution_count": 37,
   "metadata": {},
   "outputs": [
    {
     "name": "stdout",
     "output_type": "stream",
     "text": [
      "Matrix A:\n",
      "[[1 2 3]\n",
      " [4 5 6]]\n",
      "\n",
      "Array B:\n",
      "[10 20 30]\n",
      "\n",
      "Result of A + B:\n",
      "[[11 22 33]\n",
      " [14 25 36]]\n"
     ]
    }
   ],
   "source": [
    "import numpy as np\n",
    "\n",
    "# Create a 2x3 matrix\n",
    "A = np.array([[1, 2, 3], [4, 5, 6]])\n",
    "\n",
    "# Add a 1D array to each row of the matrix\n",
    "B = np.array([10, 20, 30])\n",
    "\n",
    "# Broadcasting: B is \"padded\" become [[10, 20, 30], [10, 20, 30]]\n",
    "result = A + B\n",
    "\n",
    "print(\"Matrix A:\")\n",
    "print(A)\n",
    "\n",
    "print(\"\\nArray B:\")\n",
    "print(B)\n",
    "\n",
    "print(\"\\nResult of A + B:\")\n",
    "print(result)\n"
   ]
  },
  {
   "cell_type": "code",
   "execution_count": null,
   "metadata": {},
   "outputs": [],
   "source": []
  }
 ],
 "metadata": {
  "kernelspec": {
   "display_name": "base",
   "language": "python",
   "name": "python3"
  },
  "language_info": {
   "codemirror_mode": {
    "name": "ipython",
    "version": 3
   },
   "file_extension": ".py",
   "mimetype": "text/x-python",
   "name": "python",
   "nbconvert_exporter": "python",
   "pygments_lexer": "ipython3",
   "version": "3.11.4"
  }
 },
 "nbformat": 4,
 "nbformat_minor": 2
}
