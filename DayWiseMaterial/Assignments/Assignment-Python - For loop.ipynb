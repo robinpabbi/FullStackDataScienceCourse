{
 "cells": [
  {
   "cell_type": "markdown",
   "metadata": {},
   "source": [
    "# Basic Level:"
   ]
  },
  {
   "cell_type": "markdown",
   "metadata": {},
   "source": [
    "### 1. Write a Python program to print the numbers from 1 to 10 using a `for` loop."
   ]
  },
  {
   "cell_type": "code",
   "execution_count": 1,
   "metadata": {},
   "outputs": [
    {
     "name": "stdout",
     "output_type": "stream",
     "text": [
      "1\n",
      "2\n",
      "3\n",
      "4\n",
      "5\n",
      "6\n",
      "7\n",
      "8\n",
      "9\n",
      "10\n"
     ]
    }
   ],
   "source": [
    "# Loop from 1 to 10 and print number\n",
    "for num in range(1, 11):\n",
    "    print(num)"
   ]
  },
  {
   "cell_type": "markdown",
   "metadata": {},
   "source": [
    "### 2. Create a program that calculates the sum of all numbers in a list using a `for` loop."
   ]
  },
  {
   "cell_type": "code",
   "execution_count": 4,
   "metadata": {},
   "outputs": [
    {
     "name": "stdout",
     "output_type": "stream",
     "text": [
      " Sum of elements of list : 141\n"
     ]
    }
   ],
   "source": [
    "def calculate_sum_using_loop(list_inpt: list) -> int:\n",
    "    sum_of_list = 0\n",
    "    # loop on the list and add sum of previous elements and the current number\n",
    "    for num in list_inpt:\n",
    "        sum_of_list += num\n",
    "    \n",
    "    return sum_of_list\n",
    "\n",
    "# Create a list\n",
    "list_1 = [3, 4, 5, 6, 7, 8, 9, 99]\n",
    "\n",
    "# Get sum\n",
    "sum_of_elements = calculate_sum_using_loop(list_1)\n",
    "\n",
    "# Print sum\n",
    "print(f' Sum of elements of list : {sum_of_elements}')"
   ]
  },
  {
   "cell_type": "markdown",
   "metadata": {},
   "source": [
    "### 3. Write a program to print the characters of a string in reverse order using a `for` loop."
   ]
  },
  {
   "cell_type": "code",
   "execution_count": 7,
   "metadata": {},
   "outputs": [
    {
     "name": "stdout",
     "output_type": "stream",
     "text": [
      "i\n",
      "b\n",
      "b\n",
      "a\n",
      "P\n",
      "n\n",
      "i\n",
      "b\n",
      "o\n",
      "R\n"
     ]
    }
   ],
   "source": [
    "# Function - takes string input and print characters separately in reverse\n",
    "def print_string_characters_in_reverse(string_input: str)-> None:\n",
    "    str_length = len(string_input)\n",
    "\n",
    "    for index in range(str_length, 0, -1):\n",
    "        # Here we are using normal print (print in separate line)\n",
    "        # to print in same line we can use end='' in print\n",
    "        print(string_input[index-1])\n",
    "\n",
    "# Create a string\n",
    "string_1 = 'RobinPabbi'\n",
    "\n",
    "# Print the characters in reverse\n",
    "print_string_characters_in_reverse(string_1)"
   ]
  },
  {
   "cell_type": "markdown",
   "metadata": {},
   "source": [
    "### 4. Develop a program that finds the factorial of a given number using a `for` loop."
   ]
  },
  {
   "cell_type": "code",
   "execution_count": 2,
   "metadata": {},
   "outputs": [
    {
     "name": "stdout",
     "output_type": "stream",
     "text": [
      "Factorial of 5 is = 120\n"
     ]
    }
   ],
   "source": [
    "# Factorial of n = n * (n-1) * (n-2) ..... * 1\n",
    "\n",
    "# Function - takes n number as input and return factorial of n (using for loop)\n",
    "def factorial_of_num(n: int) -> int | None:\n",
    "    # Check boundary condition - assumption is n has to be greater than equal to 1\n",
    "    if n <= 0:\n",
    "        print('Error: Number can not be less than 1')\n",
    "\n",
    "    factorial = 1\n",
    "    # looping on range from 1 to n (n+1 because n+1 is excluded)\n",
    "    for num in range(1, n+1):\n",
    "        factorial *= num\n",
    "    \n",
    "    return factorial\n",
    "\n",
    "# Take an input from user\n",
    "number = int(input('Enter a number whose factorial is to be calculated: '))\n",
    "\n",
    "# Get Factorial\n",
    "factorial = factorial_of_num(number)\n",
    "\n",
    "# Print\n",
    "print(f'Factorial of {number} is = {factorial}')"
   ]
  },
  {
   "cell_type": "markdown",
   "metadata": {},
   "source": [
    "### 5. Create a program to print the multiplication table of a given number using a `for` loop."
   ]
  },
  {
   "cell_type": "code",
   "execution_count": 3,
   "metadata": {},
   "outputs": [
    {
     "name": "stdout",
     "output_type": "stream",
     "text": [
      "6 x 1 = 6\n",
      "6 x 2 = 12\n",
      "6 x 3 = 18\n",
      "6 x 4 = 24\n",
      "6 x 5 = 30\n",
      "6 x 6 = 36\n",
      "6 x 7 = 42\n",
      "6 x 8 = 48\n",
      "6 x 9 = 54\n",
      "6 x 10 = 60\n"
     ]
    }
   ],
   "source": [
    "# Function - Take a numbers as input and print table of num\n",
    "def print_table(n: int):\n",
    "    # Looping from 1 to 10 (11 because upper bound is exluded)\n",
    "    for multiplier in range(1, 11):\n",
    "        print(f'{n} x {multiplier} = {multiplier * n}')\n",
    "\n",
    "# Take a number input from the user\n",
    "number = int(input('Enter a number whose table is to be printed: '))\n",
    "\n",
    "# Print table\n",
    "print_table(number)"
   ]
  },
  {
   "cell_type": "markdown",
   "metadata": {},
   "source": [
    "### 6. Write a program that counts the number of even and odd numbers in a list using a `for` loop."
   ]
  },
  {
   "cell_type": "code",
   "execution_count": 4,
   "metadata": {},
   "outputs": [
    {
     "name": "stdout",
     "output_type": "stream",
     "text": [
      "Count of Even numbers = 6 and count of odd numbers = 5\n"
     ]
    }
   ],
   "source": [
    "# Function - Takes list and return count of even numbers and odd number\n",
    "def count_even_and_odd_numbers(list_of_numbers: list):\n",
    "    even_num_count = 0\n",
    "    odd_num_count = 0\n",
    "\n",
    "    # Iterating on list using for loop\n",
    "    for num in list_of_numbers:\n",
    "        # If even add to count of even else to odd\n",
    "        if (num % 2) == 0:\n",
    "            even_num_count += 1\n",
    "        else:\n",
    "            odd_num_count += 1\n",
    "    \n",
    "    return even_num_count, odd_num_count\n",
    "\n",
    "\n",
    "# Create a list of numbers\n",
    "list_of_nums = [2, 3, 4, 5, 6, 77, 54, 56, 57, 78, 99]\n",
    "\n",
    "# COunt number of evens and odds\n",
    "count_of_even_num, count_of_odd_num = count_even_and_odd_numbers(list_of_nums)\n",
    "\n",
    "# Print result\n",
    "print(f'Count of Even numbers = {count_of_even_num} and count of odd numbers = {count_of_odd_num}')"
   ]
  },
  {
   "cell_type": "markdown",
   "metadata": {},
   "source": [
    "### 7. Develop a program that prints the squares of numbers from 1 to 5 using a `for` loop."
   ]
  },
  {
   "cell_type": "code",
   "execution_count": 5,
   "metadata": {},
   "outputs": [
    {
     "name": "stdout",
     "output_type": "stream",
     "text": [
      "Square of 1 = 1\n",
      "Square of 2 = 4\n",
      "Square of 3 = 9\n",
      "Square of 4 = 16\n",
      "Square of 5 = 25\n"
     ]
    }
   ],
   "source": [
    "# Print square of 1 to 5, loop from 1 to 5 (upper bound 6)\n",
    "for num in range(1, 6):\n",
    "    print(f'Square of {num} = {num**2}')"
   ]
  },
  {
   "cell_type": "markdown",
   "metadata": {},
   "source": [
    "### 8. Create a program to find the length of a string without using the `len()` function."
   ]
  },
  {
   "cell_type": "code",
   "execution_count": 6,
   "metadata": {},
   "outputs": [
    {
     "name": "stdout",
     "output_type": "stream",
     "text": [
      "Length of string \"Robin Pabbi\" = 11\n"
     ]
    }
   ],
   "source": [
    "# Function with code of finding length of string using for loop\n",
    "def length(string_input: str) -> int:\n",
    "  count = 0\n",
    "  for char in string_input:\n",
    "    count += 1\n",
    "  return count\n",
    "\n",
    "# Take a string input from user\n",
    "string_input = input('Enter your string here: ')\n",
    "\n",
    "# Compute length without using len function\n",
    "length_of_str = length(string_input)\n",
    "\n",
    "# Print result\n",
    "print(f'Length of string \"{string_input}\" = {length_of_str}')"
   ]
  },
  {
   "cell_type": "markdown",
   "metadata": {},
   "source": [
    "### 9. Write a program that calculates the average of a list of numbers using a `for` loop."
   ]
  },
  {
   "cell_type": "code",
   "execution_count": 10,
   "metadata": {},
   "outputs": [
    {
     "name": "stdout",
     "output_type": "stream",
     "text": [
      "Average of numbers of \"[1, 2, 3, 4, 15, 6]\" = 5.166666666666666\n"
     ]
    }
   ],
   "source": [
    "# Approach - calculates the average of the numbers in the list using summing each num divided by length\n",
    "# either take sum and divide or divide each num and then sum it\n",
    "\n",
    "# Function - take a list of numbers as input and return average num\n",
    "def calculate_average(list_of_numbers: list) -> float:\n",
    "    length_of_list = len(list_of_numbers)\n",
    "\n",
    "    # Check of boundary condition\n",
    "    if length_of_list == 0:\n",
    "        return 0\n",
    "    \n",
    "    average = 0\n",
    "\n",
    "    # For loop to compute \n",
    "    for num in list_of_numbers:\n",
    "        average += (num / length_of_list)\n",
    "\n",
    "    return average\n",
    "\n",
    "# Create a list\n",
    "list_of_nums = [1, 2, 3, 4, 15, 6]\n",
    "\n",
    "# Calculate average\n",
    "average_of_list = calculate_average(list_of_nums)\n",
    "\n",
    "# Print result \n",
    "print(f'Average of numbers of \"{list_of_nums}\" = {average_of_list}')"
   ]
  },
  {
   "cell_type": "markdown",
   "metadata": {},
   "source": [
    "### 10. Develop a program that prints the first `n` Fibonacci numbers using a `for` loop."
   ]
  },
  {
   "cell_type": "code",
   "execution_count": 1,
   "metadata": {},
   "outputs": [
    {
     "name": "stdout",
     "output_type": "stream",
     "text": [
      "Below are first 10 elements of Fibonacci series.\n",
      "0\n",
      "1\n",
      "1\n",
      "2\n",
      "3\n",
      "5\n",
      "8\n",
      "13\n",
      "21\n",
      "34\n"
     ]
    }
   ],
   "source": [
    "# Fibonacci formular - F(n) = F(n-1) + F(n-2)\n",
    "\n",
    "# Function - take a n as input and print n Fibonacci numbers\n",
    "def print_fibonacci_sequence(n: int):\n",
    "    \n",
    "    if n <= 0:\n",
    "        print('Error: Less than 1 is not valid number of elements to be printed.')\n",
    "    \n",
    "    # Factorial of N-2 (starting from 0)\n",
    "    f_of_n_minus_2 = 0\n",
    "    # Factorial of N-1 (starting from 1)\n",
    "    f_of_n_minus_1 = 1\n",
    "\n",
    "    print(f_of_n_minus_2)\n",
    "    print(f_of_n_minus_1)\n",
    "\n",
    "    for num in range(1, n-1):\n",
    "        fibonacci_num = f_of_n_minus_1 + f_of_n_minus_2\n",
    "        print(fibonacci_num)\n",
    "        f_of_n_minus_2 = f_of_n_minus_1\n",
    "        f_of_n_minus_1 = fibonacci_num\n",
    "    \n",
    "\n",
    "# Take input n from the user\n",
    "number_of_elements = int(input('Enter number of elements in sequence: '))\n",
    "\n",
    "# Print\n",
    "print(f'Below are first {number_of_elements} elements of Fibonacci series.')\n",
    "print_fibonacci_sequence(number_of_elements)"
   ]
  },
  {
   "cell_type": "markdown",
   "metadata": {},
   "source": [
    "# Intermediate Level:"
   ]
  },
  {
   "cell_type": "markdown",
   "metadata": {},
   "source": [
    "### 11. Write a program to check if a given list contains any duplicates using a `for` loop."
   ]
  },
  {
   "cell_type": "code",
   "execution_count": 3,
   "metadata": {},
   "outputs": [
    {
     "name": "stdout",
     "output_type": "stream",
     "text": [
      "List contains duplicates which are:  [2, 3, 5, 6]\n"
     ]
    }
   ],
   "source": [
    "# Function - takes list and return the list of duplicates if any - using for loop\n",
    "\n",
    "def find_dulicates_in_list(list_input: list) -> list:\n",
    "    length_of_list = len(list_input)\n",
    "    # if no or single element in list then return empty list because in this case there are no duplicates\n",
    "    if length_of_list <= 1:\n",
    "        return []\n",
    "    \n",
    "    list_of_duplicates = []\n",
    "\n",
    "    for i in range(length_of_list):\n",
    "        k = i + 1\n",
    "        for j in range(k, length_of_list):\n",
    "            if list_input[i] == list_input[j] and list_input[i] not in list_of_duplicates:\n",
    "                list_of_duplicates.append(list_input[i])\n",
    "                break\n",
    "    return list_of_duplicates\n",
    "\n",
    "# Create a list\n",
    "list_inpt = [2,3,4,5,6,3,2,5,6,7,8,9,6]\n",
    "\n",
    "# Get list of duplicates\n",
    "duplicates_in_list = find_dulicates_in_list(list_inpt)\n",
    "\n",
    "# Print result\n",
    "if not duplicates_in_list:\n",
    "    print('List does not contain any duplicates')\n",
    "else:\n",
    "    print('List contains duplicates which are: ', duplicates_in_list)"
   ]
  },
  {
   "cell_type": "markdown",
   "metadata": {},
   "source": [
    "### 12. Create a program that prints the prime numbers in a given range using a `for` loop."
   ]
  },
  {
   "cell_type": "code",
   "execution_count": 4,
   "metadata": {},
   "outputs": [
    {
     "name": "stdout",
     "output_type": "stream",
     "text": [
      "11\n",
      "13\n",
      "17\n",
      "19\n",
      "23\n",
      "29\n",
      "31\n",
      "37\n",
      "41\n",
      "43\n",
      "47\n",
      "53\n",
      "59\n",
      "61\n",
      "67\n",
      "71\n",
      "73\n",
      "79\n",
      "83\n",
      "89\n",
      "97\n"
     ]
    }
   ],
   "source": [
    "import math\n",
    "# Function to check if number is prime or not\n",
    "# will try to divide a number from 2 to (n/2)+1 - (to optimize the function) - if number is divisible by any number the False\n",
    "# We are using for loop from 2 till n/2 + 1 to check if number is prime or not\n",
    "def is_prime(n:int) -> bool:\n",
    "    if(n <= 1):\n",
    "        return False\n",
    "    range_num = math.floor(n/2) + 1\n",
    "    for i in range(2 , range_num):\n",
    "        if(n%i == 0):\n",
    "            return False\n",
    "    return True\n",
    "\n",
    "# Function to print prime numbers - using for loop\n",
    "# Takes a range and print all prime numbers from that range\n",
    "def print_prime_numbers(range_to_explore: range):\n",
    "    # Using for loop to iterate in range\n",
    "    for num in range_to_explore:\n",
    "        if is_prime(num):\n",
    "            print(num)\n",
    "\n",
    "\n",
    "# Create a range (for 10 to 100 (101 because upper bound is excluded))\n",
    "elements_range = range(10, 100)\n",
    "\n",
    "# Print prime numbers\n",
    "print_prime_numbers(elements_range)"
   ]
  },
  {
   "cell_type": "markdown",
   "metadata": {},
   "source": [
    "### 13. Develop a program that counts the number of vowels in a string using a `for` loop."
   ]
  },
  {
   "cell_type": "code",
   "execution_count": 6,
   "metadata": {},
   "outputs": [
    {
     "name": "stdout",
     "output_type": "stream",
     "text": [
      "Number of vowels in \"Robin Pabbi\": 4\n"
     ]
    }
   ],
   "source": [
    "# Keeping the list of vowels to check from\n",
    "VOWELS = ['a', 'e', 'i', 'o', 'u', 'A', 'E', 'I', 'O', 'U']\n",
    "\n",
    "# Function to check count of Vowels - using for loop\n",
    "# Here we iterate in string for each char and check if exists in the VOWELS then add 1 to count\n",
    "def count_vowels(string_to_check:str) -> int:\n",
    "  count:int = 0\n",
    "  for char in string_to_check:\n",
    "    if char in VOWELS:\n",
    "        count += 1\n",
    "  return count\n",
    "\n",
    "# Take input string from user\n",
    "string_to_count_vowels = input('Enter a string to check count of Vowels:')\n",
    "\n",
    "# Count number of vowels\n",
    "count_of_vowels = count_vowels(string_to_count_vowels)\n",
    "\n",
    "# Print number of vowels in string\n",
    "print(f'Number of vowels in \"{string_to_count_vowels}\": {count_of_vowels}')"
   ]
  },
  {
   "cell_type": "markdown",
   "metadata": {},
   "source": [
    "### 14. Write a program to find the maximum element in a 2D list using a nested `for` loop."
   ]
  },
  {
   "cell_type": "code",
   "execution_count": 7,
   "metadata": {},
   "outputs": [
    {
     "name": "stdout",
     "output_type": "stream",
     "text": [
      "Maximum number is : 999\n"
     ]
    }
   ],
   "source": [
    "# Approach - Since we are using 2D list, list with lists inside it, so we will run 2 for loops\n",
    "\n",
    "# Function - takes a list and retun maximum element of the list\n",
    "def maximum_in_2D_list(list_input: list):\n",
    "    maximum_element = 0\n",
    "    # Traverse in the outter list to get sub lists\n",
    "    for sublist in list_input:\n",
    "        # Traverse in inner list\n",
    "        for num in sublist:\n",
    "            if num > maximum_element:\n",
    "                maximum_element = num\n",
    "\n",
    "    return maximum_element\n",
    "\n",
    "\n",
    "# Create a list\n",
    "list_of_list_of_numbers = [[1,2,3,4,5], [2,3,4,2,1,6],[66,7,88,999,23]]\n",
    "\n",
    "# Get maximum of above list\n",
    "maximum_element = maximum_in_2D_list(list_of_list_of_numbers)\n",
    "\n",
    "# Print\n",
    "print(f'Maximum number is : {maximum_element}')"
   ]
  },
  {
   "cell_type": "markdown",
   "metadata": {},
   "source": [
    "### 15. Create a program that removes all occurrences of a specific element from a list using a `for` loop."
   ]
  },
  {
   "cell_type": "code",
   "execution_count": 8,
   "metadata": {},
   "outputs": [
    {
     "name": "stdout",
     "output_type": "stream",
     "text": [
      "Actual list before remove:  [2, 3, 4, 5, 6, 7, 8, 99, 12, 35, 'Robin', 'Robin', 34, 56, 'Robin']\n",
      "List after removal of \"Robin\" = [2, 3, 4, 5, 6, 7, 8, 99, 12, 35, 34, 56]\n"
     ]
    }
   ],
   "source": [
    "# Approach - We will have to use for loop so iterate on the list using for loop\n",
    "# Add all non matching elements to the list and return it\n",
    "\n",
    "# Function - take a list as input and return a list with removed instances of given element\n",
    "def remove_element_occurences(list_to_remove_from: list, element_to_remove):\n",
    "    result_list = []\n",
    "\n",
    "    for el in list_to_remove_from:\n",
    "        if el != element_to_remove:\n",
    "            result_list.append(el)\n",
    "    \n",
    "    return result_list\n",
    "\n",
    "\n",
    "# Create a list\n",
    "list_1 = [2, 3, 4, 5, 6, 7, 8, 99, 12, 35, 'Robin', 'Robin', 34, 56, 'Robin']\n",
    "\n",
    "# Print actual list\n",
    "print('Actual list before remove: ', list_1)\n",
    "\n",
    "# Remove the 'Robin' from the list\n",
    "result = remove_element_occurences(list_1, 'Robin')\n",
    "\n",
    "# Print\n",
    "print(f'List after removal of \"Robin\" = {result}')"
   ]
  },
  {
   "cell_type": "markdown",
   "metadata": {},
   "source": [
    "### 16. Develop a program that generates a multiplication table for numbers from 1 to 5 using a nested `for` loop.\n"
   ]
  },
  {
   "cell_type": "code",
   "execution_count": 9,
   "metadata": {},
   "outputs": [
    {
     "name": "stdout",
     "output_type": "stream",
     "text": [
      "1 x 1 = 1\n",
      "1 x 2 = 2\n",
      "1 x 3 = 3\n",
      "1 x 4 = 4\n",
      "1 x 5 = 5\n",
      "1 x 6 = 6\n",
      "1 x 7 = 7\n",
      "1 x 8 = 8\n",
      "1 x 9 = 9\n",
      "1 x 10 = 10\n",
      "\n",
      "\n",
      "2 x 1 = 2\n",
      "2 x 2 = 4\n",
      "2 x 3 = 6\n",
      "2 x 4 = 8\n",
      "2 x 5 = 10\n",
      "2 x 6 = 12\n",
      "2 x 7 = 14\n",
      "2 x 8 = 16\n",
      "2 x 9 = 18\n",
      "2 x 10 = 20\n",
      "\n",
      "\n",
      "3 x 1 = 3\n",
      "3 x 2 = 6\n",
      "3 x 3 = 9\n",
      "3 x 4 = 12\n",
      "3 x 5 = 15\n",
      "3 x 6 = 18\n",
      "3 x 7 = 21\n",
      "3 x 8 = 24\n",
      "3 x 9 = 27\n",
      "3 x 10 = 30\n",
      "\n",
      "\n",
      "4 x 1 = 4\n",
      "4 x 2 = 8\n",
      "4 x 3 = 12\n",
      "4 x 4 = 16\n",
      "4 x 5 = 20\n",
      "4 x 6 = 24\n",
      "4 x 7 = 28\n",
      "4 x 8 = 32\n",
      "4 x 9 = 36\n",
      "4 x 10 = 40\n",
      "\n",
      "\n",
      "5 x 1 = 5\n",
      "5 x 2 = 10\n",
      "5 x 3 = 15\n",
      "5 x 4 = 20\n",
      "5 x 5 = 25\n",
      "5 x 6 = 30\n",
      "5 x 7 = 35\n",
      "5 x 8 = 40\n",
      "5 x 9 = 45\n",
      "5 x 10 = 50\n",
      "\n",
      "\n"
     ]
    }
   ],
   "source": [
    "# Approach - we will create two methods one to print table of number and other which call this method multiple times with numbers\n",
    "# although we can use nested for loop too - which is same as this approach but it is more cleaner to create multiple functions\n",
    " \n",
    "# Function - Take a numbers as input and print table of num - using for loop\n",
    "def print_table(n: int):\n",
    "    # Looping from 1 to 10 (11 because upper bound is exluded)\n",
    "    for multiplier in range(1, 11):\n",
    "        print(f'{n} x {multiplier} = {multiplier * n}')\n",
    "\n",
    "# Function - takes a range of numbers and print table of those numbers - using for loop\n",
    "def print_tables(range_of_nums: range):\n",
    "    for num in range_of_nums:\n",
    "        # Print table of current number\n",
    "        print_table(num)\n",
    "        # Print two empty lines after each table\n",
    "        print('\\n')\n",
    "\n",
    "# Create a range of 1 to 5 (6 is upper bound)\n",
    "numbers_range = range(1, 6)\n",
    "\n",
    "# Print table\n",
    "print_tables(numbers_range)"
   ]
  },
  {
   "cell_type": "markdown",
   "metadata": {},
   "source": [
    "### 17. Write a program that converts a list of Fahrenheit temperatures to Celsius using a `for` loop."
   ]
  },
  {
   "cell_type": "code",
   "execution_count": 11,
   "metadata": {},
   "outputs": [
    {
     "name": "stdout",
     "output_type": "stream",
     "text": [
      "List of temperature in Fahrenheit: [98, 99, 102, 104, 87]\n",
      "List of temperature in Celsius: [36.666666666666664, 37.22222222222222, 38.888888888888886, 40.0, 30.555555555555557]\n"
     ]
    }
   ],
   "source": [
    "# Formula - celsius temp = (Fahrenheit - 32) x 5 / 9\n",
    "\n",
    "# Function - takes a list of temperatures in Fahrenheit and convert it to list of temperature in celsius\n",
    "# It is inplace function\n",
    "def convert_to_celsius(list_of_fahrenheit_temp: list):\n",
    "    # iterate usng for loop\n",
    "    for index in range(len(list_of_fahrenheit_temp)):\n",
    "        temp_in_F = list_of_fahrenheit_temp[index]\n",
    "        list_of_fahrenheit_temp[index] = (temp_in_F - 32) * 5 / 9\n",
    "\n",
    "\n",
    "# Create a list of temperatures\n",
    "temperatures_list = [98, 99, 102, 104, 87]\n",
    "\n",
    "# Print temperatures in Farenheit\n",
    "print(f'List of temperature in Fahrenheit: {temperatures_list}')\n",
    "\n",
    "# Convert to celsius\n",
    "convert_to_celsius(temperatures_list)\n",
    "\n",
    "# Print\n",
    "print(f'List of temperature in Celsius: {temperatures_list}')"
   ]
  },
  {
   "cell_type": "markdown",
   "metadata": {},
   "source": [
    "### 18. Create a program to print the common elements from two lists using a `for` loop.\n"
   ]
  },
  {
   "cell_type": "code",
   "execution_count": 15,
   "metadata": {},
   "outputs": [
    {
     "name": "stdout",
     "output_type": "stream",
     "text": [
      "List 1 = [26, 13, 22, 21, 89, 16, 17]\n",
      "List 2 = [2, 17, 26, 22]\n",
      "Common elements = [26, 22, 17]\n"
     ]
    }
   ],
   "source": [
    "# Approach - \n",
    "# Although this can be done as Using for loop on elements of one list, find if that elements exists in other loop if yes then add to common list\n",
    "# but since we are asked to do using loop so using nested loop method here\n",
    "\n",
    "def find_common_elements(list_1: list, list_2: list) -> list:\n",
    "    common_elements_list = []\n",
    "\n",
    "    for element in list_1:\n",
    "        for element2 in list_2:\n",
    "            if(element == element2 and element not in common_elements_list):\n",
    "                common_elements_list.append(element)\n",
    "                break\n",
    "        \n",
    "    return common_elements_list\n",
    "\n",
    "# Create lists\n",
    "list1 = [26, 13, 22, 21, 89, 16, 17]\n",
    "list2 = [2, 17, 26, 22]\n",
    "\n",
    "\n",
    "# Find common elements\n",
    "common_elements = find_common_elements(list1, list2)\n",
    "\n",
    "# Prints\n",
    "print(f'List 1 = {list1}')\n",
    "print(f'List 2 = {list2}')\n",
    "print(f'Common elements = {common_elements}')"
   ]
  },
  {
   "cell_type": "markdown",
   "metadata": {},
   "source": [
    "### 19. Develop a program that prints the pattern of right-angled triangles using a `for` loop. Use ‘*’ to draw the pattern\n"
   ]
  },
  {
   "cell_type": "code",
   "execution_count": 23,
   "metadata": {},
   "outputs": [
    {
     "name": "stdout",
     "output_type": "stream",
     "text": [
      "Right angled triangle of level 6:\n",
      "*\n",
      "**\n",
      "***\n",
      "****\n",
      "*****\n",
      "******\n",
      "Right angled triangle of level 10:\n",
      "*\n",
      "**\n",
      "***\n",
      "****\n",
      "*****\n",
      "******\n",
      "*******\n",
      "********\n",
      "*********\n",
      "**********\n"
     ]
    }
   ],
   "source": [
    "# Fuction - takes a level as input and print right angled triangle of that level\n",
    "def print_right_angled_traingle(level: int):\n",
    "    # level + 1 because upper bound is excluded\n",
    "    for i in range(1, level + 1):\n",
    "        for j in range(0, i):\n",
    "            # Print * is same line to achieve right angled triangle\n",
    "            print('*', end='')\n",
    "        # Print stars of next iteration on next line\n",
    "        print()\n",
    "\n",
    "# Print right angled triangle of level 6\n",
    "print('Right angled triangle of level 6:')\n",
    "print_right_angled_traingle(6)\n",
    "\n",
    "# Print right angled triangle of level 10\n",
    "print('Right angled triangle of level 10:')\n",
    "print_right_angled_traingle(10)"
   ]
  },
  {
   "cell_type": "markdown",
   "metadata": {},
   "source": [
    "### 20. Write a program to find the greatest common divisor (GCD) of two numbers using a `for` loop.\n"
   ]
  },
  {
   "cell_type": "code",
   "execution_count": 30,
   "metadata": {},
   "outputs": [
    {
     "name": "stdout",
     "output_type": "stream",
     "text": [
      "Greatest common divisor of 99 and 66 is : 33\n"
     ]
    }
   ],
   "source": [
    "# GCD is also known as HCF. The highest common divisor.\n",
    "# highest number with which our two numbers are divided without remainder.\n",
    "# Since it is highest number - we will start from reverse direction - from smallest number of two towards 1 \n",
    "# although we can start from any number but to optimize we will start from smallest number\n",
    "\n",
    "def find_gcd(number1: int, number2: int) -> int:\n",
    "    # Check boundary condition\n",
    "    # If any number is zero then other number becomes gcd, because zero is divisible by anynumber\n",
    "    if number1 == 0:\n",
    "        return number2\n",
    "    elif number2 == 0:\n",
    "        return number1\n",
    "    \n",
    "    gcd = 1\n",
    "    small_num, large_num = min(number1, number2),  max(number1, number2)\n",
    "    \n",
    "    # Check if both numbers are divisible by current number if yes then return\n",
    "    for num in range(small_num, 1, -1):\n",
    "        if(large_num % num == 0 and small_num % num == 0):\n",
    "            gcd = num\n",
    "            break\n",
    "        \n",
    "    return gcd\n",
    "\n",
    "# Take input of numbers\n",
    "number_1 = int(input('Enter a number 1: '))\n",
    "number_2 = int(input('Enter a number 2: '))\n",
    "\n",
    "# Find gcd\n",
    "gcd = find_gcd(number_1, number_2)\n",
    "\n",
    "# Print result\n",
    "print(f'Greatest common divisor of {number_1} and {number_2} is : {gcd}')\n",
    "    "
   ]
  },
  {
   "cell_type": "markdown",
   "metadata": {},
   "source": [
    "# Advanced Level:"
   ]
  },
  {
   "cell_type": "markdown",
   "metadata": {},
   "source": [
    "### 21. Create a program that calculates the sum of the digits of numbers in a list using a list comprehension."
   ]
  },
  {
   "cell_type": "code",
   "execution_count": 45,
   "metadata": {},
   "outputs": [
    {
     "name": "stdout",
     "output_type": "stream",
     "text": [
      "List of sum of digits: [7, 15, 21, 8, 7, 18, 25, 6]\n"
     ]
    }
   ],
   "source": [
    "# Approach - Since we have to calculate sum of digits in numbers (for each element in list), for getting digits we have to convert number to string\n",
    "# then we get char from string and convert it back to digits and then sum it\n",
    "\n",
    "# Create a list\n",
    "list_of_numbers = [34, 546, 786, 143, 7, 99, 997, 222]\n",
    "\n",
    "# Compute sum of digits - using list comprehension\n",
    "list_of_sum_of_digits = [sum(int(char) for char in str(element)) for element in list_of_numbers]\n",
    "\n",
    "print(f'List of sum of digits: {list_of_sum_of_digits}')"
   ]
  },
  {
   "cell_type": "markdown",
   "metadata": {},
   "source": [
    "### 22. Write a program to find the prime factors of a given number using a `for` loop and list comprehension."
   ]
  },
  {
   "cell_type": "code",
   "execution_count": 10,
   "metadata": {},
   "outputs": [
    {
     "name": "stdout",
     "output_type": "stream",
     "text": [
      "Prime Factors of 315 are: [3, 5, 7]\n"
     ]
    }
   ],
   "source": [
    "# Approach - we will try to go from 2 till square root of n +1  to find the all valid factors (using list comprehension) \n",
    "# and then for each factor we check if it is prime (using for loop)\n",
    "\n",
    "import math\n",
    "# Function to check if number is prime or not - Using for loop\n",
    "# will try to divide a number from 2 to (n/2)+1 - (to optimize the function) - if number is divisible by any number the False\n",
    "def is_prime(n:int) -> bool:\n",
    "    if(n <= 1):\n",
    "        return False\n",
    "    range_num = math.floor(n/2) + 1\n",
    "    # FOR LOOP - for checking prime number or not\n",
    "    for i in range(2 , range_num):\n",
    "        if(n%i == 0):\n",
    "            return False\n",
    "    return True\n",
    "\n",
    "# Get prime factors of number - using list comprehension and for loop (for loop is used in the is_prime function)\n",
    "def get_prime_factors(num: int) -> list:\n",
    "    range_to_check = range(1, int(math.sqrt(num) + 1))\n",
    "    prime_factors = [i for i in range_to_check if (num % i == 0 and is_prime(i))]\n",
    "    return prime_factors\n",
    "\n",
    "# Take a input number\n",
    "number = int(input('Enter your number: '))\n",
    "\n",
    "# Get Prime factors\n",
    "prim_factors = get_prime_factors(number)\n",
    "\n",
    "# Print result\n",
    "print(f'Prime Factors of {number} are: {prim_factors}')"
   ]
  },
  {
   "cell_type": "markdown",
   "metadata": {},
   "source": [
    "### 23. Develop a program that extracts unique elements from a list and stores them in a new list using a list comprehension."
   ]
  },
  {
   "cell_type": "code",
   "execution_count": 11,
   "metadata": {},
   "outputs": [
    {
     "name": "stdout",
     "output_type": "stream",
     "text": [
      "Unique elements are: [2, 3, 4, 5, 6, 7, 8, 9, 99, 12, 23, 66]\n"
     ]
    }
   ],
   "source": [
    "# Create a list\n",
    "list_1 = [2, 3, 4, 5, 2, 3, 6, 7, 4, 8, 9, 99, 12, 23, 66, 99, 12, 23]\n",
    "\n",
    "# List of unique elements\n",
    "unique_elements = []\n",
    "\n",
    "# Compute unique elements - if element is not added in unique list then add it\n",
    "_ = [unique_elements.append(element) for element in list_1 if element not in unique_elements]\n",
    "\n",
    "# Print result\n",
    "print(f'Unique elements are: {unique_elements}')"
   ]
  },
  {
   "cell_type": "markdown",
   "metadata": {},
   "source": [
    "### 24. Create a program that generates a list of all palindromic numbers up to a specified limit using a list comprehension."
   ]
  },
  {
   "cell_type": "code",
   "execution_count": 12,
   "metadata": {},
   "outputs": [
    {
     "name": "stdout",
     "output_type": "stream",
     "text": [
      "Palindromic numbers are: [11, 22, 33, 44, 55, 66, 77, 88, 99, 101, 111, 121, 131, 141, 151, 161, 171, 181, 191, 202, 212, 222, 232, 242, 252, 262, 272, 282, 292, 303, 313, 323, 333, 343, 353, 363, 373, 383, 393, 404, 414, 424, 434, 444, 454, 464, 474, 484, 494, 505, 515, 525, 535, 545, 555, 565, 575, 585, 595, 606, 616, 626, 636, 646, 656, 666, 676, 686, 696, 707, 717, 727, 737, 747, 757, 767, 777, 787, 797, 808, 818, 828, 838, 848, 858, 868, 878, 888, 898, 909, 919, 929, 939, 949, 959, 969, 979, 989, 999]\n"
     ]
    }
   ],
   "source": [
    "# Approach - using list comprehension iterate on each number and check if it is palindromic, then return it\n",
    "# TO check palindromic we convert it to string and compare with reverse of string\n",
    "# Assumption - single digit numbers are not considered as palindromic, so we start from 10\n",
    "\n",
    "# Define a limit - Specific limit (let us say we want from 10 to 1000)\n",
    "range_limit = range(10, 1001)\n",
    "\n",
    "# Compute palindromic numbers in the specified limit\n",
    "palindromic_numbers = [num for num in range_limit if str(num) == str(num)[::-1]]\n",
    "\n",
    "# Print palindromic numbers\n",
    "print(f'Palindromic numbers are: {palindromic_numbers}')"
   ]
  },
  {
   "cell_type": "markdown",
   "metadata": {},
   "source": [
    "### 25. Write a program to flatten a nested list using list comprehension."
   ]
  },
  {
   "cell_type": "code",
   "execution_count": 14,
   "metadata": {},
   "outputs": [
    {
     "name": "stdout",
     "output_type": "stream",
     "text": [
      "Original list:  [[12, 3, 4], [14, 5, 6], [46, 77, 88]]\n",
      "Flat list:  [12, 3, 4, 14, 5, 6, 46, 77, 88]\n"
     ]
    }
   ],
   "source": [
    "# Approach - using list comprehension we iterate on outer and inner list and return each element from inner lists\n",
    "\n",
    "# Fnction - take nested list and return flaten list\n",
    "def flatten_list(list_input: list) -> list:\n",
    "    return [element for sub_list in list_input for element in sub_list]\n",
    "\n",
    "# Create a list\n",
    "list_1 = [[12,3,4], [14,5,6,], [46, 77, 88]]\n",
    "\n",
    "# Flatten the list\n",
    "flat_list = flatten_list(list_1)\n",
    "\n",
    "# Print\n",
    "print('Original list: ', list_1)\n",
    "print('Flat list: ', flat_list)"
   ]
  },
  {
   "cell_type": "markdown",
   "metadata": {},
   "source": [
    "### 26. Develop a program that computes the sum of even and odd numbers in a list separately using list comprehension."
   ]
  },
  {
   "cell_type": "code",
   "execution_count": 17,
   "metadata": {},
   "outputs": [
    {
     "name": "stdout",
     "output_type": "stream",
     "text": [
      "In list [1, 2, 3, 4, 5, 6, 7, 8, 9, 10, 11, 12, 13, 17], even numbers count is 6 and odd numbers count is 8\n"
     ]
    }
   ],
   "source": [
    "# Approach - we use list comprehension to compute even numbers and then once we have even count then we subtract it form len of list\n",
    "# We can also use 2 list comprehensions (1 for odd and other for even count) but that is not efficient way\n",
    "\n",
    "# Create a list\n",
    "list_of_numbers = [1, 2, 3, 4, 5, 6, 7, 8, 9, 10, 11, 12, 13, 17]\n",
    "\n",
    "# Compute number of even nmbers and odd numbers\n",
    "even_numbers_count = len([num for num in list_of_numbers if num % 2 == 0])\n",
    "odd_numbers_count = len(list_of_numbers) - even_numbers_count\n",
    "\n",
    "# Print result\n",
    "print(f'In list {list_of_numbers}, even numbers count is {even_numbers_count} and odd numbers count is {odd_numbers_count}')\n",
    "\n"
   ]
  },
  {
   "cell_type": "markdown",
   "metadata": {},
   "source": [
    "### 27. Create a program that generates a list of squares of odd numbers between 1 and 10 using list comprehension."
   ]
  },
  {
   "cell_type": "code",
   "execution_count": 18,
   "metadata": {},
   "outputs": [
    {
     "name": "stdout",
     "output_type": "stream",
     "text": [
      "Square of odd numbers from 1 to 10 : [1, 9, 25, 49, 81]\n"
     ]
    }
   ],
   "source": [
    "# Generate square of odd numbers from 1 to 10 (11 upper bound)\n",
    "list_of_square_of_odd = [num**2 for num in range(1, 11) if num % 2 != 0]\n",
    "\n",
    "# Print\n",
    "print(f'Square of odd numbers from 1 to 10 : {list_of_square_of_odd}')"
   ]
  },
  {
   "cell_type": "markdown",
   "metadata": {},
   "source": [
    "### 28. Write a program that combines two lists into a dictionary using list comprehension."
   ]
  },
  {
   "cell_type": "code",
   "execution_count": 19,
   "metadata": {},
   "outputs": [
    {
     "name": "stdout",
     "output_type": "stream",
     "text": [
      "{'a': 1, 'b': 2, 'c': 3, 'd': 4}\n"
     ]
    }
   ],
   "source": [
    "#Approach - We can use dictionary comprehension too but since we are asked to use list comprehension then we will iterate\n",
    "# and add each key and value using update funtions\n",
    "\n",
    "# Function - take 2 lists (keys and values lists) and return dict\n",
    "def combine_to_dict(list_of_keys: list, list_of_values: list) -> dict:\n",
    "    # Validation on length of lists\n",
    "    if len(list_of_keys) != len(list_of_values):\n",
    "        print('Can not merge two lists of different length.')\n",
    "\n",
    "    result = {}\n",
    "\n",
    "    _ = [ result.update({list_of_keys[i]: list_of_values[i]}) for i in range(len(list_of_keys)) ]\n",
    "\n",
    "    return result\n",
    "\n",
    "# Create two lists\n",
    "keys = ['a', 'b', 'c', 'd']\n",
    "values = [1, 2, 3, 4]\n",
    "\n",
    "# Combine to dict\n",
    "dict_output = combine_to_dict(keys, values)\n",
    "\n",
    "# Print result\n",
    "print(dict_output)"
   ]
  },
  {
   "cell_type": "markdown",
   "metadata": {},
   "source": [
    "### 29. Develop a program that extracts the vowels from a string and stores them in a list using list comprehension."
   ]
  },
  {
   "cell_type": "code",
   "execution_count": 21,
   "metadata": {},
   "outputs": [
    {
     "name": "stdout",
     "output_type": "stream",
     "text": [
      "List of vowels in \"Robin Pabbi\" are ['o', 'i', 'a', 'i']\n"
     ]
    }
   ],
   "source": [
    "# Keeping the list of vowels to check from\n",
    "VOWELS = ['a', 'e', 'i', 'o', 'u', 'A', 'E', 'I', 'O', 'U']\n",
    "\n",
    "# Create a string\n",
    "string_input = 'Robin Pabbi'\n",
    "\n",
    "# Check for vowels - using list comprehension\n",
    "vowels_in_string = [char for char in string_input if char in VOWELS]\n",
    "\n",
    "# Print\n",
    "print(f'List of vowels in \"{string_input}\" are {vowels_in_string}')"
   ]
  },
  {
   "cell_type": "markdown",
   "metadata": {},
   "source": [
    "### 30. Create a program that removes all non-numeric characters from a list of strings using list comprehension."
   ]
  },
  {
   "cell_type": "code",
   "execution_count": 23,
   "metadata": {},
   "outputs": [
    {
     "name": "stdout",
     "output_type": "stream",
     "text": [
      "Digits from string \"346Robin123 45Pabbi\" are ['3', '4', '6', '1', '2', '3', '4', '5']\n",
      "Numeric string from \"346Robin123 45Pabbi\" is 34612345\n"
     ]
    }
   ],
   "source": [
    "# Take a string\n",
    "string_input = '346Robin123 45Pabbi'\n",
    "\n",
    "# Remove non numeric characters\n",
    "result_digits = [char for char in string_input if char.isdigit()]\n",
    "result_string = ''.join(result_digits)\n",
    "\n",
    "# Print\n",
    "print(f'Digits from string \"{string_input}\" are {result_digits}')\n",
    "print(f'Numeric string from \"{string_input}\" is {result_string}')"
   ]
  },
  {
   "cell_type": "markdown",
   "metadata": {},
   "source": [
    "# Challenge Level:"
   ]
  },
  {
   "cell_type": "markdown",
   "metadata": {},
   "source": [
    "\n",
    "### 31. Write a program to generate a list of prime numbers using the Sieve of Eratosthenes algorithm and list comprehension.\n",
    "\n",
    "> https://en.wikipedia.org/wiki/Sieve_of_Eratosthenes \n",
    "\n",
    "To find all the prime numbers less than or equal to a given integer n by Eratosthenes' method:\n",
    "\n",
    "* Create a list of consecutive integers from 2 through n: (2, 3, 4, ..., n).\n",
    "* Initially, let p equal 2, the smallest prime number.\n",
    "* Enumerate the multiples of p by counting in increments of p from 2p to n, and mark them in the list (these will be 2p, 3p, 4p, ...; the p itself should not be marked).\n",
    "* Find the smallest number in the list greater than p that is not marked. If there was no such number, stop. Otherwise, let p now equal this new number (which is the next prime), and repeat from step 3.\n",
    "* When the algorithm terminates, the numbers remaining not marked in the list are all the primes below n."
   ]
  },
  {
   "cell_type": "code",
   "execution_count": 47,
   "metadata": {},
   "outputs": [
    {
     "name": "stdout",
     "output_type": "stream",
     "text": [
      "[2, 3, 5, 7, 11, 13, 17, 19, 23, 29, 31, 37, 41, 43, 47]\n"
     ]
    }
   ],
   "source": [
    "# Appraoch - We go from 2 to wards (sqrt of n) + 1 - then mark multiples of each number\n",
    "# then get unique marked numbers and find difference from all numbers using set\n",
    "\n",
    "import math\n",
    "\n",
    "def get_list_of_prime_numbers(highest_num: int) -> list:\n",
    "    # Below code is to mark all non prime numbers - starting from multiples of 2 till sqrt of number - USing LIST COmprehension\n",
    "    marked_multiples_set = set([i for consec_num in range(2, int(math.sqrt(highest_num) + 1)) for i in range(consec_num*2, highest_num+1, consec_num)])\n",
    "    # Remove marked multiples from 2 to number\n",
    "    prime_numbers_set = set(range(2, highest_num+1)) - marked_multiples_set\n",
    "    # Return the list\n",
    "    return sorted(list(prime_numbers_set))\n",
    "\n",
    "# Get list of primes till 50\n",
    "prime_numbers = get_list_of_prime_numbers(50)\n",
    "\n",
    "# Print\n",
    "print(prime_numbers)"
   ]
  },
  {
   "cell_type": "markdown",
   "metadata": {},
   "source": [
    "### 32. Create a program that generates a list of all Pythagorean triplets up to a specified limit using list comprehension."
   ]
  },
  {
   "cell_type": "code",
   "execution_count": 50,
   "metadata": {},
   "outputs": [
    {
     "name": "stdout",
     "output_type": "stream",
     "text": [
      "Max length of each edge is  15\n",
      "Matching Pythagorean triplets list is: [(3, 4, 5), (5, 12, 13), (6, 8, 10), (9, 12, 15)]\n"
     ]
    }
   ],
   "source": [
    "# Pythagoras formula, if three sides are a,b,c - a and b meet at 90 degree then c = sqrt(a**2 + b**2)\n",
    "# Approach - we want to find all combination of a and b where above formula holds true and a,b,c are in specified limit\n",
    "# Using list comprehension iterate on a, b and c numbers from given limit 1 to n (n+1 to include n in range)\n",
    "# and check if sqrt of a**2 + b**2 is equal to c \n",
    "# we will use tuple to include triplets, so result will be list of tuples\n",
    "# Assumption - Value of C has to be int and fall in the given specified limit\n",
    "\n",
    "import math\n",
    "\n",
    "# Take a input number\n",
    "max_edge = int(input('Enter the max size for triangle edges:'))\n",
    "\n",
    "# Create pythagorean triplets - if we want repeating triplets like (3,4,5) and (4,3,5) then use range(1, max_edge +1) for each loop\n",
    "pythagorean_triplets_list = [ (edge_a, edge_b, edge_c) for edge_a in range(1, max_edge + 1)\n",
    "                              for edge_b in range(edge_a, max_edge + 1)\n",
    "                              for edge_c in range(edge_b, max_edge + 1)\n",
    "                              if math.sqrt((edge_a**2 + edge_b**2)) == edge_c]\n",
    "\n",
    "# Print the list of triplets\n",
    "print('Max length of each edge is ', max_edge)\n",
    "print(f'Matching Pythagorean triplets list is: {pythagorean_triplets_list}')"
   ]
  },
  {
   "cell_type": "markdown",
   "metadata": {},
   "source": [
    "### 33. Develop a program that generates a list of all possible combinations of two lists using list comprehension."
   ]
  },
  {
   "cell_type": "code",
   "execution_count": 51,
   "metadata": {},
   "outputs": [
    {
     "name": "stdout",
     "output_type": "stream",
     "text": [
      "[[1, 'a'], [1, 'b'], [1, 'c'], [2, 'a'], [2, 'b'], [2, 'c'], [3, 'a'], [3, 'b'], [3, 'c']]\n"
     ]
    }
   ],
   "source": [
    "# Function - takes two lists and create list of lists (list has of all possible combinations in inner lists)\n",
    "def generate_all_combinations(list1: list, list2: list) -> list:\n",
    "    combinations = [[element1, element2] for element1 in list1\n",
    "                    for element2 in list2]\n",
    "    \n",
    "    return combinations\n",
    "\n",
    "# Create a lists\n",
    "list_1 = [1,2,3]\n",
    "list_2 = ['a', 'b', 'c']\n",
    "\n",
    "# Generate all combinations\n",
    "all_combinations = generate_all_combinations(list_1, list_2)\n",
    "\n",
    "# Print\n",
    "print(all_combinations)"
   ]
  },
  {
   "cell_type": "markdown",
   "metadata": {},
   "source": [
    "### 34. Write a program that calculates the mean, median, and mode of a list of numbers using list comprehension."
   ]
  },
  {
   "cell_type": "code",
   "execution_count": 8,
   "metadata": {},
   "outputs": [
    {
     "name": "stdout",
     "output_type": "stream",
     "text": [
      "MEAN of [1, 2, 3, 4, 4, 5, 5, 6, 6, 6, 6, 7, 7, 8] is 5.0\n",
      "MEDIAN of [1, 2, 3, 4, 4, 5, 5, 6, 6, 6, 6, 7, 7, 8] is 5.5\n",
      "MODE of [1, 2, 3, 4, 4, 5, 5, 6, 6, 6, 6, 7, 7, 8] is 6\n"
     ]
    }
   ],
   "source": [
    "sum_of_elements = 0\n",
    "count_of_elements = 0\n",
    "\n",
    "# Function - take a element (n) as input and keeps the sum of elements passed and count of elements passed in global variables\n",
    "def sum_and_count(n: int):\n",
    "    global sum_of_elements\n",
    "    global count_of_elements\n",
    "\n",
    "    sum_of_elements += n\n",
    "    count_of_elements += 1\n",
    "\n",
    "# Create a list\n",
    "list_1 = [1,2,3,4,4,5,5,6,6,6,6,7,7,8]\n",
    "\n",
    "''' MEAN\n",
    "\n",
    "# MEAN using list comprehension - Mean = Average of list  \n",
    "# Note- Although we can simplly do it using sum and len functions (sum(list_1)/len(list_1)) but we are using list comprehension as being asked\n",
    "\n",
    "# Approach - we use list comprehension to count the elements and sum of elements\n",
    "# then we divide sum of elements with count\n",
    "# sum_and_count function is called each time which take sum of elements and '''\n",
    "_ = [sum_and_count(num) for num in list_1]\n",
    "mean = sum_of_elements/count_of_elements\n",
    "\n",
    "'''# MEDIAN\n",
    "# Median is center most element in the sorted list - for even number of elements it is average of n/2th and (n/2+1)th element, for odd it is (n+1)/2th element\n",
    "\n",
    "# since we already know the count of elements from above (using list comprehension) we will reuse it'''\n",
    "median = 0\n",
    "list_1 = sorted(list_1)\n",
    "\n",
    "index = count_of_elements//2\n",
    "if count_of_elements%2 == 0:\n",
    "    # Case of even numbers of elements \n",
    "    # Sum of center two elements using list comprehension [although we can use it simply but as asked so using list comprehension]\n",
    "    # index+1 - because upper bound is excluded\n",
    "    sum_of_center_two_elements = sum([list_1[i] for i in range(index-1, index+1)])\n",
    "    median = sum_of_center_two_elements/2\n",
    "else:\n",
    "    # case of odd numbers of elements\n",
    "    median = list_1[index]\n",
    "\n",
    "# Mode - mode is an element which occured most of times in the list\n",
    "\n",
    "# Since we have to use list comprehension so we use counter \n",
    "from collections import Counter\n",
    "\n",
    "def mode_of_list(list_input: list):\n",
    "    countr = Counter(list_input)\n",
    "    # using list comprehension - most_common return list of tuples\n",
    "    return [key for key, value in countr.items() if value == countr.most_common(1)[0][1]]\n",
    "\n",
    "mode = mode_of_list(list_1)[0]\n",
    "\n",
    "# prints\n",
    "print(f'MEAN of {list_1} is {mean}')\n",
    "print(f'MEDIAN of {list_1} is {median}')\n",
    "print(f'MODE of {list_1} is {mode}')\n"
   ]
  },
  {
   "cell_type": "markdown",
   "metadata": {},
   "source": [
    "### 35. Create a program that generates Pascal's triangle up to a specified number of rows using list comprehension.\n",
    "\n",
    ">Pascal's triangle is the triangular array of numbers that begins with 1 on the top and with 1's running down the two sides of a triangle.\n",
    "\n",
    ">In mathematics, Pascal's triangle is a triangular array of the binomial coefficients arising in probability theory, combinatorics, and algebra.\n",
    "\n",
    "\n",
    "      1\n",
    "     1 1\n",
    "    1 2 1\n",
    "\n",
    "#### Pascal's triangle formula\n",
    "For each level (height) 'h' and number 'i' from 0 to h (basically these are our columns in triangle)\n",
    "> factorial(h) / (factorial(i) * factorial(h-i))"
   ]
  },
  {
   "cell_type": "code",
   "execution_count": 17,
   "metadata": {},
   "outputs": [
    {
     "data": {
      "text/plain": [
       "[[1],\n",
       " [1, 1],\n",
       " [1, 2, 1],\n",
       " [1, 3, 3, 1],\n",
       " [1, 4, 6, 4, 1],\n",
       " [1, 5, 10, 10, 5, 1],\n",
       " [1, 6, 15, 20, 15, 6, 1],\n",
       " [1, 7, 21, 35, 35, 21, 7, 1],\n",
       " [1, 8, 28, 56, 70, 56, 28, 8, 1],\n",
       " [1, 9, 36, 84, 126, 126, 84, 36, 9, 1]]"
      ]
     },
     "execution_count": 17,
     "metadata": {},
     "output_type": "execute_result"
    }
   ],
   "source": [
    "# We can create our own factorial function as done in previous assignments\n",
    "# but we are using inbuilt function to be efficient\n",
    "from math import factorial\n",
    "\n",
    "# Take a input for height of the triangle\n",
    "height_of_triangle = int(input('Enter a height of triangle: '))\n",
    "\n",
    "# Approach -\n",
    "# Since we have to use list compresion - we run two loops - one for height (0 to entered height of triangle)\n",
    "# and inner loop for columns (values in row) 'i' from 0 to current height then we get value \n",
    "\n",
    "pascal_traingle = [[factorial(n) // (factorial(k) * factorial(n - k)) \n",
    "                    for k in range(n+1)]\n",
    "                    for n in range(height_of_triangle)]\n",
    "\n",
    "# check traingle\n",
    "pascal_traingle"
   ]
  },
  {
   "cell_type": "markdown",
   "metadata": {},
   "source": [
    "### 36. Develop a program that calculates the sum of the digits of a factorial of numbers from 1 to 5 using list comprehension."
   ]
  },
  {
   "cell_type": "code",
   "execution_count": 19,
   "metadata": {},
   "outputs": [
    {
     "name": "stdout",
     "output_type": "stream",
     "text": [
      "List of factorial is : [1, 2, 6, 24, 120]\n",
      "Sum of digits of factorial is : [1, 2, 6, 6, 3]\n"
     ]
    }
   ],
   "source": [
    "# We can create our own factorial function as done in previous assignments\n",
    "# but we are using inbuilt function to be efficient\n",
    "from math import factorial\n",
    "\n",
    "list_of_factorials = [ factorial(num) for num in range(1,6)]\n",
    "\n",
    "# Approach - for each number from 1 to 5\n",
    "# Calculate factorial and convert it to string\n",
    "# then usinf innee list comprehension loop on character and convert it to int and find sum of eacg digit from char\n",
    "sum_of_factorial_digits = [ sum([ int(digit) for digit in str(factorial(num))]) for num in range(1,6)]\n",
    "\n",
    "# Print result\n",
    "print(f'List of factorial is : {list_of_factorials}')\n",
    "print(f'Sum of digits of factorial is : {sum_of_factorial_digits}')"
   ]
  },
  {
   "cell_type": "markdown",
   "metadata": {},
   "source": [
    "### 37. Write a program that finds the longest word in a sentence using list comprehension."
   ]
  },
  {
   "cell_type": "code",
   "execution_count": 25,
   "metadata": {},
   "outputs": [
    {
     "name": "stdout",
     "output_type": "stream",
     "text": [
      "Sentence entered is: \"My name is Robin Pabbi. I am a software developer with 13 years of experience\"\n",
      "Longest words are:  ['experience']\n"
     ]
    }
   ],
   "source": [
    "# Approach - convert string into list of words using split and then find maximum length of word\n",
    "# Using LIST COMPREHENSION return list of words which have maximum length\n",
    "\n",
    "# Function - takes a string (sentence) and return list of longest words (can be 1 or more depending if there are more than 1 of same max length)\n",
    "def get_longest_words(sentence: str) -> list:\n",
    "    list_of_words = sentence.split(' ')\n",
    "    # using list comprehension get max\n",
    "    max_length = max([len(word) for word in list_of_words])\n",
    "\n",
    "    # Get words of max_length\n",
    "    longest_words = [word for word in list_of_words if len(word) == max_length]\n",
    "\n",
    "    return longest_words\n",
    "\n",
    "# Get sentence input\n",
    "sentence = input('Enter your sentence here:')\n",
    "\n",
    "# Get  longest words\n",
    "longest_words = get_longest_words(sentence)\n",
    "\n",
    "# Prints\n",
    "print(f'Sentence entered is: \"{sentence}\"')\n",
    "print(f'Longest words are: ', longest_words)\n"
   ]
  },
  {
   "cell_type": "markdown",
   "metadata": {},
   "source": [
    "### 38. Create a program that filters a list of strings to include only those with more than three vowels using list comprehension."
   ]
  },
  {
   "cell_type": "code",
   "execution_count": 26,
   "metadata": {},
   "outputs": [
    {
     "name": "stdout",
     "output_type": "stream",
     "text": [
      "Strings with more than 3 vowels are : ['Robin Pabbi', 'Artificial Intelligence']\n"
     ]
    }
   ],
   "source": [
    "# Keeping the list of vowels to check from\n",
    "VOWELS = ['a', 'e', 'i', 'o', 'u', 'A', 'E', 'I', 'O', 'U']\n",
    "\n",
    "# Function to check count of Vowels \n",
    "# Here we iterate in string for each char and check if exists in the VOWELS then add 1 to count\n",
    "def count_vowels(string_to_check:str) -> int:\n",
    "  count:int = 0\n",
    "  for char in string_to_check:\n",
    "    if char in VOWELS:\n",
    "        count += 1\n",
    "  return count\n",
    "\n",
    "# Create a list of strings\n",
    "list_of_strings = ['Robin Pabbi', 'Artificial Intelligence', 'ML', 'DL', 'RObin', 'PWSKills', 'Pabbi']\n",
    "\n",
    "# \n",
    "list_of_string_more_than_3_vowels = [string  for string in list_of_strings if count_vowels(string) > 3]\n",
    "\n",
    "# Print\n",
    "print(f'Strings with more than 3 vowels are : {list_of_string_more_than_3_vowels}')"
   ]
  },
  {
   "cell_type": "markdown",
   "metadata": {},
   "source": [
    "### 39. Develop a program that calculates the sum of the digits of numbers from 1 to 1000 using list comprehension."
   ]
  },
  {
   "cell_type": "code",
   "execution_count": 23,
   "metadata": {},
   "outputs": [
    {
     "name": "stdout",
     "output_type": "stream",
     "text": [
      "[1, 2, 3, 4, 5, 6, 7, 8, 9, 1, 2, 3, 4, 5, 6, 7, 8, 9, 10, 2, 3, 4, 5, 6, 7, 8, 9, 10, 11, 3, 4, 5, 6, 7, 8, 9, 10, 11, 12, 4, 5, 6, 7, 8, 9, 10, 11, 12, 13, 5, 6, 7, 8, 9, 10, 11, 12, 13, 14, 6, 7, 8, 9, 10, 11, 12, 13, 14, 15, 7, 8, 9, 10, 11, 12, 13, 14, 15, 16, 8, 9, 10, 11, 12, 13, 14, 15, 16, 17, 9, 10, 11, 12, 13, 14, 15, 16, 17, 18, 1, 2, 3, 4, 5, 6, 7, 8, 9, 10, 2, 3, 4, 5, 6, 7, 8, 9, 10, 11, 3, 4, 5, 6, 7, 8, 9, 10, 11, 12, 4, 5, 6, 7, 8, 9, 10, 11, 12, 13, 5, 6, 7, 8, 9, 10, 11, 12, 13, 14, 6, 7, 8, 9, 10, 11, 12, 13, 14, 15, 7, 8, 9, 10, 11, 12, 13, 14, 15, 16, 8, 9, 10, 11, 12, 13, 14, 15, 16, 17, 9, 10, 11, 12, 13, 14, 15, 16, 17, 18, 10, 11, 12, 13, 14, 15, 16, 17, 18, 19, 2, 3, 4, 5, 6, 7, 8, 9, 10, 11, 3, 4, 5, 6, 7, 8, 9, 10, 11, 12, 4, 5, 6, 7, 8, 9, 10, 11, 12, 13, 5, 6, 7, 8, 9, 10, 11, 12, 13, 14, 6, 7, 8, 9, 10, 11, 12, 13, 14, 15, 7, 8, 9, 10, 11, 12, 13, 14, 15, 16, 8, 9, 10, 11, 12, 13, 14, 15, 16, 17, 9, 10, 11, 12, 13, 14, 15, 16, 17, 18, 10, 11, 12, 13, 14, 15, 16, 17, 18, 19, 11, 12, 13, 14, 15, 16, 17, 18, 19, 20, 3, 4, 5, 6, 7, 8, 9, 10, 11, 12, 4, 5, 6, 7, 8, 9, 10, 11, 12, 13, 5, 6, 7, 8, 9, 10, 11, 12, 13, 14, 6, 7, 8, 9, 10, 11, 12, 13, 14, 15, 7, 8, 9, 10, 11, 12, 13, 14, 15, 16, 8, 9, 10, 11, 12, 13, 14, 15, 16, 17, 9, 10, 11, 12, 13, 14, 15, 16, 17, 18, 10, 11, 12, 13, 14, 15, 16, 17, 18, 19, 11, 12, 13, 14, 15, 16, 17, 18, 19, 20, 12, 13, 14, 15, 16, 17, 18, 19, 20, 21, 4, 5, 6, 7, 8, 9, 10, 11, 12, 13, 5, 6, 7, 8, 9, 10, 11, 12, 13, 14, 6, 7, 8, 9, 10, 11, 12, 13, 14, 15, 7, 8, 9, 10, 11, 12, 13, 14, 15, 16, 8, 9, 10, 11, 12, 13, 14, 15, 16, 17, 9, 10, 11, 12, 13, 14, 15, 16, 17, 18, 10, 11, 12, 13, 14, 15, 16, 17, 18, 19, 11, 12, 13, 14, 15, 16, 17, 18, 19, 20, 12, 13, 14, 15, 16, 17, 18, 19, 20, 21, 13, 14, 15, 16, 17, 18, 19, 20, 21, 22, 5, 6, 7, 8, 9, 10, 11, 12, 13, 14, 6, 7, 8, 9, 10, 11, 12, 13, 14, 15, 7, 8, 9, 10, 11, 12, 13, 14, 15, 16, 8, 9, 10, 11, 12, 13, 14, 15, 16, 17, 9, 10, 11, 12, 13, 14, 15, 16, 17, 18, 10, 11, 12, 13, 14, 15, 16, 17, 18, 19, 11, 12, 13, 14, 15, 16, 17, 18, 19, 20, 12, 13, 14, 15, 16, 17, 18, 19, 20, 21, 13, 14, 15, 16, 17, 18, 19, 20, 21, 22, 14, 15, 16, 17, 18, 19, 20, 21, 22, 23, 6, 7, 8, 9, 10, 11, 12, 13, 14, 15, 7, 8, 9, 10, 11, 12, 13, 14, 15, 16, 8, 9, 10, 11, 12, 13, 14, 15, 16, 17, 9, 10, 11, 12, 13, 14, 15, 16, 17, 18, 10, 11, 12, 13, 14, 15, 16, 17, 18, 19, 11, 12, 13, 14, 15, 16, 17, 18, 19, 20, 12, 13, 14, 15, 16, 17, 18, 19, 20, 21, 13, 14, 15, 16, 17, 18, 19, 20, 21, 22, 14, 15, 16, 17, 18, 19, 20, 21, 22, 23, 15, 16, 17, 18, 19, 20, 21, 22, 23, 24, 7, 8, 9, 10, 11, 12, 13, 14, 15, 16, 8, 9, 10, 11, 12, 13, 14, 15, 16, 17, 9, 10, 11, 12, 13, 14, 15, 16, 17, 18, 10, 11, 12, 13, 14, 15, 16, 17, 18, 19, 11, 12, 13, 14, 15, 16, 17, 18, 19, 20, 12, 13, 14, 15, 16, 17, 18, 19, 20, 21, 13, 14, 15, 16, 17, 18, 19, 20, 21, 22, 14, 15, 16, 17, 18, 19, 20, 21, 22, 23, 15, 16, 17, 18, 19, 20, 21, 22, 23, 24, 16, 17, 18, 19, 20, 21, 22, 23, 24, 25, 8, 9, 10, 11, 12, 13, 14, 15, 16, 17, 9, 10, 11, 12, 13, 14, 15, 16, 17, 18, 10, 11, 12, 13, 14, 15, 16, 17, 18, 19, 11, 12, 13, 14, 15, 16, 17, 18, 19, 20, 12, 13, 14, 15, 16, 17, 18, 19, 20, 21, 13, 14, 15, 16, 17, 18, 19, 20, 21, 22, 14, 15, 16, 17, 18, 19, 20, 21, 22, 23, 15, 16, 17, 18, 19, 20, 21, 22, 23, 24, 16, 17, 18, 19, 20, 21, 22, 23, 24, 25, 17, 18, 19, 20, 21, 22, 23, 24, 25, 26, 9, 10, 11, 12, 13, 14, 15, 16, 17, 18, 10, 11, 12, 13, 14, 15, 16, 17, 18, 19, 11, 12, 13, 14, 15, 16, 17, 18, 19, 20, 12, 13, 14, 15, 16, 17, 18, 19, 20, 21, 13, 14, 15, 16, 17, 18, 19, 20, 21, 22, 14, 15, 16, 17, 18, 19, 20, 21, 22, 23, 15, 16, 17, 18, 19, 20, 21, 22, 23, 24, 16, 17, 18, 19, 20, 21, 22, 23, 24, 25, 17, 18, 19, 20, 21, 22, 23, 24, 25, 26, 18, 19, 20, 21, 22, 23, 24, 25, 26, 27, 1]\n"
     ]
    }
   ],
   "source": [
    "# LIST of sum of digits \n",
    "\n",
    "# Approach = using list comprehension iterate on each num from  1 to 1000 (1001 upper bound)\n",
    "# then using sum function in which again we pass the list comprehension (converting num to string and itergating on character and converting to int)\n",
    "list_of_sum_of_digits = [ sum([int(char_digit) for char_digit in str(num)]) for num in range(1, 1001)]\n",
    "\n",
    "# Print\n",
    "print(list_of_sum_of_digits)"
   ]
  },
  {
   "cell_type": "markdown",
   "metadata": {},
   "source": [
    "### 40. Write a program that generates a list of prime palindromic numbers using list comprehension."
   ]
  },
  {
   "cell_type": "code",
   "execution_count": 27,
   "metadata": {},
   "outputs": [
    {
     "name": "stdout",
     "output_type": "stream",
     "text": [
      "Prime Palindromic numbers are: [11, 101, 131, 151, 181, 191, 313, 353, 373, 383, 727, 757, 787, 797, 919, 929]\n"
     ]
    }
   ],
   "source": [
    "# Approach - using list comprehension iterate on each number and check if it is palindromic and check if prime then return it\n",
    "# TO check palindromic we convert it to string and compare with reverse of string\n",
    "# Assumption - single digit numbers are not considered as palindromic, so we start from 10\n",
    "\n",
    "import math\n",
    "# Function to check if number is prime or not \n",
    "# will try to divide a number from 2 to (n/2)+1 - (to optimize the function) - if number is divisible by any number the False\n",
    "def is_prime(n:int) -> bool:\n",
    "    if(n <= 1):\n",
    "        return False\n",
    "    range_num = math.floor(n/2) + 1\n",
    "    # FOR LOOP - for checking prime number or not\n",
    "    for i in range(2 , range_num):\n",
    "        if(n%i == 0):\n",
    "            return False\n",
    "    return True\n",
    "\n",
    "# Define a limit - Specific limit (let us say we want from 10 to 1000)\n",
    "range_limit = range(10, 1001)\n",
    "\n",
    "# Compute prime and palindromic numbers in the specified limit - USING LIST COMPREHENSION\n",
    "prime_palindromic_numbers = [num for num in range_limit if is_prime(num) and str(num) == str(num)[::-1]]\n",
    "\n",
    "# Print prime palindromic numbers\n",
    "print(f'Prime Palindromic numbers are: {prime_palindromic_numbers}')"
   ]
  }
 ],
 "metadata": {
  "kernelspec": {
   "display_name": "base",
   "language": "python",
   "name": "python3"
  },
  "language_info": {
   "codemirror_mode": {
    "name": "ipython",
    "version": 3
   },
   "file_extension": ".py",
   "mimetype": "text/x-python",
   "name": "python",
   "nbconvert_exporter": "python",
   "pygments_lexer": "ipython3",
   "version": "3.11.4"
  },
  "orig_nbformat": 4
 },
 "nbformat": 4,
 "nbformat_minor": 2
}
