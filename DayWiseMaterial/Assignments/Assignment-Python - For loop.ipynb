{
 "cells": [
  {
   "cell_type": "markdown",
   "metadata": {},
   "source": [
    "# Basic Level:"
   ]
  },
  {
   "cell_type": "markdown",
   "metadata": {},
   "source": [
    "### 1. Write a Python program to print the numbers from 1 to 10 using a `for` loop."
   ]
  },
  {
   "cell_type": "code",
   "execution_count": 1,
   "metadata": {},
   "outputs": [
    {
     "name": "stdout",
     "output_type": "stream",
     "text": [
      "1\n",
      "2\n",
      "3\n",
      "4\n",
      "5\n",
      "6\n",
      "7\n",
      "8\n",
      "9\n",
      "10\n"
     ]
    }
   ],
   "source": [
    "# Loop from 1 to 10 and print number\n",
    "for num in range(1, 11):\n",
    "    print(num)"
   ]
  },
  {
   "cell_type": "markdown",
   "metadata": {},
   "source": [
    "### 2. Create a program that calculates the sum of all numbers in a list using a `for` loop."
   ]
  },
  {
   "cell_type": "code",
   "execution_count": 4,
   "metadata": {},
   "outputs": [
    {
     "name": "stdout",
     "output_type": "stream",
     "text": [
      " Sum of elements of list : 141\n"
     ]
    }
   ],
   "source": [
    "def calculate_sum_using_loop(list_inpt: list) -> int:\n",
    "    sum_of_list = 0\n",
    "    # loop on the list and add sum of previous elements and the current number\n",
    "    for num in list_inpt:\n",
    "        sum_of_list += num\n",
    "    \n",
    "    return sum_of_list\n",
    "\n",
    "# Create a list\n",
    "list_1 = [3, 4, 5, 6, 7, 8, 9, 99]\n",
    "\n",
    "# Get sum\n",
    "sum_of_elements = calculate_sum_using_loop(list_1)\n",
    "\n",
    "# Print sum\n",
    "print(f' Sum of elements of list : {sum_of_elements}')"
   ]
  },
  {
   "cell_type": "markdown",
   "metadata": {},
   "source": [
    "### 3. Write a program to print the characters of a string in reverse order using a `for` loop."
   ]
  },
  {
   "cell_type": "code",
   "execution_count": 7,
   "metadata": {},
   "outputs": [
    {
     "name": "stdout",
     "output_type": "stream",
     "text": [
      "i\n",
      "b\n",
      "b\n",
      "a\n",
      "P\n",
      "n\n",
      "i\n",
      "b\n",
      "o\n",
      "R\n"
     ]
    }
   ],
   "source": [
    "# Function - takes string input and print characters separately in reverse\n",
    "def print_string_characters_in_reverse(string_input: str)-> None:\n",
    "    str_length = len(string_input)\n",
    "\n",
    "    for index in range(str_length, 0, -1):\n",
    "        # Here we are using normal print (print in separate line)\n",
    "        # to print in same line we can use end='' in print\n",
    "        print(string_input[index-1])\n",
    "\n",
    "# Create a string\n",
    "string_1 = 'RobinPabbi'\n",
    "\n",
    "# Print the characters in reverse\n",
    "print_string_characters_in_reverse(string_1)"
   ]
  },
  {
   "cell_type": "markdown",
   "metadata": {},
   "source": [
    "### 4. Develop a program that finds the factorial of a given number using a `for` loop."
   ]
  },
  {
   "cell_type": "code",
   "execution_count": 2,
   "metadata": {},
   "outputs": [
    {
     "name": "stdout",
     "output_type": "stream",
     "text": [
      "Factorial of 5 is = 120\n"
     ]
    }
   ],
   "source": [
    "# Factorial of n = n * (n-1) * (n-2) ..... * 1\n",
    "\n",
    "# Function - takes n number as input and return factorial of n (using for loop)\n",
    "def factorial_of_num(n: int) -> int | None:\n",
    "    # Check boundary condition - assumption is n has to be greater than equal to 1\n",
    "    if n <= 0:\n",
    "        print('Error: Number can not be less than 1')\n",
    "\n",
    "    factorial = 1\n",
    "    # looping on range from 1 to n (n+1 because n+1 is excluded)\n",
    "    for num in range(1, n+1):\n",
    "        factorial *= num\n",
    "    \n",
    "    return factorial\n",
    "\n",
    "# Take an input from user\n",
    "number = int(input('Enter a number whose factorial is to be calculated: '))\n",
    "\n",
    "# Get Factorial\n",
    "factorial = factorial_of_num(number)\n",
    "\n",
    "# Print\n",
    "print(f'Factorial of {number} is = {factorial}')"
   ]
  },
  {
   "cell_type": "markdown",
   "metadata": {},
   "source": [
    "### 5. Create a program to print the multiplication table of a given number using a `for` loop."
   ]
  },
  {
   "cell_type": "code",
   "execution_count": 3,
   "metadata": {},
   "outputs": [
    {
     "name": "stdout",
     "output_type": "stream",
     "text": [
      "6 x 1 = 6\n",
      "6 x 2 = 12\n",
      "6 x 3 = 18\n",
      "6 x 4 = 24\n",
      "6 x 5 = 30\n",
      "6 x 6 = 36\n",
      "6 x 7 = 42\n",
      "6 x 8 = 48\n",
      "6 x 9 = 54\n",
      "6 x 10 = 60\n"
     ]
    }
   ],
   "source": [
    "# Function - Take a numbers as input and print table of num\n",
    "def print_table(n: int):\n",
    "    # Looping from 1 to 10 (11 because upper bound is exluded)\n",
    "    for multiplier in range(1, 11):\n",
    "        print(f'{n} x {multiplier} = {multiplier * n}')\n",
    "\n",
    "# Take a number input from the user\n",
    "number = int(input('Enter a number whose table is to be printed: '))\n",
    "\n",
    "# Print table\n",
    "print_table(number)"
   ]
  },
  {
   "cell_type": "markdown",
   "metadata": {},
   "source": [
    "### 6. Write a program that counts the number of even and odd numbers in a list using a `for` loop."
   ]
  },
  {
   "cell_type": "code",
   "execution_count": 4,
   "metadata": {},
   "outputs": [
    {
     "name": "stdout",
     "output_type": "stream",
     "text": [
      "Count of Even numbers = 6 and count of odd numbers = 5\n"
     ]
    }
   ],
   "source": [
    "# Function - Takes list and return count of even numbers and odd number\n",
    "def count_even_and_odd_numbers(list_of_numbers: list):\n",
    "    even_num_count = 0\n",
    "    odd_num_count = 0\n",
    "\n",
    "    # Iterating on list using for loop\n",
    "    for num in list_of_numbers:\n",
    "        # If even add to count of even else to odd\n",
    "        if (num % 2) == 0:\n",
    "            even_num_count += 1\n",
    "        else:\n",
    "            odd_num_count += 1\n",
    "    \n",
    "    return even_num_count, odd_num_count\n",
    "\n",
    "\n",
    "# Create a list of numbers\n",
    "list_of_nums = [2, 3, 4, 5, 6, 77, 54, 56, 57, 78, 99]\n",
    "\n",
    "# COunt number of evens and odds\n",
    "count_of_even_num, count_of_odd_num = count_even_and_odd_numbers(list_of_nums)\n",
    "\n",
    "# Print result\n",
    "print(f'Count of Even numbers = {count_of_even_num} and count of odd numbers = {count_of_odd_num}')"
   ]
  },
  {
   "cell_type": "markdown",
   "metadata": {},
   "source": [
    "### 7. Develop a program that prints the squares of numbers from 1 to 5 using a `for` loop."
   ]
  },
  {
   "cell_type": "code",
   "execution_count": 5,
   "metadata": {},
   "outputs": [
    {
     "name": "stdout",
     "output_type": "stream",
     "text": [
      "Square of 1 = 1\n",
      "Square of 2 = 4\n",
      "Square of 3 = 9\n",
      "Square of 4 = 16\n",
      "Square of 5 = 25\n"
     ]
    }
   ],
   "source": [
    "# Print square of 1 to 5, loop from 1 to 5 (upper bound 6)\n",
    "for num in range(1, 6):\n",
    "    print(f'Square of {num} = {num**2}')"
   ]
  },
  {
   "cell_type": "markdown",
   "metadata": {},
   "source": [
    "### 8. Create a program to find the length of a string without using the `len()` function."
   ]
  },
  {
   "cell_type": "code",
   "execution_count": 6,
   "metadata": {},
   "outputs": [
    {
     "name": "stdout",
     "output_type": "stream",
     "text": [
      "Length of string \"Robin Pabbi\" = 11\n"
     ]
    }
   ],
   "source": [
    "# Function with code of finding length of string using for loop\n",
    "def length(string_input: str) -> int:\n",
    "  count = 0\n",
    "  for char in string_input:\n",
    "    count += 1\n",
    "  return count\n",
    "\n",
    "# Take a string input from user\n",
    "string_input = input('Enter your string here: ')\n",
    "\n",
    "# Compute length without using len function\n",
    "length_of_str = length(string_input)\n",
    "\n",
    "# Print result\n",
    "print(f'Length of string \"{string_input}\" = {length_of_str}')"
   ]
  },
  {
   "cell_type": "markdown",
   "metadata": {},
   "source": [
    "### 9. Write a program that calculates the average of a list of numbers using a `for` loop."
   ]
  },
  {
   "cell_type": "code",
   "execution_count": 10,
   "metadata": {},
   "outputs": [
    {
     "name": "stdout",
     "output_type": "stream",
     "text": [
      "Average of numbers of \"[1, 2, 3, 4, 15, 6]\" = 5.166666666666666\n"
     ]
    }
   ],
   "source": [
    "# Approach - calculates the average of the numbers in the list using summing each num divided by length\n",
    "# either take sum and divide or divide each num and then sum it\n",
    "\n",
    "# Function - take a list of numbers as input and return average num\n",
    "def calculate_average(list_of_numbers: list) -> float:\n",
    "    length_of_list = len(list_of_numbers)\n",
    "\n",
    "    # Check of boundary condition\n",
    "    if length_of_list == 0:\n",
    "        return 0\n",
    "    \n",
    "    average = 0\n",
    "\n",
    "    # For loop to compute \n",
    "    for num in list_of_numbers:\n",
    "        average += (num / length_of_list)\n",
    "\n",
    "    return average\n",
    "\n",
    "# Create a list\n",
    "list_of_nums = [1, 2, 3, 4, 15, 6]\n",
    "\n",
    "# Calculate average\n",
    "average_of_list = calculate_average(list_of_nums)\n",
    "\n",
    "# Print result \n",
    "print(f'Average of numbers of \"{list_of_nums}\" = {average_of_list}')"
   ]
  },
  {
   "cell_type": "markdown",
   "metadata": {},
   "source": [
    "### 10. Develop a program that prints the first `n` Fibonacci numbers using a `for` loop."
   ]
  },
  {
   "cell_type": "code",
   "execution_count": 1,
   "metadata": {},
   "outputs": [
    {
     "name": "stdout",
     "output_type": "stream",
     "text": [
      "Below are first 10 elements of Fibonacci series.\n",
      "0\n",
      "1\n",
      "1\n",
      "2\n",
      "3\n",
      "5\n",
      "8\n",
      "13\n",
      "21\n",
      "34\n"
     ]
    }
   ],
   "source": [
    "# Fibonacci formular - F(n) = F(n-1) + F(n-2)\n",
    "\n",
    "# Function - take a n as input and print n Fibonacci numbers\n",
    "def print_fibonacci_sequence(n: int):\n",
    "    \n",
    "    if n <= 0:\n",
    "        print('Error: Less than 1 is not valid number of elements to be printed.')\n",
    "    \n",
    "    # Factorial of N-2 (starting from 0)\n",
    "    f_of_n_minus_2 = 0\n",
    "    # Factorial of N-1 (starting from 1)\n",
    "    f_of_n_minus_1 = 1\n",
    "\n",
    "    print(f_of_n_minus_2)\n",
    "    print(f_of_n_minus_1)\n",
    "\n",
    "    for num in range(1, n-1):\n",
    "        fibonacci_num = f_of_n_minus_1 + f_of_n_minus_2\n",
    "        print(fibonacci_num)\n",
    "        f_of_n_minus_2 = f_of_n_minus_1\n",
    "        f_of_n_minus_1 = fibonacci_num\n",
    "    \n",
    "\n",
    "# Take input n from the user\n",
    "number_of_elements = int(input('Enter number of elements in sequence: '))\n",
    "\n",
    "# Print\n",
    "print(f'Below are first {number_of_elements} elements of Fibonacci series.')\n",
    "print_fibonacci_sequence(number_of_elements)"
   ]
  },
  {
   "cell_type": "markdown",
   "metadata": {},
   "source": [
    "# Intermediate Level:"
   ]
  },
  {
   "cell_type": "markdown",
   "metadata": {},
   "source": [
    "### 11. Write a program to check if a given list contains any duplicates using a `for` loop."
   ]
  },
  {
   "cell_type": "code",
   "execution_count": 3,
   "metadata": {},
   "outputs": [
    {
     "name": "stdout",
     "output_type": "stream",
     "text": [
      "List contains duplicates which are:  [2, 3, 5, 6]\n"
     ]
    }
   ],
   "source": [
    "# Function - takes list and return the list of duplicates if any - using for loop\n",
    "\n",
    "def find_dulicates_in_list(list_input: list) -> list:\n",
    "    length_of_list = len(list_input)\n",
    "    # if no or single element in list then return empty list because in this case there are no duplicates\n",
    "    if length_of_list <= 1:\n",
    "        return []\n",
    "    \n",
    "    list_of_duplicates = []\n",
    "\n",
    "    for i in range(length_of_list):\n",
    "        k = i + 1\n",
    "        for j in range(k, length_of_list):\n",
    "            if list_input[i] == list_input[j] and list_input[i] not in list_of_duplicates:\n",
    "                list_of_duplicates.append(list_input[i])\n",
    "                break\n",
    "    return list_of_duplicates\n",
    "\n",
    "# Create a list\n",
    "list_inpt = [2,3,4,5,6,3,2,5,6,7,8,9,6]\n",
    "\n",
    "# Get list of duplicates\n",
    "duplicates_in_list = find_dulicates_in_list(list_inpt)\n",
    "\n",
    "# Print result\n",
    "if not duplicates_in_list:\n",
    "    print('List does not contain any duplicates')\n",
    "else:\n",
    "    print('List contains duplicates which are: ', duplicates_in_list)"
   ]
  },
  {
   "cell_type": "markdown",
   "metadata": {},
   "source": [
    "### 12. Create a program that prints the prime numbers in a given range using a `for` loop."
   ]
  },
  {
   "cell_type": "code",
   "execution_count": 4,
   "metadata": {},
   "outputs": [
    {
     "name": "stdout",
     "output_type": "stream",
     "text": [
      "11\n",
      "13\n",
      "17\n",
      "19\n",
      "23\n",
      "29\n",
      "31\n",
      "37\n",
      "41\n",
      "43\n",
      "47\n",
      "53\n",
      "59\n",
      "61\n",
      "67\n",
      "71\n",
      "73\n",
      "79\n",
      "83\n",
      "89\n",
      "97\n"
     ]
    }
   ],
   "source": [
    "import math\n",
    "# Function to check if number is prime or not\n",
    "# will try to divide a number from 2 to (n/2)+1 - (to optimize the function) - if number is divisible by any number the False\n",
    "# We are using for loop from 2 till n/2 + 1 to check if number is prime or not\n",
    "def is_prime(n:int) -> bool:\n",
    "    if(n <= 1):\n",
    "        return False\n",
    "    range_num = math.floor(n/2) + 1\n",
    "    for i in range(2 , range_num):\n",
    "        if(n%i == 0):\n",
    "            return False\n",
    "    return True\n",
    "\n",
    "# Function to print prime numbers - using for loop\n",
    "# Takes a range and print all prime numbers from that range\n",
    "def print_prime_numbers(range_to_explore: range):\n",
    "    # Using for loop to iterate in range\n",
    "    for num in range_to_explore:\n",
    "        if is_prime(num):\n",
    "            print(num)\n",
    "\n",
    "\n",
    "# Create a range (for 10 to 100 (101 because upper bound is excluded))\n",
    "elements_range = range(10, 100)\n",
    "\n",
    "# Print prime numbers\n",
    "print_prime_numbers(elements_range)"
   ]
  },
  {
   "cell_type": "markdown",
   "metadata": {},
   "source": [
    "### 13. Develop a program that counts the number of vowels in a string using a `for` loop."
   ]
  },
  {
   "cell_type": "code",
   "execution_count": 6,
   "metadata": {},
   "outputs": [
    {
     "name": "stdout",
     "output_type": "stream",
     "text": [
      "Number of vowels in \"Robin Pabbi\": 4\n"
     ]
    }
   ],
   "source": [
    "# Keeping the list of vowels to check from\n",
    "VOWELS = ['a', 'e', 'i', 'o', 'u', 'A', 'E', 'I', 'O', 'U']\n",
    "\n",
    "# Function to check count of Vowels - using for loop\n",
    "# Here we iterate in string for each char and check if exists in the VOWELS then add 1 to count\n",
    "def count_vowels(string_to_check:str) -> int:\n",
    "  count:int = 0\n",
    "  for char in string_to_check:\n",
    "    if char in VOWELS:\n",
    "        count += 1\n",
    "  return count\n",
    "\n",
    "# Take input string from user\n",
    "string_to_count_vowels = input('Enter a string to check count of Vowels:')\n",
    "\n",
    "# Count number of vowels\n",
    "count_of_vowels = count_vowels(string_to_count_vowels)\n",
    "\n",
    "# Print number of vowels in string\n",
    "print(f'Number of vowels in \"{string_to_count_vowels}\": {count_of_vowels}')"
   ]
  },
  {
   "cell_type": "markdown",
   "metadata": {},
   "source": [
    "### 14. Write a program to find the maximum element in a 2D list using a nested `for` loop."
   ]
  },
  {
   "cell_type": "code",
   "execution_count": 7,
   "metadata": {},
   "outputs": [
    {
     "name": "stdout",
     "output_type": "stream",
     "text": [
      "Maximum number is : 999\n"
     ]
    }
   ],
   "source": [
    "# Approach - Since we are using 2D list, list with lists inside it, so we will run 2 for loops\n",
    "\n",
    "# Function - takes a list and retun maximum element of the list\n",
    "def maximum_in_2D_list(list_input: list):\n",
    "    maximum_element = 0\n",
    "    # Traverse in the outter list to get sub lists\n",
    "    for sublist in list_input:\n",
    "        # Traverse in inner list\n",
    "        for num in sublist:\n",
    "            if num > maximum_element:\n",
    "                maximum_element = num\n",
    "\n",
    "    return maximum_element\n",
    "\n",
    "\n",
    "# Create a list\n",
    "list_of_list_of_numbers = [[1,2,3,4,5], [2,3,4,2,1,6],[66,7,88,999,23]]\n",
    "\n",
    "# Get maximum of above list\n",
    "maximum_element = maximum_in_2D_list(list_of_list_of_numbers)\n",
    "\n",
    "# Print\n",
    "print(f'Maximum number is : {maximum_element}')"
   ]
  },
  {
   "cell_type": "markdown",
   "metadata": {},
   "source": [
    "### 15. Create a program that removes all occurrences of a specific element from a list using a `for` loop."
   ]
  },
  {
   "cell_type": "code",
   "execution_count": 8,
   "metadata": {},
   "outputs": [
    {
     "name": "stdout",
     "output_type": "stream",
     "text": [
      "Actual list before remove:  [2, 3, 4, 5, 6, 7, 8, 99, 12, 35, 'Robin', 'Robin', 34, 56, 'Robin']\n",
      "List after removal of \"Robin\" = [2, 3, 4, 5, 6, 7, 8, 99, 12, 35, 34, 56]\n"
     ]
    }
   ],
   "source": [
    "# Approach - We will have to use for loop so iterate on the list using for loop\n",
    "# Add all non matching elements to the list and return it\n",
    "\n",
    "# Function - take a list as input and return a list with removed instances of given element\n",
    "def remove_element_occurences(list_to_remove_from: list, element_to_remove):\n",
    "    result_list = []\n",
    "\n",
    "    for el in list_to_remove_from:\n",
    "        if el != element_to_remove:\n",
    "            result_list.append(el)\n",
    "    \n",
    "    return result_list\n",
    "\n",
    "\n",
    "# Create a list\n",
    "list_1 = [2, 3, 4, 5, 6, 7, 8, 99, 12, 35, 'Robin', 'Robin', 34, 56, 'Robin']\n",
    "\n",
    "# Print actual list\n",
    "print('Actual list before remove: ', list_1)\n",
    "\n",
    "# Remove the 'Robin' from the list\n",
    "result = remove_element_occurences(list_1, 'Robin')\n",
    "\n",
    "# Print\n",
    "print(f'List after removal of \"Robin\" = {result}')"
   ]
  },
  {
   "cell_type": "markdown",
   "metadata": {},
   "source": [
    "### 16. Develop a program that generates a multiplication table for numbers from 1 to 5 using a nested `for` loop.\n"
   ]
  },
  {
   "cell_type": "code",
   "execution_count": 9,
   "metadata": {},
   "outputs": [
    {
     "name": "stdout",
     "output_type": "stream",
     "text": [
      "1 x 1 = 1\n",
      "1 x 2 = 2\n",
      "1 x 3 = 3\n",
      "1 x 4 = 4\n",
      "1 x 5 = 5\n",
      "1 x 6 = 6\n",
      "1 x 7 = 7\n",
      "1 x 8 = 8\n",
      "1 x 9 = 9\n",
      "1 x 10 = 10\n",
      "\n",
      "\n",
      "2 x 1 = 2\n",
      "2 x 2 = 4\n",
      "2 x 3 = 6\n",
      "2 x 4 = 8\n",
      "2 x 5 = 10\n",
      "2 x 6 = 12\n",
      "2 x 7 = 14\n",
      "2 x 8 = 16\n",
      "2 x 9 = 18\n",
      "2 x 10 = 20\n",
      "\n",
      "\n",
      "3 x 1 = 3\n",
      "3 x 2 = 6\n",
      "3 x 3 = 9\n",
      "3 x 4 = 12\n",
      "3 x 5 = 15\n",
      "3 x 6 = 18\n",
      "3 x 7 = 21\n",
      "3 x 8 = 24\n",
      "3 x 9 = 27\n",
      "3 x 10 = 30\n",
      "\n",
      "\n",
      "4 x 1 = 4\n",
      "4 x 2 = 8\n",
      "4 x 3 = 12\n",
      "4 x 4 = 16\n",
      "4 x 5 = 20\n",
      "4 x 6 = 24\n",
      "4 x 7 = 28\n",
      "4 x 8 = 32\n",
      "4 x 9 = 36\n",
      "4 x 10 = 40\n",
      "\n",
      "\n",
      "5 x 1 = 5\n",
      "5 x 2 = 10\n",
      "5 x 3 = 15\n",
      "5 x 4 = 20\n",
      "5 x 5 = 25\n",
      "5 x 6 = 30\n",
      "5 x 7 = 35\n",
      "5 x 8 = 40\n",
      "5 x 9 = 45\n",
      "5 x 10 = 50\n",
      "\n",
      "\n"
     ]
    }
   ],
   "source": [
    "# Approach - we will create two methods one to print table of number and other which call this method multiple times with numbers\n",
    "# although we can use nested for loop too - which is same as this approach but it is more cleaner to create multiple functions\n",
    " \n",
    "# Function - Take a numbers as input and print table of num - using for loop\n",
    "def print_table(n: int):\n",
    "    # Looping from 1 to 10 (11 because upper bound is exluded)\n",
    "    for multiplier in range(1, 11):\n",
    "        print(f'{n} x {multiplier} = {multiplier * n}')\n",
    "\n",
    "# Function - takes a range of numbers and print table of those numbers - using for loop\n",
    "def print_tables(range_of_nums: range):\n",
    "    for num in range_of_nums:\n",
    "        # Print table of current number\n",
    "        print_table(num)\n",
    "        # Print two empty lines after each table\n",
    "        print('\\n')\n",
    "\n",
    "# Create a range of 1 to 5 (6 is upper bound)\n",
    "numbers_range = range(1, 6)\n",
    "\n",
    "# Print table\n",
    "print_tables(numbers_range)"
   ]
  },
  {
   "cell_type": "markdown",
   "metadata": {},
   "source": [
    "### 17. Write a program that converts a list of Fahrenheit temperatures to Celsius using a `for` loop."
   ]
  },
  {
   "cell_type": "code",
   "execution_count": 11,
   "metadata": {},
   "outputs": [
    {
     "name": "stdout",
     "output_type": "stream",
     "text": [
      "List of temperature in Fahrenheit: [98, 99, 102, 104, 87]\n",
      "List of temperature in Celsius: [36.666666666666664, 37.22222222222222, 38.888888888888886, 40.0, 30.555555555555557]\n"
     ]
    }
   ],
   "source": [
    "# Formula - celsius temp = (Fahrenheit - 32) x 5 / 9\n",
    "\n",
    "# Function - takes a list of temperatures in Fahrenheit and convert it to list of temperature in celsius\n",
    "# It is inplace function\n",
    "def convert_to_celsius(list_of_fahrenheit_temp: list):\n",
    "    # iterate usng for loop\n",
    "    for index in range(len(list_of_fahrenheit_temp)):\n",
    "        temp_in_F = list_of_fahrenheit_temp[index]\n",
    "        list_of_fahrenheit_temp[index] = (temp_in_F - 32) * 5 / 9\n",
    "\n",
    "\n",
    "# Create a list of temperatures\n",
    "temperatures_list = [98, 99, 102, 104, 87]\n",
    "\n",
    "# Print temperatures in Farenheit\n",
    "print(f'List of temperature in Fahrenheit: {temperatures_list}')\n",
    "\n",
    "# Convert to celsius\n",
    "convert_to_celsius(temperatures_list)\n",
    "\n",
    "# Print\n",
    "print(f'List of temperature in Celsius: {temperatures_list}')"
   ]
  },
  {
   "cell_type": "markdown",
   "metadata": {},
   "source": [
    "### 18. Create a program to print the common elements from two lists using a `for` loop.\n"
   ]
  },
  {
   "cell_type": "code",
   "execution_count": 15,
   "metadata": {},
   "outputs": [
    {
     "name": "stdout",
     "output_type": "stream",
     "text": [
      "List 1 = [26, 13, 22, 21, 89, 16, 17]\n",
      "List 2 = [2, 17, 26, 22]\n",
      "Common elements = [26, 22, 17]\n"
     ]
    }
   ],
   "source": [
    "# Approach - \n",
    "# Although this can be done as Using for loop on elements of one list, find if that elements exists in other loop if yes then add to common list\n",
    "# but since we are asked to do using loop so using nested loop method here\n",
    "\n",
    "def find_common_elements(list_1: list, list_2: list) -> list:\n",
    "    common_elements_list = []\n",
    "\n",
    "    for element in list_1:\n",
    "        for element2 in list_2:\n",
    "            if(element == element2 and element not in common_elements_list):\n",
    "                common_elements_list.append(element)\n",
    "                break\n",
    "        \n",
    "    return common_elements_list\n",
    "\n",
    "# Create lists\n",
    "list1 = [26, 13, 22, 21, 89, 16, 17]\n",
    "list2 = [2, 17, 26, 22]\n",
    "\n",
    "\n",
    "# Find common elements\n",
    "common_elements = find_common_elements(list1, list2)\n",
    "\n",
    "# Prints\n",
    "print(f'List 1 = {list1}')\n",
    "print(f'List 2 = {list2}')\n",
    "print(f'Common elements = {common_elements}')"
   ]
  },
  {
   "cell_type": "markdown",
   "metadata": {},
   "source": [
    "### 19. Develop a program that prints the pattern of right-angled triangles using a `for` loop. Use ‘*’ to draw the pattern\n"
   ]
  },
  {
   "cell_type": "code",
   "execution_count": 23,
   "metadata": {},
   "outputs": [
    {
     "name": "stdout",
     "output_type": "stream",
     "text": [
      "Right angled triangle of level 6:\n",
      "*\n",
      "**\n",
      "***\n",
      "****\n",
      "*****\n",
      "******\n",
      "Right angled triangle of level 10:\n",
      "*\n",
      "**\n",
      "***\n",
      "****\n",
      "*****\n",
      "******\n",
      "*******\n",
      "********\n",
      "*********\n",
      "**********\n"
     ]
    }
   ],
   "source": [
    "# Fuction - takes a level as input and print right angled triangle of that level\n",
    "def print_right_angled_traingle(level: int):\n",
    "    # level + 1 because upper bound is excluded\n",
    "    for i in range(1, level + 1):\n",
    "        for j in range(0, i):\n",
    "            # Print * is same line to achieve right angled triangle\n",
    "            print('*', end='')\n",
    "        # Print stars of next iteration on next line\n",
    "        print()\n",
    "\n",
    "# Print right angled triangle of level 6\n",
    "print('Right angled triangle of level 6:')\n",
    "print_right_angled_traingle(6)\n",
    "\n",
    "# Print right angled triangle of level 10\n",
    "print('Right angled triangle of level 10:')\n",
    "print_right_angled_traingle(10)"
   ]
  },
  {
   "cell_type": "markdown",
   "metadata": {},
   "source": [
    "### 20. Write a program to find the greatest common divisor (GCD) of two numbers using a `for` loop.\n"
   ]
  },
  {
   "cell_type": "code",
   "execution_count": 30,
   "metadata": {},
   "outputs": [
    {
     "name": "stdout",
     "output_type": "stream",
     "text": [
      "Greatest common divisor of 99 and 66 is : 33\n"
     ]
    }
   ],
   "source": [
    "# GCD is also known as HCF. The highest common divisor.\n",
    "# highest number with which our two numbers are divided without remainder.\n",
    "# Since it is highest number - we will start from reverse direction - from smallest number of two towards 1 \n",
    "# although we can start from any number but to optimize we will start from smallest number\n",
    "\n",
    "def find_gcd(number1: int, number2: int) -> int:\n",
    "    # Check boundary condition\n",
    "    # If any number is zero then other number becomes gcd, because zero is divisible by anynumber\n",
    "    if number1 == 0:\n",
    "        return number2\n",
    "    elif number2 == 0:\n",
    "        return number1\n",
    "    \n",
    "    gcd = 1\n",
    "    small_num, large_num = min(number1, number2),  max(number1, number2)\n",
    "    \n",
    "    # Check if both numbers are divisible by current number if yes then return\n",
    "    for num in range(small_num, 1, -1):\n",
    "        if(large_num % num == 0 and small_num % num == 0):\n",
    "            gcd = num\n",
    "            break\n",
    "        \n",
    "    return gcd\n",
    "\n",
    "# Take input of numbers\n",
    "number_1 = int(input('Enter a number 1: '))\n",
    "number_2 = int(input('Enter a number 2: '))\n",
    "\n",
    "# Find gcd\n",
    "gcd = find_gcd(number_1, number_2)\n",
    "\n",
    "# Print result\n",
    "print(f'Greatest common divisor of {number_1} and {number_2} is : {gcd}')\n",
    "    "
   ]
  },
  {
   "cell_type": "markdown",
   "metadata": {},
   "source": []
  }
 ],
 "metadata": {
  "kernelspec": {
   "display_name": "base",
   "language": "python",
   "name": "python3"
  },
  "language_info": {
   "codemirror_mode": {
    "name": "ipython",
    "version": 3
   },
   "file_extension": ".py",
   "mimetype": "text/x-python",
   "name": "python",
   "nbconvert_exporter": "python",
   "pygments_lexer": "ipython3",
   "version": "3.11.4"
  },
  "orig_nbformat": 4
 },
 "nbformat": 4,
 "nbformat_minor": 2
}
