{
 "cells": [
  {
   "cell_type": "markdown",
   "metadata": {},
   "source": [
    "# Basic Level:"
   ]
  },
  {
   "cell_type": "markdown",
   "metadata": {},
   "source": [
    "### 1. Write a Python program to print the numbers from 1 to 10 using a `for` loop."
   ]
  },
  {
   "cell_type": "code",
   "execution_count": 1,
   "metadata": {},
   "outputs": [
    {
     "name": "stdout",
     "output_type": "stream",
     "text": [
      "1\n",
      "2\n",
      "3\n",
      "4\n",
      "5\n",
      "6\n",
      "7\n",
      "8\n",
      "9\n",
      "10\n"
     ]
    }
   ],
   "source": [
    "# Loop from 1 to 10 and print number\n",
    "for num in range(1, 11):\n",
    "    print(num)"
   ]
  },
  {
   "cell_type": "markdown",
   "metadata": {},
   "source": [
    "### 2. Create a program that calculates the sum of all numbers in a list using a `for` loop."
   ]
  },
  {
   "cell_type": "code",
   "execution_count": 4,
   "metadata": {},
   "outputs": [
    {
     "name": "stdout",
     "output_type": "stream",
     "text": [
      " Sum of elements of list : 141\n"
     ]
    }
   ],
   "source": [
    "def calculate_sum_using_loop(list_inpt: list) -> int:\n",
    "    sum_of_list = 0\n",
    "    # loop on the list and add sum of previous elements and the current number\n",
    "    for num in list_inpt:\n",
    "        sum_of_list += num\n",
    "    \n",
    "    return sum_of_list\n",
    "\n",
    "# Create a list\n",
    "list_1 = [3, 4, 5, 6, 7, 8, 9, 99]\n",
    "\n",
    "# Get sum\n",
    "sum_of_elements = calculate_sum_using_loop(list_1)\n",
    "\n",
    "# Print sum\n",
    "print(f' Sum of elements of list : {sum_of_elements}')"
   ]
  },
  {
   "cell_type": "markdown",
   "metadata": {},
   "source": [
    "### 3. Write a program to print the characters of a string in reverse order using a `for` loop."
   ]
  },
  {
   "cell_type": "code",
   "execution_count": 7,
   "metadata": {},
   "outputs": [
    {
     "name": "stdout",
     "output_type": "stream",
     "text": [
      "i\n",
      "b\n",
      "b\n",
      "a\n",
      "P\n",
      "n\n",
      "i\n",
      "b\n",
      "o\n",
      "R\n"
     ]
    }
   ],
   "source": [
    "# Function - takes string input and print characters separately in reverse\n",
    "def print_string_characters_in_reverse(string_input: str)-> None:\n",
    "    str_length = len(string_input)\n",
    "\n",
    "    for index in range(str_length, 0, -1):\n",
    "        # Here we are using normal print (print in separate line)\n",
    "        # to print in same line we can use end='' in print\n",
    "        print(string_input[index-1])\n",
    "\n",
    "# Create a string\n",
    "string_1 = 'RobinPabbi'\n",
    "\n",
    "# Print the characters in reverse\n",
    "print_string_characters_in_reverse(string_1)"
   ]
  },
  {
   "cell_type": "markdown",
   "metadata": {},
   "source": [
    "### 4. Develop a program that finds the factorial of a given number using a `for` loop."
   ]
  },
  {
   "cell_type": "code",
   "execution_count": 2,
   "metadata": {},
   "outputs": [
    {
     "name": "stdout",
     "output_type": "stream",
     "text": [
      "Factorial of 5 is = 120\n"
     ]
    }
   ],
   "source": [
    "# Factorial of n = n * (n-1) * (n-2) ..... * 1\n",
    "\n",
    "# Function - takes n number as input and return factorial of n (using for loop)\n",
    "def factorial_of_num(n: int) -> int | None:\n",
    "    # Check boundary condition - assumption is n has to be greater than equal to 1\n",
    "    if n <= 0:\n",
    "        print('Error: Number can not be less than 1')\n",
    "\n",
    "    factorial = 1\n",
    "    # looping on range from 1 to n (n+1 because n+1 is excluded)\n",
    "    for num in range(1, n+1):\n",
    "        factorial *= num\n",
    "    \n",
    "    return factorial\n",
    "\n",
    "# Take an input from user\n",
    "number = int(input('Enter a number whose factorial is to be calculated: '))\n",
    "\n",
    "# Get Factorial\n",
    "factorial = factorial_of_num(number)\n",
    "\n",
    "# Print\n",
    "print(f'Factorial of {number} is = {factorial}')"
   ]
  },
  {
   "cell_type": "markdown",
   "metadata": {},
   "source": [
    "### 5. Create a program to print the multiplication table of a given number using a `for` loop."
   ]
  },
  {
   "cell_type": "code",
   "execution_count": 3,
   "metadata": {},
   "outputs": [
    {
     "name": "stdout",
     "output_type": "stream",
     "text": [
      "6 x 1 = 6\n",
      "6 x 2 = 12\n",
      "6 x 3 = 18\n",
      "6 x 4 = 24\n",
      "6 x 5 = 30\n",
      "6 x 6 = 36\n",
      "6 x 7 = 42\n",
      "6 x 8 = 48\n",
      "6 x 9 = 54\n",
      "6 x 10 = 60\n"
     ]
    }
   ],
   "source": [
    "# Function - Take a numbers as input and print table of num\n",
    "def print_table(n: int):\n",
    "    # Looping from 1 to 10 (11 because upper bound is exluded)\n",
    "    for multiplier in range(1, 11):\n",
    "        print(f'{n} x {multiplier} = {multiplier * n}')\n",
    "\n",
    "# Take a number input from the user\n",
    "number = int(input('Enter a number whose table is to be printed: '))\n",
    "\n",
    "# Print table\n",
    "print_table(number)"
   ]
  },
  {
   "cell_type": "markdown",
   "metadata": {},
   "source": [
    "### 6. Write a program that counts the number of even and odd numbers in a list using a `for` loop."
   ]
  },
  {
   "cell_type": "code",
   "execution_count": 4,
   "metadata": {},
   "outputs": [
    {
     "name": "stdout",
     "output_type": "stream",
     "text": [
      "Count of Even numbers = 6 and count of odd numbers = 5\n"
     ]
    }
   ],
   "source": [
    "# Function - Takes list and return count of even numbers and odd number\n",
    "def count_even_and_odd_numbers(list_of_numbers: list):\n",
    "    even_num_count = 0\n",
    "    odd_num_count = 0\n",
    "\n",
    "    # Iterating on list using for loop\n",
    "    for num in list_of_numbers:\n",
    "        # If even add to count of even else to odd\n",
    "        if (num % 2) == 0:\n",
    "            even_num_count += 1\n",
    "        else:\n",
    "            odd_num_count += 1\n",
    "    \n",
    "    return even_num_count, odd_num_count\n",
    "\n",
    "\n",
    "# Create a list of numbers\n",
    "list_of_nums = [2, 3, 4, 5, 6, 77, 54, 56, 57, 78, 99]\n",
    "\n",
    "# COunt number of evens and odds\n",
    "count_of_even_num, count_of_odd_num = count_even_and_odd_numbers(list_of_nums)\n",
    "\n",
    "# Print result\n",
    "print(f'Count of Even numbers = {count_of_even_num} and count of odd numbers = {count_of_odd_num}')"
   ]
  },
  {
   "cell_type": "markdown",
   "metadata": {},
   "source": [
    "### 7. Develop a program that prints the squares of numbers from 1 to 5 using a `for` loop."
   ]
  },
  {
   "cell_type": "code",
   "execution_count": 5,
   "metadata": {},
   "outputs": [
    {
     "name": "stdout",
     "output_type": "stream",
     "text": [
      "Square of 1 = 1\n",
      "Square of 2 = 4\n",
      "Square of 3 = 9\n",
      "Square of 4 = 16\n",
      "Square of 5 = 25\n"
     ]
    }
   ],
   "source": [
    "# Print square of 1 to 5, loop from 1 to 5 (upper bound 6)\n",
    "for num in range(1, 6):\n",
    "    print(f'Square of {num} = {num**2}')"
   ]
  },
  {
   "cell_type": "markdown",
   "metadata": {},
   "source": [
    "### 8. Create a program to find the length of a string without using the `len()` function."
   ]
  },
  {
   "cell_type": "code",
   "execution_count": 6,
   "metadata": {},
   "outputs": [
    {
     "name": "stdout",
     "output_type": "stream",
     "text": [
      "Length of string \"Robin Pabbi\" = 11\n"
     ]
    }
   ],
   "source": [
    "# Function with code of finding length of string using for loop\n",
    "def length(string_input: str) -> int:\n",
    "  count = 0\n",
    "  for char in string_input:\n",
    "    count += 1\n",
    "  return count\n",
    "\n",
    "# Take a string input from user\n",
    "string_input = input('Enter your string here: ')\n",
    "\n",
    "# Compute length without using len function\n",
    "length_of_str = length(string_input)\n",
    "\n",
    "# Print result\n",
    "print(f'Length of string \"{string_input}\" = {length_of_str}')"
   ]
  },
  {
   "cell_type": "markdown",
   "metadata": {},
   "source": [
    "### 9. Write a program that calculates the average of a list of numbers using a `for` loop."
   ]
  },
  {
   "cell_type": "code",
   "execution_count": 10,
   "metadata": {},
   "outputs": [
    {
     "name": "stdout",
     "output_type": "stream",
     "text": [
      "Average of numbers of \"[1, 2, 3, 4, 15, 6]\" = 5.166666666666666\n"
     ]
    }
   ],
   "source": [
    "# Approach - calculates the average of the numbers in the list using summing each num divided by length\n",
    "# either take sum and divide or divide each num and then sum it\n",
    "\n",
    "# Function - take a list of numbers as input and return average num\n",
    "def calculate_average(list_of_numbers: list) -> float:\n",
    "    length_of_list = len(list_of_numbers)\n",
    "\n",
    "    # Check of boundary condition\n",
    "    if length_of_list == 0:\n",
    "        return 0\n",
    "    \n",
    "    average = 0\n",
    "\n",
    "    # For loop to compute \n",
    "    for num in list_of_numbers:\n",
    "        average += (num / length_of_list)\n",
    "\n",
    "    return average\n",
    "\n",
    "# Create a list\n",
    "list_of_nums = [1, 2, 3, 4, 15, 6]\n",
    "\n",
    "# Calculate average\n",
    "average_of_list = calculate_average(list_of_nums)\n",
    "\n",
    "# Print result \n",
    "print(f'Average of numbers of \"{list_of_nums}\" = {average_of_list}')"
   ]
  },
  {
   "cell_type": "markdown",
   "metadata": {},
   "source": [
    "### 10. Develop a program that prints the first `n` Fibonacci numbers using a `for` loop."
   ]
  },
  {
   "cell_type": "code",
   "execution_count": 11,
   "metadata": {},
   "outputs": [
    {
     "name": "stdout",
     "output_type": "stream",
     "text": [
      "1\n",
      "2\n",
      "3\n",
      "5\n",
      "8\n"
     ]
    }
   ],
   "source": [
    "# Fibonacci formular - F(n) = F(n-1) + F(n-2)\n",
    "\n",
    "# Function - take a n as input and print n Fibonacci numbers\n",
    "def print_fibonacci_sequence(n: int):\n",
    "    \n",
    "    if n <= 0:\n",
    "        print('Error: Less than 1 is not valid number of elements to be printed.')\n",
    "    \n",
    "    f_of_n_minus_2 = 0\n",
    "    f_of_n_minus_1 = 1\n",
    "\n",
    "    for num in range(1, n+1):\n",
    "        fibonacci_num = f_of_n_minus_1 + f_of_n_minus_2\n",
    "        print(fibonacci_num)\n",
    "        f_of_n_minus_2 = f_of_n_minus_1\n",
    "        f_of_n_minus_1 = fibonacci_num\n",
    "    \n",
    "\n",
    "print_fibonacci_sequence(5)"
   ]
  },
  {
   "cell_type": "markdown",
   "metadata": {},
   "source": [
    "# Intermediate Level:"
   ]
  },
  {
   "cell_type": "markdown",
   "metadata": {},
   "source": [
    "### 11. Write a program to check if a given list contains any duplicates using a `for` loop.\n",
    "### 12. Create a program that prints the prime numbers in a given range using a `for` loop.\n",
    "### 13. Develop a program that counts the number of vowels in a string using a `for` loop.\n",
    "### 14. Write a program to find the maximum element in a 2D list using a nested `for` loop.\n",
    "### 15. Create a program that removes all occurrences of a specific element from a list using a `for` loop.\n",
    "### 16. Develop a program that generates a multiplication table for numbers from 1 to 5 using a nested `for` loop.\n",
    "### 17. Write a program that converts a list of Fahrenheit temperatures to Celsius using a `for` loop.\n",
    "### 18. Create a program to print the common elements from two lists using a `for` loop.\n",
    "### 19. Develop a program that prints the pattern of right-angled triangles using a `for` loop. Use ‘*’ to draw the pattern\n",
    "### 20. Write a program to find the greatest common divisor (GCD) of two numbers using a `for` loop."
   ]
  }
 ],
 "metadata": {
  "kernelspec": {
   "display_name": "base",
   "language": "python",
   "name": "python3"
  },
  "language_info": {
   "codemirror_mode": {
    "name": "ipython",
    "version": 3
   },
   "file_extension": ".py",
   "mimetype": "text/x-python",
   "name": "python",
   "nbconvert_exporter": "python",
   "pygments_lexer": "ipython3",
   "version": "3.11.4"
  },
  "orig_nbformat": 4
 },
 "nbformat": 4,
 "nbformat_minor": 2
}
