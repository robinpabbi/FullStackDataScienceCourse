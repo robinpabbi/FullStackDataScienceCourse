{
 "cells": [
  {
   "cell_type": "markdown",
   "metadata": {},
   "source": [
    "# Control Flow - Assignment Questions"
   ]
  },
  {
   "cell_type": "markdown",
   "metadata": {},
   "source": [
    "## Basic If-Else Statements:"
   ]
  },
  {
   "cell_type": "markdown",
   "metadata": {},
   "source": [
    "### 1. Write a Python program to check if a given number is positive or negative."
   ]
  },
  {
   "cell_type": "code",
   "execution_count": 2,
   "metadata": {},
   "outputs": [
    {
     "name": "stdout",
     "output_type": "stream",
     "text": [
      "Number -10 is negative number.\n"
     ]
    }
   ],
   "source": [
    "# Assumption - consider 0 as positive\n",
    "\n",
    "# Function - takes number as input and return True if >= 0 and else False (if negative)\n",
    "def is_positive(n: int)-> bool:\n",
    "    if n >= 0:\n",
    "        return True\n",
    "    else:\n",
    "        return False\n",
    "\n",
    "# Input number from user\n",
    "number = int(input('Enter a number: '))\n",
    "\n",
    "# Check for positivity or negative\n",
    "is_positive_num = is_positive(number)\n",
    "\n",
    "# Print\n",
    "if is_positive_num:\n",
    "    print(f'Number {number} is positve number.')\n",
    "else:\n",
    "    print(f'Number {number} is negative number.')\n"
   ]
  },
  {
   "cell_type": "markdown",
   "metadata": {},
   "source": [
    "### 2. Create a program that determines if a person is eligible to vote based on their age."
   ]
  },
  {
   "cell_type": "code",
   "execution_count": 8,
   "metadata": {},
   "outputs": [
    {
     "name": "stdout",
     "output_type": "stream",
     "text": [
      "Your age 23 and you are eligible to vote.\n"
     ]
    }
   ],
   "source": [
    "# Assumption - person under 18 (less than 18) is not eligible for vote\n",
    "\n",
    "def is_eligible_to_vote(age: int)-> bool:\n",
    "    if age >= 18:\n",
    "        return True\n",
    "    else:\n",
    "        if age < 0:\n",
    "            print('Not a valid age!')\n",
    "        return False\n",
    "    \n",
    "# Input age from user\n",
    "age = int(input('Enter your age: '))\n",
    "\n",
    "# Check eligibility\n",
    "is_eligible = is_eligible_to_vote(age)\n",
    "\n",
    "# Print\n",
    "if is_eligible:\n",
    "    print(f'Your age {age} and you are eligible to vote.')\n",
    "else:    \n",
    "    print(f'Your age {age} and you are not eligible to vote.')\n"
   ]
  },
  {
   "cell_type": "markdown",
   "metadata": {},
   "source": [
    "### 3. Develop a program to find the maximum of two numbers using if-else statements."
   ]
  },
  {
   "cell_type": "code",
   "execution_count": 11,
   "metadata": {},
   "outputs": [
    {
     "name": "stdout",
     "output_type": "stream",
     "text": [
      "Out of 99 and 10 maximum number is: 99\n"
     ]
    }
   ],
   "source": [
    "def get_max(num1: int, num2: int)-> int:\n",
    "    if num1 > num2:\n",
    "        return num1\n",
    "    else:\n",
    "        return num2\n",
    "\n",
    "# Input numbers from user\n",
    "number1 = int(input('Enter number 1: '))\n",
    "number2 = int(input('Enter number 2: '))\n",
    "\n",
    "# Get max number\n",
    "max_num = get_max(number1, number2)\n",
    "\n",
    "# Print\n",
    "print(f'Out of {number1} and {number2} maximum number is: {max_num}')\n"
   ]
  },
  {
   "cell_type": "markdown",
   "metadata": {},
   "source": [
    "### 4. Write a Python script to classify a given year as a leap year or not."
   ]
  },
  {
   "cell_type": "code",
   "execution_count": 25,
   "metadata": {},
   "outputs": [
    {
     "name": "stdout",
     "output_type": "stream",
     "text": [
      "Year 2024 is a leap year.\n"
     ]
    }
   ],
   "source": [
    "# Leap year is a year which is divisible by 4\n",
    "\n",
    "def is_leap_year(year: int) -> bool:\n",
    "    if year % 4 == 0:\n",
    "        return True\n",
    "    else:\n",
    "        return False\n",
    "\n",
    "# Take input of year\n",
    "year = int(input('Enter year: '))\n",
    "\n",
    "# Print\n",
    "if is_leap_year(year):\n",
    "    print(f'Year {year} is a leap year.')\n",
    "else:\n",
    "    print(f'Year {year} is a not leap year.')"
   ]
  },
  {
   "cell_type": "markdown",
   "metadata": {},
   "source": [
    "### 5. Create a program that checks whether a character is a vowel or a consonant."
   ]
  },
  {
   "cell_type": "code",
   "execution_count": 18,
   "metadata": {},
   "outputs": [
    {
     "name": "stdout",
     "output_type": "stream",
     "text": [
      "\"o\" is Vowel\n"
     ]
    }
   ],
   "source": [
    "# Keeping the list of vowels to check from\n",
    "VOWELS = ['a', 'e', 'i', 'o', 'u', 'A', 'E', 'I', 'O', 'U']\n",
    "\n",
    "# char input\n",
    "char = input('Enter a character/letter: ')\n",
    "\n",
    "# Check if vowel or not\n",
    "is_vowel = char in VOWELS\n",
    "\n",
    "# Print\n",
    "if is_vowel:\n",
    "    print(f'\"{char}\" is Vowel')\n",
    "else:\n",
    "    print(f'\"{char}\" is Consonant')"
   ]
  },
  {
   "cell_type": "markdown",
   "metadata": {},
   "source": [
    "### 6. Implement a program to determine whether a given number is even or odd."
   ]
  },
  {
   "cell_type": "code",
   "execution_count": 21,
   "metadata": {},
   "outputs": [
    {
     "name": "stdout",
     "output_type": "stream",
     "text": [
      "Number 101 is ODD\n"
     ]
    }
   ],
   "source": [
    "# Take input of number\n",
    "number = int(input('Enter number: '))\n",
    "\n",
    "# Check if even or not and print\n",
    "# Even\n",
    "if number % 2 == 0:\n",
    "    print(f'Number {number} is EVEN')\n",
    "else: \n",
    "    print(f'Number {number} is ODD')"
   ]
  },
  {
   "cell_type": "markdown",
   "metadata": {},
   "source": [
    "### 7. Write a Python function to calculate the absolute value of a number without using the `abs()` function."
   ]
  },
  {
   "cell_type": "code",
   "execution_count": 22,
   "metadata": {},
   "outputs": [
    {
     "name": "stdout",
     "output_type": "stream",
     "text": [
      "Absolute of -99 is : 99\n"
     ]
    }
   ],
   "source": [
    "# Absolute value is always positive, so multiply negative number with -1\n",
    "\n",
    "def get_absolute(number):\n",
    "    if number < 0:\n",
    "        return number * -1\n",
    "    else:\n",
    "        return number\n",
    "\n",
    "# Take input of number\n",
    "number = int(input('Enter number: '))\n",
    "\n",
    "# Get absolute\n",
    "absolute_val = get_absolute(number)\n",
    "\n",
    "# Print\n",
    "print(f'Absolute of {number} is : {absolute_val}')"
   ]
  },
  {
   "cell_type": "markdown",
   "metadata": {},
   "source": [
    "### 8. Develop a program that determines the largest of three given numbers using if-else statements."
   ]
  },
  {
   "cell_type": "code",
   "execution_count": 28,
   "metadata": {},
   "outputs": [
    {
     "name": "stdout",
     "output_type": "stream",
     "text": [
      "Among 10, 90, 70. Largest number is 90\n"
     ]
    }
   ],
   "source": [
    "# Input numbers from user\n",
    "number1 = int(input('Enter number 1: '))\n",
    "number2 = int(input('Enter number 2: '))\n",
    "number3 = int(input('Enter number 3: '))\n",
    "\n",
    "# Determine using if and else only (not elif) - using nested if and else\n",
    "if number1 > number2:\n",
    "    if number1 > number3:\n",
    "        print(f'Among {number1}, {number2}, {number3}. Largest number is {number1}')\n",
    "    else:\n",
    "        print(f'Among {number1}, {number2}, {number3}. Largest number is {number3}')\n",
    "else:\n",
    "    if number2 > number3:\n",
    "        print(f'Among {number1}, {number2}, {number3}. Largest number is {number2}')\n",
    "    else:\n",
    "        print(f'Among {number1}, {number2}, {number3}. Largest number is {number3}')"
   ]
  },
  {
   "cell_type": "code",
   "execution_count": 29,
   "metadata": {},
   "outputs": [
    {
     "name": "stdout",
     "output_type": "stream",
     "text": [
      "Among 10, 90, 70. Largest number is 90\n"
     ]
    }
   ],
   "source": [
    "# Using if elif and else\n",
    "if number1 > number2 and number1 > number3:\n",
    "    print(f'Among {number1}, {number2}, {number3}. Largest number is {number1}')\n",
    "elif number2 > number1 and number2 > number3:\n",
    "    print(f'Among {number1}, {number2}, {number3}. Largest number is {number2}')\n",
    "else:\n",
    "    print(f'Among {number1}, {number2}, {number3}. Largest number is {number3}')"
   ]
  },
  {
   "cell_type": "markdown",
   "metadata": {},
   "source": [
    "### 9. Create a program that checks if a given string is a palindrome."
   ]
  },
  {
   "cell_type": "code",
   "execution_count": 24,
   "metadata": {},
   "outputs": [
    {
     "name": "stdout",
     "output_type": "stream",
     "text": [
      "String \"aabaa\" is palindrome\n"
     ]
    }
   ],
   "source": [
    "# Take a string input\n",
    "string_to_check = input('Enter your string: ')\n",
    "\n",
    "# Find reverse of string\n",
    "reverse_of_string = string_to_check[::-1]\n",
    "\n",
    "# Using if else find if string it palindrom\n",
    "\n",
    "if string_to_check == reverse_of_string:\n",
    "    print(f'String \"{string_to_check}\" is palindrome')\n",
    "else:\n",
    "    print(f'String \"{string_to_check}\" is not palindrome')"
   ]
  },
  {
   "cell_type": "markdown",
   "metadata": {},
   "source": [
    "### 10. Write a Python program to calculate the grade based on a student's score."
   ]
  },
  {
   "cell_type": "code",
   "execution_count": 27,
   "metadata": {},
   "outputs": [
    {
     "name": "stdout",
     "output_type": "stream",
     "text": [
      "You scored 84.9% marks.\n",
      "Your Grade is A\n"
     ]
    }
   ],
   "source": [
    "# Assumptions : Grades are as below:\n",
    "# marks range       Grade\n",
    "# >= 90             A+\n",
    "# 80-90             A\n",
    "# 70-60             B\n",
    "# < 60              C\n",
    "\n",
    "# Take input of marks in percentage\n",
    "score = float(input('Enter yours percentage score: '))\n",
    "\n",
    "print(f'You scored {score}% marks.')\n",
    "\n",
    "# Print Grade\n",
    "if score >= 90:\n",
    "    print('Your Grade is A+')\n",
    "elif score >= 80:\n",
    "    print('Your Grade is A')\n",
    "elif score >= 70:\n",
    "    print('Your Grade is B')\n",
    "else:\n",
    "    print('Your Grade is C')"
   ]
  },
  {
   "cell_type": "markdown",
   "metadata": {},
   "source": [
    "## Nested If-Else Statements:"
   ]
  },
  {
   "cell_type": "markdown",
   "metadata": {},
   "source": [
    "### 11. Write a program to find the largest among three numbers using nested if-else statements."
   ]
  },
  {
   "cell_type": "code",
   "execution_count": 30,
   "metadata": {},
   "outputs": [
    {
     "name": "stdout",
     "output_type": "stream",
     "text": [
      "Among 18, 96, 100. Largest number is 100\n"
     ]
    }
   ],
   "source": [
    "# Input numbers from user\n",
    "number1 = int(input('Enter number 1: '))\n",
    "number2 = int(input('Enter number 2: '))\n",
    "number3 = int(input('Enter number 3: '))\n",
    "\n",
    "# Determine using  using nested if and else\n",
    "if number1 > number2:\n",
    "    if number1 > number3:\n",
    "        print(f'Among {number1}, {number2}, {number3}. Largest number is {number1}')\n",
    "    else:\n",
    "        print(f'Among {number1}, {number2}, {number3}. Largest number is {number3}')\n",
    "else:\n",
    "    if number2 > number3:\n",
    "        print(f'Among {number1}, {number2}, {number3}. Largest number is {number2}')\n",
    "    else:\n",
    "        print(f'Among {number1}, {number2}, {number3}. Largest number is {number3}')"
   ]
  },
  {
   "cell_type": "markdown",
   "metadata": {},
   "source": [
    "### 12. Implement a program to determine if a triangle is equilateral, isosceles, or scalene.\n",
    "\n",
    "Definitions:\n",
    "\n",
    "> An equilateral triangle is a triangle in which all three sides are equal.\n",
    "\n",
    "> A scalene triangle is a triangle that has three unequal sides.\n",
    "\n",
    "> An isosceles triangle is a triangle with (at least) two equal sides."
   ]
  },
  {
   "cell_type": "code",
   "execution_count": 32,
   "metadata": {},
   "outputs": [
    {
     "name": "stdout",
     "output_type": "stream",
     "text": [
      "x = 20, y = 30, z = 50\n",
      "Triangle is Scalene triangle\n"
     ]
    }
   ],
   "source": [
    "# Take input of triangle edge sizes\n",
    "edge_length_x = int(input(\"Enter edge length x of triangle: \"))\n",
    "edge_length_y = int(input(\"Enter edge length y triangle: \"))\n",
    "edge_length_z = int(input(\"Enter edge length z triangle: \"))\n",
    "\n",
    "# Print entered values\n",
    "print(f'x = {edge_length_x}, y = {edge_length_y}, z = {edge_length_z}')\n",
    "\n",
    "if edge_length_x == edge_length_y == edge_length_z:\n",
    "\tprint(\"Triangle is Equilateral triangle\")\n",
    "elif edge_length_x == edge_length_y or edge_length_y == edge_length_z or edge_length_z == edge_length_x:\n",
    "\tprint(\"Triangle is Isosceles triangle\")\n",
    "else:\n",
    "\tprint(\"Triangle is Scalene triangle\")"
   ]
  },
  {
   "cell_type": "markdown",
   "metadata": {},
   "source": [
    "### 13. Develop a program that checks if a year is a leap year and also if it is a century year."
   ]
  },
  {
   "cell_type": "code",
   "execution_count": null,
   "metadata": {},
   "outputs": [],
   "source": []
  },
  {
   "cell_type": "markdown",
   "metadata": {},
   "source": [
    "### 14. Write a Python script to determine if a number is positive, negative, or zero."
   ]
  },
  {
   "cell_type": "code",
   "execution_count": null,
   "metadata": {},
   "outputs": [],
   "source": []
  },
  {
   "cell_type": "markdown",
   "metadata": {},
   "source": [
    "### 15. Create a program to check if a person is a teenager (between 13 and 19 years old)."
   ]
  },
  {
   "cell_type": "code",
   "execution_count": null,
   "metadata": {},
   "outputs": [],
   "source": []
  },
  {
   "cell_type": "markdown",
   "metadata": {},
   "source": [
    "### 16. Develop a program that determines the type of angle based on its measure (acute, obtuse, or right)."
   ]
  },
  {
   "cell_type": "code",
   "execution_count": null,
   "metadata": {},
   "outputs": [],
   "source": []
  },
  {
   "cell_type": "markdown",
   "metadata": {},
   "source": [
    "### 17. Write a Python program to calculate the roots of a quadratic equation."
   ]
  },
  {
   "cell_type": "code",
   "execution_count": null,
   "metadata": {},
   "outputs": [],
   "source": []
  },
  {
   "cell_type": "markdown",
   "metadata": {},
   "source": [
    "### 18. Implement a program to determine the day of the week based on a user-provided number (1 for Monday, 2 for Tuesday etc.)."
   ]
  },
  {
   "cell_type": "code",
   "execution_count": null,
   "metadata": {},
   "outputs": [],
   "source": []
  },
  {
   "cell_type": "markdown",
   "metadata": {},
   "source": [
    "### 19. Create a program that determines if a year is a leap year and also if it is evenly divisible by 400."
   ]
  },
  {
   "cell_type": "code",
   "execution_count": null,
   "metadata": {},
   "outputs": [],
   "source": []
  },
  {
   "cell_type": "markdown",
   "metadata": {},
   "source": [
    "### 20. Develop a program that checks if a given number is prime or not using nested if-else statements."
   ]
  },
  {
   "cell_type": "code",
   "execution_count": null,
   "metadata": {},
   "outputs": [],
   "source": []
  },
  {
   "cell_type": "markdown",
   "metadata": {},
   "source": [
    "# Elif Statements:"
   ]
  },
  {
   "cell_type": "markdown",
   "metadata": {},
   "source": [
    "### 21. Write a Python program to assign grades based on different ranges of scores using elif statements.\n",
    "### 22. Implement a program to determine the type of a triangle based on its angles.\n",
    "### 23. Develop a program to categorize a given person's BMI into underweight, normal, overweight, or obese using elif statements.\n",
    "### 24. Create a program that determines whether a given number is positive, negative, or zero using elif statements.\n",
    "### 25. Write a Python script to determine the type of a character (uppercase, lowercase, or special) using elif statements.\n",
    "### 26. Implement a program to calculate the discounted price based on different purchase amounts using elif statements.\n",
    "### 27. Develop a program to calculate the electricity bill based on different consumption slabs using elif statements.\n",
    "### 28. Create a program to determine the type of quadrilateral based on its angles and sides using elif statements.\n",
    "### 29. Write a Python script to determine the season based on a user-provided month using elif statements.\n",
    "### 30. Implement a program to determine the type of a year (leap or common) and month (30 or 31 days) using elif statements."
   ]
  },
  {
   "cell_type": "markdown",
   "metadata": {},
   "source": []
  },
  {
   "cell_type": "markdown",
   "metadata": {},
   "source": []
  },
  {
   "cell_type": "code",
   "execution_count": null,
   "metadata": {},
   "outputs": [],
   "source": []
  }
 ],
 "metadata": {
  "kernelspec": {
   "display_name": "base",
   "language": "python",
   "name": "python3"
  },
  "language_info": {
   "codemirror_mode": {
    "name": "ipython",
    "version": 3
   },
   "file_extension": ".py",
   "mimetype": "text/x-python",
   "name": "python",
   "nbconvert_exporter": "python",
   "pygments_lexer": "ipython3",
   "version": "3.11.4"
  },
  "orig_nbformat": 4
 },
 "nbformat": 4,
 "nbformat_minor": 2
}
