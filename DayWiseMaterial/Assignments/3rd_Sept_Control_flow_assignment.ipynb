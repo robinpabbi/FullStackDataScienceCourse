{
 "cells": [
  {
   "cell_type": "markdown",
   "metadata": {},
   "source": [
    "# Control Flow - Assignment Questions"
   ]
  },
  {
   "cell_type": "markdown",
   "metadata": {},
   "source": [
    "## Basic If-Else Statements:"
   ]
  },
  {
   "cell_type": "markdown",
   "metadata": {},
   "source": [
    "### 1. Write a Python program to check if a given number is positive or negative."
   ]
  },
  {
   "cell_type": "code",
   "execution_count": 2,
   "metadata": {},
   "outputs": [
    {
     "name": "stdout",
     "output_type": "stream",
     "text": [
      "Number -10 is negative number.\n"
     ]
    }
   ],
   "source": [
    "# Assumption - consider 0 as positive\n",
    "\n",
    "# Function - takes number as input and return True if >= 0 and else False (if negative)\n",
    "def is_positive(n: int)-> bool:\n",
    "    if n >= 0:\n",
    "        return True\n",
    "    else:\n",
    "        return False\n",
    "\n",
    "# Input number from user\n",
    "number = int(input('Enter a number: '))\n",
    "\n",
    "# Check for positivity or negative\n",
    "is_positive_num = is_positive(number)\n",
    "\n",
    "# Print\n",
    "if is_positive_num:\n",
    "    print(f'Number {number} is positve number.')\n",
    "else:\n",
    "    print(f'Number {number} is negative number.')\n"
   ]
  },
  {
   "cell_type": "markdown",
   "metadata": {},
   "source": [
    "### 2. Create a program that determines if a person is eligible to vote based on their age."
   ]
  },
  {
   "cell_type": "code",
   "execution_count": 8,
   "metadata": {},
   "outputs": [
    {
     "name": "stdout",
     "output_type": "stream",
     "text": [
      "Your age 23 and you are eligible to vote.\n"
     ]
    }
   ],
   "source": [
    "# Assumption - person under 18 (less than 18) is not eligible for vote\n",
    "\n",
    "def is_eligible_to_vote(age: int)-> bool:\n",
    "    if age >= 18:\n",
    "        return True\n",
    "    else:\n",
    "        if age < 0:\n",
    "            print('Not a valid age!')\n",
    "        return False\n",
    "    \n",
    "# Input age from user\n",
    "age = int(input('Enter your age: '))\n",
    "\n",
    "# Check eligibility\n",
    "is_eligible = is_eligible_to_vote(age)\n",
    "\n",
    "# Print\n",
    "if is_eligible:\n",
    "    print(f'Your age {age} and you are eligible to vote.')\n",
    "else:    \n",
    "    print(f'Your age {age} and you are not eligible to vote.')\n"
   ]
  },
  {
   "cell_type": "markdown",
   "metadata": {},
   "source": [
    "### 3. Develop a program to find the maximum of two numbers using if-else statements."
   ]
  },
  {
   "cell_type": "code",
   "execution_count": 11,
   "metadata": {},
   "outputs": [
    {
     "name": "stdout",
     "output_type": "stream",
     "text": [
      "Out of 99 and 10 maximum number is: 99\n"
     ]
    }
   ],
   "source": [
    "def get_max(num1: int, num2: int)-> int:\n",
    "    if num1 > num2:\n",
    "        return num1\n",
    "    else:\n",
    "        return num2\n",
    "\n",
    "# Input numbers from user\n",
    "number1 = int(input('Enter number 1: '))\n",
    "number2 = int(input('Enter number 2: '))\n",
    "\n",
    "# Get max number\n",
    "max_num = get_max(number1, number2)\n",
    "\n",
    "# Print\n",
    "print(f'Out of {number1} and {number2} maximum number is: {max_num}')\n"
   ]
  },
  {
   "cell_type": "markdown",
   "metadata": {},
   "source": [
    "### 4. Write a Python script to classify a given year as a leap year or not."
   ]
  },
  {
   "cell_type": "code",
   "execution_count": 25,
   "metadata": {},
   "outputs": [
    {
     "name": "stdout",
     "output_type": "stream",
     "text": [
      "Year 2024 is a leap year.\n"
     ]
    }
   ],
   "source": [
    "# Leap year is a year which is divisible by 4\n",
    "\n",
    "def is_leap_year(year: int) -> bool:\n",
    "    if year % 4 == 0:\n",
    "        return True\n",
    "    else:\n",
    "        return False\n",
    "\n",
    "# Take input of year\n",
    "year = int(input('Enter year: '))\n",
    "\n",
    "# Print\n",
    "if is_leap_year(year):\n",
    "    print(f'Year {year} is a leap year.')\n",
    "else:\n",
    "    print(f'Year {year} is a not leap year.')"
   ]
  },
  {
   "cell_type": "markdown",
   "metadata": {},
   "source": [
    "### 5. Create a program that checks whether a character is a vowel or a consonant."
   ]
  },
  {
   "cell_type": "code",
   "execution_count": 18,
   "metadata": {},
   "outputs": [
    {
     "name": "stdout",
     "output_type": "stream",
     "text": [
      "\"o\" is Vowel\n"
     ]
    }
   ],
   "source": [
    "# Keeping the list of vowels to check from\n",
    "VOWELS = ['a', 'e', 'i', 'o', 'u', 'A', 'E', 'I', 'O', 'U']\n",
    "\n",
    "# char input\n",
    "char = input('Enter a character/letter: ')\n",
    "\n",
    "# Check if vowel or not\n",
    "is_vowel = char in VOWELS\n",
    "\n",
    "# Print\n",
    "if is_vowel:\n",
    "    print(f'\"{char}\" is Vowel')\n",
    "else:\n",
    "    print(f'\"{char}\" is Consonant')"
   ]
  },
  {
   "cell_type": "markdown",
   "metadata": {},
   "source": [
    "### 6. Implement a program to determine whether a given number is even or odd."
   ]
  },
  {
   "cell_type": "code",
   "execution_count": 21,
   "metadata": {},
   "outputs": [
    {
     "name": "stdout",
     "output_type": "stream",
     "text": [
      "Number 101 is ODD\n"
     ]
    }
   ],
   "source": [
    "# Take input of number\n",
    "number = int(input('Enter number: '))\n",
    "\n",
    "# Check if even or not and print\n",
    "# Even\n",
    "if number % 2 == 0:\n",
    "    print(f'Number {number} is EVEN')\n",
    "else: \n",
    "    print(f'Number {number} is ODD')"
   ]
  },
  {
   "cell_type": "markdown",
   "metadata": {},
   "source": [
    "### 7. Write a Python function to calculate the absolute value of a number without using the `abs()` function."
   ]
  },
  {
   "cell_type": "code",
   "execution_count": 22,
   "metadata": {},
   "outputs": [
    {
     "name": "stdout",
     "output_type": "stream",
     "text": [
      "Absolute of -99 is : 99\n"
     ]
    }
   ],
   "source": [
    "# Absolute value is always positive, so multiply negative number with -1\n",
    "\n",
    "def get_absolute(number):\n",
    "    if number < 0:\n",
    "        return number * -1\n",
    "    else:\n",
    "        return number\n",
    "\n",
    "# Take input of number\n",
    "number = int(input('Enter number: '))\n",
    "\n",
    "# Get absolute\n",
    "absolute_val = get_absolute(number)\n",
    "\n",
    "# Print\n",
    "print(f'Absolute of {number} is : {absolute_val}')"
   ]
  },
  {
   "cell_type": "markdown",
   "metadata": {},
   "source": [
    "### 8. Develop a program that determines the largest of three given numbers using if-else statements."
   ]
  },
  {
   "cell_type": "code",
   "execution_count": 28,
   "metadata": {},
   "outputs": [
    {
     "name": "stdout",
     "output_type": "stream",
     "text": [
      "Among 10, 90, 70. Largest number is 90\n"
     ]
    }
   ],
   "source": [
    "# Input numbers from user\n",
    "number1 = int(input('Enter number 1: '))\n",
    "number2 = int(input('Enter number 2: '))\n",
    "number3 = int(input('Enter number 3: '))\n",
    "\n",
    "# Determine using if and else only (not elif) - using nested if and else\n",
    "if number1 > number2:\n",
    "    if number1 > number3:\n",
    "        print(f'Among {number1}, {number2}, {number3}. Largest number is {number1}')\n",
    "    else:\n",
    "        print(f'Among {number1}, {number2}, {number3}. Largest number is {number3}')\n",
    "else:\n",
    "    if number2 > number3:\n",
    "        print(f'Among {number1}, {number2}, {number3}. Largest number is {number2}')\n",
    "    else:\n",
    "        print(f'Among {number1}, {number2}, {number3}. Largest number is {number3}')"
   ]
  },
  {
   "cell_type": "code",
   "execution_count": 29,
   "metadata": {},
   "outputs": [
    {
     "name": "stdout",
     "output_type": "stream",
     "text": [
      "Among 10, 90, 70. Largest number is 90\n"
     ]
    }
   ],
   "source": [
    "# Using if elif and else\n",
    "if number1 > number2 and number1 > number3:\n",
    "    print(f'Among {number1}, {number2}, {number3}. Largest number is {number1}')\n",
    "elif number2 > number1 and number2 > number3:\n",
    "    print(f'Among {number1}, {number2}, {number3}. Largest number is {number2}')\n",
    "else:\n",
    "    print(f'Among {number1}, {number2}, {number3}. Largest number is {number3}')"
   ]
  },
  {
   "cell_type": "markdown",
   "metadata": {},
   "source": [
    "### 9. Create a program that checks if a given string is a palindrome."
   ]
  },
  {
   "cell_type": "code",
   "execution_count": 24,
   "metadata": {},
   "outputs": [
    {
     "name": "stdout",
     "output_type": "stream",
     "text": [
      "String \"aabaa\" is palindrome\n"
     ]
    }
   ],
   "source": [
    "# Take a string input\n",
    "string_to_check = input('Enter your string: ')\n",
    "\n",
    "# Find reverse of string\n",
    "reverse_of_string = string_to_check[::-1]\n",
    "\n",
    "# Using if else find if string it palindrom\n",
    "\n",
    "if string_to_check == reverse_of_string:\n",
    "    print(f'String \"{string_to_check}\" is palindrome')\n",
    "else:\n",
    "    print(f'String \"{string_to_check}\" is not palindrome')"
   ]
  },
  {
   "cell_type": "markdown",
   "metadata": {},
   "source": [
    "### 10. Write a Python program to calculate the grade based on a student's score."
   ]
  },
  {
   "cell_type": "code",
   "execution_count": 27,
   "metadata": {},
   "outputs": [
    {
     "name": "stdout",
     "output_type": "stream",
     "text": [
      "You scored 84.9% marks.\n",
      "Your Grade is A\n"
     ]
    }
   ],
   "source": [
    "# Assumptions : Grades are as below:\n",
    "# marks range       Grade\n",
    "# >= 90             A+\n",
    "# 80-90             A\n",
    "# 70-60             B\n",
    "# < 60              C\n",
    "\n",
    "# Take input of marks in percentage\n",
    "score = float(input('Enter yours percentage score: '))\n",
    "\n",
    "print(f'You scored {score}% marks.')\n",
    "\n",
    "# Print Grade\n",
    "if score >= 90:\n",
    "    print('Your Grade is A+')\n",
    "elif score >= 80:\n",
    "    print('Your Grade is A')\n",
    "elif score >= 70:\n",
    "    print('Your Grade is B')\n",
    "else:\n",
    "    print('Your Grade is C')"
   ]
  },
  {
   "cell_type": "markdown",
   "metadata": {},
   "source": [
    "## Nested If-Else Statements:"
   ]
  },
  {
   "cell_type": "markdown",
   "metadata": {},
   "source": [
    "### 11. Write a program to find the largest among three numbers using nested if-else statements."
   ]
  },
  {
   "cell_type": "code",
   "execution_count": 30,
   "metadata": {},
   "outputs": [
    {
     "name": "stdout",
     "output_type": "stream",
     "text": [
      "Among 18, 96, 100. Largest number is 100\n"
     ]
    }
   ],
   "source": [
    "# Input numbers from user\n",
    "number1 = int(input('Enter number 1: '))\n",
    "number2 = int(input('Enter number 2: '))\n",
    "number3 = int(input('Enter number 3: '))\n",
    "\n",
    "# Determine using  using nested if and else\n",
    "if number1 > number2:\n",
    "    if number1 > number3:\n",
    "        print(f'Among {number1}, {number2}, {number3}. Largest number is {number1}')\n",
    "    else:\n",
    "        print(f'Among {number1}, {number2}, {number3}. Largest number is {number3}')\n",
    "else:\n",
    "    if number2 > number3:\n",
    "        print(f'Among {number1}, {number2}, {number3}. Largest number is {number2}')\n",
    "    else:\n",
    "        print(f'Among {number1}, {number2}, {number3}. Largest number is {number3}')"
   ]
  },
  {
   "cell_type": "markdown",
   "metadata": {},
   "source": [
    "### 12. Implement a program to determine if a triangle is equilateral, isosceles, or scalene.\n",
    "\n",
    "Definitions:\n",
    "\n",
    "> An equilateral triangle is a triangle in which all three sides are equal.\n",
    "\n",
    "> A scalene triangle is a triangle that has three unequal sides.\n",
    "\n",
    "> An isosceles triangle is a triangle with (at least) two equal sides."
   ]
  },
  {
   "cell_type": "code",
   "execution_count": 32,
   "metadata": {},
   "outputs": [
    {
     "name": "stdout",
     "output_type": "stream",
     "text": [
      "x = 20, y = 30, z = 50\n",
      "Triangle is Scalene triangle\n"
     ]
    }
   ],
   "source": [
    "# Take input of triangle edge sizes\n",
    "edge_length_x = int(input(\"Enter edge length x of triangle: \"))\n",
    "edge_length_y = int(input(\"Enter edge length y triangle: \"))\n",
    "edge_length_z = int(input(\"Enter edge length z triangle: \"))\n",
    "\n",
    "# Print entered values\n",
    "print(f'x = {edge_length_x}, y = {edge_length_y}, z = {edge_length_z}')\n",
    "\n",
    "if edge_length_x == edge_length_y == edge_length_z:\n",
    "\tprint(\"Triangle is Equilateral triangle\")\n",
    "elif edge_length_x == edge_length_y or edge_length_y == edge_length_z or edge_length_z == edge_length_x:\n",
    "\tprint(\"Triangle is Isosceles triangle\")\n",
    "else:\n",
    "\tprint(\"Triangle is Scalene triangle\")"
   ]
  },
  {
   "cell_type": "markdown",
   "metadata": {},
   "source": [
    "### 13. Develop a program that checks if a year is a leap year and also if it is a century year."
   ]
  },
  {
   "cell_type": "code",
   "execution_count": 34,
   "metadata": {},
   "outputs": [
    {
     "name": "stdout",
     "output_type": "stream",
     "text": [
      "Year 2023 is not a LEAP year.\n",
      "Year 2024 is a LEAP year.\n",
      "Year 2100 is a LEAP year and a CENTURY year.\n"
     ]
    }
   ],
   "source": [
    "# Approach - Leap year is year divisible by 4 \n",
    "# Century year is year divisible by 100, since 100 is divisible by 4 so it is leap year too\n",
    "\n",
    "# Function - Takes year number as input and print whether it is LEAP year, century year or not leap year.\n",
    "def print_year_details(year: int):\n",
    "    # If divisible by 4 then check if further divisible by 100 if yes then leap + century else leap\n",
    "    if year % 4 == 0:\n",
    "        if year % 100 == 0:\n",
    "            print(f'Year {year} is a LEAP year and a CENTURY year.')\n",
    "        else:\n",
    "            print(f'Year {year} is a LEAP year.')\n",
    "    else:\n",
    "        print(f'Year {year} is not a LEAP year.')\n",
    "\n",
    "# Take input of year\n",
    "year1 = int(input('Enter year1: '))\n",
    "year2 = int(input('Enter year2: '))\n",
    "year3 = int(input('Enter year3: '))\n",
    "\n",
    "# Print result\n",
    "print_year_details(year1)\n",
    "print_year_details(year2)\n",
    "print_year_details(year3)\n"
   ]
  },
  {
   "cell_type": "markdown",
   "metadata": {},
   "source": [
    "### 14. Write a Python script to determine if a number is positive, negative, or zero."
   ]
  },
  {
   "cell_type": "code",
   "execution_count": 39,
   "metadata": {},
   "outputs": [
    {
     "name": "stdout",
     "output_type": "stream",
     "text": [
      "Number entered i.e. 22 is Positve\n",
      "Number entered i.e. -12 is Negative\n",
      "Number entered i.e. 0 is Zero\n"
     ]
    }
   ],
   "source": [
    "# Function - takes number as input and print if number is positive, negative or zero\n",
    "def print_number_positivity(n: int):\n",
    "    if  n >= 0:\n",
    "        if n == 0:\n",
    "            print(f'Number entered i.e. {n} is Zero')\n",
    "        else:\n",
    "            print(f'Number entered i.e. {n} is Positve')\n",
    "    else:\n",
    "        print(f'Number entered i.e. {n} is Negative')\n",
    "\n",
    "# Input number from user\n",
    "number1 = int(input('Enter a number1: '))\n",
    "number2 = int(input('Enter a number2: '))\n",
    "number3 = int(input('Enter a number3: '))\n",
    "\n",
    "# Print\n",
    "print_number_positivity(number1)\n",
    "print_number_positivity(number2)\n",
    "print_number_positivity(number3)"
   ]
  },
  {
   "cell_type": "markdown",
   "metadata": {},
   "source": [
    "### 15. Create a program to check if a person is a teenager (between 13 and 19 years old)."
   ]
  },
  {
   "cell_type": "code",
   "execution_count": 37,
   "metadata": {},
   "outputs": [
    {
     "name": "stdout",
     "output_type": "stream",
     "text": [
      "Your age is 34 and you are not teenager.\n"
     ]
    }
   ],
   "source": [
    "# Function - takes age as input and return if age >= 13 and age <= 19\n",
    "def is_teenager(age: int) -> bool:\n",
    "    if age >= 13 and age <= 19:\n",
    "        return True\n",
    "    else:\n",
    "        return False\n",
    "\n",
    "\n",
    "# Take input of age\n",
    "age = int(input('Enter your age: '))\n",
    "\n",
    "# Print\n",
    "if is_teenager(age):\n",
    "    print(f'Your age is {age} and you are teenager.')\n",
    "else:\n",
    "    print(f'Your age is {age} and you are not teenager.')"
   ]
  },
  {
   "cell_type": "markdown",
   "metadata": {},
   "source": [
    "### 16. Develop a program that determines the type of angle based on its measure (acute, obtuse, or right).\n",
    "\n",
    "Definitions - Note: we have added reflex type of angle too for completeness\n",
    "\n",
    "> ACUTE : The angle that measures less than 90 degrees is the acute angle. The degree always measures between 0 and 90.\n",
    "\n",
    "> RIGHT : The angle that exactly measures 90 degrees is a right angle.\n",
    "\n",
    "> OBSTUSE: The angle that measures more than 90 degrees and less than 180 degrees is an obtuse angle.\n",
    "\n",
    "> REFLEX: The angle that measures more than 180 degrees and less than 360 degrees is the reflex angle."
   ]
  },
  {
   "cell_type": "code",
   "execution_count": 38,
   "metadata": {},
   "outputs": [
    {
     "name": "stdout",
     "output_type": "stream",
     "text": [
      "Angle 120 degree is OBTUSE angle\n"
     ]
    }
   ],
   "source": [
    "# Function - takes angle as input, print type of angle\n",
    "def print_angle_type(angle: int):\n",
    "    if angle > 0 and angle < 90:\n",
    "        print(f'Angle {angle} degree is ACUTE angle')\n",
    "    elif angle == 90:\n",
    "        print(f'Angle {angle} degree is RIGHT angle')\n",
    "    elif angle > 90 and angle < 180:\n",
    "        print(f'Angle {angle} degree is OBTUSE angle')\n",
    "    else:\n",
    "        print(f'Angle {angle} degree is REFLEX angle')\n",
    "\n",
    "# Get angle input\n",
    "angle = int(input('Enter an angle: '))\n",
    "\n",
    "# Print\n",
    "print_angle_type(angle)"
   ]
  },
  {
   "cell_type": "markdown",
   "metadata": {},
   "source": [
    "### 17. Write a Python program to calculate the roots of a quadratic equation.\n",
    "\n",
    "Quadratic equation:\n",
    ">ax2 + bx + c = 0, where a, b and c are real numbers and a ≠ 0\n",
    "\n",
    "Important Formulas on Roots of Quadratic Equations:\n",
    "> The roots are calculated using the formula, x = (-b ± √ (b2 - 4ac) )/2a. Discriminant is, D = b2 - 4ac. If D > 0, then the equation has two real and distinct roots. If D = 0, then the equation has two real and same roots. If D < 0, the equation has two complex roots.\n",
    "\n",
    "x = (-b ± sqrt((b2 - 4ac)))/2a\n",
    "\n",
    "> D > 0 : Real and Distinct roots\n",
    "\n",
    "> D == 0 : Real and Same Roots\n",
    "\n",
    "> D  > 0 : Complex roots"
   ]
  },
  {
   "cell_type": "code",
   "execution_count": 41,
   "metadata": {},
   "outputs": [
    {
     "name": "stdout",
     "output_type": "stream",
     "text": [
      "Roots are real and different.\n",
      "x = -1.0 or x = -4.0\n"
     ]
    }
   ],
   "source": [
    "import math\n",
    "\n",
    "# Function - prints the roots and related info\n",
    "def print_roots_of_quadratic_equation(a: int, b: int, c: int):\n",
    "    if a == 0:\n",
    "        print('Not a valid Quadratic equation.')\n",
    "    else:\n",
    "        # D = b2 - 4ac\n",
    "        D = (b ** 2) - (4 * a * c)\n",
    "\n",
    "        if D == 0:\n",
    "            # D = 0, (-b + sqrt(D))/2a = -b so -b/2a\n",
    "            root = (-b  / (2 * a))\n",
    "            print('Roots are real and same.')\n",
    "            print(f'x = {root}')\n",
    "        elif D > 0:\n",
    "            square_root_D = math.sqrt(D)\n",
    "            root1 = (-b + square_root_D)/(2 * a)\n",
    "            root2 = (-b - square_root_D)/(2 * a)\n",
    "            print('Roots are real and different.')\n",
    "            print(f'x = {root1} or x = {root2}')\n",
    "        else:\n",
    "            print('Roots are complex.')\n",
    "\n",
    "\n",
    "# Compute and print result\n",
    "print_roots_of_quadratic_equation(1, 5, 4)"
   ]
  },
  {
   "cell_type": "markdown",
   "metadata": {},
   "source": [
    "### 18. Implement a program to determine the day of the week based on a user-provided number (1 for Monday, 2 for Tuesday etc.)."
   ]
  },
  {
   "cell_type": "code",
   "execution_count": 4,
   "metadata": {},
   "outputs": [
    {
     "name": "stdout",
     "output_type": "stream",
     "text": [
      "You entered day number: 5\n",
      "It is Friday!\n"
     ]
    }
   ],
   "source": [
    "# Function - Takes a day (number) of the week and print the name of the week day\n",
    "def print_day_name(day_number: int):\n",
    "    if day_number <= 0 or day_number > 7:\n",
    "        print(f'Week day number should be between 1 to 7, both inclusive.')\n",
    "    else:\n",
    "        if day_number == 1:\n",
    "            print('It is Monday!')\n",
    "        elif day_number == 2:\n",
    "            print('It is Tuesday!')\n",
    "        elif day_number == 3:\n",
    "            print('It is Wednesday!')\n",
    "        elif day_number == 4:\n",
    "            print('It is Thursday!')\n",
    "        elif day_number == 5:\n",
    "            print('It is Friday!')\n",
    "        elif day_number == 6:\n",
    "            print('It is Saturday!')\n",
    "        else:\n",
    "            print('It is Sunday!')\n",
    "\n",
    "\n",
    "# Take input from the user\n",
    "day_no = int(input('Enter the day number in the week: '))\n",
    "\n",
    "# Print\n",
    "print(f'You entered day number: {day_no}')\n",
    "print_day_name(day_number=day_no)"
   ]
  },
  {
   "cell_type": "markdown",
   "metadata": {},
   "source": [
    "### 19. Create a program that determines if a year is a leap year and also if it is evenly divisible by 400."
   ]
  },
  {
   "cell_type": "code",
   "execution_count": 1,
   "metadata": {},
   "outputs": [
    {
     "name": "stdout",
     "output_type": "stream",
     "text": [
      "Year 2400 is a LEAP year and divisible by 400.\n",
      "Year 2023 is not a LEAP year.\n",
      "Year 2024 is a LEAP year.\n"
     ]
    }
   ],
   "source": [
    "# Approach - Leap year is year divisible by 4 \n",
    "\n",
    "# Function - Takes year number as input and print whether it is LEAP year or not leap year.\n",
    "def print_year_details(year: int):\n",
    "    # If divisible by 4 then check if further divisible by 100 if yes then leap + century else leap\n",
    "    if year % 4 == 0:\n",
    "        if year % 400 == 0:\n",
    "            print(f'Year {year} is a LEAP year and divisible by 400.')\n",
    "        else:\n",
    "            print(f'Year {year} is a LEAP year.')\n",
    "    else:\n",
    "        print(f'Year {year} is not a LEAP year.')\n",
    "\n",
    "# Take input of year\n",
    "year1 = int(input('Enter year1: '))\n",
    "year2 = int(input('Enter year2: '))\n",
    "year3 = int(input('Enter year3: '))\n",
    "\n",
    "# Print result\n",
    "print_year_details(year1)\n",
    "print_year_details(year2)\n",
    "print_year_details(year3)"
   ]
  },
  {
   "cell_type": "markdown",
   "metadata": {},
   "source": [
    "### 20. Develop a program that checks if a given number is prime or not using nested if-else statements."
   ]
  },
  {
   "cell_type": "code",
   "execution_count": 47,
   "metadata": {},
   "outputs": [
    {
     "name": "stdout",
     "output_type": "stream",
     "text": [
      "Number 31 is Prime number\n"
     ]
    }
   ],
   "source": [
    "import math\n",
    "\n",
    "# Recursive Function - to compute prime number or not - USING NESTED if-else\n",
    "def is_prime_number(number: int, divisor: int) -> bool:\n",
    "    # Nested if else - as required in question\n",
    "    if number % divisor == 0:\n",
    "        if divisor == 1:\n",
    "            return True\n",
    "        else:\n",
    "            return False\n",
    "    else:\n",
    "        return is_prime_number(number, divisor - 1)\n",
    "\n",
    "# Number input from user\n",
    "number = int(input('Enter your number: '))\n",
    "\n",
    "# Check if prime of not\n",
    "is_prime_num = is_prime_number(number, int(math.sqrt(number)) + 1)\n",
    "\n",
    "# Print\n",
    "if is_prime_num:\n",
    "    print(f'Number {number} is Prime number')\n",
    "else:\n",
    "    print(f'Number {number} is not Prime number')"
   ]
  },
  {
   "cell_type": "markdown",
   "metadata": {},
   "source": [
    "## Elif Statements:"
   ]
  },
  {
   "cell_type": "markdown",
   "metadata": {},
   "source": [
    "### 21. Write a Python program to assign grades based on different ranges of scores using elif statements."
   ]
  },
  {
   "cell_type": "code",
   "execution_count": 5,
   "metadata": {},
   "outputs": [
    {
     "name": "stdout",
     "output_type": "stream",
     "text": [
      "You scored 98.0% marks.\n",
      "Your Grade is A+\n"
     ]
    }
   ],
   "source": [
    "# Assumptions : Grades are as below:\n",
    "# marks range       Grade\n",
    "# >= 90             A+\n",
    "# 80-90             A\n",
    "# 70-60             B\n",
    "# < 60              C\n",
    "\n",
    "# Take input of marks in percentage\n",
    "score = float(input('Enter yours percentage score: '))\n",
    "\n",
    "print(f'You scored {score}% marks.')\n",
    "\n",
    "# Print Grade\n",
    "if score >= 90:\n",
    "    print('Your Grade is A+')\n",
    "elif score >= 80:\n",
    "    print('Your Grade is A')\n",
    "elif score >= 70:\n",
    "    print('Your Grade is B')\n",
    "else:\n",
    "    print('Your Grade is C')"
   ]
  },
  {
   "cell_type": "markdown",
   "metadata": {},
   "source": [
    "### 22. Implement a program to determine the type of a triangle based on its angles.\n",
    "\n",
    "Considerations:\n",
    "> An acute triangle is a triangle whose all the three interior angles are < 90 degrees.\n",
    "\n",
    "> Obtuse triangles are those in which one of the three interior angles has a measure greater than 90 degrees.\n",
    "\n",
    "> A right triangle is a triangle in which one of the angles is 90 degrees."
   ]
  },
  {
   "cell_type": "code",
   "execution_count": 8,
   "metadata": {},
   "outputs": [
    {
     "name": "stdout",
     "output_type": "stream",
     "text": [
      "Triangle with given Angles (120, 40, 20) is an OBTUSE triangle.\n"
     ]
    }
   ],
   "source": [
    "# Function - takes angles of triangle and print the type of triangle \n",
    "# Also we will validate the angles by summing up and checking if it is 180 or not. Angles of triangle should sum up to 180.\n",
    "def print_triangle_type(angle1: int, angle2: int, angle3: int):\n",
    "    sum_of_angles = angle1 + angle2 + angle3\n",
    "\n",
    "    if sum_of_angles != 180:\n",
    "        print('Not a valid triangle.')\n",
    "    else:\n",
    "        if angle1 < 90 and angle2 < 90 and angle3 < 90:\n",
    "            print(f'Triangle with given Angles {(angle1, angle2, angle3)} is an ACUTE triangle.')\n",
    "        elif angle1 == 90 or angle2 == 90 or angle3 == 90:\n",
    "            print(f'Triangle with given Angles {(angle1, angle2, angle3)} is an RIGHT triangle.')\n",
    "        elif angle1 > 90 or angle2 > 90 or angle3 > 90:\n",
    "            print(f'Triangle with given Angles {(angle1, angle2, angle3)} is an OBTUSE triangle.')\n",
    "\n",
    "# Get angle input\n",
    "angle1 = int(input('Enter an interior angle 1 of triangle: '))\n",
    "angle2 = int(input('Enter an interior angle 2 of triangle: '))\n",
    "angle3 = int(input('Enter an interior angle 3 of triangle: '))\n",
    "\n",
    "# Print\n",
    "print_triangle_type(angle1, angle2, angle3)"
   ]
  },
  {
   "cell_type": "markdown",
   "metadata": {},
   "source": [
    "### 23. Develop a program to categorize a given person's BMI into underweight, normal, overweight, or obese using elif statements."
   ]
  },
  {
   "cell_type": "code",
   "execution_count": 10,
   "metadata": {},
   "outputs": [
    {
     "name": "stdout",
     "output_type": "stream",
     "text": [
      "Your BMI is 22.4 and you are categorized as NORMAL.\n"
     ]
    }
   ],
   "source": [
    "# Considerations - as per https://www.nhlbi.nih.gov/health/educational/lose_wt/BMI/bmicalc.htm\n",
    "#   BMI Categories:\n",
    "#       Underweight = <18.5\n",
    "#       Normal weight = 18.5–24.9 (we take less than 25 here to consider 24.99 and so on)\n",
    "#       Overweight = 25–29.9 (we take less than 30 here to consider 29.99 and so on)\n",
    "#       Obesity = BMI of 30 or greater  \n",
    "\n",
    "# Function - takes a input of BMI (float number) and prints category as per above consideration\n",
    "def print_person_weight_category(bmi: float):\n",
    "    if bmi < 18.5:\n",
    "        print(f'Your BMI is {bmi} and you are categorized as UNDERWEIGHT.')\n",
    "    elif bmi >= 18.5 and bmi < 25:\n",
    "        print(f'Your BMI is {bmi} and you are categorized as NORMAL.')\n",
    "    elif bmi >= 25 and bmi < 30:\n",
    "        print(f'Your BMI is {bmi} and you are categorized as OVERWEIGHT.')\n",
    "    else:\n",
    "        print(f'Your BMI is {bmi} and you are categorized as OBESE.')\n",
    "\n",
    "\n",
    "# Take BMI input\n",
    "bmi = float(input('Enter your BMI: '))\n",
    "\n",
    "# Print\n",
    "print_person_weight_category(bmi)"
   ]
  },
  {
   "cell_type": "markdown",
   "metadata": {},
   "source": [
    "### 24. Create a program that determines whether a given number is positive, negative, or zero using elif statements."
   ]
  },
  {
   "cell_type": "code",
   "execution_count": 11,
   "metadata": {},
   "outputs": [
    {
     "name": "stdout",
     "output_type": "stream",
     "text": [
      "Number entered i.e. 0 is Zero\n",
      "Number entered i.e. 20 is Positve\n",
      "Number entered i.e. -54 is Negative\n"
     ]
    }
   ],
   "source": [
    "# Function - takes number as input and print if number is positive, negative or zero - using if elif else\n",
    "def print_number_positivity(n: int):\n",
    "    if  n == 0:\n",
    "        print(f'Number entered i.e. {n} is Zero')\n",
    "    elif n > 0:\n",
    "        print(f'Number entered i.e. {n} is Positve')\n",
    "    else:\n",
    "        print(f'Number entered i.e. {n} is Negative')\n",
    "\n",
    "# Input number from user\n",
    "number1 = int(input('Enter a number1: '))\n",
    "number2 = int(input('Enter a number2: '))\n",
    "number3 = int(input('Enter a number3: '))\n",
    "\n",
    "# Print\n",
    "print_number_positivity(number1)\n",
    "print_number_positivity(number2)\n",
    "print_number_positivity(number3)"
   ]
  },
  {
   "cell_type": "markdown",
   "metadata": {},
   "source": [
    "### 25. Write a Python script to determine the type of a character (uppercase, lowercase, or special) using elif statements."
   ]
  },
  {
   "cell_type": "code",
   "execution_count": 12,
   "metadata": {},
   "outputs": [
    {
     "name": "stdout",
     "output_type": "stream",
     "text": [
      "Character R is UPPERCASE.\n",
      "Character r is lowercase.\n",
      "Character @ is Special.\n"
     ]
    }
   ],
   "source": [
    "# Function takes a character as inpout and print the type as per question\n",
    "def print_type_of_character(char: str):\n",
    "    if char.islower():\n",
    "        print(f'Character {char} is lowercase.')\n",
    "    elif char.isupper():\n",
    "        print(f'Character {char} is UPPERCASE.')\n",
    "    else:\n",
    "        print(f'Character {char} is Special.')\n",
    "\n",
    "# Print type of character\n",
    "print_type_of_character('R')\n",
    "print_type_of_character('r')\n",
    "print_type_of_character('@')"
   ]
  },
  {
   "cell_type": "markdown",
   "metadata": {},
   "source": [
    "### 26. Implement a program to calculate the discounted price based on different purchase amounts using elif statements."
   ]
  },
  {
   "cell_type": "code",
   "execution_count": 14,
   "metadata": {},
   "outputs": [
    {
     "name": "stdout",
     "output_type": "stream",
     "text": [
      "Your actual purchase amount was: 12000\n",
      "After applying 20% discount, you have to pay only 9600.0\n"
     ]
    }
   ],
   "source": [
    "# Assumptions as below\n",
    "#    Amount          Discount\n",
    "#    0-5000          5%\n",
    "#    5001-10000      10%\n",
    "#    10001-20000     20%\n",
    "#    above 20000     30%\n",
    "\n",
    "def get_discount_percentage(purchase_amount: int) -> int:\n",
    "    if purchase_amount <= 5000:\n",
    "        return 5\n",
    "    elif purchase_amount <= 10000:\n",
    "        return 10\n",
    "    elif purchase_amount <= 20000:\n",
    "        return 20\n",
    "    else:\n",
    "        return 30\n",
    "\n",
    "# input purchase amount\n",
    "purchase_amount = int(input(\"Enter Purchase Amount: \")) \n",
    "\n",
    "# Get Discount percentage\n",
    "discount = get_discount_percentage(purchase_amount)\n",
    "\n",
    "# Compute discounted price - 100 - discount will give us percentage of amount to be received\n",
    "discounted_amount = (100 - discount) * purchase_amount / 100\n",
    "\n",
    "# Print\n",
    "print(f'Your actual purchase amount was: {purchase_amount}')\n",
    "print(f'After applying {discount}% discount, you have to pay only {discounted_amount}')"
   ]
  },
  {
   "cell_type": "markdown",
   "metadata": {},
   "source": [
    "### 27. Develop a program to calculate the electricity bill based on different consumption slabs using elif statements."
   ]
  },
  {
   "cell_type": "code",
   "execution_count": 15,
   "metadata": {},
   "outputs": [
    {
     "name": "stdout",
     "output_type": "stream",
     "text": [
      "You consumed 450 units of electricity and your bill is 6000\n"
     ]
    }
   ],
   "source": [
    "# Assumptions as below\n",
    "#    Units consumed     Price/Unit in range\n",
    "#    <= 100              5\n",
    "#    101-200             10\n",
    "#    201-300             15\n",
    "#    >= 301              20\n",
    "\n",
    "def calculate_electricity_bill(units_used: int):\n",
    "    bill = 0\n",
    "    if units_used <= 100:\n",
    "        bill = units_used * 5\n",
    "    elif units_used >= 101 and units_used <= 200:\n",
    "        bill = (100 * 5) + (units_used - 100) * 10\n",
    "    elif units_used >= 201 and units_used <= 300:\n",
    "        bill = (100 * 5) + (100 * 10) + (units_used - 200) * 15\n",
    "    else:\n",
    "        bill = (100 * 5) + (100 * 10) + (100 * 15) + (units_used - 300) * 20\n",
    "    \n",
    "    return bill\n",
    "\n",
    "\n",
    "# Take input of the units used\n",
    "units = int(input(\"Enter your units used: \"))\n",
    "\n",
    "# Compute bill\n",
    "electric_bill = calculate_electricity_bill(units)\n",
    "\n",
    "# Print\n",
    "print(f'You consumed {units} units of electricity and your bill is {electric_bill}')"
   ]
  },
  {
   "cell_type": "markdown",
   "metadata": {},
   "source": [
    "### 28. Create a program to determine the type of quadrilateral based on its angles and sides using elif statements.\n",
    "\n",
    "> A Quadrilateral Is A Shape With 4 Sides And 4 Angles. It can be of following types:\n",
    "* Square - All four sides have the same length, All angles are equal to each other\n",
    "* Rhombus  -- All four sides have the same length, Angle 1 equals Angle 3,  Angle 2 equals Angle 4\n",
    "* Rectangle -- Side 1 equals Side 3, Side 2 equals Side 4, All angles are equal to each other\n",
    "\n",
    "> Those quadrilaterals which have at least one of the interior angles greater than 180° are called concave quadrilaterals.\n",
    "\n",
    "> Those quadrilaterals in which all the interior angles are less than 180° are called convex quadrilaterals."
   ]
  },
  {
   "cell_type": "code",
   "execution_count": 18,
   "metadata": {},
   "outputs": [
    {
     "name": "stdout",
     "output_type": "stream",
     "text": [
      "Side 1 = 40, Side 2 = 40, Side 3 = 40, Side 4 = 40\n",
      "Angle 1 = 60, Angle 2 = 120, Angle 3 = 60, Angle 4 = 120\n",
      "Entered quadrilateral is RHOMBUS and it is convex quadrilateral\n"
     ]
    }
   ],
   "source": [
    "def print_type_of_quadrilateral(side1: int, side2: int, side3:int, side4: int,\n",
    "                                angle1: int, angle2: int, angle3: int, angle4: int):\n",
    "    if angle1 == angle2 == angle3 == angle4 == 90 and side1 == side2 == side3 == side4:\n",
    "        print('Entered quadrilateral is SQUARE and it is convex quadrilateral')\n",
    "    elif angle1 == angle2 == angle3 == angle4 == 90 and side1 == side3 and side2 == side4:\n",
    "        print('Entered quadrilateral is RECTANGLE and it is convex quadrilateral')\n",
    "    elif angle1 == angle3 and angle2 == angle4 and side1 == side3 == side2 == side4:\n",
    "        print('Entered quadrilateral is RHOMBUS and it is convex quadrilateral')\n",
    "    elif angle1 > 180 or angle2 > 180 or angle3 > 180 or angle4 > 180:\n",
    "        print('Entered quadrilateral is Concave quadrilateral')\n",
    "\n",
    "\n",
    "# Enter Values from user\n",
    "side1 = int(input('Enter side 1 length: '))\n",
    "side2 = int(input('Enter side 2 length: '))\n",
    "side3 = int(input('Enter side 3 length: '))\n",
    "side4 = int(input('Enter side 4 length: '))\n",
    "\n",
    "angle1 = int(input('Enter angle 1 length: '))\n",
    "angle2 = int(input('Enter angle 2 length: '))\n",
    "angle3 = int(input('Enter angle 3 length: '))\n",
    "angle4 = int(input('Enter angle 4 length: '))\n",
    "\n",
    "# Print entered values\n",
    "print(f'Side 1 = {side1}, Side 2 = {side2}, Side 3 = {side3}, Side 4 = {side4}')\n",
    "print(f'Angle 1 = {angle1}, Angle 2 = {angle2}, Angle 3 = {angle3}, Angle 4 = {angle4}')\n",
    "\n",
    "# Print results \n",
    "print_type_of_quadrilateral(side1, side2, side3, side4, angle1, angle2, angle3, angle4)"
   ]
  },
  {
   "cell_type": "markdown",
   "metadata": {},
   "source": [
    "### 29. Write a Python script to determine the season based on a user-provided month using elif statements."
   ]
  },
  {
   "cell_type": "code",
   "execution_count": 21,
   "metadata": {},
   "outputs": [
    {
     "name": "stdout",
     "output_type": "stream",
     "text": [
      "You entered: September and it is Autumn\n"
     ]
    }
   ],
   "source": [
    "# Assumptions:\n",
    "#   December, January, February\t\t\tWinter\n",
    "#\tMarch, April, May\t\t\t\t\tSpring\n",
    "#\tJune, July, August\t\t\t\t\tSummer\n",
    "#\tSeptember. October, NOvember\t\tAutumn\n",
    "\n",
    "def get_season(month_name: str) -> str:\n",
    "\tmonth_name = month_name.lower()\n",
    "\tif month_name in ('december', 'january', 'february'):\n",
    "\t\treturn 'Winter'\n",
    "\telif month_name in ('march', 'april', 'may'):\n",
    "\t\treturn 'Spring'\n",
    "\telif month_name in ('june', 'july', 'august'):\n",
    "\t\treturn 'Summer'\n",
    "\telif month_name in ('september', 'october', 'november'):\n",
    "\t\treturn 'Autumn'\n",
    "\telse:\n",
    "\t\treturn 'Not Valid'\n",
    "\n",
    "# Take month input\n",
    "month = input(\"Input the month name (e.g. January, February etc.): \")\n",
    "\n",
    "# Get season\n",
    "season = get_season(month)\n",
    "\n",
    "# Print\n",
    "print(f'You entered: {month} and it is {season}')"
   ]
  },
  {
   "cell_type": "markdown",
   "metadata": {},
   "source": [
    "### 30. Implement a program to determine the type of a year (leap or common) and month (30 or 31 days) using elif statements."
   ]
  },
  {
   "cell_type": "code",
   "execution_count": 23,
   "metadata": {},
   "outputs": [
    {
     "name": "stdout",
     "output_type": "stream",
     "text": [
      "Year 2025 is common year and Number of days in month 9 are 30\n"
     ]
    }
   ],
   "source": [
    "def print_year_month_details(year: int, month: int):\n",
    "    # Compute is leap year instead of adding formula in conditions\n",
    "    is_leap_year = year % 4 == 0\n",
    "    \n",
    "    if month == 2 and is_leap_year:\n",
    "        print(f'Year {year} is leap year and Number of days in month {month} are 29')\n",
    "    elif month == 2:\n",
    "        print(f'Year {year} is common year and Number of days in month {month} are 28')\n",
    "    elif (month==1 or month==3 or month==5 or month==7 or month==8 or month==10 or month==12):\n",
    "        if is_leap_year:\n",
    "            print(f'Year {year} is leap year and Number of days in month {month} are 31')\n",
    "        else:\n",
    "            print(f'Year {year} is common year and Number of days in month {month} are 31')\n",
    "    else:\n",
    "        if is_leap_year:\n",
    "            print(f'Year {year} is leap year and Number of days in month {month} are 30')\n",
    "        else:\n",
    "            print(f'Year {year} is common year and Number of days in month {month} are 30')\n",
    "\n",
    "# Take input from user\n",
    "year = int(input('Enter year: '))\n",
    "month = int(input('Enter month (1-12): '))\n",
    "\n",
    "# Print\n",
    "print_year_month_details(year, month)"
   ]
  },
  {
   "cell_type": "markdown",
   "metadata": {},
   "source": [
    "# Assignment Questions"
   ]
  },
  {
   "cell_type": "markdown",
   "metadata": {},
   "source": [
    "\n",
    "## Basic Level:"
   ]
  },
  {
   "cell_type": "markdown",
   "metadata": {},
   "source": [
    "### 1. Write a Python program that checks if a given number is positive, negative, or zero."
   ]
  },
  {
   "cell_type": "code",
   "execution_count": 24,
   "metadata": {},
   "outputs": [
    {
     "name": "stdout",
     "output_type": "stream",
     "text": [
      "Number entered i.e. 25 is Positve\n",
      "Number entered i.e. 0 is Zero\n",
      "Number entered i.e. -85 is Negative\n"
     ]
    }
   ],
   "source": [
    "# Function - takes number as input and print if number is positive, negative or zero - using if elif else\n",
    "def print_number_positivity(n: int):\n",
    "    if  n == 0:\n",
    "        print(f'Number entered i.e. {n} is Zero')\n",
    "    elif n > 0:\n",
    "        print(f'Number entered i.e. {n} is Positve')\n",
    "    else:\n",
    "        print(f'Number entered i.e. {n} is Negative')\n",
    "\n",
    "# Input number from user\n",
    "number1 = int(input('Enter a number1: '))\n",
    "number2 = int(input('Enter a number2: '))\n",
    "number3 = int(input('Enter a number3: '))\n",
    "\n",
    "# Print\n",
    "print_number_positivity(number1)\n",
    "print_number_positivity(number2)\n",
    "print_number_positivity(number3)"
   ]
  },
  {
   "cell_type": "markdown",
   "metadata": {},
   "source": [
    "### 2. Create a program to determine if a person is eligible to vote based on their age."
   ]
  },
  {
   "cell_type": "code",
   "execution_count": 25,
   "metadata": {},
   "outputs": [
    {
     "name": "stdout",
     "output_type": "stream",
     "text": [
      "Your age 17 and you are not eligible to vote.\n"
     ]
    }
   ],
   "source": [
    "# Consideration - person under 18 (less than 18) is not eligible for vote\n",
    "\n",
    "def is_eligible_to_vote(age: int)-> bool:\n",
    "    if age >= 18:\n",
    "        return True\n",
    "    else:\n",
    "        if age < 0:\n",
    "            print('Not a valid age!')\n",
    "        return False\n",
    "    \n",
    "# Input age from user\n",
    "age = int(input('Enter your age: '))\n",
    "\n",
    "# Check eligibility\n",
    "is_eligible = is_eligible_to_vote(age)\n",
    "\n",
    "# Print\n",
    "if is_eligible:\n",
    "    print(f'Your age {age} and you are eligible to vote.')\n",
    "else:    \n",
    "    print(f'Your age {age} and you are not eligible to vote.')\n"
   ]
  },
  {
   "cell_type": "markdown",
   "metadata": {},
   "source": [
    "### 3. Write a program to find the maximum of two given numbers using conditional statements."
   ]
  },
  {
   "cell_type": "code",
   "execution_count": 26,
   "metadata": {},
   "outputs": [
    {
     "name": "stdout",
     "output_type": "stream",
     "text": [
      "Out of 59 and 15 maximum number is: 59\n"
     ]
    }
   ],
   "source": [
    "def get_max(num1: int, num2: int)-> int:\n",
    "    if num1 > num2:\n",
    "        return num1\n",
    "    else:\n",
    "        return num2\n",
    "\n",
    "# Input numbers from user\n",
    "number1 = int(input('Enter number 1: '))\n",
    "number2 = int(input('Enter number 2: '))\n",
    "\n",
    "# Get max number\n",
    "max_num = get_max(number1, number2)\n",
    "\n",
    "# Print\n",
    "print(f'Out of {number1} and {number2} maximum number is: {max_num}')\n"
   ]
  },
  {
   "cell_type": "markdown",
   "metadata": {},
   "source": [
    "### 4. Develop a program that calculates the grade of a student based on their exam score."
   ]
  },
  {
   "cell_type": "code",
   "execution_count": 27,
   "metadata": {},
   "outputs": [
    {
     "name": "stdout",
     "output_type": "stream",
     "text": [
      "You scored 84.0% marks.\n",
      "Your Grade is A\n"
     ]
    }
   ],
   "source": [
    "# Assumptions : Grades are as below:\n",
    "# marks range       Grade\n",
    "# >= 90             A+\n",
    "# 80-90             A\n",
    "# 70-60             B\n",
    "# < 60              C\n",
    "\n",
    "# Take input of marks in percentage\n",
    "score = float(input('Enter yours percentage score: '))\n",
    "\n",
    "print(f'You scored {score}% marks.')\n",
    "\n",
    "# Print Grade\n",
    "if score >= 90:\n",
    "    print('Your Grade is A+')\n",
    "elif score >= 80:\n",
    "    print('Your Grade is A')\n",
    "elif score >= 70:\n",
    "    print('Your Grade is B')\n",
    "else:\n",
    "    print('Your Grade is C')"
   ]
  },
  {
   "cell_type": "markdown",
   "metadata": {},
   "source": [
    "### 5. Create a program that checks if a year is a leap year or not."
   ]
  },
  {
   "cell_type": "code",
   "execution_count": 28,
   "metadata": {},
   "outputs": [
    {
     "name": "stdout",
     "output_type": "stream",
     "text": [
      "Year 2048 is a leap year.\n"
     ]
    }
   ],
   "source": [
    "# Leap year is a year which is divisible by 4\n",
    "\n",
    "def is_leap_year(year: int) -> bool:\n",
    "    if year % 4 == 0:\n",
    "        return True\n",
    "    else:\n",
    "        return False\n",
    "\n",
    "# Take input of year\n",
    "year = int(input('Enter year: '))\n",
    "\n",
    "# Print\n",
    "if is_leap_year(year):\n",
    "    print(f'Year {year} is a leap year.')\n",
    "else:\n",
    "    print(f'Year {year} is a not leap year.')"
   ]
  },
  {
   "cell_type": "markdown",
   "metadata": {},
   "source": [
    "### 6. Write a program to classify a triangle based on its sides' lengths."
   ]
  },
  {
   "cell_type": "code",
   "execution_count": 29,
   "metadata": {},
   "outputs": [
    {
     "name": "stdout",
     "output_type": "stream",
     "text": [
      "x = 60, y = 60, z = 60\n",
      "Triangle is Equilateral triangle\n"
     ]
    }
   ],
   "source": [
    "'''\n",
    "Considerations:\n",
    "\n",
    "> An equilateral triangle is a triangle in which all three sides are equal.\n",
    "\n",
    "> A scalene triangle is a triangle that has three unequal sides.\n",
    "\n",
    "> An isosceles triangle is a triangle with (at least) two equal sides.\n",
    "'''\n",
    "\n",
    "# Take input of triangle edge sizes\n",
    "edge_length_x = int(input(\"Enter edge length x of triangle: \"))\n",
    "edge_length_y = int(input(\"Enter edge length y triangle: \"))\n",
    "edge_length_z = int(input(\"Enter edge length z triangle: \"))\n",
    "\n",
    "# Print entered values\n",
    "print(f'x = {edge_length_x}, y = {edge_length_y}, z = {edge_length_z}')\n",
    "\n",
    "if edge_length_x == edge_length_y == edge_length_z:\n",
    "\tprint(\"Triangle is Equilateral triangle\")\n",
    "elif edge_length_x == edge_length_y or edge_length_y == edge_length_z or edge_length_z == edge_length_x:\n",
    "\tprint(\"Triangle is Isosceles triangle\")\n",
    "else:\n",
    "\tprint(\"Triangle is Scalene triangle\")"
   ]
  },
  {
   "cell_type": "markdown",
   "metadata": {},
   "source": [
    "### 7. Build a program that determines the largest of three given numbers."
   ]
  },
  {
   "cell_type": "code",
   "execution_count": 30,
   "metadata": {},
   "outputs": [
    {
     "name": "stdout",
     "output_type": "stream",
     "text": [
      "Among 20, 85, 42. Largest number is 85\n"
     ]
    }
   ],
   "source": [
    "# Input numbers from user\n",
    "number1 = int(input('Enter number 1: '))\n",
    "number2 = int(input('Enter number 2: '))\n",
    "number3 = int(input('Enter number 3: '))\n",
    "\n",
    "# Using if elif and else\n",
    "if number1 > number2 and number1 > number3:\n",
    "    print(f'Among {number1}, {number2}, {number3}. Largest number is {number1}')\n",
    "elif number2 > number1 and number2 > number3:\n",
    "    print(f'Among {number1}, {number2}, {number3}. Largest number is {number2}')\n",
    "else:\n",
    "    print(f'Among {number1}, {number2}, {number3}. Largest number is {number3}')"
   ]
  },
  {
   "cell_type": "markdown",
   "metadata": {},
   "source": [
    "### 8. Develop a program that checks whether a character is a vowel or a consonant."
   ]
  },
  {
   "cell_type": "code",
   "execution_count": 31,
   "metadata": {},
   "outputs": [
    {
     "name": "stdout",
     "output_type": "stream",
     "text": [
      "\"I\" is Vowel\n"
     ]
    }
   ],
   "source": [
    "# Keeping the list of vowels to check from\n",
    "VOWELS = ['a', 'e', 'i', 'o', 'u', 'A', 'E', 'I', 'O', 'U']\n",
    "\n",
    "# char input\n",
    "char = input('Enter a character/letter: ')\n",
    "\n",
    "# Check if vowel or not\n",
    "is_vowel = char in VOWELS\n",
    "\n",
    "# Print\n",
    "if is_vowel:\n",
    "    print(f'\"{char}\" is Vowel')\n",
    "else:\n",
    "    print(f'\"{char}\" is Consonant')"
   ]
  },
  {
   "cell_type": "markdown",
   "metadata": {},
   "source": [
    "### 9. Create a program to calculate the total cost of a shopping cart based on discounts."
   ]
  },
  {
   "cell_type": "code",
   "execution_count": 33,
   "metadata": {},
   "outputs": [
    {
     "name": "stdout",
     "output_type": "stream",
     "text": [
      "Your actual purchase amount was: 5620\n",
      "After applying 10% discount, you have to pay only 5058.0\n"
     ]
    }
   ],
   "source": [
    "# Assumptions as below\n",
    "#    Cart Amount    Discount\n",
    "#    0-5000          5%\n",
    "#    5001-10000      10%\n",
    "#    10001-20000     20%\n",
    "#    above 20000     30%\n",
    "\n",
    "def get_discount_percentage(cart_value: int) -> int:\n",
    "    if cart_value <= 5000:\n",
    "        return 5\n",
    "    elif cart_value <= 10000:\n",
    "        return 10\n",
    "    elif cart_value <= 20000:\n",
    "        return 20\n",
    "    else:\n",
    "        return 30\n",
    "\n",
    "# input purchase amount\n",
    "cart_amount = int(input(\"Enter Cart Amount: \")) \n",
    "\n",
    "# Get Discount percentage\n",
    "discount = get_discount_percentage(cart_amount)\n",
    "\n",
    "# Compute discounted price - 100 - discount will give us percentage of amount to be received\n",
    "discounted_amount = (100 - discount) * cart_amount / 100\n",
    "\n",
    "# Print\n",
    "print(f'Your actual purchase amount was: {cart_amount}')\n",
    "print(f'After applying {discount}% discount, you have to pay only {discounted_amount}')"
   ]
  },
  {
   "cell_type": "markdown",
   "metadata": {},
   "source": [
    "### 10. Write a program that checks if a given number is even or odd.\n"
   ]
  },
  {
   "cell_type": "code",
   "execution_count": 32,
   "metadata": {},
   "outputs": [
    {
     "name": "stdout",
     "output_type": "stream",
     "text": [
      "Number 23 is ODD.\n"
     ]
    }
   ],
   "source": [
    "# Take a number input\n",
    "number = int(input('Enter a number: '))\n",
    "\n",
    "# Check and print\n",
    "if number % 2 == 0:\n",
    "    print(f'Number {number} is EVEN.')\n",
    "else:\n",
    "    print(f'Number {number} is ODD.')"
   ]
  },
  {
   "cell_type": "markdown",
   "metadata": {},
   "source": [
    "## Intermediate Level:"
   ]
  },
  {
   "cell_type": "markdown",
   "metadata": {},
   "source": [
    "### 11. Write a program that calculates the roots of a quadratic equation ."
   ]
  },
  {
   "cell_type": "code",
   "execution_count": 43,
   "metadata": {},
   "outputs": [
    {
     "name": "stdout",
     "output_type": "stream",
     "text": [
      "Roots are real and different.\n",
      "x = -0.6972243622680054 or x = -4.302775637731995\n"
     ]
    }
   ],
   "source": [
    "import math\n",
    "\n",
    "# Function - prints the roots and related info\n",
    "def print_roots_of_quadratic_equation(a: int, b: int, c: int):\n",
    "    if a == 0:\n",
    "        print('Not a valid Quadratic equation.')\n",
    "    else:\n",
    "        # D = b2 - 4ac\n",
    "        D = (b ** 2) - (4 * a * c)\n",
    "\n",
    "        if D == 0:\n",
    "            # D = 0, (-b + sqrt(D))/2a = -b so -b/2a\n",
    "            root = (-b  / (2 * a))\n",
    "            print('Roots are real and same.')\n",
    "            print(f'x = {root}')\n",
    "        elif D > 0:\n",
    "            square_root_D = math.sqrt(D)\n",
    "            root1 = (-b + square_root_D)/(2 * a)\n",
    "            root2 = (-b - square_root_D)/(2 * a)\n",
    "            print('Roots are real and different.')\n",
    "            print(f'x = {root1} or x = {root2}')\n",
    "        else:\n",
    "            print('Roots are complex.')\n",
    "\n",
    "\n",
    "# Compute and print result\n",
    "print_roots_of_quadratic_equation(1, 5, 3)"
   ]
  },
  {
   "cell_type": "markdown",
   "metadata": {},
   "source": [
    "### 12. Create a program that determines the day of the week based on the day number (1-7)."
   ]
  },
  {
   "cell_type": "code",
   "execution_count": 34,
   "metadata": {},
   "outputs": [
    {
     "name": "stdout",
     "output_type": "stream",
     "text": [
      "You entered day number: 3\n",
      "It is Wednesday!\n"
     ]
    }
   ],
   "source": [
    "# Function - Takes a day (number) of the week and print the name of the week day\n",
    "def print_day_name(day_number: int):\n",
    "    if day_number <= 0 or day_number > 7:\n",
    "        print(f'Week day number should be between 1 to 7, both inclusive.')\n",
    "    else:\n",
    "        if day_number == 1:\n",
    "            print('It is Monday!')\n",
    "        elif day_number == 2:\n",
    "            print('It is Tuesday!')\n",
    "        elif day_number == 3:\n",
    "            print('It is Wednesday!')\n",
    "        elif day_number == 4:\n",
    "            print('It is Thursday!')\n",
    "        elif day_number == 5:\n",
    "            print('It is Friday!')\n",
    "        elif day_number == 6:\n",
    "            print('It is Saturday!')\n",
    "        else:\n",
    "            print('It is Sunday!')\n",
    "\n",
    "\n",
    "# Take input from the user\n",
    "day_no = int(input('Enter the day number in the week: '))\n",
    "\n",
    "# Print\n",
    "print(f'You entered day number: {day_no}')\n",
    "print_day_name(day_number=day_no)"
   ]
  },
  {
   "cell_type": "markdown",
   "metadata": {},
   "source": [
    "### 13. Develop a program that calculates the factorial of a given number using recursion."
   ]
  },
  {
   "cell_type": "code",
   "execution_count": 44,
   "metadata": {},
   "outputs": [
    {
     "name": "stdout",
     "output_type": "stream",
     "text": [
      "Factorial of 6 is 720\n"
     ]
    }
   ],
   "source": [
    "# Factorial formula = F(n) = n * (n-1) * .... 1\n",
    "\n",
    "# function - takes n as input and return factorial of n (recurssive function)\n",
    "def get_factorial(n:int) -> int:\n",
    "    if(n == 1):\n",
    "        return 1\n",
    "    else:\n",
    "        return n * get_factorial(n-1)\n",
    "    \n",
    "# Take an input number\n",
    "num = int(input('Enter a number: '))\n",
    "\n",
    "# Get Factorial\n",
    "factorial = get_factorial(num)\n",
    "\n",
    "# Print\n",
    "print(f'Factorial of {num} is {factorial}')"
   ]
  },
  {
   "cell_type": "markdown",
   "metadata": {},
   "source": [
    "### 14. Write a program to find the largest among three numbers without using the `max()` function."
   ]
  },
  {
   "cell_type": "code",
   "execution_count": 45,
   "metadata": {},
   "outputs": [
    {
     "name": "stdout",
     "output_type": "stream",
     "text": [
      "Among 89, 97, 12. Largest number is 97\n"
     ]
    }
   ],
   "source": [
    "# Input numbers from user\n",
    "number1 = int(input('Enter number 1: '))\n",
    "number2 = int(input('Enter number 2: '))\n",
    "number3 = int(input('Enter number 3: '))\n",
    "\n",
    "# Using if elif and else\n",
    "if number1 > number2 and number1 > number3:\n",
    "    print(f'Among {number1}, {number2}, {number3}. Largest number is {number1}')\n",
    "elif number2 > number1 and number2 > number3:\n",
    "    print(f'Among {number1}, {number2}, {number3}. Largest number is {number2}')\n",
    "else:\n",
    "    print(f'Among {number1}, {number2}, {number3}. Largest number is {number3}')"
   ]
  },
  {
   "cell_type": "markdown",
   "metadata": {},
   "source": [
    "### 15. Create a program that simulates a basic ATM transaction menu."
   ]
  },
  {
   "cell_type": "code",
   "execution_count": null,
   "metadata": {},
   "outputs": [],
   "source": []
  },
  {
   "cell_type": "markdown",
   "metadata": {},
   "source": [
    "### 16. Build a program that checks if a given string is a palindrome or not."
   ]
  },
  {
   "cell_type": "code",
   "execution_count": 47,
   "metadata": {},
   "outputs": [
    {
     "name": "stdout",
     "output_type": "stream",
     "text": [
      "String \"Robin is Palindrome?: False\n"
     ]
    }
   ],
   "source": [
    "# Approach - String is called Palindrome when reverse of string and string both are equal\n",
    "\n",
    "# Creating a function to return True if Palindrome, else False\n",
    "def is_palindrome(string_to_check:str) -> bool:\n",
    "  string_to_check = string_to_check.lower()\n",
    "  reverse_of_string = string_to_check[::-1]\n",
    "  return reverse_of_string == string_to_check\n",
    "\n",
    "# Take input string from user\n",
    "string_to_check = input('Enter a string to check:')\n",
    "\n",
    "# Checking string for Palindrome\n",
    "palindrome = is_palindrome(string_to_check)\n",
    "\n",
    "# Print whether Palindrome or not\n",
    "print(f'String \"{string_to_check} is Palindrome?: {palindrome}')"
   ]
  },
  {
   "cell_type": "markdown",
   "metadata": {},
   "source": [
    "### 17. Write a program that calculates the average of a list of numbers, excluding the smallest and largest values."
   ]
  },
  {
   "cell_type": "code",
   "execution_count": null,
   "metadata": {},
   "outputs": [],
   "source": []
  },
  {
   "cell_type": "markdown",
   "metadata": {},
   "source": [
    "### 18. Develop a program that converts a given temperature from Celsius to Fahrenheit."
   ]
  },
  {
   "cell_type": "code",
   "execution_count": null,
   "metadata": {},
   "outputs": [],
   "source": []
  },
  {
   "cell_type": "markdown",
   "metadata": {},
   "source": [
    "### 19. Create a program that simulates a basic calculator for addition, subtraction, multiplication, and division."
   ]
  },
  {
   "cell_type": "code",
   "execution_count": null,
   "metadata": {},
   "outputs": [],
   "source": [
    "\n",
    "operator = input('Enter your operation')\n",
    "\n",
    "num1 = int(input('Enter number 1: '))\n",
    "num2 = int(input('Enter number 2: '))\n",
    "\n",
    "if operator.lower() == 'add':\n",
    "    print(num1 + num2)\n",
    "elif operator.lower() == 'sub':\n",
    "    print(num1 - num2)\n",
    "elif operator.lower() == 'mul':\n",
    "    print(num1 * num2)\n",
    "elif operator.lower() == 'div':\n",
    "    print(num1 / num2)\n",
    "else:\n",
    "    print('Invalid operation')"
   ]
  },
  {
   "cell_type": "markdown",
   "metadata": {},
   "source": [
    "### 20. Write a program that determines the roots of a cubic equation using the Cardano formula."
   ]
  },
  {
   "cell_type": "code",
   "execution_count": null,
   "metadata": {},
   "outputs": [],
   "source": []
  },
  {
   "cell_type": "markdown",
   "metadata": {},
   "source": [
    "## Advanced Level:\n",
    "### 21. Create a program that calculates the income tax based on the user's income and tax brackets.\n",
    "### 22. Write a program that simulates a rock-paper-scissors game against the computer.\n",
    "### 23. Develop a program that generates a random password based on user preferences (length, complexity).\n",
    "### 24. Create a program that implements a simple text-based adventure game with branching scenarios.\n",
    "### 25. Build a program that solves a linear equation for x, considering different cases.\n",
    "### 26. Write a program that simulates a basic quiz game with multiple-choice questions and scoring.\n",
    "### 27. Develop a program that determines whether a given year is a prime number or not.\n",
    "### 28. Create a program that sorts three numbers in ascending order using conditional statements.\n",
    "### 29. Build a program that determines the roots of a quartic equation using numerical methods.\n",
    "### 30. Write a program that calculates the BMI (Body Mass Index) and provides health recommendations based on the user's input."
   ]
  },
  {
   "cell_type": "markdown",
   "metadata": {},
   "source": [
    "## Challenge Level:"
   ]
  },
  {
   "cell_type": "markdown",
   "metadata": {},
   "source": [
    "### 31. Create a program that validates a password based on complexity rules (length, characters, etc.).\n",
    "### 32. Develop a program that performs matrix addition and subtraction based on user input.\n",
    "### 33. Write a program that calculates the greatest common divisor (GCD) of two numbers using the Euclidean algorithm.\n",
    "### 34. Build a program that performs matrix multiplication using nested loops and conditional statements.\n",
    "### 35. Create a program that simulates a basic text-based tic-tac-toe game against the computer.\n",
    "### 36. Write a program that generates Fibonacci numbers up to a specified term using iterative methods.\n",
    "### 37. Develop a program that calculates the nth term of the Fibonacci sequence using memoization.\n",
    "### 38. Create a program that generates a calendar for a given month and year using conditional statements.\n",
    "### 39. Build a program that simulates a basic text-based blackjack game against the computer.\n",
    "### 40. Write a program that generates the prime factors of a given number using trial division."
   ]
  },
  {
   "cell_type": "code",
   "execution_count": null,
   "metadata": {},
   "outputs": [],
   "source": []
  }
 ],
 "metadata": {
  "kernelspec": {
   "display_name": "base",
   "language": "python",
   "name": "python3"
  },
  "language_info": {
   "codemirror_mode": {
    "name": "ipython",
    "version": 3
   },
   "file_extension": ".py",
   "mimetype": "text/x-python",
   "name": "python",
   "nbconvert_exporter": "python",
   "pygments_lexer": "ipython3",
   "version": "3.11.4"
  },
  "orig_nbformat": 4
 },
 "nbformat": 4,
 "nbformat_minor": 2
}
