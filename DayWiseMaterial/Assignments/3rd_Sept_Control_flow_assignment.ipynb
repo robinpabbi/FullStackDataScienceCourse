{
 "cells": [
  {
   "cell_type": "markdown",
   "metadata": {},
   "source": [
    "# Control Flow - Assignment Questions"
   ]
  },
  {
   "cell_type": "markdown",
   "metadata": {},
   "source": [
    "## Basic If-Else Statements:"
   ]
  },
  {
   "cell_type": "markdown",
   "metadata": {},
   "source": [
    "### 1. Write a Python program to check if a given number is positive or negative."
   ]
  },
  {
   "cell_type": "code",
   "execution_count": 2,
   "metadata": {},
   "outputs": [
    {
     "name": "stdout",
     "output_type": "stream",
     "text": [
      "Number -10 is negative number.\n"
     ]
    }
   ],
   "source": [
    "# Assumption - consider 0 as positive\n",
    "\n",
    "# Function - takes number as input and return True if >= 0 and else False (if negative)\n",
    "def is_positive(n: int)-> bool:\n",
    "    if n >= 0:\n",
    "        return True\n",
    "    else:\n",
    "        return False\n",
    "\n",
    "# Input number from user\n",
    "number = int(input('Enter a number: '))\n",
    "\n",
    "# Check for positivity or negative\n",
    "is_positive_num = is_positive(number)\n",
    "\n",
    "# Print\n",
    "if is_positive_num:\n",
    "    print(f'Number {number} is positve number.')\n",
    "else:\n",
    "    print(f'Number {number} is negative number.')\n"
   ]
  },
  {
   "cell_type": "markdown",
   "metadata": {},
   "source": [
    "### 2. Create a program that determines if a person is eligible to vote based on their age."
   ]
  },
  {
   "cell_type": "code",
   "execution_count": 8,
   "metadata": {},
   "outputs": [
    {
     "name": "stdout",
     "output_type": "stream",
     "text": [
      "Your age 23 and you are eligible to vote.\n"
     ]
    }
   ],
   "source": [
    "# Assumption - person under 18 (less than 18) is not eligible for vote\n",
    "\n",
    "def is_eligible_to_vote(age: int)-> bool:\n",
    "    if age >= 18:\n",
    "        return True\n",
    "    else:\n",
    "        if age < 0:\n",
    "            print('Not a valid age!')\n",
    "        return False\n",
    "    \n",
    "# Input age from user\n",
    "age = int(input('Enter your age: '))\n",
    "\n",
    "# Check eligibility\n",
    "is_eligible = is_eligible_to_vote(age)\n",
    "\n",
    "# Print\n",
    "if is_eligible:\n",
    "    print(f'Your age {age} and you are eligible to vote.')\n",
    "else:    \n",
    "    print(f'Your age {age} and you are not eligible to vote.')\n"
   ]
  },
  {
   "cell_type": "markdown",
   "metadata": {},
   "source": [
    "### 3. Develop a program to find the maximum of two numbers using if-else statements."
   ]
  },
  {
   "cell_type": "code",
   "execution_count": 11,
   "metadata": {},
   "outputs": [
    {
     "name": "stdout",
     "output_type": "stream",
     "text": [
      "Out of 99 and 10 maximum number is: 99\n"
     ]
    }
   ],
   "source": [
    "def get_max(num1: int, num2: int)-> int:\n",
    "    if num1 > num2:\n",
    "        return num1\n",
    "    else:\n",
    "        return num2\n",
    "\n",
    "# Input numbers from user\n",
    "number1 = int(input('Enter number 1: '))\n",
    "number2 = int(input('Enter number 2: '))\n",
    "\n",
    "# Get max number\n",
    "max_num = get_max(number1, number2)\n",
    "\n",
    "# Print\n",
    "print(f'Out of {number1} and {number2} maximum number is: {max_num}')\n"
   ]
  },
  {
   "cell_type": "markdown",
   "metadata": {},
   "source": [
    "### 4. Write a Python script to classify a given year as a leap year or not."
   ]
  },
  {
   "cell_type": "code",
   "execution_count": 25,
   "metadata": {},
   "outputs": [
    {
     "name": "stdout",
     "output_type": "stream",
     "text": [
      "Year 2024 is a leap year.\n"
     ]
    }
   ],
   "source": [
    "# Leap year is a year which is divisible by 4\n",
    "\n",
    "def is_leap_year(year: int) -> bool:\n",
    "    if year % 4 == 0:\n",
    "        return True\n",
    "    else:\n",
    "        return False\n",
    "\n",
    "# Take input of year\n",
    "year = int(input('Enter year: '))\n",
    "\n",
    "# Print\n",
    "if is_leap_year(year):\n",
    "    print(f'Year {year} is a leap year.')\n",
    "else:\n",
    "    print(f'Year {year} is a not leap year.')"
   ]
  },
  {
   "cell_type": "markdown",
   "metadata": {},
   "source": [
    "### 5. Create a program that checks whether a character is a vowel or a consonant."
   ]
  },
  {
   "cell_type": "code",
   "execution_count": 18,
   "metadata": {},
   "outputs": [
    {
     "name": "stdout",
     "output_type": "stream",
     "text": [
      "\"o\" is Vowel\n"
     ]
    }
   ],
   "source": [
    "# Keeping the list of vowels to check from\n",
    "VOWELS = ['a', 'e', 'i', 'o', 'u', 'A', 'E', 'I', 'O', 'U']\n",
    "\n",
    "# char input\n",
    "char = input('Enter a character/letter: ')\n",
    "\n",
    "# Check if vowel or not\n",
    "is_vowel = char in VOWELS\n",
    "\n",
    "# Print\n",
    "if is_vowel:\n",
    "    print(f'\"{char}\" is Vowel')\n",
    "else:\n",
    "    print(f'\"{char}\" is Consonant')"
   ]
  },
  {
   "cell_type": "markdown",
   "metadata": {},
   "source": [
    "### 6. Implement a program to determine whether a given number is even or odd."
   ]
  },
  {
   "cell_type": "code",
   "execution_count": 21,
   "metadata": {},
   "outputs": [
    {
     "name": "stdout",
     "output_type": "stream",
     "text": [
      "Number 101 is ODD\n"
     ]
    }
   ],
   "source": [
    "# Take input of number\n",
    "number = int(input('Enter number: '))\n",
    "\n",
    "# Check if even or not and print\n",
    "# Even\n",
    "if number % 2 == 0:\n",
    "    print(f'Number {number} is EVEN')\n",
    "else: \n",
    "    print(f'Number {number} is ODD')"
   ]
  },
  {
   "cell_type": "markdown",
   "metadata": {},
   "source": [
    "### 7. Write a Python function to calculate the absolute value of a number without using the `abs()` function."
   ]
  },
  {
   "cell_type": "code",
   "execution_count": 22,
   "metadata": {},
   "outputs": [
    {
     "name": "stdout",
     "output_type": "stream",
     "text": [
      "Absolute of -99 is : 99\n"
     ]
    }
   ],
   "source": [
    "# Absolute value is always positive, so multiply negative number with -1\n",
    "\n",
    "def get_absolute(number):\n",
    "    if number < 0:\n",
    "        return number * -1\n",
    "    else:\n",
    "        return number\n",
    "\n",
    "# Take input of number\n",
    "number = int(input('Enter number: '))\n",
    "\n",
    "# Get absolute\n",
    "absolute_val = get_absolute(number)\n",
    "\n",
    "# Print\n",
    "print(f'Absolute of {number} is : {absolute_val}')"
   ]
  },
  {
   "cell_type": "markdown",
   "metadata": {},
   "source": [
    "### 8. Develop a program that determines the largest of three given numbers using if-else statements."
   ]
  },
  {
   "cell_type": "code",
   "execution_count": 28,
   "metadata": {},
   "outputs": [
    {
     "name": "stdout",
     "output_type": "stream",
     "text": [
      "Among 10, 90, 70. Largest number is 90\n"
     ]
    }
   ],
   "source": [
    "# Input numbers from user\n",
    "number1 = int(input('Enter number 1: '))\n",
    "number2 = int(input('Enter number 2: '))\n",
    "number3 = int(input('Enter number 3: '))\n",
    "\n",
    "# Determine using if and else only (not elif) - using nested if and else\n",
    "if number1 > number2:\n",
    "    if number1 > number3:\n",
    "        print(f'Among {number1}, {number2}, {number3}. Largest number is {number1}')\n",
    "    else:\n",
    "        print(f'Among {number1}, {number2}, {number3}. Largest number is {number3}')\n",
    "else:\n",
    "    if number2 > number3:\n",
    "        print(f'Among {number1}, {number2}, {number3}. Largest number is {number2}')\n",
    "    else:\n",
    "        print(f'Among {number1}, {number2}, {number3}. Largest number is {number3}')"
   ]
  },
  {
   "cell_type": "code",
   "execution_count": 29,
   "metadata": {},
   "outputs": [
    {
     "name": "stdout",
     "output_type": "stream",
     "text": [
      "Among 10, 90, 70. Largest number is 90\n"
     ]
    }
   ],
   "source": [
    "# Using if elif and else\n",
    "if number1 > number2 and number1 > number3:\n",
    "    print(f'Among {number1}, {number2}, {number3}. Largest number is {number1}')\n",
    "elif number2 > number1 and number2 > number3:\n",
    "    print(f'Among {number1}, {number2}, {number3}. Largest number is {number2}')\n",
    "else:\n",
    "    print(f'Among {number1}, {number2}, {number3}. Largest number is {number3}')"
   ]
  },
  {
   "cell_type": "markdown",
   "metadata": {},
   "source": [
    "### 9. Create a program that checks if a given string is a palindrome."
   ]
  },
  {
   "cell_type": "code",
   "execution_count": 24,
   "metadata": {},
   "outputs": [
    {
     "name": "stdout",
     "output_type": "stream",
     "text": [
      "String \"aabaa\" is palindrome\n"
     ]
    }
   ],
   "source": [
    "# Take a string input\n",
    "string_to_check = input('Enter your string: ')\n",
    "\n",
    "# Find reverse of string\n",
    "reverse_of_string = string_to_check[::-1]\n",
    "\n",
    "# Using if else find if string it palindrom\n",
    "\n",
    "if string_to_check == reverse_of_string:\n",
    "    print(f'String \"{string_to_check}\" is palindrome')\n",
    "else:\n",
    "    print(f'String \"{string_to_check}' is not palindrome')"
   ]
  },
  {
   "cell_type": "markdown",
   "metadata": {},
   "source": [
    "### 10. Write a Python program to calculate the grade based on a student's score."
   ]
  },
  {
   "cell_type": "code",
   "execution_count": 27,
   "metadata": {},
   "outputs": [
    {
     "name": "stdout",
     "output_type": "stream",
     "text": [
      "You scored 84.9% marks.\n",
      "Your Grade is A\n"
     ]
    }
   ],
   "source": [
    "# Assumptions : Grades are as below:\n",
    "# marks range       Grade\n",
    "# >= 90             A+\n",
    "# 80-90             A\n",
    "# 70-60             B\n",
    "# < 60              C\n",
    "\n",
    "# Take input of marks in percentage\n",
    "score = float(input('Enter yours percentage score: '))\n",
    "\n",
    "print(f'You scored {score}% marks.')\n",
    "\n",
    "# Print Grade\n",
    "if score >= 90:\n",
    "    print('Your Grade is A+')\n",
    "elif score >= 80:\n",
    "    print('Your Grade is A')\n",
    "elif score >= 70:\n",
    "    print('Your Grade is B')\n",
    "else:\n",
    "    print('Your Grade is C')"
   ]
  },
  {
   "cell_type": "markdown",
   "metadata": {},
   "source": [
    "## Nested If-Else Statements:"
   ]
  },
  {
   "cell_type": "markdown",
   "metadata": {},
   "source": [
    "### 11. Write a program to find the largest among three numbers using nested if-else statements."
   ]
  },
  {
   "cell_type": "code",
   "execution_count": 30,
   "metadata": {},
   "outputs": [
    {
     "name": "stdout",
     "output_type": "stream",
     "text": [
      "Among 18, 96, 100. Largest number is 100\n"
     ]
    }
   ],
   "source": [
    "# Input numbers from user\n",
    "number1 = int(input('Enter number 1: '))\n",
    "number2 = int(input('Enter number 2: '))\n",
    "number3 = int(input('Enter number 3: '))\n",
    "\n",
    "# Determine using  using nested if and else\n",
    "if number1 > number2:\n",
    "    if number1 > number3:\n",
    "        print(f'Among {number1}, {number2}, {number3}. Largest number is {number1}')\n",
    "    else:\n",
    "        print(f'Among {number1}, {number2}, {number3}. Largest number is {number3}')\n",
    "else:\n",
    "    if number2 > number3:\n",
    "        print(f'Among {number1}, {number2}, {number3}. Largest number is {number2}')\n",
    "    else:\n",
    "        print(f'Among {number1}, {number2}, {number3}. Largest number is {number3}')"
   ]
  },
  {
   "cell_type": "markdown",
   "metadata": {},
   "source": [
    "### 12. Implement a program to determine if a triangle is equilateral, isosceles, or scalene.\n",
    "\n",
    "Definitions:\n",
    "\n",
    "> An equilateral triangle is a triangle in which all three sides are equal.\n",
    "\n",
    "> A scalene triangle is a triangle that has three unequal sides.\n",
    "\n",
    "> An isosceles triangle is a triangle with (at least) two equal sides."
   ]
  },
  {
   "cell_type": "code",
   "execution_count": 32,
   "metadata": {},
   "outputs": [
    {
     "name": "stdout",
     "output_type": "stream",
     "text": [
      "x = 20, y = 30, z = 50\n",
      "Triangle is Scalene triangle\n"
     ]
    }
   ],
   "source": [
    "# Take input of triangle edge sizes\n",
    "edge_length_x = int(input('Enter edge length x of triangle: '))\n",
    "edge_length_y = int(input(\"Enter edge length y triangle: \"))\n",
    "edge_length_z = int(input(\"Enter edge length z triangle: \"))\n",
    "\n",
    "# Print entered values\n",
    "print(f'x = {edge_length_x}, y = {edge_length_y}, z = {edge_length_z}')\n",
    "\n",
    "if edge_length_x == edge_length_y == edge_length_z:\n",
    "\tprint(\"Triangle is Equilateral triangle\")\n",
    "elif edge_length_x == edge_length_y or edge_length_y == edge_length_z or edge_length_z == edge_length_x:\n",
    "\tprint(\"Triangle is Isosceles triangle\")\n",
    "else:\n",
    "\tprint(\"Triangle is Scalene triangle\")"
   ]
  },
  {
   "cell_type": "markdown",
   "metadata": {},
   "source": [
    "### 13. Develop a program that checks if a year is a leap year and also if it is a century year."
   ]
  },
  {
   "cell_type": "code",
   "execution_count": 34,
   "metadata": {},
   "outputs": [
    {
     "name": "stdout",
     "output_type": "stream",
     "text": [
      "Year 2023 is not a LEAP year.\n",
      "Year 2024 is a LEAP year.\n",
      "Year 2100 is a LEAP year and a CENTURY year.\n"
     ]
    }
   ],
   "source": [
    "# Approach - Leap year is year divisible by 4 \n",
    "# Century year is year divisible by 100, since 100 is divisible by 4 so it is leap year too\n",
    "\n",
    "# Function - Takes year number as input and print whether it is LEAP year, century year or not leap year.\n",
    "def print_year_details(year: int):\n",
    "    # If divisible by 4 then check if further divisible by 100 if yes then leap + century else leap\n",
    "    if year % 4 == 0:\n",
    "        if year % 100 == 0:\n",
    "            print(f'Year {year} is a LEAP year and a CENTURY year.')\n",
    "        else:\n",
    "            print(f'Year {year} is a LEAP year.')\n",
    "    else:\n",
    "        print(f'Year {year} is not a LEAP year.')\n",
    "\n",
    "# Take input of year\n",
    "year1 = int(input('Enter year1: '))\n",
    "year2 = int(input('Enter year2: '))\n",
    "year3 = int(input('Enter year3: '))\n",
    "\n",
    "# Print result\n",
    "print_year_details(year1)\n",
    "print_year_details(year2)\n",
    "print_year_details(year3)\n"
   ]
  },
  {
   "cell_type": "markdown",
   "metadata": {},
   "source": [
    "### 14. Write a Python script to determine if a number is positive, negative, or zero."
   ]
  },
  {
   "cell_type": "code",
   "execution_count": 39,
   "metadata": {},
   "outputs": [
    {
     "name": "stdout",
     "output_type": "stream",
     "text": [
      "Number entered i.e. 22 is Positve\n",
      "Number entered i.e. -12 is Negative\n",
      "Number entered i.e. 0 is Zero\n"
     ]
    }
   ],
   "source": [
    "# Function - takes number as input and print if number is positive, negative or zero\n",
    "def print_number_positivity(n: int):\n",
    "    if  n >= 0:\n",
    "        if n == 0:\n",
    "            print(f'Number entered i.e. {n} is Zero')\n",
    "        else:\n",
    "            print(f'Number entered i.e. {n} is Positve')\n",
    "    else:\n",
    "        print(f'Number entered i.e. {n} is Negative')\n",
    "\n",
    "# Input number from user\n",
    "number1 = int(input('Enter a number1: '))\n",
    "number2 = int(input('Enter a number2: '))\n",
    "number3 = int(input('Enter a number3: '))\n",
    "\n",
    "# Print\n",
    "print_number_positivity(number1)\n",
    "print_number_positivity(number2)\n",
    "print_number_positivity(number3)"
   ]
  },
  {
   "cell_type": "markdown",
   "metadata": {},
   "source": [
    "### 15. Create a program to check if a person is a teenager (between 13 and 19 years old)."
   ]
  },
  {
   "cell_type": "code",
   "execution_count": 37,
   "metadata": {},
   "outputs": [
    {
     "name": "stdout",
     "output_type": "stream",
     "text": [
      "Your age is 34 and you are not teenager.\n"
     ]
    }
   ],
   "source": [
    "# Function - takes age as input and return if age >= 13 and age <= 19\n",
    "def is_teenager(age: int) -> bool:\n",
    "    if age >= 13 and age <= 19:\n",
    "        return True\n",
    "    else:\n",
    "        return False\n",
    "\n",
    "\n",
    "# Take input of age\n",
    "age = int(input('Enter your age: '))\n",
    "\n",
    "# Print\n",
    "if is_teenager(age):\n",
    "    print(f'Your age is {age} and you are teenager.')\n",
    "else:\n",
    "    print(f'Your age is {age} and you are not teenager.')"
   ]
  },
  {
   "cell_type": "markdown",
   "metadata": {},
   "source": [
    "### 16. Develop a program that determines the type of angle based on its measure (acute, obtuse, or right).\n",
    "\n",
    "Definitions - Note: we have added reflex type of angle too for completeness\n",
    "\n",
    "> ACUTE : The angle that measures less than 90 degrees is the acute angle. The degree always measures between 0 and 90.\n",
    "\n",
    "> RIGHT : The angle that exactly measures 90 degrees is a right angle.\n",
    "\n",
    "> OBSTUSE: The angle that measures more than 90 degrees and less than 180 degrees is an obtuse angle.\n",
    "\n",
    "> REFLEX: The angle that measures more than 180 degrees and less than 360 degrees is the reflex angle."
   ]
  },
  {
   "cell_type": "code",
   "execution_count": 38,
   "metadata": {},
   "outputs": [
    {
     "name": "stdout",
     "output_type": "stream",
     "text": [
      "Angle 120 degree is OBTUSE angle\n"
     ]
    }
   ],
   "source": [
    "# Function - takes angle as input, print type of angle\n",
    "def print_angle_type(angle: int):\n",
    "    if angle > 0 and angle < 90:\n",
    "        print(f'Angle {angle} degree is ACUTE angle')\n",
    "    elif angle == 90:\n",
    "        print(f'Angle {angle} degree is RIGHT angle')\n",
    "    elif angle > 90 and angle < 180:\n",
    "        print(f'Angle {angle} degree is OBTUSE angle')\n",
    "    else:\n",
    "        print(f'Angle {angle} degree is REFLEX angle')\n",
    "\n",
    "# Get angle input\n",
    "angle = int(input('Enter an angle: '))\n",
    "\n",
    "# Print\n",
    "print_angle_type(angle)"
   ]
  },
  {
   "cell_type": "markdown",
   "metadata": {},
   "source": [
    "### 17. Write a Python program to calculate the roots of a quadratic equation.\n",
    "\n",
    "Quadratic equation:\n",
    ">ax2 + bx + c = 0, where a, b and c are real numbers and a ≠ 0\n",
    "\n",
    "Important Formulas on Roots of Quadratic Equations:\n",
    "> The roots are calculated using the formula, x = (-b ± √ (b2 - 4ac) )/2a. Discriminant is, D = b2 - 4ac. If D > 0, then the equation has two real and distinct roots. If D = 0, then the equation has two real and same roots. If D < 0, the equation has two complex roots.\n",
    "\n",
    "x = (-b ± sqrt((b2 - 4ac)))/2a\n",
    "\n",
    "> D > 0 : Real and Distinct roots\n",
    "\n",
    "> D == 0 : Real and Same Roots\n",
    "\n",
    "> D  > 0 : Complex roots"
   ]
  },
  {
   "cell_type": "code",
   "execution_count": 25,
   "metadata": {},
   "outputs": [
    {
     "name": "stdout",
     "output_type": "stream",
     "text": [
      "Roots are complex.\n",
      "x = (-2.5+0.8660254037844386j) or x = (-2.5-0.8660254037844386j)\n"
     ]
    }
   ],
   "source": [
    "import math\n",
    "import cmath\n",
    "# Using cmath - to get the complex number (from negative sqaure root)\n",
    "\n",
    "# Function - prints the roots and related info\n",
    "def print_roots_of_quadratic_equation(a: int, b: int, c: int):\n",
    "    if a == 0:\n",
    "        print('Not a valid Quadratic equation.')\n",
    "    else:\n",
    "        # D = b2 - 4ac\n",
    "        D = (b ** 2) - (4 * a * c)\n",
    "\n",
    "        if D == 0:\n",
    "            root = (-b  / (2 * a))\n",
    "            print('Roots are real and same.')\n",
    "            print(f'x = {root}')\n",
    "        elif D > 0:\n",
    "            square_root_D = math.sqrt(D)\n",
    "            root1 = (-b + square_root_D)/(2 * a)\n",
    "            root2 = (-b - square_root_D)/(2 * a)\n",
    "            print('Roots are real and different.')\n",
    "            print(f'x = {root1} or x = {root2}')\n",
    "        else:\n",
    "            square_root_D = cmath.sqrt(D)\n",
    "            root1 = (-b + square_root_D)/(2 * a)\n",
    "            root2 = (-b - square_root_D)/(2 * a)\n",
    "            print('Roots are complex.')\n",
    "            print(f'x = {root1} or x = {root2}')\n",
    "\n",
    "\n",
    "# Compute and print result\n",
    "print_roots_of_quadratic_equation(1, 5, 7)"
   ]
  },
  {
   "cell_type": "markdown",
   "metadata": {},
   "source": [
    "### 18. Implement a program to determine the day of the week based on a user-provided number (1 for Monday, 2 for Tuesday etc.)."
   ]
  },
  {
   "cell_type": "code",
   "execution_count": 4,
   "metadata": {},
   "outputs": [
    {
     "name": "stdout",
     "output_type": "stream",
     "text": [
      "You entered day number: 5\n",
      "It is Friday!\n"
     ]
    }
   ],
   "source": [
    "# Function - Takes a day (number) of the week and print the name of the week day\n",
    "def print_day_name(day_number: int):\n",
    "    if day_number <= 0 or day_number > 7:\n",
    "        print(f'Week day number should be between 1 to 7, both inclusive.')\n",
    "    else:\n",
    "        if day_number == 1:\n",
    "            print('It is Monday!')\n",
    "        elif day_number == 2:\n",
    "            print('It is Tuesday!')\n",
    "        elif day_number == 3:\n",
    "            print('It is Wednesday!')\n",
    "        elif day_number == 4:\n",
    "            print('It is Thursday!')\n",
    "        elif day_number == 5:\n",
    "            print('It is Friday!')\n",
    "        elif day_number == 6:\n",
    "            print('It is Saturday!')\n",
    "        else:\n",
    "            print('It is Sunday!')\n",
    "\n",
    "\n",
    "# Take input from the user\n",
    "day_no = int(input('Enter the day number in the week: '))\n",
    "\n",
    "# Print\n",
    "print(f'You entered day number: {day_no}')\n",
    "print_day_name(day_number=day_no)"
   ]
  },
  {
   "cell_type": "markdown",
   "metadata": {},
   "source": [
    "### 19. Create a program that determines if a year is a leap year and also if it is evenly divisible by 400."
   ]
  },
  {
   "cell_type": "code",
   "execution_count": 1,
   "metadata": {},
   "outputs": [
    {
     "name": "stdout",
     "output_type": "stream",
     "text": [
      "Year 2400 is a LEAP year and divisible by 400.\n",
      "Year 2023 is not a LEAP year.\n",
      "Year 2024 is a LEAP year.\n"
     ]
    }
   ],
   "source": [
    "# Approach - Leap year is year divisible by 4 \n",
    "\n",
    "# Function - Takes year number as input and print whether it is LEAP year or not leap year.\n",
    "def print_year_details(year: int):\n",
    "    # If divisible by 4 then check if further divisible by 100 if yes then leap + century else leap\n",
    "    if year % 4 == 0:\n",
    "        if year % 400 == 0:\n",
    "            print(f'Year {year} is a LEAP year and divisible by 400.')\n",
    "        else:\n",
    "            print(f'Year {year} is a LEAP year.')\n",
    "    else:\n",
    "        print(f'Year {year} is not a LEAP year.')\n",
    "\n",
    "# Take input of year\n",
    "year1 = int(input('Enter year1: '))\n",
    "year2 = int(input('Enter year2: '))\n",
    "year3 = int(input('Enter year3: '))\n",
    "\n",
    "# Print result\n",
    "print_year_details(year1)\n",
    "print_year_details(year2)\n",
    "print_year_details(year3)"
   ]
  },
  {
   "cell_type": "markdown",
   "metadata": {},
   "source": [
    "### 20. Develop a program that checks if a given number is prime or not using nested if-else statements."
   ]
  },
  {
   "cell_type": "code",
   "execution_count": 47,
   "metadata": {},
   "outputs": [
    {
     "name": "stdout",
     "output_type": "stream",
     "text": [
      "Number 31 is Prime number\n"
     ]
    }
   ],
   "source": [
    "import math\n",
    "\n",
    "# Recursive Function - to compute prime number or not - USING NESTED if-else\n",
    "def is_prime_number(number: int, divisor: int) -> bool:\n",
    "    # Nested if else - as required in question\n",
    "    if number % divisor == 0:\n",
    "        if divisor == 1:\n",
    "            return True\n",
    "        else:\n",
    "            return False\n",
    "    else:\n",
    "        return is_prime_number(number, divisor - 1)\n",
    "\n",
    "# Number input from user\n",
    "number = int(input('Enter your number: '))\n",
    "\n",
    "# Check if prime of not\n",
    "is_prime_num = is_prime_number(number, int(math.sqrt(number)) + 1)\n",
    "\n",
    "# Print\n",
    "if is_prime_num:\n",
    "    print(f'Number {number} is Prime number')\n",
    "else:\n",
    "    print(f'Number {number} is not Prime number')"
   ]
  },
  {
   "cell_type": "markdown",
   "metadata": {},
   "source": [
    "## Elif Statements:"
   ]
  },
  {
   "cell_type": "markdown",
   "metadata": {},
   "source": [
    "### 21. Write a Python program to assign grades based on different ranges of scores using elif statements."
   ]
  },
  {
   "cell_type": "code",
   "execution_count": 5,
   "metadata": {},
   "outputs": [
    {
     "name": "stdout",
     "output_type": "stream",
     "text": [
      "You scored 98.0% marks.\n",
      "Your Grade is A+\n"
     ]
    }
   ],
   "source": [
    "# Assumptions : Grades are as below:\n",
    "# marks range       Grade\n",
    "# >= 90             A+\n",
    "# 80-90             A\n",
    "# 70-60             B\n",
    "# < 60              C\n",
    "\n",
    "# Take input of marks in percentage\n",
    "score = float(input('Enter yours percentage score: '))\n",
    "\n",
    "print(f'You scored {score}% marks.')\n",
    "\n",
    "# Print Grade\n",
    "if score >= 90:\n",
    "    print('Your Grade is A+')\n",
    "elif score >= 80:\n",
    "    print('Your Grade is A')\n",
    "elif score >= 70:\n",
    "    print('Your Grade is B')\n",
    "else:\n",
    "    print('Your Grade is C')"
   ]
  },
  {
   "cell_type": "markdown",
   "metadata": {},
   "source": [
    "### 22. Implement a program to determine the type of a triangle based on its angles.\n",
    "\n",
    "Considerations:\n",
    "> An acute triangle is a triangle whose all the three interior angles are < 90 degrees.\n",
    "\n",
    "> Obtuse triangles are those in which one of the three interior angles has a measure greater than 90 degrees.\n",
    "\n",
    "> A right triangle is a triangle in which one of the angles is 90 degrees."
   ]
  },
  {
   "cell_type": "code",
   "execution_count": 8,
   "metadata": {},
   "outputs": [
    {
     "name": "stdout",
     "output_type": "stream",
     "text": [
      "Triangle with given Angles (120, 40, 20) is an OBTUSE triangle.\n"
     ]
    }
   ],
   "source": [
    "# Function - takes angles of triangle and print the type of triangle \n",
    "# Also we will validate the angles by summing up and checking if it is 180 or not. Angles of triangle should sum up to 180.\n",
    "def print_triangle_type(angle1: int, angle2: int, angle3: int):\n",
    "    sum_of_angles = angle1 + angle2 + angle3\n",
    "\n",
    "    if sum_of_angles != 180:\n",
    "        print('Not a valid triangle.')\n",
    "    else:\n",
    "        if angle1 < 90 and angle2 < 90 and angle3 < 90:\n",
    "            print(f'Triangle with given Angles {(angle1, angle2, angle3)} is an ACUTE triangle.')\n",
    "        elif angle1 == 90 or angle2 == 90 or angle3 == 90:\n",
    "            print(f'Triangle with given Angles {(angle1, angle2, angle3)} is an RIGHT triangle.')\n",
    "        elif angle1 > 90 or angle2 > 90 or angle3 > 90:\n",
    "            print(f'Triangle with given Angles {(angle1, angle2, angle3)} is an OBTUSE triangle.')\n",
    "\n",
    "# Get angle input\n",
    "angle1 = int(input('Enter an interior angle 1 of triangle: '))\n",
    "angle2 = int(input('Enter an interior angle 2 of triangle: '))\n",
    "angle3 = int(input('Enter an interior angle 3 of triangle: '))\n",
    "\n",
    "# Print\n",
    "print_triangle_type(angle1, angle2, angle3)"
   ]
  },
  {
   "cell_type": "markdown",
   "metadata": {},
   "source": [
    "### 23. Develop a program to categorize a given person's BMI into underweight, normal, overweight, or obese using elif statements."
   ]
  },
  {
   "cell_type": "code",
   "execution_count": 10,
   "metadata": {},
   "outputs": [
    {
     "name": "stdout",
     "output_type": "stream",
     "text": [
      "Your BMI is 22.4 and you are categorized as NORMAL.\n"
     ]
    }
   ],
   "source": [
    "# Considerations - as per https://www.nhlbi.nih.gov/health/educational/lose_wt/BMI/bmicalc.htm\n",
    "#   BMI Categories:\n",
    "#       Underweight = <18.5\n",
    "#       Normal weight = 18.5–24.9 (we take less than 25 here to consider 24.99 and so on)\n",
    "#       Overweight = 25–29.9 (we take less than 30 here to consider 29.99 and so on)\n",
    "#       Obesity = BMI of 30 or greater  \n",
    "\n",
    "# Function - takes a input of BMI (float number) and prints category as per above consideration\n",
    "def print_person_weight_category(bmi: float):\n",
    "    if bmi < 18.5:\n",
    "        print(f'Your BMI is {bmi} and you are categorized as UNDERWEIGHT.')\n",
    "    elif bmi >= 18.5 and bmi < 25:\n",
    "        print(f'Your BMI is {bmi} and you are categorized as NORMAL.')\n",
    "    elif bmi >= 25 and bmi < 30:\n",
    "        print(f'Your BMI is {bmi} and you are categorized as OVERWEIGHT.')\n",
    "    else:\n",
    "        print(f'Your BMI is {bmi} and you are categorized as OBESE.')\n",
    "\n",
    "\n",
    "# Take BMI input\n",
    "bmi = float(input('Enter your BMI: '))\n",
    "\n",
    "# Print\n",
    "print_person_weight_category(bmi)"
   ]
  },
  {
   "cell_type": "markdown",
   "metadata": {},
   "source": [
    "### 24. Create a program that determines whether a given number is positive, negative, or zero using elif statements."
   ]
  },
  {
   "cell_type": "code",
   "execution_count": 11,
   "metadata": {},
   "outputs": [
    {
     "name": "stdout",
     "output_type": "stream",
     "text": [
      "Number entered i.e. 0 is Zero\n",
      "Number entered i.e. 20 is Positve\n",
      "Number entered i.e. -54 is Negative\n"
     ]
    }
   ],
   "source": [
    "# Function - takes number as input and print if number is positive, negative or zero - using if elif else\n",
    "def print_number_positivity(n: int):\n",
    "    if  n == 0:\n",
    "        print(f'Number entered i.e. {n} is Zero')\n",
    "    elif n > 0:\n",
    "        print(f'Number entered i.e. {n} is Positve')\n",
    "    else:\n",
    "        print(f'Number entered i.e. {n} is Negative')\n",
    "\n",
    "# Input number from user\n",
    "number1 = int(input('Enter a number1: '))\n",
    "number2 = int(input('Enter a number2: '))\n",
    "number3 = int(input('Enter a number3: '))\n",
    "\n",
    "# Print\n",
    "print_number_positivity(number1)\n",
    "print_number_positivity(number2)\n",
    "print_number_positivity(number3)"
   ]
  },
  {
   "cell_type": "markdown",
   "metadata": {},
   "source": [
    "### 25. Write a Python script to determine the type of a character (uppercase, lowercase, or special) using elif statements."
   ]
  },
  {
   "cell_type": "code",
   "execution_count": 12,
   "metadata": {},
   "outputs": [
    {
     "name": "stdout",
     "output_type": "stream",
     "text": [
      "Character R is UPPERCASE.\n",
      "Character r is lowercase.\n",
      "Character @ is Special.\n"
     ]
    }
   ],
   "source": [
    "# Function takes a character as inpout and print the type as per question\n",
    "def print_type_of_character(char: str):\n",
    "    if char.islower():\n",
    "        print(f'Character {char} is lowercase.')\n",
    "    elif char.isupper():\n",
    "        print(f'Character {char} is UPPERCASE.')\n",
    "    else:\n",
    "        print(f'Character {char} is Special.')\n",
    "\n",
    "# Print type of character\n",
    "print_type_of_character('R')\n",
    "print_type_of_character('r')\n",
    "print_type_of_character('@')"
   ]
  },
  {
   "cell_type": "markdown",
   "metadata": {},
   "source": [
    "### 26. Implement a program to calculate the discounted price based on different purchase amounts using elif statements."
   ]
  },
  {
   "cell_type": "code",
   "execution_count": 14,
   "metadata": {},
   "outputs": [
    {
     "name": "stdout",
     "output_type": "stream",
     "text": [
      "Your actual purchase amount was: 12000\n",
      "After applying 20% discount, you have to pay only 9600.0\n"
     ]
    }
   ],
   "source": [
    "# Assumptions as below\n",
    "#    Amount          Discount\n",
    "#    0-5000          5%\n",
    "#    5001-10000      10%\n",
    "#    10001-20000     20%\n",
    "#    above 20000     30%\n",
    "\n",
    "def get_discount_percentage(purchase_amount: int) -> int:\n",
    "    if purchase_amount <= 5000:\n",
    "        return 5\n",
    "    elif purchase_amount <= 10000:\n",
    "        return 10\n",
    "    elif purchase_amount <= 20000:\n",
    "        return 20\n",
    "    else:\n",
    "        return 30\n",
    "\n",
    "# input purchase amount\n",
    "purchase_amount = int(input(\"Enter Purchase Amount: \")) \n",
    "\n",
    "# Get Discount percentage\n",
    "discount = get_discount_percentage(purchase_amount)\n",
    "\n",
    "# Compute discounted price - 100 - discount will give us percentage of amount to be received\n",
    "discounted_amount = (100 - discount) * purchase_amount / 100\n",
    "\n",
    "# Print\n",
    "print(f'Your actual purchase amount was: {purchase_amount}')\n",
    "print(f'After applying {discount}% discount, you have to pay only {discounted_amount}')"
   ]
  },
  {
   "cell_type": "markdown",
   "metadata": {},
   "source": [
    "### 27. Develop a program to calculate the electricity bill based on different consumption slabs using elif statements."
   ]
  },
  {
   "cell_type": "code",
   "execution_count": 15,
   "metadata": {},
   "outputs": [
    {
     "name": "stdout",
     "output_type": "stream",
     "text": [
      "You consumed 450 units of electricity and your bill is 6000\n"
     ]
    }
   ],
   "source": [
    "# Assumptions as below\n",
    "#    Units consumed     Price/Unit in range\n",
    "#    <= 100              5\n",
    "#    101-200             10\n",
    "#    201-300             15\n",
    "#    >= 301              20\n",
    "\n",
    "def calculate_electricity_bill(units_used: int):\n",
    "    bill = 0\n",
    "    if units_used <= 100:\n",
    "        bill = units_used * 5\n",
    "    elif units_used >= 101 and units_used <= 200:\n",
    "        bill = (100 * 5) + (units_used - 100) * 10\n",
    "    elif units_used >= 201 and units_used <= 300:\n",
    "        bill = (100 * 5) + (100 * 10) + (units_used - 200) * 15\n",
    "    else:\n",
    "        bill = (100 * 5) + (100 * 10) + (100 * 15) + (units_used - 300) * 20\n",
    "    \n",
    "    return bill\n",
    "\n",
    "\n",
    "# Take input of the units used\n",
    "units = int(input(\"Enter your units used: \"))\n",
    "\n",
    "# Compute bill\n",
    "electric_bill = calculate_electricity_bill(units)\n",
    "\n",
    "# Print\n",
    "print(f'You consumed {units} units of electricity and your bill is {electric_bill}')"
   ]
  },
  {
   "cell_type": "markdown",
   "metadata": {},
   "source": [
    "### 28. Create a program to determine the type of quadrilateral based on its angles and sides using elif statements.\n",
    "\n",
    "> A Quadrilateral Is A Shape With 4 Sides And 4 Angles. It can be of following types:\n",
    "* Square - All four sides have the same length, All angles are equal to each other\n",
    "* Rhombus  -- All four sides have the same length, Angle 1 equals Angle 3,  Angle 2 equals Angle 4\n",
    "* Rectangle -- Side 1 equals Side 3, Side 2 equals Side 4, All angles are equal to each other\n",
    "\n",
    "> Those quadrilaterals which have at least one of the interior angles greater than 180° are called concave quadrilaterals.\n",
    "\n",
    "> Those quadrilaterals in which all the interior angles are less than 180° are called convex quadrilaterals."
   ]
  },
  {
   "cell_type": "code",
   "execution_count": 18,
   "metadata": {},
   "outputs": [
    {
     "name": "stdout",
     "output_type": "stream",
     "text": [
      "Side 1 = 40, Side 2 = 40, Side 3 = 40, Side 4 = 40\n",
      "Angle 1 = 60, Angle 2 = 120, Angle 3 = 60, Angle 4 = 120\n",
      "Entered quadrilateral is RHOMBUS and it is convex quadrilateral\n"
     ]
    }
   ],
   "source": [
    "def print_type_of_quadrilateral(side1: int, side2: int, side3:int, side4: int,\n",
    "                                angle1: int, angle2: int, angle3: int, angle4: int):\n",
    "    if angle1 == angle2 == angle3 == angle4 == 90 and side1 == side2 == side3 == side4:\n",
    "        print('Entered quadrilateral is SQUARE and it is convex quadrilateral')\n",
    "    elif angle1 == angle2 == angle3 == angle4 == 90 and side1 == side3 and side2 == side4:\n",
    "        print('Entered quadrilateral is RECTANGLE and it is convex quadrilateral')\n",
    "    elif angle1 == angle3 and angle2 == angle4 and side1 == side3 == side2 == side4:\n",
    "        print('Entered quadrilateral is RHOMBUS and it is convex quadrilateral')\n",
    "    elif angle1 > 180 or angle2 > 180 or angle3 > 180 or angle4 > 180:\n",
    "        print('Entered quadrilateral is Concave quadrilateral')\n",
    "\n",
    "\n",
    "# Enter Values from user\n",
    "side1 = int(input('Enter side 1 length: '))\n",
    "side2 = int(input('Enter side 2 length: '))\n",
    "side3 = int(input('Enter side 3 length: '))\n",
    "side4 = int(input('Enter side 4 length: '))\n",
    "\n",
    "angle1 = int(input('Enter angle 1 length: '))\n",
    "angle2 = int(input('Enter angle 2 length: '))\n",
    "angle3 = int(input('Enter angle 3 length: '))\n",
    "angle4 = int(input('Enter angle 4 length: '))\n",
    "\n",
    "# Print entered values\n",
    "print(f'Side 1 = {side1}, Side 2 = {side2}, Side 3 = {side3}, Side 4 = {side4}')\n",
    "print(f'Angle 1 = {angle1}, Angle 2 = {angle2}, Angle 3 = {angle3}, Angle 4 = {angle4}')\n",
    "\n",
    "# Print results \n",
    "print_type_of_quadrilateral(side1, side2, side3, side4, angle1, angle2, angle3, angle4)"
   ]
  },
  {
   "cell_type": "markdown",
   "metadata": {},
   "source": [
    "### 29. Write a Python script to determine the season based on a user-provided month using elif statements."
   ]
  },
  {
   "cell_type": "code",
   "execution_count": 21,
   "metadata": {},
   "outputs": [
    {
     "name": "stdout",
     "output_type": "stream",
     "text": [
      "You entered: September and it is Autumn\n"
     ]
    }
   ],
   "source": [
    "# Assumptions:\n",
    "#   December, January, February\t\t\tWinter\n",
    "#\tMarch, April, May\t\t\t\t\tSpring\n",
    "#\tJune, July, August\t\t\t\t\tSummer\n",
    "#\tSeptember. October, NOvember\t\tAutumn\n",
    "\n",
    "def get_season(month_name: str) -> str:\n",
    "\tmonth_name = month_name.lower()\n",
    "\tif month_name in ('december', 'january', 'february'):\n",
    "\t\treturn 'Winter'\n",
    "\telif month_name in ('march', 'april', 'may'):\n",
    "\t\treturn 'Spring'\n",
    "\telif month_name in ('june', 'july', 'august'):\n",
    "\t\treturn 'Summer'\n",
    "\telif month_name in ('september', 'october', 'november'):\n",
    "\t\treturn 'Autumn'\n",
    "\telse:\n",
    "\t\treturn 'Not Valid'\n",
    "\n",
    "# Take month input\n",
    "month = input(\"Input the month name (e.g. January, February etc.): \")\n",
    "\n",
    "# Get season\n",
    "season = get_season(month)\n",
    "\n",
    "# Print\n",
    "print(f'You entered: {month} and it is {season}')"
   ]
  },
  {
   "cell_type": "markdown",
   "metadata": {},
   "source": [
    "### 30. Implement a program to determine the type of a year (leap or common) and month (30 or 31 days) using elif statements."
   ]
  },
  {
   "cell_type": "code",
   "execution_count": 23,
   "metadata": {},
   "outputs": [
    {
     "name": "stdout",
     "output_type": "stream",
     "text": [
      "Year 2025 is common year and Number of days in month 9 are 30\n"
     ]
    }
   ],
   "source": [
    "def print_year_month_details(year: int, month: int):\n",
    "    # Compute is leap year instead of adding formula in conditions\n",
    "    is_leap_year = year % 4 == 0\n",
    "    \n",
    "    if month == 2 and is_leap_year:\n",
    "        print(f'Year {year} is leap year and Number of days in month {month} are 29')\n",
    "    elif month == 2:\n",
    "        print(f'Year {year} is common year and Number of days in month {month} are 28')\n",
    "    elif (month==1 or month==3 or month==5 or month==7 or month==8 or month==10 or month==12):\n",
    "        if is_leap_year:\n",
    "            print(f'Year {year} is leap year and Number of days in month {month} are 31')\n",
    "        else:\n",
    "            print(f'Year {year} is common year and Number of days in month {month} are 31')\n",
    "    else:\n",
    "        if is_leap_year:\n",
    "            print(f'Year {year} is leap year and Number of days in month {month} are 30')\n",
    "        else:\n",
    "            print(f'Year {year} is common year and Number of days in month {month} are 30')\n",
    "\n",
    "# Take input from user\n",
    "year = int(input('Enter year: '))\n",
    "month = int(input('Enter month (1-12): '))\n",
    "\n",
    "# Print\n",
    "print_year_month_details(year, month)"
   ]
  },
  {
   "cell_type": "markdown",
   "metadata": {},
   "source": [
    "# Assignment Questions"
   ]
  },
  {
   "cell_type": "markdown",
   "metadata": {},
   "source": [
    "\n",
    "## Basic Level:"
   ]
  },
  {
   "cell_type": "markdown",
   "metadata": {},
   "source": [
    "### 1. Write a Python program that checks if a given number is positive, negative, or zero."
   ]
  },
  {
   "cell_type": "code",
   "execution_count": 24,
   "metadata": {},
   "outputs": [
    {
     "name": "stdout",
     "output_type": "stream",
     "text": [
      "Number entered i.e. 25 is Positve\n",
      "Number entered i.e. 0 is Zero\n",
      "Number entered i.e. -85 is Negative\n"
     ]
    }
   ],
   "source": [
    "# Function - takes number as input and print if number is positive, negative or zero - using if elif else\n",
    "def print_number_positivity(n: int):\n",
    "    if  n == 0:\n",
    "        print(f'Number entered i.e. {n} is Zero')\n",
    "    elif n > 0:\n",
    "        print(f'Number entered i.e. {n} is Positve')\n",
    "    else:\n",
    "        print(f'Number entered i.e. {n} is Negative')\n",
    "\n",
    "# Input number from user\n",
    "number1 = int(input('Enter a number1: '))\n",
    "number2 = int(input('Enter a number2: '))\n",
    "number3 = int(input('Enter a number3: '))\n",
    "\n",
    "# Print\n",
    "print_number_positivity(number1)\n",
    "print_number_positivity(number2)\n",
    "print_number_positivity(number3)"
   ]
  },
  {
   "cell_type": "markdown",
   "metadata": {},
   "source": [
    "### 2. Create a program to determine if a person is eligible to vote based on their age."
   ]
  },
  {
   "cell_type": "code",
   "execution_count": 25,
   "metadata": {},
   "outputs": [
    {
     "name": "stdout",
     "output_type": "stream",
     "text": [
      "Your age 17 and you are not eligible to vote.\n"
     ]
    }
   ],
   "source": [
    "# Consideration - person under 18 (less than 18) is not eligible for vote\n",
    "\n",
    "def is_eligible_to_vote(age: int)-> bool:\n",
    "    if age >= 18:\n",
    "        return True\n",
    "    else:\n",
    "        if age < 0:\n",
    "            print('Not a valid age!')\n",
    "        return False\n",
    "    \n",
    "# Input age from user\n",
    "age = int(input('Enter your age: '))\n",
    "\n",
    "# Check eligibility\n",
    "is_eligible = is_eligible_to_vote(age)\n",
    "\n",
    "# Print\n",
    "if is_eligible:\n",
    "    print(f'Your age {age} and you are eligible to vote.')\n",
    "else:    \n",
    "    print(f'Your age {age} and you are not eligible to vote.')\n"
   ]
  },
  {
   "cell_type": "markdown",
   "metadata": {},
   "source": [
    "### 3. Write a program to find the maximum of two given numbers using conditional statements."
   ]
  },
  {
   "cell_type": "code",
   "execution_count": 26,
   "metadata": {},
   "outputs": [
    {
     "name": "stdout",
     "output_type": "stream",
     "text": [
      "Out of 59 and 15 maximum number is: 59\n"
     ]
    }
   ],
   "source": [
    "def get_max(num1: int, num2: int)-> int:\n",
    "    if num1 > num2:\n",
    "        return num1\n",
    "    else:\n",
    "        return num2\n",
    "\n",
    "# Input numbers from user\n",
    "number1 = int(input('Enter number 1: '))\n",
    "number2 = int(input('Enter number 2: '))\n",
    "\n",
    "# Get max number\n",
    "max_num = get_max(number1, number2)\n",
    "\n",
    "# Print\n",
    "print(f'Out of {number1} and {number2} maximum number is: {max_num}')\n"
   ]
  },
  {
   "cell_type": "markdown",
   "metadata": {},
   "source": [
    "### 4. Develop a program that calculates the grade of a student based on their exam score."
   ]
  },
  {
   "cell_type": "code",
   "execution_count": 27,
   "metadata": {},
   "outputs": [
    {
     "name": "stdout",
     "output_type": "stream",
     "text": [
      "You scored 84.0% marks.\n",
      "Your Grade is A\n"
     ]
    }
   ],
   "source": [
    "# Assumptions : Grades are as below:\n",
    "# marks range       Grade\n",
    "# >= 90             A+\n",
    "# 80-90             A\n",
    "# 70-60             B\n",
    "# < 60              C\n",
    "\n",
    "# Take input of marks in percentage\n",
    "score = float(input('Enter yours percentage score: '))\n",
    "\n",
    "print(f'You scored {score}% marks.')\n",
    "\n",
    "# Print Grade\n",
    "if score >= 90:\n",
    "    print('Your Grade is A+')\n",
    "elif score >= 80:\n",
    "    print('Your Grade is A')\n",
    "elif score >= 70:\n",
    "    print('Your Grade is B')\n",
    "else:\n",
    "    print('Your Grade is C')"
   ]
  },
  {
   "cell_type": "markdown",
   "metadata": {},
   "source": [
    "### 5. Create a program that checks if a year is a leap year or not."
   ]
  },
  {
   "cell_type": "code",
   "execution_count": 28,
   "metadata": {},
   "outputs": [
    {
     "name": "stdout",
     "output_type": "stream",
     "text": [
      "Year 2048 is a leap year.\n"
     ]
    }
   ],
   "source": [
    "# Leap year is a year which is divisible by 4\n",
    "\n",
    "def is_leap_year(year: int) -> bool:\n",
    "    if year % 4 == 0:\n",
    "        return True\n",
    "    else:\n",
    "        return False\n",
    "\n",
    "# Take input of year\n",
    "year = int(input('Enter year: '))\n",
    "\n",
    "# Print\n",
    "if is_leap_year(year):\n",
    "    print(f'Year {year} is a leap year.')\n",
    "else:\n",
    "    print(f'Year {year} is a not leap year.')"
   ]
  },
  {
   "cell_type": "markdown",
   "metadata": {},
   "source": [
    "### 6. Write a program to classify a triangle based on its sides' lengths."
   ]
  },
  {
   "cell_type": "code",
   "execution_count": 29,
   "metadata": {},
   "outputs": [
    {
     "name": "stdout",
     "output_type": "stream",
     "text": [
      "x = 60, y = 60, z = 60\n",
      "Triangle is Equilateral triangle\n"
     ]
    }
   ],
   "source": [
    "'''\n",
    "Considerations:\n",
    "\n",
    "> An equilateral triangle is a triangle in which all three sides are equal.\n",
    "\n",
    "> A scalene triangle is a triangle that has three unequal sides.\n",
    "\n",
    "> An isosceles triangle is a triangle with (at least) two equal sides.\n",
    "'''\n",
    "\n",
    "# Take input of triangle edge sizes\n",
    "edge_length_x = int(input(\"Enter edge length x of triangle: \"))\n",
    "edge_length_y = int(input(\"Enter edge length y triangle: \"))\n",
    "edge_length_z = int(input(\"Enter edge length z triangle: \"))\n",
    "\n",
    "# Print entered values\n",
    "print(f'x = {edge_length_x}, y = {edge_length_y}, z = {edge_length_z}')\n",
    "\n",
    "if edge_length_x == edge_length_y == edge_length_z:\n",
    "\tprint(\"Triangle is Equilateral triangle\")\n",
    "elif edge_length_x == edge_length_y or edge_length_y == edge_length_z or edge_length_z == edge_length_x:\n",
    "\tprint(\"Triangle is Isosceles triangle\")\n",
    "else:\n",
    "\tprint(\"Triangle is Scalene triangle\")"
   ]
  },
  {
   "cell_type": "markdown",
   "metadata": {},
   "source": [
    "### 7. Build a program that determines the largest of three given numbers."
   ]
  },
  {
   "cell_type": "code",
   "execution_count": 30,
   "metadata": {},
   "outputs": [
    {
     "name": "stdout",
     "output_type": "stream",
     "text": [
      "Among 20, 85, 42. Largest number is 85\n"
     ]
    }
   ],
   "source": [
    "# Input numbers from user\n",
    "number1 = int(input('Enter number 1: '))\n",
    "number2 = int(input('Enter number 2: '))\n",
    "number3 = int(input('Enter number 3: '))\n",
    "\n",
    "# Using if elif and else\n",
    "if number1 > number2 and number1 > number3:\n",
    "    print(f'Among {number1}, {number2}, {number3}. Largest number is {number1}')\n",
    "elif number2 > number1 and number2 > number3:\n",
    "    print(f'Among {number1}, {number2}, {number3}. Largest number is {number2}')\n",
    "else:\n",
    "    print(f'Among {number1}, {number2}, {number3}. Largest number is {number3}')"
   ]
  },
  {
   "cell_type": "markdown",
   "metadata": {},
   "source": [
    "### 8. Develop a program that checks whether a character is a vowel or a consonant."
   ]
  },
  {
   "cell_type": "code",
   "execution_count": 31,
   "metadata": {},
   "outputs": [
    {
     "name": "stdout",
     "output_type": "stream",
     "text": [
      "\"I\" is Vowel\n"
     ]
    }
   ],
   "source": [
    "# Keeping the list of vowels to check from\n",
    "VOWELS = ['a', 'e', 'i', 'o', 'u', 'A', 'E', 'I', 'O', 'U']\n",
    "\n",
    "# char input\n",
    "char = input('Enter a character/letter: ')\n",
    "\n",
    "# Check if vowel or not\n",
    "is_vowel = char in VOWELS\n",
    "\n",
    "# Print\n",
    "if is_vowel:\n",
    "    print(f'\"{char}\" is Vowel')\n",
    "else:\n",
    "    print(f'\"{char}\" is Consonant')"
   ]
  },
  {
   "cell_type": "markdown",
   "metadata": {},
   "source": [
    "### 9. Create a program to calculate the total cost of a shopping cart based on discounts."
   ]
  },
  {
   "cell_type": "code",
   "execution_count": 33,
   "metadata": {},
   "outputs": [
    {
     "name": "stdout",
     "output_type": "stream",
     "text": [
      "Your actual purchase amount was: 5620\n",
      "After applying 10% discount, you have to pay only 5058.0\n"
     ]
    }
   ],
   "source": [
    "# Assumptions as below\n",
    "#    Cart Amount    Discount\n",
    "#    0-5000          5%\n",
    "#    5001-10000      10%\n",
    "#    10001-20000     20%\n",
    "#    above 20000     30%\n",
    "\n",
    "def get_discount_percentage(cart_value: int) -> int:\n",
    "    if cart_value <= 5000:\n",
    "        return 5\n",
    "    elif cart_value <= 10000:\n",
    "        return 10\n",
    "    elif cart_value <= 20000:\n",
    "        return 20\n",
    "    else:\n",
    "        return 30\n",
    "\n",
    "# input purchase amount\n",
    "cart_amount = int(input(\"Enter Cart Amount: \")) \n",
    "\n",
    "# Get Discount percentage\n",
    "discount = get_discount_percentage(cart_amount)\n",
    "\n",
    "# Compute discounted price - 100 - discount will give us percentage of amount to be received\n",
    "discounted_amount = (100 - discount) * cart_amount / 100\n",
    "\n",
    "# Print\n",
    "print(f'Your actual purchase amount was: {cart_amount}')\n",
    "print(f'After applying {discount}% discount, you have to pay only {discounted_amount}')"
   ]
  },
  {
   "cell_type": "markdown",
   "metadata": {},
   "source": [
    "### 10. Write a program that checks if a given number is even or odd.\n"
   ]
  },
  {
   "cell_type": "code",
   "execution_count": 32,
   "metadata": {},
   "outputs": [
    {
     "name": "stdout",
     "output_type": "stream",
     "text": [
      "Number 23 is ODD.\n"
     ]
    }
   ],
   "source": [
    "# Take a number input\n",
    "number = int(input('Enter a number: '))\n",
    "\n",
    "# Check and print\n",
    "if number % 2 == 0:\n",
    "    print(f'Number {number} is EVEN.')\n",
    "else:\n",
    "    print(f'Number {number} is ODD.')"
   ]
  },
  {
   "cell_type": "markdown",
   "metadata": {},
   "source": [
    "## Intermediate Level:"
   ]
  },
  {
   "cell_type": "markdown",
   "metadata": {},
   "source": [
    "### 11. Write a program that calculates the roots of a quadratic equation ."
   ]
  },
  {
   "cell_type": "code",
   "execution_count": 27,
   "metadata": {},
   "outputs": [
    {
     "name": "stdout",
     "output_type": "stream",
     "text": [
      "Roots are real and different.\n",
      "x = -1.0 or x = -4.0\n"
     ]
    }
   ],
   "source": [
    "import math\n",
    "import cmath\n",
    "\n",
    "# Function - prints the roots and related info\n",
    "def print_roots_of_quadratic_equation(a: int, b: int, c: int):\n",
    "    if a == 0:\n",
    "        print('Not a valid Quadratic equation.')\n",
    "    else:\n",
    "        # D = b2 - 4ac\n",
    "        D = (b ** 2) - (4 * a * c)\n",
    "\n",
    "        if D == 0:\n",
    "            # D = 0, (-b + sqrt(D))/2a = -b so -b/2a\n",
    "            root = (-b  / (2 * a))\n",
    "            print('Roots are real and same.')\n",
    "            print(f'x = {root}')\n",
    "        elif D > 0:\n",
    "            square_root_D = math.sqrt(D)\n",
    "            root1 = (-b + square_root_D)/(2 * a)\n",
    "            root2 = (-b - square_root_D)/(2 * a)\n",
    "            print('Roots are real and different.')\n",
    "            print(f'x = {root1} or x = {root2}')\n",
    "        else:\n",
    "            square_root_D = cmath.sqrt(D)\n",
    "            root1 = (-b + square_root_D)/(2 * a)\n",
    "            root2 = (-b - square_root_D)/(2 * a)\n",
    "            print('Roots are complex.')\n",
    "            print(f'x = {root1} or x = {root2}')\n",
    "\n",
    "\n",
    "# Compute and print result\n",
    "print_roots_of_quadratic_equation(1, 5, 4)"
   ]
  },
  {
   "cell_type": "markdown",
   "metadata": {},
   "source": [
    "### 12. Create a program that determines the day of the week based on the day number (1-7)."
   ]
  },
  {
   "cell_type": "code",
   "execution_count": 34,
   "metadata": {},
   "outputs": [
    {
     "name": "stdout",
     "output_type": "stream",
     "text": [
      "You entered day number: 3\n",
      "It is Wednesday!\n"
     ]
    }
   ],
   "source": [
    "# Function - Takes a day (number) of the week and print the name of the week day\n",
    "def print_day_name(day_number: int):\n",
    "    if day_number <= 0 or day_number > 7:\n",
    "        print(f'Week day number should be between 1 to 7, both inclusive.')\n",
    "    else:\n",
    "        if day_number == 1:\n",
    "            print('It is Monday!')\n",
    "        elif day_number == 2:\n",
    "            print('It is Tuesday!')\n",
    "        elif day_number == 3:\n",
    "            print('It is Wednesday!')\n",
    "        elif day_number == 4:\n",
    "            print('It is Thursday!')\n",
    "        elif day_number == 5:\n",
    "            print('It is Friday!')\n",
    "        elif day_number == 6:\n",
    "            print('It is Saturday!')\n",
    "        else:\n",
    "            print('It is Sunday!')\n",
    "\n",
    "\n",
    "# Take input from the user\n",
    "day_no = int(input('Enter the day number in the week: '))\n",
    "\n",
    "# Print\n",
    "print(f'You entered day number: {day_no}')\n",
    "print_day_name(day_number=day_no)"
   ]
  },
  {
   "cell_type": "markdown",
   "metadata": {},
   "source": [
    "### 13. Develop a program that calculates the factorial of a given number using recursion."
   ]
  },
  {
   "cell_type": "code",
   "execution_count": 44,
   "metadata": {},
   "outputs": [
    {
     "name": "stdout",
     "output_type": "stream",
     "text": [
      "Factorial of 6 is 720\n"
     ]
    }
   ],
   "source": [
    "# Factorial formula = F(n) = n * (n-1) * .... 1\n",
    "\n",
    "# function - takes n as input and return factorial of n (recurssive function)\n",
    "def get_factorial(n:int) -> int:\n",
    "    if(n == 1):\n",
    "        return 1\n",
    "    else:\n",
    "        return n * get_factorial(n-1)\n",
    "    \n",
    "# Take an input number\n",
    "num = int(input('Enter a number: '))\n",
    "\n",
    "# Get Factorial\n",
    "factorial = get_factorial(num)\n",
    "\n",
    "# Print\n",
    "print(f'Factorial of {num} is {factorial}')"
   ]
  },
  {
   "cell_type": "markdown",
   "metadata": {},
   "source": [
    "### 14. Write a program to find the largest among three numbers without using the `max()` function."
   ]
  },
  {
   "cell_type": "code",
   "execution_count": 45,
   "metadata": {},
   "outputs": [
    {
     "name": "stdout",
     "output_type": "stream",
     "text": [
      "Among 89, 97, 12. Largest number is 97\n"
     ]
    }
   ],
   "source": [
    "# Input numbers from user\n",
    "number1 = int(input('Enter number 1: '))\n",
    "number2 = int(input('Enter number 2: '))\n",
    "number3 = int(input('Enter number 3: '))\n",
    "\n",
    "# Using if elif and else\n",
    "if number1 > number2 and number1 > number3:\n",
    "    print(f'Among {number1}, {number2}, {number3}. Largest number is {number1}')\n",
    "elif number2 > number1 and number2 > number3:\n",
    "    print(f'Among {number1}, {number2}, {number3}. Largest number is {number2}')\n",
    "else:\n",
    "    print(f'Among {number1}, {number2}, {number3}. Largest number is {number3}')"
   ]
  },
  {
   "cell_type": "markdown",
   "metadata": {},
   "source": [
    "### 15. Create a program that simulates a basic ATM transaction menu."
   ]
  },
  {
   "cell_type": "code",
   "execution_count": 3,
   "metadata": {},
   "outputs": [
    {
     "name": "stdout",
     "output_type": "stream",
     "text": [
      "Welcome Mr. ABC XYZ!, please choose from following options to proceed:\n",
      "\t 0. Check balance.\n",
      "\t 1. Withdraw money.\n",
      "\t 2. Change PIN.\n",
      "\t 3. Quit.\n",
      "Your account number 13684732149734 has balance of INR 9786532.5\n",
      "Welcome Mr. ABC XYZ!, please choose from following options to proceed:\n",
      "\t 0. Check balance.\n",
      "\t 1. Withdraw money.\n",
      "\t 2. Change PIN.\n",
      "\t 3. Quit.\n",
      "You have successfully withdrawn 200. New balance is 9786332.5\n",
      "Welcome Mr. ABC XYZ!, please choose from following options to proceed:\n",
      "\t 0. Check balance.\n",
      "\t 1. Withdraw money.\n",
      "\t 2. Change PIN.\n",
      "\t 3. Quit.\n",
      "You successfully changed your PIN.\n"
     ]
    }
   ],
   "source": [
    "# Assumptions - if basic ATM machine we can do below things\n",
    "#   Withdraw money\n",
    "#   Check Balance\n",
    "#   Change a pin\n",
    "#   Quit\n",
    "\n",
    "# Keeping data to compare\n",
    "card_no = '1234'\n",
    "card_pin = 3456\n",
    "user_name = 'Mr. ABC XYZ'\n",
    "user_balance = 9786532.5\n",
    "account_number = '13684732149734'\n",
    "\n",
    "# ATM Start - take card number and pin input\n",
    "entered_card_no = input('Enter your card number: ')\n",
    "entered_pin_no = int(input('Enter your pin: '))\n",
    "\n",
    "if (entered_card_no == card_no and entered_pin_no == card_pin):\n",
    "    # Starting ATM till user choose to exit or changes pin or does not enter valid choice\n",
    "    while(True):\n",
    "        print(f'Welcome {user_name}!, please choose from following options to proceed:')\n",
    "        print('\\t 0. Check balance.')\n",
    "        print('\\t 1. Withdraw money.')\n",
    "        print('\\t 2. Change PIN.')\n",
    "        print('\\t 3. Quit.')\n",
    "\n",
    "        user_choice = int(input('Enter your choice 0 to 3: '))\n",
    "\n",
    "        if user_choice == 0:\n",
    "            # Check balance\n",
    "            print(f'Your account number {account_number} has balance of INR {user_balance}')\n",
    "        elif user_choice == 1:\n",
    "            # Withdraw money\n",
    "            withdraw_amount = int(input('Enter the amount you want to withdraw: '))\n",
    "\n",
    "            if withdraw_amount <= user_balance:\n",
    "                user_balance -= withdraw_amount\n",
    "                print(f'You have successfully withdrawn {withdraw_amount}. New balance is {user_balance}')\n",
    "            else:\n",
    "                print('Insufficient balance in your account')\n",
    "        elif user_choice == 2:\n",
    "            # Change PIN\n",
    "            # Re authenticate\n",
    "            current_pin = int(input('Enter your current pin: '))\n",
    "            if current_pin == card_pin:\n",
    "                new_pin_1 = int(input('Enter your current pin: '))\n",
    "                new_pin_2 = int(input('Enter your current pin: '))\n",
    "\n",
    "                if(new_pin_1 == new_pin_2):\n",
    "                    current_pin = new_pin_1\n",
    "                    print('You successfully changed your PIN.')\n",
    "                    break\n",
    "                else:\n",
    "                    print('Entered PINs does not match.')\n",
    "            else:\n",
    "                print('Wrong PIN')\n",
    "        else:\n",
    "            print('Thanks for visiting ATM, exiting your account now!')\n",
    "            break\n",
    "\n",
    "\n",
    "else:\n",
    "    print('WRONG PIN or CARD details.')\n"
   ]
  },
  {
   "cell_type": "markdown",
   "metadata": {},
   "source": [
    "### 16. Build a program that checks if a given string is a palindrome or not."
   ]
  },
  {
   "cell_type": "code",
   "execution_count": 47,
   "metadata": {},
   "outputs": [
    {
     "name": "stdout",
     "output_type": "stream",
     "text": [
      "String \"Robin is Palindrome?: False\n"
     ]
    }
   ],
   "source": [
    "# Approach - String is called Palindrome when reverse of string and string both are equal\n",
    "\n",
    "# Creating a function to return True if Palindrome, else False\n",
    "def is_palindrome(string_to_check:str) -> bool:\n",
    "  string_to_check = string_to_check.lower()\n",
    "  reverse_of_string = string_to_check[::-1]\n",
    "  return reverse_of_string == string_to_check\n",
    "\n",
    "# Take input string from user\n",
    "string_to_check = input('Enter a string to check:')\n",
    "\n",
    "# Checking string for Palindrome\n",
    "palindrome = is_palindrome(string_to_check)\n",
    "\n",
    "# Print whether Palindrome or not\n",
    "print(f'String \"{string_to_check} is Palindrome?: {palindrome}')"
   ]
  },
  {
   "cell_type": "markdown",
   "metadata": {},
   "source": [
    "### 17. Write a program that calculates the average of a list of numbers, excluding the smallest and largest values."
   ]
  },
  {
   "cell_type": "code",
   "execution_count": 6,
   "metadata": {},
   "outputs": [
    {
     "name": "stdout",
     "output_type": "stream",
     "text": [
      "Average is : 4.0\n"
     ]
    }
   ],
   "source": [
    "# Function - takes a list and calculate average excluding minimum and maximum\n",
    "def average_excluding_min_max(list_input: list):\n",
    "    min_num = min(list_input)\n",
    "    max_num = max(list_input)\n",
    "    sum_of_elements = 0\n",
    "    count_of_elements = 0\n",
    "\n",
    "    for num in list_input:\n",
    "        if min_num == num:\n",
    "            continue\n",
    "        elif max_num == num:\n",
    "            continue\n",
    "        else:\n",
    "            sum_of_elements += num\n",
    "            count_of_elements += 1\n",
    "    \n",
    "    return sum_of_elements/count_of_elements\n",
    "\n",
    "# Create a list\n",
    "list1 = [23, 1, 2, 3, 4, 5, 6,]\n",
    "\n",
    "# Get average\n",
    "avg_exc_min_max = average_excluding_min_max(list1)\n",
    "\n",
    "# Print\n",
    "print(f'Average is : {avg_exc_min_max}')"
   ]
  },
  {
   "cell_type": "markdown",
   "metadata": {},
   "source": [
    "### 18. Develop a program that converts a given temperature from Celsius to Fahrenheit."
   ]
  },
  {
   "cell_type": "code",
   "execution_count": 4,
   "metadata": {},
   "outputs": [
    {
     "name": "stdout",
     "output_type": "stream",
     "text": [
      "Temperature in Fahrenheit is:  98.6\n"
     ]
    }
   ],
   "source": [
    "# Take the temperature in Celsius as input\n",
    "celsius_temp = float(input('Please enter a temperature in Celsius:'))\n",
    "\n",
    "# converts temperatures from Celsius to Fahrenheit\n",
    "fahrenteit_temp = (celsius_temp * 9/5) + 32\n",
    "\n",
    "# Printing temperature in Fahrenheit\n",
    "print('Temperature in Fahrenheit is: ', fahrenteit_temp)"
   ]
  },
  {
   "cell_type": "markdown",
   "metadata": {},
   "source": [
    "### 19. Create a program that simulates a basic calculator for addition, subtraction, multiplication, and division."
   ]
  },
  {
   "cell_type": "code",
   "execution_count": 7,
   "metadata": {},
   "outputs": [
    {
     "name": "stdout",
     "output_type": "stream",
     "text": [
      "45 mul 5 = 225\n"
     ]
    }
   ],
   "source": [
    "\n",
    "# Function - calculator takes numbers and operator as input and return result\n",
    "def calculator(number1: int, number2: int, operator: str):\n",
    "    if operator.lower() == 'add':\n",
    "        return number1 + number2\n",
    "    elif operator.lower() == 'sub':\n",
    "        return number1 - number2\n",
    "    elif operator.lower() == 'mul':\n",
    "        return number1 * number2\n",
    "    elif operator.lower() == 'div':\n",
    "        return number1 / number2\n",
    "    else:\n",
    "        print('Invalid operation')\n",
    "\n",
    "\n",
    "# Take number 1 input\n",
    "num1 = int(input('Enter number 1: '))\n",
    "\n",
    "# Take input of operator\n",
    "operator = input('Enter your operation (add, sub, mul, div): ')\n",
    "\n",
    "# Take number 2 input\n",
    "num2 = int(input('Enter number 2: '))\n",
    "\n",
    "# Calculate the result\n",
    "result = calculator(num1, num2, operator)\n",
    "\n",
    "# Print result\n",
    "print(f'{num1} {operator} {num2} = {result}')\n",
    "\n"
   ]
  },
  {
   "cell_type": "markdown",
   "metadata": {},
   "source": [
    "### 20. Write a program that determines the roots of a cubic equation using the Cardano formula."
   ]
  },
  {
   "cell_type": "code",
   "execution_count": 2,
   "metadata": {},
   "outputs": [
    {
     "name": "stdout",
     "output_type": "stream",
     "text": [
      "1 roots is real and 2 are complex, as below: \n",
      "Root 1: -1.1954341006928635\n",
      "Root 2: (-0.40228294965356814+3.1426681205834717j)\n",
      "Root 3: (-0.40228294965356814-3.1426681205834717j)\n"
     ]
    }
   ],
   "source": [
    "'''\n",
    "A cubic equation is a polynomial equation of the third degree, meaning that the highest power of the variable in the equation is 3.\n",
    " A general cubic equation has the form:\n",
    "\n",
    ">  ax³ + bx² + cx + d = 0\n",
    "\n",
    "where a, b, c, and d are coefficients and x is the variable.\n",
    "\n",
    "SOLUTION : (as per https://www.1728.org/cubic2.htm)\n",
    "\n",
    "Cubic equations have to be solved in several steps. First we define a variable 'f':\n",
    "\n",
    "f = ((3c/a) - (b²/a²)) / 3\n",
    "\n",
    "Next we define 'g':\n",
    "\n",
    "g = ((2b³/a³) - (9bc/a²) + (27d/a))/27\n",
    "\n",
    "Then we define 'h':\n",
    "\n",
    "h = (g²/4) + (f³/27)\n",
    "\n",
    "If h > 0, there is only 1 real root and is solved by another method.\n",
    "For the special case where f=0, g=0 and h = 0, all 3 roots are real and equal. x1 = x2 = x3= (d/a) power 1/3 * -1\n",
    "When h <= 0, as is the case here (MORE details at https://www.1728.org/cubic2.htm)\n",
    "'''\n",
    "\n",
    "import math\n",
    "\n",
    "# Function - returns f value as per above formula\n",
    "def compute_f(a: float, b: float, c: float):\n",
    "    return ((3 * c / a) - ((b ** 2) / (a ** 2))) / 3\n",
    "\n",
    "\n",
    "# Function - returns g value as per above formula\n",
    "def compute_g(a: float, b: float, c: float, d: float):\n",
    "    return (((2 * (b ** 3)) / (a ** 3)) - ((9 * b * c) / (a ** 2)) + (27 * d / a)) /27\n",
    "\n",
    "\n",
    "# Function - returns h value as per above formula\n",
    "def compute_h(g: float, f: float):\n",
    "    return ((g ** 2) / 4 + (f ** 3) / 27)\n",
    "\n",
    "# Main Function - Function prints the roots of the cubic equation - using the Cardano formula.\n",
    "def print_roots_of_cubic_equation(a: float, b: float, c: float, d: float):\n",
    "    # Validation\n",
    "    if a == 0 and b == 0:\n",
    "        print('This is linear equation, not cubic equation.')\n",
    "    elif a == 0:\n",
    "        print('This is Quadratic equation, not cubic equation.')\n",
    "    \n",
    "    # Compute f, g, and h\n",
    "    f = compute_f(a, b, c)\n",
    "    g = compute_g(a, b, c, d)\n",
    "    h = compute_h(g, f)\n",
    "\n",
    "    # All roots are same and real\n",
    "    if f == 0 and g == 0 and h == 0:\n",
    "        root = 0\n",
    "        if (d / a) >= 0:\n",
    "            root = (d / a) ** (1 / 3) * -1\n",
    "        else:\n",
    "            root = (-d / a) ** (1 / 3)\n",
    "        print(f'All 3 roots are real and equal. And are eqaul to: {root}')\n",
    "\n",
    "    # All roots are real\n",
    "    elif h <= 0:\n",
    "        i = math.sqrt(((g ** 2) / 4) - h)\n",
    "        j = i ** (1 / 3)\n",
    "        k = math.acos(-(g / (2 * i)))\n",
    "\n",
    "        L = j * - 1\n",
    "        M = math.cos(k / 3)\n",
    "        N = math.sqrt(3) * math.sin(k / 3)\n",
    "        P = (b / (3 * a)) * - 1\n",
    "\n",
    "        root1 = 2 * j * math.cos(k / 3) - (b / (3 * a))\n",
    "        root2 = L * (M + N) + P\n",
    "        root3 = L * (M - N) + P\n",
    "\n",
    "        print('All roots are real, as below: ')\n",
    "        print(f'Root 1: {root1}')\n",
    "        print(f'Root 2: {root2}')\n",
    "        print(f'Root 3: {root3}')\n",
    "\n",
    "    # 1 real and 2 complex roots\n",
    "    elif h > 0:                                 \n",
    "        R = -(g / 2) + math.sqrt(h)\n",
    "        if R >= 0:\n",
    "            S = R ** (1 / 3)\n",
    "        else:\n",
    "            S = (-R) ** (1 / 3) * -1\n",
    "        T = -(g / 2) - math.sqrt(h)\n",
    "        if T >= 0:\n",
    "            U = (T ** (1 / 3))\n",
    "        else:\n",
    "            U = ((-T) ** (1 / 3)) * -1\n",
    "\n",
    "        root1 = (S + U) - (b / (3 * a))\n",
    "        root2 = -(S + U) / 2 - (b / (3 * a)) + (S - U) * math.sqrt(3) * 0.5j\n",
    "        root3 = -(S + U) / 2 - (b / (3 * a)) - (S - U) * math.sqrt(3) * 0.5j\n",
    "\n",
    "        print('1 roots is real and 2 are complex, as below: ')\n",
    "        print(f'Root 1: {root1}')\n",
    "        print(f'Root 2: {root2}')\n",
    "        print(f'Root 3: {root3}')\n",
    "\n",
    "# Compute and print result for the cubic equation\n",
    "print_roots_of_cubic_equation(a=2, b=4, c=22, d=24)\n"
   ]
  },
  {
   "cell_type": "markdown",
   "metadata": {},
   "source": [
    "## Advanced Level:"
   ]
  },
  {
   "cell_type": "markdown",
   "metadata": {},
   "source": [
    "### 21. Create a program that calculates the income tax based on the user's income and tax brackets."
   ]
  },
  {
   "cell_type": "code",
   "execution_count": 8,
   "metadata": {},
   "outputs": [
    {
     "name": "stdout",
     "output_type": "stream",
     "text": [
      "Your total income is INR 2100000\n",
      "Income tax on your income is INR: 330000.0\n",
      "In hand annual income is INR 1770000.0\n"
     ]
    }
   ],
   "source": [
    "'''\n",
    "CONSIDERATIONS -  https://www.bankbazaar.com/tax/income-tax-slabs.html (FY 2023-24 Income Tax Slab new regime)\n",
    "\n",
    "    AMOUNT                              INCOME TAX RATE\n",
    "    Rs.0 - Rs.3 lakh                    0% (No Tax)\n",
    "    Rs.3 lakh - Rs.6 lakh               5% \n",
    "    Rs.6 lakh - Rs.9 lakh               10% + 5% of 3 lakhs (15000)\n",
    "    Rs.9 lakh - Rs.12 lakh              15% + 15000 + 30000 (45000)\n",
    "    Rs.12 lakh - Rs.15 lakh             20% + 15000 + 30000 + 45000 (90000)\n",
    "    Above Rs. 15 lakh                   30% + 15000 + 30000 + 45000  + 60000 (150000)\n",
    "'''\n",
    "\n",
    "\n",
    "# Function - calculated percentage amount from actual amount and percentage\n",
    "def percentage_amount(amount, percent):\n",
    "    return (amount * percent) / 100\n",
    "\n",
    "# Function - Take total income as input and return the tax amount\n",
    "def calculate_income_tax(total_income: int) -> float:  \n",
    "    if total_income <= 300000:\n",
    "        return 0\n",
    "    elif total_income <= 600000:\n",
    "        return percentage_amount(total_income - 300000, 5)\n",
    "    elif total_income <= 900000:\n",
    "        return percentage_amount(total_income - 600000, 10) + 15000\n",
    "    elif total_income <= 1200000:\n",
    "        return percentage_amount(total_income - 900000, 15) + 45000\n",
    "    elif total_income <= 1500000:\n",
    "        return percentage_amount(total_income - 1000000, 20) + 90000\n",
    "    else:\n",
    "        return percentage_amount(total_income - 1500000, 30) + 150000\n",
    "    \n",
    "# Takes input from the user\n",
    "total_income = int(input('Enter your annual total income: '))\n",
    "\n",
    "# Caculcate tax\n",
    "tax_amount = calculate_income_tax(total_income)\n",
    "\n",
    "# Print\n",
    "print(f'Your total income is INR {total_income}')\n",
    "print(f'Income tax on your income is INR: {tax_amount}')\n",
    "print(f'In hand annual income is INR {total_income - tax_amount}')"
   ]
  },
  {
   "cell_type": "markdown",
   "metadata": {},
   "source": [
    "### 22. Write a program that simulates a rock-paper-scissors game against the computer."
   ]
  },
  {
   "cell_type": "code",
   "execution_count": 14,
   "metadata": {},
   "outputs": [
    {
     "name": "stdout",
     "output_type": "stream",
     "text": [
      "You entered \"paper\", and computer selected \"paper\" .\n",
      "Both players selected paper. It's a tie!\n"
     ]
    }
   ],
   "source": [
    "'''\n",
    "Approach -\n",
    "We will ask user to enter his choice and \n",
    "We will be using random module/lib to generate the computer's input or selection\n",
    "Then comparing and printing the winner\n",
    "'''\n",
    "\n",
    "import random\n",
    "\n",
    "all_actions = ['rock', 'paper', 'scissors']\n",
    "\n",
    "# Function - determine the winner\n",
    "def print_winner(user_action, computer_action):\n",
    "\n",
    "    if user_action == computer_action:\n",
    "        print(f\"Both players selected {user_action}. It's a tie!\")\n",
    "\n",
    "    elif user_action == \"rock\":\n",
    "        if computer_action == \"scissors\":\n",
    "            print(\"Rock smashes scissors! You win!\")\n",
    "        else:\n",
    "            print(\"Paper covers rock! You lose.\")\n",
    "\n",
    "    elif user_action == \"paper\":\n",
    "        if computer_action == \"rock\":\n",
    "            print(\"Paper covers rock! You win!\")\n",
    "        else:\n",
    "            print(\"Scissors cuts paper! You lose.\")\n",
    "\n",
    "    elif user_action == \"scissors\":\n",
    "        if computer_action == \"paper\":\n",
    "            print(\"Scissors cuts paper! You win!\")\n",
    "        else:\n",
    "            print(\"Rock smashes scissors! You lose.\")\n",
    "\n",
    "\n",
    "# User's input\n",
    "user_input = input(f'Enter your choice {all_actions}: ').lower()\n",
    "\n",
    "# Generate computer's iput\n",
    "comp_input = random.choice(all_actions)\n",
    "\n",
    "# Print user and computer's selection\n",
    "print(f'You entered \"{user_input}\", and computer selected \"{comp_input}\" .')\n",
    "\n",
    "# Print result\n",
    "print_winner(user_input, comp_input)"
   ]
  },
  {
   "cell_type": "markdown",
   "metadata": {},
   "source": [
    "### 23. Develop a program that generates a random password based on user preferences (length, complexity)."
   ]
  },
  {
   "cell_type": "code",
   "execution_count": 21,
   "metadata": {},
   "outputs": [
    {
     "name": "stdout",
     "output_type": "stream",
     "text": [
      "Required length: 20\n",
      "Want lower case letters: True\n",
      "Want upper case letters: True\n",
      "Want digits: True\n",
      "Want special charactes: True\n",
      "Password as per your preferences is: bUYMa}ELg@6Ic2YYeJ,| \n"
     ]
    }
   ],
   "source": [
    "import string\n",
    "import random\n",
    "\n",
    "## By default adding the all available letters to the preference because that is basic requirement\n",
    "user_preferred_characters = []\n",
    "required_length = 0\n",
    "\n",
    "# Function - Takes user preferences and save it in user_preferred_characters and required_length\n",
    "def take_user_password_preference():\n",
    "    global required_length\n",
    "    global user_preferred_characters\n",
    "\n",
    "    required_length = int(input('Enter the length of password you want to generate: '))\n",
    "    print(f'Required length: {required_length}')\n",
    "\n",
    "    can_add_lowercase_letters = bool(input('Do you want to include Lower Case letters in password (0 or False, 1 or True): '))\n",
    "    print(f'Want lower case letters: {can_add_lowercase_letters}')\n",
    "\n",
    "    can_add_uppercase_letters = bool(input('Do you want to include Upper Case letters in password (0 or False, 1 or True): '))\n",
    "    print(f'Want upper case letters: {can_add_uppercase_letters}')\n",
    "\n",
    "    can_add_digits = bool(input('Do you want to include digits in password (0 or False, 1 or True): '))\n",
    "    print(f'Want digits: {can_add_digits}')\n",
    "    \n",
    "    can_add_special_chars = bool(input('Do you want to include special characters in password (0 or False, 1 or True): '))\n",
    "    print(f'Want special charactes: {can_add_special_chars}')\n",
    "\n",
    "    if can_add_lowercase_letters:\n",
    "        user_preferred_characters.extend(string.ascii_lowercase)\n",
    "\n",
    "    if can_add_uppercase_letters:\n",
    "        user_preferred_characters.extend(string.ascii_uppercase)\n",
    "\n",
    "    if can_add_digits:\n",
    "        user_preferred_characters.extend(string.digits)\n",
    "\n",
    "    if can_add_special_chars:\n",
    "        user_preferred_characters.extend(string.punctuation)\n",
    "\n",
    "\n",
    "# Function - generates password as per user's preference\n",
    "def generate_password() -> str:\n",
    "\n",
    "    password_chars = []\n",
    "    \n",
    "    for i in range(required_length):\n",
    "        random_character = random.choice(user_preferred_characters)\n",
    "\n",
    "        password_chars.append(random_character)\n",
    "    \n",
    "    return ''.join(password_chars)\n",
    "\n",
    "# Take user's input for preferences\n",
    "take_user_password_preference()\n",
    "\n",
    "# Generate password\n",
    "password = generate_password()\n",
    "\n",
    "# Print\n",
    "print(f'Password as per your preferences is: {password} ')"
   ]
  },
  {
   "cell_type": "markdown",
   "metadata": {},
   "source": [
    "### 24. Create a program that implements a simple text-based adventure game with branching scenarios."
   ]
  },
  {
   "cell_type": "code",
   "execution_count": 4,
   "metadata": {},
   "outputs": [
    {
     "name": "stdout",
     "output_type": "stream",
     "text": [
      "\n",
      "WELCOME! THIS IS THE ADVENTURE GAME, LET US START THE ADVENTURE\n",
      "\n",
      "You are standing outside of your house and you see a man running towards you and asking for urgent shelter.\n",
      "\n",
      "\n",
      "Now, he is trying to kill you. Will, you knock him down? (Yes / No)\n",
      "\n",
      "Congrats! He was a thief & You helped the police to catch him with your bravery.\n"
     ]
    }
   ],
   "source": [
    "valid_yes_answers = ['Yes', 'Y', 'yes', 'y']\n",
    "valid_no_answers = ['No', 'N', 'no', 'n']\n",
    "\n",
    "print('''\n",
    "WELCOME! THIS IS THE ADVENTURE GAME, LET US START THE ADVENTURE\n",
    "\n",
    "You are standing outside of your house and you see a man running towards you and asking for urgent shelter.\n",
    "\n",
    "''')\n",
    "\n",
    "answer1 = input('Will you provide shelter to him? (Yes / No):')\n",
    "\n",
    "if answer1 in valid_yes_answers:\n",
    "    print('After 2 minutes, the Police came to your house, and ask you that whether the thief is in your house or not.')\n",
    "\n",
    "    answer2 = input('Will you say (Yes / No)')\n",
    "\n",
    "    if answer2 in valid_yes_answers:\n",
    "        print('You are an honest person. He was a thief & You won the Game')\n",
    "\n",
    "    elif answer2 in valid_no_answers:\n",
    "        print('You helped a thief. Now, go to Jail. GAME OVER')\n",
    "\n",
    "    else:\n",
    "        print('You typed the wrong input. GOODBYE!')\n",
    "\n",
    "elif answer1 in valid_no_answers:\n",
    "    print('Now, he is trying to kill you. Will, you knock him down? (Yes / No)\\n')\n",
    "\n",
    "    answer3 = input(\">>\")\n",
    "\n",
    "    if answer3 in valid_yes_answers:\n",
    "        print('Congrats! He was a thief & You helped the police to catch him with your bravery.')\n",
    "\n",
    "    elif answer3 in valid_no_answers:\n",
    "        print('Sorry! You are dead. He was a thief & He killed you. GAME OVER')\n",
    "\n",
    "    else:\n",
    "        print('You typed the wrong input. GOODBYE!')\n",
    "\n",
    "else:\n",
    "    print('You typed the wrong input. GOODBYE!')\n"
   ]
  },
  {
   "cell_type": "markdown",
   "metadata": {},
   "source": [
    "### 25. Build a program that solves a linear equation for x, considering different cases."
   ]
  },
  {
   "cell_type": "code",
   "execution_count": null,
   "metadata": {},
   "outputs": [],
   "source": [
    "def parse_equation(equation: str):\n",
    "    lhs_expr, rhs_expr = equation.split('=')\n",
    "    lhs_expr.strip()\n",
    "    rhs_number = float(rhs_expr.strip())\n",
    "\n"
   ]
  },
  {
   "cell_type": "markdown",
   "metadata": {},
   "source": [
    "### 26. Write a program that simulates a basic quiz game with multiple-choice questions and scoring."
   ]
  },
  {
   "cell_type": "code",
   "execution_count": 6,
   "metadata": {},
   "outputs": [
    {
     "name": "stdout",
     "output_type": "stream",
     "text": [
      "Hello Robin, welcome to Quiz!, you will be prompted with 6 questions, answer appropriately to score.\n",
      "Good Luck!\n",
      "What is the first name of Iron Man?\n",
      "Correct Answer\n",
      "Who is called the god of lightning in Avengers?\n",
      "Correct Answer\n",
      "Who carries a shield of American flag theme in Avengers?\n",
      "Correct Answer\n",
      "Which avenger is green in color?\n",
      "Correct Answer\n",
      "Which avenger can change it's size?\n",
      "Correct Answer\n",
      "Which Avenger is red in color and has mind stone?\n",
      "The Correct answer is  Vision\n",
      "You score is 5 out of 6\n"
     ]
    }
   ],
   "source": [
    "\n",
    "# Create a list of dictionary (dictionary contains question and it's valid answer)\n",
    "quiz_questions = [\n",
    "    {\n",
    "        \"question\" : \"What is the first name of Iron Man?\",\n",
    "        \"answer\" : \"Tony\"\n",
    "    },\n",
    "    {\n",
    "        \"question\" : \"Who is called the god of lightning in Avengers?\",\n",
    "        \"answer\" : \"Thor\"\n",
    "    },\n",
    "    {\n",
    "        \"question\" : \"Who carries a shield of American flag theme in Avengers?\",\n",
    "        \"answer\" : \"Captain America\"\n",
    "    },\n",
    "    {\n",
    "        \"question\" : \"Which avenger is green in color?\",\n",
    "        \"answer\" : \"Hulk\"\n",
    "    },\n",
    "    {\n",
    "        \"question\" : \"Which avenger can change it's size?\",\n",
    "        \"answer\" : \"AntMan\"\n",
    "    },\n",
    "    {\n",
    "        \"question\" : \"Which Avenger is red in color and has mind stone?\",\n",
    "        \"answer\" : \"Vision\"\n",
    "    }\n",
    "]\n",
    "\n",
    "# Defining the Score variable to store the score of the user\n",
    "score = 0\n",
    "\n",
    "# Function - this will compare the guess made by the user, with actual answer and if wrong will provide chances to re-attempt\n",
    "def check_guess_and_re_attempt(guess, answer):\n",
    "    global score\n",
    "    still_guessing = True\n",
    "    no_of_attempts = 0\n",
    "    while still_guessing and no_of_attempts < 3:\n",
    "        if guess.lower() == answer.lower():\n",
    "            print(\"Correct Answer\")\n",
    "            score = score + 1\n",
    "            still_guessing = False\n",
    "        else:\n",
    "            if no_of_attempts < 2:\n",
    "                guess = input(\"Sorry Wrong Answer, try again!\")\n",
    "            no_of_attempts += + 1\n",
    "    if no_of_attempts == 3:\n",
    "        print(\"The Correct answer is \", answer)\n",
    "\n",
    "# Main Function - Will start the quiz and will ask question from the list\n",
    "def start_quiz(quiz_questions: list):\n",
    "    for question_details in quiz_questions:\n",
    "        print(question_details['question'])\n",
    "        answer = input('Enter you answer: ')\n",
    "        check_guess_and_re_attempt(answer, question_details['answer'])\n",
    "\n",
    "# Take name of the player as input\n",
    "name = input(\"Enter your name?: \")\n",
    "\n",
    "# NUmber of questions\n",
    "no_of_ques = len(quiz_questions)\n",
    "\n",
    "# Welcome message\n",
    "print(f'Hello {name}, welcome to Quiz!, you will be prompted with {no_of_ques} questions, answer appropriately to score.')\n",
    "print('Good Luck!')\n",
    "\n",
    "# Start the quiz\n",
    "start_quiz(quiz_questions)\n",
    "\n",
    "# Print Score\n",
    "print(f'You score is {score} out of {no_of_ques}')"
   ]
  },
  {
   "cell_type": "markdown",
   "metadata": {},
   "source": [
    "### 27. Develop a program that determines whether a given year is a prime number or not."
   ]
  },
  {
   "cell_type": "code",
   "execution_count": 8,
   "metadata": {},
   "outputs": [
    {
     "name": "stdout",
     "output_type": "stream",
     "text": [
      "Year 2031 is not Prime\n"
     ]
    }
   ],
   "source": [
    "import math\n",
    "\n",
    "# Function to check if number is prime or not\n",
    "def is_prime(n:int) -> bool:\n",
    "    if(n <= 1):\n",
    "        return False\n",
    "    range_num = math.floor(n/2) + 1\n",
    "    for i in range(2 , range_num):\n",
    "        if(n%i == 0):\n",
    "            return False\n",
    "    return True\n",
    "\n",
    "# Take input of the year\n",
    "year = int(input('Enter the year to check: '))\n",
    "\n",
    "# Check if prime or not\n",
    "is_prime_year = is_prime(year)\n",
    "\n",
    "# Print\n",
    "if is_prime_year:\n",
    "    print(f'Year {year} is Prime')\n",
    "else:\n",
    "    print(f'Year {year} is not Prime')"
   ]
  },
  {
   "cell_type": "markdown",
   "metadata": {},
   "source": [
    "### 28. Create a program that sorts three numbers in ascending order using conditional statements."
   ]
  },
  {
   "cell_type": "code",
   "execution_count": 9,
   "metadata": {},
   "outputs": [
    {
     "name": "stdout",
     "output_type": "stream",
     "text": [
      "The numbers in accending order are:  12 23 96\n"
     ]
    }
   ],
   "source": [
    "# Function takes 3 numbers and return sorted numbers\n",
    "def sort_numbers(number1: int, number2: int, number3: int):\n",
    "\n",
    "    if number1 <= number2:\n",
    "        if number2 <= number3:\n",
    "            return (number1, number2, number3)\n",
    "        else:\n",
    "            if number1 <= number3:\n",
    "                return (number1, number3, number2)\n",
    "            else:\n",
    "                return (number3, number1, number2)\n",
    "    else:\n",
    "        if number1 <= number3:\n",
    "            return (number2, number1, number3)\n",
    "        else:\n",
    "            if number2 <= number3:\n",
    "                return (number2, number3, number1)\n",
    "            else:\n",
    "                return (number3, number2, number1)\n",
    "\n",
    "#Get user input\n",
    "first_number = int(input(\"Enter the first number: \"))\n",
    "second_number = int(input(\"Enter the second number: \"))\n",
    "third_number = int(input(\"Enter the third number: \"))\n",
    " \n",
    "# Compute the order\n",
    "smallest_num, middle_num, largest_num = sort_numbers(first_number, second_number, third_number)\n",
    "\n",
    "# Display Results\n",
    "print(\"The numbers in accending order are: \", smallest_num, middle_num, largest_num)"
   ]
  },
  {
   "cell_type": "markdown",
   "metadata": {},
   "source": [
    "### 29. Build a program that determines the roots of a quartic equation using numerical methods."
   ]
  },
  {
   "cell_type": "code",
   "execution_count": null,
   "metadata": {},
   "outputs": [],
   "source": []
  },
  {
   "cell_type": "markdown",
   "metadata": {},
   "source": [
    "### 30. Write a program that calculates the BMI (Body Mass Index) and provides health recommendations based on the user's input."
   ]
  },
  {
   "cell_type": "code",
   "execution_count": 12,
   "metadata": {},
   "outputs": [
    {
     "name": "stdout",
     "output_type": "stream",
     "text": [
      "Your weight is 78.00 KG\n",
      "Your height is 78.00 KG\n",
      "Your BMI is 25.180785123966942 and you are categorized as OVERWEIGHT. Increase the physical activity!\n"
     ]
    }
   ],
   "source": [
    "# Considerations - as per https://www.nhlbi.nih.gov/health/educational/lose_wt/BMI/bmicalc.htm\n",
    "#   BMI Categories:\n",
    "#       Underweight = <18.5\n",
    "#       Normal weight = 18.5–24.9 (we take less than 25 here to consider 24.99 and so on)\n",
    "#       Overweight = 25–29.9 (we take less than 30 here to consider 29.99 and so on)\n",
    "#       Obesity = BMI of 30 or greater  \n",
    "\n",
    "# Function - takes a input of BMI (float number) and prints category as per above consideration\n",
    "def print_health_recommendation(bmi: float):\n",
    "    if bmi < 18.5:\n",
    "        print(f'Your BMI is {bmi} and you are categorized as UNDERWEIGHT. Consult a nutritionist.')\n",
    "    elif bmi >= 18.5 and bmi < 25:\n",
    "        print(f'Your BMI is {bmi} and you are categorized as NORMAL. You are doing great!')\n",
    "    elif bmi >= 25 and bmi < 30:\n",
    "        print(f'Your BMI is {bmi} and you are categorized as OVERWEIGHT. Increase the physical activity!')\n",
    "    else:\n",
    "        print(f'Your BMI is {bmi} and you are categorized as OBESE. Try to increase physical activity and consult a doctor.')\n",
    "\n",
    "\n",
    "# Assumption - wieght is in kilo grams and height is in meters\n",
    "# BMI = weight / height * height\n",
    "def calculate_BMI(weight: float, height: float) -> float:\n",
    "    return weight/(height**2)\n",
    "\n",
    "# Input weight in kilograms and height in meters\n",
    "weight = float(input('Enter your weight (in KG): '))\n",
    "height = float(input('Enter your height (in meters): '))\n",
    "\n",
    "# Calculate BMI\n",
    "bmi = calculate_BMI(weight, height)\n",
    "\n",
    "# Print recommendations\n",
    "print(f'Your weight is {weight:.2f} KG')\n",
    "print(f'Your height is {weight:.2f} KG')\n",
    "print_health_recommendation(bmi)\n"
   ]
  },
  {
   "cell_type": "markdown",
   "metadata": {},
   "source": [
    "## Challenge Level:"
   ]
  },
  {
   "cell_type": "markdown",
   "metadata": {},
   "source": [
    "### 31. Create a program that validates a password based on complexity rules (length, characters, etc.)."
   ]
  },
  {
   "cell_type": "code",
   "execution_count": 14,
   "metadata": {},
   "outputs": [
    {
     "name": "stdout",
     "output_type": "stream",
     "text": [
      "Password iu78GH@#78 is valid.\n"
     ]
    }
   ],
   "source": [
    "'''Considerations:\n",
    "    Paasword should meet below complexity rules:\n",
    "        * Atleast 8 char length\n",
    "        * Should contain uppercase letter\n",
    "        * Should contain lowercase letter\n",
    "        * Should contain digit\n",
    "        * Should contain special letter\n",
    "'''\n",
    "\n",
    "import string\n",
    "\n",
    "def validate_password(password: str) -> bool:\n",
    "    # length requirement (point 1)\n",
    "    if len(password) < 8:\n",
    "        return False\n",
    "\n",
    "    # At-least 1 uppercase letter\n",
    "    if not any(char.isupper() for char in password):\n",
    "        return False\n",
    "\n",
    "    # At-least 1 lowercase letter\n",
    "    if not any(char.islower() for char in password):\n",
    "        return False\n",
    "\n",
    "    # At-least 1 digit\n",
    "    if not any(char.isdigit() for char in password):\n",
    "        return False\n",
    "\n",
    "    # At-least one Special char\n",
    "    for char in password:\n",
    "        if char in string.punctuation:\n",
    "            return True\n",
    "    \n",
    "    return False\n",
    "\n",
    "# Input password from the user\n",
    "password = input('Enter password: ')\n",
    "\n",
    "# Validate the password\n",
    "if validate_password(password):\n",
    "    print(f'Password {password} is valid.')\n",
    "else:\n",
    "    print(f'Password {password} is not valid.')"
   ]
  },
  {
   "cell_type": "markdown",
   "metadata": {},
   "source": [
    "\n",
    "### 32. Develop a program that performs matrix addition and subtraction based on user input."
   ]
  },
  {
   "cell_type": "code",
   "execution_count": 37,
   "metadata": {},
   "outputs": [
    {
     "name": "stdout",
     "output_type": "stream",
     "text": [
      "Matrix 1\n",
      "1 2 \n",
      "3 4 \n",
      "Matrix 2\n",
      "7 8 \n",
      "3 9 \n",
      "Addition of matrix is:\n",
      "8 10 \n",
      "6 13 \n"
     ]
    }
   ],
   "source": [
    "# Print matrix\n",
    "def print_matrix(matrix: list):\n",
    "    for row in matrix:\n",
    "        for element in row:\n",
    "            print(element, end=\" \")\n",
    "        print()\n",
    "\n",
    "# create a matrix with all zeros\n",
    "def create_matrix_with_zeros(row_count: int, column_count: int) -> list:\n",
    "    result_matrix = []\n",
    "\n",
    "    for row in range(row_count):\n",
    "        current_row = []\n",
    "        for column in range(column_count):\n",
    "            current_row.append(0)\n",
    "        # Add row to the result matrix\n",
    "        result_matrix.append(current_row)\n",
    "    \n",
    "    return result_matrix\n",
    "\n",
    "# Validate the matrix\n",
    "def valid_matrix_for_add_sub(matrix1: list, matrix2: list) -> bool:\n",
    "    return len(matrix1) == len(matrix2) and len(matrix1[0]) == len(matrix2[0])\n",
    "\n",
    "# Add two matrix\n",
    "def add_matrix(matrix1: list, matrix2: list) -> list:\n",
    "    if not valid_matrix_for_add_sub(matrix1, matrix2):\n",
    "        print('Can not add matrix of different sizes')\n",
    "        return None\n",
    "    \n",
    "    result = create_matrix_with_zeros(len(matrix1), len(matrix1[0]))\n",
    "\n",
    "    for i in range(len(matrix1)):\n",
    "        for j in range(len(matrix1[0])):\n",
    "            result[i][j] = matrix1[i][j] + matrix2[i][j]\n",
    "    \n",
    "    return result\n",
    "\n",
    "# Subtract two matrix\n",
    "def subtract_matrix(matrix1: list, matrix2: list) -> list:\n",
    "    if not valid_matrix_for_add_sub(matrix1, matrix2):\n",
    "        print('Can not subtract matrix of different sizes')\n",
    "        return None\n",
    "    \n",
    "    result = create_matrix_with_zeros(len(matrix1), len(matrix1[0]))\n",
    "\n",
    "    for i in range(len(matrix1)):\n",
    "        for j in range(len(matrix1[0])):\n",
    "            result[i][j] = matrix1[i][j] - matrix2[i][j]\n",
    "    \n",
    "    return result\n",
    "\n",
    "# Create Matrix\n",
    "matrx1 = [[1, 2], [3, 4]]\n",
    "matrx2 = [[7, 8], [3, 9]]\n",
    "\n",
    "# Print Matrix\n",
    "print('Matrix 1')\n",
    "print_matrix(matrx1)\n",
    "\n",
    "print('Matrix 2')\n",
    "print_matrix(matrx2)\n",
    "\n",
    "# Use input for the addition or subtraction\n",
    "operation = input('Enter \"+\" for addition and \"-\" for subtraction: ')\n",
    "\n",
    "# Result\n",
    "if operation == '+':\n",
    "    result = add_matrix(matrx1, matrx2)\n",
    "    print('Addition of matrix is:')\n",
    "    print_matrix(result)\n",
    "elif operation == '-':\n",
    "    result = subtract_matrix(matrx1, matrx2)\n",
    "    print('Subtraction of matrix is:')\n",
    "    print_matrix(result)\n",
    "else:\n",
    "    print('Invalid entry!')\n"
   ]
  },
  {
   "cell_type": "markdown",
   "metadata": {},
   "source": [
    "### 33. Write a program that calculates the greatest common divisor (GCD) of two numbers using the Euclidean algorithm."
   ]
  },
  {
   "cell_type": "code",
   "execution_count": 15,
   "metadata": {},
   "outputs": [
    {
     "name": "stdout",
     "output_type": "stream",
     "text": [
      "Greatest common divisor of 96 and 128 is : 32\n"
     ]
    }
   ],
   "source": [
    "# GCD is also known as HCF. The highest common divisor.\n",
    "# Reference for Algo details:  https://www.khanacademy.org/computing/computer-science/cryptography/modarithmetic/a/the-euclidean-algorithm\n",
    "# The Euclidean Algorithm for finding GCD(A,B) is as follows:\n",
    "#   1. If A = 0 then GCD(A,B)=B, since the GCD(0,B)=B, and we can stop.  \n",
    "#   2. If B = 0 then GCD(A,B)=A, since the GCD(A,0)=A, and we can stop.  \n",
    "#   3. Write A in quotient remainder form (A = B⋅Q + R)\n",
    "#   4. Find GCD(B,R) using the Euclidean Algorithm since GCD(A,B) = GCD(B,R)\n",
    "\n",
    "def find_gcd(number1: int, number2: int) -> int:\n",
    "    if number1 == 0:\n",
    "        return number2\n",
    "    elif number2 == 0:\n",
    "        return number1\n",
    "    else:\n",
    "        return find_gcd(number2, number1 % number2)\n",
    "\n",
    "# Take input of numbers\n",
    "number_1 = int(input('Enter a number 1: '))\n",
    "number_2 = int(input('Enter a number 2: '))\n",
    "\n",
    "# Find gcd\n",
    "gcd = find_gcd(number_1, number_2)\n",
    "\n",
    "# Print result\n",
    "print(f'Greatest common divisor of {number_1} and {number_2} is : {gcd}')\n"
   ]
  },
  {
   "cell_type": "markdown",
   "metadata": {},
   "source": [
    "### 34. Build a program that performs matrix multiplication using nested loops and conditional statements."
   ]
  },
  {
   "cell_type": "code",
   "execution_count": 28,
   "metadata": {},
   "outputs": [
    {
     "name": "stdout",
     "output_type": "stream",
     "text": [
      "[[55, 60, 70, 34], [122, 127, 121, 50], [50, 54, 59, 26]]\n"
     ]
    }
   ],
   "source": [
    "# Function - Checks the validity of the matrix for multiplication\n",
    "def valid_for_multiplication(matrix1: list, matrix2: list) -> bool:\n",
    "\n",
    "    if not all([type(element) == list for element in matrix1]):\n",
    "        print('Matrix 1 is not valid matrix')\n",
    "        return False\n",
    "    \n",
    "    if not all([type(element) == list for element in matrix2]):\n",
    "        print('Matrix 2 is not valid matrix')\n",
    "        return False\n",
    "\n",
    "    no_of_cols_in_matrx_1 = len(matrix1[0])\n",
    "    no_of_rows_in_matrx_2 = len(matrix2)\n",
    "\n",
    "    if(no_of_cols_in_matrx_1 != no_of_rows_in_matrx_2):\n",
    "        print('Matrix multiplication is not possible as matrix size are not compatible.')\n",
    "        return False\n",
    "    \n",
    "    return True\n",
    "\n",
    "def create_matrix_with_zeros(row_count: int, column_count: int) -> list:\n",
    "    result_matrix = []\n",
    "\n",
    "    for row in range(row_count):\n",
    "        current_row = []\n",
    "        for column in range(column_count):\n",
    "            current_row.append(0)\n",
    "        # Add row to the result matrix\n",
    "        result_matrix.append(current_row)\n",
    "    \n",
    "    return result_matrix\n",
    "\n",
    "# Function - multiply two matrix and return result\n",
    "def multiply_matrix(matrix1: list, matrix2: list) -> list:\n",
    "\n",
    "    if not valid_for_multiplication(matrix1, matrix2):\n",
    "        return None\n",
    "\n",
    "    # No cols in matrix 1 are equal to no of rows in matrix 2 (validated in validation function)\n",
    "    no_of_cols_in_matrx_1_and_rows_in_matrix_2 = len(matrix1[0])\n",
    "    no_of_rows_in_matrx_1 = len(matrix1)\n",
    "    no_of_cols_in_matrx_2 = len(matrix2[0])\n",
    "\n",
    "    ## Creating a matrix to store multiplication elements and initiate result matrix with zeros (0's)\n",
    "    # Result matrix for multiplication of M x N with N x P matrix = M x P matrix\n",
    "    # Rows in the first matrix will define rows in result matrix\n",
    "    # Columns in matrix 2 will define columns in result matrix\n",
    "    result_matrix = create_matrix_with_zeros(no_of_rows_in_matrx_1, no_of_cols_in_matrx_2)\n",
    "\n",
    "    # Perform actual multiplication \n",
    "    for i in range(no_of_rows_in_matrx_1):\n",
    "        for j in range(no_of_cols_in_matrx_2):\n",
    "            curr_val = 0\n",
    "            for k in range(no_of_cols_in_matrx_1_and_rows_in_matrix_2):\n",
    "                curr_val += matrix1[i][k] * matrix2[k][j]\n",
    "\n",
    "            result_matrix[i][j] = curr_val\n",
    "    \n",
    "\n",
    "    return result_matrix\n",
    "\n",
    "# Create Matrix for multiplication\n",
    "matrx1 = [[1, 7, 3],\n",
    "          [6, 8, 9],\n",
    "          [2, 5, 3]]\n",
    "\n",
    "matrx2 = [[3, 4, 5, 0],\n",
    "          [4, 5, 8, 4],\n",
    "          [8, 7, 3, 2]]\n",
    "\n",
    "X = [[1, 7, 3], [3, 5, 6], [6, 8, 9]]\n",
    "Y = [[1, 1, 1, 2], [6, 7, 3, 0], [4, 5, 9, 1]]\n",
    "\n",
    "# Multiplication of matrix\n",
    "result = multiply_matrix(matrx1, matrx2)\n",
    "\n",
    "# Print result\n",
    "print(result)"
   ]
  },
  {
   "cell_type": "markdown",
   "metadata": {},
   "source": [
    "### 35. Create a program that simulates a basic text-based tic-tac-toe game against the computer."
   ]
  },
  {
   "cell_type": "code",
   "execution_count": 33,
   "metadata": {},
   "outputs": [
    {
     "name": "stdout",
     "output_type": "stream",
     "text": [
      "Welcome to Text-Based Tic-Tac-Toe!\n",
      "Your symbol is X and computer symbol is O\n",
      "- - - \n",
      "- - - \n",
      "- - - \n",
      "Empty Cells: [(0, 0), (0, 1), (0, 2), (1, 0), (1, 1), (1, 2), (2, 0), (2, 1), (2, 2)]\n",
      "Computer turn.\n",
      "X - - \n",
      "- - - \n",
      "O - - \n",
      "Empty Cells: [(0, 1), (0, 2), (1, 0), (1, 1), (1, 2), (2, 1), (2, 2)]\n",
      "Computer turn.\n",
      "X - O \n",
      "- X - \n",
      "O - - \n",
      "Empty Cells: [(0, 1), (1, 0), (1, 2), (2, 1), (2, 2)]\n",
      "That space is already taken. Try again.\n",
      "Empty Cells: [(0, 1), (1, 0), (1, 2), (2, 1), (2, 2)]\n",
      "Congratulations! You won!\n",
      "X - O \n",
      "- X - \n",
      "O - X \n"
     ]
    }
   ],
   "source": [
    "# Board to play\n",
    "tic_tac_toe_board = [] \n",
    "\n",
    "# Function initialize the board of 3x3 size to play\n",
    "def initiate_board():\n",
    "    for i in range(3):\n",
    "        row = []\n",
    "        for j in range(3):\n",
    "            row.append('-')\n",
    "        tic_tac_toe_board.append(row)\n",
    "\n",
    "# Function checks if board has empty space or it is complete\n",
    "def board_has_empty_cell():\n",
    "    for row in tic_tac_toe_board:\n",
    "        for item in row:\n",
    "             if item == '-':\n",
    "                 return True\n",
    "             \n",
    "    return False\n",
    "\n",
    "# function returns the empty cells of the board\n",
    "def get_empty_cells():\n",
    "    return [(row, col) for row in range(3) for col in range(3) if tic_tac_toe_board[row][col] == '-']\n",
    "\n",
    "# Function - Prints the current board\n",
    "def print_board():\n",
    "    for row in tic_tac_toe_board:\n",
    "        for item in row:\n",
    "            print(item, end=\" \")\n",
    "        print()\n",
    "\n",
    "# Funtion - this function will chooce randomly from the available cells\n",
    "def computer_move():\n",
    "    print('Computer turn.')\n",
    "    empty_cells = get_empty_cells()\n",
    "    return random.choice(empty_cells)\n",
    "\n",
    "# Function - this function will mark the cell on the board for the current player\n",
    "def mark_cell(row: int, col: int, player: str):\n",
    "        tic_tac_toe_board[row][col] = player\n",
    "\n",
    "# Function - to take input from user when it is player's turn\n",
    "def take_user_entry():\n",
    "    while True:\n",
    "        try:\n",
    "            empty_cells = get_empty_cells()\n",
    "            print(f'Empty Cells: {empty_cells}')\n",
    "            move = int(input(\"Enter your move (1-9): \"))\n",
    "            if 1 <= move <= 9:\n",
    "                row, col = divmod(move - 1, 3)\n",
    "                if tic_tac_toe_board[row][col] == '-':\n",
    "                    return row, col\n",
    "                else:\n",
    "                    print(\"That space is already taken. Try again.\")\n",
    "            else:\n",
    "                print(\"Invalid input. Enter a number between 1 and 9.\")\n",
    "        except ValueError:\n",
    "            print(\"Invalid input. Enter a number between 1 and 9.\")\n",
    "\n",
    "# Function - checks the winner\n",
    "def check_winner(player_symbol: str) -> bool:\n",
    "    for row in tic_tac_toe_board:\n",
    "        if all(cell == player_symbol for cell in row):\n",
    "            return True\n",
    "\n",
    "    for col in range(3):\n",
    "        if all(tic_tac_toe_board[row][col] == player_symbol for row in range(3)):\n",
    "            return True\n",
    "\n",
    "    if all(tic_tac_toe_board[i][i] == player_symbol for i in range(3)) or all(tic_tac_toe_board[i][2 - i] == player_symbol for i in range(3)):\n",
    "        return True\n",
    "\n",
    "    return False\n",
    "\n",
    "# Main Function - this function starts the game\n",
    "def start_game():\n",
    "    print(\"Welcome to Text-Based Tic-Tac-Toe!\")\n",
    "    initiate_board()\n",
    "    player_symbol = random.choice(['X', 'O'])\n",
    "    computer_symbol = 'O' if player_symbol == 'X' else 'X'\n",
    "\n",
    "    print(f'Your symbol is {player_symbol} and computer symbol is {computer_symbol}')\n",
    "\n",
    "    while True:\n",
    "        print_board()\n",
    "        player_selected_row, player_selected_col = take_user_entry()\n",
    "        mark_cell(player_selected_row, player_selected_col, player_symbol)\n",
    "\n",
    "        if check_winner(player_symbol):\n",
    "            print(\"Congratulations! You won!\")\n",
    "            print_board()\n",
    "            break\n",
    "\n",
    "        if not board_has_empty_cell():\n",
    "            print(\"Board is full! It's a tie!\")\n",
    "            print_board()\n",
    "            break\n",
    "\n",
    "        computer_selected_row, computer_selected_col = computer_move()\n",
    "        mark_cell(computer_selected_row, computer_selected_col, computer_symbol)\n",
    "\n",
    "        if check_winner(computer_symbol):\n",
    "            print(\"Better luck next time! Computer won!\")\n",
    "            print_board()\n",
    "            break\n",
    "\n",
    "        if not board_has_empty_cell():\n",
    "            print(\"Board is full! It's a tie!\")\n",
    "            print_board()\n",
    "            break\n",
    "\n",
    "\n",
    "# Let us start a game now\n",
    "start_game()"
   ]
  },
  {
   "cell_type": "markdown",
   "metadata": {},
   "source": [
    "### 36. Write a program that generates Fibonacci numbers up to a specified term using iterative methods."
   ]
  },
  {
   "cell_type": "code",
   "execution_count": 18,
   "metadata": {},
   "outputs": [
    {
     "name": "stdout",
     "output_type": "stream",
     "text": [
      "Below are first 20 elements of Fibonacci series.\n",
      "[0, 1, 1, 2, 3, 5, 8, 13, 21, 34, 55, 89, 144, 233, 377, 610, 987, 1597, 2584, 4181]\n"
     ]
    }
   ],
   "source": [
    "# Solution 1 - Generate till some number of terms (number of elements)\n",
    "# Fibonacci formular - F(n) = F(n-1) + F(n-2) \n",
    "\n",
    "# Function - take a n as input and print n Fibonacci numbers - Using iterations\n",
    "def get_fibonacci_sequence(n: int):\n",
    "    \n",
    "    if n <= 0:\n",
    "        print('Error: Less than 1 is not valid number of elements')\n",
    "    \n",
    "    # Factorial of N-2 (starting from 0)\n",
    "    f_of_n_minus_2 = 0\n",
    "    # Factorial of N-1 (starting from 1)\n",
    "    f_of_n_minus_1 = 1\n",
    "\n",
    "    if n < 1:\n",
    "        return [0]\n",
    "\n",
    "    fibonacci_numbers = [0, 1]\n",
    "\n",
    "    for num in range(1, n-1):\n",
    "        fibonacci_num = f_of_n_minus_1 + f_of_n_minus_2\n",
    "        fibonacci_numbers.append(fibonacci_num)\n",
    "        f_of_n_minus_2 = f_of_n_minus_1\n",
    "        f_of_n_minus_1 = fibonacci_num\n",
    "\n",
    "    return fibonacci_numbers\n",
    "    \n",
    "\n",
    "# Take input n from the user\n",
    "number_of_elements = int(input('Enter number of terms in sequence: '))\n",
    "\n",
    "# Get Series\n",
    "fibonacci_series = get_fibonacci_sequence(number_of_elements)\n",
    "\n",
    "# Print\n",
    "print(f'Below are first {number_of_elements} elements of Fibonacci series.')\n",
    "print(fibonacci_series)"
   ]
  },
  {
   "cell_type": "code",
   "execution_count": 16,
   "metadata": {},
   "outputs": [
    {
     "name": "stdout",
     "output_type": "stream",
     "text": [
      "Below is the Fibonacci series till  99.\n",
      "[0, 1, 1, 2, 3, 5, 8, 13, 21, 34, 55, 89]\n"
     ]
    }
   ],
   "source": [
    "# Solution 2 - it is to generate till some number (max limit)\n",
    "# Approach - Since we want Fibonnaci series upto specified term (upto to some max number)\n",
    "# We will generate Fibonacci number and keep checking till it is more than limit or not (using iterative)\n",
    "\n",
    "# Fibonacci formular - F(n) = F(n-1) + F(n-2)\n",
    "\n",
    "#Function - takes n as input and returns a list of fibonacci number\n",
    "def get_fibonacci_series(n: int)-> list:\n",
    "    if n <= 0:\n",
    "        print('Error: Less than 1 is not valid number of elements to be printed.')\n",
    "    \n",
    "    # Factorial of N-2 (starting from 0)\n",
    "    f_of_n_minus_2 = 0\n",
    "    # Factorial of N-1 (starting from 1)\n",
    "    f_of_n_minus_1 = 1\n",
    "\n",
    "    if n < 1:\n",
    "        return [0]\n",
    "    \n",
    "    fibonacci_numbers = [0, 1]\n",
    "    \n",
    "    fibonacci_num = f_of_n_minus_1 + f_of_n_minus_2\n",
    "    while(fibonacci_num <= n):\n",
    "        fibonacci_numbers.append(fibonacci_num)\n",
    "        f_of_n_minus_2 = f_of_n_minus_1\n",
    "        f_of_n_minus_1 = fibonacci_num\n",
    "        fibonacci_num = f_of_n_minus_1 + f_of_n_minus_2\n",
    "    \n",
    "    return fibonacci_numbers\n",
    "    \n",
    "\n",
    "# Take input n from the user\n",
    "max_limit = int(input('Enter max limit: '))\n",
    "\n",
    "# Get Series\n",
    "fibonacci_series = get_fibonacci_series(max_limit)\n",
    "\n",
    "# Print\n",
    "print(f'Below is the Fibonacci series till  {max_limit}.')\n",
    "print(fibonacci_series)"
   ]
  },
  {
   "cell_type": "markdown",
   "metadata": {},
   "source": [
    "### 37. Develop a program that calculates the nth term of the Fibonacci sequence using memoization."
   ]
  },
  {
   "cell_type": "code",
   "execution_count": 21,
   "metadata": {},
   "outputs": [
    {
     "name": "stdout",
     "output_type": "stream",
     "text": [
      "Fibonacci number of 10 is 34\n"
     ]
    }
   ],
   "source": [
    "# Approach - here we use the dictionary to store the values \n",
    "# if not already present then we calculate the fibonacci num but if it is present then we return that\n",
    "\n",
    "# Function to find the nth Fibonacci number\n",
    "def fibonacci_number(n: int, memory_dict: dict) -> int:\n",
    "    if n in memory_dict:\n",
    "        return memory_dict[n]\n",
    "    \n",
    "    if n <= 1:\n",
    "        memory_dict[n] = 0\n",
    "    elif n == 2:\n",
    "        memory_dict[n] = 1\n",
    "    else:\n",
    "        memory_dict[n] = fibonacci_number(n - 1, memory_dict) + fibonacci_number(n - 2, memory_dict)\n",
    " \n",
    "    return memory_dict[n]\n",
    " \n",
    " \n",
    "\n",
    " # Take input from the user\n",
    "number = int(input(\"Enter the number to find it's Fibonacci number: \"))\n",
    "\n",
    "# Create a memory for memoization\n",
    "memory_dictionary = dict()\n",
    " \n",
    "# Get the Fib number for the given number\n",
    "fib_num = fibonacci_number(number, memory_dictionary)\n",
    "\n",
    "# Result\n",
    "print(f'Fibonacci number of {number} is {fib_num}')"
   ]
  },
  {
   "cell_type": "markdown",
   "metadata": {},
   "source": [
    "### 38. Create a program that generates a calendar for a given month and year using conditional statements."
   ]
  },
  {
   "cell_type": "code",
   "execution_count": 24,
   "metadata": {},
   "outputs": [
    {
     "name": "stdout",
     "output_type": "stream",
     "text": [
      "September 2023\n",
      "Su Mo Tu We Th Fr Sa\n",
      "               01 02 \n",
      "03 04 05 06 07 08 09 \n",
      "10 11 12 13 14 15 16 \n",
      "17 18 19 20 21 22 23 \n",
      "24 25 26 27 28 29 30 \n"
     ]
    }
   ],
   "source": [
    "MONTHS = { 1:'January', 2:'February', 3:'March', 4:'April', 5:'May', 6:'June', 7:'July',\n",
    "          8:'August', 9:'September', 10:'October', 11:'November', 12:'December' }\n",
    "\n",
    "def day_of_first_day_of_month(month: int, year: int) -> int:\n",
    "\n",
    "    ## Check if year is leap year\n",
    "    is_leap_year = year % 4 == 0  \n",
    "\n",
    "    # Number of days in each month as per type of year\n",
    "    normal_year_month_days =[31, 28, 31, 30, 31, 30, 31, 31, 30, 31, 30, 31]\n",
    "    leap_year_month_days =[31, 29, 31, 30, 31, 30, 31, 31, 30, 31, 30, 31]\n",
    "\n",
    "    # Let us try to find the first day of thr\n",
    "    day =(year - 1) % 400\n",
    "    day = (day // 100) * 5 + ((day % 100) - (day % 100) // 4) + ((day % 100) // 4)*2\n",
    "    day = day % 7\n",
    "    \n",
    "    # It is count from 1st January (day of the year) to first date of month\n",
    "    day_of_year = 0\n",
    "    \n",
    "    if is_leap_year:\n",
    "        for i in range(month-1):\n",
    "            day_of_year += leap_year_month_days[i]\n",
    "    else:\n",
    "        for i in range(month-1):\n",
    "            day_of_year += normal_year_month_days[i]\n",
    "    \n",
    "    day += day_of_year % 7\n",
    "    day = day % 7\n",
    "\n",
    "    return day\n",
    "\n",
    "def print_calendar(month: int, year: int):\n",
    "\n",
    "    ## Check if year is leap year\n",
    "    is_leap_year = year % 4 == 0  \n",
    "\n",
    "    day_of_week = day_of_first_day_of_month(month, year)\n",
    "    \n",
    "    # variable used for white space filling \n",
    "    # where date not present\n",
    "    space =''\n",
    "    space = space.rjust(2, ' ')\n",
    "    \n",
    "    # code below is to print the calendar\n",
    "    print(MONTHS[month], year)\n",
    "    print('Su', 'Mo', 'Tu', 'We', 'Th', 'Fr', 'Sa')\n",
    "\n",
    "    if month == 9 or month == 4 or month == 6 or month == 11: \n",
    "        for i in range(31 + day_of_week):          \n",
    "            if i <= day_of_week:\n",
    "                print(space, end =' ')\n",
    "            else:\n",
    "                print(\"{:02d}\".format(i-day_of_week), end =' ')\n",
    "                if (i + 1)% 7 == 0:\n",
    "                    print()\n",
    "    elif month == 2:\n",
    "        if is_leap_year:\n",
    "            p = 30\n",
    "        else:\n",
    "            p = 29\n",
    "            \n",
    "        for i in range(p + day_of_week):\n",
    "            if i<= day_of_week:\n",
    "                print(space, end =' ')\n",
    "            else:\n",
    "                print(\"{:02d}\".format(i-day_of_week), end =' ')\n",
    "                if (i + 1) % 7 == 0:\n",
    "                    print() \n",
    "    else:\n",
    "        for i in range(32 + day_of_week):            \n",
    "            if i<= day_of_week:\n",
    "                print(space, end =' ')\n",
    "            else:\n",
    "                print(\"{:02d}\".format(i-day_of_week), end =' ')\n",
    "                if (i + 1)% 7 == 0:\n",
    "                    print()\n",
    "\n",
    "\n",
    "# Print calendar\n",
    "print_calendar(9, 2023)"
   ]
  },
  {
   "cell_type": "markdown",
   "metadata": {},
   "source": [
    "### 39. Build a program that simulates a basic text-based blackjack game against the computer."
   ]
  },
  {
   "cell_type": "code",
   "execution_count": 12,
   "metadata": {},
   "outputs": [
    {
     "name": "stdout",
     "output_type": "stream",
     "text": [
      "Your cards: [('Hearts', '4'), ('Spades', '2')]\n",
      "Your score: 6\n",
      "Your cards: [('Hearts', '4'), ('Spades', '2'), ('Diamonds', '3')]\n",
      "Your score: 9\n",
      "Your cards: [('Hearts', '4'), ('Spades', '2'), ('Diamonds', '3'), ('Clubs', '8')]\n",
      "Your score: 17\n",
      "Your cards: [('Hearts', '4'), ('Spades', '2'), ('Diamonds', '3'), ('Clubs', '8'), ('Spades', '5')]\n",
      "Your score: 22\n",
      "Computer cards: [('Clubs', '9'), ('Hearts', 'Queen')]\n",
      "Computer score: 19\n",
      "Your cards: [('Hearts', '4'), ('Spades', '2'), ('Diamonds', '3'), ('Clubs', '8'), ('Spades', '5'), ('Clubs', '3')]\n",
      "Your score: 22\n",
      "Computer wins (You lost because your score is exceeding 21)\n",
      "Computer cards: [('Clubs', '9'), ('Hearts', 'Queen')]\n",
      "Computer score: 19\n",
      "Your cards: [('Hearts', '4'), ('Spades', '2'), ('Diamonds', '3'), ('Clubs', '8'), ('Spades', '5'), ('Clubs', '3')]\n",
      "Your score: 22\n",
      "You won (You Have higher score)\n"
     ]
    }
   ],
   "source": [
    "# Random is used to shuffle the cards\n",
    "import random\n",
    "\n",
    "# Define the cards, cards_suits, cards_deck etc {to get ready with basic infra}\n",
    "card_suits = [ 'Diamonds', 'Hearts', 'Spades', 'Clubs']\n",
    "cards_names = ['Ace', '2', '3', '4', '5', '6', '7', '8', '9', '10', 'Jack', 'Queen', 'King']\n",
    "# Deck is full list of cards (uniquely identifiable)\n",
    "cards_deck = [ (card_suit, card_name) for card_name in cards_names for card_suit in card_suits]\n",
    "\n",
    "# Return the cards playing value (cards score) like Jack = 10, King = 10, Ace = 11 etc\n",
    "def score_value_from_cards(cards: list) -> int:\n",
    "    score = 0\n",
    "    \n",
    "    for card in cards:\n",
    "        if card[1] == 'Ace':\n",
    "            score += 11\n",
    "        elif card[1] in ['Jack', 'Queen', 'King']:\n",
    "            score += 10\n",
    "        else:\n",
    "            score += int(card[1])\n",
    "    \n",
    "    return score\n",
    "\n",
    "# Main function - this starts the game \n",
    "def start_game():\n",
    "    random.shuffle(cards_deck)\n",
    "    \n",
    "    # Assign initial cards to player and Computer - poping from top of list (deck)\n",
    "    player_cards = [cards_deck.pop(), cards_deck.pop()]\n",
    "    computer_cards = [cards_deck.pop(), cards_deck.pop()]\n",
    "  \n",
    "    while True:\n",
    "        player_score = score_value_from_cards(player_cards)\n",
    "        computer_score = score_value_from_cards(computer_cards)\n",
    "\n",
    "        print('Your cards:', player_cards)\n",
    "        print('Your score:', player_score)\n",
    "\n",
    "        player_choice = input('Continue? [\"yes\" to request another card, \"no\" to stop]: ').lower()\n",
    "\n",
    "        if player_choice == \"yes\":\n",
    "            new_card = cards_deck.pop()\n",
    "            player_cards.append(new_card)\n",
    "        elif player_choice == \"no\":\n",
    "            break\n",
    "        else:\n",
    "            print('Invalid choice. Please try again.')\n",
    "            continue\n",
    "        \n",
    "        if player_score > 21:\n",
    "            print('Computer cards:', computer_cards)\n",
    "            print('Computer score:', computer_score)\n",
    "            print('Your cards:', player_cards)\n",
    "            print('Your score:', player_score)\n",
    "            print('Computer wins (You lost because your score is exceeding 21)')\n",
    "            break\n",
    "        \n",
    "    while computer_score < 17:\n",
    "        computer_cards.append(cards_deck.pop())\n",
    "        computer_score = score_value_from_cards(computer_cards)\n",
    "    \n",
    "    print('Computer cards:', computer_cards)\n",
    "    print('Computer score:', computer_score)\n",
    "    print('Your cards:', player_cards)\n",
    "    print('Your score:', player_score)\n",
    "    \n",
    "    if computer_score > 21:\n",
    "        print('You won (Computer lost because computer score is exceeding 21)')\n",
    "    elif player_score > computer_score:\n",
    "        print('You won (You Have higher score)')\n",
    "    elif computer_score > player_score:\n",
    "        print('Computer wins (Computer has higher score)')\n",
    "    else:\n",
    "        print(\"It's a tie.\")\n",
    "\n",
    "# Start the game\n",
    "start_game()"
   ]
  },
  {
   "cell_type": "markdown",
   "metadata": {},
   "source": [
    "### 40. Write a program that generates the prime factors of a given number using trial division."
   ]
  },
  {
   "cell_type": "code",
   "execution_count": 1,
   "metadata": {},
   "outputs": [
    {
     "name": "stdout",
     "output_type": "stream",
     "text": [
      "Prime Factors of  136\n",
      "[2, 2, 2, 17]\n"
     ]
    }
   ],
   "source": [
    "# Function takes a number and return list of it's prime factors using Trial division\n",
    "def prime_factors(n: int) -> list:\n",
    "    factors = []\n",
    "    divisor = 2\n",
    "\n",
    "    while n > 1:\n",
    "        while n % divisor == 0:\n",
    "            factors.append(divisor)\n",
    "            n = n // divisor\n",
    "        divisor += 1\n",
    "\n",
    "    return factors\n",
    "\n",
    "# take input from the user\n",
    "number = int(input(\"Enter number: \"))\n",
    "\n",
    "# Compute Factors (prime factors)\n",
    "factors = prime_factors(number)\n",
    "\n",
    "# Print Factors\n",
    "print('Prime Factors of ', number)\n",
    "print(factors)    "
   ]
  }
 ],
 "metadata": {
  "kernelspec": {
   "display_name": "base",
   "language": "python",
   "name": "python3"
  },
  "language_info": {
   "codemirror_mode": {
    "name": "ipython",
    "version": 3
   },
   "file_extension": ".py",
   "mimetype": "text/x-python",
   "name": "python",
   "nbconvert_exporter": "python",
   "pygments_lexer": "ipython3",
   "version": "3.11.4"
  },
  "orig_nbformat": 4
 },
 "nbformat": 4,
 "nbformat_minor": 2
}
