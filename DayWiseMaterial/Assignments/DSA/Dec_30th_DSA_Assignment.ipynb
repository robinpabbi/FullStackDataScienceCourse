{
 "cells": [
  {
   "cell_type": "markdown",
   "metadata": {},
   "source": [
    "### Problem 1: Reverse a singly linked list.\n",
    "\n",
    "```\n",
    "Input: 1 -> 2 -> 3 -> 4 -> 5\n",
    "Output: 5 -> 4 -> 3 -> 2 -> 1\n",
    "```"
   ]
  },
  {
   "cell_type": "code",
   "execution_count": 3,
   "metadata": {},
   "outputs": [],
   "source": [
    "class LinkedListNode:\n",
    "\n",
    "    def __init__(self, data, next = None):\n",
    "        self.__data = data\n",
    "        self.__next = next\n",
    "    \n",
    "    def getData(self):\n",
    "        return self.__data\n",
    "    \n",
    "    def setData(self, data):\n",
    "        self.__data = data\n",
    "    \n",
    "    def getNext(self):\n",
    "        return self.__next\n",
    "    \n",
    "    def setNext(self, next):\n",
    "        self.__next = next"
   ]
  },
  {
   "cell_type": "code",
   "execution_count": 4,
   "metadata": {},
   "outputs": [
    {
     "name": "stdout",
     "output_type": "stream",
     "text": [
      "1 --> 2 --> 3 --> 4 --> 5 --> \n",
      "5 --> 4 --> 3 --> 2 --> 1 --> \n"
     ]
    }
   ],
   "source": [
    "def print_linked_list(head):\n",
    "    while head:\n",
    "        print(head.getData(), end=' --> ')\n",
    "        head = head.getNext()\n",
    "    \n",
    "    print()\n",
    "\n",
    "def reverse_linked_list(head):\n",
    "    if not head or not head.getNext():\n",
    "        return head\n",
    "    \n",
    "    prev_node = None\n",
    "\n",
    "    while head:\n",
    "        temp_node = head.getNext()\n",
    "        head.setNext(prev_node)\n",
    "        prev_node, head = head, temp_node\n",
    "\n",
    "    return prev_node\n",
    "\n",
    "node1 = LinkedListNode(1)\n",
    "node2 = LinkedListNode(2)\n",
    "node3 = LinkedListNode(3)\n",
    "node4 = LinkedListNode(4)\n",
    "node5 = LinkedListNode(5)\n",
    "\n",
    "node1.setNext(node2)\n",
    "node2.setNext(node3)\n",
    "node3.setNext(node4)\n",
    "node4.setNext(node5)\n",
    "\n",
    "print_linked_list(node1)\n",
    "\n",
    "head_rvrsd_list = reverse_linked_list(node1)\n",
    "\n",
    "print_linked_list(head_rvrsd_list)\n"
   ]
  },
  {
   "cell_type": "markdown",
   "metadata": {},
   "source": [
    "### Problem 2: Merge two sorted linked lists into one sorted linked list.\n",
    "\n",
    "```\n",
    "Input: List 1: 1 -> 3 -> 5, List 2: 2 -> 4 -> 6\n",
    "Output: 1 -> 2 -> 3 -> 4 -> 5 -> 6\n",
    "```"
   ]
  },
  {
   "cell_type": "code",
   "execution_count": 3,
   "metadata": {},
   "outputs": [
    {
     "name": "stdout",
     "output_type": "stream",
     "text": [
      "1 --> 3 --> 5 --> \n",
      "2 --> 4 --> 6 --> \n",
      "Result of Merge:\n",
      "1 --> 2 --> 3 --> 4 --> 5 --> 6 --> \n"
     ]
    }
   ],
   "source": [
    "def merge_sorted_lists(head1, head2):\n",
    "    if not head1:\n",
    "        return head2\n",
    "    \n",
    "    if not head2:\n",
    "        return node2\n",
    "    \n",
    "    head_merged_list = None\n",
    "    current_node = None\n",
    "\n",
    "    while head1 and head2:\n",
    "        \n",
    "        if head1.getData() < head2.getData():\n",
    "            node_to_insert = head1\n",
    "            head1 = head1.getNext()\n",
    "        else:\n",
    "            node_to_insert = head2\n",
    "            head2 = head2.getNext()\n",
    "        \n",
    "        if not current_node:\n",
    "            head_merged_list = node_to_insert\n",
    "            current_node = node_to_insert\n",
    "        else:\n",
    "            current_node.setNext(node_to_insert)\n",
    "            current_node = node_to_insert\n",
    "    \n",
    "    if head1:\n",
    "        current_node.setNext(head1)\n",
    "\n",
    "    if head2:\n",
    "        current_node.setNext(head2)\n",
    "    \n",
    "    return head_merged_list\n",
    "\n",
    "node1 = LinkedListNode(1)\n",
    "node2 = LinkedListNode(2)\n",
    "node3 = LinkedListNode(3)\n",
    "node4 = LinkedListNode(4)\n",
    "node5 = LinkedListNode(5)\n",
    "node6 = LinkedListNode(6)\n",
    "\n",
    "node1.setNext(node3)\n",
    "node3.setNext(node5)\n",
    "\n",
    "node2.setNext(node4)\n",
    "node4.setNext(node6)\n",
    "\n",
    "head1 = node1\n",
    "head2 = node2\n",
    "\n",
    "print_linked_list(head1)\n",
    "print_linked_list(head2)\n",
    "\n",
    "merged_list_head = merge_sorted_lists(head1, head2)\n",
    "\n",
    "print(\"Result of Merge:\")\n",
    "print_linked_list(merged_list_head)"
   ]
  },
  {
   "cell_type": "markdown",
   "metadata": {},
   "source": [
    "### Problem 3: Remove the nth node from the end of a linked list.\n",
    "\n",
    "```\n",
    "Input: 1 -> 2 -> 3 -> 4 -> 5, n = 2\n",
    "Output: 1 -> 2 -> 3 -> 5\n",
    "```"
   ]
  },
  {
   "cell_type": "code",
   "execution_count": 4,
   "metadata": {},
   "outputs": [
    {
     "name": "stdout",
     "output_type": "stream",
     "text": [
      "1 --> 2 --> 3 --> 4 --> 5 --> \n",
      "2 --> 3 --> 4 --> 5 --> \n"
     ]
    }
   ],
   "source": [
    "def remove_nth_from_last(head, n):\n",
    "    if not head or n <= 0:\n",
    "        return head\n",
    "    \n",
    "    counter = 0\n",
    "\n",
    "    slow_ptr = head\n",
    "    fast_ptr = head\n",
    "\n",
    "    while fast_ptr.getNext():\n",
    "        fast_ptr = fast_ptr.getNext()\n",
    "        counter += 1\n",
    "        if counter > n:\n",
    "            slow_ptr = slow_ptr.getNext()\n",
    "\n",
    "    if counter == n-1:\n",
    "        # Remove head\n",
    "        next = head.getNext()\n",
    "        head.setNext(None)\n",
    "        head = next\n",
    "    elif counter >= n:\n",
    "        # Valid in between delete\n",
    "        prev = slow_ptr\n",
    "        if n > 1:\n",
    "            to_delete = slow_ptr.getNext()\n",
    "            prev.setNext(to_delete.getNext())\n",
    "        else:\n",
    "            prev.setNext(None)\n",
    "    else:\n",
    "        print(f'Not valid number as length is less than {n}')\n",
    "    \n",
    "    return head  \n",
    "\n",
    "node1 = LinkedListNode(1)\n",
    "node2 = LinkedListNode(2)\n",
    "node3 = LinkedListNode(3)\n",
    "node4 = LinkedListNode(4)\n",
    "node5 = LinkedListNode(5)\n",
    "\n",
    "node1.setNext(node2)\n",
    "node2.setNext(node3)\n",
    "node3.setNext(node4)\n",
    "node4.setNext(node5)\n",
    "\n",
    "print_linked_list(node1)\n",
    "\n",
    "head = remove_nth_from_last(node1, 5)\n",
    "\n",
    "print_linked_list(head)"
   ]
  },
  {
   "cell_type": "markdown",
   "metadata": {},
   "source": [
    "### Problem 4: Find the intersection point of two linked lists.\n",
    "\n",
    "```\n",
    "Input: List 1: 1 -> 2 -> 3 -> 4, List 2: 9 -> 8 -> 3 -> 4\n",
    "Output: Node with value 3\n",
    "```"
   ]
  },
  {
   "cell_type": "code",
   "execution_count": 5,
   "metadata": {},
   "outputs": [
    {
     "name": "stdout",
     "output_type": "stream",
     "text": [
      "1 --> 2 --> 3 --> 4 --> \n",
      "9 --> 8 --> 3 --> 4 --> \n",
      "Intersect at 3\n"
     ]
    }
   ],
   "source": [
    "## Approach - take difference of count of elements and then move the longer list with that diff\n",
    "## now we move each node a step at time and see if we get both same nodes\n",
    "def getLength(head):\n",
    "    counter = 0\n",
    "\n",
    "    while head:\n",
    "        counter += 1\n",
    "        head = head.getNext()\n",
    "    \n",
    "    return counter\n",
    "\n",
    "\n",
    "def getIntersectionNode(head1, head2):\n",
    "    count1 = getLength(head1)\n",
    "    count2 = getLength(head2)\n",
    "\n",
    "    if count1 >= count2:\n",
    "        diff = count1 - count2\n",
    "        current1 = head1\n",
    "        current2 = head2\n",
    "    else:\n",
    "        diff = count2 - count1\n",
    "        current1 = head2\n",
    "        current2 = head1\n",
    "    \n",
    "    for i in range(diff):\n",
    "        current1 = current1.getNext()\n",
    "    \n",
    "    while current1 is not None and current2 is not None:\n",
    "        if current1 is current2:\n",
    "            return current1\n",
    "        \n",
    "        current1 = current1.getNext()\n",
    "        current2 = current2.getNext()\n",
    "    \n",
    "    return None\n",
    "\n",
    "\n",
    "node1 = LinkedListNode(1)\n",
    "node2 = LinkedListNode(2)\n",
    "node3 = LinkedListNode(3)\n",
    "node4 = LinkedListNode(4)\n",
    "\n",
    "node8 = LinkedListNode(8, node3)\n",
    "node9 = LinkedListNode(9, node8)\n",
    "\n",
    "node1.setNext(node2)\n",
    "node2.setNext(node3)\n",
    "node3.setNext(node4)\n",
    "\n",
    "head1 = node1\n",
    "head2 = node9\n",
    "\n",
    "print_linked_list(head1)\n",
    "print_linked_list(head2)\n",
    "\n",
    "intersectedNode = getIntersectionNode(head1, head2)\n",
    "\n",
    "if intersectedNode is not None:\n",
    "    print(f'Intersect at {intersectedNode.getData()}')\n",
    "else:\n",
    "    print('No Intersection found!')\n"
   ]
  },
  {
   "cell_type": "markdown",
   "metadata": {},
   "source": [
    "### Problem 5: Remove duplicates from a sorted linked list.\n",
    "\n",
    "```\n",
    "Input: 1 -> 1 -> 2 -> 3 -> 3\n",
    "Output: 1 -> 2 -> 3\n",
    "```"
   ]
  },
  {
   "cell_type": "code",
   "execution_count": 6,
   "metadata": {},
   "outputs": [
    {
     "name": "stdout",
     "output_type": "stream",
     "text": [
      "1 --> 1 --> 2 --> 2 --> 3 --> 4 --> \n",
      "1 --> 2 --> 3 --> 4 --> \n"
     ]
    }
   ],
   "source": [
    "## approach - since list is sorted so we keep a track of prev if prev data is same as current then delete current\n",
    "\n",
    "def removeDuplicate(head):\n",
    "    if not head:\n",
    "        return head\n",
    "    prev = head\n",
    "    current = head.getNext()\n",
    "\n",
    "    while current:\n",
    "        if prev.getData() == current.getData():\n",
    "            current = current.getNext()\n",
    "        else:\n",
    "            prev.setNext(current)\n",
    "            prev = current\n",
    "            current = current.getNext()\n",
    "    \n",
    "    return head\n",
    "\n",
    "node1 = LinkedListNode(1)\n",
    "node1_1 = LinkedListNode(1)\n",
    "node2 = LinkedListNode(2)\n",
    "node2_1 = LinkedListNode(2)\n",
    "node3 = LinkedListNode(3)\n",
    "node4 = LinkedListNode(4)\n",
    "\n",
    "node1.setNext(node1_1)\n",
    "node1_1.setNext(node2)\n",
    "node2.setNext(node2_1)\n",
    "node2_1.setNext(node3)\n",
    "node3.setNext(node4)\n",
    "\n",
    "print_linked_list(node1)\n",
    "\n",
    "head = removeDuplicate(node1)\n",
    "\n",
    "print_linked_list(head)"
   ]
  },
  {
   "cell_type": "markdown",
   "metadata": {},
   "source": [
    "### Problem 6: Add two numbers represented by linked lists (where each node contains a single digit).\n",
    "\n",
    "```\n",
    "Input: List 1: 2 -> 4 -> 3, List 2: 5 -> 6 -> 4 (represents 342 + 465)\n",
    "Output: 7 -> 0 -> 8 (represents 807)\n",
    "```"
   ]
  },
  {
   "cell_type": "code",
   "execution_count": 7,
   "metadata": {},
   "outputs": [],
   "source": [
    "def addTwoNumbers(head1, head2):\n",
    "    current1 = head1\n",
    "    current2 = head2\n",
    "    sum_head = None\n",
    "    current_sum_digit = None\n",
    "    \n",
    "    carry_forward = 0\n",
    "\n",
    "    while current1 is not None and current2 is not None:\n",
    "        value1 = current1.getData()\n",
    "        value2 = current2.getData()\n",
    "\n",
    "        sum = value2 + value1 + carry_forward\n",
    "        effective_digit = sum % 10\n",
    "        carry_forward = sum // 10\n",
    "\n",
    "        digit_node = LinkedListNode(effective_digit)\n",
    "\n",
    "        if current_sum_digit:\n",
    "            current_sum_digit.setNext(digit_node)\n",
    "            current_sum_digit = digit_node\n",
    "        else:\n",
    "            current_sum_digit = sum_head = digit_node\n",
    "        \n",
    "        current1 = current1.getNext()\n",
    "        current2 = current2.getNext()\n",
    "    \n",
    "    ## below will get the longer number like one is 3 digit and other is 5 digit\n",
    "    ## so 5 digit's 2 digits will be added to carryforward and added to sum linkedlist\n",
    "    left_digits_current = None\n",
    "    if current1 is not None:\n",
    "        left_digits_current = current1\n",
    "    elif current2 is not None:\n",
    "        left_digits_current = current2\n",
    "\n",
    "    while left_digits_current is not None:\n",
    "        value = left_digits_current.getData()\n",
    "        sum = value + carry_forward\n",
    "\n",
    "        effective_digit = sum % 10\n",
    "        carry_forward = sum // 10\n",
    "\n",
    "        digit_node = LinkedListNode(effective_digit)\n",
    "\n",
    "        if current_sum_digit:\n",
    "            current_sum_digit.setNext(digit_node)\n",
    "            current_sum_digit = digit_node\n",
    "        else:\n",
    "            current_sum_digit = sum_head = digit_node\n",
    "        \n",
    "        left_digits_current = left_digits_current.getNext()\n",
    "\n",
    "    return sum_head"
   ]
  },
  {
   "cell_type": "code",
   "execution_count": 57,
   "metadata": {},
   "outputs": [
    {
     "name": "stdout",
     "output_type": "stream",
     "text": [
      "2 --> 4 --> 3 --> \n",
      "5 --> 6 --> 4 --> \n",
      "7 --> 0 --> 8 --> \n"
     ]
    }
   ],
   "source": [
    "head1 = LinkedListNode(2)\n",
    "node = LinkedListNode(4)\n",
    "node2 = LinkedListNode(3)\n",
    "head1.setNext(node)\n",
    "node.setNext(node2)\n",
    "\n",
    "head2 = LinkedListNode(5)\n",
    "node = LinkedListNode(6)\n",
    "node2 = LinkedListNode(4)\n",
    "head2.setNext(node)\n",
    "node.setNext(node2)\n",
    "\n",
    "print_linked_list(head1)\n",
    "\n",
    "print_linked_list(head2)\n",
    "\n",
    "sum_head = addTwoNumbers(head1, head2)\n",
    "\n",
    "print_linked_list(sum_head)"
   ]
  },
  {
   "cell_type": "markdown",
   "metadata": {},
   "source": [
    "### Problem 7: Swap nodes in pairs in a linked list.\n",
    "```\n",
    "Input: 1 -> 2 -> 3 -> 4\n",
    "Output: 2 -> 1 -> 4 -> 3\n",
    "```"
   ]
  },
  {
   "cell_type": "code",
   "execution_count": 8,
   "metadata": {},
   "outputs": [],
   "source": [
    "def swapPairNodes(head):\n",
    "    currentNode = head\n",
    "    prevNode = None\n",
    "\n",
    "    while currentNode and currentNode.getNext():\n",
    "        node1 = currentNode\n",
    "        node2 = currentNode.getNext()\n",
    "        temp = node2.getNext()\n",
    "\n",
    "        node2.setNext(node1)\n",
    "        node1.setNext(temp)\n",
    "        \n",
    "        if prevNode:\n",
    "            prevNode.setNext(node2)\n",
    "        else:\n",
    "            head = node2\n",
    "        \n",
    "        prevNode = node1\n",
    "        currentNode = temp\n",
    "    \n",
    "    return head\n",
    "\n"
   ]
  },
  {
   "cell_type": "code",
   "execution_count": 14,
   "metadata": {},
   "outputs": [
    {
     "name": "stdout",
     "output_type": "stream",
     "text": [
      "1 --> 2 --> 3 --> 4 --> \n",
      "2 --> 1 --> 4 --> 3 --> \n"
     ]
    }
   ],
   "source": [
    "node1 = LinkedListNode(1)\n",
    "node2 = LinkedListNode(2)\n",
    "node3 = LinkedListNode(3)\n",
    "node4 = LinkedListNode(4)\n",
    "\n",
    "node1.setNext(node2)\n",
    "node2.setNext(node3)\n",
    "node3.setNext(node4)\n",
    "\n",
    "print_linked_list(node1)\n",
    "\n",
    "result_head = swapPairNodes(node1)\n",
    "\n",
    "print_linked_list(result_head)"
   ]
  },
  {
   "cell_type": "markdown",
   "metadata": {},
   "source": [
    "### Problem 8: Reverse nodes in a linked list in groups of k.\n",
    "```\n",
    "Input: 1 -> 2 -> 3 -> 4 -> 5, k = 3\n",
    "Output: 3 -> 2 -> 1 -> 4 -> 5\n",
    "```"
   ]
  },
  {
   "cell_type": "code",
   "execution_count": 20,
   "metadata": {},
   "outputs": [],
   "source": [
    "def reverse_linked_list(head):\n",
    "    if not head:\n",
    "        return head\n",
    "    \n",
    "    prev_node = None\n",
    "    current_node = head\n",
    "\n",
    "    while current_node:\n",
    "        temp = current_node.getNext()\n",
    "        current_node.setNext(prev_node)\n",
    "        current_node, prev_node = temp, current_node\n",
    "    \n",
    "    return prev_node\n",
    "\n",
    "\n",
    "def reverseNodesInGroups(head, groupOf: int) -> LinkedListNode:\n",
    "    currentNode = head\n",
    "    result_head = None\n",
    "    last_group_last_node = None\n",
    "\n",
    "    while currentNode:\n",
    "        counter = 0\n",
    "        local_head = currentNode\n",
    "        prev_node = None\n",
    "        while counter < groupOf and currentNode:  \n",
    "            counter += 1\n",
    "            prev_node = currentNode\n",
    "            currentNode = currentNode.getNext()\n",
    "\n",
    "        if counter == groupOf:\n",
    "            prev_node.setNext(None)\n",
    "        \n",
    "            reversed_head = reverse_linked_list(local_head)\n",
    "\n",
    "            if last_group_last_node:\n",
    "                last_group_last_node.setNext(reversed_head)\n",
    "\n",
    "            last_group_last_node = local_head        \n",
    "\n",
    "            if not result_head:\n",
    "                result_head = prev_node\n",
    "        \n",
    "        else:\n",
    "            last_group_last_node.setNext(local_head)          \n",
    "\n",
    "            if not result_head:\n",
    "                result_head = head\n",
    "    \n",
    "    return result_head\n"
   ]
  },
  {
   "cell_type": "code",
   "execution_count": 22,
   "metadata": {},
   "outputs": [
    {
     "name": "stdout",
     "output_type": "stream",
     "text": [
      "1 --> 2 --> 3 --> 4 --> 5 --> \n",
      "3 --> 2 --> 1 --> 4 --> 5 --> \n"
     ]
    }
   ],
   "source": [
    "node1 = LinkedListNode(1)\n",
    "node2 = LinkedListNode(2)\n",
    "node3 = LinkedListNode(3)\n",
    "node4 = LinkedListNode(4)\n",
    "node5 = LinkedListNode(5)\n",
    "\n",
    "node1.setNext(node2)\n",
    "node2.setNext(node3)\n",
    "node3.setNext(node4)\n",
    "node4.setNext(node5)\n",
    "\n",
    "print_linked_list(node1)\n",
    "\n",
    "result = reverseNodesInGroups(node1, 3)\n",
    "\n",
    "print_linked_list(result)"
   ]
  },
  {
   "cell_type": "markdown",
   "metadata": {},
   "source": [
    "### Determine if a linked list is a palindrome.\n",
    "```\n",
    "Input: 1 -> 2 -> 2 -> 1\n",
    "Output: True\n",
    "```"
   ]
  },
  {
   "cell_type": "code",
   "execution_count": 28,
   "metadata": {},
   "outputs": [],
   "source": [
    "## Approach is using two pointer find mid and reverse 2nd half\n",
    "## now from mid and head start iterating if same then palindrome\n",
    "def getLength(head):\n",
    "    counter = 0\n",
    "\n",
    "    while head:\n",
    "        counter += 1\n",
    "        head = head.getNext()\n",
    "    \n",
    "    return counter\n",
    "\n",
    "def reverse_linked_list(head):\n",
    "    if not head:\n",
    "        return head\n",
    "    \n",
    "    prev_node = None\n",
    "    current_node = head\n",
    "\n",
    "    while current_node:\n",
    "        temp = current_node.getNext()\n",
    "        current_node.setNext(prev_node)\n",
    "        current_node, prev_node = temp, current_node\n",
    "    \n",
    "    return prev_node\n",
    "\n",
    "def isPalindrome(head):\n",
    "    size = getLength(head)\n",
    "\n",
    "    current_node = head\n",
    "    counter = 0\n",
    "    while counter < (size//2):\n",
    "        counter += 1\n",
    "        current_node = current_node.getNext()\n",
    "    \n",
    "    secondHalf_head = current_node\n",
    "\n",
    "    current_node = head\n",
    "\n",
    "    current_node2 = reverse_linked_list(secondHalf_head)\n",
    "    \n",
    "    while counter > 0:\n",
    "        if current_node.getData() != current_node2.getData():\n",
    "            return False\n",
    "        current_node = current_node.getNext()\n",
    "        current_node2 = current_node2.getNext()\n",
    "        counter -= 1\n",
    "    \n",
    "    return True\n",
    "    "
   ]
  },
  {
   "cell_type": "code",
   "execution_count": 32,
   "metadata": {},
   "outputs": [
    {
     "name": "stdout",
     "output_type": "stream",
     "text": [
      "2\n",
      "1 --> 2 --> \n"
     ]
    },
    {
     "data": {
      "text/plain": [
       "True"
      ]
     },
     "execution_count": 32,
     "metadata": {},
     "output_type": "execute_result"
    }
   ],
   "source": [
    "node1 = LinkedListNode(1)\n",
    "node2 = LinkedListNode(2)\n",
    "node3 = LinkedListNode(2)\n",
    "node4 = LinkedListNode(1)\n",
    "\n",
    "node1.setNext(node2)\n",
    "node2.setNext(node3)\n",
    "node3.setNext(node4)\n",
    "\n",
    "isPalindrome(node1)"
   ]
  },
  {
   "cell_type": "markdown",
   "metadata": {},
   "source": [
    "### Problem 10: Rotate a linked list to the right by k places.\n",
    "\n",
    "```\n",
    "Input: 1 -> 2 -> 3 -> 4 -> 5, k = 2\n",
    "Output: 4 -> 5 -> 1 -> 2 -> 3\n",
    "```"
   ]
  },
  {
   "cell_type": "code",
   "execution_count": 39,
   "metadata": {},
   "outputs": [],
   "source": [
    "## Approach - split list n-k and k and head will be on start of second half\n",
    "## and last element of lst will be pointing to older head\n",
    "\n",
    "def rotateRight(head, k):\n",
    "    count = getLength(head)\n",
    "\n",
    "    k = k % count\n",
    "\n",
    "    if k == 0:\n",
    "        return head\n",
    "\n",
    "    fastPtr = head\n",
    "    slowPtr = head\n",
    "\n",
    "    # get to kth node from last\n",
    "    counter = 0\n",
    "    while counter < k:\n",
    "        fastPtr = fastPtr.getNext()\n",
    "        counter += 1\n",
    "\n",
    "    while fastPtr.getNext():\n",
    "        slowPtr = slowPtr.getNext()\n",
    "        fastPtr = fastPtr.getNext()\n",
    "    \n",
    "    result_head = slowPtr.getNext()\n",
    "    slowPtr.setNext(None)\n",
    "    fastPtr.setNext(head)\n",
    "\n",
    "    return result_head\n",
    "\n"
   ]
  },
  {
   "cell_type": "code",
   "execution_count": 43,
   "metadata": {},
   "outputs": [
    {
     "name": "stdout",
     "output_type": "stream",
     "text": [
      "1 --> 2 --> 3 --> 4 --> 5 --> \n",
      "4 --> 5 --> 1 --> 2 --> 3 --> \n"
     ]
    }
   ],
   "source": [
    "node1 = LinkedListNode(1)\n",
    "node2 = LinkedListNode(2)\n",
    "node3 = LinkedListNode(3)\n",
    "node4 = LinkedListNode(4)\n",
    "node5 = LinkedListNode(5)\n",
    "\n",
    "node1.setNext(node2)\n",
    "node2.setNext(node3)\n",
    "node3.setNext(node4)\n",
    "node4.setNext(node5)\n",
    "\n",
    "print_linked_list(node1)\n",
    "\n",
    "rotated = rotateRight(node1, 2)\n",
    "\n",
    "print_linked_list(rotated)"
   ]
  },
  {
   "cell_type": "markdown",
   "metadata": {},
   "source": [
    "### Problem 11: Flatten a multilevel doubly linked list.\n",
    "\n",
    "```\n",
    "Input: 1 <-> 2 <-> 3 <-> 7 <-> 8 <-> 11 -> 12, 4 <-> 5 -> 9 -> 10, 6 -> 13\n",
    "Output: 1 <-> 2 <-> 3 <-> 4 <-> 5 <-> 6 <-> 7 <-> 8 <-> 9 <-> 10 <-> 11 <-> 12 <-> 13\n",
    "```"
   ]
  },
  {
   "cell_type": "code",
   "execution_count": 11,
   "metadata": {},
   "outputs": [],
   "source": [
    "## Approach we will use doubly linked list and field child to create a child branch\n",
    "## As we keep on traversing node, we first add node and then process child node and then the next\n",
    "\n",
    "class DoublyLinkedListNode:\n",
    "    def __init__(self, data, next = None, prev = None, child = None) -> None:\n",
    "        self.data = data\n",
    "        self.next = next\n",
    "        self.prev = prev\n",
    "        self.child = child\n",
    "\n",
    "def print_linked_list(head):\n",
    "    while head:\n",
    "        print(head.data, end=' --> ')\n",
    "        head = head.next\n",
    "    \n",
    "    print()\n",
    "\n",
    "# Flatten the node and return the tail\n",
    "def flattenDoublyLinkedList(node: DoublyLinkedListNode):\n",
    "    if not node or (not node.next and not node.child):\n",
    "        return node\n",
    "    \n",
    "    current_node = node\n",
    "    next_node = current_node.next\n",
    "\n",
    "    if current_node.child:\n",
    "        flatten_node_tail = flattenDoublyLinkedList(current_node.child)\n",
    "        current_node.next = current_node.child \n",
    "        current_node = flatten_node_tail\n",
    "    \n",
    "    current_node.next = next_node\n",
    "    \n",
    "    return flattenDoublyLinkedList(next_node)\n"
   ]
  },
  {
   "cell_type": "code",
   "execution_count": 10,
   "metadata": {},
   "outputs": [
    {
     "name": "stdout",
     "output_type": "stream",
     "text": [
      "6\n",
      "6\n",
      "10\n",
      "12\n",
      "1 --> 2 --> 3 --> 4 --> 5 --> 6 --> 7 --> 8 --> 9 --> 10 --> 11 --> 12 --> \n"
     ]
    }
   ],
   "source": [
    "node1 = DoublyLinkedListNode(1)\n",
    "node2 = DoublyLinkedListNode(2, prev=node1)\n",
    "node3 = DoublyLinkedListNode(3, prev=node2)\n",
    "node4 = DoublyLinkedListNode(4)\n",
    "node5 = DoublyLinkedListNode(5, prev=node4)\n",
    "node6 = DoublyLinkedListNode(6, prev=node5)\n",
    "node3.child = node4\n",
    "\n",
    "node7 = DoublyLinkedListNode(7, prev=node3)\n",
    "node8 = DoublyLinkedListNode(8, prev=node7)\n",
    "node9 = DoublyLinkedListNode(9)\n",
    "node10 = DoublyLinkedListNode(10, prev=node9)\n",
    "node8.child = node9\n",
    "\n",
    "node11 = DoublyLinkedListNode(11, prev=node8)\n",
    "node12 = DoublyLinkedListNode(12, prev=node11)\n",
    "\n",
    "node1.next = node2\n",
    "node2.next = node3\n",
    "node3.next = node7\n",
    "node4.next = node5\n",
    "node5.next = node6\n",
    "node7.next = node8\n",
    "node8.next = node11\n",
    "node9.next = node10\n",
    "node11.next = node12\n",
    "\n",
    "flattenDoublyLinkedList(node1)\n",
    "\n",
    "print_linked_list(node1)"
   ]
  },
  {
   "cell_type": "markdown",
   "metadata": {},
   "source": [
    "### Problem 12: Rearrange a linked list such that all even positioned nodes are placed at the end.\n",
    "\n",
    "```\n",
    "Input: 1 -> 2 -> 3 -> 4 -> 5\n",
    "Output: 1 -> 3 -> 5 -> 2 -> 4\n",
    "```"
   ]
  },
  {
   "cell_type": "code",
   "execution_count": 59,
   "metadata": {},
   "outputs": [],
   "source": [
    "## Approach - Traverse and for counter even remove a node \n",
    "## and add to end of new linked list of even positions elements\n",
    "# later append the even positioned linked list to given list\n",
    "\n",
    "def reaarrangeEvenPositioned(head: LinkedListNode):\n",
    "\n",
    "    even_pos_elements_head = None\n",
    "    even_pos_elements_tail = None\n",
    "\n",
    "    current_node = head\n",
    "    normal_pos_tail = None\n",
    "    counter = 1\n",
    "\n",
    "    while current_node:\n",
    "        if counter % 2 == 0:\n",
    "            if even_pos_elements_tail is not None:\n",
    "                even_pos_elements_tail.setNext(current_node)\n",
    "            else:\n",
    "                even_pos_elements_head = current_node\n",
    "            \n",
    "            even_pos_elements_tail = current_node\n",
    "            \n",
    "            normal_pos_tail.setNext(current_node.getNext())\n",
    "\n",
    "            current_node = current_node.getNext()\n",
    "            even_pos_elements_tail.setNext(None)\n",
    "        else:\n",
    "            normal_pos_tail = current_node\n",
    "            current_node = current_node.getNext()\n",
    "            \n",
    "        counter += 1\n",
    "    \n",
    "    normal_pos_tail.setNext(even_pos_elements_head)\n",
    "    return head\n",
    "\n",
    "\n",
    "\n"
   ]
  },
  {
   "cell_type": "code",
   "execution_count": 60,
   "metadata": {},
   "outputs": [
    {
     "name": "stdout",
     "output_type": "stream",
     "text": [
      "1 --> 2 --> 3 --> 4 --> 5 --> \n",
      "1 --> 3 --> 5 --> 2 --> 4 --> \n"
     ]
    }
   ],
   "source": [
    "node1 = LinkedListNode(1)\n",
    "node2 = LinkedListNode(2)\n",
    "node3 = LinkedListNode(3)\n",
    "node4 = LinkedListNode(4)\n",
    "node5 = LinkedListNode(5)\n",
    "\n",
    "node1.setNext(node2)\n",
    "node2.setNext(node3)\n",
    "node3.setNext(node4)\n",
    "node4.setNext(node5)\n",
    "\n",
    "print_linked_list(node1)\n",
    "\n",
    "reaarrangeEvenPositioned(node1)\n",
    "\n",
    "print_linked_list(node1)"
   ]
  },
  {
   "cell_type": "markdown",
   "metadata": {},
   "source": [
    "### Problem 13: Given a non-negative number represented as a linked list, add one to it.\n",
    "\n",
    "```\n",
    "Input: 1 -> 2 -> 3 (represents the number 123)\n",
    "Output: 1 -> 2 -> 4 (represents the number 124)\n",
    "```"
   ]
  },
  {
   "cell_type": "code",
   "execution_count": 61,
   "metadata": {},
   "outputs": [],
   "source": [
    "## Approach - Reverse a list\n",
    "# add 1 to the first element and keep adding appropriate carryforward to next elements\n",
    "# reverse the list again - which is answer\n",
    "\n",
    "def reverse_linked_list(head):\n",
    "    if not head:\n",
    "        return head\n",
    "    \n",
    "    prev_node = None\n",
    "    current_node = head\n",
    "\n",
    "    while current_node:\n",
    "        temp = current_node.getNext()\n",
    "        current_node.setNext(prev_node)\n",
    "        current_node, prev_node = temp, current_node\n",
    "    \n",
    "    return prev_node\n",
    "\n",
    "def addOne(head):\n",
    "    if head is None:\n",
    "        return head\n",
    "    \n",
    "    reversed_head = reverse_linked_list(head)\n",
    "\n",
    "    current_node = reversed_head\n",
    "    # because we want to add one to the number so default carry forward is 1\n",
    "    carry_forward = 1\n",
    "\n",
    "    while current_node:\n",
    "        sum = current_node.getData() + carry_forward\n",
    "        digit = sum % 10\n",
    "        carry_forward = sum // 10\n",
    "\n",
    "        current_node.setData(digit)\n",
    "\n",
    "        if carry_forward == 0:\n",
    "            break\n",
    "        \n",
    "        current_node = current_node.getNext()\n",
    "    \n",
    "    head = reverse_linked_list(reversed_head)\n",
    "\n",
    "    return head\n"
   ]
  },
  {
   "cell_type": "code",
   "execution_count": 63,
   "metadata": {},
   "outputs": [
    {
     "name": "stdout",
     "output_type": "stream",
     "text": [
      "1 --> 2 --> 3 --> \n",
      "1 --> 2 --> 4 --> \n"
     ]
    }
   ],
   "source": [
    "node1 = LinkedListNode(1)\n",
    "node2 = LinkedListNode(2)\n",
    "node3 = LinkedListNode(3)\n",
    "\n",
    "node1.setNext(node2)\n",
    "node2.setNext(node3)\n",
    "\n",
    "print_linked_list(node1)\n",
    "\n",
    "result = addOne(node1)\n",
    "\n",
    "print_linked_list(result)"
   ]
  },
  {
   "cell_type": "code",
   "execution_count": 64,
   "metadata": {},
   "outputs": [
    {
     "name": "stdout",
     "output_type": "stream",
     "text": [
      "1 --> 2 --> 9 --> \n",
      "1 --> 3 --> 0 --> \n"
     ]
    }
   ],
   "source": [
    "node1 = LinkedListNode(1)\n",
    "node2 = LinkedListNode(2)\n",
    "node3 = LinkedListNode(9)\n",
    "\n",
    "node1.setNext(node2)\n",
    "node2.setNext(node3)\n",
    "\n",
    "print_linked_list(node1)\n",
    "\n",
    "result = addOne(node1)\n",
    "\n",
    "print_linked_list(result)"
   ]
  },
  {
   "cell_type": "markdown",
   "metadata": {},
   "source": [
    "### Problem 14: Given a sorted array and a target value, return the index if the target is found. If not, return the index where it would be inserted.\n",
    "\n",
    "```\n",
    "Input: nums = [1, 3, 5, 6], target = 5\n",
    "Output: 2\n",
    "```"
   ]
  },
  {
   "cell_type": "code",
   "execution_count": 98,
   "metadata": {},
   "outputs": [
    {
     "name": "stdout",
     "output_type": "stream",
     "text": [
      "4\n",
      "2\n"
     ]
    }
   ],
   "source": [
    "# Since we are given sorted array we can use binary search\n",
    "\n",
    "def findIndex(arr, n):\n",
    "    if not arr:\n",
    "        return -1\n",
    "\n",
    "    size = len(arr)\n",
    "\n",
    "    left = 0\n",
    "    right = size - 1\n",
    "\n",
    "    while left < right:\n",
    "        mid = left + (right - left)//2\n",
    "\n",
    "        if arr[mid] == n:\n",
    "            return mid\n",
    "        elif arr[mid] > n:\n",
    "            if arr[mid - 1] <= n:\n",
    "                return mid\n",
    "            right = mid - 1\n",
    "        else:\n",
    "            if arr[mid + 1] >= n:\n",
    "                return mid + 1\n",
    "            left = mid + 1\n",
    "    \n",
    "    if left == (size - 1):\n",
    "        return left + 1\n",
    "    else:\n",
    "        return left\n",
    "    \n",
    "print(findIndex([2,3,5,6,8,9], 7)) ## expected 1\n",
    "print(findIndex([1,3,5,6], 5)) ## expected 2"
   ]
  },
  {
   "cell_type": "markdown",
   "metadata": {},
   "source": [
    "### Problem 15: Find the minimum element in a rotated sorted array.\n",
    "\n",
    "```\n",
    "Input: [4, 5, 6, 7, 0, 1, 2]\n",
    "Output: 0\n",
    "```"
   ]
  },
  {
   "cell_type": "code",
   "execution_count": 6,
   "metadata": {},
   "outputs": [
    {
     "data": {
      "text/plain": [
       "0"
      ]
     },
     "execution_count": 6,
     "metadata": {},
     "output_type": "execute_result"
    }
   ],
   "source": [
    "## Approach - We will use concept of binary search but a different version\n",
    "\n",
    "def get_min_element(arr):\n",
    "\n",
    "    if not arr:\n",
    "        return None\n",
    "    size = len(arr)\n",
    "    left = 0\n",
    "    right = size - 1\n",
    "    \n",
    "    min = arr[0]\n",
    "    while left <= right:\n",
    "        mid = left + ((right - left)//2)\n",
    "\n",
    "        if arr[mid] < min:\n",
    "            min = arr[mid]\n",
    "\n",
    "        # Move towards left\n",
    "        if arr[left] < arr[right]:\n",
    "            right = (mid - 1) % size\n",
    "        elif arr[left] > arr[right]:\n",
    "            left = (mid + 1) % size\n",
    "        else:\n",
    "            break\n",
    "    \n",
    "    return min\n",
    "\n",
    "get_min_element([4,5,6,7,0,1,2])\n",
    "        "
   ]
  },
  {
   "cell_type": "markdown",
   "metadata": {},
   "source": [
    "### Problem 16: Search for a target value in a rotated sorted array.\n",
    "\n",
    "```\n",
    "Input: nums = [4, 5, 6, 7, 0, 1, 2], target = 0\n",
    "Output: 4\n",
    "```"
   ]
  },
  {
   "cell_type": "code",
   "execution_count": null,
   "metadata": {},
   "outputs": [],
   "source": [
    "## Approach - here instead of moving towards min value we compare with mid \n",
    "## move towards one with proximity\n",
    "\n",
    "def search_in_rotated(arr, n):\n",
    "    if not arr:\n",
    "        return -1\n",
    "    \n",
    "    size = len(arr)\n",
    "    left = 0\n",
    "    right = size - 1\n",
    "\n",
    "    while left <= right:\n",
    "\n",
    "        mid = left + ((right - left) // 2)\n",
    "\n",
    "        if arr[mid] == n:\n",
    "            return mid\n",
    "        \n",
    "        ## Out of left or right - one part will be sorted\n",
    "        ## If left part is sorted and n falls in that\n",
    "        \n",
    "        if arr[left] < arr[mid - 1] and arr[left] <= n <= arr[mid - 1]:\n",
    "            right = mid - 1\n",
    "        elif arr[right] > arr[mid + 1] and arr[right] >= n >= arr[mid + 1]:\n",
    "            left = mid - 1"
   ]
  },
  {
   "cell_type": "markdown",
   "metadata": {},
   "source": []
  }
 ],
 "metadata": {
  "kernelspec": {
   "display_name": "base",
   "language": "python",
   "name": "python3"
  },
  "language_info": {
   "codemirror_mode": {
    "name": "ipython",
    "version": 3
   },
   "file_extension": ".py",
   "mimetype": "text/x-python",
   "name": "python",
   "nbconvert_exporter": "python",
   "pygments_lexer": "ipython3",
   "version": "3.11.4"
  }
 },
 "nbformat": 4,
 "nbformat_minor": 2
}
