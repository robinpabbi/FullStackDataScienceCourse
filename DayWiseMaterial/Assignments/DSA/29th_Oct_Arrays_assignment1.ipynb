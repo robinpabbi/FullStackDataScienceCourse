{
 "cells": [
  {
   "cell_type": "markdown",
   "metadata": {},
   "source": [
    "## Arrays Assignment 1"
   ]
  },
  {
   "cell_type": "markdown",
   "metadata": {},
   "source": [
    "### 1. Given an array, check if it contains any duplicates or not.\n",
    "arr = [1, 2, 4, 2, 5, 9]\n",
    "Output = True"
   ]
  },
  {
   "cell_type": "code",
   "execution_count": 10,
   "metadata": {},
   "outputs": [
    {
     "name": "stdout",
     "output_type": "stream",
     "text": [
      "True\n",
      "False\n"
     ]
    }
   ],
   "source": [
    "def contains_duplicate(arr):\n",
    "    '''\n",
    "    Uses set to keep the entry of each element being traversed\n",
    "    Loop on the array and for each element check if in set if yes then True\n",
    "    Time Complexity: O(n)\n",
    "    Space Complexity: O(n)\n",
    "    '''\n",
    "    # Check if there is only one element or no element\n",
    "    if (len(arr) <= 1):\n",
    "        return False\n",
    "        \n",
    "    element_set = set()\n",
    "    for element in arr:\n",
    "        if(element in element_set):\n",
    "            return True\n",
    "        element_set.add(element)\n",
    "    \n",
    "    return False\n",
    "\n",
    "print(contains_duplicate([1, 2, 4, 2, 5, 9])) # True\n",
    "print(contains_duplicate([1, 3, 4, 2, 5, 9])) # False"
   ]
  },
  {
   "cell_type": "markdown",
   "metadata": {},
   "source": [
    "### 2. Given an array and an integer k, rotate the array to the right by k steps.\n",
    "arr = [1, 2, 3, 4, 5, 6, 7] k = 3\n",
    "Output = [5, 6, 7, 1, 2, 3, 4]"
   ]
  },
  {
   "cell_type": "code",
   "execution_count": 18,
   "metadata": {},
   "outputs": [
    {
     "data": {
      "text/plain": [
       "[5, 6, 7, 1, 2, 3, 4]"
      ]
     },
     "execution_count": 18,
     "metadata": {},
     "output_type": "execute_result"
    }
   ],
   "source": [
    "def rotate_to_right(arr, k):\n",
    "    '''\n",
    "    Assumption : We have to do rotation in place to the given array\n",
    "    '''\n",
    "    arr_length = len(arr)\n",
    "\n",
    "    # If array contains 1 or no element then return array\n",
    "    if (arr_length <= 1):\n",
    "        return arr\n",
    "\n",
    "    # if number of steps to rotate is more than length of the array\n",
    "    # then the result steps would be remainder of length/no of steps\n",
    "    if (arr_length < k):\n",
    "        k = arr_length % k\n",
    "    \n",
    "    # take last k elements in the temporary array\n",
    "    temp_arr = arr[(-1*k) : arr_length]\n",
    "\n",
    "    # Below code will move the element from starting to right with lenght - k steps\n",
    "    for i in range(arr_length-k-1, -1, -1):\n",
    "        arr[k+i] = arr[0 + i]\n",
    "    \n",
    "    # K steps to get \n",
    "    for i in range(0, k):\n",
    "        arr[i] = temp_arr[i]\n",
    "    \n",
    "    return arr\n",
    "\n",
    "a = [1, 2, 3, 4, 5, 6, 7]\n",
    "rotate_to_right(a, 3)\n",
    "a"
   ]
  },
  {
   "cell_type": "markdown",
   "metadata": {},
   "source": [
    "### 3. Reverse the given array in-place, means without using any extra data structure.\n",
    "arr = [2, 4, 5, 7, 9, 12]\n",
    "Output = [12, 9, 7, 5, 4, 2]"
   ]
  },
  {
   "cell_type": "code",
   "execution_count": 8,
   "metadata": {},
   "outputs": [
    {
     "name": "stdout",
     "output_type": "stream",
     "text": [
      "[12, 9, 7, 5, 4, 2]\n",
      "[10, 29, 23, 8, 5, 4, 1]\n"
     ]
    }
   ],
   "source": [
    "# Time complexity O(n) as it runs n/2 times in a loop\n",
    "def reverse_array(arr):\n",
    "    length_arr = len(arr)\n",
    "\n",
    "    # If array contains only 1 element or no element then reverse is same\n",
    "    if (length_arr <= 1):\n",
    "        return arr\n",
    "\n",
    "    # Go till mid of array and swap values of from right and left\n",
    "    # 0 index with n-1-i index and so on\n",
    "    for i in range(0, length_arr//2):\n",
    "        temp = arr[i]\n",
    "        arr[i] = arr[length_arr - i - 1]\n",
    "        arr[length_arr - i - 1] = temp\n",
    "    \n",
    "    return arr\n",
    "\n",
    "\n",
    "arr1 = [2, 4, 5, 7, 9, 12]\n",
    "arr2 = [1, 4, 5, 8, 23, 29, 10]\n",
    "reverse_array(arr1)\n",
    "reverse_array(arr2)\n",
    "\n",
    "print(arr1)\n",
    "print(arr2)"
   ]
  },
  {
   "cell_type": "markdown",
   "metadata": {},
   "source": [
    "### 4. Given an array of integers, find the maximum element in an array\n",
    "arr = [10, 5, 20, 8, 15]\n",
    "Output = 20"
   ]
  },
  {
   "cell_type": "code",
   "execution_count": 10,
   "metadata": {},
   "outputs": [
    {
     "name": "stdout",
     "output_type": "stream",
     "text": [
      "20\n"
     ]
    }
   ],
   "source": [
    "# Time complexity O(n)\n",
    "def find_max(arr):\n",
    "    # Corner cases when array is empty or None\n",
    "    if not arr:\n",
    "        return None\n",
    "\n",
    "    max = arr[0]\n",
    "    \n",
    "    for num in arr:\n",
    "        if (max < num):\n",
    "            max = num\n",
    "    \n",
    "    return max\n",
    "\n",
    "maximum_n = find_max([10, 5, 20, 8, 15])\n",
    "print(maximum_n)"
   ]
  },
  {
   "cell_type": "markdown",
   "metadata": {},
   "source": [
    "### 5. Given a sorted array, remove the duplicate element without using any extra data structure.\n",
    "arr = [1, 1, 2, 2, 2, 3, 3, 4, 4, 4, 5, 5]\n",
    "Output = [1, 2, 3, 4, 5]"
   ]
  },
  {
   "cell_type": "code",
   "execution_count": 19,
   "metadata": {},
   "outputs": [
    {
     "data": {
      "text/plain": [
       "[1, 2, 3, 4, 5]"
      ]
     },
     "execution_count": 19,
     "metadata": {},
     "output_type": "execute_result"
    }
   ],
   "source": [
    "def remove_duplicates(arr):\n",
    "    # Corner case if no element in array or it is none then return array\n",
    "    if not arr:\n",
    "        return arr\n",
    "    \n",
    "    current_ele_index = 0\n",
    "    for i in range(1, len(arr)):\n",
    "        # We will keep iterating till different element is found \n",
    "        # then we copy it to index next to current index and increment current index to compare\n",
    "        if arr[current_ele_index] != arr[i]:\n",
    "            current_ele_index += 1\n",
    "            arr[current_ele_index] = arr[i]\n",
    "\n",
    "    return arr[:current_ele_index + 1]\n",
    "\n",
    "remove_duplicates([1, 1, 2, 2, 2, 3, 3, 4, 4, 4, 5, 5])"
   ]
  }
 ],
 "metadata": {
  "kernelspec": {
   "display_name": "base",
   "language": "python",
   "name": "python3"
  },
  "language_info": {
   "codemirror_mode": {
    "name": "ipython",
    "version": 3
   },
   "file_extension": ".py",
   "mimetype": "text/x-python",
   "name": "python",
   "nbconvert_exporter": "python",
   "pygments_lexer": "ipython3",
   "version": "3.11.4"
  }
 },
 "nbformat": 4,
 "nbformat_minor": 2
}
