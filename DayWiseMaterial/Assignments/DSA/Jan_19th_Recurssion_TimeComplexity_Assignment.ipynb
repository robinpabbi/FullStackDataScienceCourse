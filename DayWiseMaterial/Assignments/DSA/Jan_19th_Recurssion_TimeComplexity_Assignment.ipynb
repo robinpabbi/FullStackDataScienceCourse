{
 "cells": [
  {
   "cell_type": "markdown",
   "metadata": {},
   "source": [
    "## Find time complexity of below code blocks :"
   ]
  },
  {
   "cell_type": "markdown",
   "metadata": {},
   "source": [
    "### Problem 1 :\n",
    "```\n",
    "def quicksort(arr):\n",
    "    if len(arr) <= 1:\n",
    "        return arr\n",
    "    pivot = arr[len(arr) // 2]\n",
    "    left = [x for x in arr if x < pivot]\n",
    "    middle = [x for x in arr if x == pivot]\n",
    "    right = [x for x in arr if x > pivot]\n",
    "    return quicksort(left) + middle + quicksort(right)\n",
    "```"
   ]
  },
  {
   "cell_type": "markdown",
   "metadata": {},
   "source": [
    "*Ans.* Since we partition the array to half (log(n)) and then use list comprehension (n)\n",
    "\n",
    "Time Complexity - O(n log(n)) i.e. nlog(n)"
   ]
  },
  {
   "cell_type": "markdown",
   "metadata": {},
   "source": [
    "### Problem 2 :\n",
    "```\n",
    "def nested_loop_example(matrix):\n",
    "    rows, cols = len(matrix), len(matrix[0])\n",
    "    total = 0\n",
    "    for i in range(rows):\n",
    "        for j in range(cols):\n",
    "        total += matrix[i][j]\n",
    "    return total\n",
    "```"
   ]
  },
  {
   "cell_type": "markdown",
   "metadata": {},
   "source": [
    "*Ans.* Considering we have matric of m*n.\n",
    "\n",
    "Time Complexity - O(mn) i.e. m*n\n"
   ]
  },
  {
   "cell_type": "markdown",
   "metadata": {},
   "source": [
    "### Problem 3 :\n",
    "```\n",
    "def example_function(arr):\n",
    "    result = 0\n",
    "    for element in arr:\n",
    "        result += element\n",
    "    return result\n",
    "```"
   ]
  },
  {
   "cell_type": "markdown",
   "metadata": {},
   "source": [
    "*Ans.* Time Complexity = O(n)"
   ]
  },
  {
   "cell_type": "markdown",
   "metadata": {},
   "source": [
    "### Problem 4 :\n",
    "```\n",
    "def longest_increasing_subsequence(nums):\n",
    "    n = len(nums)\n",
    "    lis = [1] * n\n",
    "    for i in range(1, n):\n",
    "        for j in range(0, i):\n",
    "            if nums[i] > nums[j] and lis[i] < lis[j] + 1:\n",
    "                lis[i] = lis[j] + 1\n",
    "    return max(lis)\n",
    "```"
   ]
  },
  {
   "cell_type": "markdown",
   "metadata": {},
   "source": [
    "*Ans.* Time Complexity - O(n^2) or O(N^2) "
   ]
  },
  {
   "cell_type": "markdown",
   "metadata": {},
   "source": [
    "### Problem 5 :\n",
    "```\n",
    "def mysterious_function(arr):\n",
    "    n = len(arr)\n",
    "    result = 0\n",
    "    for i in range(n):\n",
    "        for j in range(i, n):\n",
    "            result += arr[i] * arr[j]\n",
    "    return result\n",
    "```"
   ]
  },
  {
   "cell_type": "markdown",
   "metadata": {},
   "source": [
    "*Ans.* Time Complexity - O(n^2) or O(N^2)"
   ]
  },
  {
   "cell_type": "markdown",
   "metadata": {},
   "source": [
    "## Solve the following problems on recursion"
   ]
  },
  {
   "cell_type": "markdown",
   "metadata": {},
   "source": [
    "### Problem 6 : Sum of Digits\n",
    "Write a recursive function to calculate the sum of digits of a given positive integer.\n",
    "\n",
    "```sum_of_digits(123) -> 6```"
   ]
  },
  {
   "cell_type": "code",
   "execution_count": 2,
   "metadata": {},
   "outputs": [
    {
     "data": {
      "text/plain": [
       "6"
      ]
     },
     "execution_count": 2,
     "metadata": {},
     "output_type": "execute_result"
    }
   ],
   "source": [
    "def sum_of_digits(n, sum = 0) -> int:\n",
    "    if n < 10:\n",
    "        sum += n\n",
    "        return sum\n",
    "\n",
    "    last_digit = n % 10\n",
    "    next_number = n // 10\n",
    "\n",
    "    return last_digit + sum_of_digits(next_number, sum)\n",
    "\n",
    "sum_of_digits(123)"
   ]
  },
  {
   "cell_type": "markdown",
   "metadata": {},
   "source": [
    "### Problem 7: Fibonacci Series\n",
    "Write a recursive function to generate the first n numbers of the Fibonacci series.\n",
    "\n",
    "```fibonacci_series(6) -> [0, 1, 1, 2, 3, 5]```"
   ]
  },
  {
   "cell_type": "code",
   "execution_count": 4,
   "metadata": {},
   "outputs": [
    {
     "data": {
      "text/plain": [
       "[0, 1, 1, 2, 3, 5]"
      ]
     },
     "execution_count": 4,
     "metadata": {},
     "output_type": "execute_result"
    }
   ],
   "source": [
    "fib_memo_dict = {0: 0, 1:1}\n",
    "\n",
    "def fib_no(n):\n",
    "    ## Using Memoization\n",
    "    if n in fib_memo_dict:\n",
    "        return fib_memo_dict[n]\n",
    "    \n",
    "    ## Recursive call\n",
    "    fib_num = fib_no(n-2) + fib_no(n-1)\n",
    "\n",
    "    return fib_num\n",
    "\n",
    "def fibonacci_series(num_of_elements):\n",
    "    return [fib_no(i) for i in range(num_of_elements)]\n",
    "\n",
    "fibonacci_series(6)\n"
   ]
  },
  {
   "cell_type": "markdown",
   "metadata": {},
   "source": [
    "### Problem 8 : Subset Sum\n",
    "Given a set of positive integers and a target sum, write a recursive function to determine if there exists a subset of the integers that adds up to the target sum.\n",
    "\n",
    "```subset_sum([3, 34, 4, 12, 5, 2], 9) -> True```"
   ]
  },
  {
   "cell_type": "code",
   "execution_count": 5,
   "metadata": {},
   "outputs": [
    {
     "data": {
      "text/plain": [
       "True"
      ]
     },
     "execution_count": 5,
     "metadata": {},
     "output_type": "execute_result"
    }
   ],
   "source": [
    "# We use the concept of divide and conquer\n",
    "# We check either if the sum is available in n-1 array or  array from 0 to n (means sum - arr[n-1] in n-1)\n",
    "\n",
    "def is_subset_sum(arr, n, sum):\n",
    "    if sum == 0:\n",
    "        return True\n",
    "    if n == 0:\n",
    "        return False\n",
    "    \n",
    "    ## if last element is greator than required sum then we check for array 0 to n -1 \n",
    "    if arr[n-1] > sum:\n",
    "        return is_subset_sum(arr, n-1, sum)\n",
    "    \n",
    "    ## Check for sum or (sum - arr[n]) in array 0 to n - 1\n",
    "    return is_subset_sum(arr, n-1, sum) or is_subset_sum(arr, n-1, sum - arr[n - 1])\n",
    "\n",
    "def subset_sum(arr, sum):\n",
    "    return is_subset_sum(arr, len(arr), sum)\n",
    "\n",
    "subset_sum([3, 34, 4, 12, 5, 2], 9)"
   ]
  },
  {
   "cell_type": "markdown",
   "metadata": {},
   "source": [
    "### Problem 9: Word Break\n",
    "Given a non-empty string and a dictionary of words, write a recursive function to determine if the string can be segmented into a space-separated sequence of dictionary words.\n",
    "\n",
    "```word_break( leetcode , [ leet , code ]) -> True```"
   ]
  },
  {
   "cell_type": "code",
   "execution_count": 8,
   "metadata": {},
   "outputs": [
    {
     "data": {
      "text/plain": [
       "True"
      ]
     },
     "execution_count": 8,
     "metadata": {},
     "output_type": "execute_result"
    }
   ],
   "source": [
    "def word_break(str_input, dict_of_words, n, left = 0, right = 0):\n",
    "    if right > (n - 1):\n",
    "        return left == right\n",
    "\n",
    "    if str_input[left:right+1] in dict_of_words:\n",
    "        return word_break(str_input, dict_of_words, n, right+1, right+1)\n",
    "    else:\n",
    "        return word_break(str_input, dict_of_words, n, left, right+1)\n",
    "\n",
    "word_break( \"leetcode\" , [ \"leet\" , \"code\" ], 8)"
   ]
  },
  {
   "cell_type": "markdown",
   "metadata": {},
   "source": [
    "Problem 10 : N-Queens\n",
    "Implement a recursive function to solve the N Queens problem, where you have to place N queens on an N×N chessboard in such a way that no two queens threaten each other.\n",
    "\n",
    "```n_queens(4)```\n",
    "```\n",
    "[\n",
    "[\".Q..\",\n",
    "\"...Q\",\n",
    "\"Q...\",\n",
    "\"..Q.\"],\n",
    "[\"..Q.\",\n",
    "\"Q...\",\n",
    "\"...Q\",\n",
    "\".Q..\"]\n",
    "]\n",
    "```"
   ]
  },
  {
   "cell_type": "markdown",
   "metadata": {},
   "source": []
  }
 ],
 "metadata": {
  "kernelspec": {
   "display_name": "base",
   "language": "python",
   "name": "python3"
  },
  "language_info": {
   "codemirror_mode": {
    "name": "ipython",
    "version": 3
   },
   "file_extension": ".py",
   "mimetype": "text/x-python",
   "name": "python",
   "nbconvert_exporter": "python",
   "pygments_lexer": "ipython3",
   "version": "3.11.4"
  }
 },
 "nbformat": 4,
 "nbformat_minor": 2
}
