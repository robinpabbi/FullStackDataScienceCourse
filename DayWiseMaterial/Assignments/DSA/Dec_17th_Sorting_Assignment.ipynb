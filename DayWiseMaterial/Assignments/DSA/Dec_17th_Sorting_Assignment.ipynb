{
 "cells": [
  {
   "cell_type": "markdown",
   "metadata": {},
   "source": [
    "### Problem 1.Given an array of n numbers, give an algorithm which gives the element appearing maximum number of times?"
   ]
  },
  {
   "cell_type": "code",
   "execution_count": 4,
   "metadata": {},
   "outputs": [
    {
     "data": {
      "text/plain": [
       "3"
      ]
     },
     "execution_count": 4,
     "metadata": {},
     "output_type": "execute_result"
    }
   ],
   "source": [
    "def selection_sort(arr):\n",
    "    length_arr = len(arr)\n",
    "\n",
    "    for i in range(length_arr):\n",
    "        min = i\n",
    "        for j in range(i+1, length_arr):\n",
    "            if arr[j] < arr[min]:\n",
    "                min = j\n",
    "        arr[i], arr[min] = arr[min], arr[i]\n",
    "    \n",
    "    return arr\n",
    "\n",
    "def get_number_with_max_appears(arr):\n",
    "    length_arr = len(arr)\n",
    "\n",
    "    if length_arr == 0:\n",
    "        return None\n",
    "\n",
    "    ## Sort the array so that all the repetitions are aligned \n",
    "    arr = selection_sort(arr)\n",
    "\n",
    "    max_no_of_repetitions = 1\n",
    "    number_with_mx_repetition = arr[0]\n",
    "\n",
    "    counter = 1\n",
    "    for i in range(1, length_arr):\n",
    "        if (arr[i] == arr[i-1]):\n",
    "            counter += 1\n",
    "        else:\n",
    "            counter = 1\n",
    "        \n",
    "        if (max_no_of_repetitions < counter):\n",
    "            max_no_of_repetitions = counter\n",
    "            number_with_mx_repetition = arr[i]\n",
    "        \n",
    "\n",
    "    return number_with_mx_repetition\n",
    "\n",
    "get_number_with_max_appears([1,1,1,3,2,2,2,1,1,5,5,5,3,2,3,3,4,3,3])"
   ]
  },
  {
   "cell_type": "markdown",
   "metadata": {},
   "source": [
    "### Problem 2 : We are given a list of n-1 integers and these integers are in the range of 1 to n . There are no duplicates in the list. One of the integers is missing in the list. Give an algorithm to find that element Ex: [1,2,4,6,3,7,8] 5 is the missing num."
   ]
  },
  {
   "cell_type": "code",
   "execution_count": 7,
   "metadata": {},
   "outputs": [
    {
     "data": {
      "text/plain": [
       "5"
      ]
     },
     "execution_count": 7,
     "metadata": {},
     "output_type": "execute_result"
    }
   ],
   "source": [
    "def find_missing_number(arr):\n",
    "    length_arr = len(arr)\n",
    "\n",
    "    if length_arr == 0:\n",
    "        return None\n",
    "    \n",
    "    # Sort an array\n",
    "    selection_sort(arr)\n",
    "\n",
    "    if arr[0] != 1:\n",
    "        return 1\n",
    "    \n",
    "    for i in range(1, length_arr):\n",
    "        if arr[i] != (arr[i-1] + 1):\n",
    "            return arr[i] - 1\n",
    "    \n",
    "    return None\n",
    "\n",
    "\n",
    "find_missing_number([1,2,4,6,3,7,8])\n",
    "    "
   ]
  },
  {
   "cell_type": "markdown",
   "metadata": {},
   "source": [
    "### Problem 3 : Given an array of n positive numbers. All numbers occurs even number of times except 1 which occurs odd number of times. Find that number in O(n) time and O(1) space. Ex: [1,2,3,2,3,1,3]. 3 is repeats odd times."
   ]
  },
  {
   "cell_type": "code",
   "execution_count": 3,
   "metadata": {},
   "outputs": [
    {
     "data": {
      "text/plain": [
       "3"
      ]
     },
     "execution_count": 3,
     "metadata": {},
     "output_type": "execute_result"
    }
   ],
   "source": [
    "def find_number_occurring_odd_times(arr):\n",
    "    length_arr = len(arr)\n",
    "\n",
    "    if length_arr == 0:\n",
    "        return None\n",
    "    ## if length is one then it means only 1 element which is odd occurrence\n",
    "    elif length_arr == 1:\n",
    "        return arr[0]\n",
    "    \n",
    "    # Sort the array so that all ocurrings are alligned\n",
    "    selection_sort(arr)\n",
    "\n",
    "    number_of_occurrence = 1\n",
    "\n",
    "    for i in range(1, length_arr):\n",
    "        if arr[i-1] == arr[i]:\n",
    "            number_of_occurrence += 1\n",
    "        elif number_of_occurrence % 2 == 1:\n",
    "            ## Case of previous element occuring for odd times\n",
    "            return arr[i-1]\n",
    "        else:\n",
    "            number_of_occurrence = 1\n",
    "        \n",
    "    if number_of_occurrence % 2 == 1:\n",
    "        return arr[length_arr - 1]\n",
    "\n",
    "find_number_occurring_odd_times([1,2,3,2,3,1,3])"
   ]
  },
  {
   "cell_type": "markdown",
   "metadata": {},
   "source": [
    "### Problem 4 : Given an array of n elements. Find two elements in the array such that their sum is equal to given element K."
   ]
  },
  {
   "cell_type": "code",
   "execution_count": 9,
   "metadata": {},
   "outputs": [
    {
     "name": "stdout",
     "output_type": "stream",
     "text": [
      "(6, 7)\n"
     ]
    }
   ],
   "source": [
    "# Approach is to start from both ends using two pointers of Sorted array\n",
    "# check sum of elements at left and right equal to k if yes then return pair\n",
    "# else if sum is greater then it means we have to move right towards left (shorter element)\n",
    "# if sum is less then k then we move left towards right\n",
    "def getPairWithGivenSum(arr, k):\n",
    "    length_arr = len(arr)\n",
    "\n",
    "    if length_arr == 0:\n",
    "        return None\n",
    "    \n",
    "    # Sort the array\n",
    "    selection_sort(arr)\n",
    "\n",
    "    left = 0\n",
    "    right = length_arr - 1\n",
    "\n",
    "    while (left < right):\n",
    "        sum_of_left_right_elements = arr[left] + arr[right]\n",
    "\n",
    "        if sum_of_left_right_elements == k:\n",
    "            return (arr[left], arr[right])\n",
    "        elif sum_of_left_right_elements > k:\n",
    "            right -= 1\n",
    "        else:\n",
    "            left += 1\n",
    "    \n",
    "    return None\n",
    "\n",
    "print(getPairWithGivenSum([2,1,4,3,6,5,7],13))"
   ]
  },
  {
   "cell_type": "markdown",
   "metadata": {},
   "source": [
    "### Problem 5 : Given an array of both positive and negative numbers, find two numbers such that their sum is closest to 0. Ex: [ 1 ,60 ,-10, 70, -80,85]. Ans : -80,85."
   ]
  },
  {
   "cell_type": "code",
   "execution_count": 10,
   "metadata": {},
   "outputs": [
    {
     "data": {
      "text/plain": [
       "(-80, 85)"
      ]
     },
     "execution_count": 10,
     "metadata": {},
     "output_type": "execute_result"
    }
   ],
   "source": [
    "## Aproach - we use sorted array and \n",
    "## here main point is that start with most negative and most positive element (Two Pointers)\n",
    "## When sum is -ve then we increase left to bigger number so that sum move towards 0\n",
    "## is sum is positive then we decrease right to smaller positve number\n",
    "## keep track of sum and min pair\n",
    "\n",
    "def find_pair_with_min_sum(arr):\n",
    "    if not arr:\n",
    "        print('Not valid array.')\n",
    "        return None\n",
    "    \n",
    "    length_arr = len(arr)\n",
    "\n",
    "    if length_arr < 2:\n",
    "        print('No valid pairs exists in array')\n",
    "        return None\n",
    "    \n",
    "    selection_sort(arr)\n",
    "    \n",
    "    min_left = 0\n",
    "    min_right = length_arr - 1\n",
    "    minimum_sum = arr[min_left] + arr[min_right]\n",
    "\n",
    "    left = 0\n",
    "    right = length_arr - 1\n",
    "\n",
    "    while(left < right):\n",
    "        sum = arr[left] + arr[right]\n",
    "\n",
    "        if abs(sum) < abs(minimum_sum):\n",
    "            min_left = left\n",
    "            min_right = right\n",
    "            minimum_sum = sum\n",
    "        \n",
    "        if sum == 0:\n",
    "            break\n",
    "        elif sum < 0:\n",
    "            left += 1\n",
    "        else:\n",
    "            right -= 1\n",
    "    \n",
    "    return arr[min_left], arr[min_right]\n",
    "\n",
    "find_pair_with_min_sum([1, 60, -10, 70, -80, 85])"
   ]
  },
  {
   "cell_type": "markdown",
   "metadata": {},
   "source": [
    "### Problem 6 : Given an array of n elements . Find three elements such that their sum is equal to the given number."
   ]
  },
  {
   "cell_type": "code",
   "execution_count": 15,
   "metadata": {},
   "outputs": [
    {
     "data": {
      "text/plain": [
       "(1, 8, 17)"
      ]
     },
     "execution_count": 15,
     "metadata": {},
     "output_type": "execute_result"
    }
   ],
   "source": [
    "## Same as question 4 but here we use THREE pointers\n",
    "## for first pointer we iterate on the list till n - 2, let us say i\n",
    "## and for next two pointer (left which is i +1) and right which is n - 1\n",
    "## for left and right we keep iterating and check sum of three elements\n",
    "\n",
    "def get_triplet_with_sum(arr, k):\n",
    "    if not arr:\n",
    "        print('Not a valid array!')\n",
    "        return None\n",
    "    \n",
    "    length_arr = len(arr)\n",
    "\n",
    "    if length_arr < 3:\n",
    "        print('No triplets available')\n",
    "        return None\n",
    "    \n",
    "    selection_sort(arr)\n",
    "\n",
    "    for i in range(length_arr - 2):\n",
    "\n",
    "        left_ptr = i + 1\n",
    "        right_ptr = length_arr - 1\n",
    "\n",
    "        while(left_ptr < right_ptr):\n",
    "            sum = arr[i] + arr[left_ptr] + arr[right_ptr]\n",
    "\n",
    "            if sum == k:\n",
    "                return (arr[i], arr[left_ptr], arr[right_ptr])\n",
    "            \n",
    "            elif sum < k:\n",
    "                left_ptr += 1\n",
    "            else:\n",
    "                right_ptr -= 1\n",
    "        \n",
    "    return None\n",
    "\n",
    "get_triplet_with_sum([1,22,13,60,17,8,20], 26)\n"
   ]
  },
  {
   "cell_type": "markdown",
   "metadata": {},
   "source": [
    "### Problem 7 : Given an array of n elements . Find three elements i, j, k in the array such that i * i + j * j = k*k."
   ]
  },
  {
   "cell_type": "code",
   "execution_count": 30,
   "metadata": {},
   "outputs": [
    {
     "data": {
      "text/plain": [
       "(5, 12, 13)"
      ]
     },
     "execution_count": 30,
     "metadata": {},
     "output_type": "execute_result"
    }
   ],
   "source": [
    "def get_pythagorous_tirplet(arr):\n",
    "    if not arr:\n",
    "        print('Not a valid array!')\n",
    "        return None\n",
    "    \n",
    "    length_arr = len(arr)\n",
    "\n",
    "    if length_arr < 3:\n",
    "        print('No triplets available')\n",
    "        return None\n",
    "    \n",
    "    selection_sort(arr)\n",
    "\n",
    "    for i in range(length_arr - 2):\n",
    "        i_sqr = arr[i]**2\n",
    "\n",
    "        for j in range(i+1, length_arr - 1):\n",
    "            j_sqr = arr[j]**2\n",
    "\n",
    "            k = length_arr - 1\n",
    "\n",
    "            while (j < k):\n",
    "                k_sqr = arr[k]**2\n",
    "\n",
    "                sum = i_sqr + j_sqr\n",
    "\n",
    "                if sum == k_sqr:\n",
    "                    return (arr[i], arr[j], arr[k])\n",
    "                elif sum < k_sqr:\n",
    "                    k -= 1\n",
    "                else:\n",
    "                    break\n",
    "    \n",
    "    return None\n",
    "            \n",
    "\n",
    "get_pythagorous_tirplet([4,13,12,9,18,34,25,5])"
   ]
  },
  {
   "cell_type": "markdown",
   "metadata": {},
   "source": [
    "### Problem 8 : An element is a majority if it appears more than n/2 times. Give an algorithm takes an array of n element as argument and identifies a majority (if it exists)."
   ]
  },
  {
   "cell_type": "code",
   "execution_count": 34,
   "metadata": {},
   "outputs": [
    {
     "data": {
      "text/plain": [
       "2"
      ]
     },
     "execution_count": 34,
     "metadata": {},
     "output_type": "execute_result"
    }
   ],
   "source": [
    "# If element exists more than n/2 times this means centre of the sorted is that element \n",
    "# [More than n/2 either on left or right]\n",
    "# point to centre of array then move two pointers both sides till we find items boundaries\n",
    "# difference of left and right gives count\n",
    "# if count is more than n/2 than it is element else None\n",
    "\n",
    "def find_element_repeated_more_than_half_times(arr):\n",
    "    if not arr :\n",
    "        print('Not a valid array!')\n",
    "        return None\n",
    "    \n",
    "    length_arr = len(arr)\n",
    "\n",
    "    if length_arr == 1:\n",
    "        return arr[0]\n",
    "    \n",
    "    selection_sort(arr)\n",
    "    \n",
    "    mid = length_arr // 2\n",
    "    left = mid\n",
    "    right = mid\n",
    "    no_of_repetetion = 1\n",
    "\n",
    "    while(left > 0 or right < length_arr - 1):\n",
    "        if left > 0 and arr[left - 1] == arr[mid]:\n",
    "            left -= 1\n",
    "            no_of_repetetion += 1\n",
    "\n",
    "        if right < length_arr - 1 and arr[right + 1] == arr[mid]:\n",
    "            no_of_repetetion += 1\n",
    "            right += 1\n",
    "\n",
    "        if left > 0 and arr[left - 1] != arr[mid] and right < length_arr - 1 and arr[right + 1] != arr[mid]:\n",
    "            break\n",
    "    \n",
    "    if no_of_repetetion > (length_arr / 2):\n",
    "        return arr[mid]\n",
    "    \n",
    "    return None\n",
    "\n",
    "find_element_repeated_more_than_half_times([2,3,4,2,3,2,1,6,2,2,2])"
   ]
  },
  {
   "cell_type": "markdown",
   "metadata": {},
   "source": [
    "### Problem 9 : Given n × n matrix, and in each row all 1’s are followed by 0’s. Find the row with the maximum number of 0’s."
   ]
  },
  {
   "cell_type": "code",
   "execution_count": 32,
   "metadata": {},
   "outputs": [
    {
     "data": {
      "text/plain": [
       "4"
      ]
     },
     "execution_count": 32,
     "metadata": {},
     "output_type": "execute_result"
    }
   ],
   "source": [
    "# Approach - Go to each row and sort the row so that 0's start from index 0 and we count 0's\n",
    "# Keep track of max_number and row_index\n",
    "\n",
    "def get_row_index_with_max_zeros(arr):\n",
    "    if not arr:\n",
    "        print('Not valid array')\n",
    "        return -1\n",
    "    \n",
    "    max_zeros_count = -1\n",
    "    row_indx_with_max_zeros = -1\n",
    "\n",
    "    for row in range(len(arr)):\n",
    "        selection_sort(arr[row])\n",
    "        zero_count = 0\n",
    "        for i in arr[row]:\n",
    "            if i == 0:\n",
    "                zero_count += 1\n",
    "            else:\n",
    "                break\n",
    "        \n",
    "        if zero_count > max_zeros_count:\n",
    "            max_zeros_count = zero_count\n",
    "            row_indx_with_max_zeros = row\n",
    "        \n",
    "    return row_indx_with_max_zeros\n",
    "\n",
    "get_row_index_with_max_zeros([[1,0,0,1,0],\n",
    "                              [1,0,0,0,1],\n",
    "                              [1,1,1,0,0],\n",
    "                              [1,1,1,1,0],\n",
    "                              [1,0,0,0,0]])"
   ]
  },
  {
   "cell_type": "markdown",
   "metadata": {},
   "source": [
    "### Problem 10 : Sort an array of 0’s, 1’s and 2’s [or R’s, G’s and B’s]: Given an array A[] consisting of 0’s, 1’s and 2’s, give an algorithm for sorting A[].The algorithm should put all 0’s first, then all 1’s and finally all 2’s at the end. Example Input = {0,1,1,0,1,2,1,2,0,0,0,1}, Output = {0,0,0,0,0,1,1,1,1,1,2,2}"
   ]
  },
  {
   "cell_type": "code",
   "execution_count": 33,
   "metadata": {},
   "outputs": [
    {
     "data": {
      "text/plain": [
       "[0, 0, 0, 0, 0, 1, 1, 1, 1, 1, 2, 2]"
      ]
     },
     "execution_count": 33,
     "metadata": {},
     "output_type": "execute_result"
    }
   ],
   "source": [
    "# Here we will use three pointer approach\n",
    "# Main idea is that left to mid it is zeros mid to right it is 1's and right to n (length) it is 2's\n",
    "\n",
    "def sort_three_number_array(arr):\n",
    "    if not arr:\n",
    "        print('Not valid array')\n",
    "        return -1\n",
    "    \n",
    "    length_arr = len(arr)\n",
    "\n",
    "    left = 0\n",
    "    mid = 0\n",
    "    right = length_arr - 1\n",
    "\n",
    "    # Since mid will move ahead left so condition will be mid <= high\n",
    "    while(mid <= right):\n",
    "        if arr[mid] == 0:\n",
    "            arr[left], arr[mid] = arr[mid], arr[left]\n",
    "            left += 1\n",
    "            mid += 1\n",
    "        elif arr[mid] == 1:\n",
    "            mid += 1\n",
    "        else:\n",
    "            arr[mid], arr[right] = arr[right], arr[mid]\n",
    "            right -= 1\n",
    "\n",
    "    return arr\n",
    "\n",
    "sort_three_number_array([0,1,1,0,1,2,1,2,0,0,0,1])"
   ]
  }
 ],
 "metadata": {
  "kernelspec": {
   "display_name": "base",
   "language": "python",
   "name": "python3"
  },
  "language_info": {
   "codemirror_mode": {
    "name": "ipython",
    "version": 3
   },
   "file_extension": ".py",
   "mimetype": "text/x-python",
   "name": "python",
   "nbconvert_exporter": "python",
   "pygments_lexer": "ipython3",
   "version": "3.11.4"
  }
 },
 "nbformat": 4,
 "nbformat_minor": 2
}
