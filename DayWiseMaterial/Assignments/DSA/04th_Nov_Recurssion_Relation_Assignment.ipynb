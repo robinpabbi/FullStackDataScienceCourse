{
 "cells": [
  {
   "cell_type": "markdown",
   "metadata": {},
   "source": [
    "## 1. Find the value of T(2) for the recurrence relation T(n) = 3T(n-1) + 12n, given that T(0)=5."
   ]
  },
  {
   "cell_type": "markdown",
   "metadata": {},
   "source": [
    "*Ans.*\n",
    "\n",
    "Given:\n",
    "* T(0) = 5\n",
    "* T(n) = 3T(n-1) + 12n\n",
    "\n",
    "Then:\n",
    "* T(2) = 3T(2-1) + 12*2\n",
    "* T(2) = 3T(1) + 24\n",
    "\n",
    "* T(1) = 3T(1-1) + 12*1 = 3T(0) + 12 = 3*5 + 12 = 27\n",
    "\n",
    "* so T(2) = 3*T(1) + 24 = 3 * (27) + 24\n",
    "* T(2) = 81 + 24 = 105\n",
    "\n",
    "#### T(2) = 105"
   ]
  },
  {
   "cell_type": "markdown",
   "metadata": {},
   "source": [
    "## 2. Given a recurrence relation, solve it using the substitution method:"
   ]
  },
  {
   "cell_type": "markdown",
   "metadata": {},
   "source": [
    "### a. T(n) = T(n-1) + c"
   ]
  },
  {
   "cell_type": "markdown",
   "metadata": {},
   "source": [
    "*Ans*\n",
    "\n",
    "Given:\n",
    "* T(n) = T(n-1) + c\n",
    "\n",
    "Then:\n",
    "* T(n-1) = T(n-2) + c\n",
    "* T(n) = T(n-2) + c + c = T(n-2) + 2c\n",
    "\n",
    "Similarily:\n",
    "\n",
    "* T(n) = T(n-3) + 3c\n",
    "\n",
    "and\n",
    "\n",
    "* T(n) = T(n-k) + kc\n",
    "\n",
    "Now, for k = n\n",
    "\n",
    "T(n) = T(n-n) + n *c\n",
    "T(n) = T(0) + nc\n",
    "\n",
    "#### So Time complexity is O(n)"
   ]
  },
  {
   "cell_type": "markdown",
   "metadata": {},
   "source": [
    "### b. T(n) = 2T(n/2) + n"
   ]
  },
  {
   "cell_type": "markdown",
   "metadata": {},
   "source": [
    "*Ans*\n",
    "\n",
    "Given:\n",
    "* T(n) = 2T(n/2) + n\n",
    "\n",
    "Then:\n",
    "* T(n/4) = 2T(n/4) + n\n",
    "* T(n) = 2*2T(n/2^2) + 2n = 2^2T(n/2^2) + 2n\n",
    "\n",
    "Similarily:\n",
    "\n",
    "* T(n) = 2^3T(n/2^3) + 3n\n",
    "\n",
    "and\n",
    "\n",
    "* T(n) = 2^k T(n/2^k) + kn\n",
    "\n",
    "for iterations to make it T(1) i.e n/2^k = 1\n",
    "n = 2^k\n",
    "=> k = log(n)\n",
    "\n",
    "T(n) = n + nlog(n)\n",
    "\n",
    "\n",
    "#### Time complexity of O(n(log(n))) i.e. O(nlog(n))"
   ]
  },
  {
   "cell_type": "markdown",
   "metadata": {},
   "source": [
    "### c. T(n) = 2T(n/2) + c"
   ]
  },
  {
   "cell_type": "markdown",
   "metadata": {},
   "source": [
    "*Ans*\n",
    "\n",
    "Given:\n",
    "* T(n) = 2T(n/2) + c\n",
    "\n",
    "Then:\n",
    "* T(n/2) = 2T(n/4) + c\n",
    "* T(n) = 2*2T(n/2^2) + c + c = 2^2T(n/2^2) + 2c\n",
    "\n",
    "Similarily:\n",
    "\n",
    "* T(n) = 2^3T(n/2^3) + 3c\n",
    "\n",
    "and\n",
    "\n",
    "* T(n) = 2^k T(n/2^k) + kc\n",
    "\n",
    "for iterations to make it T(1) i.e n/2^k = 1\n",
    "n = 2^k\n",
    "=> k = log(n)\n",
    "\n",
    "T(n) = n + clog(n)\n",
    "\n",
    "\n",
    "#### Time complexity of O(n)"
   ]
  },
  {
   "cell_type": "markdown",
   "metadata": {},
   "source": [
    "### d. T(n) = T(n/2) + c"
   ]
  },
  {
   "cell_type": "markdown",
   "metadata": {},
   "source": [
    "*Ans*\n",
    "\n",
    "Given:\n",
    "* T(n) = T(n/2) + c\n",
    "\n",
    "Then:\n",
    "* T(n/2) = T(n/4) + c\n",
    "* T(n) = T(n/2^2) + c + c = T(n/2^2) + 2c\n",
    "\n",
    "Similarily:\n",
    "\n",
    "* T(n) = T(n/2^3) + 3c\n",
    "\n",
    "and\n",
    "\n",
    "* T(n) = T(n/2^k) + kc\n",
    "\n",
    "for iterations to make it T(1) i.e n/2^k = 1\n",
    "n = 2^k\n",
    "=> k = log(n)\n",
    "\n",
    "T(n) = T(1) + clog(n)\n",
    "\n",
    "T(n) = 1 + clog(n)\n",
    "\n",
    "#### Time complexity of O(log(n))"
   ]
  },
  {
   "cell_type": "markdown",
   "metadata": {},
   "source": [
    "## 3. Given a recurrence relation, solve it using the recursive tree approach:"
   ]
  },
  {
   "cell_type": "markdown",
   "metadata": {},
   "source": [
    "### a. T(n) = 2T(n-1) +1"
   ]
  },
  {
   "cell_type": "markdown",
   "metadata": {},
   "source": [
    "* T(n) = 1 for n = 0\n",
    "* T(n) = 2T(n-1) + 1 for n > 0 -- -i.e. T(n-1) + T(n-1) + 1\n",
    "\n",
    "```\n",
    "        T(n)\n",
    "          |\n",
    "______________________________\n",
    "1       T(n-1)              T(n-1) --------------------- 1 = 2^0\n",
    "          |                    |\n",
    "    ________________        _______________\n",
    "    1   T(n-2)   T(n-2)     1   T(n-2)   T(n-2) ---------- 1+1 = 2 = 2^1\n",
    "\n",
    "                                              ------------- 4 = 2^2\n",
    "                                              .\n",
    "                                              .\n",
    "                                              .\n",
    "                                              .\n",
    "   for k iteration n-k                                           ------------- 2^k\n",
    "\n",
    "```\n",
    "\n",
    "n-k = 0 => k = n\n",
    "\n",
    "for k = n -- sum of all iterations\n",
    "1 + 2 + 4 + 8 + ..... 2^k\n",
    "\n",
    "GP series, a = 1, r = 2\n",
    "a(r^n - 1)/(r - 1) = 1(2^n - 1)/(2 - 1)\n",
    "\n",
    "#### Hence Time complexity is O(2^n) i.e. O(2 power n) "
   ]
  },
  {
   "cell_type": "markdown",
   "metadata": {},
   "source": [
    "### b. T(n) = 2T(n/2) + n"
   ]
  },
  {
   "cell_type": "markdown",
   "metadata": {},
   "source": [
    "* T(n) = 1 for n = 0\n",
    "* T(n) = 2T(n/2) + n for n > 9 -- -i.e. T(n/2) + T(n/2) + n\n",
    "\n",
    "```\n",
    "        T(n)\n",
    "          |\n",
    "______________________________\n",
    "n       T(n/2)              T(n/2) --------------------- n\n",
    "          |                    |\n",
    "    ________________        _______________\n",
    "    n/2  T(n/4)   T(n/4)    n/2   T(n/4)   T(n/4) ---------- n/2 + n/2 = 2n/2 = n\n",
    "\n",
    "                                              ------------- 4n/4 = n/2^2\n",
    "                                              .\n",
    "                                              .\n",
    "                                              .\n",
    "                                              .\n",
    "   for k iteration         n/2^k                                   ------------- 1\n",
    "\n",
    "```\n",
    "\n",
    "n/2^k = 1\n",
    "n = 2^k\n",
    "k = log(n)\n",
    "\n",
    "for k - log(n) --- sum of iterations is below\n",
    "n + n + n ------ log(n) times\n",
    "\n",
    "#### Hence Time complexity is O(n*log(n)) i.e O(nlog(n))"
   ]
  },
  {
   "cell_type": "code",
   "execution_count": null,
   "metadata": {},
   "outputs": [],
   "source": []
  }
 ],
 "metadata": {
  "language_info": {
   "name": "python"
  }
 },
 "nbformat": 4,
 "nbformat_minor": 2
}
