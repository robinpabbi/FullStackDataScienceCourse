{
 "cells": [
  {
   "cell_type": "markdown",
   "metadata": {},
   "source": [
    "### Linear Search in Recursion "
   ]
  },
  {
   "cell_type": "code",
   "execution_count": 3,
   "metadata": {},
   "outputs": [
    {
     "data": {
      "text/plain": [
       "3"
      ]
     },
     "execution_count": 3,
     "metadata": {},
     "output_type": "execute_result"
    }
   ],
   "source": [
    "def linearSearch(arr, item_to_search, currentIndex = 0):\n",
    "    if not arr:\n",
    "        return -1\n",
    "    if currentIndex >= len(arr):\n",
    "        return -1\n",
    "    \n",
    "    if arr[currentIndex] == item_to_search:\n",
    "        return currentIndex\n",
    "    \n",
    "    return linearSearch(arr, item_to_search, currentIndex+1)\n",
    "\n",
    "\n",
    "linearSearch([2,3,4,51,23,34], 51)"
   ]
  },
  {
   "cell_type": "markdown",
   "metadata": {},
   "source": [
    "### Tower of Hanoi - Steps  "
   ]
  },
  {
   "cell_type": "code",
   "execution_count": 5,
   "metadata": {},
   "outputs": [
    {
     "name": "stdout",
     "output_type": "stream",
     "text": [
      "Move disk from S to D\n",
      "Move disk from S to A\n",
      "Move disk from D to A\n",
      "Move disk from S to D\n",
      "Move disk from A to S\n",
      "Move disk from A to D\n",
      "Move disk from S to D\n"
     ]
    }
   ],
   "source": [
    "def move_disks(number_of_disks, source, destination, aux):\n",
    "\n",
    "    if number_of_disks <= 1:\n",
    "        print(f'Move disk from {source} to {destination}')\n",
    "        return\n",
    "    \n",
    "    move_disks(number_of_disks-1, source, aux, destination)\n",
    "\n",
    "    print(f'Move disk from {source} to {destination}')\n",
    "\n",
    "    move_disks(number_of_disks-1, aux, destination, source)\n",
    "\n",
    "\n",
    "move_disks(3, 'S', 'D', 'A')"
   ]
  },
  {
   "cell_type": "markdown",
   "metadata": {},
   "source": [
    "## Binary Search in Recursion   "
   ]
  },
  {
   "cell_type": "code",
   "execution_count": 7,
   "metadata": {},
   "outputs": [
    {
     "data": {
      "text/plain": [
       "5"
      ]
     },
     "execution_count": 7,
     "metadata": {},
     "output_type": "execute_result"
    }
   ],
   "source": [
    "def binarySearch(arr, item_to_search, left, right):\n",
    "    if left > right:\n",
    "        return -1\n",
    "    \n",
    "    mid = left + (right - left) //2\n",
    "\n",
    "    if arr[mid] == item_to_search:\n",
    "        return mid    \n",
    "    elif item_to_search < arr[mid]:\n",
    "        return binarySearch(arr, item_to_search, left, right = mid-1)\n",
    "    else:\n",
    "        return binarySearch(arr, item_to_search, mid +1 , right)\n",
    "        \n",
    "arr = [2,3,4,5,6,7,8,9,10,11,12,13]\n",
    "binarySearch(arr, 7, 0, len(arr) - 1)"
   ]
  },
  {
   "cell_type": "markdown",
   "metadata": {},
   "source": [
    "### Two pointers - Reverse an array"
   ]
  },
  {
   "cell_type": "code",
   "execution_count": 9,
   "metadata": {},
   "outputs": [
    {
     "data": {
      "text/plain": [
       "[6, 1, 4, 3, 2]"
      ]
     },
     "execution_count": 9,
     "metadata": {},
     "output_type": "execute_result"
    }
   ],
   "source": [
    "def reverse(arr):\n",
    "    pointer1 = 0\n",
    "    pointer2 = len(arr) - 1\n",
    "\n",
    "    while pointer1 < pointer2:\n",
    "        arr[pointer1], arr[pointer2] = arr[pointer2], arr[pointer1]\n",
    "        pointer1 += 1\n",
    "        pointer2 -= 1\n",
    "    \n",
    "\n",
    "arr = [2,3,4,1,6]\n",
    "reverse(arr)\n",
    "arr   "
   ]
  },
  {
   "cell_type": "markdown",
   "metadata": {},
   "source": [
    "### Reverse an Array using recursion"
   ]
  },
  {
   "cell_type": "code",
   "execution_count": 13,
   "metadata": {},
   "outputs": [
    {
     "data": {
      "text/plain": [
       "[6, 1, 4, 3, 2]"
      ]
     },
     "execution_count": 13,
     "metadata": {},
     "output_type": "execute_result"
    }
   ],
   "source": [
    "def reverse_recursive(arr, pointer1, pointer2):\n",
    "    if pointer1 > pointer2:\n",
    "        return\n",
    "    \n",
    "    arr[pointer1], arr[pointer2] = arr[pointer2], arr[pointer1]\n",
    "\n",
    "    reverse_recursive(arr, pointer1+1, pointer2-1)\n",
    "\n",
    "\n",
    "arr = [2,3,4,1,6]\n",
    "reverse_recursive(arr, 0, len(arr)-1)\n",
    "arr  "
   ]
  },
  {
   "cell_type": "markdown",
   "metadata": {},
   "source": [
    "### Check array of numbers is palindrome or not"
   ]
  },
  {
   "cell_type": "code",
   "execution_count": 15,
   "metadata": {},
   "outputs": [
    {
     "data": {
      "text/plain": [
       "True"
      ]
     },
     "execution_count": 15,
     "metadata": {},
     "output_type": "execute_result"
    }
   ],
   "source": [
    "def is_palindrome_recursive(arr, pointer1, pointer2):\n",
    "    if pointer1 > pointer2:\n",
    "        return True\n",
    "    \n",
    "    if arr[pointer2] != arr[pointer1]:\n",
    "        return False\n",
    "\n",
    "    return is_palindrome_recursive(arr, pointer1+1, pointer2-1)\n",
    "\n",
    "arr = [1,2,3,3,2,1]\n",
    "is_palindrome_recursive(arr, 0, len(arr)-1)"
   ]
  },
  {
   "cell_type": "markdown",
   "metadata": {},
   "source": [
    "### Check Palindrome using loop"
   ]
  },
  {
   "cell_type": "code",
   "execution_count": 19,
   "metadata": {},
   "outputs": [
    {
     "data": {
      "text/plain": [
       "False"
      ]
     },
     "execution_count": 19,
     "metadata": {},
     "output_type": "execute_result"
    }
   ],
   "source": [
    "def is_palindrome(arr):\n",
    "    pointer1 = 0\n",
    "    pointer2 = len(arr) - 1\n",
    "\n",
    "    while pointer1 < pointer2:\n",
    "        if arr[pointer1] != arr[pointer2]:\n",
    "            return False\n",
    "        pointer1 += 1\n",
    "        pointer2 -= 1\n",
    "    \n",
    "    return True\n",
    "    \n",
    "\n",
    "arr = [2,3,4,1,6]\n",
    "is_palindrome(arr)"
   ]
  },
  {
   "cell_type": "markdown",
   "metadata": {},
   "source": [
    "### Rotate an array to right 'k' steps "
   ]
  },
  {
   "cell_type": "code",
   "execution_count": 38,
   "metadata": {},
   "outputs": [
    {
     "data": {
      "text/plain": [
       "[2, 3, 4, 1, 6]"
      ]
     },
     "execution_count": 38,
     "metadata": {},
     "output_type": "execute_result"
    }
   ],
   "source": [
    "def rotate_right(arr, k):\n",
    "    length = len(arr)\n",
    "\n",
    "    if k == length or k == 0:\n",
    "        return\n",
    "    \n",
    "    if k > length:\n",
    "        k = length % k\n",
    "        \n",
    "    while k > 0:\n",
    "        el = arr[len(arr)-1]\n",
    "\n",
    "        for i in range(len(arr)):\n",
    "            arr[i], el = el, arr[i]\n",
    "        k -= 1\n",
    "\n",
    "arr = [2,3,4,1,6]\n",
    "rotate_right(arr,0)\n",
    "arr"
   ]
  },
  {
   "cell_type": "code",
   "execution_count": 48,
   "metadata": {},
   "outputs": [
    {
     "data": {
      "text/plain": [
       "[4, 1, 6, 2, 3]"
      ]
     },
     "execution_count": 48,
     "metadata": {},
     "output_type": "execute_result"
    }
   ],
   "source": [
    "def reverse_array_recursive(arr, pointerStart, pointerEnd):\n",
    "    if pointerStart > pointerEnd:\n",
    "        return\n",
    "    \n",
    "    arr[pointerStart], arr[pointerEnd] = arr[pointerEnd], arr[pointerStart]\n",
    "\n",
    "    reverse_array_recursive(arr, pointerStart+1, pointerEnd-1)\n",
    "\n",
    "\n",
    "def rotate_right_efficient(arr, k):\n",
    "    length = len(arr)\n",
    "\n",
    "    if k == length or k == 0:\n",
    "        return\n",
    "    \n",
    "    if k > length:\n",
    "        k = length % k\n",
    "        \n",
    "\n",
    "    reverse_array_recursive(arr, 0, length-1)\n",
    "\n",
    "    reverse_array_recursive(arr, 0, k-1)\n",
    "\n",
    "    reverse_array_recursive(arr, k, length-1)    \n",
    "\n",
    "arr = [2,3,4,1,6]\n",
    "rotate_right_efficient(arr,3)\n",
    "arr"
   ]
  },
  {
   "cell_type": "markdown",
   "metadata": {},
   "source": [
    "### Left rotate - Efficient using reverse recursive"
   ]
  },
  {
   "cell_type": "code",
   "execution_count": 52,
   "metadata": {},
   "outputs": [
    {
     "data": {
      "text/plain": [
       "[4, 1, 6, 2, 3]"
      ]
     },
     "execution_count": 52,
     "metadata": {},
     "output_type": "execute_result"
    }
   ],
   "source": [
    "def rotate_left_efficient(arr, k):\n",
    "    length = len(arr)\n",
    "\n",
    "    if k == length or k == 0:\n",
    "        return\n",
    "    \n",
    "    if k > length:\n",
    "        k = length % k\n",
    "        \n",
    "\n",
    "    reverse_array_recursive(arr, k, length-1)\n",
    "\n",
    "    reverse_array_recursive(arr, 0, k-1)\n",
    "\n",
    "    reverse_array_recursive(arr, 0, length-1)    \n",
    "\n",
    "arr = [2,3,4,1,6]\n",
    "rotate_left_efficient(arr, 2)\n",
    "arr"
   ]
  },
  {
   "cell_type": "markdown",
   "metadata": {},
   "source": []
  },
  {
   "cell_type": "markdown",
   "metadata": {},
   "source": [
    "### Insertion Sort"
   ]
  },
  {
   "cell_type": "code",
   "execution_count": 44,
   "metadata": {},
   "outputs": [
    {
     "data": {
      "text/plain": [
       "[1, 2, 3, 3, 4, 5]"
      ]
     },
     "execution_count": 44,
     "metadata": {},
     "output_type": "execute_result"
    }
   ],
   "source": [
    "def insertion_sort(arr):\n",
    "    arr_length = len(arr)\n",
    "\n",
    "    for i in range(1, arr_length):\n",
    "        elem_ins = arr[i]\n",
    "        j = i\n",
    "        while j >= 1 and arr[j-1] > elem_ins:\n",
    "            arr[j] = arr[j -1]\n",
    "            j -= 1\n",
    "        arr[j] = elem_ins\n",
    "    return arr\n",
    "\n",
    "insertion_sort([3,4,5,2,3,1])"
   ]
  },
  {
   "cell_type": "code",
   "execution_count": 54,
   "metadata": {},
   "outputs": [
    {
     "data": {
      "text/plain": [
       "[1, 2, 3, 3, 4, 5]"
      ]
     },
     "execution_count": 54,
     "metadata": {},
     "output_type": "execute_result"
    }
   ],
   "source": [
    "def bubble_sort(arr):\n",
    "    for i in range(0, len(arr)):\n",
    "        for j in range(len(arr)-1, i, -1):\n",
    "            if arr[j] < arr[j-1]:\n",
    "                arr[j], arr[j-1] = arr[j-1], arr[j]\n",
    "    return arr\n",
    "\n",
    "bubble_sort([3,4,5,2,3,1])"
   ]
  },
  {
   "cell_type": "code",
   "execution_count": 55,
   "metadata": {},
   "outputs": [
    {
     "data": {
      "text/plain": [
       "[1, 2, 3, 3, 4, 5]"
      ]
     },
     "execution_count": 55,
     "metadata": {},
     "output_type": "execute_result"
    }
   ],
   "source": [
    "def selection_sort(arr):\n",
    "    for i in range(len(arr)):\n",
    "        min = i\n",
    "        for j in range(i+1, len(arr)):\n",
    "            if arr[j] < arr[min]:\n",
    "                min = j\n",
    "        arr[i], arr[min] = arr[min], arr[i]\n",
    "    \n",
    "    return arr\n",
    "\n",
    "selection_sort([3,4,5,2,3,1])"
   ]
  },
  {
   "cell_type": "code",
   "execution_count": null,
   "metadata": {},
   "outputs": [],
   "source": []
  }
 ],
 "metadata": {
  "kernelspec": {
   "display_name": "base",
   "language": "python",
   "name": "python3"
  },
  "language_info": {
   "codemirror_mode": {
    "name": "ipython",
    "version": 3
   },
   "file_extension": ".py",
   "mimetype": "text/x-python",
   "name": "python",
   "nbconvert_exporter": "python",
   "pygments_lexer": "ipython3",
   "version": "3.11.4"
  }
 },
 "nbformat": 4,
 "nbformat_minor": 2
}
