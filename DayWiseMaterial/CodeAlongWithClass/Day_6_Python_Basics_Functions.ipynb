{
 "cells": [
  {
   "cell_type": "code",
   "execution_count": null,
   "id": "110766e8-ed80-4744-bdee-0d55742d8336",
   "metadata": {},
   "outputs": [],
   "source": [
    "# Types of Arguments\n",
    "\n",
    "# Positional\n",
    "# Kwyword\n",
    "# Variable\n",
    "# default values"
   ]
  },
  {
   "cell_type": "code",
   "execution_count": 1,
   "id": "0157d605-ae75-4258-8a1b-d63787369d24",
   "metadata": {},
   "outputs": [
    {
     "ename": "TypeError",
     "evalue": "add() missing 1 required positional argument: 'b'",
     "output_type": "error",
     "traceback": [
      "\u001b[0;31m---------------------------------------------------------------------------\u001b[0m",
      "\u001b[0;31mTypeError\u001b[0m                                 Traceback (most recent call last)",
      "Cell \u001b[0;32mIn[1], line 6\u001b[0m\n\u001b[1;32m      3\u001b[0m \u001b[38;5;28;01mdef\u001b[39;00m \u001b[38;5;21madd\u001b[39m(a, b):\n\u001b[1;32m      4\u001b[0m     \u001b[38;5;28;01mreturn\u001b[39;00m a\u001b[38;5;241m+\u001b[39mb\n\u001b[0;32m----> 6\u001b[0m \u001b[43madd\u001b[49m\u001b[43m(\u001b[49m\u001b[38;5;241;43m2\u001b[39;49m\u001b[43m)\u001b[49m\n",
      "\u001b[0;31mTypeError\u001b[0m: add() missing 1 required positional argument: 'b'"
     ]
    }
   ],
   "source": [
    "# POsitional\n",
    "\n",
    "def add(a, b):\n",
    "    return a+b\n",
    "\n",
    "add(2)"
   ]
  },
  {
   "cell_type": "code",
   "execution_count": 3,
   "id": "21836675-e5f8-48cd-9c76-ce83f926a29c",
   "metadata": {},
   "outputs": [
    {
     "data": {
      "text/plain": [
       "7"
      ]
     },
     "execution_count": 3,
     "metadata": {},
     "output_type": "execute_result"
    }
   ],
   "source": [
    "add(3, 4)"
   ]
  },
  {
   "cell_type": "code",
   "execution_count": 7,
   "id": "f451cb4a-ae0b-40e2-9cb9-b4014868b78b",
   "metadata": {},
   "outputs": [
    {
     "data": {
      "text/plain": [
       "30"
      ]
     },
     "execution_count": 7,
     "metadata": {},
     "output_type": "execute_result"
    }
   ],
   "source": [
    "# Default value (optional arguments)\n",
    "\n",
    "def add1(a=10, b=20):\n",
    "    return a+b\n",
    "\n",
    "add1()"
   ]
  },
  {
   "cell_type": "code",
   "execution_count": 8,
   "id": "d43471ee-eaad-4002-b7c9-844d8c3c45f8",
   "metadata": {},
   "outputs": [
    {
     "data": {
      "text/plain": [
       "21"
      ]
     },
     "execution_count": 8,
     "metadata": {},
     "output_type": "execute_result"
    }
   ],
   "source": [
    "add1(1)"
   ]
  },
  {
   "cell_type": "code",
   "execution_count": 10,
   "id": "14ec206a-7ca2-4cd1-9800-563790fb2e67",
   "metadata": {},
   "outputs": [
    {
     "data": {
      "text/plain": [
       "9"
      ]
     },
     "execution_count": 10,
     "metadata": {},
     "output_type": "execute_result"
    }
   ],
   "source": [
    "add1(4,5)"
   ]
  },
  {
   "cell_type": "code",
   "execution_count": 12,
   "id": "5fc1566f-88d7-4bfa-9b82-c155c2b23b63",
   "metadata": {},
   "outputs": [
    {
     "name": "stdout",
     "output_type": "stream",
     "text": [
      "First name: PW\n",
      "Last name:  Skills\n"
     ]
    }
   ],
   "source": [
    "def display_info(first_name, last_name):\n",
    "    print('First name:', first_name)\n",
    "    print('Last name: ', last_name)\n",
    "    \n",
    "display_info(first_name='PW', last_name='Skills')"
   ]
  },
  {
   "cell_type": "code",
   "execution_count": 13,
   "id": "fbd59746-6e4e-4048-8b0f-50fe4b560a29",
   "metadata": {},
   "outputs": [],
   "source": [
    "# Variable number of arguments (Variable length)\n",
    "\n",
    "# *args and **kargs"
   ]
  },
  {
   "cell_type": "code",
   "execution_count": 14,
   "id": "6d40c891-a3ca-45ab-8a69-f8f0a3647464",
   "metadata": {},
   "outputs": [
    {
     "data": {
      "text/plain": [
       "0"
      ]
     },
     "execution_count": 14,
     "metadata": {},
     "output_type": "execute_result"
    }
   ],
   "source": [
    "def find_sum(*elements):\n",
    "    result = 0\n",
    "    for element in elements:\n",
    "        result += element\n",
    "    return result\n",
    "\n",
    "find_sum()"
   ]
  },
  {
   "cell_type": "code",
   "execution_count": 15,
   "id": "0ff90464-544e-4651-9a93-533548c216b4",
   "metadata": {},
   "outputs": [
    {
     "data": {
      "text/plain": [
       "3"
      ]
     },
     "execution_count": 15,
     "metadata": {},
     "output_type": "execute_result"
    }
   ],
   "source": [
    "find_sum(1,2)"
   ]
  },
  {
   "cell_type": "code",
   "execution_count": null,
   "id": "4fe5db16-a2a2-4e28-8a67-635612567c6f",
   "metadata": {},
   "outputs": [
    {
     "data": {
      "text/plain": [
       "114"
      ]
     },
     "execution_count": 16,
     "metadata": {},
     "output_type": "execute_result"
    }
   ],
   "source": [
    "find_sum(99, 4, 5, 6)"
   ]
  },
  {
   "cell_type": "code",
   "execution_count": 19,
   "id": "167a6273-b183-4d44-9fe1-11a4b32f8165",
   "metadata": {},
   "outputs": [
    {
     "name": "stdout",
     "output_type": "stream",
     "text": [
      "<class 'dict'>\n",
      "Key = Name, Value = Robin Pabbi\n",
      "Key = Experience, Value = 34\n"
     ]
    }
   ],
   "source": [
    "# Keyword arguments (**kargs)\n",
    "\n",
    "\n",
    "def intro(**data):\n",
    "    print(type(data))\n",
    "    \n",
    "    for key, value in data.items():\n",
    "        print(f'Key = {key}, Value = {value}')\n",
    "\n",
    "intro(Name= 'Robin Pabbi', Experience=34)"
   ]
  },
  {
   "cell_type": "code",
   "execution_count": null,
   "id": "a120be52-883e-4017-8602-b1fb94aceb57",
   "metadata": {},
   "outputs": [],
   "source": [
    "# Lambda function"
   ]
  },
  {
   "cell_type": "code",
   "execution_count": 20,
   "id": "f9b408b3-d7c4-4519-bb2c-7298731204b6",
   "metadata": {},
   "outputs": [
    {
     "name": "stdout",
     "output_type": "stream",
     "text": [
      "Hello world\n"
     ]
    }
   ],
   "source": [
    "# lambda arguments: function expression\n",
    "\n",
    "greet = lambda: print('Hello world')\n",
    "\n",
    "greet()"
   ]
  },
  {
   "cell_type": "code",
   "execution_count": 22,
   "id": "f676855d-1adf-42a0-b6eb-c5f86012ab4a",
   "metadata": {},
   "outputs": [
    {
     "data": {
      "text/plain": [
       "7"
      ]
     },
     "execution_count": 22,
     "metadata": {},
     "output_type": "execute_result"
    }
   ],
   "source": [
    "add = lambda a, b: a + b\n",
    "\n",
    "add(3,4)"
   ]
  },
  {
   "cell_type": "code",
   "execution_count": 23,
   "id": "4fe5ed12-2eed-4ac6-9d2b-653d60f1c3e7",
   "metadata": {},
   "outputs": [
    {
     "data": {
      "text/plain": [
       "20"
      ]
     },
     "execution_count": 23,
     "metadata": {},
     "output_type": "execute_result"
    }
   ],
   "source": [
    "mull = lambda a, b : a* b\n",
    "\n",
    "mull(4, 5)"
   ]
  },
  {
   "cell_type": "code",
   "execution_count": 25,
   "id": "7f801854-2865-4598-8c9b-0554a1e84d3e",
   "metadata": {},
   "outputs": [
    {
     "data": {
      "text/plain": [
       "True"
      ]
     },
     "execution_count": 25,
     "metadata": {},
     "output_type": "execute_result"
    }
   ],
   "source": [
    "is_even = lambda n: n%2 == 0\n",
    "is_even(2)"
   ]
  },
  {
   "cell_type": "code",
   "execution_count": 26,
   "id": "87dee68e-3e1b-4026-92f7-d02048928a7c",
   "metadata": {},
   "outputs": [
    {
     "data": {
      "text/plain": [
       "5"
      ]
     },
     "execution_count": 26,
     "metadata": {},
     "output_type": "execute_result"
    }
   ],
   "source": [
    "max_num = lambda a,b : a if a >= b else b\n",
    "\n",
    "max(4,5)"
   ]
  },
  {
   "cell_type": "code",
   "execution_count": 27,
   "id": "ea9f3204-18c2-4336-8979-4cd6d21b6a67",
   "metadata": {},
   "outputs": [
    {
     "data": {
      "text/plain": [
       "['o', 'i']"
      ]
     },
     "execution_count": 27,
     "metadata": {},
     "output_type": "execute_result"
    }
   ],
   "source": [
    "\n",
    "is_vowel = lambda char: char in 'aeiouAEIOU'\n",
    "\n",
    "extract_vowel = lambda word : [ char for char in word if char in 'aeiouAEIOU']\n",
    "\n",
    "extract_vowel('Robin')"
   ]
  },
  {
   "cell_type": "code",
   "execution_count": 29,
   "id": "9527d403-0955-4943-b6a4-00e7dd57fb1d",
   "metadata": {},
   "outputs": [
    {
     "data": {
      "text/plain": [
       "['Not a even or Three',\n",
       " 'Even',\n",
       " 'Three',\n",
       " 'Even',\n",
       " 'Not a even or Three',\n",
       " 'Even',\n",
       " 'Not a even or Three',\n",
       " 'Even']"
      ]
     },
     "execution_count": 29,
     "metadata": {},
     "output_type": "execute_result"
    }
   ],
   "source": [
    "list1 = [1,2,3,4,5,6,7,8]\n",
    "\n",
    "[ 'Even' if num % 2 == 0 else 'Three' if num == 3 else 'Not a even or Three' for num in list1]"
   ]
  },
  {
   "cell_type": "code",
   "execution_count": 1,
   "id": "d8669b1c-d94f-4411-a738-f9e4b4544abd",
   "metadata": {},
   "outputs": [],
   "source": [
    "l1 = [1,2,3,4,5,6,7,8,9]\n",
    "\n",
    "s = lambda l: sum([num for num in l if num % 2 == 1])"
   ]
  },
  {
   "cell_type": "code",
   "execution_count": 2,
   "id": "4e39e584-be71-4d4f-8195-31985bc8d441",
   "metadata": {},
   "outputs": [
    {
     "data": {
      "text/plain": [
       "<function __main__.<lambda>(l)>"
      ]
     },
     "execution_count": 2,
     "metadata": {},
     "output_type": "execute_result"
    }
   ],
   "source": [
    "s"
   ]
  },
  {
   "cell_type": "code",
   "execution_count": 3,
   "id": "e47036df-dfb5-4221-9234-a772c317ea9f",
   "metadata": {},
   "outputs": [
    {
     "data": {
      "text/plain": [
       "25"
      ]
     },
     "execution_count": 3,
     "metadata": {},
     "output_type": "execute_result"
    }
   ],
   "source": [
    "s(l1)"
   ]
  },
  {
   "cell_type": "code",
   "execution_count": 3,
   "id": "b5c63714-84b1-4826-9d6d-cee67a5498f5",
   "metadata": {},
   "outputs": [
    {
     "data": {
      "text/plain": [
       "[3, 4, 5, 6, 7, 8]"
      ]
     },
     "execution_count": 3,
     "metadata": {},
     "output_type": "execute_result"
    }
   ],
   "source": [
    "l = [1,2,3,4,5,6]\n",
    "adder = lambda x: x + 2\n",
    "\n",
    "list(map(adder, l))"
   ]
  },
  {
   "cell_type": "code",
   "execution_count": 4,
   "id": "66c5ab5f-34ea-40e7-bcd9-1b28cfdac2d1",
   "metadata": {},
   "outputs": [],
   "source": [
    "list_of_names = ['Robin', 'Pabbi']\n",
    "\n",
    "lengths = list(map(len, list_of_names))"
   ]
  },
  {
   "cell_type": "code",
   "execution_count": 5,
   "id": "3d7b03af-ef58-423d-9bf2-9e4e0c0ed778",
   "metadata": {},
   "outputs": [
    {
     "data": {
      "text/plain": [
       "[5, 5]"
      ]
     },
     "execution_count": 5,
     "metadata": {},
     "output_type": "execute_result"
    }
   ],
   "source": [
    "lengths"
   ]
  },
  {
   "cell_type": "code",
   "execution_count": 7,
   "id": "9bd765de-7eb0-4ea7-9d6d-568015923618",
   "metadata": {},
   "outputs": [
    {
     "data": {
      "text/plain": [
       "48"
      ]
     },
     "execution_count": 7,
     "metadata": {},
     "output_type": "execute_result"
    }
   ],
   "source": [
    "from functools import reduce\n",
    "\n",
    "reduce(lambda a,b: a * b, [num for num in l if num % 2 == 0])"
   ]
  },
  {
   "cell_type": "code",
   "execution_count": 8,
   "id": "42f25670-8a3b-494b-8f63-36c3d5fdc76e",
   "metadata": {},
   "outputs": [
    {
     "data": {
      "text/plain": [
       "[1, 2, 3, 4, 5, 6]"
      ]
     },
     "execution_count": 8,
     "metadata": {},
     "output_type": "execute_result"
    }
   ],
   "source": [
    "l"
   ]
  },
  {
   "cell_type": "code",
   "execution_count": 11,
   "id": "5d93a035-0d8d-4faf-9d5b-ffccb73e4750",
   "metadata": {},
   "outputs": [
    {
     "data": {
      "text/plain": [
       "[2, 4, 6]"
      ]
     },
     "execution_count": 11,
     "metadata": {},
     "output_type": "execute_result"
    }
   ],
   "source": [
    "list(filter(lambda x: x % 2 == 0, l))"
   ]
  },
  {
   "cell_type": "code",
   "execution_count": 12,
   "id": "8f6af968-40d7-4aef-8c88-7a4016bf9c80",
   "metadata": {},
   "outputs": [
    {
     "data": {
      "text/plain": [
       "['w', 'k', 'i', 'l', 'l', 's']"
      ]
     },
     "execution_count": 12,
     "metadata": {},
     "output_type": "execute_result"
    }
   ],
   "source": [
    "s = 'PwSkills'\n",
    "\n",
    "list(filter(lambda x: x.islower(), s))"
   ]
  },
  {
   "cell_type": "code",
   "execution_count": null,
   "id": "ea04063b-34c1-4a38-8b27-2be53ae19f17",
   "metadata": {},
   "outputs": [],
   "source": []
  }
 ],
 "metadata": {
  "kernelspec": {
   "display_name": "Python 3 (ipykernel)",
   "language": "python",
   "name": "python3"
  },
  "language_info": {
   "codemirror_mode": {
    "name": "ipython",
    "version": 3
   },
   "file_extension": ".py",
   "mimetype": "text/x-python",
   "name": "python",
   "nbconvert_exporter": "python",
   "pygments_lexer": "ipython3",
   "version": "3.10.8"
  }
 },
 "nbformat": 4,
 "nbformat_minor": 5
}
