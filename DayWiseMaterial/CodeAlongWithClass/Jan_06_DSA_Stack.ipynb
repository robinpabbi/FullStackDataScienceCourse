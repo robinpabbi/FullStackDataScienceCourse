{
 "cells": [
  {
   "cell_type": "markdown",
   "metadata": {},
   "source": [
    "## Stack"
   ]
  },
  {
   "cell_type": "code",
   "execution_count": 4,
   "metadata": {},
   "outputs": [],
   "source": [
    "class Stack:\n",
    "    def __init__(self, size) -> None:\n",
    "        self.__stack_arr = [None]*size\n",
    "        self.__capacity = size\n",
    "        self.__top = -1\n",
    "\n",
    "    def isEmpty(self):\n",
    "        return self.__top == -1\n",
    "    \n",
    "    def isFull(self):\n",
    "        return self.__top == (self.__capacity - 1)\n",
    "\n",
    "    def push(self, data):\n",
    "        if self.isFull():\n",
    "            print('Capacity reached, Stack Overflow!.')\n",
    "            return\n",
    "        self.__top += 1\n",
    "        self.__stack_arr[self.__top] = data\n",
    "    \n",
    "    def peek(self):\n",
    "        if self.isEmpty():\n",
    "            print('No element to peek!')\n",
    "            return None\n",
    "        return self.__stack_arr[self.__top]\n",
    "    \n",
    "    def pop(self):\n",
    "        if self.isEmpty():\n",
    "            print('No element to pop!, Stack Underflow!')\n",
    "            return None\n",
    "        data = self.__stack_arr[self.__top]\n",
    "        self.__stack_arr[self.__top] = None\n",
    "        self.__top -= 1\n",
    "        return data\n",
    "\n",
    "    def print(self):\n",
    "        if self.isEmpty():\n",
    "            print('No element to print!')\n",
    "            return\n",
    "        for i in range(self.__top, -1, -1):\n",
    "            print(self.__stack_arr[i])\n",
    "\n",
    "    def size(self):\n",
    "        return self.__top + 1\n"
   ]
  },
  {
   "cell_type": "code",
   "execution_count": 5,
   "metadata": {},
   "outputs": [
    {
     "name": "stdout",
     "output_type": "stream",
     "text": [
      "6\n",
      "4\n",
      "3\n",
      "2\n",
      "1\n"
     ]
    }
   ],
   "source": [
    "stk = Stack(5)\n",
    "stk.push(1)\n",
    "stk.push(2)\n",
    "stk.push(3)\n",
    "stk.push(4)\n",
    "stk.push(5)\n",
    "stk.pop()\n",
    "stk.push(6)\n",
    "\n",
    "stk.print()"
   ]
  },
  {
   "cell_type": "code",
   "execution_count": 20,
   "metadata": {},
   "outputs": [],
   "source": [
    "class LinkedListNode:\n",
    "\n",
    "    def __init__(self, data, next = None):\n",
    "        self.__data = data\n",
    "        self.__next = next\n",
    "    \n",
    "    def getData(self):\n",
    "        return self.__data\n",
    "    \n",
    "    def setData(self, data):\n",
    "        self.__data = data\n",
    "    \n",
    "    def getNext(self):\n",
    "        return self.__next\n",
    "    \n",
    "    def setNext(self, next):\n",
    "        self.__next = next\n",
    "\n",
    "class StackUsingList:\n",
    "    def __init__(self) -> None:\n",
    "        self.__head = None\n",
    "        self.__count = 0\n",
    "\n",
    "    def isEmpty(self):\n",
    "        return self.__head == None\n",
    "    \n",
    "    def push(self, data):\n",
    "        self.__head = LinkedListNode(data, self.__head)\n",
    "        self.__count += 1\n",
    "    \n",
    "    def peek(self):\n",
    "        if self.isEmpty():\n",
    "            print('No element to peek!')\n",
    "            return None\n",
    "        return self.__head.getData()\n",
    "    \n",
    "    def pop(self):\n",
    "        if self.isEmpty():\n",
    "            print('No element to pop!, Stack Underflow!')\n",
    "            return None\n",
    "        data = self.__head.getData()\n",
    "        self.__head = self.__head.getNext()\n",
    "        self.__count -= 1\n",
    "        return data\n",
    "\n",
    "    def size(self):\n",
    "        return self.__count\n",
    "    \n",
    "    def print(self):\n",
    "        current_node = self.__head\n",
    "        while current_node:\n",
    "            print(current_node.getData())\n",
    "            current_node = current_node.getNext()\n"
   ]
  },
  {
   "cell_type": "markdown",
   "metadata": {},
   "source": [
    "### Balance paranthesis problem"
   ]
  },
  {
   "cell_type": "code",
   "execution_count": 34,
   "metadata": {},
   "outputs": [],
   "source": [
    "def areBracketsBalanced(exp):\n",
    "\n",
    "  #Define a stack object\n",
    "  stack = StackUsingList()\n",
    "\n",
    "  #iterate through each bracket in the given exp\n",
    "  for c in exp :\n",
    "    if c in ['(','{','['] :\n",
    "      stack.push(c)  #if c is one of the opening bracket, then push to the stack\n",
    "    else :\n",
    "      if stack.isEmpty():\n",
    "        return False\n",
    "      char = stack.pop()\n",
    "      if  char == \"(\" and c != \")\":\n",
    "        return False\n",
    "      elif char == \"{\" and c != \"}\":\n",
    "        return False\n",
    "      elif char == \"[\" and c != \"]\":\n",
    "        return False\n",
    "  return stack.isEmpty()"
   ]
  },
  {
   "cell_type": "code",
   "execution_count": 36,
   "metadata": {},
   "outputs": [
    {
     "name": "stdout",
     "output_type": "stream",
     "text": [
      "False\n",
      "True\n"
     ]
    }
   ],
   "source": [
    "print(areBracketsBalanced(\"{[{}}]\"))\n",
    "print(areBracketsBalanced(\"{[{}]}\"))"
   ]
  },
  {
   "cell_type": "markdown",
   "metadata": {},
   "source": [
    "### Problem: Delete middle element of stack. Using only stack operations"
   ]
  },
  {
   "cell_type": "code",
   "execution_count": 23,
   "metadata": {},
   "outputs": [
    {
     "name": "stdout",
     "output_type": "stream",
     "text": [
      "5\n",
      "4\n",
      "3\n",
      "2\n",
      "1\n",
      "After removal\n",
      "5\n",
      "4\n",
      "2\n",
      "1\n"
     ]
    }
   ],
   "source": [
    "def deleteMiddleElement(stack: Stack) -> Stack:\n",
    "    if stack.isEmpty():\n",
    "        print('Can not removed from empty stack')\n",
    "        return stack\n",
    "\n",
    "    stack_count = stack.size()\n",
    "\n",
    "    temp_stack = StackUsingList()\n",
    "\n",
    "    counter = 0\n",
    "\n",
    "    while counter < (stack_count//2):\n",
    "        temp_stack.push(stack.pop())\n",
    "        counter += 1\n",
    "    \n",
    "    stack.pop()\n",
    "\n",
    "    while not temp_stack.isEmpty():\n",
    "        stack.push(temp_stack.pop())\n",
    "    \n",
    "    return stack\n",
    "\n",
    "\n",
    "stk = Stack(5)\n",
    "stk.push(1)\n",
    "stk.push(2)\n",
    "stk.push(3)\n",
    "stk.push(4)\n",
    "stk.push(5)\n",
    "\n",
    "stk.print()\n",
    "\n",
    "deleteMiddleElement(stk)\n",
    "print('After removal')\n",
    "stk.print()"
   ]
  },
  {
   "cell_type": "code",
   "execution_count": 32,
   "metadata": {},
   "outputs": [
    {
     "name": "stdout",
     "output_type": "stream",
     "text": [
      "5\n",
      "4\n",
      "2\n",
      "1\n"
     ]
    }
   ],
   "source": [
    "def deleteMiddleElementRecursive(stack: Stack, sizeOfStack: int, currentIndex: int = 0) -> Stack:\n",
    "    if stack.isEmpty() or currentIndex > ((sizeOfStack//2) + 1):\n",
    "        return stack\n",
    "    \n",
    "    value = stack.pop()\n",
    "    deleteMiddleElementRecursive(stack, sizeOfStack, currentIndex + 1)\n",
    "\n",
    "    if currentIndex != (sizeOfStack // 2):\n",
    "        stack.push(value)\n",
    "\n",
    "\n",
    "\n",
    "stk = Stack(5)\n",
    "stk.push(1)\n",
    "stk.push(2)\n",
    "stk.push(3)\n",
    "stk.push(4)\n",
    "stk.push(5)\n",
    "\n",
    "deleteMiddleElementRecursive(stk, stk.size())\n",
    "\n",
    "stk.print()"
   ]
  },
  {
   "cell_type": "code",
   "execution_count": null,
   "metadata": {},
   "outputs": [],
   "source": []
  }
 ],
 "metadata": {
  "kernelspec": {
   "display_name": "base",
   "language": "python",
   "name": "python3"
  },
  "language_info": {
   "codemirror_mode": {
    "name": "ipython",
    "version": 3
   },
   "file_extension": ".py",
   "mimetype": "text/x-python",
   "name": "python",
   "nbconvert_exporter": "python",
   "pygments_lexer": "ipython3",
   "version": "3.11.4"
  }
 },
 "nbformat": 4,
 "nbformat_minor": 2
}
