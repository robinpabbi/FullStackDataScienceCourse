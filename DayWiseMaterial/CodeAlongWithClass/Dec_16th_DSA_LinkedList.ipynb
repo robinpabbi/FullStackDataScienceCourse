{
 "cells": [
  {
   "cell_type": "markdown",
   "metadata": {},
   "source": [
    "## Linked List"
   ]
  },
  {
   "cell_type": "code",
   "execution_count": 2,
   "metadata": {},
   "outputs": [],
   "source": [
    "class Node:\n",
    "\n",
    "    def __init__(self, data, next = None):\n",
    "        self.data = data\n",
    "        self.next = next\n",
    "    \n",
    "    def setData(self, data):\n",
    "        self.data = data\n",
    "\n",
    "    def getData(self):\n",
    "        return self.data\n",
    "    \n",
    "    def getNext(self):\n",
    "        return self.next\n",
    "    \n",
    "    def setNext(self, next):\n",
    "        self.next = next"
   ]
  },
  {
   "cell_type": "code",
   "execution_count": 3,
   "metadata": {},
   "outputs": [],
   "source": [
    "head = Node(1)\n",
    "node2 = Node(2)\n",
    "node3 = Node(3)\n",
    "node4 = Node(4)\n",
    "\n",
    "head.setNext(node2)\n",
    "node2.setNext(node3)\n",
    "node3.setNext(node4)"
   ]
  },
  {
   "cell_type": "code",
   "execution_count": 6,
   "metadata": {},
   "outputs": [
    {
     "name": "stdout",
     "output_type": "stream",
     "text": [
      "1->2->3->4->"
     ]
    }
   ],
   "source": [
    "def traverse():\n",
    "    temp = head\n",
    "    while(temp):\n",
    "        print(temp.getData(), end=\"->\")\n",
    "        temp = temp.getNext()\n",
    "\n",
    "traverse()"
   ]
  },
  {
   "cell_type": "code",
   "execution_count": 8,
   "metadata": {},
   "outputs": [
    {
     "name": "stdout",
     "output_type": "stream",
     "text": [
      "1->2->3->4->"
     ]
    }
   ],
   "source": [
    "def traverse_recursive(node):\n",
    "    if not node:\n",
    "        return\n",
    "    print(node.getData(), end=\"->\")\n",
    "    traverse_recursive(node.getNext())\n",
    "\n",
    "traverse_recursive(head)"
   ]
  },
  {
   "cell_type": "code",
   "execution_count": 9,
   "metadata": {},
   "outputs": [
    {
     "data": {
      "text/plain": [
       "4"
      ]
     },
     "execution_count": 9,
     "metadata": {},
     "output_type": "execute_result"
    }
   ],
   "source": [
    "def length(head):\n",
    "    counter = 0\n",
    "    temp = head\n",
    "    while(temp):\n",
    "        temp = temp.getNext()\n",
    "        counter += 1\n",
    "    return counter\n",
    "\n",
    "length(head)"
   ]
  },
  {
   "cell_type": "code",
   "execution_count": 13,
   "metadata": {},
   "outputs": [
    {
     "data": {
      "text/plain": [
       "4"
      ]
     },
     "execution_count": 13,
     "metadata": {},
     "output_type": "execute_result"
    }
   ],
   "source": [
    "def length_recursive(node):\n",
    "    if not node:\n",
    "        return 0\n",
    "    \n",
    "    return 1+length_recursive(node.getNext())\n",
    "\n",
    "length_recursive(head)"
   ]
  },
  {
   "cell_type": "code",
   "execution_count": 17,
   "metadata": {},
   "outputs": [
    {
     "name": "stdout",
     "output_type": "stream",
     "text": [
      "1->2->3->4->"
     ]
    }
   ],
   "source": [
    "def insert(head, data, k):\n",
    "    length_of_list = length_recursive(head)\n",
    "\n",
    "    if k > length_of_list or k < 0:\n",
    "        print(\"Not valid index to insert new node\")\n",
    "        return head\n",
    "    \n",
    "    newNode = Node(data)\n",
    "\n",
    "    if k == 0:\n",
    "        ## insert at start loc\n",
    "        newNode.setNext(head)\n",
    "        return newNode\n",
    "    else:\n",
    "        ## Insert in between or at end\n",
    "        ## We keeep track of prev\n",
    "        prevNode = head\n",
    "        iterCount = 0\n",
    "        while(iterCount < k-1):\n",
    "            prevNode = prevNode.getNext()\n",
    "            iterCount += 1\n",
    "        \n",
    "        newNode.setNext(prevNode.getNext())\n",
    "        prevNode.setNext(newNode)\n",
    "        return head\n",
    "\n",
    "traverse_recursive(head)"
   ]
  },
  {
   "cell_type": "code",
   "execution_count": 20,
   "metadata": {},
   "outputs": [
    {
     "name": "stdout",
     "output_type": "stream",
     "text": [
      "1->2->3->4->5->5->"
     ]
    }
   ],
   "source": [
    "insert(head, 5, 4)\n",
    " \n",
    "traverse_recursive(head)"
   ]
  },
  {
   "cell_type": "code",
   "execution_count": 21,
   "metadata": {},
   "outputs": [
    {
     "data": {
      "text/plain": [
       "<__main__.Node at 0x1eb99005bd0>"
      ]
     },
     "execution_count": 21,
     "metadata": {},
     "output_type": "execute_result"
    }
   ],
   "source": [
    "def delete(head, k):\n",
    "    length_of_list = length_recursive(head)\n",
    "\n",
    "    if k >= length_of_list or k < 0 or not head:\n",
    "        print(\"Not valid index to delete a node\")\n",
    "        return head\n",
    "    \n",
    "    if k == 0:\n",
    "        # Delete head node\n",
    "        head.setNext(None)\n",
    "        return head.getNext()\n",
    "    else:\n",
    "        # Deletion of node in between or last\n",
    "        prev = head\n",
    "        iterCount = 0\n",
    "\n",
    "        while(iterCount < k-1):\n",
    "            prev = prev.getNext()\n",
    "            iterCount += 1\n",
    "        \n",
    "        nodeToDelete = prev.getNext()\n",
    "        prev.setNext(nodeToDelete.getNext())\n",
    "        nodeToDelete.setNext(None)\n",
    "        return head\n",
    "\n",
    "delete(head, 5)"
   ]
  },
  {
   "cell_type": "code",
   "execution_count": 23,
   "metadata": {},
   "outputs": [
    {
     "name": "stdout",
     "output_type": "stream",
     "text": [
      "1->2->3->4->5->"
     ]
    }
   ],
   "source": [
    "traverse_recursive(head)"
   ]
  }
 ],
 "metadata": {
  "kernelspec": {
   "display_name": "base",
   "language": "python",
   "name": "python3"
  },
  "language_info": {
   "codemirror_mode": {
    "name": "ipython",
    "version": 3
   },
   "file_extension": ".py",
   "mimetype": "text/x-python",
   "name": "python",
   "nbconvert_exporter": "python",
   "pygments_lexer": "ipython3",
   "version": "3.11.4"
  }
 },
 "nbformat": 4,
 "nbformat_minor": 2
}
