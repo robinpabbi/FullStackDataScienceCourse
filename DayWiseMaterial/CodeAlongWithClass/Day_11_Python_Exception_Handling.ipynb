{
 "cells": [
  {
   "cell_type": "markdown",
   "id": "7c455b66-c8b0-4480-bb93-60caab5dc890",
   "metadata": {},
   "source": [
    "### Exception Handling"
   ]
  },
  {
   "cell_type": "code",
   "execution_count": 1,
   "id": "1cc8be80-19d7-40ba-82f6-6dbab28f2d1c",
   "metadata": {},
   "outputs": [],
   "source": [
    "a = 1\n",
    "b = 0"
   ]
  },
  {
   "cell_type": "code",
   "execution_count": 2,
   "id": "80d72f53-b757-4c82-b8b5-2b22984ad884",
   "metadata": {},
   "outputs": [
    {
     "data": {
      "text/plain": [
       "1"
      ]
     },
     "execution_count": 2,
     "metadata": {},
     "output_type": "execute_result"
    }
   ],
   "source": [
    "a + b"
   ]
  },
  {
   "cell_type": "code",
   "execution_count": 3,
   "id": "34babe67-3b41-4c49-895c-3c473667f0f0",
   "metadata": {},
   "outputs": [
    {
     "ename": "ZeroDivisionError",
     "evalue": "division by zero",
     "output_type": "error",
     "traceback": [
      "\u001b[0;31m---------------------------------------------------------------------------\u001b[0m",
      "\u001b[0;31mZeroDivisionError\u001b[0m                         Traceback (most recent call last)",
      "Cell \u001b[0;32mIn[3], line 1\u001b[0m\n\u001b[0;32m----> 1\u001b[0m \u001b[43ma\u001b[49m\u001b[43m \u001b[49m\u001b[38;5;241;43m/\u001b[39;49m\u001b[43m \u001b[49m\u001b[43mb\u001b[49m\n\u001b[1;32m      2\u001b[0m \u001b[38;5;28mprint\u001b[39m(\u001b[38;5;124m\"\u001b[39m\u001b[38;5;124mWill not print because of error above\u001b[39m\u001b[38;5;124m\"\u001b[39m)\n",
      "\u001b[0;31mZeroDivisionError\u001b[0m: division by zero"
     ]
    }
   ],
   "source": [
    "a / b\n",
    "print(\"Will not print because of error above\")"
   ]
  },
  {
   "cell_type": "code",
   "execution_count": null,
   "id": "289965ba-152e-4e21-9818-7fe420f7f7c2",
   "metadata": {},
   "outputs": [],
   "source": [
    "l = [2,3,4,5,6,7,9,0]\n",
    "\n",
    "def get_even_numbers(li):\n",
    "    result = []\n",
    "    for num in li:\n",
    "        if num%2 == 0:\n",
    "            result.append(num)\n",
    "    return result\n"
   ]
  },
  {
   "cell_type": "code",
   "execution_count": null,
   "id": "4acdff6f-2238-4886-8cd5-00806b948ea4",
   "metadata": {},
   "outputs": [],
   "source": [
    "get_even_numbers(l)"
   ]
  },
  {
   "cell_type": "code",
   "execution_count": null,
   "id": "a071166d-c2db-4e82-bb8a-0c15f9b5af3b",
   "metadata": {},
   "outputs": [],
   "source": [
    "get_even_numbers('123')\n",
    "print(\"Will not print because of error above\")"
   ]
  },
  {
   "cell_type": "code",
   "execution_count": null,
   "id": "214b2088-ccfc-4792-9af7-6770c0979da5",
   "metadata": {},
   "outputs": [],
   "source": [
    "try:\n",
    "    get_even_numbers('123')\n",
    "except:\n",
    "    pass\n",
    "\n",
    "\n",
    "print(\"Will print now because of error handling\")"
   ]
  },
  {
   "cell_type": "code",
   "execution_count": null,
   "id": "135d3d55-f327-44c8-a013-0617c359ce4a",
   "metadata": {},
   "outputs": [],
   "source": [
    "try:\n",
    "    c = 4/0\n",
    "except Exception as e:\n",
    "    print(e)"
   ]
  },
  {
   "cell_type": "code",
   "execution_count": null,
   "id": "ad68c53e-981e-4766-a573-eb477abc28c2",
   "metadata": {},
   "outputs": [],
   "source": [
    "try:\n",
    "    c = 4/0\n",
    "except ZeroDivisionError as e:\n",
    "    print(\"Error: Can not divide by zero.\")\n",
    "except Exception as e:\n",
    "    print(e)"
   ]
  },
  {
   "cell_type": "code",
   "execution_count": null,
   "id": "685f9fd9-3824-4fac-bbab-99024c407574",
   "metadata": {},
   "outputs": [],
   "source": [
    "try:\n",
    "    a = int(input())\n",
    "    b = int(input())\n",
    "    c = 4/0\n",
    "except ValueError as e:\n",
    "    print(\"Error: Can not convert to integer.\", e)\n",
    "except ZeroDivisionError as e:\n",
    "    print(\"Error: Can not divide by zero.\", e)\n",
    "except Exception as e:\n",
    "    print(e)"
   ]
  },
  {
   "cell_type": "code",
   "execution_count": null,
   "id": "5fb6ce57-b6fe-43cd-a24c-508ec34189cf",
   "metadata": {},
   "outputs": [],
   "source": [
    "try:\n",
    "    a = int(input())\n",
    "    b = int(input())\n",
    "    c = 4/0\n",
    "except ValueError as e:\n",
    "    print(\"Error: Can not convert to integer.\", e)\n",
    "except ZeroDivisionError as e:\n",
    "    print(\"Error: Can not divide by zero.\", e)\n",
    "except Exception as e:\n",
    "    print(e)\n",
    "else:\n",
    "    print('Everything executed successfully')"
   ]
  },
  {
   "cell_type": "code",
   "execution_count": null,
   "id": "666e2f74-5a16-4539-9c69-d07681256883",
   "metadata": {},
   "outputs": [],
   "source": [
    "try:\n",
    "    a = int(input())\n",
    "    b = int(input())\n",
    "    c = a/b\n",
    "except ValueError as e:\n",
    "    print(\"Error: Can not convert to integer.\", e)\n",
    "except ZeroDivisionError as e:\n",
    "    print(\"Error: Can not divide by zero.\", e)\n",
    "except Exception as e:\n",
    "    print(e)\n",
    "else:\n",
    "    print('Everything executed successfully')"
   ]
  },
  {
   "cell_type": "code",
   "execution_count": null,
   "id": "bcb0d26d-e36d-40a8-9fa9-2f03615982e1",
   "metadata": {},
   "outputs": [],
   "source": [
    "try:\n",
    "    a = int(input())\n",
    "    b = int(input())\n",
    "    c = a/b\n",
    "except ValueError as e:\n",
    "    print(\"Error: Can not convert to integer.\", e)\n",
    "except ZeroDivisionError as e:\n",
    "    print(\"Error: Can not divide by zero.\", e)\n",
    "except Exception as e:\n",
    "    print(e)\n",
    "else:\n",
    "    print('Everything executed successfully')\n",
    "finally:\n",
    "    print('Executed everytime!')"
   ]
  },
  {
   "cell_type": "code",
   "execution_count": null,
   "id": "c0333742-8f8c-4ddf-b314-d2b2c1f5d9a2",
   "metadata": {},
   "outputs": [],
   "source": [
    "try:\n",
    "    a = int(input())\n",
    "    b = int(input())\n",
    "    c = a/b\n",
    "except ValueError as e:\n",
    "    print(\"Error: Can not convert to integer.\", e)\n",
    "except ZeroDivisionError as e:\n",
    "    print(\"Error: Can not divide by zero.\", e)\n",
    "except Exception as e:\n",
    "    print(e)\n",
    "else:\n",
    "    print('Everything executed successfully')\n",
    "finally:\n",
    "    print('Executed everytime!')"
   ]
  },
  {
   "cell_type": "code",
   "execution_count": null,
   "id": "b5e6cd30-42db-4c80-b87f-50ae0ac2d67b",
   "metadata": {},
   "outputs": [],
   "source": [
    "file_name = 'test1.txt'\n",
    "\n",
    "f = open(file_name)\n",
    "f.read()"
   ]
  },
  {
   "cell_type": "code",
   "execution_count": null,
   "id": "9aa36b12-d26d-4f2a-966f-8fcdaa1aba1b",
   "metadata": {},
   "outputs": [],
   "source": [
    "file_name = 'test1.txt'\n",
    "\n",
    "f = open(file_name)\n",
    "f.read()"
   ]
  },
  {
   "cell_type": "code",
   "execution_count": null,
   "id": "89433490-bf88-4ddf-9e07-6bbb833bcb14",
   "metadata": {},
   "outputs": [],
   "source": [
    "pwd"
   ]
  },
  {
   "cell_type": "code",
   "execution_count": null,
   "id": "8b155606-1b3d-4267-868f-26df6a582f85",
   "metadata": {},
   "outputs": [],
   "source": [
    "try:\n",
    "    a = int(input('Enter height of wall'))\n",
    "    if a < 0:\n",
    "        raise Exception('Height can not be negative')\n",
    "except Exception as v:\n",
    "    print(v)"
   ]
  },
  {
   "cell_type": "markdown",
   "id": "10085910-43ec-4411-86f3-e41a115b9977",
   "metadata": {},
   "source": [
    "### Logging"
   ]
  },
  {
   "cell_type": "code",
   "execution_count": 4,
   "id": "f9bc1985-bd60-47b4-8299-a78190ea17aa",
   "metadata": {},
   "outputs": [],
   "source": [
    "# Import logging\n",
    "import logging as log"
   ]
  },
  {
   "cell_type": "code",
   "execution_count": 5,
   "id": "f540a496-47a2-402c-a86e-c5c541d09198",
   "metadata": {},
   "outputs": [],
   "source": [
    "# Log basic config\n",
    "log.basicConfig(filename = 'test.log',level = log.INFO, format='%(asctime)s- %(levelname)s - %(message)s')"
   ]
  },
  {
   "cell_type": "code",
   "execution_count": 6,
   "id": "35af0d7d-4f69-47eb-96ca-bc1579906e4f",
   "metadata": {},
   "outputs": [],
   "source": [
    "log.info('Test message')"
   ]
  },
  {
   "cell_type": "code",
   "execution_count": 7,
   "id": "9f2d5904-7939-462f-a499-a055675201fe",
   "metadata": {},
   "outputs": [],
   "source": [
    "log.debug('Debug msg')"
   ]
  },
  {
   "cell_type": "code",
   "execution_count": 8,
   "id": "bfc12cac-4cc5-4520-95c9-0ff53b99f3b4",
   "metadata": {},
   "outputs": [],
   "source": [
    "log.warning('Warn msg')"
   ]
  },
  {
   "cell_type": "code",
   "execution_count": 9,
   "id": "a192e478-f6d4-4ff7-a982-4af58650c3e8",
   "metadata": {},
   "outputs": [],
   "source": [
    "log.error('Error msg')"
   ]
  },
  {
   "cell_type": "code",
   "execution_count": 10,
   "id": "7b2a1cae-5ac8-4308-bbc2-e33db7aa0b3a",
   "metadata": {},
   "outputs": [],
   "source": [
    "log.critical('Critical msg')"
   ]
  },
  {
   "cell_type": "code",
   "execution_count": null,
   "id": "8424f002-450e-41a0-9146-5a8f616d730b",
   "metadata": {},
   "outputs": [],
   "source": [
    "# DEBUG = 10\n",
    "# INFO = 20\n",
    "# DEBUG = 30\n",
    "# WARNING = 40\n",
    "# CRITICAL = 50"
   ]
  }
 ],
 "metadata": {
  "kernelspec": {
   "display_name": "Python 3 (ipykernel)",
   "language": "python",
   "name": "python3"
  },
  "language_info": {
   "codemirror_mode": {
    "name": "ipython",
    "version": 3
   },
   "file_extension": ".py",
   "mimetype": "text/x-python",
   "name": "python",
   "nbconvert_exporter": "python",
   "pygments_lexer": "ipython3",
   "version": "3.10.8"
  }
 },
 "nbformat": 4,
 "nbformat_minor": 5
}
