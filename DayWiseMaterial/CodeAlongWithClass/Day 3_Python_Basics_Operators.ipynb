{
 "cells": [
  {
   "cell_type": "markdown",
   "id": "b02106ae-e001-477a-bfbc-25f56125dfb8",
   "metadata": {
    "jp-MarkdownHeadingCollapsed": true,
    "tags": []
   },
   "source": [
    "### Python Basics - Day 3"
   ]
  },
  {
   "cell_type": "markdown",
   "id": "e19de082-6e39-4c0b-89d9-169d9affbb56",
   "metadata": {},
   "source": [
    "#### String - formatting"
   ]
  },
  {
   "cell_type": "code",
   "execution_count": 1,
   "id": "d80876ce-24b1-46ff-8b9e-fcfffe83d5f2",
   "metadata": {},
   "outputs": [
    {
     "name": "stdout",
     "output_type": "stream",
     "text": [
      "My name is Robin\n"
     ]
    }
   ],
   "source": [
    "print('My name is Robin')"
   ]
  },
  {
   "cell_type": "code",
   "execution_count": 2,
   "id": "051b063a-78a5-4b13-a3a6-2644166c9182",
   "metadata": {},
   "outputs": [
    {
     "name": "stdout",
     "output_type": "stream",
     "text": [
      "My name is Robin\n"
     ]
    }
   ],
   "source": [
    "# f string format\n",
    "name = 'Robin'\n",
    "print(f'My name is {name}')"
   ]
  },
  {
   "cell_type": "code",
   "execution_count": 3,
   "id": "7dfdd3b3-8652-44d6-9483-98704ba93473",
   "metadata": {},
   "outputs": [
    {
     "name": "stdout",
     "output_type": "stream",
     "text": [
      "My name is Robin\n"
     ]
    }
   ],
   "source": [
    "# format function\n",
    "name = 'Robin'\n",
    "print('My name is {0}'.format(name))"
   ]
  },
  {
   "cell_type": "markdown",
   "id": "f1b00fed-e1c5-438a-b31e-d428356eb6be",
   "metadata": {},
   "source": [
    "#### Question \n",
    "\n",
    "Accept a string as input. Make a copy of this string. Insert the exclamation mark (!) before and after the copy and print this final string to the console.\n",
    "Test case 1:\n",
    "Input: \n",
    "cool \n",
    "\n",
    "Output\n",
    "!cool!\n",
    "\n",
    "Test case 2:\n",
    "Input: \n",
    "123567 \n",
    "\n",
    "Output\n",
    "!123567!\n"
   ]
  },
  {
   "cell_type": "code",
   "execution_count": 6,
   "id": "c13c0e28-6af1-4582-9e8d-8eb0b3a00dbf",
   "metadata": {},
   "outputs": [
    {
     "name": "stdin",
     "output_type": "stream",
     "text": [
      "Enter string: cool\n"
     ]
    },
    {
     "name": "stdout",
     "output_type": "stream",
     "text": [
      "!cool!\n"
     ]
    }
   ],
   "source": [
    "str_1 = input('Enter string:')\n",
    "str_copy = str_1\n",
    "str_final =  f'!{str_1}!'\n",
    "\n",
    "print(str_final)"
   ]
  },
  {
   "cell_type": "markdown",
   "id": "4d653950-c153-441f-b2c6-02968a8741f1",
   "metadata": {
    "tags": []
   },
   "source": [
    "### Arithmetic Operators\n",
    "\n",
    "https://www.w3schools.com/python/python_operators.asp"
   ]
  },
  {
   "cell_type": "code",
   "execution_count": 7,
   "id": "cc4d010b-9006-42ec-867a-6ee9bbfa959d",
   "metadata": {},
   "outputs": [
    {
     "data": {
      "text/plain": [
       "40"
      ]
     },
     "execution_count": 7,
     "metadata": {},
     "output_type": "execute_result"
    }
   ],
   "source": [
    "a = 10\n",
    "b = 30\n",
    "\n",
    "# Addition (Sum)\n",
    "a + b"
   ]
  },
  {
   "cell_type": "code",
   "execution_count": 10,
   "id": "b0aa9103-dfae-49dc-85ff-fed289a953ca",
   "metadata": {},
   "outputs": [
    {
     "data": {
      "text/plain": [
       "20"
      ]
     },
     "execution_count": 10,
     "metadata": {},
     "output_type": "execute_result"
    }
   ],
   "source": [
    "# Subtraction\n",
    "b-a"
   ]
  },
  {
   "cell_type": "code",
   "execution_count": 9,
   "id": "3a473463-390d-441d-9d2f-3eb8d71fa9f2",
   "metadata": {},
   "outputs": [
    {
     "data": {
      "text/plain": [
       "300"
      ]
     },
     "execution_count": 9,
     "metadata": {},
     "output_type": "execute_result"
    }
   ],
   "source": [
    "# Multiplication\n",
    "a*b"
   ]
  },
  {
   "cell_type": "code",
   "execution_count": 11,
   "id": "d7e475ff-fc04-4d8c-a07d-09525bb004d3",
   "metadata": {},
   "outputs": [
    {
     "data": {
      "text/plain": [
       "3.0"
      ]
     },
     "execution_count": 11,
     "metadata": {},
     "output_type": "execute_result"
    }
   ],
   "source": [
    "# Division\n",
    "b/a"
   ]
  },
  {
   "cell_type": "code",
   "execution_count": 13,
   "id": "3e413de8-d4ac-44fb-85d2-4010a5e42af0",
   "metadata": {},
   "outputs": [
    {
     "data": {
      "text/plain": [
       "0"
      ]
     },
     "execution_count": 13,
     "metadata": {},
     "output_type": "execute_result"
    }
   ],
   "source": [
    "# Remainder (modulus)\n",
    "\n",
    "b%a"
   ]
  },
  {
   "cell_type": "code",
   "execution_count": 14,
   "id": "806b641f-0596-45d2-b64a-139e35357698",
   "metadata": {},
   "outputs": [
    {
     "data": {
      "text/plain": [
       "1"
      ]
     },
     "execution_count": 14,
     "metadata": {},
     "output_type": "execute_result"
    }
   ],
   "source": [
    "3%2"
   ]
  },
  {
   "cell_type": "code",
   "execution_count": 37,
   "id": "31488103-7651-4774-88e9-9979c74de727",
   "metadata": {},
   "outputs": [
    {
     "data": {
      "text/plain": [
       "8"
      ]
     },
     "execution_count": 37,
     "metadata": {},
     "output_type": "execute_result"
    }
   ],
   "source": [
    "# Power of\n",
    "\n",
    "2 ** 3"
   ]
  },
  {
   "cell_type": "markdown",
   "id": "1a95e23d-7b51-4b55-a3d7-d246ba4df0fe",
   "metadata": {
    "tags": []
   },
   "source": [
    "### Comparison operators"
   ]
  },
  {
   "cell_type": "code",
   "execution_count": 15,
   "id": "60839228-8c4c-4c95-be37-7c814e290581",
   "metadata": {},
   "outputs": [
    {
     "data": {
      "text/plain": [
       "True"
      ]
     },
     "execution_count": 15,
     "metadata": {},
     "output_type": "execute_result"
    }
   ],
   "source": [
    "# Equality operator - it compares values (equality)\n",
    "\n",
    "a = 10\n",
    "b = 10\n",
    "\n",
    "a == b"
   ]
  },
  {
   "cell_type": "code",
   "execution_count": 16,
   "id": "528e2fbd-308f-4bd3-8d8a-1222b736d845",
   "metadata": {},
   "outputs": [
    {
     "data": {
      "text/plain": [
       "True"
      ]
     },
     "execution_count": 16,
     "metadata": {},
     "output_type": "execute_result"
    }
   ],
   "source": [
    "# Identity operator - it compares if it is same reference (memory loc)\n",
    "a is b"
   ]
  },
  {
   "cell_type": "code",
   "execution_count": 19,
   "id": "2486aa63-e136-4209-8561-44ee2afe3786",
   "metadata": {},
   "outputs": [
    {
     "data": {
      "text/plain": [
       "False"
      ]
     },
     "execution_count": 19,
     "metadata": {},
     "output_type": "execute_result"
    }
   ],
   "source": [
    "a == '10'"
   ]
  },
  {
   "cell_type": "code",
   "execution_count": 29,
   "id": "1e350aef-53e1-431e-9cc3-2304ea10be18",
   "metadata": {},
   "outputs": [
    {
     "data": {
      "text/plain": [
       "True"
      ]
     },
     "execution_count": 29,
     "metadata": {},
     "output_type": "execute_result"
    }
   ],
   "source": [
    "a = [1,2]\n",
    "b = [1,2]\n",
    "\n",
    "a == b"
   ]
  },
  {
   "cell_type": "code",
   "execution_count": 30,
   "id": "0114e22a-a9be-4b58-8ee1-fa016754669e",
   "metadata": {},
   "outputs": [
    {
     "data": {
      "text/plain": [
       "139659989604736"
      ]
     },
     "execution_count": 30,
     "metadata": {},
     "output_type": "execute_result"
    }
   ],
   "source": [
    "id(a)"
   ]
  },
  {
   "cell_type": "code",
   "execution_count": 31,
   "id": "eefd4d9b-abd4-471f-b377-c67946bf0b95",
   "metadata": {},
   "outputs": [
    {
     "data": {
      "text/plain": [
       "139660145517888"
      ]
     },
     "execution_count": 31,
     "metadata": {},
     "output_type": "execute_result"
    }
   ],
   "source": [
    "id(b)"
   ]
  },
  {
   "cell_type": "code",
   "execution_count": 32,
   "id": "96404c64-de00-4fe2-a674-895698839e9a",
   "metadata": {},
   "outputs": [
    {
     "data": {
      "text/plain": [
       "False"
      ]
     },
     "execution_count": 32,
     "metadata": {},
     "output_type": "execute_result"
    }
   ],
   "source": [
    "a is b"
   ]
  },
  {
   "cell_type": "code",
   "execution_count": 33,
   "id": "6359fcf0-13c3-45e1-abd1-92597f1a6722",
   "metadata": {},
   "outputs": [
    {
     "data": {
      "text/plain": [
       "True"
      ]
     },
     "execution_count": 33,
     "metadata": {},
     "output_type": "execute_result"
    }
   ],
   "source": [
    "a = b\n",
    "\n",
    "a is b"
   ]
  },
  {
   "cell_type": "code",
   "execution_count": 34,
   "id": "7a99f893-c589-4a6e-b5b6-cf59698dc91c",
   "metadata": {},
   "outputs": [
    {
     "data": {
      "text/plain": [
       "True"
      ]
     },
     "execution_count": 34,
     "metadata": {},
     "output_type": "execute_result"
    }
   ],
   "source": [
    "# Not equal to\n",
    "\n",
    "a = 10\n",
    "b = 20\n",
    "\n",
    "a != b"
   ]
  },
  {
   "cell_type": "code",
   "execution_count": 41,
   "id": "179462e2-8fad-4921-9a1f-9a55192b21a3",
   "metadata": {},
   "outputs": [
    {
     "data": {
      "text/plain": [
       "True"
      ]
     },
     "execution_count": 41,
     "metadata": {},
     "output_type": "execute_result"
    }
   ],
   "source": [
    "# Greater than\n",
    "b > a"
   ]
  },
  {
   "cell_type": "code",
   "execution_count": 42,
   "id": "0027c932-3d22-4948-8448-346b5396ea6f",
   "metadata": {},
   "outputs": [
    {
     "data": {
      "text/plain": [
       "False"
      ]
     },
     "execution_count": 42,
     "metadata": {},
     "output_type": "execute_result"
    }
   ],
   "source": [
    "# Less than\n",
    "b < a"
   ]
  },
  {
   "cell_type": "markdown",
   "id": "5c339bff-eb76-46ec-9909-565296bd01d7",
   "metadata": {},
   "source": [
    "#### Question\n",
    "\n",
    "Accept an integer as input. Find the quotient when 3^{35} is divided by x and print the output.\n",
    "\n",
    "**Test case 1:**\n",
    "Input: \n",
    "10\n",
    "\n",
    "Output\n",
    "5003154509899970\n",
    "\n",
    "Test case 2:\n",
    "Input: \n",
    "100\n",
    "\n",
    "Output\n",
    "500315450989997\n"
   ]
  },
  {
   "cell_type": "code",
   "execution_count": 36,
   "id": "49ecf591-53a9-4060-a14b-8462ab8bde6e",
   "metadata": {},
   "outputs": [
    {
     "name": "stdin",
     "output_type": "stream",
     "text": [
      "Enter your input:  10\n"
     ]
    },
    {
     "name": "stdout",
     "output_type": "stream",
     "text": [
      "5003154509899970\n"
     ]
    }
   ],
   "source": [
    "x = int(input('Enter your input: '))\n",
    "quotient = 3 ** 35\n",
    "\n",
    "output = quotient // x\n",
    "\n",
    "print(output)"
   ]
  },
  {
   "cell_type": "markdown",
   "id": "c2fd727e-6fb4-4b0d-a705-c0b683e114e2",
   "metadata": {},
   "source": [
    "### Bitwise operators"
   ]
  },
  {
   "cell_type": "code",
   "execution_count": 44,
   "id": "9264a065-55bf-4eb9-aacd-a5be8cfc580b",
   "metadata": {},
   "outputs": [
    {
     "data": {
      "text/plain": [
       "0"
      ]
     },
     "execution_count": 44,
     "metadata": {},
     "output_type": "execute_result"
    }
   ],
   "source": [
    "a = 2\n",
    "b = 20"
   ]
  },
  {
   "cell_type": "code",
   "execution_count": 50,
   "id": "282ae709-bd3d-4051-8d0b-cf94e7ee1311",
   "metadata": {},
   "outputs": [
    {
     "data": {
      "text/plain": [
       "'0b10'"
      ]
     },
     "execution_count": 50,
     "metadata": {},
     "output_type": "execute_result"
    }
   ],
   "source": [
    "bin(a)"
   ]
  },
  {
   "cell_type": "code",
   "execution_count": 51,
   "id": "d9444411-d5b0-4146-a121-8cf50c1ce7a4",
   "metadata": {},
   "outputs": [
    {
     "data": {
      "text/plain": [
       "'0b10100'"
      ]
     },
     "execution_count": 51,
     "metadata": {},
     "output_type": "execute_result"
    }
   ],
   "source": [
    "bin(b)"
   ]
  },
  {
   "cell_type": "code",
   "execution_count": null,
   "id": "1fa0c59f-34da-42e0-bcd3-2bd306eea783",
   "metadata": {},
   "outputs": [],
   "source": [
    "# AND bitwise\n",
    "\n",
    "a & b"
   ]
  },
  {
   "cell_type": "code",
   "execution_count": 62,
   "id": "254358c5-4e78-4c3d-97a9-40f6648b53c6",
   "metadata": {},
   "outputs": [
    {
     "data": {
      "text/plain": [
       "22"
      ]
     },
     "execution_count": 62,
     "metadata": {},
     "output_type": "execute_result"
    }
   ],
   "source": [
    "# OR\n",
    "a = 2\n",
    "b = 20\n",
    "\n",
    "a | b"
   ]
  },
  {
   "cell_type": "code",
   "execution_count": 46,
   "id": "5023109b-eee5-4261-a837-36d526c6b9d0",
   "metadata": {},
   "outputs": [
    {
     "data": {
      "text/plain": [
       "22"
      ]
     },
     "execution_count": 46,
     "metadata": {},
     "output_type": "execute_result"
    }
   ],
   "source": [
    "# XOR\n",
    "\n",
    "a ^ b"
   ]
  },
  {
   "cell_type": "code",
   "execution_count": 63,
   "id": "88ef8072-30c2-4d5d-bccb-c5c335498f8a",
   "metadata": {},
   "outputs": [
    {
     "data": {
      "text/plain": [
       "-3"
      ]
     },
     "execution_count": 63,
     "metadata": {},
     "output_type": "execute_result"
    }
   ],
   "source": [
    "# NOT\n",
    "~a"
   ]
  },
  {
   "cell_type": "code",
   "execution_count": 2,
   "id": "ccb6c97f-2e68-4b14-91f1-63f83785d852",
   "metadata": {},
   "outputs": [
    {
     "data": {
      "text/plain": [
       "(10, '0b1010', -11)"
      ]
     },
     "execution_count": 2,
     "metadata": {},
     "output_type": "execute_result"
    }
   ],
   "source": [
    "# Negation above is 2's complement of the number\n",
    "\n",
    "a = 10\n",
    "\n",
    "(a, bin(a), ~a)"
   ]
  },
  {
   "cell_type": "code",
   "execution_count": null,
   "id": "741e8b40-abcc-4f16-b6f0-b0d2c86998c3",
   "metadata": {},
   "outputs": [],
   "source": [
    "### 10 == 1010\n",
    "\n",
    "# With signed bit .. 0....1010\n",
    "\n",
    "# First complement = 1 . .0101\n",
    "\n",
    "# Second complement = First complement again + 1\n",
    "\n",
    "## 1...1010 + 1 = 1...0101 = 11\n",
    "\n",
    "# it is giving you same number of steps towards negative direction\n",
    "# including 0 in case of positive\n",
    "\n",
    "# For positive number it is always negative of (num + 1)"
   ]
  },
  {
   "cell_type": "code",
   "execution_count": 59,
   "id": "52670509-2156-42ba-af15-47211b2065b8",
   "metadata": {},
   "outputs": [
    {
     "data": {
      "text/plain": [
       "2"
      ]
     },
     "execution_count": 59,
     "metadata": {},
     "output_type": "execute_result"
    }
   ],
   "source": [
    "# Left shift\n",
    "\n",
    "a << 2"
   ]
  },
  {
   "cell_type": "code",
   "execution_count": 53,
   "id": "1cfa337d-2937-4721-bdfd-d2551d891858",
   "metadata": {},
   "outputs": [
    {
     "data": {
      "text/plain": [
       "5"
      ]
     },
     "execution_count": 53,
     "metadata": {},
     "output_type": "execute_result"
    }
   ],
   "source": [
    "# Right shift\n",
    "\n",
    "b >> 2"
   ]
  },
  {
   "cell_type": "markdown",
   "id": "0743d263-c76f-4aba-9786-463024ce16c0",
   "metadata": {},
   "source": [
    "### Logical operators"
   ]
  },
  {
   "cell_type": "code",
   "execution_count": 4,
   "id": "01fae9be-9090-462d-9ad3-120346543a5e",
   "metadata": {},
   "outputs": [
    {
     "data": {
      "text/plain": [
       "False"
      ]
     },
     "execution_count": 4,
     "metadata": {},
     "output_type": "execute_result"
    }
   ],
   "source": [
    "# And\n",
    "\n",
    "x = True\n",
    "y = False\n",
    "\n",
    "x and y"
   ]
  },
  {
   "cell_type": "code",
   "execution_count": 57,
   "id": "0d10ba39-79dc-40f8-8d22-c7c3d169ccec",
   "metadata": {},
   "outputs": [
    {
     "data": {
      "text/plain": [
       "True"
      ]
     },
     "execution_count": 57,
     "metadata": {},
     "output_type": "execute_result"
    }
   ],
   "source": [
    "a = 7\n",
    "\n",
    "a > 5 and a < 10"
   ]
  },
  {
   "cell_type": "code",
   "execution_count": 5,
   "id": "3b2cb9e5-6251-4967-8cac-94bdaebecdce",
   "metadata": {},
   "outputs": [
    {
     "data": {
      "text/plain": [
       "True"
      ]
     },
     "execution_count": 5,
     "metadata": {},
     "output_type": "execute_result"
    }
   ],
   "source": [
    "# OR\n",
    "\n",
    "x or y"
   ]
  },
  {
   "cell_type": "code",
   "execution_count": 6,
   "id": "cd43cd92-3450-41a5-adf4-19e5516f969c",
   "metadata": {},
   "outputs": [
    {
     "data": {
      "text/plain": [
       "True"
      ]
     },
     "execution_count": 6,
     "metadata": {},
     "output_type": "execute_result"
    }
   ],
   "source": [
    "# not - reverse the bool value\n",
    "\n",
    "x or y\n"
   ]
  },
  {
   "cell_type": "markdown",
   "id": "b44d6a75-74eb-4fec-92b2-83d1ddd3aad6",
   "metadata": {},
   "source": [
    "### Assignment operator"
   ]
  },
  {
   "cell_type": "code",
   "execution_count": 67,
   "id": "d86f9913-0c08-45c9-be17-b150714abf40",
   "metadata": {},
   "outputs": [
    {
     "data": {
      "text/plain": [
       "12"
      ]
     },
     "execution_count": 67,
     "metadata": {},
     "output_type": "execute_result"
    }
   ],
   "source": [
    "a = 10\n",
    "b = 2\n",
    "\n",
    "# Addition\n",
    "a += b\n",
    "\n",
    "a"
   ]
  },
  {
   "cell_type": "code",
   "execution_count": 68,
   "id": "1138f2f6-2922-4ded-bbfd-192aa66cee76",
   "metadata": {},
   "outputs": [
    {
     "data": {
      "text/plain": [
       "2"
      ]
     },
     "execution_count": 68,
     "metadata": {},
     "output_type": "execute_result"
    }
   ],
   "source": [
    "a -= b\n",
    "\n",
    "b"
   ]
  },
  {
   "cell_type": "code",
   "execution_count": 69,
   "id": "0173860e-4eec-4af1-8e08-22eec8b00854",
   "metadata": {},
   "outputs": [
    {
     "data": {
      "text/plain": [
       "5.0"
      ]
     },
     "execution_count": 69,
     "metadata": {},
     "output_type": "execute_result"
    }
   ],
   "source": [
    "# Division\n",
    "a /= b\n",
    "a"
   ]
  },
  {
   "cell_type": "code",
   "execution_count": 70,
   "id": "16544b5e-6b9d-4f14-b5b3-70505ceaa2ca",
   "metadata": {},
   "outputs": [],
   "source": [
    "a *= b"
   ]
  },
  {
   "cell_type": "code",
   "execution_count": 71,
   "id": "3c9ce553-59ed-4389-a71e-7e105962a812",
   "metadata": {},
   "outputs": [
    {
     "data": {
      "text/plain": [
       "10.0"
      ]
     },
     "execution_count": 71,
     "metadata": {},
     "output_type": "execute_result"
    }
   ],
   "source": [
    "a"
   ]
  },
  {
   "cell_type": "markdown",
   "id": "8dac4106-6f28-43a0-bf0a-404882a8640a",
   "metadata": {},
   "source": [
    "### Identity Operators"
   ]
  },
  {
   "cell_type": "code",
   "execution_count": 7,
   "id": "32c42f79-19b3-4867-9b3a-dd7412db2c01",
   "metadata": {},
   "outputs": [
    {
     "data": {
      "text/plain": [
       "True"
      ]
     },
     "execution_count": 7,
     "metadata": {},
     "output_type": "execute_result"
    }
   ],
   "source": [
    "# is \tReturns True if both variables are the same object\tx is y\n",
    "\n",
    "x = [1,2,3]\n",
    "y = x\n",
    "\n",
    "x is y"
   ]
  },
  {
   "cell_type": "code",
   "execution_count": 8,
   "id": "1ea49856-5f57-4928-b9ba-e64556d39ad3",
   "metadata": {},
   "outputs": [
    {
     "data": {
      "text/plain": [
       "False"
      ]
     },
     "execution_count": 8,
     "metadata": {},
     "output_type": "execute_result"
    }
   ],
   "source": [
    "# is not - negation of is\n",
    "x is not y"
   ]
  },
  {
   "cell_type": "markdown",
   "id": "e537b468-77e4-4d6f-b7e0-40bb123a76d0",
   "metadata": {},
   "source": [
    "### Membership Operators"
   ]
  },
  {
   "cell_type": "code",
   "execution_count": 9,
   "id": "f6d166fe-7ccc-41a1-8367-670362c3768e",
   "metadata": {},
   "outputs": [
    {
     "data": {
      "text/plain": [
       "True"
      ]
     },
     "execution_count": 9,
     "metadata": {},
     "output_type": "execute_result"
    }
   ],
   "source": [
    "# in \tReturns True if a sequence with the specified value is present in the object\n",
    "\n",
    "1 in x"
   ]
  },
  {
   "cell_type": "code",
   "execution_count": 10,
   "id": "d92bdeaf-6eab-4854-8de6-cce0fa46d043",
   "metadata": {},
   "outputs": [
    {
     "data": {
      "text/plain": [
       "False"
      ]
     },
     "execution_count": 10,
     "metadata": {},
     "output_type": "execute_result"
    }
   ],
   "source": [
    "# not in - negation of in\n",
    "\n",
    "1 not in x"
   ]
  },
  {
   "cell_type": "code",
   "execution_count": null,
   "id": "580ec7ba-8409-4148-889a-effc680a2252",
   "metadata": {},
   "outputs": [],
   "source": []
  }
 ],
 "metadata": {
  "kernelspec": {
   "display_name": "Python 3 (ipykernel)",
   "language": "python",
   "name": "python3"
  },
  "language_info": {
   "codemirror_mode": {
    "name": "ipython",
    "version": 3
   },
   "file_extension": ".py",
   "mimetype": "text/x-python",
   "name": "python",
   "nbconvert_exporter": "python",
   "pygments_lexer": "ipython3",
   "version": "3.10.8"
  }
 },
 "nbformat": 4,
 "nbformat_minor": 5
}
