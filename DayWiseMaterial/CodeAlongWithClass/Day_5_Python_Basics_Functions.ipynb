{
 "cells": [
  {
   "cell_type": "code",
   "execution_count": 1,
   "id": "2e8cf76a-a31a-40d4-abe8-699f43ec856e",
   "metadata": {},
   "outputs": [],
   "source": [
    "## break"
   ]
  },
  {
   "cell_type": "code",
   "execution_count": 2,
   "id": "7094227c-c522-4d3b-a09c-7a258b9a8f80",
   "metadata": {},
   "outputs": [
    {
     "name": "stdout",
     "output_type": "stream",
     "text": [
      "R\n",
      "o\n"
     ]
    }
   ],
   "source": [
    "for letter in 'Robin':\n",
    "    if letter == 'b':\n",
    "        break\n",
    "    print(letter)"
   ]
  },
  {
   "cell_type": "code",
   "execution_count": 3,
   "id": "ba28834f-67a1-4b34-a487-74722d2d4bae",
   "metadata": {},
   "outputs": [],
   "source": [
    "## Continue"
   ]
  },
  {
   "cell_type": "markdown",
   "id": "46fb2fdf-5cde-4bba-abc6-0147c48db3ac",
   "metadata": {},
   "source": [
    "for letter in 'Robin':\n",
    "    if letter == 'b':\n",
    "        continue\n",
    "    print(letter)"
   ]
  },
  {
   "cell_type": "code",
   "execution_count": 4,
   "id": "9be34a29-1f02-4a8c-a12b-8fe8afd2c02a",
   "metadata": {},
   "outputs": [],
   "source": [
    "# pass"
   ]
  },
  {
   "cell_type": "code",
   "execution_count": 5,
   "id": "1b54487e-e30b-4c23-960d-479a7157124c",
   "metadata": {},
   "outputs": [
    {
     "ename": "SyntaxError",
     "evalue": "incomplete input (1178413041.py, line 4)",
     "output_type": "error",
     "traceback": [
      "\u001b[0;36m  Cell \u001b[0;32mIn[5], line 4\u001b[0;36m\u001b[0m\n\u001b[0;31m    if age > 18:\u001b[0m\n\u001b[0m                ^\u001b[0m\n\u001b[0;31mSyntaxError\u001b[0m\u001b[0;31m:\u001b[0m incomplete input\n"
     ]
    }
   ],
   "source": [
    "# pass is used in development state to avoid errors\n",
    "\n",
    "age = 10\n",
    "if age > 18:"
   ]
  },
  {
   "cell_type": "code",
   "execution_count": null,
   "id": "f8513c56-ce2c-4967-a721-35c7a973b2ee",
   "metadata": {},
   "outputs": [],
   "source": [
    "age = 10\n",
    "if age > 18:\n",
    "    pass"
   ]
  },
  {
   "cell_type": "markdown",
   "id": "2a7406ae-feb4-458e-add8-edcaeafff7a4",
   "metadata": {},
   "source": [
    "## Functions"
   ]
  },
  {
   "cell_type": "code",
   "execution_count": null,
   "id": "0354338e-986b-44a6-a01f-93a16b2ac897",
   "metadata": {},
   "outputs": [],
   "source": [
    "def add(a, b):\n",
    "    return a + b"
   ]
  },
  {
   "cell_type": "code",
   "execution_count": 7,
   "id": "df20b5f7-1f5e-4de1-b4d3-d656ce3e6f5e",
   "metadata": {},
   "outputs": [
    {
     "name": "stdout",
     "output_type": "stream",
     "text": [
      "Hello World!\n"
     ]
    }
   ],
   "source": [
    "def greet():\n",
    "    print('Hello World!')\n",
    "    \n",
    "greet()"
   ]
  },
  {
   "cell_type": "code",
   "execution_count": 9,
   "id": "a99dbbf4-e48b-41a5-aa71-2ea557dcdabd",
   "metadata": {},
   "outputs": [
    {
     "name": "stdout",
     "output_type": "stream",
     "text": [
      "Robin Pabbi\n"
     ]
    }
   ],
   "source": [
    "def print_name(first_name, last_name):\n",
    "    print(first_name + ' ' + last_name)\n",
    "    \n",
    "print_name('Robin', 'Pabbi')\n"
   ]
  },
  {
   "cell_type": "code",
   "execution_count": null,
   "id": "003e6148-fa81-40e4-87bc-d99e17b0817c",
   "metadata": {},
   "outputs": [],
   "source": []
  }
 ],
 "metadata": {
  "kernelspec": {
   "display_name": "Python 3 (ipykernel)",
   "language": "python",
   "name": "python3"
  },
  "language_info": {
   "codemirror_mode": {
    "name": "ipython",
    "version": 3
   },
   "file_extension": ".py",
   "mimetype": "text/x-python",
   "name": "python",
   "nbconvert_exporter": "python",
   "pygments_lexer": "ipython3",
   "version": "3.10.8"
  }
 },
 "nbformat": 4,
 "nbformat_minor": 5
}
