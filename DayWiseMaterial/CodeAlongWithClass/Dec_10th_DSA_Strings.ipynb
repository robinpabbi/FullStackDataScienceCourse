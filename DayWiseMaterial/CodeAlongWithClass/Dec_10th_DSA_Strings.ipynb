{
 "cells": [
  {
   "cell_type": "markdown",
   "metadata": {},
   "source": [
    "### Permutations of given String\n",
    "\n",
    "A permutation also called an “arrangement number” or “order,” is a rearrangement of the elements of an ordered list S into a one-to-one correspondence with S itself. A string of length N has N! permutations.\n",
    "\n",
    "Input: S = “ABC”\n",
    "Output: “ABC”, “ACB”, “BAC”, “BCA”, “CBA”, “CAB”\n"
   ]
  },
  {
   "cell_type": "code",
   "execution_count": 6,
   "metadata": {},
   "outputs": [
    {
     "name": "stdout",
     "output_type": "stream",
     "text": [
      "ABC\n",
      "ACB\n",
      "BAC\n",
      "BCA\n",
      "CBA\n",
      "CAB\n"
     ]
    }
   ],
   "source": [
    "def permutation_of_string(chr_arr, left, right):\n",
    "    # base condition\n",
    "    if left == right:\n",
    "        print(\"\".join(chr_arr))\n",
    "        return\n",
    "    \n",
    "    for i in range(left, right+1):\n",
    "        chr_arr[left], chr_arr[i] = chr_arr[i], chr_arr[left]\n",
    "        permutation_of_string(chr_arr, left+1, right)\n",
    "        chr_arr[left], chr_arr[i] = chr_arr[i], chr_arr[left]\n",
    "\n",
    "permutation_of_string(list(\"ABC\"), 0, 2)"
   ]
  },
  {
   "cell_type": "code",
   "execution_count": null,
   "metadata": {},
   "outputs": [],
   "source": []
  }
 ],
 "metadata": {
  "kernelspec": {
   "display_name": "base",
   "language": "python",
   "name": "python3"
  },
  "language_info": {
   "codemirror_mode": {
    "name": "ipython",
    "version": 3
   },
   "file_extension": ".py",
   "mimetype": "text/x-python",
   "name": "python",
   "nbconvert_exporter": "python",
   "pygments_lexer": "ipython3",
   "version": "3.11.4"
  }
 },
 "nbformat": 4,
 "nbformat_minor": 2
}
