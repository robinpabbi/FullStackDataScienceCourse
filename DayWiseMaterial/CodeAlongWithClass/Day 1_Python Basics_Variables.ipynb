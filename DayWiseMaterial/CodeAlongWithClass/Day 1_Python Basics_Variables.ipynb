{
 "cells": [
  {
   "cell_type": "markdown",
   "id": "274834b2-ac7e-443b-a858-3a7c827e44bf",
   "metadata": {},
   "source": [
    "### What is Python?\n",
    "Python is a popular programming language.\n",
    "    \n",
    "It is used for:\n",
    "* web development (server-side),\n",
    "* software development,\n",
    "* mathematics,\n",
    "* system scripting."
   ]
  },
  {
   "cell_type": "markdown",
   "id": "7bd00b2f-3c95-475c-aa97-84277cb95df1",
   "metadata": {},
   "source": [
    "### Here we will cover basics of Python\n",
    "* Variables\n",
    "* Datatypes\n",
    "\n",
    "There is no separate way to declare a variable. Assigning value will declare and initialization."
   ]
  },
  {
   "cell_type": "code",
   "execution_count": 143,
   "id": "4d015759-08c1-453c-b067-dec0d475b8e8",
   "metadata": {},
   "outputs": [
    {
     "data": {
      "text/plain": [
       "3"
      ]
     },
     "execution_count": 143,
     "metadata": {},
     "output_type": "execute_result"
    }
   ],
   "source": [
    "1+2"
   ]
  },
  {
   "cell_type": "code",
   "execution_count": 78,
   "id": "9a870a17-e056-4653-a0d4-e3af05932e42",
   "metadata": {},
   "outputs": [],
   "source": [
    "# Variable initialization \n",
    "a = 10"
   ]
  },
  {
   "cell_type": "code",
   "execution_count": 79,
   "id": "770a0519-56c3-46cd-b471-d88b3c40008e",
   "metadata": {},
   "outputs": [
    {
     "data": {
      "text/plain": [
       "10"
      ]
     },
     "execution_count": 79,
     "metadata": {},
     "output_type": "execute_result"
    }
   ],
   "source": [
    "a"
   ]
  },
  {
   "cell_type": "code",
   "execution_count": 80,
   "id": "53c87d9f-54e8-4bba-ac6a-85717e33dcc2",
   "metadata": {},
   "outputs": [
    {
     "data": {
      "text/plain": [
       "2434432"
      ]
     },
     "execution_count": 80,
     "metadata": {},
     "output_type": "execute_result"
    }
   ],
   "source": [
    "# try out with any name, you should be able to create a variable\n",
    "# example i am using my name below; Here '=' is an assignment operator\n",
    "robin = 2434432\n",
    "\n",
    "robin"
   ]
  },
  {
   "cell_type": "code",
   "execution_count": 81,
   "id": "7813414c-bc68-4697-b34e-1084d5e0ad27",
   "metadata": {},
   "outputs": [
    {
     "data": {
      "text/plain": [
       "int"
      ]
     },
     "execution_count": 81,
     "metadata": {},
     "output_type": "execute_result"
    }
   ],
   "source": [
    "# To know the type of the variable you can use below\n",
    "# type will return the type of data stored in the variable\n",
    "type(robin)"
   ]
  },
  {
   "cell_type": "code",
   "execution_count": 82,
   "id": "c4419a98-cbdc-472d-9da7-b80b9451e1fb",
   "metadata": {},
   "outputs": [
    {
     "data": {
      "text/plain": [
       "float"
      ]
     },
     "execution_count": 82,
     "metadata": {},
     "output_type": "execute_result"
    }
   ],
   "source": [
    "# Here the type of data is float (Here will cover different types of datatypes)\n",
    "b = 23.4\n",
    "\n",
    "type(b)"
   ]
  },
  {
   "cell_type": "markdown",
   "id": "88e67e46-fdac-428f-a850-567626952648",
   "metadata": {},
   "source": [
    "### Data Types:\n",
    "Python has the following data types built-in by default, in these categories:\n",
    "\n",
    "  * Text Type:\tstr\n",
    "  * Numeric Types:\tint, float, complex\n",
    "  * Sequence Types:\tlist, tuple, range\n",
    "  * Mapping Type:\tdict\n",
    "  * Set Types:\tset, frozenset\n",
    "  * Boolean Type:\tbool\n",
    "  * Binary Types:\tbytes, bytearray, memoryview\n",
    "  * None Type:\tNoneType"
   ]
  },
  {
   "cell_type": "code",
   "execution_count": 83,
   "id": "d2659e0b-290a-4780-a2d3-c127f94e8253",
   "metadata": {},
   "outputs": [
    {
     "data": {
      "text/plain": [
       "str"
      ]
     },
     "execution_count": 83,
     "metadata": {},
     "output_type": "execute_result"
    }
   ],
   "source": [
    "# Creating a string variable\n",
    "# strings can be created using '' or \"\"\n",
    "#String variables can be declared either by using single or double quotes\n",
    "b = 'Any string or name goes here'\n",
    "\n",
    "type(b)"
   ]
  },
  {
   "cell_type": "code",
   "execution_count": 84,
   "id": "152a905a-b7d9-4f75-8a54-e7956fca8c66",
   "metadata": {},
   "outputs": [
    {
     "data": {
      "text/plain": [
       "'this is my first python class'"
      ]
     },
     "execution_count": 84,
     "metadata": {},
     "output_type": "execute_result"
    }
   ],
   "source": [
    "s1 = 'this is my first python class'\n",
    "\n",
    "s1"
   ]
  },
  {
   "cell_type": "code",
   "execution_count": 85,
   "id": "53e4c2b0-d014-47e5-bbd9-14cb95c3ee4e",
   "metadata": {},
   "outputs": [],
   "source": [
    "# declaring and creating variable of float type\n",
    "f = 34.43"
   ]
  },
  {
   "cell_type": "code",
   "execution_count": 86,
   "id": "470e7cd3-23b7-44f9-956d-77aed018d230",
   "metadata": {},
   "outputs": [
    {
     "data": {
      "text/plain": [
       "float"
      ]
     },
     "execution_count": 86,
     "metadata": {},
     "output_type": "execute_result"
    }
   ],
   "source": [
    "type(f)"
   ]
  },
  {
   "cell_type": "code",
   "execution_count": 87,
   "id": "d8f4c77c-ea6b-4021-9cdb-551e9e0c92df",
   "metadata": {},
   "outputs": [],
   "source": [
    "# Declaring complex numbers\n",
    "c = 7 + 9j"
   ]
  },
  {
   "cell_type": "code",
   "execution_count": 88,
   "id": "a02f6269-1502-4dd6-8c77-8d946528dec0",
   "metadata": {},
   "outputs": [
    {
     "data": {
      "text/plain": [
       "(7+9j)"
      ]
     },
     "execution_count": 88,
     "metadata": {},
     "output_type": "execute_result"
    }
   ],
   "source": [
    "# imaginary part of the complext number is denoted by 'j'\n",
    "# j is notation of imaginary number, i can not be used for imaginary number\n",
    "c"
   ]
  },
  {
   "cell_type": "code",
   "execution_count": 89,
   "id": "0caf5a77-a4f0-4668-83fd-730a675cb770",
   "metadata": {},
   "outputs": [
    {
     "data": {
      "text/plain": [
       "complex"
      ]
     },
     "execution_count": 89,
     "metadata": {},
     "output_type": "execute_result"
    }
   ],
   "source": [
    "type(c)"
   ]
  },
  {
   "cell_type": "code",
   "execution_count": 90,
   "id": "90df1b39-06ee-4c9e-bdba-f0dc6f64361e",
   "metadata": {},
   "outputs": [
    {
     "data": {
      "text/plain": [
       "7.0"
      ]
     },
     "execution_count": 90,
     "metadata": {},
     "output_type": "execute_result"
    }
   ],
   "source": [
    "c.real"
   ]
  },
  {
   "cell_type": "code",
   "execution_count": 91,
   "id": "987c691c-2a1d-4640-ab28-5281ca08fa39",
   "metadata": {},
   "outputs": [
    {
     "data": {
      "text/plain": [
       "9.0"
      ]
     },
     "execution_count": 91,
     "metadata": {},
     "output_type": "execute_result"
    }
   ],
   "source": [
    "c.imag"
   ]
  },
  {
   "cell_type": "code",
   "execution_count": 92,
   "id": "478b47b1-f027-410a-bc62-f0c6ee9a6ee3",
   "metadata": {},
   "outputs": [],
   "source": [
    "# Creating boolean variable\n",
    "b = True"
   ]
  },
  {
   "cell_type": "code",
   "execution_count": 93,
   "id": "46c73bc0-7d24-48c1-ad41-37f48331c572",
   "metadata": {},
   "outputs": [
    {
     "data": {
      "text/plain": [
       "True"
      ]
     },
     "execution_count": 93,
     "metadata": {},
     "output_type": "execute_result"
    }
   ],
   "source": [
    "b"
   ]
  },
  {
   "cell_type": "code",
   "execution_count": 94,
   "id": "dbc7a0ba-00f7-4740-9248-412c0d51be40",
   "metadata": {},
   "outputs": [
    {
     "data": {
      "text/plain": [
       "bool"
      ]
     },
     "execution_count": 94,
     "metadata": {},
     "output_type": "execute_result"
    }
   ],
   "source": [
    "type(b)"
   ]
  },
  {
   "cell_type": "code",
   "execution_count": 95,
   "id": "21c3537e-3116-4e3f-8401-65caa3835d3e",
   "metadata": {},
   "outputs": [
    {
     "data": {
      "text/plain": [
       "bool"
      ]
     },
     "execution_count": 95,
     "metadata": {},
     "output_type": "execute_result"
    }
   ],
   "source": [
    "b1 = False\n",
    "\n",
    "type(b1)"
   ]
  },
  {
   "cell_type": "markdown",
   "id": "b5c6379a-52ef-4b04-b547-d035f3d3f461",
   "metadata": {},
   "source": [
    "### Operators\n",
    "    Opratr\tName\tExample\n",
    "    +\tAddition\tx + y\t\n",
    "    -\tSubtraction\tx - y\t\n",
    "    *\tMultiplication\tx * y\t\n",
    "    /\tDivision\tx / y\t\n",
    "    %\tModulus\tx % y\t\n",
    "    **\tExponentiation\tx ** y\t\n",
    "    //\tFloor division\tx // y\t\n"
   ]
  },
  {
   "cell_type": "code",
   "execution_count": 144,
   "id": "a2db5b91-603d-450a-838f-9daaff6e317f",
   "metadata": {},
   "outputs": [],
   "source": [
    "a1 = 62\n",
    "a2 = 48"
   ]
  },
  {
   "cell_type": "code",
   "execution_count": 97,
   "id": "69c4c983-2026-4f12-8a90-1a3ed6c112a2",
   "metadata": {},
   "outputs": [
    {
     "data": {
      "text/plain": [
       "110"
      ]
     },
     "execution_count": 97,
     "metadata": {},
     "output_type": "execute_result"
    }
   ],
   "source": [
    "# Addition\n",
    "a1 + a2"
   ]
  },
  {
   "cell_type": "code",
   "execution_count": 98,
   "id": "753ce54e-ddb2-46ed-bc6a-b3c7a758ecff",
   "metadata": {},
   "outputs": [
    {
     "data": {
      "text/plain": [
       "2976"
      ]
     },
     "execution_count": 98,
     "metadata": {},
     "output_type": "execute_result"
    }
   ],
   "source": [
    "# Multiply\n",
    "a1*a2"
   ]
  },
  {
   "cell_type": "code",
   "execution_count": 99,
   "id": "f14a502d-3c30-415d-9b08-8f11393b3631",
   "metadata": {},
   "outputs": [
    {
     "data": {
      "text/plain": [
       "1.2916666666666667"
      ]
     },
     "execution_count": 99,
     "metadata": {},
     "output_type": "execute_result"
    }
   ],
   "source": [
    "# Divide\n",
    "a1/a2"
   ]
  },
  {
   "cell_type": "code",
   "execution_count": 100,
   "id": "5885a63c-f260-4f38-b1ee-41fd8f4f08a0",
   "metadata": {},
   "outputs": [
    {
     "data": {
      "text/plain": [
       "14"
      ]
     },
     "execution_count": 100,
     "metadata": {},
     "output_type": "execute_result"
    }
   ],
   "source": [
    "# Subtraction\n",
    "a1-a2"
   ]
  },
  {
   "cell_type": "code",
   "execution_count": 101,
   "id": "e30b7cec-0701-484c-a1c3-5541cfe0cd76",
   "metadata": {},
   "outputs": [
    {
     "data": {
      "text/plain": [
       "14"
      ]
     },
     "execution_count": 101,
     "metadata": {},
     "output_type": "execute_result"
    }
   ],
   "source": [
    "# Modulus (Remainder)\n",
    "a1%a2"
   ]
  },
  {
   "cell_type": "code",
   "execution_count": 102,
   "id": "7a1e4156-1bf7-4d4a-a923-c237ac11896f",
   "metadata": {},
   "outputs": [],
   "source": [
    "# Assignment of multiple variable in single line\n",
    "\n",
    "a1, a2 = 62, 48"
   ]
  },
  {
   "cell_type": "code",
   "execution_count": 103,
   "id": "83a9d131-ccf1-421c-9e98-9644628a2458",
   "metadata": {},
   "outputs": [
    {
     "data": {
      "text/plain": [
       "62"
      ]
     },
     "execution_count": 103,
     "metadata": {},
     "output_type": "execute_result"
    }
   ],
   "source": [
    "a1"
   ]
  },
  {
   "cell_type": "code",
   "execution_count": 104,
   "id": "7533f9b6-2ac1-4606-bacf-2666850d1416",
   "metadata": {},
   "outputs": [
    {
     "data": {
      "text/plain": [
       "48"
      ]
     },
     "execution_count": 104,
     "metadata": {},
     "output_type": "execute_result"
    }
   ],
   "source": [
    "a2"
   ]
  },
  {
   "cell_type": "code",
   "execution_count": 105,
   "id": "9b6faa85-02e3-405a-8617-70931073ecf1",
   "metadata": {},
   "outputs": [],
   "source": [
    "# Assigning multiple variables in single but of different types\n",
    "\n",
    "a,b,c,d = 234,'Robin',23.3,True"
   ]
  },
  {
   "cell_type": "code",
   "execution_count": 106,
   "id": "1a2be70b-4829-4ffa-abf4-61fe22524dc0",
   "metadata": {},
   "outputs": [
    {
     "data": {
      "text/plain": [
       "234"
      ]
     },
     "execution_count": 106,
     "metadata": {},
     "output_type": "execute_result"
    }
   ],
   "source": [
    "a"
   ]
  },
  {
   "cell_type": "code",
   "execution_count": 107,
   "id": "19c2369a-6c93-4274-8073-89caed6a987d",
   "metadata": {},
   "outputs": [
    {
     "data": {
      "text/plain": [
       "'Robin'"
      ]
     },
     "execution_count": 107,
     "metadata": {},
     "output_type": "execute_result"
    }
   ],
   "source": [
    "b"
   ]
  },
  {
   "cell_type": "code",
   "execution_count": 108,
   "id": "7757fbbb-044b-4f6d-8974-d6a730e91993",
   "metadata": {},
   "outputs": [
    {
     "data": {
      "text/plain": [
       "23.3"
      ]
     },
     "execution_count": 108,
     "metadata": {},
     "output_type": "execute_result"
    }
   ],
   "source": [
    "c"
   ]
  },
  {
   "cell_type": "code",
   "execution_count": 109,
   "id": "74187f2b-6a3a-4102-bbf8-4b3bd8656ff3",
   "metadata": {},
   "outputs": [
    {
     "data": {
      "text/plain": [
       "True"
      ]
     },
     "execution_count": 109,
     "metadata": {},
     "output_type": "execute_result"
    }
   ],
   "source": [
    "d"
   ]
  },
  {
   "cell_type": "markdown",
   "id": "c49041a5-83af-46ca-9fd3-ca96c6735446",
   "metadata": {},
   "source": [
    "### Valid variable names"
   ]
  },
  {
   "cell_type": "code",
   "execution_count": 110,
   "id": "01b16852-d913-4569-b7a1-4e9508aaea3f",
   "metadata": {},
   "outputs": [
    {
     "name": "stderr",
     "output_type": "stream",
     "text": [
      "UsageError: Line magic function `%a` not found.\n"
     ]
    }
   ],
   "source": [
    "%a = 1312\n"
   ]
  },
  {
   "cell_type": "code",
   "execution_count": null,
   "id": "14f7d75f-201e-4b25-8d5c-f8ecb36be329",
   "metadata": {},
   "outputs": [],
   "source": [
    "0d = 2"
   ]
  },
  {
   "cell_type": "code",
   "execution_count": null,
   "id": "93e68207-cc31-497b-998d-8e8b12abff3a",
   "metadata": {},
   "outputs": [],
   "source": [
    "@d = True"
   ]
  },
  {
   "cell_type": "code",
   "execution_count": null,
   "id": "d6dd1a32-9389-47f4-9e88-9c37c79cd4bc",
   "metadata": {},
   "outputs": [],
   "source": [
    "_a = 34\n",
    "\n",
    "_a"
   ]
  },
  {
   "cell_type": "markdown",
   "id": "9790a277-cd9c-4d87-875a-68fddc53b574",
   "metadata": {},
   "source": [
    "#### A variable can have a short name (like x and y) or a more descriptive name (age, carname, total_volume). Rules for Python variables:\n",
    "* A variable name must start with a letter or the underscore character\n",
    "* A variable name cannot start with a number\n",
    "* A variable name can only contain alpha-numeric characters and underscores (A-z, 0-9, and _ )\n",
    "* Variable names are case-sensitive (age, Age and AGE are three different variables)\n",
    "* A variable name cannot be any of the Python keywords."
   ]
  },
  {
   "cell_type": "code",
   "execution_count": null,
   "id": "9b65fdbd-e5ad-4d50-834f-e7cd89af9738",
   "metadata": {},
   "outputs": [],
   "source": [
    "# ZeroDivisionError                         \n",
    "\n",
    "a = 3\n",
    "b = 0\n",
    "\n",
    "c = a/b"
   ]
  },
  {
   "cell_type": "code",
   "execution_count": null,
   "id": "705e41cd-a5c6-4669-b095-099ebd912192",
   "metadata": {},
   "outputs": [],
   "source": [
    "s1= 'ehtwrtewtktrjw'\n",
    "\n",
    "type(s1)"
   ]
  },
  {
   "cell_type": "code",
   "execution_count": null,
   "id": "07b86a30-9ded-4799-a92b-fe6c4f591048",
   "metadata": {},
   "outputs": [],
   "source": [
    "# Syntax error and how to use ' in string\n",
    "s2 = 'serwerewrewwrwer'dw'"
   ]
  },
  {
   "cell_type": "code",
   "execution_count": null,
   "id": "9b7564f5-67bb-43c3-8a5f-cbb606fa6b3b",
   "metadata": {},
   "outputs": [],
   "source": [
    "s2 = \"serwerewrewwrwer'dw\""
   ]
  },
  {
   "cell_type": "code",
   "execution_count": null,
   "id": "2157df92-8d0c-4197-9735-2155628ef096",
   "metadata": {},
   "outputs": [],
   "source": [
    "# If i want to use \" in string\n",
    "s3 = 'serwerewrewwrwer\"dw'"
   ]
  },
  {
   "cell_type": "markdown",
   "id": "171a3a80-c2ed-4b3c-a38c-935c335c709e",
   "metadata": {},
   "source": [
    "### Comments\n",
    "* '#' is used for single line comment\n",
    "* ''' or \"\"\" is used for multiline comments"
   ]
  },
  {
   "cell_type": "code",
   "execution_count": null,
   "id": "df61cb25-ae93-48a0-be82-a1af40b9213b",
   "metadata": {},
   "outputs": [],
   "source": [
    "This is my comment\n",
    "\n",
    "s = 'wejrjlr'"
   ]
  },
  {
   "cell_type": "code",
   "execution_count": null,
   "id": "288bf225-441e-4617-933d-a78768a225ca",
   "metadata": {},
   "outputs": [],
   "source": [
    "#This is my comment\n",
    "\n",
    "s = 'wejrjlr'"
   ]
  },
  {
   "cell_type": "code",
   "execution_count": null,
   "id": "bc76b90f-4c51-4c56-b568-3090abd54c56",
   "metadata": {},
   "outputs": [],
   "source": [
    "Let us try out multiline comments\n",
    "Multiline comments are spanned over multiple lines\n",
    "Here it will not work because this comments are treated as comments here\n",
    "\n",
    "a = 2"
   ]
  },
  {
   "cell_type": "code",
   "execution_count": null,
   "id": "e05b3e70-00cc-46f3-bfc1-feed954d78cd",
   "metadata": {},
   "outputs": [],
   "source": [
    "#Let us try out multiline comments\n",
    "#Multiline comments are spanned over multiple lines\n",
    "#One way is to use # in each single line\n",
    "\n",
    "a = 2\n",
    "\n",
    "a"
   ]
  },
  {
   "cell_type": "code",
   "execution_count": null,
   "id": "19b53b63-d0e1-4938-beac-b17f4101660d",
   "metadata": {},
   "outputs": [],
   "source": [
    "'''Let us try out multiline comments\n",
    "Multiline comments are spanned over multiple lines\n",
    "\"\"\" is used for multiline comments\n",
    "'''\n",
    "\n",
    "a = 5\n",
    "\n",
    "a"
   ]
  },
  {
   "cell_type": "code",
   "execution_count": null,
   "id": "212500b6-dab4-435b-a566-ade84f19a8a2",
   "metadata": {},
   "outputs": [],
   "source": [
    "# Operators on different type\n",
    "s = 'Robin'\n",
    "\n",
    "a = 10\n",
    "\n",
    "s + a"
   ]
  },
  {
   "cell_type": "code",
   "execution_count": null,
   "id": "ba40645e-681e-4c4c-9768-fb7e31f5ffa3",
   "metadata": {},
   "outputs": [],
   "source": [
    "s = 'Robin'\n",
    "s1 = ' Pabbi'\n",
    "\n",
    "s + s1"
   ]
  },
  {
   "cell_type": "markdown",
   "id": "1672887a-6973-417b-981f-0a985429c5f9",
   "metadata": {},
   "source": [
    "### Type Casting"
   ]
  },
  {
   "cell_type": "code",
   "execution_count": null,
   "id": "c1989d2e-07a4-471f-ae3a-4d79d851d0ab",
   "metadata": {},
   "outputs": [],
   "source": [
    "a = 10\n",
    "\n",
    "str(a)"
   ]
  },
  {
   "cell_type": "code",
   "execution_count": null,
   "id": "e1dffdb8-ad1d-4220-9cda-5c5f862d0306",
   "metadata": {},
   "outputs": [],
   "source": [
    "b = '23'\n",
    "\n",
    "int(b)"
   ]
  },
  {
   "cell_type": "code",
   "execution_count": null,
   "id": "5a17cda8-8080-4c88-9995-e6464c80bdd8",
   "metadata": {},
   "outputs": [],
   "source": [
    "#Can not convert invalid string to number\n",
    "s = 'Robin'\n",
    "\n",
    "int(s)"
   ]
  },
  {
   "cell_type": "markdown",
   "id": "68a5ed9f-6f49-4170-8735-90c42166a38e",
   "metadata": {},
   "source": [
    "### Taking a input from user"
   ]
  },
  {
   "cell_type": "code",
   "execution_count": 111,
   "id": "dfee9645-b835-4e33-8b45-547b02a1cd86",
   "metadata": {},
   "outputs": [
    {
     "name": "stdin",
     "output_type": "stream",
     "text": [
      "Please enter you age: 34\n"
     ]
    }
   ],
   "source": [
    "age = input('Please enter you age:')"
   ]
  },
  {
   "cell_type": "code",
   "execution_count": 112,
   "id": "a26b9d14-79c1-41a8-a216-30444c168aa0",
   "metadata": {},
   "outputs": [
    {
     "data": {
      "text/plain": [
       "'34'"
      ]
     },
     "execution_count": 112,
     "metadata": {},
     "output_type": "execute_result"
    }
   ],
   "source": [
    "age"
   ]
  },
  {
   "cell_type": "code",
   "execution_count": 113,
   "id": "04e0097a-de38-47ea-8123-082bf8f61702",
   "metadata": {},
   "outputs": [
    {
     "data": {
      "text/plain": [
       "str"
      ]
     },
     "execution_count": 113,
     "metadata": {},
     "output_type": "execute_result"
    }
   ],
   "source": [
    "# input return by default string\n",
    "type(age)"
   ]
  },
  {
   "cell_type": "code",
   "execution_count": 114,
   "id": "36d19c73-4d2f-4805-bd9b-955ecb9647f0",
   "metadata": {},
   "outputs": [],
   "source": [
    "age = int(age)"
   ]
  },
  {
   "cell_type": "code",
   "execution_count": 115,
   "id": "0ca82165-7638-4a94-a829-f7d9712615c6",
   "metadata": {},
   "outputs": [
    {
     "data": {
      "text/plain": [
       "34"
      ]
     },
     "execution_count": 115,
     "metadata": {},
     "output_type": "execute_result"
    }
   ],
   "source": [
    "age"
   ]
  },
  {
   "cell_type": "code",
   "execution_count": 116,
   "id": "41f6ea8e-668a-408c-8926-4ff3710353fb",
   "metadata": {},
   "outputs": [
    {
     "name": "stdin",
     "output_type": "stream",
     "text": [
      "Please enter you age: 34\n"
     ]
    }
   ],
   "source": [
    "age = int(input('Please enter you age:'))"
   ]
  },
  {
   "cell_type": "code",
   "execution_count": 117,
   "id": "560732aa-0abe-41d4-bfa5-694c2f880d4e",
   "metadata": {},
   "outputs": [
    {
     "data": {
      "text/plain": [
       "int"
      ]
     },
     "execution_count": 117,
     "metadata": {},
     "output_type": "execute_result"
    }
   ],
   "source": [
    "type(age)"
   ]
  },
  {
   "cell_type": "code",
   "execution_count": 123,
   "id": "ea467a34-d812-489f-bb35-51179d8a4875",
   "metadata": {},
   "outputs": [
    {
     "data": {
      "text/plain": [
       "'bin'"
      ]
     },
     "execution_count": 123,
     "metadata": {},
     "output_type": "execute_result"
    }
   ],
   "source": [
    "### Slicing Strings\n",
    "\n",
    "name = 'Robin'\n",
    "\n",
    "name[2:]"
   ]
  },
  {
   "cell_type": "code",
   "execution_count": 124,
   "id": "3366dec8-250b-4f7a-aa62-0b50135dfb82",
   "metadata": {},
   "outputs": [
    {
     "data": {
      "text/plain": [
       "'o'"
      ]
     },
     "execution_count": 124,
     "metadata": {},
     "output_type": "execute_result"
    }
   ],
   "source": [
    "name[1]"
   ]
  },
  {
   "cell_type": "code",
   "execution_count": 125,
   "id": "25f00da9-4ff6-42ba-9a13-f513401bb2de",
   "metadata": {},
   "outputs": [
    {
     "data": {
      "text/plain": [
       "'n'"
      ]
     },
     "execution_count": 125,
     "metadata": {},
     "output_type": "execute_result"
    }
   ],
   "source": [
    "name[-1]"
   ]
  },
  {
   "cell_type": "code",
   "execution_count": 137,
   "id": "c6a7d636-49fb-4015-a545-e65f71f3f1ce",
   "metadata": {},
   "outputs": [
    {
     "ename": "IndexError",
     "evalue": "string index out of range",
     "output_type": "error",
     "traceback": [
      "\u001b[0;31m---------------------------------------------------------------------------\u001b[0m",
      "\u001b[0;31mIndexError\u001b[0m                                Traceback (most recent call last)",
      "Cell \u001b[0;32mIn[137], line 1\u001b[0m\n\u001b[0;32m----> 1\u001b[0m \u001b[43mname\u001b[49m\u001b[43m[\u001b[49m\u001b[38;5;241;43m6\u001b[39;49m\u001b[43m]\u001b[49m\n",
      "\u001b[0;31mIndexError\u001b[0m: string index out of range"
     ]
    }
   ],
   "source": [
    "name[6]"
   ]
  },
  {
   "cell_type": "code",
   "execution_count": 129,
   "id": "4703f238-6921-4ff2-a264-61be86a36ca5",
   "metadata": {},
   "outputs": [
    {
     "data": {
      "text/plain": [
       "'niboR'"
      ]
     },
     "execution_count": 129,
     "metadata": {},
     "output_type": "execute_result"
    }
   ],
   "source": [
    "# Reverse a string\n",
    "# Start from -1 and step -1\n",
    "name[-1::-1]"
   ]
  },
  {
   "cell_type": "code",
   "execution_count": 132,
   "id": "425c2223-5313-4213-858a-982b2af19792",
   "metadata": {},
   "outputs": [
    {
     "data": {
      "text/plain": [
       "'Ro'"
      ]
     },
     "execution_count": 132,
     "metadata": {},
     "output_type": "execute_result"
    }
   ],
   "source": [
    "name[0:2]"
   ]
  },
  {
   "cell_type": "code",
   "execution_count": 133,
   "id": "d4b05c07-1f40-4d3f-bda2-5cffd46b6a63",
   "metadata": {},
   "outputs": [
    {
     "data": {
      "text/plain": [
       "'bi'"
      ]
     },
     "execution_count": 133,
     "metadata": {},
     "output_type": "execute_result"
    }
   ],
   "source": [
    "name[2:-1]"
   ]
  },
  {
   "cell_type": "code",
   "execution_count": 135,
   "id": "d5a08abd-ea03-4a57-bf54-280aa4969ade",
   "metadata": {},
   "outputs": [
    {
     "data": {
      "text/plain": [
       "'bin'"
      ]
     },
     "execution_count": 135,
     "metadata": {},
     "output_type": "execute_result"
    }
   ],
   "source": [
    "name[2:5]"
   ]
  },
  {
   "cell_type": "code",
   "execution_count": 136,
   "id": "f56d6f62-a9fd-4bae-b66e-28d8e3bd319c",
   "metadata": {},
   "outputs": [
    {
     "data": {
      "text/plain": [
       "'bin'"
      ]
     },
     "execution_count": 136,
     "metadata": {},
     "output_type": "execute_result"
    }
   ],
   "source": [
    "name[2:500]"
   ]
  },
  {
   "cell_type": "code",
   "execution_count": 138,
   "id": "c414cab0-fb43-4740-af81-91344a647a55",
   "metadata": {},
   "outputs": [
    {
     "data": {
      "text/plain": [
       "'Rbn'"
      ]
     },
     "execution_count": 138,
     "metadata": {},
     "output_type": "execute_result"
    }
   ],
   "source": [
    "# Alternative characters using step\n",
    "name[0::2]"
   ]
  },
  {
   "cell_type": "code",
   "execution_count": 141,
   "id": "79122dad-16c7-44b5-82eb-23f6b80561da",
   "metadata": {},
   "outputs": [
    {
     "data": {
      "text/plain": [
       "'ni'"
      ]
     },
     "execution_count": 141,
     "metadata": {},
     "output_type": "execute_result"
    }
   ],
   "source": [
    "name[5:2:-1]"
   ]
  },
  {
   "cell_type": "markdown",
   "id": "c585255d-c097-45d3-a988-f408ef018ea6",
   "metadata": {},
   "source": [
    "### Immutability in Strings"
   ]
  },
  {
   "cell_type": "code",
   "execution_count": 142,
   "id": "75711808-d236-4aad-ba76-fcc2e74d87e4",
   "metadata": {},
   "outputs": [
    {
     "ename": "TypeError",
     "evalue": "'str' object does not support item assignment",
     "output_type": "error",
     "traceback": [
      "\u001b[0;31m---------------------------------------------------------------------------\u001b[0m",
      "\u001b[0;31mTypeError\u001b[0m                                 Traceback (most recent call last)",
      "Cell \u001b[0;32mIn[142], line 1\u001b[0m\n\u001b[0;32m----> 1\u001b[0m \u001b[43mname\u001b[49m\u001b[43m[\u001b[49m\u001b[38;5;241;43m0\u001b[39;49m\u001b[43m]\u001b[49m \u001b[38;5;241m=\u001b[39m \u001b[38;5;124m'\u001b[39m\u001b[38;5;124mJ\u001b[39m\u001b[38;5;124m'\u001b[39m\n",
      "\u001b[0;31mTypeError\u001b[0m: 'str' object does not support item assignment"
     ]
    }
   ],
   "source": [
    "name[0] = 'J'"
   ]
  },
  {
   "cell_type": "code",
   "execution_count": null,
   "id": "3ce3e1f2-42c5-4e66-b3d0-6009726f1dc9",
   "metadata": {},
   "outputs": [],
   "source": []
  }
 ],
 "metadata": {
  "kernelspec": {
   "display_name": "Python 3 (ipykernel)",
   "language": "python",
   "name": "python3"
  },
  "language_info": {
   "codemirror_mode": {
    "name": "ipython",
    "version": 3
   },
   "file_extension": ".py",
   "mimetype": "text/x-python",
   "name": "python",
   "nbconvert_exporter": "python",
   "pygments_lexer": "ipython3",
   "version": "3.10.8"
  }
 },
 "nbformat": 4,
 "nbformat_minor": 5
}
