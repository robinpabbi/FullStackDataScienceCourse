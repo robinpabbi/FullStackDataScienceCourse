{
 "cells": [
  {
   "cell_type": "markdown",
   "metadata": {},
   "source": [
    "## Queue"
   ]
  },
  {
   "cell_type": "code",
   "execution_count": 1,
   "metadata": {},
   "outputs": [],
   "source": [
    "class Queue:\n",
    "    def __init__(self, capacity) -> None:\n",
    "        self.__queue_arr = [None]*capacity\n",
    "        self.__capacity = capacity\n",
    "        self.__front = -1\n",
    "        self.__rear = -1\n",
    "\n",
    "    def isEmpty(self) -> bool:\n",
    "        return self.__front == -1\n",
    "\n",
    "    def isFull(self) -> bool:\n",
    "          return (self.__front + 1)% self.__capacity == self.__rear\n",
    "    \n",
    "    def enQueue(self, data):\n",
    "        if self.isFull():\n",
    "            print('Queue Overflow!')\n",
    "            return\n",
    "        \n",
    "        self.__front = (self.__front + 1)% self.__capacity\n",
    "        if self.__rear == -1:\n",
    "            self.__rear = 0            \n",
    "\n",
    "        self.__queue_arr[self.__front] = data\n",
    "\n",
    "    def deQueue(self):\n",
    "        if self.isEmpty():\n",
    "            print('Queue Empty!')\n",
    "            return None\n",
    "        data = self.__queue_arr[self.__rear]\n",
    "\n",
    "        if self.__front == self.__rear:\n",
    "            self.__front = -1\n",
    "            self.__rear = -1\n",
    "        else:\n",
    "            self.__rear = (self.__rear + 1)% self.__capacity\n",
    "\n",
    "        return data\n",
    "    \n",
    "\n",
    "    "
   ]
  },
  {
   "cell_type": "markdown",
   "metadata": {},
   "source": []
  }
 ],
 "metadata": {
  "kernelspec": {
   "display_name": "base",
   "language": "python",
   "name": "python3"
  },
  "language_info": {
   "codemirror_mode": {
    "name": "ipython",
    "version": 3
   },
   "file_extension": ".py",
   "mimetype": "text/x-python",
   "name": "python",
   "nbconvert_exporter": "python",
   "pygments_lexer": "ipython3",
   "version": "3.11.4"
  }
 },
 "nbformat": 4,
 "nbformat_minor": 2
}
