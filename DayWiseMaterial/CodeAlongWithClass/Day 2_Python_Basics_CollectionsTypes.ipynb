{
 "cells": [
  {
   "cell_type": "markdown",
   "id": "5a7d3586-64b0-4903-acf2-71be912bd6fc",
   "metadata": {},
   "source": [
    "# Collection - Data Types\n",
    "\n",
    "## Lists"
   ]
  },
  {
   "cell_type": "code",
   "execution_count": 1,
   "id": "7b49075e-46a7-407c-9164-ff7a6ceae881",
   "metadata": {},
   "outputs": [],
   "source": [
    "l = []"
   ]
  },
  {
   "cell_type": "code",
   "execution_count": 2,
   "id": "7ad19b30-408e-40de-a691-f8ae89297dbe",
   "metadata": {},
   "outputs": [
    {
     "data": {
      "text/plain": [
       "list"
      ]
     },
     "execution_count": 2,
     "metadata": {},
     "output_type": "execute_result"
    }
   ],
   "source": [
    "type(l)"
   ]
  },
  {
   "cell_type": "code",
   "execution_count": 3,
   "id": "b54ddc8b-352a-4461-af5c-2a7ec764abd6",
   "metadata": {},
   "outputs": [],
   "source": [
    "# Any type of data can go in list, it is not strongly typed\n",
    "l1 = [1, 2, 3,'Robin', 'Bin', 3+2j, True]"
   ]
  },
  {
   "cell_type": "code",
   "execution_count": 4,
   "id": "ba31223c-5f01-4a31-b37d-aebab7d0f154",
   "metadata": {},
   "outputs": [
    {
     "data": {
      "text/plain": [
       "[1, 2, 3, 'Robin', 'Bin', (3+2j), True]"
      ]
     },
     "execution_count": 4,
     "metadata": {},
     "output_type": "execute_result"
    }
   ],
   "source": [
    "l1"
   ]
  },
  {
   "cell_type": "code",
   "execution_count": 5,
   "id": "a727678c-f503-4c69-9980-10fa121bc083",
   "metadata": {},
   "outputs": [],
   "source": [
    "# String is also a type of list"
   ]
  },
  {
   "cell_type": "code",
   "execution_count": 6,
   "id": "793636b9-826c-43af-9c98-8efd46464045",
   "metadata": {},
   "outputs": [
    {
     "data": {
      "text/plain": [
       "'String is also a list 1 2 3;@#'"
      ]
     },
     "execution_count": 6,
     "metadata": {},
     "output_type": "execute_result"
    }
   ],
   "source": [
    "s = 'String is also a list 1 2 3;@#'\n",
    "\n",
    "s"
   ]
  },
  {
   "cell_type": "code",
   "execution_count": 7,
   "id": "2e06d1d4-eb8c-4927-98b5-cd94dea3fc44",
   "metadata": {},
   "outputs": [
    {
     "data": {
      "text/plain": [
       "[3, 'Robin', 'Bin']"
      ]
     },
     "execution_count": 7,
     "metadata": {},
     "output_type": "execute_result"
    }
   ],
   "source": [
    "# Same methods of string will work with lists\n",
    "#slicing \n",
    "\n",
    "l2 = [1, 2, 3,'Robin', 'Bin', 3+2j, True]\n",
    "\n",
    "l2[2:5]"
   ]
  },
  {
   "cell_type": "code",
   "execution_count": 8,
   "id": "4a073eb6-71dc-4fda-afc9-87d6aae43e32",
   "metadata": {},
   "outputs": [
    {
     "data": {
      "text/plain": [
       "[True, (3+2j), 'Bin', 'Robin', 3, 2, 1]"
      ]
     },
     "execution_count": 8,
     "metadata": {},
     "output_type": "execute_result"
    }
   ],
   "source": [
    "l1[::-1]"
   ]
  },
  {
   "cell_type": "code",
   "execution_count": 9,
   "id": "28ae33f7-5a3a-414c-80f4-1a6d950937ef",
   "metadata": {},
   "outputs": [
    {
     "data": {
      "text/plain": [
       "[3, 6, 7]"
      ]
     },
     "execution_count": 9,
     "metadata": {},
     "output_type": "execute_result"
    }
   ],
   "source": [
    "# Nested list\n",
    "l3 = [1, 23, 4, [3, 6, 7]]\n",
    "\n",
    "l3[-1]"
   ]
  },
  {
   "cell_type": "code",
   "execution_count": 10,
   "id": "7fb0d123-4ee9-4eb5-af52-9a8003e40cf2",
   "metadata": {},
   "outputs": [
    {
     "data": {
      "text/plain": [
       "[1, 23, 4, [3, 6, 7], 3, 4, 5, 'String1', 'Robin']"
      ]
     },
     "execution_count": 10,
     "metadata": {},
     "output_type": "execute_result"
    }
   ],
   "source": [
    "# Concatenation of lists\n",
    "li = [3, 4, 5, 'String1', 'Robin']\n",
    "\n",
    "l3 + li"
   ]
  },
  {
   "cell_type": "code",
   "execution_count": 11,
   "id": "8936a855-f3a1-481a-b2b9-9b03b3a724ad",
   "metadata": {},
   "outputs": [
    {
     "data": {
      "text/plain": [
       "['R', 'o', 'b', 'i', 'n']"
      ]
     },
     "execution_count": 11,
     "metadata": {},
     "output_type": "execute_result"
    }
   ],
   "source": [
    "list('Robin')"
   ]
  },
  {
   "cell_type": "code",
   "execution_count": 12,
   "id": "9421dcbb-5e83-415b-b60c-9403abfe90ad",
   "metadata": {},
   "outputs": [
    {
     "ename": "TypeError",
     "evalue": "can only concatenate list (not \"str\") to list",
     "output_type": "error",
     "traceback": [
      "\u001b[0;31m---------------------------------------------------------------------------\u001b[0m",
      "\u001b[0;31mTypeError\u001b[0m                                 Traceback (most recent call last)",
      "Cell \u001b[0;32mIn[12], line 3\u001b[0m\n\u001b[1;32m      1\u001b[0m \u001b[38;5;66;03m# String concat with list\u001b[39;00m\n\u001b[1;32m      2\u001b[0m s \u001b[38;5;241m=\u001b[39m \u001b[38;5;124m'\u001b[39m\u001b[38;5;124mstring\u001b[39m\u001b[38;5;124m'\u001b[39m\n\u001b[0;32m----> 3\u001b[0m \u001b[43mli\u001b[49m\u001b[43m \u001b[49m\u001b[38;5;241;43m+\u001b[39;49m\u001b[43m \u001b[49m\u001b[43ms\u001b[49m\n",
      "\u001b[0;31mTypeError\u001b[0m: can only concatenate list (not \"str\") to list"
     ]
    }
   ],
   "source": [
    "# String concat with list\n",
    "s = 'string'\n",
    "li + s"
   ]
  },
  {
   "cell_type": "code",
   "execution_count": 13,
   "id": "ef7bf93a-03bb-4cdb-bb65-dba43ee58ccf",
   "metadata": {},
   "outputs": [
    {
     "data": {
      "text/plain": [
       "[1, 23, 4, [3, 6, 7], 1, 23, 4, [3, 6, 7]]"
      ]
     },
     "execution_count": 13,
     "metadata": {},
     "output_type": "execute_result"
    }
   ],
   "source": [
    "# Repeating elements of list for given number of times\n",
    "l3 * 2"
   ]
  },
  {
   "cell_type": "code",
   "execution_count": 14,
   "id": "c19cd696-4020-447d-ad43-dcf00d3b98e3",
   "metadata": {},
   "outputs": [
    {
     "data": {
      "text/plain": [
       "[23, 23, 4, [3, 6, 7]]"
      ]
     },
     "execution_count": 14,
     "metadata": {},
     "output_type": "execute_result"
    }
   ],
   "source": [
    "# List is a muttable\n",
    "l3[0] = 23\n",
    "\n",
    "l3"
   ]
  },
  {
   "cell_type": "markdown",
   "id": "404ef0e7-0eeb-403b-b75e-c71958e08b04",
   "metadata": {},
   "source": [
    "## Tuples\n",
    "\n",
    "* Tuple is similar to list but is it Immutable\n",
    "* To initialize tuple we use () (paranthesis) instead of [] (square brackets)"
   ]
  },
  {
   "cell_type": "code",
   "execution_count": 15,
   "id": "bf3925da-29bd-41f3-b3d1-f48db5e6e4a9",
   "metadata": {},
   "outputs": [],
   "source": [
    "t = (3, 4, 5, 'String1', 'Robin')"
   ]
  },
  {
   "cell_type": "code",
   "execution_count": 16,
   "id": "f921b8a5-53e2-4eb5-a5df-026301157158",
   "metadata": {},
   "outputs": [
    {
     "data": {
      "text/plain": [
       "tuple"
      ]
     },
     "execution_count": 16,
     "metadata": {},
     "output_type": "execute_result"
    }
   ],
   "source": [
    "type(t)"
   ]
  },
  {
   "cell_type": "code",
   "execution_count": 17,
   "id": "8a9821f5-f589-42df-8a4f-6201c43773d6",
   "metadata": {},
   "outputs": [
    {
     "data": {
      "text/plain": [
       "5"
      ]
     },
     "execution_count": 17,
     "metadata": {},
     "output_type": "execute_result"
    }
   ],
   "source": [
    "t[2]"
   ]
  },
  {
   "cell_type": "code",
   "execution_count": 18,
   "id": "76508728-836f-4f4c-9ca4-65841f7e4aaa",
   "metadata": {},
   "outputs": [
    {
     "data": {
      "text/plain": [
       "('Robin', 'String1', 5, 4, 3)"
      ]
     },
     "execution_count": 18,
     "metadata": {},
     "output_type": "execute_result"
    }
   ],
   "source": [
    "# Reversing tuple\n",
    "t[::-1]"
   ]
  },
  {
   "cell_type": "code",
   "execution_count": 19,
   "id": "528fcbd6-dc1b-4d6b-a252-dbeecea5b836",
   "metadata": {},
   "outputs": [
    {
     "ename": "TypeError",
     "evalue": "'tuple' object does not support item assignment",
     "output_type": "error",
     "traceback": [
      "\u001b[0;31m---------------------------------------------------------------------------\u001b[0m",
      "\u001b[0;31mTypeError\u001b[0m                                 Traceback (most recent call last)",
      "Cell \u001b[0;32mIn[19], line 3\u001b[0m\n\u001b[1;32m      1\u001b[0m \u001b[38;5;66;03m# Immutability of Tuples\u001b[39;00m\n\u001b[0;32m----> 3\u001b[0m \u001b[43mt\u001b[49m\u001b[43m[\u001b[49m\u001b[38;5;241;43m0\u001b[39;49m\u001b[43m]\u001b[49m \u001b[38;5;241m=\u001b[39m \u001b[38;5;241m34\u001b[39m\n",
      "\u001b[0;31mTypeError\u001b[0m: 'tuple' object does not support item assignment"
     ]
    }
   ],
   "source": [
    "# Immutability of Tuples\n",
    "\n",
    "t[0] = 34"
   ]
  },
  {
   "cell_type": "code",
   "execution_count": 20,
   "id": "b1c60e61-eed9-470e-87e5-32b3a7610d11",
   "metadata": {},
   "outputs": [
    {
     "data": {
      "text/plain": [
       "(3, 4, 5, 3, 4, 5, 'String1', 'Robin')"
      ]
     },
     "execution_count": 20,
     "metadata": {},
     "output_type": "execute_result"
    }
   ],
   "source": [
    "# Concat tuples\n",
    "\n",
    "t1 = (3,4,5)\n",
    "\n",
    "t1+t"
   ]
  },
  {
   "cell_type": "code",
   "execution_count": 21,
   "id": "2c4954db-26f5-4ff9-99f9-def7c29ac2ca",
   "metadata": {},
   "outputs": [
    {
     "data": {
      "text/plain": [
       "[3, 4, 5, 'String1', 'Robin']"
      ]
     },
     "execution_count": 21,
     "metadata": {},
     "output_type": "execute_result"
    }
   ],
   "source": [
    "# Converting tuple to list\n",
    "list(t)"
   ]
  },
  {
   "cell_type": "code",
   "execution_count": 22,
   "id": "62288796-77ca-43c9-a8db-0dc0fa0109eb",
   "metadata": {},
   "outputs": [
    {
     "data": {
      "text/plain": [
       "(3, 4, 5, 'String1', 'Robin')"
      ]
     },
     "execution_count": 22,
     "metadata": {},
     "output_type": "execute_result"
    }
   ],
   "source": [
    "tuple(li)"
   ]
  },
  {
   "cell_type": "code",
   "execution_count": 23,
   "id": "9009d955-490e-47ad-8426-6974e5b7976f",
   "metadata": {},
   "outputs": [
    {
     "data": {
      "text/plain": [
       "5"
      ]
     },
     "execution_count": 23,
     "metadata": {},
     "output_type": "execute_result"
    }
   ],
   "source": [
    "# Length of tuples\n",
    "len(t)"
   ]
  },
  {
   "cell_type": "markdown",
   "id": "b059432e-ae8f-4399-9ae7-1ca8a4db6795",
   "metadata": {},
   "source": [
    "## Sets\n",
    "\n",
    "* Set is initialized using { } (curly braces)\n",
    "* It always has unique entries in the set\n",
    "* Does not support indexing and slicing"
   ]
  },
  {
   "cell_type": "code",
   "execution_count": 24,
   "id": "58f0fdb8-23ba-44c2-93d1-85ea558ee550",
   "metadata": {},
   "outputs": [
    {
     "data": {
      "text/plain": [
       "dict"
      ]
     },
     "execution_count": 24,
     "metadata": {},
     "output_type": "execute_result"
    }
   ],
   "source": [
    "s = {}\n",
    "\n",
    "type(s)"
   ]
  },
  {
   "cell_type": "code",
   "execution_count": 25,
   "id": "3e956199-22e1-4f9d-873e-363e3eb2a504",
   "metadata": {},
   "outputs": [
    {
     "data": {
      "text/plain": [
       "set"
      ]
     },
     "execution_count": 25,
     "metadata": {},
     "output_type": "execute_result"
    }
   ],
   "source": [
    "s1 = {1, 3, 2, 3, 4, 5, 6, 6}\n",
    "type(s1)"
   ]
  },
  {
   "cell_type": "code",
   "execution_count": 26,
   "id": "9874a3fd-6668-4507-889a-d6396fba6af1",
   "metadata": {},
   "outputs": [
    {
     "data": {
      "text/plain": [
       "{1, 2, 3, 4, 5, 6}"
      ]
     },
     "execution_count": 26,
     "metadata": {},
     "output_type": "execute_result"
    }
   ],
   "source": [
    "s1"
   ]
  },
  {
   "cell_type": "code",
   "execution_count": 27,
   "id": "34dc58ec-5fdc-4519-a8b3-2f23aa19b3d8",
   "metadata": {},
   "outputs": [
    {
     "data": {
      "text/plain": [
       "{2, 3, 4, 'Robin'}"
      ]
     },
     "execution_count": 27,
     "metadata": {},
     "output_type": "execute_result"
    }
   ],
   "source": [
    "s2 = { 'Robin', 'Robin', 'Robin', 2, 2, 3, 4, 4}\n",
    "\n",
    "s2"
   ]
  },
  {
   "cell_type": "code",
   "execution_count": 28,
   "id": "51f6c153-83b4-4336-bdf5-50f6f2677609",
   "metadata": {},
   "outputs": [
    {
     "data": {
      "text/plain": [
       "[2, 3, 'Robin', 4]"
      ]
     },
     "execution_count": 28,
     "metadata": {},
     "output_type": "execute_result"
    }
   ],
   "source": [
    "list(s2)"
   ]
  },
  {
   "cell_type": "code",
   "execution_count": 29,
   "id": "05d65c7f-7683-4a66-a14c-90b15d4f9d3d",
   "metadata": {},
   "outputs": [
    {
     "data": {
      "text/plain": [
       "{1, 23, 3, 4, 5, 'Robin', 'String1'}"
      ]
     },
     "execution_count": 29,
     "metadata": {},
     "output_type": "execute_result"
    }
   ],
   "source": [
    "l2 = [1, 23, 4, 3, 4, 5, 'String1', 'Robin']\n",
    "\n",
    "set(l2)"
   ]
  },
  {
   "cell_type": "code",
   "execution_count": 30,
   "id": "80d78e50-1343-4c22-a5e8-b9e62a7592ae",
   "metadata": {},
   "outputs": [
    {
     "ename": "TypeError",
     "evalue": "unhashable type: 'list'",
     "output_type": "error",
     "traceback": [
      "\u001b[0;31m---------------------------------------------------------------------------\u001b[0m",
      "\u001b[0;31mTypeError\u001b[0m                                 Traceback (most recent call last)",
      "Cell \u001b[0;32mIn[30], line 5\u001b[0m\n\u001b[1;32m      1\u001b[0m \u001b[38;5;66;03m# If list has nested list it will not convert to set\u001b[39;00m\n\u001b[1;32m      3\u001b[0m l4 \u001b[38;5;241m=\u001b[39m [\u001b[38;5;241m1\u001b[39m, \u001b[38;5;241m23\u001b[39m, \u001b[38;5;241m4\u001b[39m, [\u001b[38;5;241m3\u001b[39m, \u001b[38;5;241m6\u001b[39m, \u001b[38;5;241m7\u001b[39m], \u001b[38;5;241m3\u001b[39m, \u001b[38;5;241m4\u001b[39m, \u001b[38;5;241m5\u001b[39m, \u001b[38;5;124m'\u001b[39m\u001b[38;5;124mString1\u001b[39m\u001b[38;5;124m'\u001b[39m, \u001b[38;5;124m'\u001b[39m\u001b[38;5;124mRobin\u001b[39m\u001b[38;5;124m'\u001b[39m]\n\u001b[0;32m----> 5\u001b[0m \u001b[38;5;28;43mset\u001b[39;49m\u001b[43m(\u001b[49m\u001b[43ml4\u001b[49m\u001b[43m)\u001b[49m\n",
      "\u001b[0;31mTypeError\u001b[0m: unhashable type: 'list'"
     ]
    }
   ],
   "source": [
    "# If list has nested list it will not convert to set\n",
    "\n",
    "l4 = [1, 23, 4, [3, 6, 7], 3, 4, 5, 'String1', 'Robin']\n",
    "\n",
    "set(l4)"
   ]
  },
  {
   "cell_type": "code",
   "execution_count": 31,
   "id": "1a816f21-5715-490c-bfba-c1256772a6ac",
   "metadata": {},
   "outputs": [
    {
     "data": {
      "text/plain": [
       "(2, 3, 'Robin', 4)"
      ]
     },
     "execution_count": 31,
     "metadata": {},
     "output_type": "execute_result"
    }
   ],
   "source": [
    "tuple(s2)"
   ]
  },
  {
   "cell_type": "code",
   "execution_count": 32,
   "id": "eb332dd3-cbd5-46e4-800e-2422161914c6",
   "metadata": {},
   "outputs": [
    {
     "ename": "TypeError",
     "evalue": "'set' object is not subscriptable",
     "output_type": "error",
     "traceback": [
      "\u001b[0;31m---------------------------------------------------------------------------\u001b[0m",
      "\u001b[0;31mTypeError\u001b[0m                                 Traceback (most recent call last)",
      "Cell \u001b[0;32mIn[32], line 3\u001b[0m\n\u001b[1;32m      1\u001b[0m \u001b[38;5;66;03m# No indexing works on sets\u001b[39;00m\n\u001b[0;32m----> 3\u001b[0m \u001b[43ms2\u001b[49m\u001b[43m[\u001b[49m\u001b[38;5;241;43m1\u001b[39;49m\u001b[43m]\u001b[49m\n",
      "\u001b[0;31mTypeError\u001b[0m: 'set' object is not subscriptable"
     ]
    }
   ],
   "source": [
    "# No indexing works on sets\n",
    "\n",
    "s2[1]"
   ]
  },
  {
   "cell_type": "markdown",
   "id": "2f69d27e-3503-450f-a9ef-3fbb3e1402f5",
   "metadata": {},
   "source": [
    "## Dictionary (dict)\n",
    "\n",
    "* Dictionary stores data in key value pair\n",
    "* it is created using { } (Currly braces) as set\n",
    "* In case of Dict we have Key Value pair but in Set it is only Value\n",
    "\n",
    "* Keys have to be unique"
   ]
  },
  {
   "cell_type": "code",
   "execution_count": 33,
   "id": "81e159b4-fdec-46eb-aaf2-351d05f27d32",
   "metadata": {},
   "outputs": [
    {
     "data": {
      "text/plain": [
       "dict"
      ]
     },
     "execution_count": 33,
     "metadata": {},
     "output_type": "execute_result"
    }
   ],
   "source": [
    "d = {}\n",
    "\n",
    "type(d)"
   ]
  },
  {
   "cell_type": "code",
   "execution_count": 34,
   "id": "4c315d5d-9021-4ed7-9893-cc15041e7648",
   "metadata": {},
   "outputs": [
    {
     "data": {
      "text/plain": [
       "dict"
      ]
     },
     "execution_count": 34,
     "metadata": {},
     "output_type": "execute_result"
    }
   ],
   "source": [
    "d1 = {'Name' : 'Robin', 'Interests' : ['AI ML', 'Cloud computing', 'End to End Development'],\n",
    "      'Age': 34}\n",
    "\n",
    "type(d1)"
   ]
  },
  {
   "cell_type": "code",
   "execution_count": 35,
   "id": "bfe5b92c-972d-47b3-91a7-faac4fcb27ea",
   "metadata": {},
   "outputs": [
    {
     "data": {
      "text/plain": [
       "{'Name': 'Robin',\n",
       " 'Interests': ['AI ML', 'Cloud computing', 'End to End Development'],\n",
       " 'Age': 34}"
      ]
     },
     "execution_count": 35,
     "metadata": {},
     "output_type": "execute_result"
    }
   ],
   "source": [
    "d1"
   ]
  },
  {
   "cell_type": "code",
   "execution_count": 36,
   "id": "10872cca-6327-425a-a9d9-62f60aca8cd3",
   "metadata": {},
   "outputs": [],
   "source": [
    "# Keys has to be unique\n",
    "d2 = {'Name' : 'Robin', 'Name': 'Robbie'}"
   ]
  },
  {
   "cell_type": "code",
   "execution_count": 37,
   "id": "80bfcdd6-44b4-4871-9aa6-a21aedb32276",
   "metadata": {},
   "outputs": [
    {
     "data": {
      "text/plain": [
       "{'Name': 'Robbie'}"
      ]
     },
     "execution_count": 37,
     "metadata": {},
     "output_type": "execute_result"
    }
   ],
   "source": [
    "d2"
   ]
  },
  {
   "cell_type": "code",
   "execution_count": 38,
   "id": "2446cdc0-63d5-4ffc-ad5f-9bd46cb1294d",
   "metadata": {},
   "outputs": [
    {
     "data": {
      "text/plain": [
       "{23: 'Robin'}"
      ]
     },
     "execution_count": 38,
     "metadata": {},
     "output_type": "execute_result"
    }
   ],
   "source": [
    "# Key as a Integer\n",
    "d3 = { 23: 'Robin'}\n",
    "d3"
   ]
  },
  {
   "cell_type": "code",
   "execution_count": 39,
   "id": "02514407-5cb9-49f3-bb94-f09051317e18",
   "metadata": {},
   "outputs": [
    {
     "ename": "TypeError",
     "evalue": "unhashable type: 'list'",
     "output_type": "error",
     "traceback": [
      "\u001b[0;31m---------------------------------------------------------------------------\u001b[0m",
      "\u001b[0;31mTypeError\u001b[0m                                 Traceback (most recent call last)",
      "Cell \u001b[0;32mIn[39], line 3\u001b[0m\n\u001b[1;32m      1\u001b[0m \u001b[38;5;66;03m# Lists or sets can not be taken a key as they are not hashables\u001b[39;00m\n\u001b[0;32m----> 3\u001b[0m d4 \u001b[38;5;241m=\u001b[39m {[\u001b[38;5;241m2\u001b[39m,\u001b[38;5;241m3\u001b[39m]: \u001b[38;5;124m'\u001b[39m\u001b[38;5;124mString Value\u001b[39m\u001b[38;5;124m'\u001b[39m}\n\u001b[1;32m      4\u001b[0m d4\n",
      "\u001b[0;31mTypeError\u001b[0m: unhashable type: 'list'"
     ]
    }
   ],
   "source": [
    "# Lists or sets can not be taken a key as they are not hashables\n",
    "\n",
    "d4 = {[2,3]: 'String Value'}\n",
    "d4"
   ]
  },
  {
   "cell_type": "code",
   "execution_count": 40,
   "id": "a0f27837-3afc-4035-8132-20eccca3026f",
   "metadata": {},
   "outputs": [
    {
     "ename": "TypeError",
     "evalue": "unhashable type: 'set'",
     "output_type": "error",
     "traceback": [
      "\u001b[0;31m---------------------------------------------------------------------------\u001b[0m",
      "\u001b[0;31mTypeError\u001b[0m                                 Traceback (most recent call last)",
      "Cell \u001b[0;32mIn[40], line 1\u001b[0m\n\u001b[0;32m----> 1\u001b[0m d5 \u001b[38;5;241m=\u001b[39m {{\u001b[38;5;241m1\u001b[39m,\u001b[38;5;241m2\u001b[39m}: \u001b[38;5;124m'\u001b[39m\u001b[38;5;124mValue\u001b[39m\u001b[38;5;124m'\u001b[39m}\n",
      "\u001b[0;31mTypeError\u001b[0m: unhashable type: 'set'"
     ]
    }
   ],
   "source": [
    "d5 = {{1,2}: 'Value'}"
   ]
  },
  {
   "cell_type": "code",
   "execution_count": 41,
   "id": "f0ed9c39-1547-4e10-8e24-be05118e9114",
   "metadata": {},
   "outputs": [
    {
     "data": {
      "text/plain": [
       "{(1, 2, 3): 'Value'}"
      ]
     },
     "execution_count": 41,
     "metadata": {},
     "output_type": "execute_result"
    }
   ],
   "source": [
    "# Tuples are allowed as a key of dictionary\n",
    "d6 = {(1,2,3) : 'Value'}\n",
    "d6"
   ]
  },
  {
   "cell_type": "code",
   "execution_count": 42,
   "id": "b7d6668b-163c-4922-a884-bd3172c95df9",
   "metadata": {},
   "outputs": [],
   "source": [
    "d7 = {'Course': ['Java', '.Net', 'AI ML', 'DSA'],\n",
    "     'Mentor': ('Sudh', 'Krish', 'Sunny'),\n",
    "     'Price': {3500, 3500, 20000, 15000},\n",
    "     'Duration': 1\n",
    "     }"
   ]
  },
  {
   "cell_type": "code",
   "execution_count": 43,
   "id": "ce497dbd-e0e9-4d71-8db8-e1328f1ff72c",
   "metadata": {},
   "outputs": [
    {
     "data": {
      "text/plain": [
       "{'Course': ['Java', '.Net', 'AI ML', 'DSA'],\n",
       " 'Mentor': ('Sudh', 'Krish', 'Sunny'),\n",
       " 'Price': {3500, 15000, 20000},\n",
       " 'Duration': 1}"
      ]
     },
     "execution_count": 43,
     "metadata": {},
     "output_type": "execute_result"
    }
   ],
   "source": [
    "d7"
   ]
  },
  {
   "cell_type": "code",
   "execution_count": 44,
   "id": "70c302e9-1402-4888-97b8-bb3d13c3c20d",
   "metadata": {},
   "outputs": [
    {
     "data": {
      "text/plain": [
       "('Sudh', 'Krish', 'Sunny')"
      ]
     },
     "execution_count": 44,
     "metadata": {},
     "output_type": "execute_result"
    }
   ],
   "source": [
    "#Acessing data from dictionary using keys\n",
    "d7['Mentor']"
   ]
  },
  {
   "cell_type": "code",
   "execution_count": 45,
   "id": "59463cdb-ad23-4fd1-98b0-484e1cb45b9a",
   "metadata": {},
   "outputs": [
    {
     "data": {
      "text/plain": [
       "['Java', '.Net', 'AI ML', 'DSA']"
      ]
     },
     "execution_count": 45,
     "metadata": {},
     "output_type": "execute_result"
    }
   ],
   "source": [
    "d7['Course']"
   ]
  },
  {
   "cell_type": "code",
   "execution_count": 46,
   "id": "1a0560c8-0ae5-47fc-b3f2-a4acfc44ade1",
   "metadata": {},
   "outputs": [],
   "source": [
    "# Adding new values to Dictionary\n",
    "\n",
    "d7['Phone'] = 100"
   ]
  },
  {
   "cell_type": "code",
   "execution_count": 47,
   "id": "953f32ad-ffd2-4bb4-81dd-8d8193bc295a",
   "metadata": {},
   "outputs": [
    {
     "data": {
      "text/plain": [
       "{'Course': ['Java', '.Net', 'AI ML', 'DSA'],\n",
       " 'Mentor': ('Sudh', 'Krish', 'Sunny'),\n",
       " 'Price': {3500, 15000, 20000},\n",
       " 'Duration': 1,\n",
       " 'Phone': 100}"
      ]
     },
     "execution_count": 47,
     "metadata": {},
     "output_type": "execute_result"
    }
   ],
   "source": [
    "d7"
   ]
  },
  {
   "cell_type": "code",
   "execution_count": 48,
   "id": "9decf7ec-12d1-4954-a446-6337c523a270",
   "metadata": {},
   "outputs": [
    {
     "data": {
      "text/plain": [
       "{'Course': ['Java', '.Net', 'AI ML', 'DSA'],\n",
       " 'Mentor': ('Sudh', 'Krish', 'Sunny'),\n",
       " 'Price': {3500, 15000, 20000},\n",
       " 'Duration': 2,\n",
       " 'Phone': 100}"
      ]
     },
     "execution_count": 48,
     "metadata": {},
     "output_type": "execute_result"
    }
   ],
   "source": [
    "# Changin value of key already existing\n",
    "d7['Duration'] = 2\n",
    "\n",
    "d7"
   ]
  },
  {
   "cell_type": "markdown",
   "id": "59faddb3-0820-4312-b9a1-47a5ebefa4d1",
   "metadata": {},
   "source": [
    "# In Built Functions"
   ]
  },
  {
   "cell_type": "code",
   "execution_count": 49,
   "id": "0023dca5-8348-4b4a-838c-92b9ceb40373",
   "metadata": {},
   "outputs": [
    {
     "data": {
      "text/plain": [
       "2"
      ]
     },
     "execution_count": 49,
     "metadata": {},
     "output_type": "execute_result"
    }
   ],
   "source": [
    "# Count function gives you count of repetition of substring\n",
    "s1 = 'Pwskills'\n",
    "\n",
    "s1.count('l')"
   ]
  },
  {
   "cell_type": "code",
   "execution_count": 50,
   "id": "3bc2e853-04bf-4660-95b4-7995564a8ded",
   "metadata": {},
   "outputs": [
    {
     "data": {
      "text/plain": [
       "2"
      ]
     },
     "execution_count": 50,
     "metadata": {},
     "output_type": "execute_result"
    }
   ],
   "source": [
    "# Find and index functions give index of substring\n",
    "s1.find('s')"
   ]
  },
  {
   "cell_type": "code",
   "execution_count": 51,
   "id": "905fdd0c-1dff-4994-a5be-f263b75e0a5d",
   "metadata": {},
   "outputs": [
    {
     "data": {
      "text/plain": [
       "2"
      ]
     },
     "execution_count": 51,
     "metadata": {},
     "output_type": "execute_result"
    }
   ],
   "source": [
    "s1.index('s')"
   ]
  },
  {
   "cell_type": "code",
   "execution_count": 52,
   "id": "bca34ed2-9a26-4054-b1b5-146658b532f0",
   "metadata": {},
   "outputs": [
    {
     "data": {
      "text/plain": [
       "-1"
      ]
     },
     "execution_count": 52,
     "metadata": {},
     "output_type": "execute_result"
    }
   ],
   "source": [
    "# Find return -1 if items in not found but index method raise an error\n",
    "s1.find('R')"
   ]
  },
  {
   "cell_type": "code",
   "execution_count": 53,
   "id": "4d67d6cf-6357-4921-932c-55c675dce318",
   "metadata": {},
   "outputs": [
    {
     "ename": "ValueError",
     "evalue": "substring not found",
     "output_type": "error",
     "traceback": [
      "\u001b[0;31m---------------------------------------------------------------------------\u001b[0m",
      "\u001b[0;31mValueError\u001b[0m                                Traceback (most recent call last)",
      "Cell \u001b[0;32mIn[53], line 1\u001b[0m\n\u001b[0;32m----> 1\u001b[0m \u001b[43ms1\u001b[49m\u001b[38;5;241;43m.\u001b[39;49m\u001b[43mindex\u001b[49m\u001b[43m(\u001b[49m\u001b[38;5;124;43m'\u001b[39;49m\u001b[38;5;124;43mR\u001b[39;49m\u001b[38;5;124;43m'\u001b[39;49m\u001b[43m)\u001b[49m\n",
      "\u001b[0;31mValueError\u001b[0m: substring not found"
     ]
    }
   ],
   "source": [
    "s1.index('R')"
   ]
  },
  {
   "cell_type": "code",
   "execution_count": 54,
   "id": "366dbaaf-a142-45f6-ad35-280c06d1e9e1",
   "metadata": {},
   "outputs": [
    {
     "data": {
      "text/plain": [
       "'PWSKILLS'"
      ]
     },
     "execution_count": 54,
     "metadata": {},
     "output_type": "execute_result"
    }
   ],
   "source": [
    "# Converting to UPPERCASE or lowercase\n",
    "\n",
    "s1.upper()"
   ]
  },
  {
   "cell_type": "code",
   "execution_count": 55,
   "id": "0291aea9-a086-41dd-9abb-f5e8b4428a72",
   "metadata": {},
   "outputs": [
    {
     "data": {
      "text/plain": [
       "'pwskills'"
      ]
     },
     "execution_count": 55,
     "metadata": {},
     "output_type": "execute_result"
    }
   ],
   "source": [
    "s1.lower()"
   ]
  },
  {
   "cell_type": "code",
   "execution_count": 56,
   "id": "362b99b1-a0be-4638-af02-ff4280c468a9",
   "metadata": {},
   "outputs": [
    {
     "data": {
      "text/plain": [
       "'This Is A String'"
      ]
     },
     "execution_count": 56,
     "metadata": {},
     "output_type": "execute_result"
    }
   ],
   "source": [
    "# Title - convert each word to Camel Casing (First char in upper case)\n",
    "\n",
    "s2 = 'this is a string'\n",
    "\n",
    "s2.title()"
   ]
  },
  {
   "cell_type": "code",
   "execution_count": 57,
   "id": "3302f6d9-b448-47e4-bed2-6b2defd59363",
   "metadata": {},
   "outputs": [
    {
     "data": {
      "text/plain": [
       "'This is a string'"
      ]
     },
     "execution_count": 57,
     "metadata": {},
     "output_type": "execute_result"
    }
   ],
   "source": [
    "# Capatilized - convert only first char of string to Upper Case\n",
    "\n",
    "s2.capitalize()"
   ]
  },
  {
   "cell_type": "code",
   "execution_count": 58,
   "id": "17cbf0d1-1d7f-4ccd-b3f8-d26d4f8ac313",
   "metadata": {},
   "outputs": [
    {
     "data": {
      "text/plain": [
       "['My name is Robin', ' I love coding']"
      ]
     },
     "execution_count": 58,
     "metadata": {},
     "output_type": "execute_result"
    }
   ],
   "source": [
    "# Splitting a string\n",
    "\n",
    "s3 = 'My name is Robin, I love coding'\n",
    "\n",
    "s3.split(',')"
   ]
  },
  {
   "cell_type": "code",
   "execution_count": 59,
   "id": "0cdc9798-e033-4c06-b56c-1264d6f27c72",
   "metadata": {},
   "outputs": [
    {
     "data": {
      "text/plain": [
       "['My', 'name', 'is', 'Robin,', 'I', 'love', 'coding']"
      ]
     },
     "execution_count": 59,
     "metadata": {},
     "output_type": "execute_result"
    }
   ],
   "source": [
    "# By default delimiter is space\n",
    "s3.split()"
   ]
  },
  {
   "cell_type": "code",
   "execution_count": 60,
   "id": "7d68d8d0-a14d-4e86-b876-7608feb5dad7",
   "metadata": {},
   "outputs": [
    {
     "data": {
      "text/plain": [
       "'My name is Robin, I am passionate about coding'"
      ]
     },
     "execution_count": 60,
     "metadata": {},
     "output_type": "execute_result"
    }
   ],
   "source": [
    "# Replace - replace the substring with another string\n",
    "s3.replace('love', 'am passionate about')"
   ]
  },
  {
   "cell_type": "code",
   "execution_count": 61,
   "id": "274984b0-ed1e-44f8-ae9e-1849cca00e66",
   "metadata": {},
   "outputs": [
    {
     "data": {
      "text/plain": [
       "'My name is Robin, I love coding'"
      ]
     },
     "execution_count": 61,
     "metadata": {},
     "output_type": "execute_result"
    }
   ],
   "source": [
    "s3"
   ]
  },
  {
   "cell_type": "code",
   "execution_count": 62,
   "id": "5b542dc3-c270-4731-b449-b2869363480c",
   "metadata": {},
   "outputs": [
    {
     "data": {
      "text/plain": [
       "'Pwskills'"
      ]
     },
     "execution_count": 62,
     "metadata": {},
     "output_type": "execute_result"
    }
   ],
   "source": [
    "s1"
   ]
  },
  {
   "cell_type": "code",
   "execution_count": 63,
   "id": "246cbcf8-d061-46d4-8fea-0ad0560e49a9",
   "metadata": {},
   "outputs": [
    {
     "data": {
      "text/plain": [
       "'                Pwskills                '"
      ]
     },
     "execution_count": 63,
     "metadata": {},
     "output_type": "execute_result"
    }
   ],
   "source": [
    "# Reserve number of given and fill rest part with fillers\n",
    "s1.center(40)"
   ]
  },
  {
   "cell_type": "code",
   "execution_count": 64,
   "id": "bfb75838-7ce5-4749-b827-c22977f40789",
   "metadata": {},
   "outputs": [
    {
     "data": {
      "text/plain": [
       "'****************Pwskills****************'"
      ]
     },
     "execution_count": 64,
     "metadata": {},
     "output_type": "execute_result"
    }
   ],
   "source": [
    "s1.center(40, '*')"
   ]
  },
  {
   "cell_type": "code",
   "execution_count": 65,
   "id": "5d78ea3c-5f35-4390-bf05-b8bf4a1eb759",
   "metadata": {},
   "outputs": [
    {
     "data": {
      "text/plain": [
       "True"
      ]
     },
     "execution_count": 65,
     "metadata": {},
     "output_type": "execute_result"
    }
   ],
   "source": [
    "s1.isalnum()"
   ]
  },
  {
   "cell_type": "code",
   "execution_count": 66,
   "id": "eebea056-373d-4127-9ba7-bc76928b780f",
   "metadata": {},
   "outputs": [
    {
     "data": {
      "text/plain": [
       "True"
      ]
     },
     "execution_count": 66,
     "metadata": {},
     "output_type": "execute_result"
    }
   ],
   "source": [
    "# Check is string is alpha numeric\n",
    "s1.isalpha()"
   ]
  },
  {
   "cell_type": "code",
   "execution_count": 67,
   "id": "a73af80f-c8fe-4a25-9e98-436e217c3c6d",
   "metadata": {},
   "outputs": [
    {
     "data": {
      "text/plain": [
       "'Pwskills'"
      ]
     },
     "execution_count": 67,
     "metadata": {},
     "output_type": "execute_result"
    }
   ],
   "source": [
    "s1"
   ]
  },
  {
   "cell_type": "code",
   "execution_count": 68,
   "id": "eb1bc67e-050e-4ec8-9dbe-a43b5302fcaa",
   "metadata": {},
   "outputs": [
    {
     "data": {
      "text/plain": [
       "False"
      ]
     },
     "execution_count": 68,
     "metadata": {},
     "output_type": "execute_result"
    }
   ],
   "source": [
    "# Check if given string is numeric or not\n",
    "s1.isnumeric()"
   ]
  },
  {
   "cell_type": "markdown",
   "id": "6fc05068-8835-4cb7-9bd3-069a471b4761",
   "metadata": {},
   "source": [
    "### List functions"
   ]
  },
  {
   "cell_type": "code",
   "execution_count": 69,
   "id": "a5dee73c-f6cc-43a0-87e2-0b0dfde31ea4",
   "metadata": {},
   "outputs": [],
   "source": [
    "l1 = [1,3,4]\n",
    "\n",
    "l2 = ['Robin', 'Pabbi', 4,5]"
   ]
  },
  {
   "cell_type": "code",
   "execution_count": 70,
   "id": "60a21a1d-108b-4757-8ed6-a0c5fe132c84",
   "metadata": {},
   "outputs": [
    {
     "data": {
      "text/plain": [
       "[1, 3, 4, 7]"
      ]
     },
     "execution_count": 70,
     "metadata": {},
     "output_type": "execute_result"
    }
   ],
   "source": [
    "# Append element at end\n",
    "l1.append(7)\n",
    "\n",
    "l1"
   ]
  },
  {
   "cell_type": "code",
   "execution_count": 71,
   "id": "6d1bf023-0176-4624-acd4-0fa636f461f0",
   "metadata": {},
   "outputs": [
    {
     "data": {
      "text/plain": [
       "[1, 'pwskills', 3, 4, 7]"
      ]
     },
     "execution_count": 71,
     "metadata": {},
     "output_type": "execute_result"
    }
   ],
   "source": [
    "# insert at given index\n",
    "l1.insert(1, 'pwskills')\n",
    "\n",
    "l1"
   ]
  },
  {
   "cell_type": "code",
   "execution_count": 72,
   "id": "968cdf93-39e3-435b-8347-4a5c6d5799e6",
   "metadata": {},
   "outputs": [
    {
     "data": {
      "text/plain": [
       "['Robin', 'Pabbi', 4, 5, 1, 'pwskills', 3, 4, 7]"
      ]
     },
     "execution_count": 72,
     "metadata": {},
     "output_type": "execute_result"
    }
   ],
   "source": [
    "# Extend the list by adding elements from iterable like other list etc\n",
    "l2.extend(l1)\n",
    "l2"
   ]
  },
  {
   "cell_type": "code",
   "execution_count": 73,
   "id": "7f8f7b91-64dc-4771-9758-3a2c9133d698",
   "metadata": {},
   "outputs": [
    {
     "data": {
      "text/plain": [
       "['Robin', 'Pabbi', 4, 5, 1, 'pwskills', 3, 4, 7, 'R', 'o', 'b', 'i', 'n']"
      ]
     },
     "execution_count": 73,
     "metadata": {},
     "output_type": "execute_result"
    }
   ],
   "source": [
    "# extending with string will append each char as separate entry\n",
    "l2.extend('Robin')\n",
    "\n",
    "l2"
   ]
  },
  {
   "cell_type": "code",
   "execution_count": 74,
   "id": "bfa6c1b3-aa7d-4521-848c-fd1296b7426a",
   "metadata": {},
   "outputs": [
    {
     "data": {
      "text/plain": [
       "[1, 2, 3, [2, 4]]"
      ]
     },
     "execution_count": 74,
     "metadata": {},
     "output_type": "execute_result"
    }
   ],
   "source": [
    "# Append and insert with iterable will add them as indiviual element \n",
    "# but extend will unwrap the list or iterable and then add each element\n",
    "\n",
    "l3 = [1,2,3]\n",
    "\n",
    "l3.append([2,4])\n",
    "\n",
    "l3"
   ]
  },
  {
   "cell_type": "code",
   "execution_count": 75,
   "id": "d1849817-f82b-48b9-8ac0-714651ec904c",
   "metadata": {},
   "outputs": [
    {
     "data": {
      "text/plain": [
       "[2, 4]"
      ]
     },
     "execution_count": 75,
     "metadata": {},
     "output_type": "execute_result"
    }
   ],
   "source": [
    "# pop will popup entry (return and remove) by default from last\n",
    "l3.pop()"
   ]
  },
  {
   "cell_type": "code",
   "execution_count": 76,
   "id": "f861ca4e-aafa-4580-b3db-0d8b2d267115",
   "metadata": {},
   "outputs": [
    {
     "data": {
      "text/plain": [
       "[1, 2, 3]"
      ]
     },
     "execution_count": 76,
     "metadata": {},
     "output_type": "execute_result"
    }
   ],
   "source": [
    "l3"
   ]
  },
  {
   "cell_type": "code",
   "execution_count": 77,
   "id": "5bb003dd-15df-480d-9b0d-ab0dde4eb47a",
   "metadata": {},
   "outputs": [
    {
     "data": {
      "text/plain": [
       "2"
      ]
     },
     "execution_count": 77,
     "metadata": {},
     "output_type": "execute_result"
    }
   ],
   "source": [
    "# Pop from index\n",
    "l3.pop(1)"
   ]
  },
  {
   "cell_type": "code",
   "execution_count": 78,
   "id": "5ec057e3-2e0c-4217-8e63-8d88f301c531",
   "metadata": {},
   "outputs": [
    {
     "data": {
      "text/plain": [
       "[1, 3]"
      ]
     },
     "execution_count": 78,
     "metadata": {},
     "output_type": "execute_result"
    }
   ],
   "source": [
    "l3"
   ]
  },
  {
   "cell_type": "code",
   "execution_count": 79,
   "id": "828b438d-60f4-45e5-b4dc-1d576555c170",
   "metadata": {},
   "outputs": [],
   "source": [
    "# del function - deletes the data along wil variable intialization or declaration\n",
    "\n",
    "del l3"
   ]
  },
  {
   "cell_type": "code",
   "execution_count": 80,
   "id": "91a055a1-0fb9-4d33-afa7-fe21c1ae7e83",
   "metadata": {},
   "outputs": [
    {
     "ename": "NameError",
     "evalue": "name 'l3' is not defined",
     "output_type": "error",
     "traceback": [
      "\u001b[0;31m---------------------------------------------------------------------------\u001b[0m",
      "\u001b[0;31mNameError\u001b[0m                                 Traceback (most recent call last)",
      "Cell \u001b[0;32mIn[80], line 1\u001b[0m\n\u001b[0;32m----> 1\u001b[0m \u001b[43ml3\u001b[49m\n",
      "\u001b[0;31mNameError\u001b[0m: name 'l3' is not defined"
     ]
    }
   ],
   "source": [
    "l3"
   ]
  },
  {
   "cell_type": "code",
   "execution_count": 81,
   "id": "c1e85391-8f06-43b1-a7c3-9624db26ec63",
   "metadata": {},
   "outputs": [
    {
     "data": {
      "text/plain": [
       "['Robin', 'Pabbi', 4, 5, 1, 'pwskills', 3, 4, 7, 'R', 'o', 'b', 'i', 'n']"
      ]
     },
     "execution_count": 81,
     "metadata": {},
     "output_type": "execute_result"
    }
   ],
   "source": [
    "l2"
   ]
  },
  {
   "cell_type": "code",
   "execution_count": 82,
   "id": "ee3d8d6c-9931-4fb7-96d2-08d614611778",
   "metadata": {},
   "outputs": [
    {
     "data": {
      "text/plain": [
       "['Robin', 'Pabbi', 4, 5, 1, 3, 4, 7, 'R', 'o', 'b', 'i', 'n']"
      ]
     },
     "execution_count": 82,
     "metadata": {},
     "output_type": "execute_result"
    }
   ],
   "source": [
    "# Remove - removes the first matching value\n",
    "\n",
    "l2.remove('pwskills')\n",
    "\n",
    "l2"
   ]
  },
  {
   "cell_type": "code",
   "execution_count": 83,
   "id": "6c7dcea4-43e4-4b18-930f-954e5fd3a5ab",
   "metadata": {},
   "outputs": [
    {
     "ename": "ValueError",
     "evalue": "list.remove(x): x not in list",
     "output_type": "error",
     "traceback": [
      "\u001b[0;31m---------------------------------------------------------------------------\u001b[0m",
      "\u001b[0;31mValueError\u001b[0m                                Traceback (most recent call last)",
      "Cell \u001b[0;32mIn[83], line 3\u001b[0m\n\u001b[1;32m      1\u001b[0m \u001b[38;5;66;03m# If we give element to remove which is not in list then error is raised\u001b[39;00m\n\u001b[0;32m----> 3\u001b[0m \u001b[43ml2\u001b[49m\u001b[38;5;241;43m.\u001b[39;49m\u001b[43mremove\u001b[49m\u001b[43m(\u001b[49m\u001b[38;5;124;43m'\u001b[39;49m\u001b[38;5;124;43mserew\u001b[39;49m\u001b[38;5;124;43m'\u001b[39;49m\u001b[43m)\u001b[49m\n",
      "\u001b[0;31mValueError\u001b[0m: list.remove(x): x not in list"
     ]
    }
   ],
   "source": [
    "# If we give element to remove which is not in list then error is raised\n",
    "\n",
    "l2.remove('serew')"
   ]
  },
  {
   "cell_type": "code",
   "execution_count": 84,
   "id": "67697f0a-ebe6-4401-9282-619303cdd842",
   "metadata": {},
   "outputs": [],
   "source": [
    "# Clearing the elements of list\n",
    "\n",
    "l2.clear()"
   ]
  },
  {
   "cell_type": "code",
   "execution_count": 85,
   "id": "f5376566-6a4c-4078-ac2e-e056c762dccc",
   "metadata": {},
   "outputs": [
    {
     "data": {
      "text/plain": [
       "[]"
      ]
     },
     "execution_count": 85,
     "metadata": {},
     "output_type": "execute_result"
    }
   ],
   "source": [
    "l2"
   ]
  },
  {
   "cell_type": "code",
   "execution_count": 86,
   "id": "8fd7c96a-8028-4f82-ab7f-431fa289334d",
   "metadata": {},
   "outputs": [
    {
     "data": {
      "text/plain": [
       "[1, 'pwskills', 3, 4, 7]"
      ]
     },
     "execution_count": 86,
     "metadata": {},
     "output_type": "execute_result"
    }
   ],
   "source": [
    "l1"
   ]
  },
  {
   "cell_type": "code",
   "execution_count": 87,
   "id": "d9a1afee-310b-4072-8ff7-bb6e9698f955",
   "metadata": {},
   "outputs": [
    {
     "data": {
      "text/plain": [
       "0"
      ]
     },
     "execution_count": 87,
     "metadata": {},
     "output_type": "execute_result"
    }
   ],
   "source": [
    "l1.count(2)"
   ]
  },
  {
   "cell_type": "code",
   "execution_count": 88,
   "id": "98d8edd8-1299-40ee-b5dd-65b8da140835",
   "metadata": {},
   "outputs": [
    {
     "data": {
      "text/plain": [
       "0"
      ]
     },
     "execution_count": 88,
     "metadata": {},
     "output_type": "execute_result"
    }
   ],
   "source": [
    "l1.index(1)"
   ]
  },
  {
   "cell_type": "code",
   "execution_count": 89,
   "id": "973982df-aed7-4c6d-b2b0-0d81594c0843",
   "metadata": {},
   "outputs": [],
   "source": [
    "# Reverse\n",
    "l1.reverse()"
   ]
  },
  {
   "cell_type": "code",
   "execution_count": 90,
   "id": "1bc39fe1-61c6-4ce0-9d12-1e9b7596f8dd",
   "metadata": {},
   "outputs": [
    {
     "data": {
      "text/plain": [
       "[7, 4, 3, 'pwskills', 1]"
      ]
     },
     "execution_count": 90,
     "metadata": {},
     "output_type": "execute_result"
    }
   ],
   "source": [
    "l1"
   ]
  },
  {
   "cell_type": "code",
   "execution_count": 91,
   "id": "aaf5e9e9-e788-44b2-91cc-fe298c47e8a5",
   "metadata": {},
   "outputs": [
    {
     "data": {
      "text/plain": [
       "[1, 2, 2, 3, 5, 6, 9]"
      ]
     },
     "execution_count": 91,
     "metadata": {},
     "output_type": "execute_result"
    }
   ],
   "source": [
    "# Sort - sorting data - by default in ascending order\n",
    "\n",
    "l3 = [3, 2, 1, 5, 2, 6, 9]\n",
    "\n",
    "l3.sort()\n",
    "\n",
    "l3"
   ]
  },
  {
   "cell_type": "code",
   "execution_count": 92,
   "id": "ac9a9937-bbfd-4eda-8d38-210b419ab23f",
   "metadata": {},
   "outputs": [],
   "source": [
    "# Sorting in descending order\n",
    "l3.sort(reverse=True)"
   ]
  },
  {
   "cell_type": "code",
   "execution_count": 93,
   "id": "ee37cfe4-6f00-4fb0-adf4-ee1a95749b9c",
   "metadata": {},
   "outputs": [
    {
     "data": {
      "text/plain": [
       "[9, 6, 5, 3, 2, 2, 1]"
      ]
     },
     "execution_count": 93,
     "metadata": {},
     "output_type": "execute_result"
    }
   ],
   "source": [
    "l3"
   ]
  },
  {
   "cell_type": "markdown",
   "id": "55e8215b-e0e5-4b0a-870a-f190376a5c77",
   "metadata": {},
   "source": [
    "#### Copy"
   ]
  },
  {
   "cell_type": "code",
   "execution_count": 94,
   "id": "4dc7decd-9b06-4612-bc4a-c25f044fee1b",
   "metadata": {},
   "outputs": [],
   "source": [
    "# Copying reference\n",
    "\n",
    "l0 = [2,3,4,5]\n",
    "l1 = l0"
   ]
  },
  {
   "cell_type": "code",
   "execution_count": 95,
   "id": "746e3a13-02c1-4d97-b0f1-e705a1b2fefd",
   "metadata": {},
   "outputs": [
    {
     "data": {
      "text/plain": [
       "[2, 3, 4, 5]"
      ]
     },
     "execution_count": 95,
     "metadata": {},
     "output_type": "execute_result"
    }
   ],
   "source": [
    "l1"
   ]
  },
  {
   "cell_type": "code",
   "execution_count": 96,
   "id": "95f6b079-bdba-42c4-a926-5a29c36b45f3",
   "metadata": {},
   "outputs": [
    {
     "data": {
      "text/plain": [
       "[2, 3, 4, 5]"
      ]
     },
     "execution_count": 96,
     "metadata": {},
     "output_type": "execute_result"
    }
   ],
   "source": [
    "l0"
   ]
  },
  {
   "cell_type": "code",
   "execution_count": 97,
   "id": "26194336-4916-47b4-a6dd-0cc978ce1c56",
   "metadata": {},
   "outputs": [],
   "source": [
    "l0[1] = 56"
   ]
  },
  {
   "cell_type": "code",
   "execution_count": 98,
   "id": "389ce407-64e8-41c5-bfd8-a2e947cbb24b",
   "metadata": {},
   "outputs": [
    {
     "data": {
      "text/plain": [
       "[2, 56, 4, 5]"
      ]
     },
     "execution_count": 98,
     "metadata": {},
     "output_type": "execute_result"
    }
   ],
   "source": [
    "l1"
   ]
  },
  {
   "cell_type": "code",
   "execution_count": 99,
   "id": "3f86e6a3-31f1-4517-97ac-52f29485b04e",
   "metadata": {},
   "outputs": [],
   "source": [
    "# Shallow copy\n",
    "\n",
    "l2 = l0.copy()"
   ]
  },
  {
   "cell_type": "code",
   "execution_count": 100,
   "id": "5fc0d810-f1f1-484e-bbc3-b71ff1e86fb8",
   "metadata": {},
   "outputs": [
    {
     "data": {
      "text/plain": [
       "[2, 56, 4, 5]"
      ]
     },
     "execution_count": 100,
     "metadata": {},
     "output_type": "execute_result"
    }
   ],
   "source": [
    "l2"
   ]
  },
  {
   "cell_type": "code",
   "execution_count": 101,
   "id": "1cf165f0-c3de-436d-a4ba-e75ef8988fa0",
   "metadata": {},
   "outputs": [],
   "source": [
    "l0[0] = 34"
   ]
  },
  {
   "cell_type": "code",
   "execution_count": 102,
   "id": "c6f9650f-c7c3-4cff-8fbf-6fe05640564a",
   "metadata": {},
   "outputs": [
    {
     "data": {
      "text/plain": [
       "[34, 56, 4, 5]"
      ]
     },
     "execution_count": 102,
     "metadata": {},
     "output_type": "execute_result"
    }
   ],
   "source": [
    "l0"
   ]
  },
  {
   "cell_type": "code",
   "execution_count": 103,
   "id": "46558fda-e18c-4d58-a4b7-2b85c6cfb2e2",
   "metadata": {},
   "outputs": [
    {
     "data": {
      "text/plain": [
       "[34, 56, 4, 5]"
      ]
     },
     "execution_count": 103,
     "metadata": {},
     "output_type": "execute_result"
    }
   ],
   "source": [
    "l1"
   ]
  },
  {
   "cell_type": "code",
   "execution_count": 104,
   "id": "64a9c800-84bb-4ffb-b3a3-70292c632aa1",
   "metadata": {},
   "outputs": [
    {
     "data": {
      "text/plain": [
       "[2, 56, 4, 5]"
      ]
     },
     "execution_count": 104,
     "metadata": {},
     "output_type": "execute_result"
    }
   ],
   "source": [
    "l2"
   ]
  },
  {
   "cell_type": "markdown",
   "id": "66e89efd-8776-4f64-8069-76ae5d3239a0",
   "metadata": {},
   "source": [
    "#### Tuple functions"
   ]
  },
  {
   "cell_type": "code",
   "execution_count": 105,
   "id": "c51be491-604e-4dff-8b2b-51d078161e60",
   "metadata": {},
   "outputs": [
    {
     "data": {
      "text/plain": [
       "2"
      ]
     },
     "execution_count": 105,
     "metadata": {},
     "output_type": "execute_result"
    }
   ],
   "source": [
    "t = (1,2,3,4,5)\n",
    "\n",
    "t.index(3)"
   ]
  },
  {
   "cell_type": "code",
   "execution_count": 106,
   "id": "0d14ebc0-82bb-4e91-bc4f-95c8065c90f4",
   "metadata": {},
   "outputs": [
    {
     "data": {
      "text/plain": [
       "1"
      ]
     },
     "execution_count": 106,
     "metadata": {},
     "output_type": "execute_result"
    }
   ],
   "source": [
    "t.count(3)"
   ]
  },
  {
   "cell_type": "markdown",
   "id": "c9b0899f-c011-45f0-bd5d-b306822c69b8",
   "metadata": {},
   "source": [
    "#### Set functions"
   ]
  },
  {
   "cell_type": "code",
   "execution_count": 107,
   "id": "78a03f58-6e33-4902-aece-21790be62e34",
   "metadata": {},
   "outputs": [
    {
     "data": {
      "text/plain": [
       "{2, 3, 4, 5, 6}"
      ]
     },
     "execution_count": 107,
     "metadata": {},
     "output_type": "execute_result"
    }
   ],
   "source": [
    "s = {2, 3, 4, 5, 6}\n",
    "\n",
    "s"
   ]
  },
  {
   "cell_type": "code",
   "execution_count": 108,
   "id": "64fd9229-49ab-46d7-b91a-003f4609a68a",
   "metadata": {},
   "outputs": [],
   "source": [
    "# Adding to set\n",
    "s.add(7)"
   ]
  },
  {
   "cell_type": "code",
   "execution_count": 109,
   "id": "abca69a7-27c4-4b62-9d12-b519d0fe44b4",
   "metadata": {},
   "outputs": [
    {
     "data": {
      "text/plain": [
       "{2, 3, 4, 5, 6, 7}"
      ]
     },
     "execution_count": 109,
     "metadata": {},
     "output_type": "execute_result"
    }
   ],
   "source": [
    "s "
   ]
  },
  {
   "cell_type": "code",
   "execution_count": 110,
   "id": "9b4bc986-69b9-4038-9ebc-ebc737af03b6",
   "metadata": {},
   "outputs": [],
   "source": [
    "# Clearing set\n",
    "s.clear()"
   ]
  },
  {
   "cell_type": "code",
   "execution_count": 111,
   "id": "b0b5eb6b-bfde-4561-9275-90a0b786c3b1",
   "metadata": {},
   "outputs": [
    {
     "data": {
      "text/plain": [
       "set()"
      ]
     },
     "execution_count": 111,
     "metadata": {},
     "output_type": "execute_result"
    }
   ],
   "source": [
    "s.copy()"
   ]
  },
  {
   "cell_type": "markdown",
   "id": "6db79439-0543-4931-a6d7-5ca52b87178f",
   "metadata": {},
   "source": [
    "#### Dictionary functions"
   ]
  },
  {
   "cell_type": "code",
   "execution_count": 112,
   "id": "7c8986e3-0465-412c-85dd-6873fc806035",
   "metadata": {},
   "outputs": [],
   "source": [
    "d = {'Name' : 'Robin', 'Age': 34, 'Experience': 13}"
   ]
  },
  {
   "cell_type": "code",
   "execution_count": 113,
   "id": "4aa78df2-480d-4999-b543-58e138ef213e",
   "metadata": {},
   "outputs": [
    {
     "data": {
      "text/plain": [
       "{'Name': 'Robin', 'Age': 34, 'Experience': 13}"
      ]
     },
     "execution_count": 113,
     "metadata": {},
     "output_type": "execute_result"
    }
   ],
   "source": [
    "d"
   ]
  },
  {
   "cell_type": "code",
   "execution_count": 114,
   "id": "4790499b-5ec3-4548-b3a3-87e270701646",
   "metadata": {},
   "outputs": [
    {
     "data": {
      "text/plain": [
       "dict_values(['Robin', 34, 13])"
      ]
     },
     "execution_count": 114,
     "metadata": {},
     "output_type": "execute_result"
    }
   ],
   "source": [
    "d.values()"
   ]
  },
  {
   "cell_type": "code",
   "execution_count": 115,
   "id": "e8fc7c47-2fcf-4f09-bf71-58c5cf6881b6",
   "metadata": {},
   "outputs": [
    {
     "data": {
      "text/plain": [
       "dict_keys(['Name', 'Age', 'Experience'])"
      ]
     },
     "execution_count": 115,
     "metadata": {},
     "output_type": "execute_result"
    }
   ],
   "source": [
    "d.keys()"
   ]
  },
  {
   "cell_type": "code",
   "execution_count": 116,
   "id": "dd05af86-e34e-419d-9394-1fb924315fb9",
   "metadata": {},
   "outputs": [
    {
     "data": {
      "text/plain": [
       "dict_items([('Name', 'Robin'), ('Age', 34), ('Experience', 13)])"
      ]
     },
     "execution_count": 116,
     "metadata": {},
     "output_type": "execute_result"
    }
   ],
   "source": [
    "d.items()"
   ]
  },
  {
   "cell_type": "code",
   "execution_count": 117,
   "id": "8342ccd6-6eb6-4429-8fed-0abe7935db56",
   "metadata": {},
   "outputs": [
    {
     "data": {
      "text/plain": [
       "'Robin'"
      ]
     },
     "execution_count": 117,
     "metadata": {},
     "output_type": "execute_result"
    }
   ],
   "source": [
    "d.get('Name')"
   ]
  },
  {
   "cell_type": "code",
   "execution_count": 118,
   "id": "ce446c72-e04e-4f91-886b-63d8374c14cf",
   "metadata": {},
   "outputs": [
    {
     "data": {
      "text/plain": [
       "13"
      ]
     },
     "execution_count": 118,
     "metadata": {},
     "output_type": "execute_result"
    }
   ],
   "source": [
    "d.pop('Experience')"
   ]
  },
  {
   "cell_type": "code",
   "execution_count": 119,
   "id": "942145d4-0528-4a36-8891-c81371fa23be",
   "metadata": {},
   "outputs": [
    {
     "data": {
      "text/plain": [
       "{'Name': 'Robin', 'Age': 34}"
      ]
     },
     "execution_count": 119,
     "metadata": {},
     "output_type": "execute_result"
    }
   ],
   "source": [
    "d"
   ]
  },
  {
   "cell_type": "code",
   "execution_count": null,
   "id": "171a13b5-782b-4fd4-9844-d4d208c4e4d1",
   "metadata": {},
   "outputs": [],
   "source": []
  }
 ],
 "metadata": {
  "kernelspec": {
   "display_name": "Python 3 (ipykernel)",
   "language": "python",
   "name": "python3"
  },
  "language_info": {
   "codemirror_mode": {
    "name": "ipython",
    "version": 3
   },
   "file_extension": ".py",
   "mimetype": "text/x-python",
   "name": "python",
   "nbconvert_exporter": "python",
   "pygments_lexer": "ipython3",
   "version": "3.10.8"
  }
 },
 "nbformat": 4,
 "nbformat_minor": 5
}
