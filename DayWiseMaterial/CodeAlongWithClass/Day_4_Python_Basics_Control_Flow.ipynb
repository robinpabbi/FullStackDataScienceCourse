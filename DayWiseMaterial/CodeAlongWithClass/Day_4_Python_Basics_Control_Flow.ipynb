{
 "cells": [
  {
   "cell_type": "markdown",
   "id": "c8bc826f-d382-40ce-aa63-57869bce016b",
   "metadata": {},
   "source": [
    "## Control Flow"
   ]
  },
  {
   "cell_type": "markdown",
   "id": "4f73ba26-8f49-464e-a016-e4f345738038",
   "metadata": {
    "jp-MarkdownHeadingCollapsed": true,
    "tags": []
   },
   "source": [
    "### If ... Else\n",
    "\n",
    "* if\n",
    "_____\n",
    "\n",
    "* if\n",
    "* else\n",
    "_____\n",
    "\n",
    "* if\n",
    "* elif\n",
    "* else"
   ]
  },
  {
   "cell_type": "code",
   "execution_count": 1,
   "id": "6680953c-f717-4941-96d2-0a5d9f5a0ee0",
   "metadata": {},
   "outputs": [
    {
     "name": "stdout",
     "output_type": "stream",
     "text": [
      "You are eligible to drive\n"
     ]
    }
   ],
   "source": [
    "age = 19\n",
    "\n",
    "if age >= 18:\n",
    "    print('You are eligible to drive')"
   ]
  },
  {
   "cell_type": "code",
   "execution_count": 2,
   "id": "b4818a16-8697-4a7c-bdb6-0b20407f3bd9",
   "metadata": {},
   "outputs": [
    {
     "name": "stdout",
     "output_type": "stream",
     "text": [
      "You are not eligible to drive\n"
     ]
    }
   ],
   "source": [
    "age = 17\n",
    "\n",
    "if age >= 18:\n",
    "    print('You are eligible to drive')\n",
    "else:\n",
    "    print('You are not eligible to drive')"
   ]
  },
  {
   "cell_type": "code",
   "execution_count": 3,
   "id": "fbf6cd60-2082-4a33-869a-7f3ff6eb3939",
   "metadata": {},
   "outputs": [
    {
     "name": "stdout",
     "output_type": "stream",
     "text": [
      "Grade B\n"
     ]
    }
   ],
   "source": [
    "score = 75\n",
    "\n",
    "if score >= 90:\n",
    "    print('Grade A+')\n",
    "elif score >= 80:\n",
    "    print('Grade A')\n",
    "elif score >= 70:\n",
    "    print('Grade B')\n",
    "else:\n",
    "    print('Grade C')"
   ]
  },
  {
   "cell_type": "code",
   "execution_count": 4,
   "id": "9836351a-9b7f-4121-930e-b6efc7bb6eec",
   "metadata": {},
   "outputs": [
    {
     "name": "stdout",
     "output_type": "stream",
     "text": [
      "Z i.e. 99 is largest number\n"
     ]
    }
   ],
   "source": [
    "# Find largest number using if elif else from given 3 numbers\n",
    "\n",
    "x = 20\n",
    "y = 30\n",
    "z = 99\n",
    "\n",
    "if x > y and x > z:\n",
    "    print(f'X i.e. {x} is largest number')\n",
    "elif y > z and y > z:\n",
    "    print(f'Y i.e. {y} is largest number')\n",
    "else:\n",
    "    print(f'Z i.e. {z} is largest number')"
   ]
  },
  {
   "cell_type": "code",
   "execution_count": 6,
   "id": "5c944e7c-f858-461c-8be6-7801ddeb80b8",
   "metadata": {},
   "outputs": [
    {
     "name": "stdin",
     "output_type": "stream",
     "text": [
      "Enter your operation mul\n",
      "Enter number 1:  5\n",
      "Enter number 2:  8\n"
     ]
    },
    {
     "name": "stdout",
     "output_type": "stream",
     "text": [
      "40\n"
     ]
    }
   ],
   "source": [
    "### Take operator and numbers perform operation using if elif else\n",
    "\n",
    "operator = input('Enter your operation')\n",
    "\n",
    "num1 = int(input('Enter number 1: '))\n",
    "num2 = int(input('Enter number 2: '))\n",
    "\n",
    "if operator.lower() == 'add':\n",
    "    print(num1 + num2)\n",
    "elif operator.lower() == 'sub':\n",
    "    print(num1 - num2)\n",
    "elif operator.lower() == 'mul':\n",
    "    print(num1 * num2)\n",
    "elif operator.lower() == 'div':\n",
    "    print(num1 / num2)\n",
    "else:\n",
    "    print('Invalid operation')"
   ]
  },
  {
   "cell_type": "markdown",
   "id": "c94a307c-48f7-4d20-8949-f005433ac862",
   "metadata": {},
   "source": [
    "### For Loops"
   ]
  },
  {
   "cell_type": "code",
   "execution_count": 9,
   "id": "dc099fd6-d581-4618-882c-b584624b1809",
   "metadata": {},
   "outputs": [
    {
     "name": "stdout",
     "output_type": "stream",
     "text": [
      "0 1 2 3 4 5 6 7 8 9 "
     ]
    }
   ],
   "source": [
    "for i in range(10):\n",
    "    print(i, end=' ')"
   ]
  },
  {
   "cell_type": "code",
   "execution_count": 10,
   "id": "64468caa-34e2-4816-82bb-5f22b458a82c",
   "metadata": {},
   "outputs": [
    {
     "name": "stdout",
     "output_type": "stream",
     "text": [
      "2\n",
      "3\n",
      "4\n",
      "5\n",
      "6\n",
      "7\n"
     ]
    }
   ],
   "source": [
    "for num in [2,3,4,5,6,7]:\n",
    "    print(num)"
   ]
  },
  {
   "cell_type": "code",
   "execution_count": 17,
   "id": "d183f204-8c32-4ceb-a47c-aa0b52ffe4b1",
   "metadata": {},
   "outputs": [
    {
     "name": "stdout",
     "output_type": "stream",
     "text": [
      "2\n",
      "3\n",
      "4\n",
      "5\n",
      "6\n",
      "7\n"
     ]
    }
   ],
   "source": [
    "values = [2,3,4,5,6,7]\n",
    "\n",
    "for i in range(len(values)):\n",
    "    print(values[i])"
   ]
  },
  {
   "cell_type": "code",
   "execution_count": 11,
   "id": "0958753e-c457-4ecb-925d-274c0ee7ab68",
   "metadata": {},
   "outputs": [
    {
     "name": "stdout",
     "output_type": "stream",
     "text": [
      "Robin\n",
      "Bangalore\n"
     ]
    }
   ],
   "source": [
    "x = {'Name': 'Robin', 'City': 'Bangalore'}\n",
    "\n",
    "for val in x.values():\n",
    "    print(val)"
   ]
  },
  {
   "cell_type": "code",
   "execution_count": 15,
   "id": "78e36f66-26d9-4e34-ad2e-e1222d95b7f7",
   "metadata": {},
   "outputs": [
    {
     "name": "stdout",
     "output_type": "stream",
     "text": [
      "Name: Robin\n",
      "City: Bangalore\n"
     ]
    }
   ],
   "source": [
    "for item in x.items():\n",
    "    print(f'{item[0]}: {item[1]}')"
   ]
  },
  {
   "cell_type": "code",
   "execution_count": 18,
   "id": "25756a04-3d07-440b-9cc3-e9c1d4405a19",
   "metadata": {},
   "outputs": [
    {
     "name": "stdout",
     "output_type": "stream",
     "text": [
      "Name\n",
      "City\n"
     ]
    }
   ],
   "source": [
    "# Dict looping by default gives keys\n",
    "\n",
    "for item in x:\n",
    "    print(f'{item}')"
   ]
  },
  {
   "cell_type": "code",
   "execution_count": 16,
   "id": "7fad2d1b-95c8-4bf1-96ea-745c7f20e471",
   "metadata": {},
   "outputs": [
    {
     "name": "stdout",
     "output_type": "stream",
     "text": [
      "R\n",
      "o\n",
      "b\n",
      "i\n",
      "n\n"
     ]
    }
   ],
   "source": [
    "# Loop on string\n",
    "for char in 'Robin':\n",
    "    print(char)"
   ]
  },
  {
   "cell_type": "code",
   "execution_count": 21,
   "id": "d9c5c0f9-6029-4097-a986-8b6ecb572069",
   "metadata": {},
   "outputs": [
    {
     "name": "stdout",
     "output_type": "stream",
     "text": [
      "* \n",
      "* * \n",
      "* * * \n",
      "* * * * \n",
      "* * * * * \n"
     ]
    }
   ],
   "source": [
    "# Nested for loop\n",
    "\n",
    "for i in range(5):\n",
    "    for j in range(i+1):\n",
    "        print('*', end=' ')\n",
    "    print('')\n"
   ]
  },
  {
   "cell_type": "code",
   "execution_count": 8,
   "id": "51086848-c1f3-4eea-9aee-8d8c2d1774a9",
   "metadata": {},
   "outputs": [
    {
     "name": "stdout",
     "output_type": "stream",
     "text": [
      "          * \n",
      "        * * * \n",
      "      * * * * * \n",
      "    * * * * * * * \n",
      "  * * * * * * * * * \n"
     ]
    }
   ],
   "source": [
    "count = 5\n",
    "for i in range(5):\n",
    "    for j in range(0, count):\n",
    "        print(' ', end=' ')\n",
    "    count -= 1\n",
    "    for j in range(1, (2*i)+2):\n",
    "        print('*', end=' ')\n",
    "    print('')"
   ]
  },
  {
   "cell_type": "code",
   "execution_count": 27,
   "id": "47df420c-e5f6-439c-ac78-217cf79c348c",
   "metadata": {},
   "outputs": [
    {
     "name": "stdout",
     "output_type": "stream",
     "text": [
      "1 2 3 4 5 \n",
      "2 4 6 8 10 \n",
      "3 6 9 12 15 \n",
      "4 8 12 16 20 \n",
      "5 10 15 20 25 \n"
     ]
    }
   ],
   "source": [
    "for i in range(1, 6):\n",
    "    for j in range (1, 6):\n",
    "        print(i*j, end=' ')\n",
    "    print('')"
   ]
  },
  {
   "cell_type": "markdown",
   "id": "d822a9a6-b40b-46c5-b248-7712bbde6a8a",
   "metadata": {},
   "source": [
    "### While Loop"
   ]
  },
  {
   "cell_type": "code",
   "execution_count": 28,
   "id": "711f773a-06eb-46a7-a617-51f8d8d42b55",
   "metadata": {},
   "outputs": [
    {
     "name": "stdout",
     "output_type": "stream",
     "text": [
      "1\n",
      "2\n",
      "3\n",
      "4\n",
      "5\n"
     ]
    }
   ],
   "source": [
    "count = 1\n",
    "\n",
    "while count <=5:\n",
    "    print(count)\n",
    "    count += 1\n",
    "    "
   ]
  },
  {
   "cell_type": "code",
   "execution_count": 38,
   "id": "00c798b0-2867-4344-afa3-0138b8e0a7c2",
   "metadata": {},
   "outputs": [
    {
     "name": "stdout",
     "output_type": "stream",
     "text": [
      "Hint: I am not that young\n"
     ]
    },
    {
     "name": "stdin",
     "output_type": "stream",
     "text": [
      "Guess my age:  45\n"
     ]
    },
    {
     "name": "stdout",
     "output_type": "stream",
     "text": [
      "Hint: I am not that old\n"
     ]
    },
    {
     "name": "stdin",
     "output_type": "stream",
     "text": [
      "Guess my age:  21\n"
     ]
    },
    {
     "name": "stdout",
     "output_type": "stream",
     "text": [
      "Hint: I am not that young\n"
     ]
    },
    {
     "name": "stdin",
     "output_type": "stream",
     "text": [
      "Guess my age:  34\n"
     ]
    },
    {
     "name": "stdout",
     "output_type": "stream",
     "text": [
      "You are correct!\n"
     ]
    }
   ],
   "source": [
    "# While and else\n",
    "age = 0\n",
    "while age != 34:\n",
    "    if(age > 34):\n",
    "        print('Hint: I am not that old')\n",
    "    else:\n",
    "        print('Hint: I am not that young')\n",
    "    age = int(input('Guess my age: '))\n",
    "else:\n",
    "    print('You are correct!')"
   ]
  },
  {
   "cell_type": "code",
   "execution_count": null,
   "id": "302c438e-d19c-4fc5-b6d7-c7465bd6978f",
   "metadata": {},
   "outputs": [],
   "source": []
  }
 ],
 "metadata": {
  "kernelspec": {
   "display_name": "Python 3 (ipykernel)",
   "language": "python",
   "name": "python3"
  },
  "language_info": {
   "codemirror_mode": {
    "name": "ipython",
    "version": 3
   },
   "file_extension": ".py",
   "mimetype": "text/x-python",
   "name": "python",
   "nbconvert_exporter": "python",
   "pygments_lexer": "ipython3",
   "version": "3.10.8"
  }
 },
 "nbformat": 4,
 "nbformat_minor": 5
}
