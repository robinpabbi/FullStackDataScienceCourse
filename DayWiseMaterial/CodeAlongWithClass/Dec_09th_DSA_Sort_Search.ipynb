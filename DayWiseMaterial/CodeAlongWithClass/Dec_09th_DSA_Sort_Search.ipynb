{
 "cells": [
  {
   "cell_type": "markdown",
   "metadata": {},
   "source": [
    "### **Problem 1 :**\n",
    "Find the Rotation Count in Rotated Sorted array\n",
    "Input: arr[] = {15, 18, 2, 3, 6, 12}\n",
    "Output: 2\n",
    "Explanation: Initial array must be {2, 3, 6, 12, 15, 18}.\n",
    "We get the given array after rotating the initial array twice."
   ]
  },
  {
   "cell_type": "code",
   "execution_count": 9,
   "metadata": {},
   "outputs": [
    {
     "data": {
      "text/plain": [
       "5"
      ]
     },
     "execution_count": 9,
     "metadata": {},
     "output_type": "execute_result"
    }
   ],
   "source": [
    "# True for Right rotation only\n",
    "def find_no_of_rotations(arr):\n",
    "    minIndex = 0\n",
    "    for i in range(1, len(arr)):\n",
    "        if arr[i] < arr[i-1]:\n",
    "            minIndex = i\n",
    "            return minIndex\n",
    "    return minIndex\n",
    "\n",
    "find_no_of_rotations([3, 6, 12, 15, 18, 2])"
   ]
  },
  {
   "cell_type": "code",
   "execution_count": 8,
   "metadata": {},
   "outputs": [
    {
     "data": {
      "text/plain": [
       "5"
      ]
     },
     "execution_count": 8,
     "metadata": {},
     "output_type": "execute_result"
    }
   ],
   "source": [
    "def find_no_of_rotations(arr):\n",
    "    length_of_arry = len(arr)\n",
    "\n",
    "    for i in range(0, len(arr)):\n",
    "        if arr[i-1] > arr[i] < arr[(i+1)%length_of_arry]:\n",
    "            return i\n",
    "\n",
    "find_no_of_rotations([3, 6, 12, 15, 18, 2])"
   ]
  },
  {
   "cell_type": "code",
   "execution_count": 14,
   "metadata": {
    "tags": [
     "parameters"
    ]
   },
   "outputs": [
    {
     "data": {
      "text/plain": [
       "5"
      ]
     },
     "execution_count": 14,
     "metadata": {},
     "output_type": "execute_result"
    }
   ],
   "source": [
    "# Efficient to find min - using binary search variation\n",
    "\n",
    "def find_no_of_rotations_binary(arr):\n",
    "    n = len(arr)\n",
    "    left = 0\n",
    "    right = n - 1\n",
    "\n",
    "    while left <= right:\n",
    "        mid = left + (right - left)//2\n",
    "\n",
    "        prev_indx = (mid - 1 + n) % n\n",
    "        next_indx = (mid + 1) % n\n",
    "\n",
    "        if arr[prev_indx] > arr[mid] < arr[next_indx]:\n",
    "            return mid\n",
    "\n",
    "        # If min is on left hand side\n",
    "        if arr[left] < arr[right]:\n",
    "            right = mid - 1\n",
    "        else:\n",
    "            left = mid + 1       \n",
    "        \n",
    "\n",
    "find_no_of_rotations_binary([15, 18, 20, 3, 6, 12])"
   ]
  },
  {
   "cell_type": "markdown",
   "metadata": {},
   "source": [
    "### **Problem 2 :**\n",
    "Given an array of integers, print the array in such a way that the first element is first maximum and second element is first minimum and so on.\n",
    "Examples :\n",
    "Input : arr[] = {7, 1, 2, 3, 4, 5, 6}\n",
    "Output : 7 1 6 2 5 3 4\n"
   ]
  },
  {
   "cell_type": "code",
   "execution_count": 17,
   "metadata": {},
   "outputs": [
    {
     "name": "stdout",
     "output_type": "stream",
     "text": [
      "7,1,6,2,5,3,"
     ]
    }
   ],
   "source": [
    "## Approach is to sort the array and then take 2 pointers approach to print elements\n",
    "\n",
    "def print_max_min(arr):\n",
    "    sort_array(arr)\n",
    "\n",
    "    left = 0\n",
    "    right = len(arr) - 1\n",
    "\n",
    "    while(left < right):\n",
    "        print(arr[right], end = ',')\n",
    "        print(arr[left], end =',')\n",
    "        left += 1\n",
    "        right -= 1\n",
    "\n",
    "def sort_array(arr):\n",
    "    for i in range(1, len(arr)):\n",
    "        el = arr[i]\n",
    "        j = i\n",
    "        while(j>=1 and arr[j-1] > el):\n",
    "            arr[j] = arr[j - 1]\n",
    "            j = j - 1\n",
    "        arr[j] = el\n",
    "    return arr\n",
    "\n",
    "print_max_min([7, 1, 2, 3, 4, 5, 6])"
   ]
  },
  {
   "cell_type": "markdown",
   "metadata": {},
   "source": [
    "### **Problem 3 :** Sort an array in wave form\n",
    "Given an unsorted array of integers, sort the array into a wave like array. An array ‘arr[0..n-1]’ is sorted in wave form if arr[0] >= arr[1] <= arr[2] >= arr[3] <= arr[4] >= …..\n",
    "Examples:\n",
    " Input:  arr[] = {10, 5, 6, 3, 2, 20, 100, 80}\n",
    " Output: arr[] = {10, 5, 6, 2, 20, 3, 100, 80} OR\n",
    "             \t{20, 5, 10, 2, 80, 6, 100, 3} OR\n",
    "             \tany other array that is in wave form"
   ]
  },
  {
   "cell_type": "code",
   "execution_count": 13,
   "metadata": {},
   "outputs": [],
   "source": [
    "# Same approach will work as que 2 i.e Sort an array and use two pointers and use right and left\n",
    "# Other approach is to sort and then swap elements of even elements   "
   ]
  },
  {
   "cell_type": "code",
   "execution_count": 12,
   "metadata": {},
   "outputs": [
    {
     "name": "stdout",
     "output_type": "stream",
     "text": [
      "[10, 5, 6, 2, 3, 20, 100, 80]\n"
     ]
    },
    {
     "data": {
      "text/plain": [
       "[10, 5, 6, 2, 20, 3, 100, 80]"
      ]
     },
     "execution_count": 12,
     "metadata": {},
     "output_type": "execute_result"
    }
   ],
   "source": [
    "### Simply trverse on even index an check if element at even index is smaller than left and right elements (i -1 ) and (i + 1)\n",
    "### Else swap with right element\n",
    "\n",
    "def wave_array(arr):\n",
    "    length_of_arr = len(arr)\n",
    "    \n",
    "    for i in range(0, length_of_arr, 2):\n",
    "        \n",
    "        if i > 0 and arr[i-1] > arr[i]:\n",
    "            arr[i-1], arr[i] = arr[i], arr[i-1]\n",
    "            print(arr)\n",
    "        \n",
    "        if i < (length_of_arr - 1) and arr[i+1] > arr[i]:\n",
    "            arr[i+1], arr[i] = arr[i], arr[i+1]\n",
    "\n",
    "\n",
    "    return arr\n",
    "\n",
    "wave_array([10, 5, 6, 3, 2, 20, 100, 80])"
   ]
  },
  {
   "cell_type": "markdown",
   "metadata": {},
   "source": [
    "### **Problem 4 :**\n",
    "\n",
    "Merge an array of size n into another array of size m+n in sorted order"
   ]
  },
  {
   "cell_type": "code",
   "execution_count": 25,
   "metadata": {},
   "outputs": [
    {
     "data": {
      "text/plain": [
       "[2, 3, 4, 5, 6, 9]"
      ]
     },
     "execution_count": 25,
     "metadata": {},
     "output_type": "execute_result"
    }
   ],
   "source": [
    "## Approach - End element of each array are largest (as they are sorted)\n",
    "## larger of these is lrgest element of result array\n",
    "## Insert empty spaces in target array and use three pointers \n",
    "##     end elements of 1 array\n",
    "##     end elements of 2 array\n",
    "##     end of the result array (arr1) - where we are going to insert largest elements\n",
    "\n",
    "def merge_arrays_sorted(arr1, arr2):\n",
    "    target_arr = arr1\n",
    "    length_1 = len(arr1)\n",
    "    length_2 = len(arr2)\n",
    "\n",
    "    # Insert empty spaces in the target array\n",
    "    for i in range(length_2):\n",
    "        arr1.append(None)\n",
    "\n",
    "    i = length_1 - 1\n",
    "    j = length_2 - 1\n",
    "    k = length_1 + length_2 - 1\n",
    "\n",
    "    while i >= 0 and j >= 0:\n",
    "        if arr1[i] > arr2[j]:\n",
    "            arr1[k] = arr1[i]\n",
    "            i -= 1\n",
    "        else:\n",
    "            arr1[k] = arr2[j]\n",
    "            j -= 1\n",
    "        k -= 1\n",
    "\n",
    "    while i >= 0:\n",
    "        arr1[k] = arr1[i]\n",
    "        i -= 1\n",
    "        k -= 1\n",
    "\n",
    "    while j >= 0:\n",
    "        arr1[k] = arr2[j]\n",
    "        j -= 1\n",
    "        k -= 1  \n",
    "\n",
    "arr1 = [3,5,9]\n",
    "arr2 = [2,4,6]\n",
    "merge_arrays_sorted(arr1, arr2)\n",
    "\n",
    "arr1"
   ]
  },
  {
   "cell_type": "markdown",
   "metadata": {},
   "source": [
    "### **Problem 5 :** Sort an array containing two types of elements\n",
    "We are given an array of 0s and 1s in random order. Segregate 0s on left side and 1s on right side of the array. Traverse array only once.\n",
    "Examples:\n",
    "Input :  arr[] = [0, 1, 0, 1, 0, 0, 1, 1, 1, 0]\n",
    "Output : arr[] = [0, 0, 0, 0, 0, 1, 1, 1, 1, 1]\n"
   ]
  },
  {
   "cell_type": "code",
   "execution_count": 1,
   "metadata": {},
   "outputs": [
    {
     "data": {
      "text/plain": [
       "[0, 0, 0, 0, 0, 1, 1, 1, 1, 1]"
      ]
     },
     "execution_count": 1,
     "metadata": {},
     "output_type": "execute_result"
    }
   ],
   "source": [
    "# Approach - using two pointers left and right\n",
    "# left will search for 1s and right will search for 0s\n",
    "# when found then swap\n",
    "# Time Complexity - O(n) - single traverse\n",
    "\n",
    "def sort_two_element_array(arr):\n",
    "    # left_bigger_elem_index\n",
    "    left = 0\n",
    "    # right_smaller_elem_index \n",
    "    right = len(arr) - 1\n",
    "\n",
    "    while left < right:\n",
    "\n",
    "        while arr[left] == 0:\n",
    "            left += 1\n",
    "    \n",
    "        while arr[right] == 1 and left < right:\n",
    "            right -= 1\n",
    "        \n",
    "        if left < right:\n",
    "            arr[left], arr[right] = arr[right], arr[left]\n",
    "    \n",
    "    return arr\n",
    "\n",
    "sort_two_element_array([0, 1, 0, 1, 0, 0, 1, 1, 1, 0])"
   ]
  }
 ],
 "metadata": {
  "kernelspec": {
   "display_name": "base",
   "language": "python",
   "name": "python3"
  },
  "language_info": {
   "codemirror_mode": {
    "name": "ipython",
    "version": 3
   },
   "file_extension": ".py",
   "mimetype": "text/x-python",
   "name": "python",
   "nbconvert_exporter": "python",
   "pygments_lexer": "ipython3",
   "version": "3.11.4"
  }
 },
 "nbformat": 4,
 "nbformat_minor": 2
}
