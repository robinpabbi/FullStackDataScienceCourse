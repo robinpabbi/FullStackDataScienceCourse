{
 "cells": [
  {
   "cell_type": "code",
   "execution_count": 3,
   "metadata": {},
   "outputs": [],
   "source": [
    "class Node:\n",
    "\n",
    "    def __init__(self, data, next = None):\n",
    "        self.data = data\n",
    "        self.next = next\n",
    "    \n",
    "    def setData(self, data):\n",
    "        self.data = data\n",
    "\n",
    "    def getData(self):\n",
    "        return self.data\n",
    "    \n",
    "    def getNext(self):\n",
    "        return self.next\n",
    "    \n",
    "    def setNext(self, next):\n",
    "        self.next = next"
   ]
  },
  {
   "cell_type": "code",
   "execution_count": 45,
   "metadata": {},
   "outputs": [
    {
     "name": "stdout",
     "output_type": "stream",
     "text": [
      "1->2->3->4->5->"
     ]
    }
   ],
   "source": [
    "head = Node(1)\n",
    "node2 = Node(2)\n",
    "node3 = Node(3)\n",
    "node4 = Node(4)\n",
    "node5 = Node(5)\n",
    "\n",
    "head.setNext(node2)\n",
    "node2.setNext(node3)\n",
    "node3.setNext(node4)\n",
    "node4.setNext(node5)\n",
    "\n",
    "def traverse(head):\n",
    "    temp = head\n",
    "    while(temp):\n",
    "        print(temp.getData(), end=\"->\")\n",
    "        temp = temp.getNext()\n",
    "\n",
    "traverse(head)"
   ]
  },
  {
   "cell_type": "markdown",
   "metadata": {},
   "source": [
    "# Find the centre of the Linked List"
   ]
  },
  {
   "cell_type": "code",
   "execution_count": 12,
   "metadata": {},
   "outputs": [
    {
     "data": {
      "text/plain": [
       "3"
      ]
     },
     "execution_count": 12,
     "metadata": {},
     "output_type": "execute_result"
    }
   ],
   "source": [
    "def find_middle(head):\n",
    "    slow_ptr = head\n",
    "    fast_ptr = head\n",
    "\n",
    "    while(fast_ptr != None and fast_ptr.getNext() != None):\n",
    "        slow_ptr = slow_ptr.getNext()\n",
    "        fast_ptr = fast_ptr.getNext().getNext()\n",
    "    \n",
    "    return slow_ptr.getData()\n",
    "\n",
    "find_middle(head)"
   ]
  },
  {
   "cell_type": "markdown",
   "metadata": {},
   "source": [
    "# Find if linked list contains loop"
   ]
  },
  {
   "cell_type": "code",
   "execution_count": 21,
   "metadata": {},
   "outputs": [
    {
     "data": {
      "text/plain": [
       "False"
      ]
     },
     "execution_count": 21,
     "metadata": {},
     "output_type": "execute_result"
    }
   ],
   "source": [
    "def contains_loop(head):    \n",
    "    slow_ptr = head\n",
    "    fast_ptr = head\n",
    "\n",
    "    while(fast_ptr != None and fast_ptr.getNext() != None):        \n",
    "        slow_ptr = slow_ptr.getNext()\n",
    "        fast_ptr = fast_ptr.getNext().getNext()\n",
    "        \n",
    "        if slow_ptr == fast_ptr:\n",
    "            return True\n",
    "\n",
    "    return False\n",
    "\n",
    "contains_loop(head)"
   ]
  },
  {
   "cell_type": "markdown",
   "metadata": {},
   "source": [
    "# Find the starting point of cycle in the linked list "
   ]
  },
  {
   "cell_type": "markdown",
   "metadata": {},
   "source": [
    "```\n",
    "--- x ----- | ------------ y\n",
    "1 --> 2 --> 3 --> 4 --> 5 |\n",
    "          | ^           | |\n",
    "          | |           V |\n",
    "          | 8 <-- 7 <-- 6 |\n",
    "          |_____ Z _______\\         \n",
    "```\n",
    "\n",
    "Fast ptr moves 2 steps\n",
    "slow ptr moves 1 steps\n",
    "\n",
    "when slow becomes equal to Fast\n",
    "\n",
    "```\n",
    "slow moves x+y\n",
    "Fast moves x + y + z + y\n",
    "\n",
    "fast = 2 slow distance\n",
    "\n",
    "x+z+2y = 2(x+y) ==>  x + z + 2y = 2x + 2y\n",
    "\n",
    "=> x + z = 2x\n",
    "=> x = z\n",
    "\n",
    "```\n",
    "\n",
    "so moving from head and current pointer will take same steps (x and z) to reach Start of cycle"
   ]
  },
  {
   "cell_type": "code",
   "execution_count": 30,
   "metadata": {},
   "outputs": [],
   "source": [
    "def getStartOfLoop(head):\n",
    "    slow_ptr = head\n",
    "    fast_ptr = head\n",
    "\n",
    "    containLoop = False\n",
    "\n",
    "    while (fast_ptr != None and fast_ptr.getNext() != None):\n",
    "        slow_ptr = slow_ptr.getNext()\n",
    "        fast_ptr = fast_ptr.getNext().getNext()\n",
    "\n",
    "        if slow_ptr == fast_ptr:\n",
    "            containLoop = True\n",
    "            break\n",
    "    \n",
    "    if not containLoop:\n",
    "        return None\n",
    "    \n",
    "    # Till here slow and fast ptrs are pointing to common point\n",
    "    temp = head\n",
    "\n",
    "    # From head move 1 steps and move slow ptr one point at time\n",
    "    # they will meet at starting point of the loop\n",
    "    while (temp != slow_ptr):\n",
    "        temp = temp.getNext()\n",
    "        slow_ptr = slow_ptr.getNext()\n",
    "    \n",
    "    return slow_ptr.getData()"
   ]
  },
  {
   "cell_type": "code",
   "execution_count": 39,
   "metadata": {},
   "outputs": [
    {
     "data": {
      "text/plain": [
       "4"
      ]
     },
     "execution_count": 39,
     "metadata": {},
     "output_type": "execute_result"
    }
   ],
   "source": [
    "head = Node(1)\n",
    "node2 = Node(2)\n",
    "node3 = Node(3)\n",
    "node4 = Node(4)\n",
    "node5 = Node(5)\n",
    "node6 = Node(6)\n",
    "node7 = Node(7)\n",
    "\n",
    "head.setNext(node2)\n",
    "node2.setNext(node3)\n",
    "node3.setNext(node4)\n",
    "node4.setNext(node5)\n",
    "node5.setNext(node6)\n",
    "node6.setNext(node7)\n",
    "node7.setNext(node4)\n",
    "\n",
    "getStartOfLoop(head)"
   ]
  },
  {
   "cell_type": "markdown",
   "metadata": {},
   "source": [
    "### Reverse a linked list"
   ]
  },
  {
   "cell_type": "code",
   "execution_count": 54,
   "metadata": {},
   "outputs": [],
   "source": [
    "def reverse_list(head):    \n",
    "    prev_node = None\n",
    "    current_node = head\n",
    "    \n",
    "    while(current_node != None):\n",
    "        temp = prev_node\n",
    "        prev_node = current_node\n",
    "        current_node = current_node.getNext()\n",
    "        prev_node.setNext(temp)\n",
    "\n",
    "    return prev_node"
   ]
  },
  {
   "cell_type": "code",
   "execution_count": 55,
   "metadata": {},
   "outputs": [
    {
     "name": "stdout",
     "output_type": "stream",
     "text": [
      "1->2->3->4->5->6->\n",
      "Reversing list..\n",
      "6->5->4->3->2->1->"
     ]
    }
   ],
   "source": [
    "head = Node(1)\n",
    "node2 = Node(2)\n",
    "node3 = Node(3)\n",
    "node4 = Node(4)\n",
    "node5 = Node(5)\n",
    "node6 = Node(6)\n",
    "\n",
    "head.setNext(node2)\n",
    "node2.setNext(node3)\n",
    "node3.setNext(node4)\n",
    "node4.setNext(node5)\n",
    "node5.setNext(node6)\n",
    "\n",
    "traverse(head)\n",
    "print()\n",
    "print('Reversing list..')\n",
    "head = reverse_list(head)\n",
    "\n",
    "traverse(head)"
   ]
  },
  {
   "cell_type": "markdown",
   "metadata": {},
   "source": []
  }
 ],
 "metadata": {
  "kernelspec": {
   "display_name": "base",
   "language": "python",
   "name": "python3"
  },
  "language_info": {
   "codemirror_mode": {
    "name": "ipython",
    "version": 3
   },
   "file_extension": ".py",
   "mimetype": "text/x-python",
   "name": "python",
   "nbconvert_exporter": "python",
   "pygments_lexer": "ipython3",
   "version": "3.11.4"
  }
 },
 "nbformat": 4,
 "nbformat_minor": 2
}
